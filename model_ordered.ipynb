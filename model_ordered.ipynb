{
 "cells": [
  {
   "cell_type": "markdown",
   "metadata": {},
   "source": [
    "# Modelagem"
   ]
  },
  {
   "cell_type": "code",
   "execution_count": 1,
   "metadata": {},
   "outputs": [],
   "source": [
    "import random"
   ]
  },
  {
   "cell_type": "code",
   "execution_count": 2,
   "metadata": {},
   "outputs": [],
   "source": [
    "import pandas as pd\n",
    "pd.set_option('display.max_columns', None)\n",
    "pd.set_option('display.max_rows', None)\n",
    "\n",
    "import numpy as np"
   ]
  },
  {
   "cell_type": "code",
   "execution_count": 3,
   "metadata": {},
   "outputs": [],
   "source": [
    "df = pd.read_csv('waitlist_kidney_brazil_prepared.csv', encoding='iso-8859-1')"
   ]
  },
  {
   "cell_type": "code",
   "execution_count": 4,
   "metadata": {},
   "outputs": [
    {
     "data": {
      "text/html": [
       "<div>\n",
       "<style scoped>\n",
       "    .dataframe tbody tr th:only-of-type {\n",
       "        vertical-align: middle;\n",
       "    }\n",
       "\n",
       "    .dataframe tbody tr th {\n",
       "        vertical-align: top;\n",
       "    }\n",
       "\n",
       "    .dataframe thead th {\n",
       "        text-align: right;\n",
       "    }\n",
       "</style>\n",
       "<table border=\"1\" class=\"dataframe\">\n",
       "  <thead>\n",
       "    <tr style=\"text-align: right;\">\n",
       "      <th></th>\n",
       "      <th>date_registered</th>\n",
       "      <th>age_registered</th>\n",
       "      <th>dialysis_session_count</th>\n",
       "      <th>sex</th>\n",
       "      <th>underlying_disease</th>\n",
       "      <th>diabetes</th>\n",
       "      <th>chagas</th>\n",
       "      <th>blood_type</th>\n",
       "      <th>transfusion_count</th>\n",
       "      <th>gestation</th>\n",
       "      <th>prior_transplant</th>\n",
       "      <th>c_pra</th>\n",
       "      <th>hla_a1</th>\n",
       "      <th>hla_a2</th>\n",
       "      <th>hla_b1</th>\n",
       "      <th>hla_b2</th>\n",
       "      <th>hla_dr1</th>\n",
       "      <th>hla_dr2</th>\n",
       "      <th>dr_00</th>\n",
       "      <th>b_00</th>\n",
       "      <th>a_00</th>\n",
       "      <th>anti_hbc</th>\n",
       "      <th>anti_hcv</th>\n",
       "      <th>hbs_ag</th>\n",
       "      <th>event</th>\n",
       "      <th>days_waiting</th>\n",
       "    </tr>\n",
       "  </thead>\n",
       "  <tbody>\n",
       "    <tr>\n",
       "      <th>0</th>\n",
       "      <td>2017-06-29</td>\n",
       "      <td>67</td>\n",
       "      <td>1.0</td>\n",
       "      <td>M</td>\n",
       "      <td>other</td>\n",
       "      <td>True</td>\n",
       "      <td>False</td>\n",
       "      <td>A</td>\n",
       "      <td>0</td>\n",
       "      <td>False</td>\n",
       "      <td>False</td>\n",
       "      <td>0</td>\n",
       "      <td>1</td>\n",
       "      <td>26</td>\n",
       "      <td>44</td>\n",
       "      <td>51</td>\n",
       "      <td>3</td>\n",
       "      <td>7</td>\n",
       "      <td>heterozygous</td>\n",
       "      <td>heterozygous</td>\n",
       "      <td>heterozygous</td>\n",
       "      <td>False</td>\n",
       "      <td>False</td>\n",
       "      <td>False</td>\n",
       "      <td>waiting</td>\n",
       "      <td>392</td>\n",
       "    </tr>\n",
       "    <tr>\n",
       "      <th>1</th>\n",
       "      <td>2008-11-03</td>\n",
       "      <td>58</td>\n",
       "      <td>4.0</td>\n",
       "      <td>M</td>\n",
       "      <td>diabetes</td>\n",
       "      <td>False</td>\n",
       "      <td>False</td>\n",
       "      <td>A</td>\n",
       "      <td>0</td>\n",
       "      <td>False</td>\n",
       "      <td>False</td>\n",
       "      <td>0</td>\n",
       "      <td>1</td>\n",
       "      <td>24</td>\n",
       "      <td>18</td>\n",
       "      <td>35</td>\n",
       "      <td>11</td>\n",
       "      <td>0</td>\n",
       "      <td>homozygous</td>\n",
       "      <td>heterozygous</td>\n",
       "      <td>heterozygous</td>\n",
       "      <td>False</td>\n",
       "      <td>False</td>\n",
       "      <td>False</td>\n",
       "      <td>died_waiting</td>\n",
       "      <td>2066</td>\n",
       "    </tr>\n",
       "    <tr>\n",
       "      <th>2</th>\n",
       "      <td>2010-07-13</td>\n",
       "      <td>51</td>\n",
       "      <td>2.0</td>\n",
       "      <td>M</td>\n",
       "      <td>hypertension</td>\n",
       "      <td>True</td>\n",
       "      <td>False</td>\n",
       "      <td>O</td>\n",
       "      <td>0</td>\n",
       "      <td>False</td>\n",
       "      <td>False</td>\n",
       "      <td>64</td>\n",
       "      <td>24</td>\n",
       "      <td>25</td>\n",
       "      <td>14</td>\n",
       "      <td>18</td>\n",
       "      <td>1</td>\n",
       "      <td>15</td>\n",
       "      <td>heterozygous</td>\n",
       "      <td>heterozygous</td>\n",
       "      <td>heterozygous</td>\n",
       "      <td>False</td>\n",
       "      <td>False</td>\n",
       "      <td>False</td>\n",
       "      <td>removed</td>\n",
       "      <td>365</td>\n",
       "    </tr>\n",
       "    <tr>\n",
       "      <th>3</th>\n",
       "      <td>2011-10-03</td>\n",
       "      <td>52</td>\n",
       "      <td>17.0</td>\n",
       "      <td>M</td>\n",
       "      <td>diabetes</td>\n",
       "      <td>False</td>\n",
       "      <td>False</td>\n",
       "      <td>O</td>\n",
       "      <td>0</td>\n",
       "      <td>False</td>\n",
       "      <td>True</td>\n",
       "      <td>2</td>\n",
       "      <td>24</td>\n",
       "      <td>25</td>\n",
       "      <td>14</td>\n",
       "      <td>18</td>\n",
       "      <td>1</td>\n",
       "      <td>15</td>\n",
       "      <td>heterozygous</td>\n",
       "      <td>heterozygous</td>\n",
       "      <td>heterozygous</td>\n",
       "      <td>False</td>\n",
       "      <td>False</td>\n",
       "      <td>False</td>\n",
       "      <td>removed</td>\n",
       "      <td>365</td>\n",
       "    </tr>\n",
       "    <tr>\n",
       "      <th>4</th>\n",
       "      <td>2006-07-05</td>\n",
       "      <td>67</td>\n",
       "      <td>68.0</td>\n",
       "      <td>M</td>\n",
       "      <td>hypertension</td>\n",
       "      <td>True</td>\n",
       "      <td>False</td>\n",
       "      <td>A</td>\n",
       "      <td>0</td>\n",
       "      <td>False</td>\n",
       "      <td>False</td>\n",
       "      <td>0</td>\n",
       "      <td>24</td>\n",
       "      <td>68</td>\n",
       "      <td>14</td>\n",
       "      <td>27</td>\n",
       "      <td>13</td>\n",
       "      <td>15</td>\n",
       "      <td>heterozygous</td>\n",
       "      <td>heterozygous</td>\n",
       "      <td>heterozygous</td>\n",
       "      <td>False</td>\n",
       "      <td>False</td>\n",
       "      <td>False</td>\n",
       "      <td>died_waiting</td>\n",
       "      <td>194</td>\n",
       "    </tr>\n",
       "  </tbody>\n",
       "</table>\n",
       "</div>"
      ],
      "text/plain": [
       "  date_registered  age_registered  dialysis_session_count sex  \\\n",
       "0      2017-06-29              67                     1.0   M   \n",
       "1      2008-11-03              58                     4.0   M   \n",
       "2      2010-07-13              51                     2.0   M   \n",
       "3      2011-10-03              52                    17.0   M   \n",
       "4      2006-07-05              67                    68.0   M   \n",
       "\n",
       "  underlying_disease  diabetes  chagas blood_type  transfusion_count  \\\n",
       "0              other      True   False          A                  0   \n",
       "1           diabetes     False   False          A                  0   \n",
       "2       hypertension      True   False          O                  0   \n",
       "3           diabetes     False   False          O                  0   \n",
       "4       hypertension      True   False          A                  0   \n",
       "\n",
       "   gestation  prior_transplant  c_pra  hla_a1  hla_a2  hla_b1  hla_b2  \\\n",
       "0      False             False      0       1      26      44      51   \n",
       "1      False             False      0       1      24      18      35   \n",
       "2      False             False     64      24      25      14      18   \n",
       "3      False              True      2      24      25      14      18   \n",
       "4      False             False      0      24      68      14      27   \n",
       "\n",
       "   hla_dr1  hla_dr2         dr_00          b_00          a_00  anti_hbc  \\\n",
       "0        3        7  heterozygous  heterozygous  heterozygous     False   \n",
       "1       11        0    homozygous  heterozygous  heterozygous     False   \n",
       "2        1       15  heterozygous  heterozygous  heterozygous     False   \n",
       "3        1       15  heterozygous  heterozygous  heterozygous     False   \n",
       "4       13       15  heterozygous  heterozygous  heterozygous     False   \n",
       "\n",
       "   anti_hcv  hbs_ag         event  days_waiting  \n",
       "0     False   False       waiting           392  \n",
       "1     False   False  died_waiting          2066  \n",
       "2     False   False       removed           365  \n",
       "3     False   False       removed           365  \n",
       "4     False   False  died_waiting           194  "
      ]
     },
     "execution_count": 4,
     "metadata": {},
     "output_type": "execute_result"
    }
   ],
   "source": [
    "df.head()"
   ]
  },
  {
   "cell_type": "markdown",
   "metadata": {},
   "source": [
    "## Limpeza dos dados"
   ]
  },
  {
   "cell_type": "code",
   "execution_count": 5,
   "metadata": {},
   "outputs": [],
   "source": [
    "df['date_registered'] = pd.to_datetime(df['date_registered'])"
   ]
  },
  {
   "cell_type": "code",
   "execution_count": 6,
   "metadata": {},
   "outputs": [],
   "source": [
    "df_clean = df#.drop(columns=['date_registered'])"
   ]
  },
  {
   "cell_type": "code",
   "execution_count": 7,
   "metadata": {},
   "outputs": [
    {
     "data": {
      "text/plain": [
       "event\n",
       "removed         14356\n",
       "transplanted    13732\n",
       "waiting         10933\n",
       "died_waiting     9132\n",
       "Name: count, dtype: int64"
      ]
     },
     "execution_count": 7,
     "metadata": {},
     "output_type": "execute_result"
    }
   ],
   "source": [
    "df_clean['event'].value_counts()"
   ]
  },
  {
   "cell_type": "markdown",
   "metadata": {},
   "source": [
    "Removemos os dados com evento `waiting` ou `removed`, porque representam casos em que um transplante não aconteceu."
   ]
  },
  {
   "cell_type": "code",
   "execution_count": 8,
   "metadata": {},
   "outputs": [
    {
     "data": {
      "text/plain": [
       "event\n",
       "transplanted    13732\n",
       "Name: count, dtype: int64"
      ]
     },
     "execution_count": 8,
     "metadata": {},
     "output_type": "execute_result"
    }
   ],
   "source": [
    "df_clean = df_clean[df_clean['event'] == 'transplanted']\n",
    "df_clean['event'].value_counts()"
   ]
  },
  {
   "cell_type": "markdown",
   "metadata": {},
   "source": [
    "Removemos a coluna de evento, que passa a ser redundante."
   ]
  },
  {
   "cell_type": "code",
   "execution_count": 9,
   "metadata": {},
   "outputs": [],
   "source": [
    "df_clean = df_clean.drop(columns=['event'])"
   ]
  },
  {
   "cell_type": "markdown",
   "metadata": {},
   "source": [
    "## Engenharia de Features"
   ]
  },
  {
   "cell_type": "code",
   "execution_count": 10,
   "metadata": {},
   "outputs": [],
   "source": [
    "df_clean['transplant_date'] = df_clean['date_registered'] + pd.to_timedelta(df_clean['days_waiting'], 'days')"
   ]
  },
  {
   "cell_type": "code",
   "execution_count": 11,
   "metadata": {},
   "outputs": [],
   "source": [
    "df_clean['date_registered'] = df_clean['date_registered'].astype(int) / (1e9 * 3600 * 24)"
   ]
  },
  {
   "cell_type": "code",
   "execution_count": 12,
   "metadata": {},
   "outputs": [
    {
     "data": {
      "text/html": [
       "<div>\n",
       "<style scoped>\n",
       "    .dataframe tbody tr th:only-of-type {\n",
       "        vertical-align: middle;\n",
       "    }\n",
       "\n",
       "    .dataframe tbody tr th {\n",
       "        vertical-align: top;\n",
       "    }\n",
       "\n",
       "    .dataframe thead th {\n",
       "        text-align: right;\n",
       "    }\n",
       "</style>\n",
       "<table border=\"1\" class=\"dataframe\">\n",
       "  <thead>\n",
       "    <tr style=\"text-align: right;\">\n",
       "      <th></th>\n",
       "      <th>date_registered</th>\n",
       "      <th>age_registered</th>\n",
       "      <th>dialysis_session_count</th>\n",
       "      <th>diabetes</th>\n",
       "      <th>chagas</th>\n",
       "      <th>transfusion_count</th>\n",
       "      <th>gestation</th>\n",
       "      <th>prior_transplant</th>\n",
       "      <th>c_pra</th>\n",
       "      <th>hla_a1</th>\n",
       "      <th>hla_a2</th>\n",
       "      <th>hla_b1</th>\n",
       "      <th>hla_b2</th>\n",
       "      <th>hla_dr1</th>\n",
       "      <th>hla_dr2</th>\n",
       "      <th>anti_hbc</th>\n",
       "      <th>anti_hcv</th>\n",
       "      <th>hbs_ag</th>\n",
       "      <th>days_waiting</th>\n",
       "      <th>transplant_date</th>\n",
       "      <th>sex_M</th>\n",
       "      <th>underlying_disease_glomerulonephritis</th>\n",
       "      <th>underlying_disease_hypertension</th>\n",
       "      <th>underlying_disease_other</th>\n",
       "      <th>underlying_disease_pyelonephritis</th>\n",
       "      <th>blood_type_AB</th>\n",
       "      <th>blood_type_B</th>\n",
       "      <th>blood_type_O</th>\n",
       "      <th>dr_00_homozygous</th>\n",
       "      <th>b_00_homozygous</th>\n",
       "      <th>a_00_homozygous</th>\n",
       "    </tr>\n",
       "  </thead>\n",
       "  <tbody>\n",
       "    <tr>\n",
       "      <th>12</th>\n",
       "      <td>16310.0</td>\n",
       "      <td>68</td>\n",
       "      <td>14.0</td>\n",
       "      <td>False</td>\n",
       "      <td>False</td>\n",
       "      <td>1</td>\n",
       "      <td>False</td>\n",
       "      <td>False</td>\n",
       "      <td>0</td>\n",
       "      <td>2</td>\n",
       "      <td>3</td>\n",
       "      <td>14</td>\n",
       "      <td>51</td>\n",
       "      <td>1</td>\n",
       "      <td>13</td>\n",
       "      <td>False</td>\n",
       "      <td>False</td>\n",
       "      <td>False</td>\n",
       "      <td>136</td>\n",
       "      <td>2015-01-11</td>\n",
       "      <td>True</td>\n",
       "      <td>False</td>\n",
       "      <td>False</td>\n",
       "      <td>False</td>\n",
       "      <td>False</td>\n",
       "      <td>False</td>\n",
       "      <td>True</td>\n",
       "      <td>False</td>\n",
       "      <td>False</td>\n",
       "      <td>False</td>\n",
       "      <td>False</td>\n",
       "    </tr>\n",
       "    <tr>\n",
       "      <th>14</th>\n",
       "      <td>15160.0</td>\n",
       "      <td>62</td>\n",
       "      <td>12.0</td>\n",
       "      <td>True</td>\n",
       "      <td>False</td>\n",
       "      <td>0</td>\n",
       "      <td>False</td>\n",
       "      <td>False</td>\n",
       "      <td>0</td>\n",
       "      <td>2</td>\n",
       "      <td>68</td>\n",
       "      <td>39</td>\n",
       "      <td>40</td>\n",
       "      <td>4</td>\n",
       "      <td>0</td>\n",
       "      <td>False</td>\n",
       "      <td>False</td>\n",
       "      <td>False</td>\n",
       "      <td>268</td>\n",
       "      <td>2012-03-29</td>\n",
       "      <td>True</td>\n",
       "      <td>False</td>\n",
       "      <td>False</td>\n",
       "      <td>True</td>\n",
       "      <td>False</td>\n",
       "      <td>True</td>\n",
       "      <td>False</td>\n",
       "      <td>False</td>\n",
       "      <td>True</td>\n",
       "      <td>False</td>\n",
       "      <td>False</td>\n",
       "    </tr>\n",
       "    <tr>\n",
       "      <th>15</th>\n",
       "      <td>12962.0</td>\n",
       "      <td>47</td>\n",
       "      <td>1.0</td>\n",
       "      <td>True</td>\n",
       "      <td>False</td>\n",
       "      <td>0</td>\n",
       "      <td>False</td>\n",
       "      <td>False</td>\n",
       "      <td>0</td>\n",
       "      <td>1</td>\n",
       "      <td>2</td>\n",
       "      <td>40</td>\n",
       "      <td>57</td>\n",
       "      <td>4</td>\n",
       "      <td>4</td>\n",
       "      <td>False</td>\n",
       "      <td>False</td>\n",
       "      <td>False</td>\n",
       "      <td>1345</td>\n",
       "      <td>2009-03-04</td>\n",
       "      <td>True</td>\n",
       "      <td>False</td>\n",
       "      <td>False</td>\n",
       "      <td>True</td>\n",
       "      <td>False</td>\n",
       "      <td>False</td>\n",
       "      <td>False</td>\n",
       "      <td>True</td>\n",
       "      <td>False</td>\n",
       "      <td>False</td>\n",
       "      <td>False</td>\n",
       "    </tr>\n",
       "    <tr>\n",
       "      <th>27</th>\n",
       "      <td>13424.0</td>\n",
       "      <td>65</td>\n",
       "      <td>7.0</td>\n",
       "      <td>True</td>\n",
       "      <td>False</td>\n",
       "      <td>0</td>\n",
       "      <td>False</td>\n",
       "      <td>False</td>\n",
       "      <td>0</td>\n",
       "      <td>2</td>\n",
       "      <td>29</td>\n",
       "      <td>44</td>\n",
       "      <td>0</td>\n",
       "      <td>7</td>\n",
       "      <td>11</td>\n",
       "      <td>False</td>\n",
       "      <td>False</td>\n",
       "      <td>False</td>\n",
       "      <td>1283</td>\n",
       "      <td>2010-04-08</td>\n",
       "      <td>True</td>\n",
       "      <td>False</td>\n",
       "      <td>False</td>\n",
       "      <td>True</td>\n",
       "      <td>False</td>\n",
       "      <td>False</td>\n",
       "      <td>False</td>\n",
       "      <td>False</td>\n",
       "      <td>False</td>\n",
       "      <td>True</td>\n",
       "      <td>False</td>\n",
       "    </tr>\n",
       "    <tr>\n",
       "      <th>28</th>\n",
       "      <td>15525.0</td>\n",
       "      <td>33</td>\n",
       "      <td>12.0</td>\n",
       "      <td>True</td>\n",
       "      <td>False</td>\n",
       "      <td>0</td>\n",
       "      <td>False</td>\n",
       "      <td>False</td>\n",
       "      <td>0</td>\n",
       "      <td>2</td>\n",
       "      <td>23</td>\n",
       "      <td>8</td>\n",
       "      <td>44</td>\n",
       "      <td>8</td>\n",
       "      <td>15</td>\n",
       "      <td>False</td>\n",
       "      <td>False</td>\n",
       "      <td>False</td>\n",
       "      <td>464</td>\n",
       "      <td>2013-10-11</td>\n",
       "      <td>False</td>\n",
       "      <td>True</td>\n",
       "      <td>False</td>\n",
       "      <td>False</td>\n",
       "      <td>False</td>\n",
       "      <td>False</td>\n",
       "      <td>False</td>\n",
       "      <td>False</td>\n",
       "      <td>False</td>\n",
       "      <td>False</td>\n",
       "      <td>False</td>\n",
       "    </tr>\n",
       "  </tbody>\n",
       "</table>\n",
       "</div>"
      ],
      "text/plain": [
       "    date_registered  age_registered  dialysis_session_count  diabetes  chagas  \\\n",
       "12          16310.0              68                    14.0     False   False   \n",
       "14          15160.0              62                    12.0      True   False   \n",
       "15          12962.0              47                     1.0      True   False   \n",
       "27          13424.0              65                     7.0      True   False   \n",
       "28          15525.0              33                    12.0      True   False   \n",
       "\n",
       "    transfusion_count  gestation  prior_transplant  c_pra  hla_a1  hla_a2  \\\n",
       "12                  1      False             False      0       2       3   \n",
       "14                  0      False             False      0       2      68   \n",
       "15                  0      False             False      0       1       2   \n",
       "27                  0      False             False      0       2      29   \n",
       "28                  0      False             False      0       2      23   \n",
       "\n",
       "    hla_b1  hla_b2  hla_dr1  hla_dr2  anti_hbc  anti_hcv  hbs_ag  \\\n",
       "12      14      51        1       13     False     False   False   \n",
       "14      39      40        4        0     False     False   False   \n",
       "15      40      57        4        4     False     False   False   \n",
       "27      44       0        7       11     False     False   False   \n",
       "28       8      44        8       15     False     False   False   \n",
       "\n",
       "    days_waiting transplant_date  sex_M  \\\n",
       "12           136      2015-01-11   True   \n",
       "14           268      2012-03-29   True   \n",
       "15          1345      2009-03-04   True   \n",
       "27          1283      2010-04-08   True   \n",
       "28           464      2013-10-11  False   \n",
       "\n",
       "    underlying_disease_glomerulonephritis  underlying_disease_hypertension  \\\n",
       "12                                  False                            False   \n",
       "14                                  False                            False   \n",
       "15                                  False                            False   \n",
       "27                                  False                            False   \n",
       "28                                   True                            False   \n",
       "\n",
       "    underlying_disease_other  underlying_disease_pyelonephritis  \\\n",
       "12                     False                              False   \n",
       "14                      True                              False   \n",
       "15                      True                              False   \n",
       "27                      True                              False   \n",
       "28                     False                              False   \n",
       "\n",
       "    blood_type_AB  blood_type_B  blood_type_O  dr_00_homozygous  \\\n",
       "12          False          True         False             False   \n",
       "14           True         False         False              True   \n",
       "15          False         False          True             False   \n",
       "27          False         False         False             False   \n",
       "28          False         False         False             False   \n",
       "\n",
       "    b_00_homozygous  a_00_homozygous  \n",
       "12            False            False  \n",
       "14            False            False  \n",
       "15            False            False  \n",
       "27             True            False  \n",
       "28            False            False  "
      ]
     },
     "execution_count": 12,
     "metadata": {},
     "output_type": "execute_result"
    }
   ],
   "source": [
    "df_onehot = pd.get_dummies(df_clean, columns=['sex', 'underlying_disease', 'blood_type', 'dr_00', 'b_00', 'a_00'], drop_first=True)\n",
    "df_onehot.head()"
   ]
  },
  {
   "cell_type": "code",
   "execution_count": 13,
   "metadata": {},
   "outputs": [],
   "source": [
    "df_onehot['idx'] = df_onehot.index"
   ]
  },
  {
   "cell_type": "code",
   "execution_count": 14,
   "metadata": {},
   "outputs": [],
   "source": [
    "df_test = df_onehot.sample(frac=0.25, random_state=1729)\n",
    "df_onehot = df_onehot.drop(df_test.index)"
   ]
  },
  {
   "cell_type": "code",
   "execution_count": 15,
   "metadata": {},
   "outputs": [],
   "source": [
    "random.seed(1729)\n",
    "\n",
    "\n",
    "columns = set()\n",
    "pairs = set()\n",
    "while len(pairs) < 70_000:\n",
    "    a = random.randint(1, 10298)\n",
    "    b = random.randint(0, a-1)\n",
    "    ra = df_onehot.iloc[a]\n",
    "    rb = df_onehot.iloc[b]\n",
    "    for c in df_onehot.columns:\n",
    "        columns.add(c)\n",
    "        if ra[c] < rb[c]:\n",
    "            pairs.add((a,b))\n",
    "            break\n",
    "        if rb[c] < ra[c]:\n",
    "            pairs.add((b,a))\n",
    "            break\n"
   ]
  },
  {
   "cell_type": "code",
   "execution_count": 16,
   "metadata": {},
   "outputs": [
    {
     "data": {
      "text/plain": [
       "{'age_registered', 'date_registered', 'dialysis_session_count'}"
      ]
     },
     "execution_count": 16,
     "metadata": {},
     "output_type": "execute_result"
    }
   ],
   "source": [
    "columns"
   ]
  },
  {
   "cell_type": "code",
   "execution_count": 17,
   "metadata": {},
   "outputs": [],
   "source": [
    "s = []\n",
    "for _a, _b in pairs:\n",
    "    a = df_onehot.iloc[_a]\n",
    "    b = df_onehot.iloc[_b]\n",
    "    a.index = a.index + '_a'\n",
    "    b.index = b.index + '_b'\n",
    "    s.append(pd.concat((a,b)))"
   ]
  },
  {
   "cell_type": "code",
   "execution_count": 18,
   "metadata": {},
   "outputs": [],
   "source": [
    "df_cross = pd.DataFrame(s)"
   ]
  },
  {
   "cell_type": "code",
   "execution_count": 19,
   "metadata": {},
   "outputs": [],
   "source": [
    "del s, pairs"
   ]
  },
  {
   "cell_type": "code",
   "execution_count": 20,
   "metadata": {},
   "outputs": [],
   "source": [
    "df_cross['transplanted_first'] = df_cross['transplant_date_a'] < df_cross['transplant_date_b']"
   ]
  },
  {
   "cell_type": "code",
   "execution_count": 21,
   "metadata": {},
   "outputs": [
    {
     "data": {
      "text/plain": [
       "count     70000\n",
       "unique        2\n",
       "top        True\n",
       "freq      59646\n",
       "Name: transplanted_first, dtype: object"
      ]
     },
     "execution_count": 21,
     "metadata": {},
     "output_type": "execute_result"
    }
   ],
   "source": [
    "df_cross['transplanted_first'].describe()"
   ]
  },
  {
   "cell_type": "code",
   "execution_count": 22,
   "metadata": {},
   "outputs": [],
   "source": [
    "df_cross_cln = df_cross#.drop(columns=['days_waiting_a', 'days_waiting_b', 'transplant_date_a', 'transplant_date_b'])"
   ]
  },
  {
   "cell_type": "code",
   "execution_count": 23,
   "metadata": {},
   "outputs": [],
   "source": [
    "target = 'transplanted_first'\n",
    "_meta = ['idx_a', 'idx_b','days_waiting_a', 'days_waiting_b', 'transplant_date_a', 'transplant_date_b']"
   ]
  },
  {
   "cell_type": "code",
   "execution_count": 24,
   "metadata": {},
   "outputs": [],
   "source": [
    "X, y, meta = df_cross_cln.drop(columns=[target, *_meta]), df_cross_cln[target], df_cross_cln[_meta]"
   ]
  },
  {
   "cell_type": "code",
   "execution_count": 25,
   "metadata": {},
   "outputs": [],
   "source": [
    "from sklearn.model_selection import train_test_split\n",
    "X_train, X_test, y_train, y_test, meta_train, meta_test = train_test_split(X, y, meta, test_size=0.2, random_state=1729)"
   ]
  },
  {
   "cell_type": "markdown",
   "metadata": {},
   "source": [
    "## Métricas de avaliação"
   ]
  },
  {
   "cell_type": "code",
   "execution_count": 26,
   "metadata": {},
   "outputs": [],
   "source": [
    "from sklearn.metrics import accuracy_score, roc_auc_score"
   ]
  },
  {
   "cell_type": "markdown",
   "metadata": {},
   "source": [
    "## Modelos"
   ]
  },
  {
   "cell_type": "markdown",
   "metadata": {},
   "source": [
    "### Plug-in\n",
    "\n",
    "Modelo de QDA\n",
    "Não tem hiperparâmetros, mas é o modelo de separação simples plug-in que a gente conhece ¯\\\\_(ツ)_/¯\n"
   ]
  },
  {
   "cell_type": "code",
   "execution_count": 27,
   "metadata": {},
   "outputs": [
    {
     "name": "stderr",
     "output_type": "stream",
     "text": [
      "/home/pochete/studies/2023s2/mo810/mo810-kidney-waitlist/venv/lib/python3.11/site-packages/sklearn/discriminant_analysis.py:935: UserWarning: Variables are collinear\n",
      "  warnings.warn(\"Variables are collinear\")\n"
     ]
    },
    {
     "data": {
      "text/html": [
       "<style>#sk-container-id-1 {color: black;}#sk-container-id-1 pre{padding: 0;}#sk-container-id-1 div.sk-toggleable {background-color: white;}#sk-container-id-1 label.sk-toggleable__label {cursor: pointer;display: block;width: 100%;margin-bottom: 0;padding: 0.3em;box-sizing: border-box;text-align: center;}#sk-container-id-1 label.sk-toggleable__label-arrow:before {content: \"▸\";float: left;margin-right: 0.25em;color: #696969;}#sk-container-id-1 label.sk-toggleable__label-arrow:hover:before {color: black;}#sk-container-id-1 div.sk-estimator:hover label.sk-toggleable__label-arrow:before {color: black;}#sk-container-id-1 div.sk-toggleable__content {max-height: 0;max-width: 0;overflow: hidden;text-align: left;background-color: #f0f8ff;}#sk-container-id-1 div.sk-toggleable__content pre {margin: 0.2em;color: black;border-radius: 0.25em;background-color: #f0f8ff;}#sk-container-id-1 input.sk-toggleable__control:checked~div.sk-toggleable__content {max-height: 200px;max-width: 100%;overflow: auto;}#sk-container-id-1 input.sk-toggleable__control:checked~label.sk-toggleable__label-arrow:before {content: \"▾\";}#sk-container-id-1 div.sk-estimator input.sk-toggleable__control:checked~label.sk-toggleable__label {background-color: #d4ebff;}#sk-container-id-1 div.sk-label input.sk-toggleable__control:checked~label.sk-toggleable__label {background-color: #d4ebff;}#sk-container-id-1 input.sk-hidden--visually {border: 0;clip: rect(1px 1px 1px 1px);clip: rect(1px, 1px, 1px, 1px);height: 1px;margin: -1px;overflow: hidden;padding: 0;position: absolute;width: 1px;}#sk-container-id-1 div.sk-estimator {font-family: monospace;background-color: #f0f8ff;border: 1px dotted black;border-radius: 0.25em;box-sizing: border-box;margin-bottom: 0.5em;}#sk-container-id-1 div.sk-estimator:hover {background-color: #d4ebff;}#sk-container-id-1 div.sk-parallel-item::after {content: \"\";width: 100%;border-bottom: 1px solid gray;flex-grow: 1;}#sk-container-id-1 div.sk-label:hover label.sk-toggleable__label {background-color: #d4ebff;}#sk-container-id-1 div.sk-serial::before {content: \"\";position: absolute;border-left: 1px solid gray;box-sizing: border-box;top: 0;bottom: 0;left: 50%;z-index: 0;}#sk-container-id-1 div.sk-serial {display: flex;flex-direction: column;align-items: center;background-color: white;padding-right: 0.2em;padding-left: 0.2em;position: relative;}#sk-container-id-1 div.sk-item {position: relative;z-index: 1;}#sk-container-id-1 div.sk-parallel {display: flex;align-items: stretch;justify-content: center;background-color: white;position: relative;}#sk-container-id-1 div.sk-item::before, #sk-container-id-1 div.sk-parallel-item::before {content: \"\";position: absolute;border-left: 1px solid gray;box-sizing: border-box;top: 0;bottom: 0;left: 50%;z-index: -1;}#sk-container-id-1 div.sk-parallel-item {display: flex;flex-direction: column;z-index: 1;position: relative;background-color: white;}#sk-container-id-1 div.sk-parallel-item:first-child::after {align-self: flex-end;width: 50%;}#sk-container-id-1 div.sk-parallel-item:last-child::after {align-self: flex-start;width: 50%;}#sk-container-id-1 div.sk-parallel-item:only-child::after {width: 0;}#sk-container-id-1 div.sk-dashed-wrapped {border: 1px dashed gray;margin: 0 0.4em 0.5em 0.4em;box-sizing: border-box;padding-bottom: 0.4em;background-color: white;}#sk-container-id-1 div.sk-label label {font-family: monospace;font-weight: bold;display: inline-block;line-height: 1.2em;}#sk-container-id-1 div.sk-label-container {text-align: center;}#sk-container-id-1 div.sk-container {/* jupyter's `normalize.less` sets `[hidden] { display: none; }` but bootstrap.min.css set `[hidden] { display: none !important; }` so we also need the `!important` here to be able to override the default hidden behavior on the sphinx rendered scikit-learn.org. See: https://github.com/scikit-learn/scikit-learn/issues/21755 */display: inline-block !important;position: relative;}#sk-container-id-1 div.sk-text-repr-fallback {display: none;}</style><div id=\"sk-container-id-1\" class=\"sk-top-container\"><div class=\"sk-text-repr-fallback\"><pre>QuadraticDiscriminantAnalysis()</pre><b>In a Jupyter environment, please rerun this cell to show the HTML representation or trust the notebook. <br />On GitHub, the HTML representation is unable to render, please try loading this page with nbviewer.org.</b></div><div class=\"sk-container\" hidden><div class=\"sk-item\"><div class=\"sk-estimator sk-toggleable\"><input class=\"sk-toggleable__control sk-hidden--visually\" id=\"sk-estimator-id-1\" type=\"checkbox\" checked><label for=\"sk-estimator-id-1\" class=\"sk-toggleable__label sk-toggleable__label-arrow\">QuadraticDiscriminantAnalysis</label><div class=\"sk-toggleable__content\"><pre>QuadraticDiscriminantAnalysis()</pre></div></div></div></div></div>"
      ],
      "text/plain": [
       "QuadraticDiscriminantAnalysis()"
      ]
     },
     "execution_count": 27,
     "metadata": {},
     "output_type": "execute_result"
    }
   ],
   "source": [
    "from sklearn.discriminant_analysis import QuadraticDiscriminantAnalysis\n",
    "\n",
    "qda = QuadraticDiscriminantAnalysis()\n",
    "qda.fit(X_train, y_train)"
   ]
  },
  {
   "cell_type": "code",
   "execution_count": 28,
   "metadata": {},
   "outputs": [
    {
     "data": {
      "text/plain": [
       "(0.662650701633865, 0.7626428571428572)"
      ]
     },
     "execution_count": 28,
     "metadata": {},
     "output_type": "execute_result"
    }
   ],
   "source": [
    "y_test_qda = qda.predict(X_test)\n",
    "(roc_auc_score(y_test, y_test_qda), accuracy_score(y_test, y_test_qda))"
   ]
  },
  {
   "cell_type": "markdown",
   "metadata": {},
   "source": [
    "His ass DID NOT learn shit"
   ]
  },
  {
   "cell_type": "code",
   "execution_count": 29,
   "metadata": {},
   "outputs": [
    {
     "data": {
      "text/plain": [
       "(0.6666245262139573, 0.7623214285714286)"
      ]
     },
     "execution_count": 29,
     "metadata": {},
     "output_type": "execute_result"
    }
   ],
   "source": [
    "y_train_qda = qda.predict(X_train)\n",
    "(roc_auc_score(y_train, y_train_qda), accuracy_score(y_train, y_train_qda))"
   ]
  },
  {
   "cell_type": "markdown",
   "metadata": {},
   "source": [
    "0.5231. 0.5236"
   ]
  },
  {
   "cell_type": "markdown",
   "metadata": {},
   "source": [
    "### Risk-minimization"
   ]
  },
  {
   "cell_type": "markdown",
   "metadata": {},
   "source": [
    "\n",
    "Modelo de SVC Linear."
   ]
  },
  {
   "cell_type": "code",
   "execution_count": 27,
   "metadata": {},
   "outputs": [],
   "source": [
    "from sklearn.model_selection import GridSearchCV\n",
    "from sklearn.pipeline import make_pipeline, Pipeline\n",
    "from sklearn.preprocessing import StandardScaler\n",
    "from sklearn.svm import LinearSVC, SVC\n"
   ]
  },
  {
   "cell_type": "code",
   "execution_count": 30,
   "metadata": {},
   "outputs": [
    {
     "name": "stdout",
     "output_type": "stream",
     "text": [
      "Fitting 5 folds for each of 12 candidates, totalling 60 fits\n",
      "[CV 1/5] END linearsvc__C=1, linearsvc__loss=squared_hinge, linearsvc__penalty=l1; accuracy: (test=0.687) roc_auc: (test=0.612) total time=   5.2s\n",
      "[CV 2/5] END linearsvc__C=1, linearsvc__loss=squared_hinge, linearsvc__penalty=l1; accuracy: (test=0.690) roc_auc: (test=0.616) total time=   3.5s\n",
      "[CV 3/5] END linearsvc__C=1, linearsvc__loss=squared_hinge, linearsvc__penalty=l1; accuracy: (test=0.687) roc_auc: (test=0.619) total time=   4.4s\n",
      "[CV 4/5] END linearsvc__C=1, linearsvc__loss=squared_hinge, linearsvc__penalty=l1; accuracy: (test=0.687) roc_auc: (test=0.614) total time=   4.9s\n",
      "[CV 5/5] END linearsvc__C=1, linearsvc__loss=squared_hinge, linearsvc__penalty=l1; accuracy: (test=0.686) roc_auc: (test=0.619) total time=   4.4s\n",
      "[CV 1/5] END linearsvc__C=10, linearsvc__loss=squared_hinge, linearsvc__penalty=l1; accuracy: (test=0.687) roc_auc: (test=0.612) total time=   0.4s\n",
      "[CV 2/5] END linearsvc__C=10, linearsvc__loss=squared_hinge, linearsvc__penalty=l1; accuracy: (test=0.690) roc_auc: (test=0.616) total time=   0.4s\n",
      "[CV 3/5] END linearsvc__C=10, linearsvc__loss=squared_hinge, linearsvc__penalty=l1; accuracy: (test=0.687) roc_auc: (test=0.619) total time=   0.4s\n",
      "[CV 4/5] END linearsvc__C=10, linearsvc__loss=squared_hinge, linearsvc__penalty=l1; accuracy: (test=0.687) roc_auc: (test=0.614) total time=   0.5s\n",
      "[CV 5/5] END linearsvc__C=10, linearsvc__loss=squared_hinge, linearsvc__penalty=l1; accuracy: (test=0.686) roc_auc: (test=0.619) total time=   0.4s\n",
      "[CV 1/5] END linearsvc__C=100, linearsvc__loss=squared_hinge, linearsvc__penalty=l1; accuracy: (test=0.687) roc_auc: (test=0.612) total time=   0.4s\n",
      "[CV 2/5] END linearsvc__C=100, linearsvc__loss=squared_hinge, linearsvc__penalty=l1; accuracy: (test=0.690) roc_auc: (test=0.616) total time=   0.5s\n",
      "[CV 3/5] END linearsvc__C=100, linearsvc__loss=squared_hinge, linearsvc__penalty=l1; accuracy: (test=0.687) roc_auc: (test=0.619) total time=   0.5s\n",
      "[CV 4/5] END linearsvc__C=100, linearsvc__loss=squared_hinge, linearsvc__penalty=l1; accuracy: (test=0.687) roc_auc: (test=0.614) total time=   0.5s\n",
      "[CV 5/5] END linearsvc__C=100, linearsvc__loss=squared_hinge, linearsvc__penalty=l1; accuracy: (test=0.686) roc_auc: (test=0.619) total time=   0.4s\n",
      "[CV 1/5] END linearsvc__C=1000, linearsvc__loss=squared_hinge, linearsvc__penalty=l1; accuracy: (test=0.687) roc_auc: (test=0.612) total time=   0.4s\n",
      "[CV 2/5] END linearsvc__C=1000, linearsvc__loss=squared_hinge, linearsvc__penalty=l1; accuracy: (test=0.690) roc_auc: (test=0.616) total time=   0.4s\n",
      "[CV 3/5] END linearsvc__C=1000, linearsvc__loss=squared_hinge, linearsvc__penalty=l1; accuracy: (test=0.687) roc_auc: (test=0.619) total time=   0.4s\n",
      "[CV 4/5] END linearsvc__C=1000, linearsvc__loss=squared_hinge, linearsvc__penalty=l1; accuracy: (test=0.687) roc_auc: (test=0.614) total time=   0.4s\n",
      "[CV 5/5] END linearsvc__C=1000, linearsvc__loss=squared_hinge, linearsvc__penalty=l1; accuracy: (test=0.686) roc_auc: (test=0.619) total time=   0.4s\n",
      "[CV 1/5] END linearsvc__C=1, linearsvc__loss=hinge, linearsvc__penalty=l2; accuracy: (test=0.683) roc_auc: (test=0.493) total time=  11.3s\n",
      "[CV 2/5] END linearsvc__C=1, linearsvc__loss=hinge, linearsvc__penalty=l2; accuracy: (test=0.683) roc_auc: (test=0.522) total time=   9.5s\n",
      "[CV 3/5] END linearsvc__C=1, linearsvc__loss=hinge, linearsvc__penalty=l2; accuracy: (test=0.683) roc_auc: (test=0.480) total time=   9.7s\n",
      "[CV 4/5] END linearsvc__C=1, linearsvc__loss=hinge, linearsvc__penalty=l2; accuracy: (test=0.683) roc_auc: (test=0.495) total time=   9.4s\n",
      "[CV 5/5] END linearsvc__C=1, linearsvc__loss=hinge, linearsvc__penalty=l2; accuracy: (test=0.683) roc_auc: (test=0.519) total time=   9.5s\n",
      "[CV 1/5] END linearsvc__C=1, linearsvc__loss=squared_hinge, linearsvc__penalty=l2; accuracy: (test=0.687) roc_auc: (test=0.612) total time=   0.6s\n",
      "[CV 2/5] END linearsvc__C=1, linearsvc__loss=squared_hinge, linearsvc__penalty=l2; accuracy: (test=0.690) roc_auc: (test=0.616) total time=   0.5s\n",
      "[CV 3/5] END linearsvc__C=1, linearsvc__loss=squared_hinge, linearsvc__penalty=l2; accuracy: (test=0.687) roc_auc: (test=0.619) total time=   0.6s\n",
      "[CV 4/5] END linearsvc__C=1, linearsvc__loss=squared_hinge, linearsvc__penalty=l2; accuracy: (test=0.687) roc_auc: (test=0.614) total time=   0.6s\n",
      "[CV 5/5] END linearsvc__C=1, linearsvc__loss=squared_hinge, linearsvc__penalty=l2; accuracy: (test=0.686) roc_auc: (test=0.619) total time=   0.6s\n",
      "[CV 1/5] END linearsvc__C=10, linearsvc__loss=hinge, linearsvc__penalty=l2; accuracy: (test=0.683) roc_auc: (test=0.525) total time= 1.6min\n",
      "[CV 2/5] END linearsvc__C=10, linearsvc__loss=hinge, linearsvc__penalty=l2; accuracy: (test=0.683) roc_auc: (test=0.531) total time= 1.5min\n",
      "[CV 3/5] END linearsvc__C=10, linearsvc__loss=hinge, linearsvc__penalty=l2; accuracy: (test=0.683) roc_auc: (test=0.521) total time= 1.5min\n",
      "[CV 4/5] END linearsvc__C=10, linearsvc__loss=hinge, linearsvc__penalty=l2; accuracy: (test=0.683) roc_auc: (test=0.495) total time= 1.5min\n",
      "[CV 5/5] END linearsvc__C=10, linearsvc__loss=hinge, linearsvc__penalty=l2; accuracy: (test=0.683) roc_auc: (test=0.504) total time= 1.5min\n",
      "[CV 1/5] END linearsvc__C=10, linearsvc__loss=squared_hinge, linearsvc__penalty=l2; accuracy: (test=0.687) roc_auc: (test=0.612) total time=   0.7s\n",
      "[CV 2/5] END linearsvc__C=10, linearsvc__loss=squared_hinge, linearsvc__penalty=l2; accuracy: (test=0.690) roc_auc: (test=0.616) total time=   0.5s\n",
      "[CV 3/5] END linearsvc__C=10, linearsvc__loss=squared_hinge, linearsvc__penalty=l2; accuracy: (test=0.687) roc_auc: (test=0.619) total time=   0.7s\n",
      "[CV 4/5] END linearsvc__C=10, linearsvc__loss=squared_hinge, linearsvc__penalty=l2; accuracy: (test=0.687) roc_auc: (test=0.614) total time=   0.7s\n",
      "[CV 5/5] END linearsvc__C=10, linearsvc__loss=squared_hinge, linearsvc__penalty=l2; accuracy: (test=0.686) roc_auc: (test=0.619) total time=   0.6s\n"
     ]
    },
    {
     "name": "stderr",
     "output_type": "stream",
     "text": [
      "/home/pochete/studies/2023s2/mo810/mo810-kidney-waitlist/venv/lib/python3.11/site-packages/sklearn/svm/_base.py:1250: ConvergenceWarning: Liblinear failed to converge, increase the number of iterations.\n",
      "  warnings.warn(\n"
     ]
    },
    {
     "name": "stdout",
     "output_type": "stream",
     "text": [
      "[CV 1/5] END linearsvc__C=100, linearsvc__loss=hinge, linearsvc__penalty=l2; accuracy: (test=0.676) roc_auc: (test=0.490) total time= 4.0min\n"
     ]
    },
    {
     "name": "stderr",
     "output_type": "stream",
     "text": [
      "/home/pochete/studies/2023s2/mo810/mo810-kidney-waitlist/venv/lib/python3.11/site-packages/sklearn/svm/_base.py:1250: ConvergenceWarning: Liblinear failed to converge, increase the number of iterations.\n",
      "  warnings.warn(\n"
     ]
    },
    {
     "name": "stdout",
     "output_type": "stream",
     "text": [
      "[CV 2/5] END linearsvc__C=100, linearsvc__loss=hinge, linearsvc__penalty=l2; accuracy: (test=0.681) roc_auc: (test=0.495) total time= 4.0min\n"
     ]
    },
    {
     "name": "stderr",
     "output_type": "stream",
     "text": [
      "/home/pochete/studies/2023s2/mo810/mo810-kidney-waitlist/venv/lib/python3.11/site-packages/sklearn/svm/_base.py:1250: ConvergenceWarning: Liblinear failed to converge, increase the number of iterations.\n",
      "  warnings.warn(\n"
     ]
    },
    {
     "name": "stdout",
     "output_type": "stream",
     "text": [
      "[CV 3/5] END linearsvc__C=100, linearsvc__loss=hinge, linearsvc__penalty=l2; accuracy: (test=0.682) roc_auc: (test=0.514) total time= 4.1min\n"
     ]
    },
    {
     "name": "stderr",
     "output_type": "stream",
     "text": [
      "/home/pochete/studies/2023s2/mo810/mo810-kidney-waitlist/venv/lib/python3.11/site-packages/sklearn/svm/_base.py:1250: ConvergenceWarning: Liblinear failed to converge, increase the number of iterations.\n",
      "  warnings.warn(\n"
     ]
    },
    {
     "name": "stdout",
     "output_type": "stream",
     "text": [
      "[CV 4/5] END linearsvc__C=100, linearsvc__loss=hinge, linearsvc__penalty=l2; accuracy: (test=0.681) roc_auc: (test=0.500) total time= 4.0min\n"
     ]
    },
    {
     "name": "stderr",
     "output_type": "stream",
     "text": [
      "/home/pochete/studies/2023s2/mo810/mo810-kidney-waitlist/venv/lib/python3.11/site-packages/sklearn/svm/_base.py:1250: ConvergenceWarning: Liblinear failed to converge, increase the number of iterations.\n",
      "  warnings.warn(\n"
     ]
    },
    {
     "name": "stdout",
     "output_type": "stream",
     "text": [
      "[CV 5/5] END linearsvc__C=100, linearsvc__loss=hinge, linearsvc__penalty=l2; accuracy: (test=0.678) roc_auc: (test=0.513) total time= 4.0min\n",
      "[CV 1/5] END linearsvc__C=100, linearsvc__loss=squared_hinge, linearsvc__penalty=l2; accuracy: (test=0.687) roc_auc: (test=0.612) total time=   0.7s\n",
      "[CV 2/5] END linearsvc__C=100, linearsvc__loss=squared_hinge, linearsvc__penalty=l2; accuracy: (test=0.690) roc_auc: (test=0.616) total time=   0.5s\n",
      "[CV 3/5] END linearsvc__C=100, linearsvc__loss=squared_hinge, linearsvc__penalty=l2; accuracy: (test=0.687) roc_auc: (test=0.619) total time=   0.6s\n",
      "[CV 4/5] END linearsvc__C=100, linearsvc__loss=squared_hinge, linearsvc__penalty=l2; accuracy: (test=0.687) roc_auc: (test=0.614) total time=   0.6s\n",
      "[CV 5/5] END linearsvc__C=100, linearsvc__loss=squared_hinge, linearsvc__penalty=l2; accuracy: (test=0.686) roc_auc: (test=0.619) total time=   0.7s\n"
     ]
    },
    {
     "name": "stderr",
     "output_type": "stream",
     "text": [
      "/home/pochete/studies/2023s2/mo810/mo810-kidney-waitlist/venv/lib/python3.11/site-packages/sklearn/svm/_base.py:1250: ConvergenceWarning: Liblinear failed to converge, increase the number of iterations.\n",
      "  warnings.warn(\n"
     ]
    },
    {
     "name": "stdout",
     "output_type": "stream",
     "text": [
      "[CV 1/5] END linearsvc__C=1000, linearsvc__loss=hinge, linearsvc__penalty=l2; accuracy: (test=0.599) roc_auc: (test=0.518) total time= 4.2min\n"
     ]
    },
    {
     "name": "stderr",
     "output_type": "stream",
     "text": [
      "/home/pochete/studies/2023s2/mo810/mo810-kidney-waitlist/venv/lib/python3.11/site-packages/sklearn/svm/_base.py:1250: ConvergenceWarning: Liblinear failed to converge, increase the number of iterations.\n",
      "  warnings.warn(\n"
     ]
    },
    {
     "name": "stdout",
     "output_type": "stream",
     "text": [
      "[CV 2/5] END linearsvc__C=1000, linearsvc__loss=hinge, linearsvc__penalty=l2; accuracy: (test=0.598) roc_auc: (test=0.529) total time= 4.2min\n"
     ]
    },
    {
     "name": "stderr",
     "output_type": "stream",
     "text": [
      "/home/pochete/studies/2023s2/mo810/mo810-kidney-waitlist/venv/lib/python3.11/site-packages/sklearn/svm/_base.py:1250: ConvergenceWarning: Liblinear failed to converge, increase the number of iterations.\n",
      "  warnings.warn(\n"
     ]
    },
    {
     "name": "stdout",
     "output_type": "stream",
     "text": [
      "[CV 3/5] END linearsvc__C=1000, linearsvc__loss=hinge, linearsvc__penalty=l2; accuracy: (test=0.557) roc_auc: (test=0.504) total time= 4.2min\n"
     ]
    },
    {
     "name": "stderr",
     "output_type": "stream",
     "text": [
      "/home/pochete/studies/2023s2/mo810/mo810-kidney-waitlist/venv/lib/python3.11/site-packages/sklearn/svm/_base.py:1250: ConvergenceWarning: Liblinear failed to converge, increase the number of iterations.\n",
      "  warnings.warn(\n"
     ]
    },
    {
     "name": "stdout",
     "output_type": "stream",
     "text": [
      "[CV 4/5] END linearsvc__C=1000, linearsvc__loss=hinge, linearsvc__penalty=l2; accuracy: (test=0.568) roc_auc: (test=0.530) total time= 4.2min\n"
     ]
    },
    {
     "name": "stderr",
     "output_type": "stream",
     "text": [
      "/home/pochete/studies/2023s2/mo810/mo810-kidney-waitlist/venv/lib/python3.11/site-packages/sklearn/svm/_base.py:1250: ConvergenceWarning: Liblinear failed to converge, increase the number of iterations.\n",
      "  warnings.warn(\n"
     ]
    },
    {
     "name": "stdout",
     "output_type": "stream",
     "text": [
      "[CV 5/5] END linearsvc__C=1000, linearsvc__loss=hinge, linearsvc__penalty=l2; accuracy: (test=0.577) roc_auc: (test=0.497) total time= 4.2min\n",
      "[CV 1/5] END linearsvc__C=1000, linearsvc__loss=squared_hinge, linearsvc__penalty=l2; accuracy: (test=0.687) roc_auc: (test=0.612) total time=   0.8s\n",
      "[CV 2/5] END linearsvc__C=1000, linearsvc__loss=squared_hinge, linearsvc__penalty=l2; accuracy: (test=0.690) roc_auc: (test=0.616) total time=   0.6s\n",
      "[CV 3/5] END linearsvc__C=1000, linearsvc__loss=squared_hinge, linearsvc__penalty=l2; accuracy: (test=0.687) roc_auc: (test=0.619) total time=   0.7s\n",
      "[CV 4/5] END linearsvc__C=1000, linearsvc__loss=squared_hinge, linearsvc__penalty=l2; accuracy: (test=0.687) roc_auc: (test=0.614) total time=   0.7s\n",
      "[CV 5/5] END linearsvc__C=1000, linearsvc__loss=squared_hinge, linearsvc__penalty=l2; accuracy: (test=0.686) roc_auc: (test=0.619) total time=   0.7s\n"
     ]
    },
    {
     "data": {
      "text/html": [
       "<style>#sk-container-id-2 {color: black;}#sk-container-id-2 pre{padding: 0;}#sk-container-id-2 div.sk-toggleable {background-color: white;}#sk-container-id-2 label.sk-toggleable__label {cursor: pointer;display: block;width: 100%;margin-bottom: 0;padding: 0.3em;box-sizing: border-box;text-align: center;}#sk-container-id-2 label.sk-toggleable__label-arrow:before {content: \"▸\";float: left;margin-right: 0.25em;color: #696969;}#sk-container-id-2 label.sk-toggleable__label-arrow:hover:before {color: black;}#sk-container-id-2 div.sk-estimator:hover label.sk-toggleable__label-arrow:before {color: black;}#sk-container-id-2 div.sk-toggleable__content {max-height: 0;max-width: 0;overflow: hidden;text-align: left;background-color: #f0f8ff;}#sk-container-id-2 div.sk-toggleable__content pre {margin: 0.2em;color: black;border-radius: 0.25em;background-color: #f0f8ff;}#sk-container-id-2 input.sk-toggleable__control:checked~div.sk-toggleable__content {max-height: 200px;max-width: 100%;overflow: auto;}#sk-container-id-2 input.sk-toggleable__control:checked~label.sk-toggleable__label-arrow:before {content: \"▾\";}#sk-container-id-2 div.sk-estimator input.sk-toggleable__control:checked~label.sk-toggleable__label {background-color: #d4ebff;}#sk-container-id-2 div.sk-label input.sk-toggleable__control:checked~label.sk-toggleable__label {background-color: #d4ebff;}#sk-container-id-2 input.sk-hidden--visually {border: 0;clip: rect(1px 1px 1px 1px);clip: rect(1px, 1px, 1px, 1px);height: 1px;margin: -1px;overflow: hidden;padding: 0;position: absolute;width: 1px;}#sk-container-id-2 div.sk-estimator {font-family: monospace;background-color: #f0f8ff;border: 1px dotted black;border-radius: 0.25em;box-sizing: border-box;margin-bottom: 0.5em;}#sk-container-id-2 div.sk-estimator:hover {background-color: #d4ebff;}#sk-container-id-2 div.sk-parallel-item::after {content: \"\";width: 100%;border-bottom: 1px solid gray;flex-grow: 1;}#sk-container-id-2 div.sk-label:hover label.sk-toggleable__label {background-color: #d4ebff;}#sk-container-id-2 div.sk-serial::before {content: \"\";position: absolute;border-left: 1px solid gray;box-sizing: border-box;top: 0;bottom: 0;left: 50%;z-index: 0;}#sk-container-id-2 div.sk-serial {display: flex;flex-direction: column;align-items: center;background-color: white;padding-right: 0.2em;padding-left: 0.2em;position: relative;}#sk-container-id-2 div.sk-item {position: relative;z-index: 1;}#sk-container-id-2 div.sk-parallel {display: flex;align-items: stretch;justify-content: center;background-color: white;position: relative;}#sk-container-id-2 div.sk-item::before, #sk-container-id-2 div.sk-parallel-item::before {content: \"\";position: absolute;border-left: 1px solid gray;box-sizing: border-box;top: 0;bottom: 0;left: 50%;z-index: -1;}#sk-container-id-2 div.sk-parallel-item {display: flex;flex-direction: column;z-index: 1;position: relative;background-color: white;}#sk-container-id-2 div.sk-parallel-item:first-child::after {align-self: flex-end;width: 50%;}#sk-container-id-2 div.sk-parallel-item:last-child::after {align-self: flex-start;width: 50%;}#sk-container-id-2 div.sk-parallel-item:only-child::after {width: 0;}#sk-container-id-2 div.sk-dashed-wrapped {border: 1px dashed gray;margin: 0 0.4em 0.5em 0.4em;box-sizing: border-box;padding-bottom: 0.4em;background-color: white;}#sk-container-id-2 div.sk-label label {font-family: monospace;font-weight: bold;display: inline-block;line-height: 1.2em;}#sk-container-id-2 div.sk-label-container {text-align: center;}#sk-container-id-2 div.sk-container {/* jupyter's `normalize.less` sets `[hidden] { display: none; }` but bootstrap.min.css set `[hidden] { display: none !important; }` so we also need the `!important` here to be able to override the default hidden behavior on the sphinx rendered scikit-learn.org. See: https://github.com/scikit-learn/scikit-learn/issues/21755 */display: inline-block !important;position: relative;}#sk-container-id-2 div.sk-text-repr-fallback {display: none;}</style><div id=\"sk-container-id-2\" class=\"sk-top-container\"><div class=\"sk-text-repr-fallback\"><pre>GridSearchCV(estimator=Pipeline(steps=[(&#x27;standardscaler&#x27;, StandardScaler()),\n",
       "                                       (&#x27;linearsvc&#x27;,\n",
       "                                        LinearSVC(dual=&#x27;auto&#x27;, max_iter=10000,\n",
       "                                                  random_state=1729))]),\n",
       "             param_grid=[{&#x27;linearsvc__C&#x27;: [1, 10, 100, 1000],\n",
       "                          &#x27;linearsvc__loss&#x27;: [&#x27;squared_hinge&#x27;],\n",
       "                          &#x27;linearsvc__penalty&#x27;: [&#x27;l1&#x27;]},\n",
       "                         {&#x27;linearsvc__C&#x27;: [1, 10, 100, 1000],\n",
       "                          &#x27;linearsvc__loss&#x27;: [&#x27;hinge&#x27;, &#x27;squared_hinge&#x27;],\n",
       "                          &#x27;linearsvc__penalty&#x27;: [&#x27;l2&#x27;]}],\n",
       "             refit=&#x27;roc_auc&#x27;, scoring=(&#x27;roc_auc&#x27;, &#x27;accuracy&#x27;), verbose=4)</pre><b>In a Jupyter environment, please rerun this cell to show the HTML representation or trust the notebook. <br />On GitHub, the HTML representation is unable to render, please try loading this page with nbviewer.org.</b></div><div class=\"sk-container\" hidden><div class=\"sk-item sk-dashed-wrapped\"><div class=\"sk-label-container\"><div class=\"sk-label sk-toggleable\"><input class=\"sk-toggleable__control sk-hidden--visually\" id=\"sk-estimator-id-2\" type=\"checkbox\" ><label for=\"sk-estimator-id-2\" class=\"sk-toggleable__label sk-toggleable__label-arrow\">GridSearchCV</label><div class=\"sk-toggleable__content\"><pre>GridSearchCV(estimator=Pipeline(steps=[(&#x27;standardscaler&#x27;, StandardScaler()),\n",
       "                                       (&#x27;linearsvc&#x27;,\n",
       "                                        LinearSVC(dual=&#x27;auto&#x27;, max_iter=10000,\n",
       "                                                  random_state=1729))]),\n",
       "             param_grid=[{&#x27;linearsvc__C&#x27;: [1, 10, 100, 1000],\n",
       "                          &#x27;linearsvc__loss&#x27;: [&#x27;squared_hinge&#x27;],\n",
       "                          &#x27;linearsvc__penalty&#x27;: [&#x27;l1&#x27;]},\n",
       "                         {&#x27;linearsvc__C&#x27;: [1, 10, 100, 1000],\n",
       "                          &#x27;linearsvc__loss&#x27;: [&#x27;hinge&#x27;, &#x27;squared_hinge&#x27;],\n",
       "                          &#x27;linearsvc__penalty&#x27;: [&#x27;l2&#x27;]}],\n",
       "             refit=&#x27;roc_auc&#x27;, scoring=(&#x27;roc_auc&#x27;, &#x27;accuracy&#x27;), verbose=4)</pre></div></div></div><div class=\"sk-parallel\"><div class=\"sk-parallel-item\"><div class=\"sk-item\"><div class=\"sk-label-container\"><div class=\"sk-label sk-toggleable\"><input class=\"sk-toggleable__control sk-hidden--visually\" id=\"sk-estimator-id-3\" type=\"checkbox\" ><label for=\"sk-estimator-id-3\" class=\"sk-toggleable__label sk-toggleable__label-arrow\">estimator: Pipeline</label><div class=\"sk-toggleable__content\"><pre>Pipeline(steps=[(&#x27;standardscaler&#x27;, StandardScaler()),\n",
       "                (&#x27;linearsvc&#x27;,\n",
       "                 LinearSVC(dual=&#x27;auto&#x27;, max_iter=10000, random_state=1729))])</pre></div></div></div><div class=\"sk-serial\"><div class=\"sk-item\"><div class=\"sk-serial\"><div class=\"sk-item\"><div class=\"sk-estimator sk-toggleable\"><input class=\"sk-toggleable__control sk-hidden--visually\" id=\"sk-estimator-id-4\" type=\"checkbox\" ><label for=\"sk-estimator-id-4\" class=\"sk-toggleable__label sk-toggleable__label-arrow\">StandardScaler</label><div class=\"sk-toggleable__content\"><pre>StandardScaler()</pre></div></div></div><div class=\"sk-item\"><div class=\"sk-estimator sk-toggleable\"><input class=\"sk-toggleable__control sk-hidden--visually\" id=\"sk-estimator-id-5\" type=\"checkbox\" ><label for=\"sk-estimator-id-5\" class=\"sk-toggleable__label sk-toggleable__label-arrow\">LinearSVC</label><div class=\"sk-toggleable__content\"><pre>LinearSVC(dual=&#x27;auto&#x27;, max_iter=10000, random_state=1729)</pre></div></div></div></div></div></div></div></div></div></div></div></div>"
      ],
      "text/plain": [
       "GridSearchCV(estimator=Pipeline(steps=[('standardscaler', StandardScaler()),\n",
       "                                       ('linearsvc',\n",
       "                                        LinearSVC(dual='auto', max_iter=10000,\n",
       "                                                  random_state=1729))]),\n",
       "             param_grid=[{'linearsvc__C': [1, 10, 100, 1000],\n",
       "                          'linearsvc__loss': ['squared_hinge'],\n",
       "                          'linearsvc__penalty': ['l1']},\n",
       "                         {'linearsvc__C': [1, 10, 100, 1000],\n",
       "                          'linearsvc__loss': ['hinge', 'squared_hinge'],\n",
       "                          'linearsvc__penalty': ['l2']}],\n",
       "             refit='roc_auc', scoring=('roc_auc', 'accuracy'), verbose=4)"
      ]
     },
     "execution_count": 30,
     "metadata": {},
     "output_type": "execute_result"
    }
   ],
   "source": [
    "\n",
    "linear_svc_params = [\n",
    "    {\n",
    "        'linearsvc__penalty': ['l1'],\n",
    "        'linearsvc__loss': ['squared_hinge'],\n",
    "        'linearsvc__C': [1,10,100,1000],\n",
    "    },\n",
    "    {\n",
    "        'linearsvc__penalty': ['l2'],\n",
    "        'linearsvc__loss': ['hinge', 'squared_hinge'],\n",
    "        'linearsvc__C': [1,10,100,1000],\n",
    "    },\n",
    "]\n",
    "\n",
    "linear_svc_grid = GridSearchCV(\n",
    "    make_pipeline(StandardScaler(), LinearSVC(dual='auto', random_state=1729, max_iter=10_000)),\n",
    "    linear_svc_params,\n",
    "    verbose=4,\n",
    "    scoring=('roc_auc', 'accuracy'),\n",
    "    refit='roc_auc')\n",
    "linear_svc_grid.fit(X_train, y_train)\n"
   ]
  },
  {
   "cell_type": "code",
   "execution_count": 33,
   "metadata": {},
   "outputs": [
    {
     "data": {
      "text/html": [
       "<div>\n",
       "<style scoped>\n",
       "    .dataframe tbody tr th:only-of-type {\n",
       "        vertical-align: middle;\n",
       "    }\n",
       "\n",
       "    .dataframe tbody tr th {\n",
       "        vertical-align: top;\n",
       "    }\n",
       "\n",
       "    .dataframe thead th {\n",
       "        text-align: right;\n",
       "    }\n",
       "</style>\n",
       "<table border=\"1\" class=\"dataframe\">\n",
       "  <thead>\n",
       "    <tr style=\"text-align: right;\">\n",
       "      <th></th>\n",
       "      <th>mean_fit_time</th>\n",
       "      <th>mean_score_time</th>\n",
       "      <th>param_linearsvc__C</th>\n",
       "      <th>param_linearsvc__loss</th>\n",
       "      <th>param_linearsvc__penalty</th>\n",
       "      <th>mean_test_roc_auc</th>\n",
       "      <th>std_test_roc_auc</th>\n",
       "      <th>mean_test_accuracy</th>\n",
       "      <th>std_test_accuracy</th>\n",
       "    </tr>\n",
       "  </thead>\n",
       "  <tbody>\n",
       "    <tr>\n",
       "      <th>1</th>\n",
       "      <td>0.391979</td>\n",
       "      <td>0.053084</td>\n",
       "      <td>10</td>\n",
       "      <td>squared_hinge</td>\n",
       "      <td>l1</td>\n",
       "      <td>0.616125</td>\n",
       "      <td>0.002946</td>\n",
       "      <td>0.687286</td>\n",
       "      <td>0.001403</td>\n",
       "    </tr>\n",
       "    <tr>\n",
       "      <th>0</th>\n",
       "      <td>4.452175</td>\n",
       "      <td>0.048485</td>\n",
       "      <td>1</td>\n",
       "      <td>squared_hinge</td>\n",
       "      <td>l1</td>\n",
       "      <td>0.616125</td>\n",
       "      <td>0.002946</td>\n",
       "      <td>0.687306</td>\n",
       "      <td>0.001394</td>\n",
       "    </tr>\n",
       "    <tr>\n",
       "      <th>7</th>\n",
       "      <td>0.585656</td>\n",
       "      <td>0.051091</td>\n",
       "      <td>10</td>\n",
       "      <td>squared_hinge</td>\n",
       "      <td>l2</td>\n",
       "      <td>0.616125</td>\n",
       "      <td>0.002946</td>\n",
       "      <td>0.687286</td>\n",
       "      <td>0.001403</td>\n",
       "    </tr>\n",
       "    <tr>\n",
       "      <th>9</th>\n",
       "      <td>0.568206</td>\n",
       "      <td>0.051610</td>\n",
       "      <td>100</td>\n",
       "      <td>squared_hinge</td>\n",
       "      <td>l2</td>\n",
       "      <td>0.616125</td>\n",
       "      <td>0.002946</td>\n",
       "      <td>0.687286</td>\n",
       "      <td>0.001403</td>\n",
       "    </tr>\n",
       "    <tr>\n",
       "      <th>2</th>\n",
       "      <td>0.406018</td>\n",
       "      <td>0.055453</td>\n",
       "      <td>100</td>\n",
       "      <td>squared_hinge</td>\n",
       "      <td>l1</td>\n",
       "      <td>0.616125</td>\n",
       "      <td>0.002946</td>\n",
       "      <td>0.687286</td>\n",
       "      <td>0.001403</td>\n",
       "    </tr>\n",
       "    <tr>\n",
       "      <th>11</th>\n",
       "      <td>0.635951</td>\n",
       "      <td>0.055734</td>\n",
       "      <td>1000</td>\n",
       "      <td>squared_hinge</td>\n",
       "      <td>l2</td>\n",
       "      <td>0.616125</td>\n",
       "      <td>0.002946</td>\n",
       "      <td>0.687286</td>\n",
       "      <td>0.001403</td>\n",
       "    </tr>\n",
       "    <tr>\n",
       "      <th>3</th>\n",
       "      <td>0.362258</td>\n",
       "      <td>0.051799</td>\n",
       "      <td>1000</td>\n",
       "      <td>squared_hinge</td>\n",
       "      <td>l1</td>\n",
       "      <td>0.616125</td>\n",
       "      <td>0.002945</td>\n",
       "      <td>0.687286</td>\n",
       "      <td>0.001403</td>\n",
       "    </tr>\n",
       "    <tr>\n",
       "      <th>5</th>\n",
       "      <td>0.545069</td>\n",
       "      <td>0.043976</td>\n",
       "      <td>1</td>\n",
       "      <td>squared_hinge</td>\n",
       "      <td>l2</td>\n",
       "      <td>0.616125</td>\n",
       "      <td>0.002946</td>\n",
       "      <td>0.687286</td>\n",
       "      <td>0.001403</td>\n",
       "    </tr>\n",
       "    <tr>\n",
       "      <th>6</th>\n",
       "      <td>90.427121</td>\n",
       "      <td>0.055256</td>\n",
       "      <td>10</td>\n",
       "      <td>hinge</td>\n",
       "      <td>l2</td>\n",
       "      <td>0.515535</td>\n",
       "      <td>0.013400</td>\n",
       "      <td>0.683143</td>\n",
       "      <td>0.000041</td>\n",
       "    </tr>\n",
       "    <tr>\n",
       "      <th>10</th>\n",
       "      <td>250.474945</td>\n",
       "      <td>0.047431</td>\n",
       "      <td>1000</td>\n",
       "      <td>hinge</td>\n",
       "      <td>l2</td>\n",
       "      <td>0.515467</td>\n",
       "      <td>0.013062</td>\n",
       "      <td>0.579980</td>\n",
       "      <td>0.016439</td>\n",
       "    </tr>\n",
       "    <tr>\n",
       "      <th>8</th>\n",
       "      <td>240.396639</td>\n",
       "      <td>0.054192</td>\n",
       "      <td>100</td>\n",
       "      <td>hinge</td>\n",
       "      <td>l2</td>\n",
       "      <td>0.502501</td>\n",
       "      <td>0.009817</td>\n",
       "      <td>0.679551</td>\n",
       "      <td>0.002079</td>\n",
       "    </tr>\n",
       "    <tr>\n",
       "      <th>4</th>\n",
       "      <td>9.827581</td>\n",
       "      <td>0.047525</td>\n",
       "      <td>1</td>\n",
       "      <td>hinge</td>\n",
       "      <td>l2</td>\n",
       "      <td>0.501890</td>\n",
       "      <td>0.016324</td>\n",
       "      <td>0.683143</td>\n",
       "      <td>0.000041</td>\n",
       "    </tr>\n",
       "  </tbody>\n",
       "</table>\n",
       "</div>"
      ],
      "text/plain": [
       "    mean_fit_time  mean_score_time param_linearsvc__C param_linearsvc__loss  \\\n",
       "1        0.391979         0.053084                 10         squared_hinge   \n",
       "0        4.452175         0.048485                  1         squared_hinge   \n",
       "7        0.585656         0.051091                 10         squared_hinge   \n",
       "9        0.568206         0.051610                100         squared_hinge   \n",
       "2        0.406018         0.055453                100         squared_hinge   \n",
       "11       0.635951         0.055734               1000         squared_hinge   \n",
       "3        0.362258         0.051799               1000         squared_hinge   \n",
       "5        0.545069         0.043976                  1         squared_hinge   \n",
       "6       90.427121         0.055256                 10                 hinge   \n",
       "10     250.474945         0.047431               1000                 hinge   \n",
       "8      240.396639         0.054192                100                 hinge   \n",
       "4        9.827581         0.047525                  1                 hinge   \n",
       "\n",
       "   param_linearsvc__penalty  mean_test_roc_auc  std_test_roc_auc  \\\n",
       "1                        l1           0.616125          0.002946   \n",
       "0                        l1           0.616125          0.002946   \n",
       "7                        l2           0.616125          0.002946   \n",
       "9                        l2           0.616125          0.002946   \n",
       "2                        l1           0.616125          0.002946   \n",
       "11                       l2           0.616125          0.002946   \n",
       "3                        l1           0.616125          0.002945   \n",
       "5                        l2           0.616125          0.002946   \n",
       "6                        l2           0.515535          0.013400   \n",
       "10                       l2           0.515467          0.013062   \n",
       "8                        l2           0.502501          0.009817   \n",
       "4                        l2           0.501890          0.016324   \n",
       "\n",
       "    mean_test_accuracy  std_test_accuracy  \n",
       "1             0.687286           0.001403  \n",
       "0             0.687306           0.001394  \n",
       "7             0.687286           0.001403  \n",
       "9             0.687286           0.001403  \n",
       "2             0.687286           0.001403  \n",
       "11            0.687286           0.001403  \n",
       "3             0.687286           0.001403  \n",
       "5             0.687286           0.001403  \n",
       "6             0.683143           0.000041  \n",
       "10            0.579980           0.016439  \n",
       "8             0.679551           0.002079  \n",
       "4             0.683143           0.000041  "
      ]
     },
     "execution_count": 33,
     "metadata": {},
     "output_type": "execute_result"
    }
   ],
   "source": [
    "linear_grid_df = pd.DataFrame(linear_svc_grid.cv_results_)\n",
    "linear_grid_df.sort_values(['mean_test_roc_auc', 'mean_test_accuracy'], ascending=False)[['mean_fit_time', 'mean_score_time', 'param_linearsvc__C', 'param_linearsvc__loss', 'param_linearsvc__penalty', 'mean_test_roc_auc', 'std_test_roc_auc', 'mean_test_accuracy', 'std_test_accuracy']]"
   ]
  },
  {
   "cell_type": "code",
   "execution_count": 32,
   "metadata": {},
   "outputs": [
    {
     "data": {
      "text/plain": [
       "(0.5115836477763777, 0.6833333333333333)"
      ]
     },
     "execution_count": 32,
     "metadata": {},
     "output_type": "execute_result"
    }
   ],
   "source": [
    "y_test_linear_svc = linear_svc_grid.predict(X_test)\n",
    "(roc_auc_score(y_test, y_test_linear_svc), accuracy_score(y_test, y_test_linear_svc))"
   ]
  },
  {
   "cell_type": "markdown",
   "metadata": {},
   "source": [
    "## Modelos - separação complexa"
   ]
  },
  {
   "cell_type": "markdown",
   "metadata": {},
   "source": [
    "### Plug-in\n",
    "\n",
    "K-Nearest Neighbours"
   ]
  },
  {
   "cell_type": "code",
   "execution_count": 34,
   "metadata": {},
   "outputs": [
    {
     "name": "stdout",
     "output_type": "stream",
     "text": [
      "Fitting 5 folds for each of 24 candidates, totalling 120 fits\n",
      "[CV 1/5] END knn__metric=euclidean, knn__n_neighbors=3, knn__weights=uniform; accuracy: (test=0.648) roc_auc: (test=0.595) total time=   4.9s\n",
      "[CV 2/5] END knn__metric=euclidean, knn__n_neighbors=3, knn__weights=uniform; accuracy: (test=0.649) roc_auc: (test=0.590) total time=   3.8s\n",
      "[CV 3/5] END knn__metric=euclidean, knn__n_neighbors=3, knn__weights=uniform; accuracy: (test=0.654) roc_auc: (test=0.606) total time=   4.6s\n",
      "[CV 4/5] END knn__metric=euclidean, knn__n_neighbors=3, knn__weights=uniform; accuracy: (test=0.653) roc_auc: (test=0.600) total time=   4.2s\n",
      "[CV 5/5] END knn__metric=euclidean, knn__n_neighbors=3, knn__weights=uniform; accuracy: (test=0.654) roc_auc: (test=0.598) total time=   4.5s\n",
      "[CV 1/5] END knn__metric=euclidean, knn__n_neighbors=3, knn__weights=distance; accuracy: (test=0.648) roc_auc: (test=0.602) total time=   3.2s\n",
      "[CV 2/5] END knn__metric=euclidean, knn__n_neighbors=3, knn__weights=distance; accuracy: (test=0.650) roc_auc: (test=0.597) total time=   3.9s\n",
      "[CV 3/5] END knn__metric=euclidean, knn__n_neighbors=3, knn__weights=distance; accuracy: (test=0.654) roc_auc: (test=0.613) total time=   4.1s\n",
      "[CV 4/5] END knn__metric=euclidean, knn__n_neighbors=3, knn__weights=distance; accuracy: (test=0.654) roc_auc: (test=0.610) total time=   3.8s\n",
      "[CV 5/5] END knn__metric=euclidean, knn__n_neighbors=3, knn__weights=distance; accuracy: (test=0.654) roc_auc: (test=0.606) total time=   4.2s\n",
      "[CV 1/5] END knn__metric=euclidean, knn__n_neighbors=5, knn__weights=uniform; accuracy: (test=0.662) roc_auc: (test=0.607) total time=   3.9s\n",
      "[CV 2/5] END knn__metric=euclidean, knn__n_neighbors=5, knn__weights=uniform; accuracy: (test=0.662) roc_auc: (test=0.601) total time=   4.6s\n",
      "[CV 3/5] END knn__metric=euclidean, knn__n_neighbors=5, knn__weights=uniform; accuracy: (test=0.664) roc_auc: (test=0.609) total time=   4.0s\n",
      "[CV 4/5] END knn__metric=euclidean, knn__n_neighbors=5, knn__weights=uniform; accuracy: (test=0.664) roc_auc: (test=0.609) total time=   4.5s\n",
      "[CV 5/5] END knn__metric=euclidean, knn__n_neighbors=5, knn__weights=uniform; accuracy: (test=0.663) roc_auc: (test=0.604) total time=   4.3s\n",
      "[CV 1/5] END knn__metric=euclidean, knn__n_neighbors=5, knn__weights=distance; accuracy: (test=0.662) roc_auc: (test=0.615) total time=   4.2s\n",
      "[CV 2/5] END knn__metric=euclidean, knn__n_neighbors=5, knn__weights=distance; accuracy: (test=0.663) roc_auc: (test=0.608) total time=   3.7s\n",
      "[CV 3/5] END knn__metric=euclidean, knn__n_neighbors=5, knn__weights=distance; accuracy: (test=0.665) roc_auc: (test=0.619) total time=   3.4s\n",
      "[CV 4/5] END knn__metric=euclidean, knn__n_neighbors=5, knn__weights=distance; accuracy: (test=0.665) roc_auc: (test=0.620) total time=   4.1s\n",
      "[CV 5/5] END knn__metric=euclidean, knn__n_neighbors=5, knn__weights=distance; accuracy: (test=0.663) roc_auc: (test=0.615) total time=   3.5s\n",
      "[CV 1/5] END knn__metric=euclidean, knn__n_neighbors=11, knn__weights=uniform; accuracy: (test=0.676) roc_auc: (test=0.616) total time=   4.0s\n",
      "[CV 2/5] END knn__metric=euclidean, knn__n_neighbors=11, knn__weights=uniform; accuracy: (test=0.678) roc_auc: (test=0.606) total time=   3.9s\n",
      "[CV 3/5] END knn__metric=euclidean, knn__n_neighbors=11, knn__weights=uniform; accuracy: (test=0.682) roc_auc: (test=0.620) total time=   4.4s\n",
      "[CV 4/5] END knn__metric=euclidean, knn__n_neighbors=11, knn__weights=uniform; accuracy: (test=0.681) roc_auc: (test=0.619) total time=   4.5s\n",
      "[CV 5/5] END knn__metric=euclidean, knn__n_neighbors=11, knn__weights=uniform; accuracy: (test=0.679) roc_auc: (test=0.621) total time=   4.1s\n",
      "[CV 1/5] END knn__metric=euclidean, knn__n_neighbors=11, knn__weights=distance; accuracy: (test=0.676) roc_auc: (test=0.624) total time=   3.8s\n",
      "[CV 2/5] END knn__metric=euclidean, knn__n_neighbors=11, knn__weights=distance; accuracy: (test=0.679) roc_auc: (test=0.614) total time=   3.9s\n",
      "[CV 3/5] END knn__metric=euclidean, knn__n_neighbors=11, knn__weights=distance; accuracy: (test=0.683) roc_auc: (test=0.629) total time=   3.8s\n",
      "[CV 4/5] END knn__metric=euclidean, knn__n_neighbors=11, knn__weights=distance; accuracy: (test=0.682) roc_auc: (test=0.629) total time=   3.9s\n",
      "[CV 5/5] END knn__metric=euclidean, knn__n_neighbors=11, knn__weights=distance; accuracy: (test=0.681) roc_auc: (test=0.629) total time=   3.9s\n",
      "[CV 1/5] END knn__metric=euclidean, knn__n_neighbors=25, knn__weights=uniform; accuracy: (test=0.686) roc_auc: (test=0.619) total time=   4.6s\n",
      "[CV 2/5] END knn__metric=euclidean, knn__n_neighbors=25, knn__weights=uniform; accuracy: (test=0.689) roc_auc: (test=0.613) total time=   4.4s\n",
      "[CV 3/5] END knn__metric=euclidean, knn__n_neighbors=25, knn__weights=uniform; accuracy: (test=0.687) roc_auc: (test=0.619) total time=   4.8s\n",
      "[CV 4/5] END knn__metric=euclidean, knn__n_neighbors=25, knn__weights=uniform; accuracy: (test=0.686) roc_auc: (test=0.625) total time=   4.9s\n",
      "[CV 5/5] END knn__metric=euclidean, knn__n_neighbors=25, knn__weights=uniform; accuracy: (test=0.686) roc_auc: (test=0.625) total time=   4.6s\n",
      "[CV 1/5] END knn__metric=euclidean, knn__n_neighbors=25, knn__weights=distance; accuracy: (test=0.687) roc_auc: (test=0.626) total time=   3.9s\n",
      "[CV 2/5] END knn__metric=euclidean, knn__n_neighbors=25, knn__weights=distance; accuracy: (test=0.691) roc_auc: (test=0.620) total time=   4.6s\n",
      "[CV 3/5] END knn__metric=euclidean, knn__n_neighbors=25, knn__weights=distance; accuracy: (test=0.688) roc_auc: (test=0.626) total time=   4.5s\n",
      "[CV 4/5] END knn__metric=euclidean, knn__n_neighbors=25, knn__weights=distance; accuracy: (test=0.687) roc_auc: (test=0.632) total time=   4.7s\n",
      "[CV 5/5] END knn__metric=euclidean, knn__n_neighbors=25, knn__weights=distance; accuracy: (test=0.688) roc_auc: (test=0.632) total time=   4.3s\n",
      "[CV 1/5] END knn__metric=manhattan, knn__n_neighbors=3, knn__weights=uniform; accuracy: (test=0.674) roc_auc: (test=0.634) total time=  21.0s\n",
      "[CV 2/5] END knn__metric=manhattan, knn__n_neighbors=3, knn__weights=uniform; accuracy: (test=0.672) roc_auc: (test=0.625) total time=  19.9s\n",
      "[CV 3/5] END knn__metric=manhattan, knn__n_neighbors=3, knn__weights=uniform; accuracy: (test=0.675) roc_auc: (test=0.643) total time=  21.2s\n",
      "[CV 4/5] END knn__metric=manhattan, knn__n_neighbors=3, knn__weights=uniform; accuracy: (test=0.683) roc_auc: (test=0.647) total time=  22.0s\n",
      "[CV 5/5] END knn__metric=manhattan, knn__n_neighbors=3, knn__weights=uniform; accuracy: (test=0.674) roc_auc: (test=0.638) total time=  22.4s\n",
      "[CV 1/5] END knn__metric=manhattan, knn__n_neighbors=3, knn__weights=distance; accuracy: (test=0.675) roc_auc: (test=0.644) total time=  20.9s\n",
      "[CV 2/5] END knn__metric=manhattan, knn__n_neighbors=3, knn__weights=distance; accuracy: (test=0.672) roc_auc: (test=0.636) total time=  20.5s\n",
      "[CV 3/5] END knn__metric=manhattan, knn__n_neighbors=3, knn__weights=distance; accuracy: (test=0.674) roc_auc: (test=0.654) total time=  19.5s\n",
      "[CV 4/5] END knn__metric=manhattan, knn__n_neighbors=3, knn__weights=distance; accuracy: (test=0.683) roc_auc: (test=0.661) total time=  21.9s\n",
      "[CV 5/5] END knn__metric=manhattan, knn__n_neighbors=3, knn__weights=distance; accuracy: (test=0.674) roc_auc: (test=0.648) total time=  20.4s\n",
      "[CV 1/5] END knn__metric=manhattan, knn__n_neighbors=5, knn__weights=uniform; accuracy: (test=0.683) roc_auc: (test=0.648) total time=  21.7s\n",
      "[CV 2/5] END knn__metric=manhattan, knn__n_neighbors=5, knn__weights=uniform; accuracy: (test=0.685) roc_auc: (test=0.635) total time=  18.8s\n",
      "[CV 3/5] END knn__metric=manhattan, knn__n_neighbors=5, knn__weights=uniform; accuracy: (test=0.689) roc_auc: (test=0.656) total time=  21.9s\n",
      "[CV 4/5] END knn__metric=manhattan, knn__n_neighbors=5, knn__weights=uniform; accuracy: (test=0.693) roc_auc: (test=0.656) total time=  21.4s\n",
      "[CV 5/5] END knn__metric=manhattan, knn__n_neighbors=5, knn__weights=uniform; accuracy: (test=0.687) roc_auc: (test=0.651) total time=  17.7s\n",
      "[CV 1/5] END knn__metric=manhattan, knn__n_neighbors=5, knn__weights=distance; accuracy: (test=0.684) roc_auc: (test=0.661) total time=  20.8s\n",
      "[CV 2/5] END knn__metric=manhattan, knn__n_neighbors=5, knn__weights=distance; accuracy: (test=0.686) roc_auc: (test=0.648) total time=  21.5s\n",
      "[CV 3/5] END knn__metric=manhattan, knn__n_neighbors=5, knn__weights=distance; accuracy: (test=0.690) roc_auc: (test=0.668) total time=  18.7s\n",
      "[CV 4/5] END knn__metric=manhattan, knn__n_neighbors=5, knn__weights=distance; accuracy: (test=0.693) roc_auc: (test=0.672) total time=  18.8s\n",
      "[CV 5/5] END knn__metric=manhattan, knn__n_neighbors=5, knn__weights=distance; accuracy: (test=0.688) roc_auc: (test=0.664) total time=  20.9s\n",
      "[CV 1/5] END knn__metric=manhattan, knn__n_neighbors=11, knn__weights=uniform; accuracy: (test=0.698) roc_auc: (test=0.651) total time=  20.7s\n",
      "[CV 2/5] END knn__metric=manhattan, knn__n_neighbors=11, knn__weights=uniform; accuracy: (test=0.691) roc_auc: (test=0.644) total time=  21.0s\n",
      "[CV 3/5] END knn__metric=manhattan, knn__n_neighbors=11, knn__weights=uniform; accuracy: (test=0.692) roc_auc: (test=0.658) total time=  20.9s\n",
      "[CV 4/5] END knn__metric=manhattan, knn__n_neighbors=11, knn__weights=uniform; accuracy: (test=0.698) roc_auc: (test=0.661) total time=  20.6s\n",
      "[CV 5/5] END knn__metric=manhattan, knn__n_neighbors=11, knn__weights=uniform; accuracy: (test=0.700) roc_auc: (test=0.661) total time=  21.1s\n",
      "[CV 1/5] END knn__metric=manhattan, knn__n_neighbors=11, knn__weights=distance; accuracy: (test=0.698) roc_auc: (test=0.665) total time=  19.4s\n",
      "[CV 2/5] END knn__metric=manhattan, knn__n_neighbors=11, knn__weights=distance; accuracy: (test=0.692) roc_auc: (test=0.657) total time=  21.0s\n",
      "[CV 3/5] END knn__metric=manhattan, knn__n_neighbors=11, knn__weights=distance; accuracy: (test=0.695) roc_auc: (test=0.672) total time=  21.5s\n",
      "[CV 4/5] END knn__metric=manhattan, knn__n_neighbors=11, knn__weights=distance; accuracy: (test=0.702) roc_auc: (test=0.677) total time=  19.2s\n",
      "[CV 5/5] END knn__metric=manhattan, knn__n_neighbors=11, knn__weights=distance; accuracy: (test=0.700) roc_auc: (test=0.673) total time=  19.0s\n",
      "[CV 1/5] END knn__metric=manhattan, knn__n_neighbors=25, knn__weights=uniform; accuracy: (test=0.694) roc_auc: (test=0.658) total time=  20.5s\n",
      "[CV 2/5] END knn__metric=manhattan, knn__n_neighbors=25, knn__weights=uniform; accuracy: (test=0.695) roc_auc: (test=0.650) total time=  20.6s\n",
      "[CV 3/5] END knn__metric=manhattan, knn__n_neighbors=25, knn__weights=uniform; accuracy: (test=0.691) roc_auc: (test=0.656) total time=  19.5s\n",
      "[CV 4/5] END knn__metric=manhattan, knn__n_neighbors=25, knn__weights=uniform; accuracy: (test=0.696) roc_auc: (test=0.666) total time=  19.0s\n",
      "[CV 5/5] END knn__metric=manhattan, knn__n_neighbors=25, knn__weights=uniform; accuracy: (test=0.695) roc_auc: (test=0.661) total time=  21.3s\n",
      "[CV 1/5] END knn__metric=manhattan, knn__n_neighbors=25, knn__weights=distance; accuracy: (test=0.698) roc_auc: (test=0.670) total time=  19.3s\n",
      "[CV 2/5] END knn__metric=manhattan, knn__n_neighbors=25, knn__weights=distance; accuracy: (test=0.698) roc_auc: (test=0.662) total time=  20.3s\n",
      "[CV 3/5] END knn__metric=manhattan, knn__n_neighbors=25, knn__weights=distance; accuracy: (test=0.694) roc_auc: (test=0.669) total time=  19.8s\n",
      "[CV 4/5] END knn__metric=manhattan, knn__n_neighbors=25, knn__weights=distance; accuracy: (test=0.700) roc_auc: (test=0.680) total time=  21.3s\n",
      "[CV 5/5] END knn__metric=manhattan, knn__n_neighbors=25, knn__weights=distance; accuracy: (test=0.699) roc_auc: (test=0.673) total time=  20.7s\n",
      "[CV 1/5] END knn__metric=hamming, knn__n_neighbors=3, knn__weights=uniform; accuracy: (test=0.739) roc_auc: (test=0.737) total time= 1.3min\n",
      "[CV 2/5] END knn__metric=hamming, knn__n_neighbors=3, knn__weights=uniform; accuracy: (test=0.739) roc_auc: (test=0.735) total time= 1.3min\n",
      "[CV 3/5] END knn__metric=hamming, knn__n_neighbors=3, knn__weights=uniform; accuracy: (test=0.738) roc_auc: (test=0.735) total time= 1.3min\n",
      "[CV 4/5] END knn__metric=hamming, knn__n_neighbors=3, knn__weights=uniform; accuracy: (test=0.747) roc_auc: (test=0.750) total time= 1.3min\n",
      "[CV 5/5] END knn__metric=hamming, knn__n_neighbors=3, knn__weights=uniform; accuracy: (test=0.744) roc_auc: (test=0.737) total time= 1.3min\n",
      "[CV 1/5] END knn__metric=hamming, knn__n_neighbors=3, knn__weights=distance; accuracy: (test=0.739) roc_auc: (test=0.743) total time= 1.2min\n",
      "[CV 2/5] END knn__metric=hamming, knn__n_neighbors=3, knn__weights=distance; accuracy: (test=0.739) roc_auc: (test=0.736) total time= 1.2min\n",
      "[CV 3/5] END knn__metric=hamming, knn__n_neighbors=3, knn__weights=distance; accuracy: (test=0.738) roc_auc: (test=0.739) total time= 1.2min\n",
      "[CV 4/5] END knn__metric=hamming, knn__n_neighbors=3, knn__weights=distance; accuracy: (test=0.747) roc_auc: (test=0.754) total time= 1.3min\n",
      "[CV 5/5] END knn__metric=hamming, knn__n_neighbors=3, knn__weights=distance; accuracy: (test=0.744) roc_auc: (test=0.738) total time= 1.3min\n",
      "[CV 1/5] END knn__metric=hamming, knn__n_neighbors=5, knn__weights=uniform; accuracy: (test=0.754) roc_auc: (test=0.772) total time= 1.3min\n",
      "[CV 2/5] END knn__metric=hamming, knn__n_neighbors=5, knn__weights=uniform; accuracy: (test=0.749) roc_auc: (test=0.766) total time= 1.3min\n",
      "[CV 3/5] END knn__metric=hamming, knn__n_neighbors=5, knn__weights=uniform; accuracy: (test=0.754) roc_auc: (test=0.771) total time= 1.3min\n",
      "[CV 4/5] END knn__metric=hamming, knn__n_neighbors=5, knn__weights=uniform; accuracy: (test=0.763) roc_auc: (test=0.783) total time= 1.3min\n",
      "[CV 5/5] END knn__metric=hamming, knn__n_neighbors=5, knn__weights=uniform; accuracy: (test=0.760) roc_auc: (test=0.770) total time= 1.3min\n",
      "[CV 1/5] END knn__metric=hamming, knn__n_neighbors=5, knn__weights=distance; accuracy: (test=0.754) roc_auc: (test=0.780) total time= 1.3min\n",
      "[CV 2/5] END knn__metric=hamming, knn__n_neighbors=5, knn__weights=distance; accuracy: (test=0.749) roc_auc: (test=0.772) total time= 1.3min\n",
      "[CV 3/5] END knn__metric=hamming, knn__n_neighbors=5, knn__weights=distance; accuracy: (test=0.754) roc_auc: (test=0.777) total time= 1.3min\n",
      "[CV 4/5] END knn__metric=hamming, knn__n_neighbors=5, knn__weights=distance; accuracy: (test=0.763) roc_auc: (test=0.790) total time= 1.3min\n",
      "[CV 5/5] END knn__metric=hamming, knn__n_neighbors=5, knn__weights=distance; accuracy: (test=0.759) roc_auc: (test=0.773) total time= 1.3min\n",
      "[CV 1/5] END knn__metric=hamming, knn__n_neighbors=11, knn__weights=uniform; accuracy: (test=0.747) roc_auc: (test=0.778) total time= 1.3min\n",
      "[CV 2/5] END knn__metric=hamming, knn__n_neighbors=11, knn__weights=uniform; accuracy: (test=0.750) roc_auc: (test=0.779) total time= 1.3min\n",
      "[CV 3/5] END knn__metric=hamming, knn__n_neighbors=11, knn__weights=uniform; accuracy: (test=0.749) roc_auc: (test=0.778) total time= 1.3min\n",
      "[CV 4/5] END knn__metric=hamming, knn__n_neighbors=11, knn__weights=uniform; accuracy: (test=0.757) roc_auc: (test=0.790) total time= 1.3min\n",
      "[CV 5/5] END knn__metric=hamming, knn__n_neighbors=11, knn__weights=uniform; accuracy: (test=0.752) roc_auc: (test=0.781) total time= 1.3min\n",
      "[CV 1/5] END knn__metric=hamming, knn__n_neighbors=11, knn__weights=distance; accuracy: (test=0.750) roc_auc: (test=0.792) total time= 1.3min\n",
      "[CV 2/5] END knn__metric=hamming, knn__n_neighbors=11, knn__weights=distance; accuracy: (test=0.752) roc_auc: (test=0.790) total time= 1.3min\n",
      "[CV 3/5] END knn__metric=hamming, knn__n_neighbors=11, knn__weights=distance; accuracy: (test=0.752) roc_auc: (test=0.791) total time= 1.3min\n",
      "[CV 4/5] END knn__metric=hamming, knn__n_neighbors=11, knn__weights=distance; accuracy: (test=0.761) roc_auc: (test=0.804) total time= 1.3min\n",
      "[CV 5/5] END knn__metric=hamming, knn__n_neighbors=11, knn__weights=distance; accuracy: (test=0.754) roc_auc: (test=0.792) total time= 1.3min\n",
      "[CV 1/5] END knn__metric=hamming, knn__n_neighbors=25, knn__weights=uniform; accuracy: (test=0.720) roc_auc: (test=0.744) total time= 1.3min\n",
      "[CV 2/5] END knn__metric=hamming, knn__n_neighbors=25, knn__weights=uniform; accuracy: (test=0.718) roc_auc: (test=0.746) total time= 1.3min\n",
      "[CV 3/5] END knn__metric=hamming, knn__n_neighbors=25, knn__weights=uniform; accuracy: (test=0.721) roc_auc: (test=0.754) total time= 1.3min\n",
      "[CV 4/5] END knn__metric=hamming, knn__n_neighbors=25, knn__weights=uniform; accuracy: (test=0.723) roc_auc: (test=0.760) total time= 1.3min\n",
      "[CV 5/5] END knn__metric=hamming, knn__n_neighbors=25, knn__weights=uniform; accuracy: (test=0.719) roc_auc: (test=0.748) total time= 1.3min\n",
      "[CV 1/5] END knn__metric=hamming, knn__n_neighbors=25, knn__weights=distance; accuracy: (test=0.726) roc_auc: (test=0.765) total time= 1.3min\n",
      "[CV 2/5] END knn__metric=hamming, knn__n_neighbors=25, knn__weights=distance; accuracy: (test=0.726) roc_auc: (test=0.766) total time= 1.3min\n",
      "[CV 3/5] END knn__metric=hamming, knn__n_neighbors=25, knn__weights=distance; accuracy: (test=0.729) roc_auc: (test=0.773) total time= 1.2min\n",
      "[CV 4/5] END knn__metric=hamming, knn__n_neighbors=25, knn__weights=distance; accuracy: (test=0.728) roc_auc: (test=0.781) total time= 1.2min\n",
      "[CV 5/5] END knn__metric=hamming, knn__n_neighbors=25, knn__weights=distance; accuracy: (test=0.725) roc_auc: (test=0.768) total time= 1.2min\n"
     ]
    },
    {
     "data": {
      "text/html": [
       "<style>#sk-container-id-3 {color: black;}#sk-container-id-3 pre{padding: 0;}#sk-container-id-3 div.sk-toggleable {background-color: white;}#sk-container-id-3 label.sk-toggleable__label {cursor: pointer;display: block;width: 100%;margin-bottom: 0;padding: 0.3em;box-sizing: border-box;text-align: center;}#sk-container-id-3 label.sk-toggleable__label-arrow:before {content: \"▸\";float: left;margin-right: 0.25em;color: #696969;}#sk-container-id-3 label.sk-toggleable__label-arrow:hover:before {color: black;}#sk-container-id-3 div.sk-estimator:hover label.sk-toggleable__label-arrow:before {color: black;}#sk-container-id-3 div.sk-toggleable__content {max-height: 0;max-width: 0;overflow: hidden;text-align: left;background-color: #f0f8ff;}#sk-container-id-3 div.sk-toggleable__content pre {margin: 0.2em;color: black;border-radius: 0.25em;background-color: #f0f8ff;}#sk-container-id-3 input.sk-toggleable__control:checked~div.sk-toggleable__content {max-height: 200px;max-width: 100%;overflow: auto;}#sk-container-id-3 input.sk-toggleable__control:checked~label.sk-toggleable__label-arrow:before {content: \"▾\";}#sk-container-id-3 div.sk-estimator input.sk-toggleable__control:checked~label.sk-toggleable__label {background-color: #d4ebff;}#sk-container-id-3 div.sk-label input.sk-toggleable__control:checked~label.sk-toggleable__label {background-color: #d4ebff;}#sk-container-id-3 input.sk-hidden--visually {border: 0;clip: rect(1px 1px 1px 1px);clip: rect(1px, 1px, 1px, 1px);height: 1px;margin: -1px;overflow: hidden;padding: 0;position: absolute;width: 1px;}#sk-container-id-3 div.sk-estimator {font-family: monospace;background-color: #f0f8ff;border: 1px dotted black;border-radius: 0.25em;box-sizing: border-box;margin-bottom: 0.5em;}#sk-container-id-3 div.sk-estimator:hover {background-color: #d4ebff;}#sk-container-id-3 div.sk-parallel-item::after {content: \"\";width: 100%;border-bottom: 1px solid gray;flex-grow: 1;}#sk-container-id-3 div.sk-label:hover label.sk-toggleable__label {background-color: #d4ebff;}#sk-container-id-3 div.sk-serial::before {content: \"\";position: absolute;border-left: 1px solid gray;box-sizing: border-box;top: 0;bottom: 0;left: 50%;z-index: 0;}#sk-container-id-3 div.sk-serial {display: flex;flex-direction: column;align-items: center;background-color: white;padding-right: 0.2em;padding-left: 0.2em;position: relative;}#sk-container-id-3 div.sk-item {position: relative;z-index: 1;}#sk-container-id-3 div.sk-parallel {display: flex;align-items: stretch;justify-content: center;background-color: white;position: relative;}#sk-container-id-3 div.sk-item::before, #sk-container-id-3 div.sk-parallel-item::before {content: \"\";position: absolute;border-left: 1px solid gray;box-sizing: border-box;top: 0;bottom: 0;left: 50%;z-index: -1;}#sk-container-id-3 div.sk-parallel-item {display: flex;flex-direction: column;z-index: 1;position: relative;background-color: white;}#sk-container-id-3 div.sk-parallel-item:first-child::after {align-self: flex-end;width: 50%;}#sk-container-id-3 div.sk-parallel-item:last-child::after {align-self: flex-start;width: 50%;}#sk-container-id-3 div.sk-parallel-item:only-child::after {width: 0;}#sk-container-id-3 div.sk-dashed-wrapped {border: 1px dashed gray;margin: 0 0.4em 0.5em 0.4em;box-sizing: border-box;padding-bottom: 0.4em;background-color: white;}#sk-container-id-3 div.sk-label label {font-family: monospace;font-weight: bold;display: inline-block;line-height: 1.2em;}#sk-container-id-3 div.sk-label-container {text-align: center;}#sk-container-id-3 div.sk-container {/* jupyter's `normalize.less` sets `[hidden] { display: none; }` but bootstrap.min.css set `[hidden] { display: none !important; }` so we also need the `!important` here to be able to override the default hidden behavior on the sphinx rendered scikit-learn.org. See: https://github.com/scikit-learn/scikit-learn/issues/21755 */display: inline-block !important;position: relative;}#sk-container-id-3 div.sk-text-repr-fallback {display: none;}</style><div id=\"sk-container-id-3\" class=\"sk-top-container\"><div class=\"sk-text-repr-fallback\"><pre>GridSearchCV(estimator=Pipeline(steps=[(&#x27;scaler&#x27;, StandardScaler()),\n",
       "                                       (&#x27;knn&#x27;, KNeighborsClassifier())]),\n",
       "             param_grid=[{&#x27;knn__metric&#x27;: [&#x27;euclidean&#x27;, &#x27;manhattan&#x27;, &#x27;hamming&#x27;],\n",
       "                          &#x27;knn__n_neighbors&#x27;: [3, 5, 11, 25],\n",
       "                          &#x27;knn__weights&#x27;: [&#x27;uniform&#x27;, &#x27;distance&#x27;]}],\n",
       "             refit=&#x27;roc_auc&#x27;, scoring=(&#x27;roc_auc&#x27;, &#x27;accuracy&#x27;), verbose=4)</pre><b>In a Jupyter environment, please rerun this cell to show the HTML representation or trust the notebook. <br />On GitHub, the HTML representation is unable to render, please try loading this page with nbviewer.org.</b></div><div class=\"sk-container\" hidden><div class=\"sk-item sk-dashed-wrapped\"><div class=\"sk-label-container\"><div class=\"sk-label sk-toggleable\"><input class=\"sk-toggleable__control sk-hidden--visually\" id=\"sk-estimator-id-6\" type=\"checkbox\" ><label for=\"sk-estimator-id-6\" class=\"sk-toggleable__label sk-toggleable__label-arrow\">GridSearchCV</label><div class=\"sk-toggleable__content\"><pre>GridSearchCV(estimator=Pipeline(steps=[(&#x27;scaler&#x27;, StandardScaler()),\n",
       "                                       (&#x27;knn&#x27;, KNeighborsClassifier())]),\n",
       "             param_grid=[{&#x27;knn__metric&#x27;: [&#x27;euclidean&#x27;, &#x27;manhattan&#x27;, &#x27;hamming&#x27;],\n",
       "                          &#x27;knn__n_neighbors&#x27;: [3, 5, 11, 25],\n",
       "                          &#x27;knn__weights&#x27;: [&#x27;uniform&#x27;, &#x27;distance&#x27;]}],\n",
       "             refit=&#x27;roc_auc&#x27;, scoring=(&#x27;roc_auc&#x27;, &#x27;accuracy&#x27;), verbose=4)</pre></div></div></div><div class=\"sk-parallel\"><div class=\"sk-parallel-item\"><div class=\"sk-item\"><div class=\"sk-label-container\"><div class=\"sk-label sk-toggleable\"><input class=\"sk-toggleable__control sk-hidden--visually\" id=\"sk-estimator-id-7\" type=\"checkbox\" ><label for=\"sk-estimator-id-7\" class=\"sk-toggleable__label sk-toggleable__label-arrow\">estimator: Pipeline</label><div class=\"sk-toggleable__content\"><pre>Pipeline(steps=[(&#x27;scaler&#x27;, StandardScaler()), (&#x27;knn&#x27;, KNeighborsClassifier())])</pre></div></div></div><div class=\"sk-serial\"><div class=\"sk-item\"><div class=\"sk-serial\"><div class=\"sk-item\"><div class=\"sk-estimator sk-toggleable\"><input class=\"sk-toggleable__control sk-hidden--visually\" id=\"sk-estimator-id-8\" type=\"checkbox\" ><label for=\"sk-estimator-id-8\" class=\"sk-toggleable__label sk-toggleable__label-arrow\">StandardScaler</label><div class=\"sk-toggleable__content\"><pre>StandardScaler()</pre></div></div></div><div class=\"sk-item\"><div class=\"sk-estimator sk-toggleable\"><input class=\"sk-toggleable__control sk-hidden--visually\" id=\"sk-estimator-id-9\" type=\"checkbox\" ><label for=\"sk-estimator-id-9\" class=\"sk-toggleable__label sk-toggleable__label-arrow\">KNeighborsClassifier</label><div class=\"sk-toggleable__content\"><pre>KNeighborsClassifier()</pre></div></div></div></div></div></div></div></div></div></div></div></div>"
      ],
      "text/plain": [
       "GridSearchCV(estimator=Pipeline(steps=[('scaler', StandardScaler()),\n",
       "                                       ('knn', KNeighborsClassifier())]),\n",
       "             param_grid=[{'knn__metric': ['euclidean', 'manhattan', 'hamming'],\n",
       "                          'knn__n_neighbors': [3, 5, 11, 25],\n",
       "                          'knn__weights': ['uniform', 'distance']}],\n",
       "             refit='roc_auc', scoring=('roc_auc', 'accuracy'), verbose=4)"
      ]
     },
     "execution_count": 34,
     "metadata": {},
     "output_type": "execute_result"
    }
   ],
   "source": [
    "from sklearn.neighbors import KNeighborsClassifier\n",
    "\n",
    "knn_params = [\n",
    "    {\n",
    "        'knn__n_neighbors': [3,5,11,25],\n",
    "        'knn__weights': ['uniform', 'distance'],\n",
    "        'knn__metric': ['euclidean', 'manhattan', 'hamming'],\n",
    "    },\n",
    "]\n",
    "\n",
    "knn_grid = GridSearchCV(\n",
    "    Pipeline(steps=[('scaler', StandardScaler()), ('knn', KNeighborsClassifier())]),\n",
    "    knn_params,\n",
    "    verbose=4,\n",
    "    scoring=('roc_auc', 'accuracy'),\n",
    "    refit='roc_auc')\n",
    "knn_grid.fit(X_train, y_train)"
   ]
  },
  {
   "cell_type": "code",
   "execution_count": 35,
   "metadata": {},
   "outputs": [
    {
     "data": {
      "text/html": [
       "<div>\n",
       "<style scoped>\n",
       "    .dataframe tbody tr th:only-of-type {\n",
       "        vertical-align: middle;\n",
       "    }\n",
       "\n",
       "    .dataframe tbody tr th {\n",
       "        vertical-align: top;\n",
       "    }\n",
       "\n",
       "    .dataframe thead th {\n",
       "        text-align: right;\n",
       "    }\n",
       "</style>\n",
       "<table border=\"1\" class=\"dataframe\">\n",
       "  <thead>\n",
       "    <tr style=\"text-align: right;\">\n",
       "      <th></th>\n",
       "      <th>mean_fit_time</th>\n",
       "      <th>mean_score_time</th>\n",
       "      <th>param_knn__n_neighbors</th>\n",
       "      <th>param_knn__weights</th>\n",
       "      <th>param_knn__metric</th>\n",
       "      <th>mean_test_roc_auc</th>\n",
       "      <th>std_test_roc_auc</th>\n",
       "      <th>mean_test_accuracy</th>\n",
       "      <th>std_test_accuracy</th>\n",
       "    </tr>\n",
       "  </thead>\n",
       "  <tbody>\n",
       "    <tr>\n",
       "      <th>21</th>\n",
       "      <td>0.103019</td>\n",
       "      <td>76.943582</td>\n",
       "      <td>11</td>\n",
       "      <td>distance</td>\n",
       "      <td>hamming</td>\n",
       "      <td>0.793647</td>\n",
       "      <td>0.005053</td>\n",
       "      <td>0.753694</td>\n",
       "      <td>0.003910</td>\n",
       "    </tr>\n",
       "    <tr>\n",
       "      <th>20</th>\n",
       "      <td>0.108160</td>\n",
       "      <td>77.157954</td>\n",
       "      <td>11</td>\n",
       "      <td>uniform</td>\n",
       "      <td>hamming</td>\n",
       "      <td>0.781126</td>\n",
       "      <td>0.004733</td>\n",
       "      <td>0.751041</td>\n",
       "      <td>0.003580</td>\n",
       "    </tr>\n",
       "    <tr>\n",
       "      <th>19</th>\n",
       "      <td>0.101309</td>\n",
       "      <td>76.990658</td>\n",
       "      <td>5</td>\n",
       "      <td>distance</td>\n",
       "      <td>hamming</td>\n",
       "      <td>0.778447</td>\n",
       "      <td>0.006377</td>\n",
       "      <td>0.756061</td>\n",
       "      <td>0.004758</td>\n",
       "    </tr>\n",
       "    <tr>\n",
       "      <th>18</th>\n",
       "      <td>0.104735</td>\n",
       "      <td>77.333661</td>\n",
       "      <td>5</td>\n",
       "      <td>uniform</td>\n",
       "      <td>hamming</td>\n",
       "      <td>0.772393</td>\n",
       "      <td>0.005764</td>\n",
       "      <td>0.756122</td>\n",
       "      <td>0.004708</td>\n",
       "    </tr>\n",
       "    <tr>\n",
       "      <th>23</th>\n",
       "      <td>0.096884</td>\n",
       "      <td>74.740890</td>\n",
       "      <td>25</td>\n",
       "      <td>distance</td>\n",
       "      <td>hamming</td>\n",
       "      <td>0.770443</td>\n",
       "      <td>0.005770</td>\n",
       "      <td>0.726837</td>\n",
       "      <td>0.001315</td>\n",
       "    </tr>\n",
       "    <tr>\n",
       "      <th>22</th>\n",
       "      <td>0.104579</td>\n",
       "      <td>76.562864</td>\n",
       "      <td>25</td>\n",
       "      <td>uniform</td>\n",
       "      <td>hamming</td>\n",
       "      <td>0.750262</td>\n",
       "      <td>0.005800</td>\n",
       "      <td>0.720224</td>\n",
       "      <td>0.001733</td>\n",
       "    </tr>\n",
       "    <tr>\n",
       "      <th>17</th>\n",
       "      <td>0.099026</td>\n",
       "      <td>74.847856</td>\n",
       "      <td>3</td>\n",
       "      <td>distance</td>\n",
       "      <td>hamming</td>\n",
       "      <td>0.742002</td>\n",
       "      <td>0.006420</td>\n",
       "      <td>0.741265</td>\n",
       "      <td>0.003473</td>\n",
       "    </tr>\n",
       "    <tr>\n",
       "      <th>16</th>\n",
       "      <td>0.109604</td>\n",
       "      <td>75.828040</td>\n",
       "      <td>3</td>\n",
       "      <td>uniform</td>\n",
       "      <td>hamming</td>\n",
       "      <td>0.738610</td>\n",
       "      <td>0.005640</td>\n",
       "      <td>0.741367</td>\n",
       "      <td>0.003509</td>\n",
       "    </tr>\n",
       "    <tr>\n",
       "      <th>15</th>\n",
       "      <td>0.108639</td>\n",
       "      <td>20.149382</td>\n",
       "      <td>25</td>\n",
       "      <td>distance</td>\n",
       "      <td>manhattan</td>\n",
       "      <td>0.670729</td>\n",
       "      <td>0.005715</td>\n",
       "      <td>0.697633</td>\n",
       "      <td>0.001934</td>\n",
       "    </tr>\n",
       "    <tr>\n",
       "      <th>13</th>\n",
       "      <td>0.110010</td>\n",
       "      <td>19.914597</td>\n",
       "      <td>11</td>\n",
       "      <td>distance</td>\n",
       "      <td>manhattan</td>\n",
       "      <td>0.668888</td>\n",
       "      <td>0.007113</td>\n",
       "      <td>0.697653</td>\n",
       "      <td>0.003481</td>\n",
       "    </tr>\n",
       "    <tr>\n",
       "      <th>11</th>\n",
       "      <td>0.104011</td>\n",
       "      <td>20.024661</td>\n",
       "      <td>5</td>\n",
       "      <td>distance</td>\n",
       "      <td>manhattan</td>\n",
       "      <td>0.662691</td>\n",
       "      <td>0.008255</td>\n",
       "      <td>0.688184</td>\n",
       "      <td>0.003027</td>\n",
       "    </tr>\n",
       "    <tr>\n",
       "      <th>14</th>\n",
       "      <td>0.108787</td>\n",
       "      <td>20.074312</td>\n",
       "      <td>25</td>\n",
       "      <td>uniform</td>\n",
       "      <td>manhattan</td>\n",
       "      <td>0.658125</td>\n",
       "      <td>0.005186</td>\n",
       "      <td>0.694000</td>\n",
       "      <td>0.001834</td>\n",
       "    </tr>\n",
       "    <tr>\n",
       "      <th>12</th>\n",
       "      <td>0.107386</td>\n",
       "      <td>20.760458</td>\n",
       "      <td>11</td>\n",
       "      <td>uniform</td>\n",
       "      <td>manhattan</td>\n",
       "      <td>0.655311</td>\n",
       "      <td>0.006507</td>\n",
       "      <td>0.695735</td>\n",
       "      <td>0.003786</td>\n",
       "    </tr>\n",
       "    <tr>\n",
       "      <th>10</th>\n",
       "      <td>0.108063</td>\n",
       "      <td>20.191474</td>\n",
       "      <td>5</td>\n",
       "      <td>uniform</td>\n",
       "      <td>manhattan</td>\n",
       "      <td>0.649219</td>\n",
       "      <td>0.007478</td>\n",
       "      <td>0.687469</td>\n",
       "      <td>0.003299</td>\n",
       "    </tr>\n",
       "    <tr>\n",
       "      <th>9</th>\n",
       "      <td>0.111929</td>\n",
       "      <td>20.513570</td>\n",
       "      <td>3</td>\n",
       "      <td>distance</td>\n",
       "      <td>manhattan</td>\n",
       "      <td>0.648791</td>\n",
       "      <td>0.008416</td>\n",
       "      <td>0.675469</td>\n",
       "      <td>0.003676</td>\n",
       "    </tr>\n",
       "    <tr>\n",
       "      <th>8</th>\n",
       "      <td>0.101895</td>\n",
       "      <td>21.213580</td>\n",
       "      <td>3</td>\n",
       "      <td>uniform</td>\n",
       "      <td>manhattan</td>\n",
       "      <td>0.637455</td>\n",
       "      <td>0.007702</td>\n",
       "      <td>0.675776</td>\n",
       "      <td>0.003727</td>\n",
       "    </tr>\n",
       "    <tr>\n",
       "      <th>7</th>\n",
       "      <td>0.103438</td>\n",
       "      <td>4.289218</td>\n",
       "      <td>25</td>\n",
       "      <td>distance</td>\n",
       "      <td>euclidean</td>\n",
       "      <td>0.627276</td>\n",
       "      <td>0.004618</td>\n",
       "      <td>0.688224</td>\n",
       "      <td>0.001317</td>\n",
       "    </tr>\n",
       "    <tr>\n",
       "      <th>5</th>\n",
       "      <td>0.107744</td>\n",
       "      <td>3.776163</td>\n",
       "      <td>11</td>\n",
       "      <td>distance</td>\n",
       "      <td>euclidean</td>\n",
       "      <td>0.624785</td>\n",
       "      <td>0.005890</td>\n",
       "      <td>0.680204</td>\n",
       "      <td>0.002433</td>\n",
       "    </tr>\n",
       "    <tr>\n",
       "      <th>6</th>\n",
       "      <td>0.108268</td>\n",
       "      <td>4.571222</td>\n",
       "      <td>25</td>\n",
       "      <td>uniform</td>\n",
       "      <td>euclidean</td>\n",
       "      <td>0.620241</td>\n",
       "      <td>0.004424</td>\n",
       "      <td>0.686857</td>\n",
       "      <td>0.001107</td>\n",
       "    </tr>\n",
       "    <tr>\n",
       "      <th>4</th>\n",
       "      <td>0.105903</td>\n",
       "      <td>4.071953</td>\n",
       "      <td>11</td>\n",
       "      <td>uniform</td>\n",
       "      <td>euclidean</td>\n",
       "      <td>0.616208</td>\n",
       "      <td>0.005485</td>\n",
       "      <td>0.679082</td>\n",
       "      <td>0.002296</td>\n",
       "    </tr>\n",
       "    <tr>\n",
       "      <th>3</th>\n",
       "      <td>0.103962</td>\n",
       "      <td>3.673708</td>\n",
       "      <td>5</td>\n",
       "      <td>distance</td>\n",
       "      <td>euclidean</td>\n",
       "      <td>0.615380</td>\n",
       "      <td>0.004116</td>\n",
       "      <td>0.663673</td>\n",
       "      <td>0.001074</td>\n",
       "    </tr>\n",
       "    <tr>\n",
       "      <th>2</th>\n",
       "      <td>0.105145</td>\n",
       "      <td>4.140931</td>\n",
       "      <td>5</td>\n",
       "      <td>uniform</td>\n",
       "      <td>euclidean</td>\n",
       "      <td>0.605923</td>\n",
       "      <td>0.003200</td>\n",
       "      <td>0.662980</td>\n",
       "      <td>0.001001</td>\n",
       "    </tr>\n",
       "    <tr>\n",
       "      <th>1</th>\n",
       "      <td>0.110474</td>\n",
       "      <td>3.724955</td>\n",
       "      <td>3</td>\n",
       "      <td>distance</td>\n",
       "      <td>euclidean</td>\n",
       "      <td>0.605491</td>\n",
       "      <td>0.005573</td>\n",
       "      <td>0.651959</td>\n",
       "      <td>0.002649</td>\n",
       "    </tr>\n",
       "    <tr>\n",
       "      <th>0</th>\n",
       "      <td>0.102958</td>\n",
       "      <td>4.275571</td>\n",
       "      <td>3</td>\n",
       "      <td>uniform</td>\n",
       "      <td>euclidean</td>\n",
       "      <td>0.597686</td>\n",
       "      <td>0.005350</td>\n",
       "      <td>0.651694</td>\n",
       "      <td>0.002572</td>\n",
       "    </tr>\n",
       "  </tbody>\n",
       "</table>\n",
       "</div>"
      ],
      "text/plain": [
       "    mean_fit_time  mean_score_time param_knn__n_neighbors param_knn__weights  \\\n",
       "21       0.103019        76.943582                     11           distance   \n",
       "20       0.108160        77.157954                     11            uniform   \n",
       "19       0.101309        76.990658                      5           distance   \n",
       "18       0.104735        77.333661                      5            uniform   \n",
       "23       0.096884        74.740890                     25           distance   \n",
       "22       0.104579        76.562864                     25            uniform   \n",
       "17       0.099026        74.847856                      3           distance   \n",
       "16       0.109604        75.828040                      3            uniform   \n",
       "15       0.108639        20.149382                     25           distance   \n",
       "13       0.110010        19.914597                     11           distance   \n",
       "11       0.104011        20.024661                      5           distance   \n",
       "14       0.108787        20.074312                     25            uniform   \n",
       "12       0.107386        20.760458                     11            uniform   \n",
       "10       0.108063        20.191474                      5            uniform   \n",
       "9        0.111929        20.513570                      3           distance   \n",
       "8        0.101895        21.213580                      3            uniform   \n",
       "7        0.103438         4.289218                     25           distance   \n",
       "5        0.107744         3.776163                     11           distance   \n",
       "6        0.108268         4.571222                     25            uniform   \n",
       "4        0.105903         4.071953                     11            uniform   \n",
       "3        0.103962         3.673708                      5           distance   \n",
       "2        0.105145         4.140931                      5            uniform   \n",
       "1        0.110474         3.724955                      3           distance   \n",
       "0        0.102958         4.275571                      3            uniform   \n",
       "\n",
       "   param_knn__metric  mean_test_roc_auc  std_test_roc_auc  mean_test_accuracy  \\\n",
       "21           hamming           0.793647          0.005053            0.753694   \n",
       "20           hamming           0.781126          0.004733            0.751041   \n",
       "19           hamming           0.778447          0.006377            0.756061   \n",
       "18           hamming           0.772393          0.005764            0.756122   \n",
       "23           hamming           0.770443          0.005770            0.726837   \n",
       "22           hamming           0.750262          0.005800            0.720224   \n",
       "17           hamming           0.742002          0.006420            0.741265   \n",
       "16           hamming           0.738610          0.005640            0.741367   \n",
       "15         manhattan           0.670729          0.005715            0.697633   \n",
       "13         manhattan           0.668888          0.007113            0.697653   \n",
       "11         manhattan           0.662691          0.008255            0.688184   \n",
       "14         manhattan           0.658125          0.005186            0.694000   \n",
       "12         manhattan           0.655311          0.006507            0.695735   \n",
       "10         manhattan           0.649219          0.007478            0.687469   \n",
       "9          manhattan           0.648791          0.008416            0.675469   \n",
       "8          manhattan           0.637455          0.007702            0.675776   \n",
       "7          euclidean           0.627276          0.004618            0.688224   \n",
       "5          euclidean           0.624785          0.005890            0.680204   \n",
       "6          euclidean           0.620241          0.004424            0.686857   \n",
       "4          euclidean           0.616208          0.005485            0.679082   \n",
       "3          euclidean           0.615380          0.004116            0.663673   \n",
       "2          euclidean           0.605923          0.003200            0.662980   \n",
       "1          euclidean           0.605491          0.005573            0.651959   \n",
       "0          euclidean           0.597686          0.005350            0.651694   \n",
       "\n",
       "    std_test_accuracy  \n",
       "21           0.003910  \n",
       "20           0.003580  \n",
       "19           0.004758  \n",
       "18           0.004708  \n",
       "23           0.001315  \n",
       "22           0.001733  \n",
       "17           0.003473  \n",
       "16           0.003509  \n",
       "15           0.001934  \n",
       "13           0.003481  \n",
       "11           0.003027  \n",
       "14           0.001834  \n",
       "12           0.003786  \n",
       "10           0.003299  \n",
       "9            0.003676  \n",
       "8            0.003727  \n",
       "7            0.001317  \n",
       "5            0.002433  \n",
       "6            0.001107  \n",
       "4            0.002296  \n",
       "3            0.001074  \n",
       "2            0.001001  \n",
       "1            0.002649  \n",
       "0            0.002572  "
      ]
     },
     "execution_count": 35,
     "metadata": {},
     "output_type": "execute_result"
    }
   ],
   "source": [
    "knn_grid_df = pd.DataFrame(knn_grid.cv_results_)\n",
    "knn_grid_df.sort_values(['mean_test_roc_auc', 'mean_test_accuracy'], ascending=False)[['mean_fit_time', 'mean_score_time', 'param_knn__n_neighbors', 'param_knn__weights', 'param_knn__metric', 'mean_test_roc_auc', 'std_test_roc_auc', 'mean_test_accuracy', 'std_test_accuracy']]"
   ]
  },
  {
   "cell_type": "code",
   "execution_count": 36,
   "metadata": {},
   "outputs": [
    {
     "data": {
      "text/plain": [
       "(0.6606290961528111, 0.7605238095238095)"
      ]
     },
     "execution_count": 36,
     "metadata": {},
     "output_type": "execute_result"
    }
   ],
   "source": [
    "y_test_knn = knn_grid.predict(X_test)\n",
    "(roc_auc_score(y_test, y_test_knn), accuracy_score(y_test, y_test_knn))"
   ]
  },
  {
   "cell_type": "markdown",
   "metadata": {},
   "source": [
    "### Risk minimization\n",
    "\n",
    "Modelo de SVC com Kernel não linear"
   ]
  },
  {
   "cell_type": "code",
   "execution_count": 27,
   "metadata": {},
   "outputs": [
    {
     "name": "stdout",
     "output_type": "stream",
     "text": [
      "Fitting 5 folds for each of 64 candidates, totalling 320 fits\n"
     ]
    },
    {
     "name": "stderr",
     "output_type": "stream",
     "text": [
      "/home/pochete/studies/2023s2/mo810/mo810-kidney-waitlist/venv/lib/python3.11/site-packages/sklearn/svm/_base.py:297: ConvergenceWarning: Solver terminated early (max_iter=10000).  Consider pre-processing your data with StandardScaler or MinMaxScaler.\n",
      "  warnings.warn(\n"
     ]
    },
    {
     "name": "stdout",
     "output_type": "stream",
     "text": [
      "[CV 1/5] END svc__C=1, svc__coef0=0, svc__degree=3, svc__gamma=scale, svc__kernel=poly; accuracy: (test=0.453) roc_auc: (test=0.605) total time= 2.1min\n"
     ]
    },
    {
     "name": "stderr",
     "output_type": "stream",
     "text": [
      "/home/pochete/studies/2023s2/mo810/mo810-kidney-waitlist/venv/lib/python3.11/site-packages/sklearn/svm/_base.py:297: ConvergenceWarning: Solver terminated early (max_iter=10000).  Consider pre-processing your data with StandardScaler or MinMaxScaler.\n",
      "  warnings.warn(\n"
     ]
    },
    {
     "name": "stdout",
     "output_type": "stream",
     "text": [
      "[CV 2/5] END svc__C=1, svc__coef0=0, svc__degree=3, svc__gamma=scale, svc__kernel=poly; accuracy: (test=0.410) roc_auc: (test=0.590) total time= 2.1min\n"
     ]
    },
    {
     "name": "stderr",
     "output_type": "stream",
     "text": [
      "/home/pochete/studies/2023s2/mo810/mo810-kidney-waitlist/venv/lib/python3.11/site-packages/sklearn/svm/_base.py:297: ConvergenceWarning: Solver terminated early (max_iter=10000).  Consider pre-processing your data with StandardScaler or MinMaxScaler.\n",
      "  warnings.warn(\n"
     ]
    },
    {
     "name": "stdout",
     "output_type": "stream",
     "text": [
      "[CV 3/5] END svc__C=1, svc__coef0=0, svc__degree=3, svc__gamma=scale, svc__kernel=poly; accuracy: (test=0.432) roc_auc: (test=0.592) total time= 2.2min\n"
     ]
    },
    {
     "name": "stderr",
     "output_type": "stream",
     "text": [
      "/home/pochete/studies/2023s2/mo810/mo810-kidney-waitlist/venv/lib/python3.11/site-packages/sklearn/svm/_base.py:297: ConvergenceWarning: Solver terminated early (max_iter=10000).  Consider pre-processing your data with StandardScaler or MinMaxScaler.\n",
      "  warnings.warn(\n"
     ]
    },
    {
     "name": "stdout",
     "output_type": "stream",
     "text": [
      "[CV 4/5] END svc__C=1, svc__coef0=0, svc__degree=3, svc__gamma=scale, svc__kernel=poly; accuracy: (test=0.399) roc_auc: (test=0.593) total time= 2.2min\n"
     ]
    },
    {
     "name": "stderr",
     "output_type": "stream",
     "text": [
      "/home/pochete/studies/2023s2/mo810/mo810-kidney-waitlist/venv/lib/python3.11/site-packages/sklearn/svm/_base.py:297: ConvergenceWarning: Solver terminated early (max_iter=10000).  Consider pre-processing your data with StandardScaler or MinMaxScaler.\n",
      "  warnings.warn(\n"
     ]
    },
    {
     "name": "stdout",
     "output_type": "stream",
     "text": [
      "[CV 5/5] END svc__C=1, svc__coef0=0, svc__degree=3, svc__gamma=scale, svc__kernel=poly; accuracy: (test=0.436) roc_auc: (test=0.602) total time= 2.2min\n"
     ]
    },
    {
     "name": "stderr",
     "output_type": "stream",
     "text": [
      "/home/pochete/studies/2023s2/mo810/mo810-kidney-waitlist/venv/lib/python3.11/site-packages/sklearn/svm/_base.py:297: ConvergenceWarning: Solver terminated early (max_iter=10000).  Consider pre-processing your data with StandardScaler or MinMaxScaler.\n",
      "  warnings.warn(\n"
     ]
    },
    {
     "name": "stdout",
     "output_type": "stream",
     "text": [
      "[CV 1/5] END svc__C=1, svc__coef0=0, svc__degree=3, svc__gamma=0.1, svc__kernel=poly; accuracy: (test=0.548) roc_auc: (test=0.535) total time= 1.4min\n"
     ]
    },
    {
     "name": "stderr",
     "output_type": "stream",
     "text": [
      "/home/pochete/studies/2023s2/mo810/mo810-kidney-waitlist/venv/lib/python3.11/site-packages/sklearn/svm/_base.py:297: ConvergenceWarning: Solver terminated early (max_iter=10000).  Consider pre-processing your data with StandardScaler or MinMaxScaler.\n",
      "  warnings.warn(\n"
     ]
    },
    {
     "name": "stdout",
     "output_type": "stream",
     "text": [
      "[CV 2/5] END svc__C=1, svc__coef0=0, svc__degree=3, svc__gamma=0.1, svc__kernel=poly; accuracy: (test=0.541) roc_auc: (test=0.534) total time= 1.3min\n"
     ]
    },
    {
     "name": "stderr",
     "output_type": "stream",
     "text": [
      "/home/pochete/studies/2023s2/mo810/mo810-kidney-waitlist/venv/lib/python3.11/site-packages/sklearn/svm/_base.py:297: ConvergenceWarning: Solver terminated early (max_iter=10000).  Consider pre-processing your data with StandardScaler or MinMaxScaler.\n",
      "  warnings.warn(\n"
     ]
    },
    {
     "name": "stdout",
     "output_type": "stream",
     "text": [
      "[CV 3/5] END svc__C=1, svc__coef0=0, svc__degree=3, svc__gamma=0.1, svc__kernel=poly; accuracy: (test=0.548) roc_auc: (test=0.534) total time= 1.3min\n"
     ]
    },
    {
     "name": "stderr",
     "output_type": "stream",
     "text": [
      "/home/pochete/studies/2023s2/mo810/mo810-kidney-waitlist/venv/lib/python3.11/site-packages/sklearn/svm/_base.py:297: ConvergenceWarning: Solver terminated early (max_iter=10000).  Consider pre-processing your data with StandardScaler or MinMaxScaler.\n",
      "  warnings.warn(\n"
     ]
    },
    {
     "name": "stdout",
     "output_type": "stream",
     "text": [
      "[CV 4/5] END svc__C=1, svc__coef0=0, svc__degree=3, svc__gamma=0.1, svc__kernel=poly; accuracy: (test=0.542) roc_auc: (test=0.525) total time= 1.3min\n"
     ]
    },
    {
     "name": "stderr",
     "output_type": "stream",
     "text": [
      "/home/pochete/studies/2023s2/mo810/mo810-kidney-waitlist/venv/lib/python3.11/site-packages/sklearn/svm/_base.py:297: ConvergenceWarning: Solver terminated early (max_iter=10000).  Consider pre-processing your data with StandardScaler or MinMaxScaler.\n",
      "  warnings.warn(\n"
     ]
    },
    {
     "name": "stdout",
     "output_type": "stream",
     "text": [
      "[CV 5/5] END svc__C=1, svc__coef0=0, svc__degree=3, svc__gamma=0.1, svc__kernel=poly; accuracy: (test=0.554) roc_auc: (test=0.533) total time= 1.4min\n"
     ]
    },
    {
     "name": "stderr",
     "output_type": "stream",
     "text": [
      "/home/pochete/studies/2023s2/mo810/mo810-kidney-waitlist/venv/lib/python3.11/site-packages/sklearn/svm/_base.py:297: ConvergenceWarning: Solver terminated early (max_iter=10000).  Consider pre-processing your data with StandardScaler or MinMaxScaler.\n",
      "  warnings.warn(\n"
     ]
    },
    {
     "name": "stdout",
     "output_type": "stream",
     "text": [
      "[CV 1/5] END svc__C=1, svc__coef0=0, svc__degree=3, svc__gamma=1, svc__kernel=poly; accuracy: (test=0.552) roc_auc: (test=0.536) total time= 1.3min\n"
     ]
    },
    {
     "name": "stderr",
     "output_type": "stream",
     "text": [
      "/home/pochete/studies/2023s2/mo810/mo810-kidney-waitlist/venv/lib/python3.11/site-packages/sklearn/svm/_base.py:297: ConvergenceWarning: Solver terminated early (max_iter=10000).  Consider pre-processing your data with StandardScaler or MinMaxScaler.\n",
      "  warnings.warn(\n"
     ]
    },
    {
     "name": "stdout",
     "output_type": "stream",
     "text": [
      "[CV 2/5] END svc__C=1, svc__coef0=0, svc__degree=3, svc__gamma=1, svc__kernel=poly; accuracy: (test=0.541) roc_auc: (test=0.530) total time= 1.3min\n"
     ]
    },
    {
     "name": "stderr",
     "output_type": "stream",
     "text": [
      "/home/pochete/studies/2023s2/mo810/mo810-kidney-waitlist/venv/lib/python3.11/site-packages/sklearn/svm/_base.py:297: ConvergenceWarning: Solver terminated early (max_iter=10000).  Consider pre-processing your data with StandardScaler or MinMaxScaler.\n",
      "  warnings.warn(\n"
     ]
    },
    {
     "name": "stdout",
     "output_type": "stream",
     "text": [
      "[CV 3/5] END svc__C=1, svc__coef0=0, svc__degree=3, svc__gamma=1, svc__kernel=poly; accuracy: (test=0.551) roc_auc: (test=0.535) total time= 1.3min\n"
     ]
    },
    {
     "name": "stderr",
     "output_type": "stream",
     "text": [
      "/home/pochete/studies/2023s2/mo810/mo810-kidney-waitlist/venv/lib/python3.11/site-packages/sklearn/svm/_base.py:297: ConvergenceWarning: Solver terminated early (max_iter=10000).  Consider pre-processing your data with StandardScaler or MinMaxScaler.\n",
      "  warnings.warn(\n"
     ]
    },
    {
     "name": "stdout",
     "output_type": "stream",
     "text": [
      "[CV 4/5] END svc__C=1, svc__coef0=0, svc__degree=3, svc__gamma=1, svc__kernel=poly; accuracy: (test=0.542) roc_auc: (test=0.526) total time= 1.3min\n"
     ]
    },
    {
     "name": "stderr",
     "output_type": "stream",
     "text": [
      "/home/pochete/studies/2023s2/mo810/mo810-kidney-waitlist/venv/lib/python3.11/site-packages/sklearn/svm/_base.py:297: ConvergenceWarning: Solver terminated early (max_iter=10000).  Consider pre-processing your data with StandardScaler or MinMaxScaler.\n",
      "  warnings.warn(\n"
     ]
    },
    {
     "name": "stdout",
     "output_type": "stream",
     "text": [
      "[CV 5/5] END svc__C=1, svc__coef0=0, svc__degree=3, svc__gamma=1, svc__kernel=poly; accuracy: (test=0.548) roc_auc: (test=0.531) total time= 1.3min\n"
     ]
    },
    {
     "name": "stderr",
     "output_type": "stream",
     "text": [
      "/home/pochete/studies/2023s2/mo810/mo810-kidney-waitlist/venv/lib/python3.11/site-packages/sklearn/svm/_base.py:297: ConvergenceWarning: Solver terminated early (max_iter=10000).  Consider pre-processing your data with StandardScaler or MinMaxScaler.\n",
      "  warnings.warn(\n"
     ]
    },
    {
     "name": "stdout",
     "output_type": "stream",
     "text": [
      "[CV 1/5] END svc__C=1, svc__coef0=0, svc__degree=3, svc__gamma=2, svc__kernel=poly; accuracy: (test=0.552) roc_auc: (test=0.536) total time= 1.3min\n"
     ]
    },
    {
     "name": "stderr",
     "output_type": "stream",
     "text": [
      "/home/pochete/studies/2023s2/mo810/mo810-kidney-waitlist/venv/lib/python3.11/site-packages/sklearn/svm/_base.py:297: ConvergenceWarning: Solver terminated early (max_iter=10000).  Consider pre-processing your data with StandardScaler or MinMaxScaler.\n",
      "  warnings.warn(\n"
     ]
    },
    {
     "name": "stdout",
     "output_type": "stream",
     "text": [
      "[CV 2/5] END svc__C=1, svc__coef0=0, svc__degree=3, svc__gamma=2, svc__kernel=poly; accuracy: (test=0.541) roc_auc: (test=0.530) total time= 1.3min\n"
     ]
    },
    {
     "name": "stderr",
     "output_type": "stream",
     "text": [
      "/home/pochete/studies/2023s2/mo810/mo810-kidney-waitlist/venv/lib/python3.11/site-packages/sklearn/svm/_base.py:297: ConvergenceWarning: Solver terminated early (max_iter=10000).  Consider pre-processing your data with StandardScaler or MinMaxScaler.\n",
      "  warnings.warn(\n"
     ]
    },
    {
     "name": "stdout",
     "output_type": "stream",
     "text": [
      "[CV 3/5] END svc__C=1, svc__coef0=0, svc__degree=3, svc__gamma=2, svc__kernel=poly; accuracy: (test=0.551) roc_auc: (test=0.535) total time= 1.3min\n"
     ]
    },
    {
     "name": "stderr",
     "output_type": "stream",
     "text": [
      "/home/pochete/studies/2023s2/mo810/mo810-kidney-waitlist/venv/lib/python3.11/site-packages/sklearn/svm/_base.py:297: ConvergenceWarning: Solver terminated early (max_iter=10000).  Consider pre-processing your data with StandardScaler or MinMaxScaler.\n",
      "  warnings.warn(\n"
     ]
    },
    {
     "name": "stdout",
     "output_type": "stream",
     "text": [
      "[CV 4/5] END svc__C=1, svc__coef0=0, svc__degree=3, svc__gamma=2, svc__kernel=poly; accuracy: (test=0.542) roc_auc: (test=0.526) total time= 1.3min\n"
     ]
    },
    {
     "name": "stderr",
     "output_type": "stream",
     "text": [
      "/home/pochete/studies/2023s2/mo810/mo810-kidney-waitlist/venv/lib/python3.11/site-packages/sklearn/svm/_base.py:297: ConvergenceWarning: Solver terminated early (max_iter=10000).  Consider pre-processing your data with StandardScaler or MinMaxScaler.\n",
      "  warnings.warn(\n"
     ]
    },
    {
     "name": "stdout",
     "output_type": "stream",
     "text": [
      "[CV 5/5] END svc__C=1, svc__coef0=0, svc__degree=3, svc__gamma=2, svc__kernel=poly; accuracy: (test=0.548) roc_auc: (test=0.531) total time= 1.3min\n"
     ]
    },
    {
     "name": "stderr",
     "output_type": "stream",
     "text": [
      "/home/pochete/studies/2023s2/mo810/mo810-kidney-waitlist/venv/lib/python3.11/site-packages/sklearn/svm/_base.py:297: ConvergenceWarning: Solver terminated early (max_iter=10000).  Consider pre-processing your data with StandardScaler or MinMaxScaler.\n",
      "  warnings.warn(\n"
     ]
    },
    {
     "name": "stdout",
     "output_type": "stream",
     "text": [
      "[CV 1/5] END svc__C=1, svc__coef0=0, svc__degree=5, svc__gamma=scale, svc__kernel=poly; accuracy: (test=0.439) roc_auc: (test=0.599) total time= 2.2min\n"
     ]
    },
    {
     "name": "stderr",
     "output_type": "stream",
     "text": [
      "/home/pochete/studies/2023s2/mo810/mo810-kidney-waitlist/venv/lib/python3.11/site-packages/sklearn/svm/_base.py:297: ConvergenceWarning: Solver terminated early (max_iter=10000).  Consider pre-processing your data with StandardScaler or MinMaxScaler.\n",
      "  warnings.warn(\n"
     ]
    },
    {
     "name": "stdout",
     "output_type": "stream",
     "text": [
      "[CV 2/5] END svc__C=1, svc__coef0=0, svc__degree=5, svc__gamma=scale, svc__kernel=poly; accuracy: (test=0.424) roc_auc: (test=0.584) total time= 2.2min\n"
     ]
    },
    {
     "name": "stderr",
     "output_type": "stream",
     "text": [
      "/home/pochete/studies/2023s2/mo810/mo810-kidney-waitlist/venv/lib/python3.11/site-packages/sklearn/svm/_base.py:297: ConvergenceWarning: Solver terminated early (max_iter=10000).  Consider pre-processing your data with StandardScaler or MinMaxScaler.\n",
      "  warnings.warn(\n"
     ]
    },
    {
     "name": "stdout",
     "output_type": "stream",
     "text": [
      "[CV 3/5] END svc__C=1, svc__coef0=0, svc__degree=5, svc__gamma=scale, svc__kernel=poly; accuracy: (test=0.425) roc_auc: (test=0.591) total time= 2.1min\n"
     ]
    },
    {
     "name": "stderr",
     "output_type": "stream",
     "text": [
      "/home/pochete/studies/2023s2/mo810/mo810-kidney-waitlist/venv/lib/python3.11/site-packages/sklearn/svm/_base.py:297: ConvergenceWarning: Solver terminated early (max_iter=10000).  Consider pre-processing your data with StandardScaler or MinMaxScaler.\n",
      "  warnings.warn(\n"
     ]
    },
    {
     "name": "stdout",
     "output_type": "stream",
     "text": [
      "[CV 4/5] END svc__C=1, svc__coef0=0, svc__degree=5, svc__gamma=scale, svc__kernel=poly; accuracy: (test=0.420) roc_auc: (test=0.595) total time= 2.2min\n"
     ]
    },
    {
     "name": "stderr",
     "output_type": "stream",
     "text": [
      "/home/pochete/studies/2023s2/mo810/mo810-kidney-waitlist/venv/lib/python3.11/site-packages/sklearn/svm/_base.py:297: ConvergenceWarning: Solver terminated early (max_iter=10000).  Consider pre-processing your data with StandardScaler or MinMaxScaler.\n",
      "  warnings.warn(\n"
     ]
    },
    {
     "name": "stdout",
     "output_type": "stream",
     "text": [
      "[CV 5/5] END svc__C=1, svc__coef0=0, svc__degree=5, svc__gamma=scale, svc__kernel=poly; accuracy: (test=0.421) roc_auc: (test=0.593) total time= 2.2min\n"
     ]
    },
    {
     "name": "stderr",
     "output_type": "stream",
     "text": [
      "/home/pochete/studies/2023s2/mo810/mo810-kidney-waitlist/venv/lib/python3.11/site-packages/sklearn/svm/_base.py:297: ConvergenceWarning: Solver terminated early (max_iter=10000).  Consider pre-processing your data with StandardScaler or MinMaxScaler.\n",
      "  warnings.warn(\n"
     ]
    },
    {
     "name": "stdout",
     "output_type": "stream",
     "text": [
      "[CV 1/5] END svc__C=1, svc__coef0=0, svc__degree=5, svc__gamma=0.1, svc__kernel=poly; accuracy: (test=0.611) roc_auc: (test=0.567) total time= 1.7min\n"
     ]
    },
    {
     "name": "stderr",
     "output_type": "stream",
     "text": [
      "/home/pochete/studies/2023s2/mo810/mo810-kidney-waitlist/venv/lib/python3.11/site-packages/sklearn/svm/_base.py:297: ConvergenceWarning: Solver terminated early (max_iter=10000).  Consider pre-processing your data with StandardScaler or MinMaxScaler.\n",
      "  warnings.warn(\n"
     ]
    },
    {
     "name": "stdout",
     "output_type": "stream",
     "text": [
      "[CV 2/5] END svc__C=1, svc__coef0=0, svc__degree=5, svc__gamma=0.1, svc__kernel=poly; accuracy: (test=0.607) roc_auc: (test=0.558) total time= 1.7min\n"
     ]
    },
    {
     "name": "stderr",
     "output_type": "stream",
     "text": [
      "/home/pochete/studies/2023s2/mo810/mo810-kidney-waitlist/venv/lib/python3.11/site-packages/sklearn/svm/_base.py:297: ConvergenceWarning: Solver terminated early (max_iter=10000).  Consider pre-processing your data with StandardScaler or MinMaxScaler.\n",
      "  warnings.warn(\n"
     ]
    },
    {
     "name": "stdout",
     "output_type": "stream",
     "text": [
      "[CV 3/5] END svc__C=1, svc__coef0=0, svc__degree=5, svc__gamma=0.1, svc__kernel=poly; accuracy: (test=0.614) roc_auc: (test=0.567) total time= 1.7min\n"
     ]
    },
    {
     "name": "stderr",
     "output_type": "stream",
     "text": [
      "/home/pochete/studies/2023s2/mo810/mo810-kidney-waitlist/venv/lib/python3.11/site-packages/sklearn/svm/_base.py:297: ConvergenceWarning: Solver terminated early (max_iter=10000).  Consider pre-processing your data with StandardScaler or MinMaxScaler.\n",
      "  warnings.warn(\n"
     ]
    },
    {
     "name": "stdout",
     "output_type": "stream",
     "text": [
      "[CV 4/5] END svc__C=1, svc__coef0=0, svc__degree=5, svc__gamma=0.1, svc__kernel=poly; accuracy: (test=0.609) roc_auc: (test=0.554) total time= 1.7min\n"
     ]
    },
    {
     "name": "stderr",
     "output_type": "stream",
     "text": [
      "/home/pochete/studies/2023s2/mo810/mo810-kidney-waitlist/venv/lib/python3.11/site-packages/sklearn/svm/_base.py:297: ConvergenceWarning: Solver terminated early (max_iter=10000).  Consider pre-processing your data with StandardScaler or MinMaxScaler.\n",
      "  warnings.warn(\n"
     ]
    },
    {
     "name": "stdout",
     "output_type": "stream",
     "text": [
      "[CV 5/5] END svc__C=1, svc__coef0=0, svc__degree=5, svc__gamma=0.1, svc__kernel=poly; accuracy: (test=0.611) roc_auc: (test=0.561) total time= 1.7min\n"
     ]
    },
    {
     "name": "stderr",
     "output_type": "stream",
     "text": [
      "/home/pochete/studies/2023s2/mo810/mo810-kidney-waitlist/venv/lib/python3.11/site-packages/sklearn/svm/_base.py:297: ConvergenceWarning: Solver terminated early (max_iter=10000).  Consider pre-processing your data with StandardScaler or MinMaxScaler.\n",
      "  warnings.warn(\n"
     ]
    },
    {
     "name": "stdout",
     "output_type": "stream",
     "text": [
      "[CV 1/5] END svc__C=1, svc__coef0=0, svc__degree=5, svc__gamma=1, svc__kernel=poly; accuracy: (test=0.611) roc_auc: (test=0.567) total time= 1.7min\n"
     ]
    },
    {
     "name": "stderr",
     "output_type": "stream",
     "text": [
      "/home/pochete/studies/2023s2/mo810/mo810-kidney-waitlist/venv/lib/python3.11/site-packages/sklearn/svm/_base.py:297: ConvergenceWarning: Solver terminated early (max_iter=10000).  Consider pre-processing your data with StandardScaler or MinMaxScaler.\n",
      "  warnings.warn(\n"
     ]
    },
    {
     "name": "stdout",
     "output_type": "stream",
     "text": [
      "[CV 2/5] END svc__C=1, svc__coef0=0, svc__degree=5, svc__gamma=1, svc__kernel=poly; accuracy: (test=0.605) roc_auc: (test=0.559) total time= 1.7min\n"
     ]
    },
    {
     "name": "stderr",
     "output_type": "stream",
     "text": [
      "/home/pochete/studies/2023s2/mo810/mo810-kidney-waitlist/venv/lib/python3.11/site-packages/sklearn/svm/_base.py:297: ConvergenceWarning: Solver terminated early (max_iter=10000).  Consider pre-processing your data with StandardScaler or MinMaxScaler.\n",
      "  warnings.warn(\n"
     ]
    },
    {
     "name": "stdout",
     "output_type": "stream",
     "text": [
      "[CV 3/5] END svc__C=1, svc__coef0=0, svc__degree=5, svc__gamma=1, svc__kernel=poly; accuracy: (test=0.612) roc_auc: (test=0.567) total time= 1.7min\n"
     ]
    },
    {
     "name": "stderr",
     "output_type": "stream",
     "text": [
      "/home/pochete/studies/2023s2/mo810/mo810-kidney-waitlist/venv/lib/python3.11/site-packages/sklearn/svm/_base.py:297: ConvergenceWarning: Solver terminated early (max_iter=10000).  Consider pre-processing your data with StandardScaler or MinMaxScaler.\n",
      "  warnings.warn(\n"
     ]
    },
    {
     "name": "stdout",
     "output_type": "stream",
     "text": [
      "[CV 4/5] END svc__C=1, svc__coef0=0, svc__degree=5, svc__gamma=1, svc__kernel=poly; accuracy: (test=0.610) roc_auc: (test=0.554) total time= 1.7min\n"
     ]
    },
    {
     "name": "stderr",
     "output_type": "stream",
     "text": [
      "/home/pochete/studies/2023s2/mo810/mo810-kidney-waitlist/venv/lib/python3.11/site-packages/sklearn/svm/_base.py:297: ConvergenceWarning: Solver terminated early (max_iter=10000).  Consider pre-processing your data with StandardScaler or MinMaxScaler.\n",
      "  warnings.warn(\n"
     ]
    },
    {
     "name": "stdout",
     "output_type": "stream",
     "text": [
      "[CV 5/5] END svc__C=1, svc__coef0=0, svc__degree=5, svc__gamma=1, svc__kernel=poly; accuracy: (test=0.611) roc_auc: (test=0.563) total time= 1.7min\n"
     ]
    },
    {
     "name": "stderr",
     "output_type": "stream",
     "text": [
      "/home/pochete/studies/2023s2/mo810/mo810-kidney-waitlist/venv/lib/python3.11/site-packages/sklearn/svm/_base.py:297: ConvergenceWarning: Solver terminated early (max_iter=10000).  Consider pre-processing your data with StandardScaler or MinMaxScaler.\n",
      "  warnings.warn(\n"
     ]
    },
    {
     "name": "stdout",
     "output_type": "stream",
     "text": [
      "[CV 1/5] END svc__C=1, svc__coef0=0, svc__degree=5, svc__gamma=2, svc__kernel=poly; accuracy: (test=0.611) roc_auc: (test=0.567) total time= 1.7min\n"
     ]
    },
    {
     "name": "stderr",
     "output_type": "stream",
     "text": [
      "/home/pochete/studies/2023s2/mo810/mo810-kidney-waitlist/venv/lib/python3.11/site-packages/sklearn/svm/_base.py:297: ConvergenceWarning: Solver terminated early (max_iter=10000).  Consider pre-processing your data with StandardScaler or MinMaxScaler.\n",
      "  warnings.warn(\n"
     ]
    },
    {
     "name": "stdout",
     "output_type": "stream",
     "text": [
      "[CV 2/5] END svc__C=1, svc__coef0=0, svc__degree=5, svc__gamma=2, svc__kernel=poly; accuracy: (test=0.605) roc_auc: (test=0.559) total time= 1.7min\n"
     ]
    },
    {
     "name": "stderr",
     "output_type": "stream",
     "text": [
      "/home/pochete/studies/2023s2/mo810/mo810-kidney-waitlist/venv/lib/python3.11/site-packages/sklearn/svm/_base.py:297: ConvergenceWarning: Solver terminated early (max_iter=10000).  Consider pre-processing your data with StandardScaler or MinMaxScaler.\n",
      "  warnings.warn(\n"
     ]
    },
    {
     "name": "stdout",
     "output_type": "stream",
     "text": [
      "[CV 3/5] END svc__C=1, svc__coef0=0, svc__degree=5, svc__gamma=2, svc__kernel=poly; accuracy: (test=0.612) roc_auc: (test=0.567) total time= 1.7min\n"
     ]
    },
    {
     "name": "stderr",
     "output_type": "stream",
     "text": [
      "/home/pochete/studies/2023s2/mo810/mo810-kidney-waitlist/venv/lib/python3.11/site-packages/sklearn/svm/_base.py:297: ConvergenceWarning: Solver terminated early (max_iter=10000).  Consider pre-processing your data with StandardScaler or MinMaxScaler.\n",
      "  warnings.warn(\n"
     ]
    },
    {
     "name": "stdout",
     "output_type": "stream",
     "text": [
      "[CV 4/5] END svc__C=1, svc__coef0=0, svc__degree=5, svc__gamma=2, svc__kernel=poly; accuracy: (test=0.610) roc_auc: (test=0.554) total time= 1.7min\n"
     ]
    },
    {
     "name": "stderr",
     "output_type": "stream",
     "text": [
      "/home/pochete/studies/2023s2/mo810/mo810-kidney-waitlist/venv/lib/python3.11/site-packages/sklearn/svm/_base.py:297: ConvergenceWarning: Solver terminated early (max_iter=10000).  Consider pre-processing your data with StandardScaler or MinMaxScaler.\n",
      "  warnings.warn(\n"
     ]
    },
    {
     "name": "stdout",
     "output_type": "stream",
     "text": [
      "[CV 5/5] END svc__C=1, svc__coef0=0, svc__degree=5, svc__gamma=2, svc__kernel=poly; accuracy: (test=0.611) roc_auc: (test=0.563) total time= 1.7min\n"
     ]
    },
    {
     "name": "stderr",
     "output_type": "stream",
     "text": [
      "/home/pochete/studies/2023s2/mo810/mo810-kidney-waitlist/venv/lib/python3.11/site-packages/sklearn/svm/_base.py:297: ConvergenceWarning: Solver terminated early (max_iter=10000).  Consider pre-processing your data with StandardScaler or MinMaxScaler.\n",
      "  warnings.warn(\n"
     ]
    },
    {
     "name": "stdout",
     "output_type": "stream",
     "text": [
      "[CV 1/5] END svc__C=1, svc__coef0=-1, svc__degree=3, svc__gamma=scale, svc__kernel=poly; accuracy: (test=0.515) roc_auc: (test=0.510) total time= 2.5min\n"
     ]
    },
    {
     "name": "stderr",
     "output_type": "stream",
     "text": [
      "/home/pochete/studies/2023s2/mo810/mo810-kidney-waitlist/venv/lib/python3.11/site-packages/sklearn/svm/_base.py:297: ConvergenceWarning: Solver terminated early (max_iter=10000).  Consider pre-processing your data with StandardScaler or MinMaxScaler.\n",
      "  warnings.warn(\n"
     ]
    },
    {
     "name": "stdout",
     "output_type": "stream",
     "text": [
      "[CV 2/5] END svc__C=1, svc__coef0=-1, svc__degree=3, svc__gamma=scale, svc__kernel=poly; accuracy: (test=0.576) roc_auc: (test=0.500) total time= 2.4min\n"
     ]
    },
    {
     "name": "stderr",
     "output_type": "stream",
     "text": [
      "/home/pochete/studies/2023s2/mo810/mo810-kidney-waitlist/venv/lib/python3.11/site-packages/sklearn/svm/_base.py:297: ConvergenceWarning: Solver terminated early (max_iter=10000).  Consider pre-processing your data with StandardScaler or MinMaxScaler.\n",
      "  warnings.warn(\n"
     ]
    },
    {
     "name": "stdout",
     "output_type": "stream",
     "text": [
      "[CV 3/5] END svc__C=1, svc__coef0=-1, svc__degree=3, svc__gamma=scale, svc__kernel=poly; accuracy: (test=0.569) roc_auc: (test=0.498) total time= 2.4min\n"
     ]
    },
    {
     "name": "stderr",
     "output_type": "stream",
     "text": [
      "/home/pochete/studies/2023s2/mo810/mo810-kidney-waitlist/venv/lib/python3.11/site-packages/sklearn/svm/_base.py:297: ConvergenceWarning: Solver terminated early (max_iter=10000).  Consider pre-processing your data with StandardScaler or MinMaxScaler.\n",
      "  warnings.warn(\n"
     ]
    },
    {
     "name": "stdout",
     "output_type": "stream",
     "text": [
      "[CV 4/5] END svc__C=1, svc__coef0=-1, svc__degree=3, svc__gamma=scale, svc__kernel=poly; accuracy: (test=0.541) roc_auc: (test=0.518) total time= 2.5min\n"
     ]
    },
    {
     "name": "stderr",
     "output_type": "stream",
     "text": [
      "/home/pochete/studies/2023s2/mo810/mo810-kidney-waitlist/venv/lib/python3.11/site-packages/sklearn/svm/_base.py:297: ConvergenceWarning: Solver terminated early (max_iter=10000).  Consider pre-processing your data with StandardScaler or MinMaxScaler.\n",
      "  warnings.warn(\n"
     ]
    },
    {
     "name": "stdout",
     "output_type": "stream",
     "text": [
      "[CV 5/5] END svc__C=1, svc__coef0=-1, svc__degree=3, svc__gamma=scale, svc__kernel=poly; accuracy: (test=0.426) roc_auc: (test=0.515) total time= 2.4min\n"
     ]
    },
    {
     "name": "stderr",
     "output_type": "stream",
     "text": [
      "/home/pochete/studies/2023s2/mo810/mo810-kidney-waitlist/venv/lib/python3.11/site-packages/sklearn/svm/_base.py:297: ConvergenceWarning: Solver terminated early (max_iter=10000).  Consider pre-processing your data with StandardScaler or MinMaxScaler.\n",
      "  warnings.warn(\n"
     ]
    },
    {
     "name": "stdout",
     "output_type": "stream",
     "text": [
      "[CV 1/5] END svc__C=1, svc__coef0=-1, svc__degree=3, svc__gamma=0.1, svc__kernel=poly; accuracy: (test=0.570) roc_auc: (test=0.512) total time= 2.2min\n"
     ]
    },
    {
     "name": "stderr",
     "output_type": "stream",
     "text": [
      "/home/pochete/studies/2023s2/mo810/mo810-kidney-waitlist/venv/lib/python3.11/site-packages/sklearn/svm/_base.py:297: ConvergenceWarning: Solver terminated early (max_iter=10000).  Consider pre-processing your data with StandardScaler or MinMaxScaler.\n",
      "  warnings.warn(\n"
     ]
    },
    {
     "name": "stdout",
     "output_type": "stream",
     "text": [
      "[CV 2/5] END svc__C=1, svc__coef0=-1, svc__degree=3, svc__gamma=0.1, svc__kernel=poly; accuracy: (test=0.566) roc_auc: (test=0.505) total time= 2.3min\n"
     ]
    },
    {
     "name": "stderr",
     "output_type": "stream",
     "text": [
      "/home/pochete/studies/2023s2/mo810/mo810-kidney-waitlist/venv/lib/python3.11/site-packages/sklearn/svm/_base.py:297: ConvergenceWarning: Solver terminated early (max_iter=10000).  Consider pre-processing your data with StandardScaler or MinMaxScaler.\n",
      "  warnings.warn(\n"
     ]
    },
    {
     "name": "stdout",
     "output_type": "stream",
     "text": [
      "[CV 3/5] END svc__C=1, svc__coef0=-1, svc__degree=3, svc__gamma=0.1, svc__kernel=poly; accuracy: (test=0.562) roc_auc: (test=0.497) total time= 2.3min\n"
     ]
    },
    {
     "name": "stderr",
     "output_type": "stream",
     "text": [
      "/home/pochete/studies/2023s2/mo810/mo810-kidney-waitlist/venv/lib/python3.11/site-packages/sklearn/svm/_base.py:297: ConvergenceWarning: Solver terminated early (max_iter=10000).  Consider pre-processing your data with StandardScaler or MinMaxScaler.\n",
      "  warnings.warn(\n"
     ]
    },
    {
     "name": "stdout",
     "output_type": "stream",
     "text": [
      "[CV 4/5] END svc__C=1, svc__coef0=-1, svc__degree=3, svc__gamma=0.1, svc__kernel=poly; accuracy: (test=0.584) roc_auc: (test=0.505) total time= 2.2min\n"
     ]
    },
    {
     "name": "stderr",
     "output_type": "stream",
     "text": [
      "/home/pochete/studies/2023s2/mo810/mo810-kidney-waitlist/venv/lib/python3.11/site-packages/sklearn/svm/_base.py:297: ConvergenceWarning: Solver terminated early (max_iter=10000).  Consider pre-processing your data with StandardScaler or MinMaxScaler.\n",
      "  warnings.warn(\n"
     ]
    },
    {
     "name": "stdout",
     "output_type": "stream",
     "text": [
      "[CV 5/5] END svc__C=1, svc__coef0=-1, svc__degree=3, svc__gamma=0.1, svc__kernel=poly; accuracy: (test=0.581) roc_auc: (test=0.524) total time= 2.3min\n"
     ]
    },
    {
     "name": "stderr",
     "output_type": "stream",
     "text": [
      "/home/pochete/studies/2023s2/mo810/mo810-kidney-waitlist/venv/lib/python3.11/site-packages/sklearn/svm/_base.py:297: ConvergenceWarning: Solver terminated early (max_iter=10000).  Consider pre-processing your data with StandardScaler or MinMaxScaler.\n",
      "  warnings.warn(\n"
     ]
    },
    {
     "name": "stdout",
     "output_type": "stream",
     "text": [
      "[CV 1/5] END svc__C=1, svc__coef0=-1, svc__degree=3, svc__gamma=1, svc__kernel=poly; accuracy: (test=0.491) roc_auc: (test=0.524) total time=  32.9s\n"
     ]
    },
    {
     "name": "stderr",
     "output_type": "stream",
     "text": [
      "/home/pochete/studies/2023s2/mo810/mo810-kidney-waitlist/venv/lib/python3.11/site-packages/sklearn/svm/_base.py:297: ConvergenceWarning: Solver terminated early (max_iter=10000).  Consider pre-processing your data with StandardScaler or MinMaxScaler.\n",
      "  warnings.warn(\n"
     ]
    },
    {
     "name": "stdout",
     "output_type": "stream",
     "text": [
      "[CV 2/5] END svc__C=1, svc__coef0=-1, svc__degree=3, svc__gamma=1, svc__kernel=poly; accuracy: (test=0.491) roc_auc: (test=0.526) total time=  36.0s\n"
     ]
    },
    {
     "name": "stderr",
     "output_type": "stream",
     "text": [
      "/home/pochete/studies/2023s2/mo810/mo810-kidney-waitlist/venv/lib/python3.11/site-packages/sklearn/svm/_base.py:297: ConvergenceWarning: Solver terminated early (max_iter=10000).  Consider pre-processing your data with StandardScaler or MinMaxScaler.\n",
      "  warnings.warn(\n"
     ]
    },
    {
     "name": "stdout",
     "output_type": "stream",
     "text": [
      "[CV 3/5] END svc__C=1, svc__coef0=-1, svc__degree=3, svc__gamma=1, svc__kernel=poly; accuracy: (test=0.485) roc_auc: (test=0.511) total time=  32.5s\n"
     ]
    },
    {
     "name": "stderr",
     "output_type": "stream",
     "text": [
      "/home/pochete/studies/2023s2/mo810/mo810-kidney-waitlist/venv/lib/python3.11/site-packages/sklearn/svm/_base.py:297: ConvergenceWarning: Solver terminated early (max_iter=10000).  Consider pre-processing your data with StandardScaler or MinMaxScaler.\n",
      "  warnings.warn(\n"
     ]
    },
    {
     "name": "stdout",
     "output_type": "stream",
     "text": [
      "[CV 4/5] END svc__C=1, svc__coef0=-1, svc__degree=3, svc__gamma=1, svc__kernel=poly; accuracy: (test=0.492) roc_auc: (test=0.519) total time=  36.3s\n"
     ]
    },
    {
     "name": "stderr",
     "output_type": "stream",
     "text": [
      "/home/pochete/studies/2023s2/mo810/mo810-kidney-waitlist/venv/lib/python3.11/site-packages/sklearn/svm/_base.py:297: ConvergenceWarning: Solver terminated early (max_iter=10000).  Consider pre-processing your data with StandardScaler or MinMaxScaler.\n",
      "  warnings.warn(\n"
     ]
    },
    {
     "name": "stdout",
     "output_type": "stream",
     "text": [
      "[CV 5/5] END svc__C=1, svc__coef0=-1, svc__degree=3, svc__gamma=1, svc__kernel=poly; accuracy: (test=0.483) roc_auc: (test=0.515) total time=  35.1s\n"
     ]
    },
    {
     "name": "stderr",
     "output_type": "stream",
     "text": [
      "/home/pochete/studies/2023s2/mo810/mo810-kidney-waitlist/venv/lib/python3.11/site-packages/sklearn/svm/_base.py:297: ConvergenceWarning: Solver terminated early (max_iter=10000).  Consider pre-processing your data with StandardScaler or MinMaxScaler.\n",
      "  warnings.warn(\n"
     ]
    },
    {
     "name": "stdout",
     "output_type": "stream",
     "text": [
      "[CV 1/5] END svc__C=1, svc__coef0=-1, svc__degree=3, svc__gamma=2, svc__kernel=poly; accuracy: (test=0.496) roc_auc: (test=0.541) total time= 1.2min\n"
     ]
    },
    {
     "name": "stderr",
     "output_type": "stream",
     "text": [
      "/home/pochete/studies/2023s2/mo810/mo810-kidney-waitlist/venv/lib/python3.11/site-packages/sklearn/svm/_base.py:297: ConvergenceWarning: Solver terminated early (max_iter=10000).  Consider pre-processing your data with StandardScaler or MinMaxScaler.\n",
      "  warnings.warn(\n"
     ]
    },
    {
     "name": "stdout",
     "output_type": "stream",
     "text": [
      "[CV 2/5] END svc__C=1, svc__coef0=-1, svc__degree=3, svc__gamma=2, svc__kernel=poly; accuracy: (test=0.501) roc_auc: (test=0.543) total time= 1.2min\n"
     ]
    },
    {
     "name": "stderr",
     "output_type": "stream",
     "text": [
      "/home/pochete/studies/2023s2/mo810/mo810-kidney-waitlist/venv/lib/python3.11/site-packages/sklearn/svm/_base.py:297: ConvergenceWarning: Solver terminated early (max_iter=10000).  Consider pre-processing your data with StandardScaler or MinMaxScaler.\n",
      "  warnings.warn(\n"
     ]
    },
    {
     "name": "stdout",
     "output_type": "stream",
     "text": [
      "[CV 3/5] END svc__C=1, svc__coef0=-1, svc__degree=3, svc__gamma=2, svc__kernel=poly; accuracy: (test=0.508) roc_auc: (test=0.535) total time= 1.2min\n"
     ]
    },
    {
     "name": "stderr",
     "output_type": "stream",
     "text": [
      "/home/pochete/studies/2023s2/mo810/mo810-kidney-waitlist/venv/lib/python3.11/site-packages/sklearn/svm/_base.py:297: ConvergenceWarning: Solver terminated early (max_iter=10000).  Consider pre-processing your data with StandardScaler or MinMaxScaler.\n",
      "  warnings.warn(\n"
     ]
    },
    {
     "name": "stdout",
     "output_type": "stream",
     "text": [
      "[CV 4/5] END svc__C=1, svc__coef0=-1, svc__degree=3, svc__gamma=2, svc__kernel=poly; accuracy: (test=0.501) roc_auc: (test=0.539) total time= 1.2min\n"
     ]
    },
    {
     "name": "stderr",
     "output_type": "stream",
     "text": [
      "/home/pochete/studies/2023s2/mo810/mo810-kidney-waitlist/venv/lib/python3.11/site-packages/sklearn/svm/_base.py:297: ConvergenceWarning: Solver terminated early (max_iter=10000).  Consider pre-processing your data with StandardScaler or MinMaxScaler.\n",
      "  warnings.warn(\n"
     ]
    },
    {
     "name": "stdout",
     "output_type": "stream",
     "text": [
      "[CV 5/5] END svc__C=1, svc__coef0=-1, svc__degree=3, svc__gamma=2, svc__kernel=poly; accuracy: (test=0.502) roc_auc: (test=0.538) total time= 1.2min\n"
     ]
    },
    {
     "name": "stderr",
     "output_type": "stream",
     "text": [
      "/home/pochete/studies/2023s2/mo810/mo810-kidney-waitlist/venv/lib/python3.11/site-packages/sklearn/svm/_base.py:297: ConvergenceWarning: Solver terminated early (max_iter=10000).  Consider pre-processing your data with StandardScaler or MinMaxScaler.\n",
      "  warnings.warn(\n"
     ]
    },
    {
     "name": "stdout",
     "output_type": "stream",
     "text": [
      "[CV 1/5] END svc__C=1, svc__coef0=-1, svc__degree=5, svc__gamma=scale, svc__kernel=poly; accuracy: (test=0.567) roc_auc: (test=0.510) total time= 2.4min\n"
     ]
    },
    {
     "name": "stderr",
     "output_type": "stream",
     "text": [
      "/home/pochete/studies/2023s2/mo810/mo810-kidney-waitlist/venv/lib/python3.11/site-packages/sklearn/svm/_base.py:297: ConvergenceWarning: Solver terminated early (max_iter=10000).  Consider pre-processing your data with StandardScaler or MinMaxScaler.\n",
      "  warnings.warn(\n"
     ]
    },
    {
     "name": "stdout",
     "output_type": "stream",
     "text": [
      "[CV 2/5] END svc__C=1, svc__coef0=-1, svc__degree=5, svc__gamma=scale, svc__kernel=poly; accuracy: (test=0.573) roc_auc: (test=0.491) total time= 2.3min\n"
     ]
    },
    {
     "name": "stderr",
     "output_type": "stream",
     "text": [
      "/home/pochete/studies/2023s2/mo810/mo810-kidney-waitlist/venv/lib/python3.11/site-packages/sklearn/svm/_base.py:297: ConvergenceWarning: Solver terminated early (max_iter=10000).  Consider pre-processing your data with StandardScaler or MinMaxScaler.\n",
      "  warnings.warn(\n"
     ]
    },
    {
     "name": "stdout",
     "output_type": "stream",
     "text": [
      "[CV 3/5] END svc__C=1, svc__coef0=-1, svc__degree=5, svc__gamma=scale, svc__kernel=poly; accuracy: (test=0.565) roc_auc: (test=0.495) total time= 2.4min\n"
     ]
    },
    {
     "name": "stderr",
     "output_type": "stream",
     "text": [
      "/home/pochete/studies/2023s2/mo810/mo810-kidney-waitlist/venv/lib/python3.11/site-packages/sklearn/svm/_base.py:297: ConvergenceWarning: Solver terminated early (max_iter=10000).  Consider pre-processing your data with StandardScaler or MinMaxScaler.\n",
      "  warnings.warn(\n"
     ]
    },
    {
     "name": "stdout",
     "output_type": "stream",
     "text": [
      "[CV 4/5] END svc__C=1, svc__coef0=-1, svc__degree=5, svc__gamma=scale, svc__kernel=poly; accuracy: (test=0.582) roc_auc: (test=0.517) total time= 2.3min\n"
     ]
    },
    {
     "name": "stderr",
     "output_type": "stream",
     "text": [
      "/home/pochete/studies/2023s2/mo810/mo810-kidney-waitlist/venv/lib/python3.11/site-packages/sklearn/svm/_base.py:297: ConvergenceWarning: Solver terminated early (max_iter=10000).  Consider pre-processing your data with StandardScaler or MinMaxScaler.\n",
      "  warnings.warn(\n"
     ]
    },
    {
     "name": "stdout",
     "output_type": "stream",
     "text": [
      "[CV 5/5] END svc__C=1, svc__coef0=-1, svc__degree=5, svc__gamma=scale, svc__kernel=poly; accuracy: (test=0.582) roc_auc: (test=0.517) total time= 2.4min\n"
     ]
    },
    {
     "name": "stderr",
     "output_type": "stream",
     "text": [
      "/home/pochete/studies/2023s2/mo810/mo810-kidney-waitlist/venv/lib/python3.11/site-packages/sklearn/svm/_base.py:297: ConvergenceWarning: Solver terminated early (max_iter=10000).  Consider pre-processing your data with StandardScaler or MinMaxScaler.\n",
      "  warnings.warn(\n"
     ]
    },
    {
     "name": "stdout",
     "output_type": "stream",
     "text": [
      "[CV 1/5] END svc__C=1, svc__coef0=-1, svc__degree=5, svc__gamma=0.1, svc__kernel=poly; accuracy: (test=0.487) roc_auc: (test=0.502) total time= 1.9min\n"
     ]
    },
    {
     "name": "stderr",
     "output_type": "stream",
     "text": [
      "/home/pochete/studies/2023s2/mo810/mo810-kidney-waitlist/venv/lib/python3.11/site-packages/sklearn/svm/_base.py:297: ConvergenceWarning: Solver terminated early (max_iter=10000).  Consider pre-processing your data with StandardScaler or MinMaxScaler.\n",
      "  warnings.warn(\n"
     ]
    },
    {
     "name": "stdout",
     "output_type": "stream",
     "text": [
      "[CV 2/5] END svc__C=1, svc__coef0=-1, svc__degree=5, svc__gamma=0.1, svc__kernel=poly; accuracy: (test=0.539) roc_auc: (test=0.515) total time= 2.0min\n"
     ]
    },
    {
     "name": "stderr",
     "output_type": "stream",
     "text": [
      "/home/pochete/studies/2023s2/mo810/mo810-kidney-waitlist/venv/lib/python3.11/site-packages/sklearn/svm/_base.py:297: ConvergenceWarning: Solver terminated early (max_iter=10000).  Consider pre-processing your data with StandardScaler or MinMaxScaler.\n",
      "  warnings.warn(\n"
     ]
    },
    {
     "name": "stdout",
     "output_type": "stream",
     "text": [
      "[CV 3/5] END svc__C=1, svc__coef0=-1, svc__degree=5, svc__gamma=0.1, svc__kernel=poly; accuracy: (test=0.544) roc_auc: (test=0.527) total time= 2.0min\n"
     ]
    },
    {
     "name": "stderr",
     "output_type": "stream",
     "text": [
      "/home/pochete/studies/2023s2/mo810/mo810-kidney-waitlist/venv/lib/python3.11/site-packages/sklearn/svm/_base.py:297: ConvergenceWarning: Solver terminated early (max_iter=10000).  Consider pre-processing your data with StandardScaler or MinMaxScaler.\n",
      "  warnings.warn(\n"
     ]
    },
    {
     "name": "stdout",
     "output_type": "stream",
     "text": [
      "[CV 4/5] END svc__C=1, svc__coef0=-1, svc__degree=5, svc__gamma=0.1, svc__kernel=poly; accuracy: (test=0.558) roc_auc: (test=0.526) total time= 2.0min\n"
     ]
    },
    {
     "name": "stderr",
     "output_type": "stream",
     "text": [
      "/home/pochete/studies/2023s2/mo810/mo810-kidney-waitlist/venv/lib/python3.11/site-packages/sklearn/svm/_base.py:297: ConvergenceWarning: Solver terminated early (max_iter=10000).  Consider pre-processing your data with StandardScaler or MinMaxScaler.\n",
      "  warnings.warn(\n"
     ]
    },
    {
     "name": "stdout",
     "output_type": "stream",
     "text": [
      "[CV 5/5] END svc__C=1, svc__coef0=-1, svc__degree=5, svc__gamma=0.1, svc__kernel=poly; accuracy: (test=0.535) roc_auc: (test=0.512) total time= 1.9min\n"
     ]
    },
    {
     "name": "stderr",
     "output_type": "stream",
     "text": [
      "/home/pochete/studies/2023s2/mo810/mo810-kidney-waitlist/venv/lib/python3.11/site-packages/sklearn/svm/_base.py:297: ConvergenceWarning: Solver terminated early (max_iter=10000).  Consider pre-processing your data with StandardScaler or MinMaxScaler.\n",
      "  warnings.warn(\n"
     ]
    },
    {
     "name": "stdout",
     "output_type": "stream",
     "text": [
      "[CV 1/5] END svc__C=1, svc__coef0=-1, svc__degree=5, svc__gamma=1, svc__kernel=poly; accuracy: (test=0.589) roc_auc: (test=0.560) total time= 1.6min\n"
     ]
    },
    {
     "name": "stderr",
     "output_type": "stream",
     "text": [
      "/home/pochete/studies/2023s2/mo810/mo810-kidney-waitlist/venv/lib/python3.11/site-packages/sklearn/svm/_base.py:297: ConvergenceWarning: Solver terminated early (max_iter=10000).  Consider pre-processing your data with StandardScaler or MinMaxScaler.\n",
      "  warnings.warn(\n"
     ]
    },
    {
     "name": "stdout",
     "output_type": "stream",
     "text": [
      "[CV 2/5] END svc__C=1, svc__coef0=-1, svc__degree=5, svc__gamma=1, svc__kernel=poly; accuracy: (test=0.579) roc_auc: (test=0.554) total time= 1.6min\n"
     ]
    },
    {
     "name": "stderr",
     "output_type": "stream",
     "text": [
      "/home/pochete/studies/2023s2/mo810/mo810-kidney-waitlist/venv/lib/python3.11/site-packages/sklearn/svm/_base.py:297: ConvergenceWarning: Solver terminated early (max_iter=10000).  Consider pre-processing your data with StandardScaler or MinMaxScaler.\n",
      "  warnings.warn(\n"
     ]
    },
    {
     "name": "stdout",
     "output_type": "stream",
     "text": [
      "[CV 3/5] END svc__C=1, svc__coef0=-1, svc__degree=5, svc__gamma=1, svc__kernel=poly; accuracy: (test=0.592) roc_auc: (test=0.561) total time= 1.7min\n"
     ]
    },
    {
     "name": "stderr",
     "output_type": "stream",
     "text": [
      "/home/pochete/studies/2023s2/mo810/mo810-kidney-waitlist/venv/lib/python3.11/site-packages/sklearn/svm/_base.py:297: ConvergenceWarning: Solver terminated early (max_iter=10000).  Consider pre-processing your data with StandardScaler or MinMaxScaler.\n",
      "  warnings.warn(\n"
     ]
    },
    {
     "name": "stdout",
     "output_type": "stream",
     "text": [
      "[CV 4/5] END svc__C=1, svc__coef0=-1, svc__degree=5, svc__gamma=1, svc__kernel=poly; accuracy: (test=0.579) roc_auc: (test=0.548) total time= 1.6min\n"
     ]
    },
    {
     "name": "stderr",
     "output_type": "stream",
     "text": [
      "/home/pochete/studies/2023s2/mo810/mo810-kidney-waitlist/venv/lib/python3.11/site-packages/sklearn/svm/_base.py:297: ConvergenceWarning: Solver terminated early (max_iter=10000).  Consider pre-processing your data with StandardScaler or MinMaxScaler.\n",
      "  warnings.warn(\n"
     ]
    },
    {
     "name": "stdout",
     "output_type": "stream",
     "text": [
      "[CV 5/5] END svc__C=1, svc__coef0=-1, svc__degree=5, svc__gamma=1, svc__kernel=poly; accuracy: (test=0.587) roc_auc: (test=0.554) total time= 1.6min\n"
     ]
    },
    {
     "name": "stderr",
     "output_type": "stream",
     "text": [
      "/home/pochete/studies/2023s2/mo810/mo810-kidney-waitlist/venv/lib/python3.11/site-packages/sklearn/svm/_base.py:297: ConvergenceWarning: Solver terminated early (max_iter=10000).  Consider pre-processing your data with StandardScaler or MinMaxScaler.\n",
      "  warnings.warn(\n"
     ]
    },
    {
     "name": "stdout",
     "output_type": "stream",
     "text": [
      "[CV 1/5] END svc__C=1, svc__coef0=-1, svc__degree=5, svc__gamma=2, svc__kernel=poly; accuracy: (test=0.610) roc_auc: (test=0.569) total time= 1.7min\n"
     ]
    },
    {
     "name": "stderr",
     "output_type": "stream",
     "text": [
      "/home/pochete/studies/2023s2/mo810/mo810-kidney-waitlist/venv/lib/python3.11/site-packages/sklearn/svm/_base.py:297: ConvergenceWarning: Solver terminated early (max_iter=10000).  Consider pre-processing your data with StandardScaler or MinMaxScaler.\n",
      "  warnings.warn(\n"
     ]
    },
    {
     "name": "stdout",
     "output_type": "stream",
     "text": [
      "[CV 2/5] END svc__C=1, svc__coef0=-1, svc__degree=5, svc__gamma=2, svc__kernel=poly; accuracy: (test=0.599) roc_auc: (test=0.555) total time= 1.7min\n"
     ]
    },
    {
     "name": "stderr",
     "output_type": "stream",
     "text": [
      "/home/pochete/studies/2023s2/mo810/mo810-kidney-waitlist/venv/lib/python3.11/site-packages/sklearn/svm/_base.py:297: ConvergenceWarning: Solver terminated early (max_iter=10000).  Consider pre-processing your data with StandardScaler or MinMaxScaler.\n",
      "  warnings.warn(\n"
     ]
    },
    {
     "name": "stdout",
     "output_type": "stream",
     "text": [
      "[CV 3/5] END svc__C=1, svc__coef0=-1, svc__degree=5, svc__gamma=2, svc__kernel=poly; accuracy: (test=0.602) roc_auc: (test=0.567) total time= 1.6min\n"
     ]
    },
    {
     "name": "stderr",
     "output_type": "stream",
     "text": [
      "/home/pochete/studies/2023s2/mo810/mo810-kidney-waitlist/venv/lib/python3.11/site-packages/sklearn/svm/_base.py:297: ConvergenceWarning: Solver terminated early (max_iter=10000).  Consider pre-processing your data with StandardScaler or MinMaxScaler.\n",
      "  warnings.warn(\n"
     ]
    },
    {
     "name": "stdout",
     "output_type": "stream",
     "text": [
      "[CV 4/5] END svc__C=1, svc__coef0=-1, svc__degree=5, svc__gamma=2, svc__kernel=poly; accuracy: (test=0.595) roc_auc: (test=0.549) total time= 1.6min\n"
     ]
    },
    {
     "name": "stderr",
     "output_type": "stream",
     "text": [
      "/home/pochete/studies/2023s2/mo810/mo810-kidney-waitlist/venv/lib/python3.11/site-packages/sklearn/svm/_base.py:297: ConvergenceWarning: Solver terminated early (max_iter=10000).  Consider pre-processing your data with StandardScaler or MinMaxScaler.\n",
      "  warnings.warn(\n"
     ]
    },
    {
     "name": "stdout",
     "output_type": "stream",
     "text": [
      "[CV 5/5] END svc__C=1, svc__coef0=-1, svc__degree=5, svc__gamma=2, svc__kernel=poly; accuracy: (test=0.600) roc_auc: (test=0.556) total time= 1.7min\n"
     ]
    },
    {
     "name": "stderr",
     "output_type": "stream",
     "text": [
      "/home/pochete/studies/2023s2/mo810/mo810-kidney-waitlist/venv/lib/python3.11/site-packages/sklearn/svm/_base.py:297: ConvergenceWarning: Solver terminated early (max_iter=10000).  Consider pre-processing your data with StandardScaler or MinMaxScaler.\n",
      "  warnings.warn(\n"
     ]
    },
    {
     "name": "stdout",
     "output_type": "stream",
     "text": [
      "[CV 1/5] END svc__C=1, svc__coef0=1, svc__degree=3, svc__gamma=scale, svc__kernel=poly; accuracy: (test=0.574) roc_auc: (test=0.535) total time= 1.7min\n"
     ]
    },
    {
     "name": "stderr",
     "output_type": "stream",
     "text": [
      "/home/pochete/studies/2023s2/mo810/mo810-kidney-waitlist/venv/lib/python3.11/site-packages/sklearn/svm/_base.py:297: ConvergenceWarning: Solver terminated early (max_iter=10000).  Consider pre-processing your data with StandardScaler or MinMaxScaler.\n",
      "  warnings.warn(\n"
     ]
    },
    {
     "name": "stdout",
     "output_type": "stream",
     "text": [
      "[CV 2/5] END svc__C=1, svc__coef0=1, svc__degree=3, svc__gamma=scale, svc__kernel=poly; accuracy: (test=0.581) roc_auc: (test=0.532) total time= 1.7min\n"
     ]
    },
    {
     "name": "stderr",
     "output_type": "stream",
     "text": [
      "/home/pochete/studies/2023s2/mo810/mo810-kidney-waitlist/venv/lib/python3.11/site-packages/sklearn/svm/_base.py:297: ConvergenceWarning: Solver terminated early (max_iter=10000).  Consider pre-processing your data with StandardScaler or MinMaxScaler.\n",
      "  warnings.warn(\n"
     ]
    },
    {
     "name": "stdout",
     "output_type": "stream",
     "text": [
      "[CV 3/5] END svc__C=1, svc__coef0=1, svc__degree=3, svc__gamma=scale, svc__kernel=poly; accuracy: (test=0.563) roc_auc: (test=0.537) total time= 1.7min\n"
     ]
    },
    {
     "name": "stderr",
     "output_type": "stream",
     "text": [
      "/home/pochete/studies/2023s2/mo810/mo810-kidney-waitlist/venv/lib/python3.11/site-packages/sklearn/svm/_base.py:297: ConvergenceWarning: Solver terminated early (max_iter=10000).  Consider pre-processing your data with StandardScaler or MinMaxScaler.\n",
      "  warnings.warn(\n"
     ]
    },
    {
     "name": "stdout",
     "output_type": "stream",
     "text": [
      "[CV 4/5] END svc__C=1, svc__coef0=1, svc__degree=3, svc__gamma=scale, svc__kernel=poly; accuracy: (test=0.576) roc_auc: (test=0.544) total time= 1.7min\n"
     ]
    },
    {
     "name": "stderr",
     "output_type": "stream",
     "text": [
      "/home/pochete/studies/2023s2/mo810/mo810-kidney-waitlist/venv/lib/python3.11/site-packages/sklearn/svm/_base.py:297: ConvergenceWarning: Solver terminated early (max_iter=10000).  Consider pre-processing your data with StandardScaler or MinMaxScaler.\n",
      "  warnings.warn(\n"
     ]
    },
    {
     "name": "stdout",
     "output_type": "stream",
     "text": [
      "[CV 5/5] END svc__C=1, svc__coef0=1, svc__degree=3, svc__gamma=scale, svc__kernel=poly; accuracy: (test=0.566) roc_auc: (test=0.542) total time= 1.6min\n"
     ]
    },
    {
     "name": "stderr",
     "output_type": "stream",
     "text": [
      "/home/pochete/studies/2023s2/mo810/mo810-kidney-waitlist/venv/lib/python3.11/site-packages/sklearn/svm/_base.py:297: ConvergenceWarning: Solver terminated early (max_iter=10000).  Consider pre-processing your data with StandardScaler or MinMaxScaler.\n",
      "  warnings.warn(\n"
     ]
    },
    {
     "name": "stdout",
     "output_type": "stream",
     "text": [
      "[CV 1/5] END svc__C=1, svc__coef0=1, svc__degree=3, svc__gamma=0.1, svc__kernel=poly; accuracy: (test=0.573) roc_auc: (test=0.536) total time= 1.2min\n"
     ]
    },
    {
     "name": "stderr",
     "output_type": "stream",
     "text": [
      "/home/pochete/studies/2023s2/mo810/mo810-kidney-waitlist/venv/lib/python3.11/site-packages/sklearn/svm/_base.py:297: ConvergenceWarning: Solver terminated early (max_iter=10000).  Consider pre-processing your data with StandardScaler or MinMaxScaler.\n",
      "  warnings.warn(\n"
     ]
    },
    {
     "name": "stdout",
     "output_type": "stream",
     "text": [
      "[CV 2/5] END svc__C=1, svc__coef0=1, svc__degree=3, svc__gamma=0.1, svc__kernel=poly; accuracy: (test=0.562) roc_auc: (test=0.523) total time= 1.2min\n"
     ]
    },
    {
     "name": "stderr",
     "output_type": "stream",
     "text": [
      "/home/pochete/studies/2023s2/mo810/mo810-kidney-waitlist/venv/lib/python3.11/site-packages/sklearn/svm/_base.py:297: ConvergenceWarning: Solver terminated early (max_iter=10000).  Consider pre-processing your data with StandardScaler or MinMaxScaler.\n",
      "  warnings.warn(\n"
     ]
    },
    {
     "name": "stdout",
     "output_type": "stream",
     "text": [
      "[CV 3/5] END svc__C=1, svc__coef0=1, svc__degree=3, svc__gamma=0.1, svc__kernel=poly; accuracy: (test=0.574) roc_auc: (test=0.528) total time= 1.2min\n"
     ]
    },
    {
     "name": "stderr",
     "output_type": "stream",
     "text": [
      "/home/pochete/studies/2023s2/mo810/mo810-kidney-waitlist/venv/lib/python3.11/site-packages/sklearn/svm/_base.py:297: ConvergenceWarning: Solver terminated early (max_iter=10000).  Consider pre-processing your data with StandardScaler or MinMaxScaler.\n",
      "  warnings.warn(\n"
     ]
    },
    {
     "name": "stdout",
     "output_type": "stream",
     "text": [
      "[CV 4/5] END svc__C=1, svc__coef0=1, svc__degree=3, svc__gamma=0.1, svc__kernel=poly; accuracy: (test=0.570) roc_auc: (test=0.532) total time= 1.2min\n"
     ]
    },
    {
     "name": "stderr",
     "output_type": "stream",
     "text": [
      "/home/pochete/studies/2023s2/mo810/mo810-kidney-waitlist/venv/lib/python3.11/site-packages/sklearn/svm/_base.py:297: ConvergenceWarning: Solver terminated early (max_iter=10000).  Consider pre-processing your data with StandardScaler or MinMaxScaler.\n",
      "  warnings.warn(\n"
     ]
    },
    {
     "name": "stdout",
     "output_type": "stream",
     "text": [
      "[CV 5/5] END svc__C=1, svc__coef0=1, svc__degree=3, svc__gamma=0.1, svc__kernel=poly; accuracy: (test=0.590) roc_auc: (test=0.539) total time= 1.2min\n"
     ]
    },
    {
     "name": "stderr",
     "output_type": "stream",
     "text": [
      "/home/pochete/studies/2023s2/mo810/mo810-kidney-waitlist/venv/lib/python3.11/site-packages/sklearn/svm/_base.py:297: ConvergenceWarning: Solver terminated early (max_iter=10000).  Consider pre-processing your data with StandardScaler or MinMaxScaler.\n",
      "  warnings.warn(\n"
     ]
    },
    {
     "name": "stdout",
     "output_type": "stream",
     "text": [
      "[CV 1/5] END svc__C=1, svc__coef0=1, svc__degree=3, svc__gamma=1, svc__kernel=poly; accuracy: (test=0.571) roc_auc: (test=0.546) total time= 1.2min\n"
     ]
    },
    {
     "name": "stderr",
     "output_type": "stream",
     "text": [
      "/home/pochete/studies/2023s2/mo810/mo810-kidney-waitlist/venv/lib/python3.11/site-packages/sklearn/svm/_base.py:297: ConvergenceWarning: Solver terminated early (max_iter=10000).  Consider pre-processing your data with StandardScaler or MinMaxScaler.\n",
      "  warnings.warn(\n"
     ]
    },
    {
     "name": "stdout",
     "output_type": "stream",
     "text": [
      "[CV 2/5] END svc__C=1, svc__coef0=1, svc__degree=3, svc__gamma=1, svc__kernel=poly; accuracy: (test=0.561) roc_auc: (test=0.535) total time= 1.2min\n"
     ]
    },
    {
     "name": "stderr",
     "output_type": "stream",
     "text": [
      "/home/pochete/studies/2023s2/mo810/mo810-kidney-waitlist/venv/lib/python3.11/site-packages/sklearn/svm/_base.py:297: ConvergenceWarning: Solver terminated early (max_iter=10000).  Consider pre-processing your data with StandardScaler or MinMaxScaler.\n",
      "  warnings.warn(\n"
     ]
    },
    {
     "name": "stdout",
     "output_type": "stream",
     "text": [
      "[CV 3/5] END svc__C=1, svc__coef0=1, svc__degree=3, svc__gamma=1, svc__kernel=poly; accuracy: (test=0.571) roc_auc: (test=0.542) total time= 1.2min\n"
     ]
    },
    {
     "name": "stderr",
     "output_type": "stream",
     "text": [
      "/home/pochete/studies/2023s2/mo810/mo810-kidney-waitlist/venv/lib/python3.11/site-packages/sklearn/svm/_base.py:297: ConvergenceWarning: Solver terminated early (max_iter=10000).  Consider pre-processing your data with StandardScaler or MinMaxScaler.\n",
      "  warnings.warn(\n"
     ]
    },
    {
     "name": "stdout",
     "output_type": "stream",
     "text": [
      "[CV 4/5] END svc__C=1, svc__coef0=1, svc__degree=3, svc__gamma=1, svc__kernel=poly; accuracy: (test=0.558) roc_auc: (test=0.523) total time= 1.2min\n"
     ]
    },
    {
     "name": "stderr",
     "output_type": "stream",
     "text": [
      "/home/pochete/studies/2023s2/mo810/mo810-kidney-waitlist/venv/lib/python3.11/site-packages/sklearn/svm/_base.py:297: ConvergenceWarning: Solver terminated early (max_iter=10000).  Consider pre-processing your data with StandardScaler or MinMaxScaler.\n",
      "  warnings.warn(\n"
     ]
    },
    {
     "name": "stdout",
     "output_type": "stream",
     "text": [
      "[CV 5/5] END svc__C=1, svc__coef0=1, svc__degree=3, svc__gamma=1, svc__kernel=poly; accuracy: (test=0.570) roc_auc: (test=0.531) total time= 1.2min\n"
     ]
    },
    {
     "name": "stderr",
     "output_type": "stream",
     "text": [
      "/home/pochete/studies/2023s2/mo810/mo810-kidney-waitlist/venv/lib/python3.11/site-packages/sklearn/svm/_base.py:297: ConvergenceWarning: Solver terminated early (max_iter=10000).  Consider pre-processing your data with StandardScaler or MinMaxScaler.\n",
      "  warnings.warn(\n"
     ]
    },
    {
     "name": "stdout",
     "output_type": "stream",
     "text": [
      "[CV 1/5] END svc__C=1, svc__coef0=1, svc__degree=3, svc__gamma=2, svc__kernel=poly; accuracy: (test=0.558) roc_auc: (test=0.536) total time= 1.2min\n"
     ]
    },
    {
     "name": "stderr",
     "output_type": "stream",
     "text": [
      "/home/pochete/studies/2023s2/mo810/mo810-kidney-waitlist/venv/lib/python3.11/site-packages/sklearn/svm/_base.py:297: ConvergenceWarning: Solver terminated early (max_iter=10000).  Consider pre-processing your data with StandardScaler or MinMaxScaler.\n",
      "  warnings.warn(\n"
     ]
    },
    {
     "name": "stdout",
     "output_type": "stream",
     "text": [
      "[CV 2/5] END svc__C=1, svc__coef0=1, svc__degree=3, svc__gamma=2, svc__kernel=poly; accuracy: (test=0.544) roc_auc: (test=0.524) total time= 1.2min\n"
     ]
    },
    {
     "name": "stderr",
     "output_type": "stream",
     "text": [
      "/home/pochete/studies/2023s2/mo810/mo810-kidney-waitlist/venv/lib/python3.11/site-packages/sklearn/svm/_base.py:297: ConvergenceWarning: Solver terminated early (max_iter=10000).  Consider pre-processing your data with StandardScaler or MinMaxScaler.\n",
      "  warnings.warn(\n"
     ]
    },
    {
     "name": "stdout",
     "output_type": "stream",
     "text": [
      "[CV 3/5] END svc__C=1, svc__coef0=1, svc__degree=3, svc__gamma=2, svc__kernel=poly; accuracy: (test=0.565) roc_auc: (test=0.537) total time= 1.2min\n"
     ]
    },
    {
     "name": "stderr",
     "output_type": "stream",
     "text": [
      "/home/pochete/studies/2023s2/mo810/mo810-kidney-waitlist/venv/lib/python3.11/site-packages/sklearn/svm/_base.py:297: ConvergenceWarning: Solver terminated early (max_iter=10000).  Consider pre-processing your data with StandardScaler or MinMaxScaler.\n",
      "  warnings.warn(\n"
     ]
    },
    {
     "name": "stdout",
     "output_type": "stream",
     "text": [
      "[CV 4/5] END svc__C=1, svc__coef0=1, svc__degree=3, svc__gamma=2, svc__kernel=poly; accuracy: (test=0.550) roc_auc: (test=0.525) total time= 1.2min\n"
     ]
    },
    {
     "name": "stderr",
     "output_type": "stream",
     "text": [
      "/home/pochete/studies/2023s2/mo810/mo810-kidney-waitlist/venv/lib/python3.11/site-packages/sklearn/svm/_base.py:297: ConvergenceWarning: Solver terminated early (max_iter=10000).  Consider pre-processing your data with StandardScaler or MinMaxScaler.\n",
      "  warnings.warn(\n"
     ]
    },
    {
     "name": "stdout",
     "output_type": "stream",
     "text": [
      "[CV 5/5] END svc__C=1, svc__coef0=1, svc__degree=3, svc__gamma=2, svc__kernel=poly; accuracy: (test=0.560) roc_auc: (test=0.531) total time= 1.2min\n"
     ]
    },
    {
     "name": "stderr",
     "output_type": "stream",
     "text": [
      "/home/pochete/studies/2023s2/mo810/mo810-kidney-waitlist/venv/lib/python3.11/site-packages/sklearn/svm/_base.py:297: ConvergenceWarning: Solver terminated early (max_iter=10000).  Consider pre-processing your data with StandardScaler or MinMaxScaler.\n",
      "  warnings.warn(\n"
     ]
    },
    {
     "name": "stdout",
     "output_type": "stream",
     "text": [
      "[CV 1/5] END svc__C=1, svc__coef0=1, svc__degree=5, svc__gamma=scale, svc__kernel=poly; accuracy: (test=0.614) roc_auc: (test=0.552) total time= 1.5min\n"
     ]
    },
    {
     "name": "stderr",
     "output_type": "stream",
     "text": [
      "/home/pochete/studies/2023s2/mo810/mo810-kidney-waitlist/venv/lib/python3.11/site-packages/sklearn/svm/_base.py:297: ConvergenceWarning: Solver terminated early (max_iter=10000).  Consider pre-processing your data with StandardScaler or MinMaxScaler.\n",
      "  warnings.warn(\n"
     ]
    },
    {
     "name": "stdout",
     "output_type": "stream",
     "text": [
      "[CV 2/5] END svc__C=1, svc__coef0=1, svc__degree=5, svc__gamma=scale, svc__kernel=poly; accuracy: (test=0.602) roc_auc: (test=0.537) total time= 1.4min\n"
     ]
    },
    {
     "name": "stderr",
     "output_type": "stream",
     "text": [
      "/home/pochete/studies/2023s2/mo810/mo810-kidney-waitlist/venv/lib/python3.11/site-packages/sklearn/svm/_base.py:297: ConvergenceWarning: Solver terminated early (max_iter=10000).  Consider pre-processing your data with StandardScaler or MinMaxScaler.\n",
      "  warnings.warn(\n"
     ]
    },
    {
     "name": "stdout",
     "output_type": "stream",
     "text": [
      "[CV 3/5] END svc__C=1, svc__coef0=1, svc__degree=5, svc__gamma=scale, svc__kernel=poly; accuracy: (test=0.614) roc_auc: (test=0.553) total time= 1.5min\n"
     ]
    },
    {
     "name": "stderr",
     "output_type": "stream",
     "text": [
      "/home/pochete/studies/2023s2/mo810/mo810-kidney-waitlist/venv/lib/python3.11/site-packages/sklearn/svm/_base.py:297: ConvergenceWarning: Solver terminated early (max_iter=10000).  Consider pre-processing your data with StandardScaler or MinMaxScaler.\n",
      "  warnings.warn(\n"
     ]
    },
    {
     "name": "stdout",
     "output_type": "stream",
     "text": [
      "[CV 4/5] END svc__C=1, svc__coef0=1, svc__degree=5, svc__gamma=scale, svc__kernel=poly; accuracy: (test=0.601) roc_auc: (test=0.535) total time= 1.5min\n"
     ]
    },
    {
     "name": "stderr",
     "output_type": "stream",
     "text": [
      "/home/pochete/studies/2023s2/mo810/mo810-kidney-waitlist/venv/lib/python3.11/site-packages/sklearn/svm/_base.py:297: ConvergenceWarning: Solver terminated early (max_iter=10000).  Consider pre-processing your data with StandardScaler or MinMaxScaler.\n",
      "  warnings.warn(\n"
     ]
    },
    {
     "name": "stdout",
     "output_type": "stream",
     "text": [
      "[CV 5/5] END svc__C=1, svc__coef0=1, svc__degree=5, svc__gamma=scale, svc__kernel=poly; accuracy: (test=0.609) roc_auc: (test=0.554) total time= 1.5min\n"
     ]
    },
    {
     "name": "stderr",
     "output_type": "stream",
     "text": [
      "/home/pochete/studies/2023s2/mo810/mo810-kidney-waitlist/venv/lib/python3.11/site-packages/sklearn/svm/_base.py:297: ConvergenceWarning: Solver terminated early (max_iter=10000).  Consider pre-processing your data with StandardScaler or MinMaxScaler.\n",
      "  warnings.warn(\n"
     ]
    },
    {
     "name": "stdout",
     "output_type": "stream",
     "text": [
      "[CV 1/5] END svc__C=1, svc__coef0=1, svc__degree=5, svc__gamma=0.1, svc__kernel=poly; accuracy: (test=0.624) roc_auc: (test=0.576) total time= 1.5min\n"
     ]
    },
    {
     "name": "stderr",
     "output_type": "stream",
     "text": [
      "/home/pochete/studies/2023s2/mo810/mo810-kidney-waitlist/venv/lib/python3.11/site-packages/sklearn/svm/_base.py:297: ConvergenceWarning: Solver terminated early (max_iter=10000).  Consider pre-processing your data with StandardScaler or MinMaxScaler.\n",
      "  warnings.warn(\n"
     ]
    },
    {
     "name": "stdout",
     "output_type": "stream",
     "text": [
      "[CV 2/5] END svc__C=1, svc__coef0=1, svc__degree=5, svc__gamma=0.1, svc__kernel=poly; accuracy: (test=0.609) roc_auc: (test=0.558) total time= 1.5min\n"
     ]
    },
    {
     "name": "stderr",
     "output_type": "stream",
     "text": [
      "/home/pochete/studies/2023s2/mo810/mo810-kidney-waitlist/venv/lib/python3.11/site-packages/sklearn/svm/_base.py:297: ConvergenceWarning: Solver terminated early (max_iter=10000).  Consider pre-processing your data with StandardScaler or MinMaxScaler.\n",
      "  warnings.warn(\n"
     ]
    },
    {
     "name": "stdout",
     "output_type": "stream",
     "text": [
      "[CV 3/5] END svc__C=1, svc__coef0=1, svc__degree=5, svc__gamma=0.1, svc__kernel=poly; accuracy: (test=0.628) roc_auc: (test=0.568) total time= 1.5min\n"
     ]
    },
    {
     "name": "stderr",
     "output_type": "stream",
     "text": [
      "/home/pochete/studies/2023s2/mo810/mo810-kidney-waitlist/venv/lib/python3.11/site-packages/sklearn/svm/_base.py:297: ConvergenceWarning: Solver terminated early (max_iter=10000).  Consider pre-processing your data with StandardScaler or MinMaxScaler.\n",
      "  warnings.warn(\n"
     ]
    },
    {
     "name": "stdout",
     "output_type": "stream",
     "text": [
      "[CV 4/5] END svc__C=1, svc__coef0=1, svc__degree=5, svc__gamma=0.1, svc__kernel=poly; accuracy: (test=0.625) roc_auc: (test=0.564) total time= 1.4min\n"
     ]
    },
    {
     "name": "stderr",
     "output_type": "stream",
     "text": [
      "/home/pochete/studies/2023s2/mo810/mo810-kidney-waitlist/venv/lib/python3.11/site-packages/sklearn/svm/_base.py:297: ConvergenceWarning: Solver terminated early (max_iter=10000).  Consider pre-processing your data with StandardScaler or MinMaxScaler.\n",
      "  warnings.warn(\n"
     ]
    },
    {
     "name": "stdout",
     "output_type": "stream",
     "text": [
      "[CV 5/5] END svc__C=1, svc__coef0=1, svc__degree=5, svc__gamma=0.1, svc__kernel=poly; accuracy: (test=0.616) roc_auc: (test=0.568) total time= 1.5min\n"
     ]
    },
    {
     "name": "stderr",
     "output_type": "stream",
     "text": [
      "/home/pochete/studies/2023s2/mo810/mo810-kidney-waitlist/venv/lib/python3.11/site-packages/sklearn/svm/_base.py:297: ConvergenceWarning: Solver terminated early (max_iter=10000).  Consider pre-processing your data with StandardScaler or MinMaxScaler.\n",
      "  warnings.warn(\n"
     ]
    },
    {
     "name": "stdout",
     "output_type": "stream",
     "text": [
      "[CV 1/5] END svc__C=1, svc__coef0=1, svc__degree=5, svc__gamma=1, svc__kernel=poly; accuracy: (test=0.623) roc_auc: (test=0.572) total time= 1.6min\n"
     ]
    },
    {
     "name": "stderr",
     "output_type": "stream",
     "text": [
      "/home/pochete/studies/2023s2/mo810/mo810-kidney-waitlist/venv/lib/python3.11/site-packages/sklearn/svm/_base.py:297: ConvergenceWarning: Solver terminated early (max_iter=10000).  Consider pre-processing your data with StandardScaler or MinMaxScaler.\n",
      "  warnings.warn(\n"
     ]
    },
    {
     "name": "stdout",
     "output_type": "stream",
     "text": [
      "[CV 2/5] END svc__C=1, svc__coef0=1, svc__degree=5, svc__gamma=1, svc__kernel=poly; accuracy: (test=0.614) roc_auc: (test=0.561) total time= 1.6min\n"
     ]
    },
    {
     "name": "stderr",
     "output_type": "stream",
     "text": [
      "/home/pochete/studies/2023s2/mo810/mo810-kidney-waitlist/venv/lib/python3.11/site-packages/sklearn/svm/_base.py:297: ConvergenceWarning: Solver terminated early (max_iter=10000).  Consider pre-processing your data with StandardScaler or MinMaxScaler.\n",
      "  warnings.warn(\n"
     ]
    },
    {
     "name": "stdout",
     "output_type": "stream",
     "text": [
      "[CV 3/5] END svc__C=1, svc__coef0=1, svc__degree=5, svc__gamma=1, svc__kernel=poly; accuracy: (test=0.626) roc_auc: (test=0.573) total time= 1.6min\n"
     ]
    },
    {
     "name": "stderr",
     "output_type": "stream",
     "text": [
      "/home/pochete/studies/2023s2/mo810/mo810-kidney-waitlist/venv/lib/python3.11/site-packages/sklearn/svm/_base.py:297: ConvergenceWarning: Solver terminated early (max_iter=10000).  Consider pre-processing your data with StandardScaler or MinMaxScaler.\n",
      "  warnings.warn(\n"
     ]
    },
    {
     "name": "stdout",
     "output_type": "stream",
     "text": [
      "[CV 4/5] END svc__C=1, svc__coef0=1, svc__degree=5, svc__gamma=1, svc__kernel=poly; accuracy: (test=0.620) roc_auc: (test=0.564) total time= 1.6min\n"
     ]
    },
    {
     "name": "stderr",
     "output_type": "stream",
     "text": [
      "/home/pochete/studies/2023s2/mo810/mo810-kidney-waitlist/venv/lib/python3.11/site-packages/sklearn/svm/_base.py:297: ConvergenceWarning: Solver terminated early (max_iter=10000).  Consider pre-processing your data with StandardScaler or MinMaxScaler.\n",
      "  warnings.warn(\n"
     ]
    },
    {
     "name": "stdout",
     "output_type": "stream",
     "text": [
      "[CV 5/5] END svc__C=1, svc__coef0=1, svc__degree=5, svc__gamma=1, svc__kernel=poly; accuracy: (test=0.613) roc_auc: (test=0.564) total time= 1.6min\n"
     ]
    },
    {
     "name": "stderr",
     "output_type": "stream",
     "text": [
      "/home/pochete/studies/2023s2/mo810/mo810-kidney-waitlist/venv/lib/python3.11/site-packages/sklearn/svm/_base.py:297: ConvergenceWarning: Solver terminated early (max_iter=10000).  Consider pre-processing your data with StandardScaler or MinMaxScaler.\n",
      "  warnings.warn(\n"
     ]
    },
    {
     "name": "stdout",
     "output_type": "stream",
     "text": [
      "[CV 1/5] END svc__C=1, svc__coef0=1, svc__degree=5, svc__gamma=2, svc__kernel=poly; accuracy: (test=0.617) roc_auc: (test=0.572) total time= 1.6min\n"
     ]
    },
    {
     "name": "stderr",
     "output_type": "stream",
     "text": [
      "/home/pochete/studies/2023s2/mo810/mo810-kidney-waitlist/venv/lib/python3.11/site-packages/sklearn/svm/_base.py:297: ConvergenceWarning: Solver terminated early (max_iter=10000).  Consider pre-processing your data with StandardScaler or MinMaxScaler.\n",
      "  warnings.warn(\n"
     ]
    },
    {
     "name": "stdout",
     "output_type": "stream",
     "text": [
      "[CV 2/5] END svc__C=1, svc__coef0=1, svc__degree=5, svc__gamma=2, svc__kernel=poly; accuracy: (test=0.612) roc_auc: (test=0.560) total time= 1.6min\n"
     ]
    },
    {
     "name": "stderr",
     "output_type": "stream",
     "text": [
      "/home/pochete/studies/2023s2/mo810/mo810-kidney-waitlist/venv/lib/python3.11/site-packages/sklearn/svm/_base.py:297: ConvergenceWarning: Solver terminated early (max_iter=10000).  Consider pre-processing your data with StandardScaler or MinMaxScaler.\n",
      "  warnings.warn(\n"
     ]
    },
    {
     "name": "stdout",
     "output_type": "stream",
     "text": [
      "[CV 3/5] END svc__C=1, svc__coef0=1, svc__degree=5, svc__gamma=2, svc__kernel=poly; accuracy: (test=0.622) roc_auc: (test=0.573) total time= 1.6min\n"
     ]
    },
    {
     "name": "stderr",
     "output_type": "stream",
     "text": [
      "/home/pochete/studies/2023s2/mo810/mo810-kidney-waitlist/venv/lib/python3.11/site-packages/sklearn/svm/_base.py:297: ConvergenceWarning: Solver terminated early (max_iter=10000).  Consider pre-processing your data with StandardScaler or MinMaxScaler.\n",
      "  warnings.warn(\n"
     ]
    },
    {
     "name": "stdout",
     "output_type": "stream",
     "text": [
      "[CV 4/5] END svc__C=1, svc__coef0=1, svc__degree=5, svc__gamma=2, svc__kernel=poly; accuracy: (test=0.618) roc_auc: (test=0.559) total time= 1.6min\n"
     ]
    },
    {
     "name": "stderr",
     "output_type": "stream",
     "text": [
      "/home/pochete/studies/2023s2/mo810/mo810-kidney-waitlist/venv/lib/python3.11/site-packages/sklearn/svm/_base.py:297: ConvergenceWarning: Solver terminated early (max_iter=10000).  Consider pre-processing your data with StandardScaler or MinMaxScaler.\n",
      "  warnings.warn(\n"
     ]
    },
    {
     "name": "stdout",
     "output_type": "stream",
     "text": [
      "[CV 5/5] END svc__C=1, svc__coef0=1, svc__degree=5, svc__gamma=2, svc__kernel=poly; accuracy: (test=0.605) roc_auc: (test=0.558) total time= 1.6min\n"
     ]
    },
    {
     "name": "stderr",
     "output_type": "stream",
     "text": [
      "/home/pochete/studies/2023s2/mo810/mo810-kidney-waitlist/venv/lib/python3.11/site-packages/sklearn/svm/_base.py:297: ConvergenceWarning: Solver terminated early (max_iter=10000).  Consider pre-processing your data with StandardScaler or MinMaxScaler.\n",
      "  warnings.warn(\n"
     ]
    },
    {
     "name": "stdout",
     "output_type": "stream",
     "text": [
      "[CV 1/5] END svc__C=10, svc__coef0=0, svc__degree=3, svc__gamma=scale, svc__kernel=poly; accuracy: (test=0.546) roc_auc: (test=0.563) total time= 1.6min\n"
     ]
    },
    {
     "name": "stderr",
     "output_type": "stream",
     "text": [
      "/home/pochete/studies/2023s2/mo810/mo810-kidney-waitlist/venv/lib/python3.11/site-packages/sklearn/svm/_base.py:297: ConvergenceWarning: Solver terminated early (max_iter=10000).  Consider pre-processing your data with StandardScaler or MinMaxScaler.\n",
      "  warnings.warn(\n"
     ]
    },
    {
     "name": "stdout",
     "output_type": "stream",
     "text": [
      "[CV 2/5] END svc__C=10, svc__coef0=0, svc__degree=3, svc__gamma=scale, svc__kernel=poly; accuracy: (test=0.539) roc_auc: (test=0.554) total time= 1.6min\n"
     ]
    },
    {
     "name": "stderr",
     "output_type": "stream",
     "text": [
      "/home/pochete/studies/2023s2/mo810/mo810-kidney-waitlist/venv/lib/python3.11/site-packages/sklearn/svm/_base.py:297: ConvergenceWarning: Solver terminated early (max_iter=10000).  Consider pre-processing your data with StandardScaler or MinMaxScaler.\n",
      "  warnings.warn(\n"
     ]
    },
    {
     "name": "stdout",
     "output_type": "stream",
     "text": [
      "[CV 3/5] END svc__C=10, svc__coef0=0, svc__degree=3, svc__gamma=scale, svc__kernel=poly; accuracy: (test=0.539) roc_auc: (test=0.558) total time= 1.6min\n"
     ]
    },
    {
     "name": "stderr",
     "output_type": "stream",
     "text": [
      "/home/pochete/studies/2023s2/mo810/mo810-kidney-waitlist/venv/lib/python3.11/site-packages/sklearn/svm/_base.py:297: ConvergenceWarning: Solver terminated early (max_iter=10000).  Consider pre-processing your data with StandardScaler or MinMaxScaler.\n",
      "  warnings.warn(\n"
     ]
    },
    {
     "name": "stdout",
     "output_type": "stream",
     "text": [
      "[CV 4/5] END svc__C=10, svc__coef0=0, svc__degree=3, svc__gamma=scale, svc__kernel=poly; accuracy: (test=0.541) roc_auc: (test=0.560) total time= 1.6min\n"
     ]
    },
    {
     "name": "stderr",
     "output_type": "stream",
     "text": [
      "/home/pochete/studies/2023s2/mo810/mo810-kidney-waitlist/venv/lib/python3.11/site-packages/sklearn/svm/_base.py:297: ConvergenceWarning: Solver terminated early (max_iter=10000).  Consider pre-processing your data with StandardScaler or MinMaxScaler.\n",
      "  warnings.warn(\n"
     ]
    },
    {
     "name": "stdout",
     "output_type": "stream",
     "text": [
      "[CV 5/5] END svc__C=10, svc__coef0=0, svc__degree=3, svc__gamma=scale, svc__kernel=poly; accuracy: (test=0.533) roc_auc: (test=0.554) total time= 1.6min\n"
     ]
    },
    {
     "name": "stderr",
     "output_type": "stream",
     "text": [
      "/home/pochete/studies/2023s2/mo810/mo810-kidney-waitlist/venv/lib/python3.11/site-packages/sklearn/svm/_base.py:297: ConvergenceWarning: Solver terminated early (max_iter=10000).  Consider pre-processing your data with StandardScaler or MinMaxScaler.\n",
      "  warnings.warn(\n"
     ]
    },
    {
     "name": "stdout",
     "output_type": "stream",
     "text": [
      "[CV 1/5] END svc__C=10, svc__coef0=0, svc__degree=3, svc__gamma=0.1, svc__kernel=poly; accuracy: (test=0.542) roc_auc: (test=0.531) total time= 1.2min\n"
     ]
    },
    {
     "name": "stderr",
     "output_type": "stream",
     "text": [
      "/home/pochete/studies/2023s2/mo810/mo810-kidney-waitlist/venv/lib/python3.11/site-packages/sklearn/svm/_base.py:297: ConvergenceWarning: Solver terminated early (max_iter=10000).  Consider pre-processing your data with StandardScaler or MinMaxScaler.\n",
      "  warnings.warn(\n"
     ]
    },
    {
     "name": "stdout",
     "output_type": "stream",
     "text": [
      "[CV 2/5] END svc__C=10, svc__coef0=0, svc__degree=3, svc__gamma=0.1, svc__kernel=poly; accuracy: (test=0.541) roc_auc: (test=0.530) total time= 1.3min\n"
     ]
    },
    {
     "name": "stderr",
     "output_type": "stream",
     "text": [
      "/home/pochete/studies/2023s2/mo810/mo810-kidney-waitlist/venv/lib/python3.11/site-packages/sklearn/svm/_base.py:297: ConvergenceWarning: Solver terminated early (max_iter=10000).  Consider pre-processing your data with StandardScaler or MinMaxScaler.\n",
      "  warnings.warn(\n"
     ]
    },
    {
     "name": "stdout",
     "output_type": "stream",
     "text": [
      "[CV 3/5] END svc__C=10, svc__coef0=0, svc__degree=3, svc__gamma=0.1, svc__kernel=poly; accuracy: (test=0.551) roc_auc: (test=0.535) total time= 1.2min\n"
     ]
    },
    {
     "name": "stderr",
     "output_type": "stream",
     "text": [
      "/home/pochete/studies/2023s2/mo810/mo810-kidney-waitlist/venv/lib/python3.11/site-packages/sklearn/svm/_base.py:297: ConvergenceWarning: Solver terminated early (max_iter=10000).  Consider pre-processing your data with StandardScaler or MinMaxScaler.\n",
      "  warnings.warn(\n"
     ]
    },
    {
     "name": "stdout",
     "output_type": "stream",
     "text": [
      "[CV 4/5] END svc__C=10, svc__coef0=0, svc__degree=3, svc__gamma=0.1, svc__kernel=poly; accuracy: (test=0.551) roc_auc: (test=0.535) total time= 1.2min\n"
     ]
    },
    {
     "name": "stderr",
     "output_type": "stream",
     "text": [
      "/home/pochete/studies/2023s2/mo810/mo810-kidney-waitlist/venv/lib/python3.11/site-packages/sklearn/svm/_base.py:297: ConvergenceWarning: Solver terminated early (max_iter=10000).  Consider pre-processing your data with StandardScaler or MinMaxScaler.\n",
      "  warnings.warn(\n"
     ]
    },
    {
     "name": "stdout",
     "output_type": "stream",
     "text": [
      "[CV 5/5] END svc__C=10, svc__coef0=0, svc__degree=3, svc__gamma=0.1, svc__kernel=poly; accuracy: (test=0.548) roc_auc: (test=0.531) total time= 1.3min\n"
     ]
    },
    {
     "name": "stderr",
     "output_type": "stream",
     "text": [
      "/home/pochete/studies/2023s2/mo810/mo810-kidney-waitlist/venv/lib/python3.11/site-packages/sklearn/svm/_base.py:297: ConvergenceWarning: Solver terminated early (max_iter=10000).  Consider pre-processing your data with StandardScaler or MinMaxScaler.\n",
      "  warnings.warn(\n"
     ]
    },
    {
     "name": "stdout",
     "output_type": "stream",
     "text": [
      "[CV 1/5] END svc__C=10, svc__coef0=0, svc__degree=3, svc__gamma=1, svc__kernel=poly; accuracy: (test=0.552) roc_auc: (test=0.536) total time= 1.2min\n"
     ]
    },
    {
     "name": "stderr",
     "output_type": "stream",
     "text": [
      "/home/pochete/studies/2023s2/mo810/mo810-kidney-waitlist/venv/lib/python3.11/site-packages/sklearn/svm/_base.py:297: ConvergenceWarning: Solver terminated early (max_iter=10000).  Consider pre-processing your data with StandardScaler or MinMaxScaler.\n",
      "  warnings.warn(\n"
     ]
    },
    {
     "name": "stdout",
     "output_type": "stream",
     "text": [
      "[CV 2/5] END svc__C=10, svc__coef0=0, svc__degree=3, svc__gamma=1, svc__kernel=poly; accuracy: (test=0.541) roc_auc: (test=0.530) total time= 1.2min\n"
     ]
    },
    {
     "name": "stderr",
     "output_type": "stream",
     "text": [
      "/home/pochete/studies/2023s2/mo810/mo810-kidney-waitlist/venv/lib/python3.11/site-packages/sklearn/svm/_base.py:297: ConvergenceWarning: Solver terminated early (max_iter=10000).  Consider pre-processing your data with StandardScaler or MinMaxScaler.\n",
      "  warnings.warn(\n"
     ]
    },
    {
     "name": "stdout",
     "output_type": "stream",
     "text": [
      "[CV 3/5] END svc__C=10, svc__coef0=0, svc__degree=3, svc__gamma=1, svc__kernel=poly; accuracy: (test=0.551) roc_auc: (test=0.535) total time= 1.2min\n"
     ]
    },
    {
     "name": "stderr",
     "output_type": "stream",
     "text": [
      "/home/pochete/studies/2023s2/mo810/mo810-kidney-waitlist/venv/lib/python3.11/site-packages/sklearn/svm/_base.py:297: ConvergenceWarning: Solver terminated early (max_iter=10000).  Consider pre-processing your data with StandardScaler or MinMaxScaler.\n",
      "  warnings.warn(\n"
     ]
    },
    {
     "name": "stdout",
     "output_type": "stream",
     "text": [
      "[CV 4/5] END svc__C=10, svc__coef0=0, svc__degree=3, svc__gamma=1, svc__kernel=poly; accuracy: (test=0.542) roc_auc: (test=0.526) total time= 1.2min\n"
     ]
    },
    {
     "name": "stderr",
     "output_type": "stream",
     "text": [
      "/home/pochete/studies/2023s2/mo810/mo810-kidney-waitlist/venv/lib/python3.11/site-packages/sklearn/svm/_base.py:297: ConvergenceWarning: Solver terminated early (max_iter=10000).  Consider pre-processing your data with StandardScaler or MinMaxScaler.\n",
      "  warnings.warn(\n"
     ]
    },
    {
     "name": "stdout",
     "output_type": "stream",
     "text": [
      "[CV 5/5] END svc__C=10, svc__coef0=0, svc__degree=3, svc__gamma=1, svc__kernel=poly; accuracy: (test=0.548) roc_auc: (test=0.531) total time= 1.3min\n"
     ]
    },
    {
     "name": "stderr",
     "output_type": "stream",
     "text": [
      "/home/pochete/studies/2023s2/mo810/mo810-kidney-waitlist/venv/lib/python3.11/site-packages/sklearn/svm/_base.py:297: ConvergenceWarning: Solver terminated early (max_iter=10000).  Consider pre-processing your data with StandardScaler or MinMaxScaler.\n",
      "  warnings.warn(\n"
     ]
    },
    {
     "name": "stdout",
     "output_type": "stream",
     "text": [
      "[CV 1/5] END svc__C=10, svc__coef0=0, svc__degree=3, svc__gamma=2, svc__kernel=poly; accuracy: (test=0.552) roc_auc: (test=0.536) total time= 1.3min\n"
     ]
    },
    {
     "name": "stderr",
     "output_type": "stream",
     "text": [
      "/home/pochete/studies/2023s2/mo810/mo810-kidney-waitlist/venv/lib/python3.11/site-packages/sklearn/svm/_base.py:297: ConvergenceWarning: Solver terminated early (max_iter=10000).  Consider pre-processing your data with StandardScaler or MinMaxScaler.\n",
      "  warnings.warn(\n"
     ]
    },
    {
     "name": "stdout",
     "output_type": "stream",
     "text": [
      "[CV 2/5] END svc__C=10, svc__coef0=0, svc__degree=3, svc__gamma=2, svc__kernel=poly; accuracy: (test=0.541) roc_auc: (test=0.530) total time= 1.2min\n"
     ]
    },
    {
     "name": "stderr",
     "output_type": "stream",
     "text": [
      "/home/pochete/studies/2023s2/mo810/mo810-kidney-waitlist/venv/lib/python3.11/site-packages/sklearn/svm/_base.py:297: ConvergenceWarning: Solver terminated early (max_iter=10000).  Consider pre-processing your data with StandardScaler or MinMaxScaler.\n",
      "  warnings.warn(\n"
     ]
    },
    {
     "name": "stdout",
     "output_type": "stream",
     "text": [
      "[CV 3/5] END svc__C=10, svc__coef0=0, svc__degree=3, svc__gamma=2, svc__kernel=poly; accuracy: (test=0.551) roc_auc: (test=0.535) total time= 1.3min\n"
     ]
    },
    {
     "name": "stderr",
     "output_type": "stream",
     "text": [
      "/home/pochete/studies/2023s2/mo810/mo810-kidney-waitlist/venv/lib/python3.11/site-packages/sklearn/svm/_base.py:297: ConvergenceWarning: Solver terminated early (max_iter=10000).  Consider pre-processing your data with StandardScaler or MinMaxScaler.\n",
      "  warnings.warn(\n"
     ]
    },
    {
     "name": "stdout",
     "output_type": "stream",
     "text": [
      "[CV 4/5] END svc__C=10, svc__coef0=0, svc__degree=3, svc__gamma=2, svc__kernel=poly; accuracy: (test=0.542) roc_auc: (test=0.526) total time= 1.3min\n"
     ]
    },
    {
     "name": "stderr",
     "output_type": "stream",
     "text": [
      "/home/pochete/studies/2023s2/mo810/mo810-kidney-waitlist/venv/lib/python3.11/site-packages/sklearn/svm/_base.py:297: ConvergenceWarning: Solver terminated early (max_iter=10000).  Consider pre-processing your data with StandardScaler or MinMaxScaler.\n",
      "  warnings.warn(\n"
     ]
    },
    {
     "name": "stdout",
     "output_type": "stream",
     "text": [
      "[CV 5/5] END svc__C=10, svc__coef0=0, svc__degree=3, svc__gamma=2, svc__kernel=poly; accuracy: (test=0.548) roc_auc: (test=0.531) total time= 1.3min\n"
     ]
    },
    {
     "name": "stderr",
     "output_type": "stream",
     "text": [
      "/home/pochete/studies/2023s2/mo810/mo810-kidney-waitlist/venv/lib/python3.11/site-packages/sklearn/svm/_base.py:297: ConvergenceWarning: Solver terminated early (max_iter=10000).  Consider pre-processing your data with StandardScaler or MinMaxScaler.\n",
      "  warnings.warn(\n"
     ]
    },
    {
     "name": "stdout",
     "output_type": "stream",
     "text": [
      "[CV 1/5] END svc__C=10, svc__coef0=0, svc__degree=5, svc__gamma=scale, svc__kernel=poly; accuracy: (test=0.608) roc_auc: (test=0.593) total time= 1.9min\n"
     ]
    },
    {
     "name": "stderr",
     "output_type": "stream",
     "text": [
      "/home/pochete/studies/2023s2/mo810/mo810-kidney-waitlist/venv/lib/python3.11/site-packages/sklearn/svm/_base.py:297: ConvergenceWarning: Solver terminated early (max_iter=10000).  Consider pre-processing your data with StandardScaler or MinMaxScaler.\n",
      "  warnings.warn(\n"
     ]
    },
    {
     "name": "stdout",
     "output_type": "stream",
     "text": [
      "[CV 2/5] END svc__C=10, svc__coef0=0, svc__degree=5, svc__gamma=scale, svc__kernel=poly; accuracy: (test=0.607) roc_auc: (test=0.585) total time= 1.8min\n"
     ]
    },
    {
     "name": "stderr",
     "output_type": "stream",
     "text": [
      "/home/pochete/studies/2023s2/mo810/mo810-kidney-waitlist/venv/lib/python3.11/site-packages/sklearn/svm/_base.py:297: ConvergenceWarning: Solver terminated early (max_iter=10000).  Consider pre-processing your data with StandardScaler or MinMaxScaler.\n",
      "  warnings.warn(\n"
     ]
    },
    {
     "name": "stdout",
     "output_type": "stream",
     "text": [
      "[CV 3/5] END svc__C=10, svc__coef0=0, svc__degree=5, svc__gamma=scale, svc__kernel=poly; accuracy: (test=0.613) roc_auc: (test=0.592) total time= 1.7min\n"
     ]
    },
    {
     "name": "stderr",
     "output_type": "stream",
     "text": [
      "/home/pochete/studies/2023s2/mo810/mo810-kidney-waitlist/venv/lib/python3.11/site-packages/sklearn/svm/_base.py:297: ConvergenceWarning: Solver terminated early (max_iter=10000).  Consider pre-processing your data with StandardScaler or MinMaxScaler.\n",
      "  warnings.warn(\n"
     ]
    },
    {
     "name": "stdout",
     "output_type": "stream",
     "text": [
      "[CV 4/5] END svc__C=10, svc__coef0=0, svc__degree=5, svc__gamma=scale, svc__kernel=poly; accuracy: (test=0.609) roc_auc: (test=0.588) total time= 1.7min\n"
     ]
    },
    {
     "name": "stderr",
     "output_type": "stream",
     "text": [
      "/home/pochete/studies/2023s2/mo810/mo810-kidney-waitlist/venv/lib/python3.11/site-packages/sklearn/svm/_base.py:297: ConvergenceWarning: Solver terminated early (max_iter=10000).  Consider pre-processing your data with StandardScaler or MinMaxScaler.\n",
      "  warnings.warn(\n"
     ]
    },
    {
     "name": "stdout",
     "output_type": "stream",
     "text": [
      "[CV 5/5] END svc__C=10, svc__coef0=0, svc__degree=5, svc__gamma=scale, svc__kernel=poly; accuracy: (test=0.608) roc_auc: (test=0.590) total time= 1.7min\n"
     ]
    },
    {
     "name": "stderr",
     "output_type": "stream",
     "text": [
      "/home/pochete/studies/2023s2/mo810/mo810-kidney-waitlist/venv/lib/python3.11/site-packages/sklearn/svm/_base.py:297: ConvergenceWarning: Solver terminated early (max_iter=10000).  Consider pre-processing your data with StandardScaler or MinMaxScaler.\n",
      "  warnings.warn(\n"
     ]
    },
    {
     "name": "stdout",
     "output_type": "stream",
     "text": [
      "[CV 1/5] END svc__C=10, svc__coef0=0, svc__degree=5, svc__gamma=0.1, svc__kernel=poly; accuracy: (test=0.611) roc_auc: (test=0.567) total time= 1.4min\n"
     ]
    },
    {
     "name": "stderr",
     "output_type": "stream",
     "text": [
      "/home/pochete/studies/2023s2/mo810/mo810-kidney-waitlist/venv/lib/python3.11/site-packages/sklearn/svm/_base.py:297: ConvergenceWarning: Solver terminated early (max_iter=10000).  Consider pre-processing your data with StandardScaler or MinMaxScaler.\n",
      "  warnings.warn(\n"
     ]
    },
    {
     "name": "stdout",
     "output_type": "stream",
     "text": [
      "[CV 2/5] END svc__C=10, svc__coef0=0, svc__degree=5, svc__gamma=0.1, svc__kernel=poly; accuracy: (test=0.607) roc_auc: (test=0.558) total time= 1.4min\n"
     ]
    },
    {
     "name": "stderr",
     "output_type": "stream",
     "text": [
      "/home/pochete/studies/2023s2/mo810/mo810-kidney-waitlist/venv/lib/python3.11/site-packages/sklearn/svm/_base.py:297: ConvergenceWarning: Solver terminated early (max_iter=10000).  Consider pre-processing your data with StandardScaler or MinMaxScaler.\n",
      "  warnings.warn(\n"
     ]
    },
    {
     "name": "stdout",
     "output_type": "stream",
     "text": [
      "[CV 3/5] END svc__C=10, svc__coef0=0, svc__degree=5, svc__gamma=0.1, svc__kernel=poly; accuracy: (test=0.614) roc_auc: (test=0.567) total time= 1.4min\n"
     ]
    },
    {
     "name": "stderr",
     "output_type": "stream",
     "text": [
      "/home/pochete/studies/2023s2/mo810/mo810-kidney-waitlist/venv/lib/python3.11/site-packages/sklearn/svm/_base.py:297: ConvergenceWarning: Solver terminated early (max_iter=10000).  Consider pre-processing your data with StandardScaler or MinMaxScaler.\n",
      "  warnings.warn(\n"
     ]
    },
    {
     "name": "stdout",
     "output_type": "stream",
     "text": [
      "[CV 4/5] END svc__C=10, svc__coef0=0, svc__degree=5, svc__gamma=0.1, svc__kernel=poly; accuracy: (test=0.609) roc_auc: (test=0.554) total time= 1.4min\n"
     ]
    },
    {
     "name": "stderr",
     "output_type": "stream",
     "text": [
      "/home/pochete/studies/2023s2/mo810/mo810-kidney-waitlist/venv/lib/python3.11/site-packages/sklearn/svm/_base.py:297: ConvergenceWarning: Solver terminated early (max_iter=10000).  Consider pre-processing your data with StandardScaler or MinMaxScaler.\n",
      "  warnings.warn(\n"
     ]
    },
    {
     "name": "stdout",
     "output_type": "stream",
     "text": [
      "[CV 5/5] END svc__C=10, svc__coef0=0, svc__degree=5, svc__gamma=0.1, svc__kernel=poly; accuracy: (test=0.611) roc_auc: (test=0.561) total time= 1.4min\n"
     ]
    },
    {
     "name": "stderr",
     "output_type": "stream",
     "text": [
      "/home/pochete/studies/2023s2/mo810/mo810-kidney-waitlist/venv/lib/python3.11/site-packages/sklearn/svm/_base.py:297: ConvergenceWarning: Solver terminated early (max_iter=10000).  Consider pre-processing your data with StandardScaler or MinMaxScaler.\n",
      "  warnings.warn(\n"
     ]
    },
    {
     "name": "stdout",
     "output_type": "stream",
     "text": [
      "[CV 1/5] END svc__C=10, svc__coef0=0, svc__degree=5, svc__gamma=1, svc__kernel=poly; accuracy: (test=0.611) roc_auc: (test=0.567) total time= 1.4min\n"
     ]
    },
    {
     "name": "stderr",
     "output_type": "stream",
     "text": [
      "/home/pochete/studies/2023s2/mo810/mo810-kidney-waitlist/venv/lib/python3.11/site-packages/sklearn/svm/_base.py:297: ConvergenceWarning: Solver terminated early (max_iter=10000).  Consider pre-processing your data with StandardScaler or MinMaxScaler.\n",
      "  warnings.warn(\n"
     ]
    },
    {
     "name": "stdout",
     "output_type": "stream",
     "text": [
      "[CV 2/5] END svc__C=10, svc__coef0=0, svc__degree=5, svc__gamma=1, svc__kernel=poly; accuracy: (test=0.605) roc_auc: (test=0.559) total time= 1.5min\n"
     ]
    },
    {
     "name": "stderr",
     "output_type": "stream",
     "text": [
      "/home/pochete/studies/2023s2/mo810/mo810-kidney-waitlist/venv/lib/python3.11/site-packages/sklearn/svm/_base.py:297: ConvergenceWarning: Solver terminated early (max_iter=10000).  Consider pre-processing your data with StandardScaler or MinMaxScaler.\n",
      "  warnings.warn(\n"
     ]
    },
    {
     "name": "stdout",
     "output_type": "stream",
     "text": [
      "[CV 3/5] END svc__C=10, svc__coef0=0, svc__degree=5, svc__gamma=1, svc__kernel=poly; accuracy: (test=0.612) roc_auc: (test=0.567) total time= 1.4min\n"
     ]
    },
    {
     "name": "stderr",
     "output_type": "stream",
     "text": [
      "/home/pochete/studies/2023s2/mo810/mo810-kidney-waitlist/venv/lib/python3.11/site-packages/sklearn/svm/_base.py:297: ConvergenceWarning: Solver terminated early (max_iter=10000).  Consider pre-processing your data with StandardScaler or MinMaxScaler.\n",
      "  warnings.warn(\n"
     ]
    },
    {
     "name": "stdout",
     "output_type": "stream",
     "text": [
      "[CV 4/5] END svc__C=10, svc__coef0=0, svc__degree=5, svc__gamma=1, svc__kernel=poly; accuracy: (test=0.610) roc_auc: (test=0.554) total time= 1.5min\n"
     ]
    },
    {
     "name": "stderr",
     "output_type": "stream",
     "text": [
      "/home/pochete/studies/2023s2/mo810/mo810-kidney-waitlist/venv/lib/python3.11/site-packages/sklearn/svm/_base.py:297: ConvergenceWarning: Solver terminated early (max_iter=10000).  Consider pre-processing your data with StandardScaler or MinMaxScaler.\n",
      "  warnings.warn(\n"
     ]
    },
    {
     "name": "stdout",
     "output_type": "stream",
     "text": [
      "[CV 5/5] END svc__C=10, svc__coef0=0, svc__degree=5, svc__gamma=1, svc__kernel=poly; accuracy: (test=0.611) roc_auc: (test=0.563) total time= 1.5min\n"
     ]
    },
    {
     "name": "stderr",
     "output_type": "stream",
     "text": [
      "/home/pochete/studies/2023s2/mo810/mo810-kidney-waitlist/venv/lib/python3.11/site-packages/sklearn/svm/_base.py:297: ConvergenceWarning: Solver terminated early (max_iter=10000).  Consider pre-processing your data with StandardScaler or MinMaxScaler.\n",
      "  warnings.warn(\n"
     ]
    },
    {
     "name": "stdout",
     "output_type": "stream",
     "text": [
      "[CV 1/5] END svc__C=10, svc__coef0=0, svc__degree=5, svc__gamma=2, svc__kernel=poly; accuracy: (test=0.611) roc_auc: (test=0.567) total time= 1.5min\n"
     ]
    },
    {
     "name": "stderr",
     "output_type": "stream",
     "text": [
      "/home/pochete/studies/2023s2/mo810/mo810-kidney-waitlist/venv/lib/python3.11/site-packages/sklearn/svm/_base.py:297: ConvergenceWarning: Solver terminated early (max_iter=10000).  Consider pre-processing your data with StandardScaler or MinMaxScaler.\n",
      "  warnings.warn(\n"
     ]
    },
    {
     "name": "stdout",
     "output_type": "stream",
     "text": [
      "[CV 2/5] END svc__C=10, svc__coef0=0, svc__degree=5, svc__gamma=2, svc__kernel=poly; accuracy: (test=0.605) roc_auc: (test=0.559) total time= 1.5min\n"
     ]
    },
    {
     "name": "stderr",
     "output_type": "stream",
     "text": [
      "/home/pochete/studies/2023s2/mo810/mo810-kidney-waitlist/venv/lib/python3.11/site-packages/sklearn/svm/_base.py:297: ConvergenceWarning: Solver terminated early (max_iter=10000).  Consider pre-processing your data with StandardScaler or MinMaxScaler.\n",
      "  warnings.warn(\n"
     ]
    },
    {
     "name": "stdout",
     "output_type": "stream",
     "text": [
      "[CV 3/5] END svc__C=10, svc__coef0=0, svc__degree=5, svc__gamma=2, svc__kernel=poly; accuracy: (test=0.612) roc_auc: (test=0.567) total time= 1.4min\n"
     ]
    },
    {
     "name": "stderr",
     "output_type": "stream",
     "text": [
      "/home/pochete/studies/2023s2/mo810/mo810-kidney-waitlist/venv/lib/python3.11/site-packages/sklearn/svm/_base.py:297: ConvergenceWarning: Solver terminated early (max_iter=10000).  Consider pre-processing your data with StandardScaler or MinMaxScaler.\n",
      "  warnings.warn(\n"
     ]
    },
    {
     "name": "stdout",
     "output_type": "stream",
     "text": [
      "[CV 4/5] END svc__C=10, svc__coef0=0, svc__degree=5, svc__gamma=2, svc__kernel=poly; accuracy: (test=0.610) roc_auc: (test=0.554) total time= 1.5min\n"
     ]
    },
    {
     "name": "stderr",
     "output_type": "stream",
     "text": [
      "/home/pochete/studies/2023s2/mo810/mo810-kidney-waitlist/venv/lib/python3.11/site-packages/sklearn/svm/_base.py:297: ConvergenceWarning: Solver terminated early (max_iter=10000).  Consider pre-processing your data with StandardScaler or MinMaxScaler.\n",
      "  warnings.warn(\n"
     ]
    },
    {
     "name": "stdout",
     "output_type": "stream",
     "text": [
      "[CV 5/5] END svc__C=10, svc__coef0=0, svc__degree=5, svc__gamma=2, svc__kernel=poly; accuracy: (test=0.611) roc_auc: (test=0.563) total time= 1.5min\n"
     ]
    },
    {
     "name": "stderr",
     "output_type": "stream",
     "text": [
      "/home/pochete/studies/2023s2/mo810/mo810-kidney-waitlist/venv/lib/python3.11/site-packages/sklearn/svm/_base.py:297: ConvergenceWarning: Solver terminated early (max_iter=10000).  Consider pre-processing your data with StandardScaler or MinMaxScaler.\n",
      "  warnings.warn(\n"
     ]
    },
    {
     "name": "stdout",
     "output_type": "stream",
     "text": [
      "[CV 1/5] END svc__C=10, svc__coef0=-1, svc__degree=3, svc__gamma=scale, svc__kernel=poly; accuracy: (test=0.583) roc_auc: (test=0.509) total time= 2.1min\n"
     ]
    },
    {
     "name": "stderr",
     "output_type": "stream",
     "text": [
      "/home/pochete/studies/2023s2/mo810/mo810-kidney-waitlist/venv/lib/python3.11/site-packages/sklearn/svm/_base.py:297: ConvergenceWarning: Solver terminated early (max_iter=10000).  Consider pre-processing your data with StandardScaler or MinMaxScaler.\n",
      "  warnings.warn(\n"
     ]
    },
    {
     "name": "stdout",
     "output_type": "stream",
     "text": [
      "[CV 2/5] END svc__C=10, svc__coef0=-1, svc__degree=3, svc__gamma=scale, svc__kernel=poly; accuracy: (test=0.503) roc_auc: (test=0.506) total time= 2.1min\n"
     ]
    },
    {
     "name": "stderr",
     "output_type": "stream",
     "text": [
      "/home/pochete/studies/2023s2/mo810/mo810-kidney-waitlist/venv/lib/python3.11/site-packages/sklearn/svm/_base.py:297: ConvergenceWarning: Solver terminated early (max_iter=10000).  Consider pre-processing your data with StandardScaler or MinMaxScaler.\n",
      "  warnings.warn(\n"
     ]
    },
    {
     "name": "stdout",
     "output_type": "stream",
     "text": [
      "[CV 3/5] END svc__C=10, svc__coef0=-1, svc__degree=3, svc__gamma=scale, svc__kernel=poly; accuracy: (test=0.570) roc_auc: (test=0.497) total time= 2.0min\n"
     ]
    },
    {
     "name": "stderr",
     "output_type": "stream",
     "text": [
      "/home/pochete/studies/2023s2/mo810/mo810-kidney-waitlist/venv/lib/python3.11/site-packages/sklearn/svm/_base.py:297: ConvergenceWarning: Solver terminated early (max_iter=10000).  Consider pre-processing your data with StandardScaler or MinMaxScaler.\n",
      "  warnings.warn(\n"
     ]
    },
    {
     "name": "stdout",
     "output_type": "stream",
     "text": [
      "[CV 4/5] END svc__C=10, svc__coef0=-1, svc__degree=3, svc__gamma=scale, svc__kernel=poly; accuracy: (test=0.513) roc_auc: (test=0.508) total time= 2.1min\n"
     ]
    },
    {
     "name": "stderr",
     "output_type": "stream",
     "text": [
      "/home/pochete/studies/2023s2/mo810/mo810-kidney-waitlist/venv/lib/python3.11/site-packages/sklearn/svm/_base.py:297: ConvergenceWarning: Solver terminated early (max_iter=10000).  Consider pre-processing your data with StandardScaler or MinMaxScaler.\n",
      "  warnings.warn(\n"
     ]
    },
    {
     "name": "stdout",
     "output_type": "stream",
     "text": [
      "[CV 5/5] END svc__C=10, svc__coef0=-1, svc__degree=3, svc__gamma=scale, svc__kernel=poly; accuracy: (test=0.597) roc_auc: (test=0.521) total time= 2.0min\n"
     ]
    },
    {
     "name": "stderr",
     "output_type": "stream",
     "text": [
      "/home/pochete/studies/2023s2/mo810/mo810-kidney-waitlist/venv/lib/python3.11/site-packages/sklearn/svm/_base.py:297: ConvergenceWarning: Solver terminated early (max_iter=10000).  Consider pre-processing your data with StandardScaler or MinMaxScaler.\n",
      "  warnings.warn(\n"
     ]
    },
    {
     "name": "stdout",
     "output_type": "stream",
     "text": [
      "[CV 1/5] END svc__C=10, svc__coef0=-1, svc__degree=3, svc__gamma=0.1, svc__kernel=poly; accuracy: (test=0.571) roc_auc: (test=0.512) total time= 2.0min\n"
     ]
    },
    {
     "name": "stderr",
     "output_type": "stream",
     "text": [
      "/home/pochete/studies/2023s2/mo810/mo810-kidney-waitlist/venv/lib/python3.11/site-packages/sklearn/svm/_base.py:297: ConvergenceWarning: Solver terminated early (max_iter=10000).  Consider pre-processing your data with StandardScaler or MinMaxScaler.\n",
      "  warnings.warn(\n"
     ]
    },
    {
     "name": "stdout",
     "output_type": "stream",
     "text": [
      "[CV 2/5] END svc__C=10, svc__coef0=-1, svc__degree=3, svc__gamma=0.1, svc__kernel=poly; accuracy: (test=0.560) roc_auc: (test=0.513) total time= 1.9min\n"
     ]
    },
    {
     "name": "stderr",
     "output_type": "stream",
     "text": [
      "/home/pochete/studies/2023s2/mo810/mo810-kidney-waitlist/venv/lib/python3.11/site-packages/sklearn/svm/_base.py:297: ConvergenceWarning: Solver terminated early (max_iter=10000).  Consider pre-processing your data with StandardScaler or MinMaxScaler.\n",
      "  warnings.warn(\n"
     ]
    },
    {
     "name": "stdout",
     "output_type": "stream",
     "text": [
      "[CV 3/5] END svc__C=10, svc__coef0=-1, svc__degree=3, svc__gamma=0.1, svc__kernel=poly; accuracy: (test=0.565) roc_auc: (test=0.498) total time= 2.0min\n"
     ]
    },
    {
     "name": "stderr",
     "output_type": "stream",
     "text": [
      "/home/pochete/studies/2023s2/mo810/mo810-kidney-waitlist/venv/lib/python3.11/site-packages/sklearn/svm/_base.py:297: ConvergenceWarning: Solver terminated early (max_iter=10000).  Consider pre-processing your data with StandardScaler or MinMaxScaler.\n",
      "  warnings.warn(\n"
     ]
    },
    {
     "name": "stdout",
     "output_type": "stream",
     "text": [
      "[CV 4/5] END svc__C=10, svc__coef0=-1, svc__degree=3, svc__gamma=0.1, svc__kernel=poly; accuracy: (test=0.583) roc_auc: (test=0.505) total time= 1.9min\n"
     ]
    },
    {
     "name": "stderr",
     "output_type": "stream",
     "text": [
      "/home/pochete/studies/2023s2/mo810/mo810-kidney-waitlist/venv/lib/python3.11/site-packages/sklearn/svm/_base.py:297: ConvergenceWarning: Solver terminated early (max_iter=10000).  Consider pre-processing your data with StandardScaler or MinMaxScaler.\n",
      "  warnings.warn(\n"
     ]
    },
    {
     "name": "stdout",
     "output_type": "stream",
     "text": [
      "[CV 5/5] END svc__C=10, svc__coef0=-1, svc__degree=3, svc__gamma=0.1, svc__kernel=poly; accuracy: (test=0.566) roc_auc: (test=0.515) total time= 1.9min\n"
     ]
    },
    {
     "name": "stderr",
     "output_type": "stream",
     "text": [
      "/home/pochete/studies/2023s2/mo810/mo810-kidney-waitlist/venv/lib/python3.11/site-packages/sklearn/svm/_base.py:297: ConvergenceWarning: Solver terminated early (max_iter=10000).  Consider pre-processing your data with StandardScaler or MinMaxScaler.\n",
      "  warnings.warn(\n"
     ]
    },
    {
     "name": "stdout",
     "output_type": "stream",
     "text": [
      "[CV 1/5] END svc__C=10, svc__coef0=-1, svc__degree=3, svc__gamma=1, svc__kernel=poly; accuracy: (test=0.491) roc_auc: (test=0.524) total time=  28.0s\n"
     ]
    },
    {
     "name": "stderr",
     "output_type": "stream",
     "text": [
      "/home/pochete/studies/2023s2/mo810/mo810-kidney-waitlist/venv/lib/python3.11/site-packages/sklearn/svm/_base.py:297: ConvergenceWarning: Solver terminated early (max_iter=10000).  Consider pre-processing your data with StandardScaler or MinMaxScaler.\n",
      "  warnings.warn(\n"
     ]
    },
    {
     "name": "stdout",
     "output_type": "stream",
     "text": [
      "[CV 2/5] END svc__C=10, svc__coef0=-1, svc__degree=3, svc__gamma=1, svc__kernel=poly; accuracy: (test=0.491) roc_auc: (test=0.526) total time=  30.6s\n"
     ]
    },
    {
     "name": "stderr",
     "output_type": "stream",
     "text": [
      "/home/pochete/studies/2023s2/mo810/mo810-kidney-waitlist/venv/lib/python3.11/site-packages/sklearn/svm/_base.py:297: ConvergenceWarning: Solver terminated early (max_iter=10000).  Consider pre-processing your data with StandardScaler or MinMaxScaler.\n",
      "  warnings.warn(\n"
     ]
    },
    {
     "name": "stdout",
     "output_type": "stream",
     "text": [
      "[CV 3/5] END svc__C=10, svc__coef0=-1, svc__degree=3, svc__gamma=1, svc__kernel=poly; accuracy: (test=0.482) roc_auc: (test=0.507) total time=  27.1s\n"
     ]
    },
    {
     "name": "stderr",
     "output_type": "stream",
     "text": [
      "/home/pochete/studies/2023s2/mo810/mo810-kidney-waitlist/venv/lib/python3.11/site-packages/sklearn/svm/_base.py:297: ConvergenceWarning: Solver terminated early (max_iter=10000).  Consider pre-processing your data with StandardScaler or MinMaxScaler.\n",
      "  warnings.warn(\n"
     ]
    },
    {
     "name": "stdout",
     "output_type": "stream",
     "text": [
      "[CV 4/5] END svc__C=10, svc__coef0=-1, svc__degree=3, svc__gamma=1, svc__kernel=poly; accuracy: (test=0.491) roc_auc: (test=0.521) total time=  30.4s\n"
     ]
    },
    {
     "name": "stderr",
     "output_type": "stream",
     "text": [
      "/home/pochete/studies/2023s2/mo810/mo810-kidney-waitlist/venv/lib/python3.11/site-packages/sklearn/svm/_base.py:297: ConvergenceWarning: Solver terminated early (max_iter=10000).  Consider pre-processing your data with StandardScaler or MinMaxScaler.\n",
      "  warnings.warn(\n"
     ]
    },
    {
     "name": "stdout",
     "output_type": "stream",
     "text": [
      "[CV 5/5] END svc__C=10, svc__coef0=-1, svc__degree=3, svc__gamma=1, svc__kernel=poly; accuracy: (test=0.488) roc_auc: (test=0.518) total time=  30.2s\n"
     ]
    },
    {
     "name": "stderr",
     "output_type": "stream",
     "text": [
      "/home/pochete/studies/2023s2/mo810/mo810-kidney-waitlist/venv/lib/python3.11/site-packages/sklearn/svm/_base.py:297: ConvergenceWarning: Solver terminated early (max_iter=10000).  Consider pre-processing your data with StandardScaler or MinMaxScaler.\n",
      "  warnings.warn(\n"
     ]
    },
    {
     "name": "stdout",
     "output_type": "stream",
     "text": [
      "[CV 1/5] END svc__C=10, svc__coef0=-1, svc__degree=3, svc__gamma=2, svc__kernel=poly; accuracy: (test=0.496) roc_auc: (test=0.541) total time= 1.0min\n"
     ]
    },
    {
     "name": "stderr",
     "output_type": "stream",
     "text": [
      "/home/pochete/studies/2023s2/mo810/mo810-kidney-waitlist/venv/lib/python3.11/site-packages/sklearn/svm/_base.py:297: ConvergenceWarning: Solver terminated early (max_iter=10000).  Consider pre-processing your data with StandardScaler or MinMaxScaler.\n",
      "  warnings.warn(\n"
     ]
    },
    {
     "name": "stdout",
     "output_type": "stream",
     "text": [
      "[CV 2/5] END svc__C=10, svc__coef0=-1, svc__degree=3, svc__gamma=2, svc__kernel=poly; accuracy: (test=0.501) roc_auc: (test=0.543) total time= 1.0min\n"
     ]
    },
    {
     "name": "stderr",
     "output_type": "stream",
     "text": [
      "/home/pochete/studies/2023s2/mo810/mo810-kidney-waitlist/venv/lib/python3.11/site-packages/sklearn/svm/_base.py:297: ConvergenceWarning: Solver terminated early (max_iter=10000).  Consider pre-processing your data with StandardScaler or MinMaxScaler.\n",
      "  warnings.warn(\n"
     ]
    },
    {
     "name": "stdout",
     "output_type": "stream",
     "text": [
      "[CV 3/5] END svc__C=10, svc__coef0=-1, svc__degree=3, svc__gamma=2, svc__kernel=poly; accuracy: (test=0.508) roc_auc: (test=0.535) total time= 1.0min\n"
     ]
    },
    {
     "name": "stderr",
     "output_type": "stream",
     "text": [
      "/home/pochete/studies/2023s2/mo810/mo810-kidney-waitlist/venv/lib/python3.11/site-packages/sklearn/svm/_base.py:297: ConvergenceWarning: Solver terminated early (max_iter=10000).  Consider pre-processing your data with StandardScaler or MinMaxScaler.\n",
      "  warnings.warn(\n"
     ]
    },
    {
     "name": "stdout",
     "output_type": "stream",
     "text": [
      "[CV 4/5] END svc__C=10, svc__coef0=-1, svc__degree=3, svc__gamma=2, svc__kernel=poly; accuracy: (test=0.501) roc_auc: (test=0.539) total time= 1.0min\n"
     ]
    },
    {
     "name": "stderr",
     "output_type": "stream",
     "text": [
      "/home/pochete/studies/2023s2/mo810/mo810-kidney-waitlist/venv/lib/python3.11/site-packages/sklearn/svm/_base.py:297: ConvergenceWarning: Solver terminated early (max_iter=10000).  Consider pre-processing your data with StandardScaler or MinMaxScaler.\n",
      "  warnings.warn(\n"
     ]
    },
    {
     "name": "stdout",
     "output_type": "stream",
     "text": [
      "[CV 5/5] END svc__C=10, svc__coef0=-1, svc__degree=3, svc__gamma=2, svc__kernel=poly; accuracy: (test=0.502) roc_auc: (test=0.538) total time= 1.0min\n"
     ]
    },
    {
     "name": "stderr",
     "output_type": "stream",
     "text": [
      "/home/pochete/studies/2023s2/mo810/mo810-kidney-waitlist/venv/lib/python3.11/site-packages/sklearn/svm/_base.py:297: ConvergenceWarning: Solver terminated early (max_iter=10000).  Consider pre-processing your data with StandardScaler or MinMaxScaler.\n",
      "  warnings.warn(\n"
     ]
    },
    {
     "name": "stdout",
     "output_type": "stream",
     "text": [
      "[CV 1/5] END svc__C=10, svc__coef0=-1, svc__degree=5, svc__gamma=scale, svc__kernel=poly; accuracy: (test=0.576) roc_auc: (test=0.509) total time= 2.0min\n"
     ]
    },
    {
     "name": "stderr",
     "output_type": "stream",
     "text": [
      "/home/pochete/studies/2023s2/mo810/mo810-kidney-waitlist/venv/lib/python3.11/site-packages/sklearn/svm/_base.py:297: ConvergenceWarning: Solver terminated early (max_iter=10000).  Consider pre-processing your data with StandardScaler or MinMaxScaler.\n",
      "  warnings.warn(\n"
     ]
    },
    {
     "name": "stdout",
     "output_type": "stream",
     "text": [
      "[CV 2/5] END svc__C=10, svc__coef0=-1, svc__degree=5, svc__gamma=scale, svc__kernel=poly; accuracy: (test=0.572) roc_auc: (test=0.505) total time= 2.0min\n"
     ]
    },
    {
     "name": "stderr",
     "output_type": "stream",
     "text": [
      "/home/pochete/studies/2023s2/mo810/mo810-kidney-waitlist/venv/lib/python3.11/site-packages/sklearn/svm/_base.py:297: ConvergenceWarning: Solver terminated early (max_iter=10000).  Consider pre-processing your data with StandardScaler or MinMaxScaler.\n",
      "  warnings.warn(\n"
     ]
    },
    {
     "name": "stdout",
     "output_type": "stream",
     "text": [
      "[CV 3/5] END svc__C=10, svc__coef0=-1, svc__degree=5, svc__gamma=scale, svc__kernel=poly; accuracy: (test=0.562) roc_auc: (test=0.494) total time= 2.0min\n"
     ]
    },
    {
     "name": "stderr",
     "output_type": "stream",
     "text": [
      "/home/pochete/studies/2023s2/mo810/mo810-kidney-waitlist/venv/lib/python3.11/site-packages/sklearn/svm/_base.py:297: ConvergenceWarning: Solver terminated early (max_iter=10000).  Consider pre-processing your data with StandardScaler or MinMaxScaler.\n",
      "  warnings.warn(\n"
     ]
    },
    {
     "name": "stdout",
     "output_type": "stream",
     "text": [
      "[CV 4/5] END svc__C=10, svc__coef0=-1, svc__degree=5, svc__gamma=scale, svc__kernel=poly; accuracy: (test=0.582) roc_auc: (test=0.517) total time= 1.9min\n"
     ]
    },
    {
     "name": "stderr",
     "output_type": "stream",
     "text": [
      "/home/pochete/studies/2023s2/mo810/mo810-kidney-waitlist/venv/lib/python3.11/site-packages/sklearn/svm/_base.py:297: ConvergenceWarning: Solver terminated early (max_iter=10000).  Consider pre-processing your data with StandardScaler or MinMaxScaler.\n",
      "  warnings.warn(\n"
     ]
    },
    {
     "name": "stdout",
     "output_type": "stream",
     "text": [
      "[CV 5/5] END svc__C=10, svc__coef0=-1, svc__degree=5, svc__gamma=scale, svc__kernel=poly; accuracy: (test=0.579) roc_auc: (test=0.513) total time= 1.9min\n"
     ]
    },
    {
     "name": "stderr",
     "output_type": "stream",
     "text": [
      "/home/pochete/studies/2023s2/mo810/mo810-kidney-waitlist/venv/lib/python3.11/site-packages/sklearn/svm/_base.py:297: ConvergenceWarning: Solver terminated early (max_iter=10000).  Consider pre-processing your data with StandardScaler or MinMaxScaler.\n",
      "  warnings.warn(\n"
     ]
    },
    {
     "name": "stdout",
     "output_type": "stream",
     "text": [
      "[CV 1/5] END svc__C=10, svc__coef0=-1, svc__degree=5, svc__gamma=0.1, svc__kernel=poly; accuracy: (test=0.553) roc_auc: (test=0.527) total time= 1.6min\n"
     ]
    },
    {
     "name": "stderr",
     "output_type": "stream",
     "text": [
      "/home/pochete/studies/2023s2/mo810/mo810-kidney-waitlist/venv/lib/python3.11/site-packages/sklearn/svm/_base.py:297: ConvergenceWarning: Solver terminated early (max_iter=10000).  Consider pre-processing your data with StandardScaler or MinMaxScaler.\n",
      "  warnings.warn(\n"
     ]
    },
    {
     "name": "stdout",
     "output_type": "stream",
     "text": [
      "[CV 2/5] END svc__C=10, svc__coef0=-1, svc__degree=5, svc__gamma=0.1, svc__kernel=poly; accuracy: (test=0.503) roc_auc: (test=0.510) total time= 1.5min\n"
     ]
    },
    {
     "name": "stderr",
     "output_type": "stream",
     "text": [
      "/home/pochete/studies/2023s2/mo810/mo810-kidney-waitlist/venv/lib/python3.11/site-packages/sklearn/svm/_base.py:297: ConvergenceWarning: Solver terminated early (max_iter=10000).  Consider pre-processing your data with StandardScaler or MinMaxScaler.\n",
      "  warnings.warn(\n"
     ]
    },
    {
     "name": "stdout",
     "output_type": "stream",
     "text": [
      "[CV 3/5] END svc__C=10, svc__coef0=-1, svc__degree=5, svc__gamma=0.1, svc__kernel=poly; accuracy: (test=0.541) roc_auc: (test=0.526) total time= 1.5min\n"
     ]
    },
    {
     "name": "stderr",
     "output_type": "stream",
     "text": [
      "/home/pochete/studies/2023s2/mo810/mo810-kidney-waitlist/venv/lib/python3.11/site-packages/sklearn/svm/_base.py:297: ConvergenceWarning: Solver terminated early (max_iter=10000).  Consider pre-processing your data with StandardScaler or MinMaxScaler.\n",
      "  warnings.warn(\n"
     ]
    },
    {
     "name": "stdout",
     "output_type": "stream",
     "text": [
      "[CV 4/5] END svc__C=10, svc__coef0=-1, svc__degree=5, svc__gamma=0.1, svc__kernel=poly; accuracy: (test=0.551) roc_auc: (test=0.527) total time= 1.5min\n"
     ]
    },
    {
     "name": "stderr",
     "output_type": "stream",
     "text": [
      "/home/pochete/studies/2023s2/mo810/mo810-kidney-waitlist/venv/lib/python3.11/site-packages/sklearn/svm/_base.py:297: ConvergenceWarning: Solver terminated early (max_iter=10000).  Consider pre-processing your data with StandardScaler or MinMaxScaler.\n",
      "  warnings.warn(\n"
     ]
    },
    {
     "name": "stdout",
     "output_type": "stream",
     "text": [
      "[CV 5/5] END svc__C=10, svc__coef0=-1, svc__degree=5, svc__gamma=0.1, svc__kernel=poly; accuracy: (test=0.540) roc_auc: (test=0.513) total time= 1.6min\n"
     ]
    },
    {
     "name": "stderr",
     "output_type": "stream",
     "text": [
      "/home/pochete/studies/2023s2/mo810/mo810-kidney-waitlist/venv/lib/python3.11/site-packages/sklearn/svm/_base.py:297: ConvergenceWarning: Solver terminated early (max_iter=10000).  Consider pre-processing your data with StandardScaler or MinMaxScaler.\n",
      "  warnings.warn(\n"
     ]
    },
    {
     "name": "stdout",
     "output_type": "stream",
     "text": [
      "[CV 1/5] END svc__C=10, svc__coef0=-1, svc__degree=5, svc__gamma=1, svc__kernel=poly; accuracy: (test=0.589) roc_auc: (test=0.560) total time= 1.3min\n"
     ]
    },
    {
     "name": "stderr",
     "output_type": "stream",
     "text": [
      "/home/pochete/studies/2023s2/mo810/mo810-kidney-waitlist/venv/lib/python3.11/site-packages/sklearn/svm/_base.py:297: ConvergenceWarning: Solver terminated early (max_iter=10000).  Consider pre-processing your data with StandardScaler or MinMaxScaler.\n",
      "  warnings.warn(\n"
     ]
    },
    {
     "name": "stdout",
     "output_type": "stream",
     "text": [
      "[CV 2/5] END svc__C=10, svc__coef0=-1, svc__degree=5, svc__gamma=1, svc__kernel=poly; accuracy: (test=0.579) roc_auc: (test=0.554) total time= 1.3min\n"
     ]
    },
    {
     "name": "stderr",
     "output_type": "stream",
     "text": [
      "/home/pochete/studies/2023s2/mo810/mo810-kidney-waitlist/venv/lib/python3.11/site-packages/sklearn/svm/_base.py:297: ConvergenceWarning: Solver terminated early (max_iter=10000).  Consider pre-processing your data with StandardScaler or MinMaxScaler.\n",
      "  warnings.warn(\n"
     ]
    },
    {
     "name": "stdout",
     "output_type": "stream",
     "text": [
      "[CV 3/5] END svc__C=10, svc__coef0=-1, svc__degree=5, svc__gamma=1, svc__kernel=poly; accuracy: (test=0.592) roc_auc: (test=0.561) total time= 1.3min\n"
     ]
    },
    {
     "name": "stderr",
     "output_type": "stream",
     "text": [
      "/home/pochete/studies/2023s2/mo810/mo810-kidney-waitlist/venv/lib/python3.11/site-packages/sklearn/svm/_base.py:297: ConvergenceWarning: Solver terminated early (max_iter=10000).  Consider pre-processing your data with StandardScaler or MinMaxScaler.\n",
      "  warnings.warn(\n"
     ]
    },
    {
     "name": "stdout",
     "output_type": "stream",
     "text": [
      "[CV 4/5] END svc__C=10, svc__coef0=-1, svc__degree=5, svc__gamma=1, svc__kernel=poly; accuracy: (test=0.579) roc_auc: (test=0.548) total time= 1.3min\n"
     ]
    },
    {
     "name": "stderr",
     "output_type": "stream",
     "text": [
      "/home/pochete/studies/2023s2/mo810/mo810-kidney-waitlist/venv/lib/python3.11/site-packages/sklearn/svm/_base.py:297: ConvergenceWarning: Solver terminated early (max_iter=10000).  Consider pre-processing your data with StandardScaler or MinMaxScaler.\n",
      "  warnings.warn(\n"
     ]
    },
    {
     "name": "stdout",
     "output_type": "stream",
     "text": [
      "[CV 5/5] END svc__C=10, svc__coef0=-1, svc__degree=5, svc__gamma=1, svc__kernel=poly; accuracy: (test=0.587) roc_auc: (test=0.554) total time= 1.3min\n"
     ]
    },
    {
     "name": "stderr",
     "output_type": "stream",
     "text": [
      "/home/pochete/studies/2023s2/mo810/mo810-kidney-waitlist/venv/lib/python3.11/site-packages/sklearn/svm/_base.py:297: ConvergenceWarning: Solver terminated early (max_iter=10000).  Consider pre-processing your data with StandardScaler or MinMaxScaler.\n",
      "  warnings.warn(\n"
     ]
    },
    {
     "name": "stdout",
     "output_type": "stream",
     "text": [
      "[CV 1/5] END svc__C=10, svc__coef0=-1, svc__degree=5, svc__gamma=2, svc__kernel=poly; accuracy: (test=0.610) roc_auc: (test=0.569) total time= 1.4min\n"
     ]
    },
    {
     "name": "stderr",
     "output_type": "stream",
     "text": [
      "/home/pochete/studies/2023s2/mo810/mo810-kidney-waitlist/venv/lib/python3.11/site-packages/sklearn/svm/_base.py:297: ConvergenceWarning: Solver terminated early (max_iter=10000).  Consider pre-processing your data with StandardScaler or MinMaxScaler.\n",
      "  warnings.warn(\n"
     ]
    },
    {
     "name": "stdout",
     "output_type": "stream",
     "text": [
      "[CV 2/5] END svc__C=10, svc__coef0=-1, svc__degree=5, svc__gamma=2, svc__kernel=poly; accuracy: (test=0.599) roc_auc: (test=0.555) total time= 1.3min\n"
     ]
    },
    {
     "name": "stderr",
     "output_type": "stream",
     "text": [
      "/home/pochete/studies/2023s2/mo810/mo810-kidney-waitlist/venv/lib/python3.11/site-packages/sklearn/svm/_base.py:297: ConvergenceWarning: Solver terminated early (max_iter=10000).  Consider pre-processing your data with StandardScaler or MinMaxScaler.\n",
      "  warnings.warn(\n"
     ]
    },
    {
     "name": "stdout",
     "output_type": "stream",
     "text": [
      "[CV 3/5] END svc__C=10, svc__coef0=-1, svc__degree=5, svc__gamma=2, svc__kernel=poly; accuracy: (test=0.602) roc_auc: (test=0.567) total time= 1.3min\n"
     ]
    },
    {
     "name": "stderr",
     "output_type": "stream",
     "text": [
      "/home/pochete/studies/2023s2/mo810/mo810-kidney-waitlist/venv/lib/python3.11/site-packages/sklearn/svm/_base.py:297: ConvergenceWarning: Solver terminated early (max_iter=10000).  Consider pre-processing your data with StandardScaler or MinMaxScaler.\n",
      "  warnings.warn(\n"
     ]
    },
    {
     "name": "stdout",
     "output_type": "stream",
     "text": [
      "[CV 4/5] END svc__C=10, svc__coef0=-1, svc__degree=5, svc__gamma=2, svc__kernel=poly; accuracy: (test=0.595) roc_auc: (test=0.549) total time= 1.3min\n"
     ]
    },
    {
     "name": "stderr",
     "output_type": "stream",
     "text": [
      "/home/pochete/studies/2023s2/mo810/mo810-kidney-waitlist/venv/lib/python3.11/site-packages/sklearn/svm/_base.py:297: ConvergenceWarning: Solver terminated early (max_iter=10000).  Consider pre-processing your data with StandardScaler or MinMaxScaler.\n",
      "  warnings.warn(\n"
     ]
    },
    {
     "name": "stdout",
     "output_type": "stream",
     "text": [
      "[CV 5/5] END svc__C=10, svc__coef0=-1, svc__degree=5, svc__gamma=2, svc__kernel=poly; accuracy: (test=0.600) roc_auc: (test=0.556) total time= 1.3min\n"
     ]
    },
    {
     "name": "stderr",
     "output_type": "stream",
     "text": [
      "/home/pochete/studies/2023s2/mo810/mo810-kidney-waitlist/venv/lib/python3.11/site-packages/sklearn/svm/_base.py:297: ConvergenceWarning: Solver terminated early (max_iter=10000).  Consider pre-processing your data with StandardScaler or MinMaxScaler.\n",
      "  warnings.warn(\n"
     ]
    },
    {
     "name": "stdout",
     "output_type": "stream",
     "text": [
      "[CV 1/5] END svc__C=10, svc__coef0=1, svc__degree=3, svc__gamma=scale, svc__kernel=poly; accuracy: (test=0.573) roc_auc: (test=0.530) total time= 1.1min\n"
     ]
    },
    {
     "name": "stderr",
     "output_type": "stream",
     "text": [
      "/home/pochete/studies/2023s2/mo810/mo810-kidney-waitlist/venv/lib/python3.11/site-packages/sklearn/svm/_base.py:297: ConvergenceWarning: Solver terminated early (max_iter=10000).  Consider pre-processing your data with StandardScaler or MinMaxScaler.\n",
      "  warnings.warn(\n"
     ]
    },
    {
     "name": "stdout",
     "output_type": "stream",
     "text": [
      "[CV 2/5] END svc__C=10, svc__coef0=1, svc__degree=3, svc__gamma=scale, svc__kernel=poly; accuracy: (test=0.573) roc_auc: (test=0.526) total time= 1.1min\n"
     ]
    },
    {
     "name": "stderr",
     "output_type": "stream",
     "text": [
      "/home/pochete/studies/2023s2/mo810/mo810-kidney-waitlist/venv/lib/python3.11/site-packages/sklearn/svm/_base.py:297: ConvergenceWarning: Solver terminated early (max_iter=10000).  Consider pre-processing your data with StandardScaler or MinMaxScaler.\n",
      "  warnings.warn(\n"
     ]
    },
    {
     "name": "stdout",
     "output_type": "stream",
     "text": [
      "[CV 3/5] END svc__C=10, svc__coef0=1, svc__degree=3, svc__gamma=scale, svc__kernel=poly; accuracy: (test=0.563) roc_auc: (test=0.516) total time= 1.2min\n"
     ]
    },
    {
     "name": "stderr",
     "output_type": "stream",
     "text": [
      "/home/pochete/studies/2023s2/mo810/mo810-kidney-waitlist/venv/lib/python3.11/site-packages/sklearn/svm/_base.py:297: ConvergenceWarning: Solver terminated early (max_iter=10000).  Consider pre-processing your data with StandardScaler or MinMaxScaler.\n",
      "  warnings.warn(\n"
     ]
    },
    {
     "name": "stdout",
     "output_type": "stream",
     "text": [
      "[CV 4/5] END svc__C=10, svc__coef0=1, svc__degree=3, svc__gamma=scale, svc__kernel=poly; accuracy: (test=0.568) roc_auc: (test=0.515) total time= 1.1min\n"
     ]
    },
    {
     "name": "stderr",
     "output_type": "stream",
     "text": [
      "/home/pochete/studies/2023s2/mo810/mo810-kidney-waitlist/venv/lib/python3.11/site-packages/sklearn/svm/_base.py:297: ConvergenceWarning: Solver terminated early (max_iter=10000).  Consider pre-processing your data with StandardScaler or MinMaxScaler.\n",
      "  warnings.warn(\n"
     ]
    },
    {
     "name": "stdout",
     "output_type": "stream",
     "text": [
      "[CV 5/5] END svc__C=10, svc__coef0=1, svc__degree=3, svc__gamma=scale, svc__kernel=poly; accuracy: (test=0.552) roc_auc: (test=0.513) total time= 1.1min\n"
     ]
    },
    {
     "name": "stderr",
     "output_type": "stream",
     "text": [
      "/home/pochete/studies/2023s2/mo810/mo810-kidney-waitlist/venv/lib/python3.11/site-packages/sklearn/svm/_base.py:297: ConvergenceWarning: Solver terminated early (max_iter=10000).  Consider pre-processing your data with StandardScaler or MinMaxScaler.\n",
      "  warnings.warn(\n"
     ]
    },
    {
     "name": "stdout",
     "output_type": "stream",
     "text": [
      "[CV 1/5] END svc__C=10, svc__coef0=1, svc__degree=3, svc__gamma=0.1, svc__kernel=poly; accuracy: (test=0.585) roc_auc: (test=0.544) total time= 1.0min\n"
     ]
    },
    {
     "name": "stderr",
     "output_type": "stream",
     "text": [
      "/home/pochete/studies/2023s2/mo810/mo810-kidney-waitlist/venv/lib/python3.11/site-packages/sklearn/svm/_base.py:297: ConvergenceWarning: Solver terminated early (max_iter=10000).  Consider pre-processing your data with StandardScaler or MinMaxScaler.\n",
      "  warnings.warn(\n"
     ]
    },
    {
     "name": "stdout",
     "output_type": "stream",
     "text": [
      "[CV 2/5] END svc__C=10, svc__coef0=1, svc__degree=3, svc__gamma=0.1, svc__kernel=poly; accuracy: (test=0.567) roc_auc: (test=0.528) total time=  59.3s\n"
     ]
    },
    {
     "name": "stderr",
     "output_type": "stream",
     "text": [
      "/home/pochete/studies/2023s2/mo810/mo810-kidney-waitlist/venv/lib/python3.11/site-packages/sklearn/svm/_base.py:297: ConvergenceWarning: Solver terminated early (max_iter=10000).  Consider pre-processing your data with StandardScaler or MinMaxScaler.\n",
      "  warnings.warn(\n"
     ]
    },
    {
     "name": "stdout",
     "output_type": "stream",
     "text": [
      "[CV 3/5] END svc__C=10, svc__coef0=1, svc__degree=3, svc__gamma=0.1, svc__kernel=poly; accuracy: (test=0.574) roc_auc: (test=0.531) total time= 1.0min\n"
     ]
    },
    {
     "name": "stderr",
     "output_type": "stream",
     "text": [
      "/home/pochete/studies/2023s2/mo810/mo810-kidney-waitlist/venv/lib/python3.11/site-packages/sklearn/svm/_base.py:297: ConvergenceWarning: Solver terminated early (max_iter=10000).  Consider pre-processing your data with StandardScaler or MinMaxScaler.\n",
      "  warnings.warn(\n"
     ]
    },
    {
     "name": "stdout",
     "output_type": "stream",
     "text": [
      "[CV 4/5] END svc__C=10, svc__coef0=1, svc__degree=3, svc__gamma=0.1, svc__kernel=poly; accuracy: (test=0.559) roc_auc: (test=0.523) total time= 1.0min\n"
     ]
    },
    {
     "name": "stderr",
     "output_type": "stream",
     "text": [
      "/home/pochete/studies/2023s2/mo810/mo810-kidney-waitlist/venv/lib/python3.11/site-packages/sklearn/svm/_base.py:297: ConvergenceWarning: Solver terminated early (max_iter=10000).  Consider pre-processing your data with StandardScaler or MinMaxScaler.\n",
      "  warnings.warn(\n"
     ]
    },
    {
     "name": "stdout",
     "output_type": "stream",
     "text": [
      "[CV 5/5] END svc__C=10, svc__coef0=1, svc__degree=3, svc__gamma=0.1, svc__kernel=poly; accuracy: (test=0.568) roc_auc: (test=0.523) total time= 1.0min\n"
     ]
    },
    {
     "name": "stderr",
     "output_type": "stream",
     "text": [
      "/home/pochete/studies/2023s2/mo810/mo810-kidney-waitlist/venv/lib/python3.11/site-packages/sklearn/svm/_base.py:297: ConvergenceWarning: Solver terminated early (max_iter=10000).  Consider pre-processing your data with StandardScaler or MinMaxScaler.\n",
      "  warnings.warn(\n"
     ]
    },
    {
     "name": "stdout",
     "output_type": "stream",
     "text": [
      "[CV 1/5] END svc__C=10, svc__coef0=1, svc__degree=3, svc__gamma=1, svc__kernel=poly; accuracy: (test=0.571) roc_auc: (test=0.546) total time=  58.8s\n"
     ]
    },
    {
     "name": "stderr",
     "output_type": "stream",
     "text": [
      "/home/pochete/studies/2023s2/mo810/mo810-kidney-waitlist/venv/lib/python3.11/site-packages/sklearn/svm/_base.py:297: ConvergenceWarning: Solver terminated early (max_iter=10000).  Consider pre-processing your data with StandardScaler or MinMaxScaler.\n",
      "  warnings.warn(\n"
     ]
    },
    {
     "name": "stdout",
     "output_type": "stream",
     "text": [
      "[CV 2/5] END svc__C=10, svc__coef0=1, svc__degree=3, svc__gamma=1, svc__kernel=poly; accuracy: (test=0.561) roc_auc: (test=0.535) total time= 1.0min\n"
     ]
    },
    {
     "name": "stderr",
     "output_type": "stream",
     "text": [
      "/home/pochete/studies/2023s2/mo810/mo810-kidney-waitlist/venv/lib/python3.11/site-packages/sklearn/svm/_base.py:297: ConvergenceWarning: Solver terminated early (max_iter=10000).  Consider pre-processing your data with StandardScaler or MinMaxScaler.\n",
      "  warnings.warn(\n"
     ]
    },
    {
     "name": "stdout",
     "output_type": "stream",
     "text": [
      "[CV 3/5] END svc__C=10, svc__coef0=1, svc__degree=3, svc__gamma=1, svc__kernel=poly; accuracy: (test=0.571) roc_auc: (test=0.542) total time=  59.3s\n"
     ]
    },
    {
     "name": "stderr",
     "output_type": "stream",
     "text": [
      "/home/pochete/studies/2023s2/mo810/mo810-kidney-waitlist/venv/lib/python3.11/site-packages/sklearn/svm/_base.py:297: ConvergenceWarning: Solver terminated early (max_iter=10000).  Consider pre-processing your data with StandardScaler or MinMaxScaler.\n",
      "  warnings.warn(\n"
     ]
    },
    {
     "name": "stdout",
     "output_type": "stream",
     "text": [
      "[CV 4/5] END svc__C=10, svc__coef0=1, svc__degree=3, svc__gamma=1, svc__kernel=poly; accuracy: (test=0.558) roc_auc: (test=0.523) total time=  59.4s\n"
     ]
    },
    {
     "name": "stderr",
     "output_type": "stream",
     "text": [
      "/home/pochete/studies/2023s2/mo810/mo810-kidney-waitlist/venv/lib/python3.11/site-packages/sklearn/svm/_base.py:297: ConvergenceWarning: Solver terminated early (max_iter=10000).  Consider pre-processing your data with StandardScaler or MinMaxScaler.\n",
      "  warnings.warn(\n"
     ]
    },
    {
     "name": "stdout",
     "output_type": "stream",
     "text": [
      "[CV 5/5] END svc__C=10, svc__coef0=1, svc__degree=3, svc__gamma=1, svc__kernel=poly; accuracy: (test=0.570) roc_auc: (test=0.531) total time=  58.6s\n"
     ]
    },
    {
     "name": "stderr",
     "output_type": "stream",
     "text": [
      "/home/pochete/studies/2023s2/mo810/mo810-kidney-waitlist/venv/lib/python3.11/site-packages/sklearn/svm/_base.py:297: ConvergenceWarning: Solver terminated early (max_iter=10000).  Consider pre-processing your data with StandardScaler or MinMaxScaler.\n",
      "  warnings.warn(\n"
     ]
    },
    {
     "name": "stdout",
     "output_type": "stream",
     "text": [
      "[CV 1/5] END svc__C=10, svc__coef0=1, svc__degree=3, svc__gamma=2, svc__kernel=poly; accuracy: (test=0.558) roc_auc: (test=0.536) total time=  58.9s\n"
     ]
    },
    {
     "name": "stderr",
     "output_type": "stream",
     "text": [
      "/home/pochete/studies/2023s2/mo810/mo810-kidney-waitlist/venv/lib/python3.11/site-packages/sklearn/svm/_base.py:297: ConvergenceWarning: Solver terminated early (max_iter=10000).  Consider pre-processing your data with StandardScaler or MinMaxScaler.\n",
      "  warnings.warn(\n"
     ]
    },
    {
     "name": "stdout",
     "output_type": "stream",
     "text": [
      "[CV 2/5] END svc__C=10, svc__coef0=1, svc__degree=3, svc__gamma=2, svc__kernel=poly; accuracy: (test=0.544) roc_auc: (test=0.524) total time= 1.0min\n"
     ]
    },
    {
     "name": "stderr",
     "output_type": "stream",
     "text": [
      "/home/pochete/studies/2023s2/mo810/mo810-kidney-waitlist/venv/lib/python3.11/site-packages/sklearn/svm/_base.py:297: ConvergenceWarning: Solver terminated early (max_iter=10000).  Consider pre-processing your data with StandardScaler or MinMaxScaler.\n",
      "  warnings.warn(\n"
     ]
    },
    {
     "name": "stdout",
     "output_type": "stream",
     "text": [
      "[CV 3/5] END svc__C=10, svc__coef0=1, svc__degree=3, svc__gamma=2, svc__kernel=poly; accuracy: (test=0.565) roc_auc: (test=0.537) total time=  58.7s\n"
     ]
    },
    {
     "name": "stderr",
     "output_type": "stream",
     "text": [
      "/home/pochete/studies/2023s2/mo810/mo810-kidney-waitlist/venv/lib/python3.11/site-packages/sklearn/svm/_base.py:297: ConvergenceWarning: Solver terminated early (max_iter=10000).  Consider pre-processing your data with StandardScaler or MinMaxScaler.\n",
      "  warnings.warn(\n"
     ]
    },
    {
     "name": "stdout",
     "output_type": "stream",
     "text": [
      "[CV 4/5] END svc__C=10, svc__coef0=1, svc__degree=3, svc__gamma=2, svc__kernel=poly; accuracy: (test=0.550) roc_auc: (test=0.525) total time= 1.0min\n"
     ]
    },
    {
     "name": "stderr",
     "output_type": "stream",
     "text": [
      "/home/pochete/studies/2023s2/mo810/mo810-kidney-waitlist/venv/lib/python3.11/site-packages/sklearn/svm/_base.py:297: ConvergenceWarning: Solver terminated early (max_iter=10000).  Consider pre-processing your data with StandardScaler or MinMaxScaler.\n",
      "  warnings.warn(\n"
     ]
    },
    {
     "name": "stdout",
     "output_type": "stream",
     "text": [
      "[CV 5/5] END svc__C=10, svc__coef0=1, svc__degree=3, svc__gamma=2, svc__kernel=poly; accuracy: (test=0.560) roc_auc: (test=0.531) total time= 1.0min\n"
     ]
    },
    {
     "name": "stderr",
     "output_type": "stream",
     "text": [
      "/home/pochete/studies/2023s2/mo810/mo810-kidney-waitlist/venv/lib/python3.11/site-packages/sklearn/svm/_base.py:297: ConvergenceWarning: Solver terminated early (max_iter=10000).  Consider pre-processing your data with StandardScaler or MinMaxScaler.\n",
      "  warnings.warn(\n"
     ]
    },
    {
     "name": "stdout",
     "output_type": "stream",
     "text": [
      "[CV 1/5] END svc__C=10, svc__coef0=1, svc__degree=5, svc__gamma=scale, svc__kernel=poly; accuracy: (test=0.596) roc_auc: (test=0.541) total time= 1.1min\n"
     ]
    },
    {
     "name": "stderr",
     "output_type": "stream",
     "text": [
      "/home/pochete/studies/2023s2/mo810/mo810-kidney-waitlist/venv/lib/python3.11/site-packages/sklearn/svm/_base.py:297: ConvergenceWarning: Solver terminated early (max_iter=10000).  Consider pre-processing your data with StandardScaler or MinMaxScaler.\n",
      "  warnings.warn(\n"
     ]
    },
    {
     "name": "stdout",
     "output_type": "stream",
     "text": [
      "[CV 2/5] END svc__C=10, svc__coef0=1, svc__degree=5, svc__gamma=scale, svc__kernel=poly; accuracy: (test=0.593) roc_auc: (test=0.538) total time= 1.1min\n"
     ]
    },
    {
     "name": "stderr",
     "output_type": "stream",
     "text": [
      "/home/pochete/studies/2023s2/mo810/mo810-kidney-waitlist/venv/lib/python3.11/site-packages/sklearn/svm/_base.py:297: ConvergenceWarning: Solver terminated early (max_iter=10000).  Consider pre-processing your data with StandardScaler or MinMaxScaler.\n",
      "  warnings.warn(\n"
     ]
    },
    {
     "name": "stdout",
     "output_type": "stream",
     "text": [
      "[CV 3/5] END svc__C=10, svc__coef0=1, svc__degree=5, svc__gamma=scale, svc__kernel=poly; accuracy: (test=0.602) roc_auc: (test=0.549) total time= 1.1min\n"
     ]
    },
    {
     "name": "stderr",
     "output_type": "stream",
     "text": [
      "/home/pochete/studies/2023s2/mo810/mo810-kidney-waitlist/venv/lib/python3.11/site-packages/sklearn/svm/_base.py:297: ConvergenceWarning: Solver terminated early (max_iter=10000).  Consider pre-processing your data with StandardScaler or MinMaxScaler.\n",
      "  warnings.warn(\n"
     ]
    },
    {
     "name": "stdout",
     "output_type": "stream",
     "text": [
      "[CV 4/5] END svc__C=10, svc__coef0=1, svc__degree=5, svc__gamma=scale, svc__kernel=poly; accuracy: (test=0.588) roc_auc: (test=0.524) total time= 1.1min\n"
     ]
    },
    {
     "name": "stderr",
     "output_type": "stream",
     "text": [
      "/home/pochete/studies/2023s2/mo810/mo810-kidney-waitlist/venv/lib/python3.11/site-packages/sklearn/svm/_base.py:297: ConvergenceWarning: Solver terminated early (max_iter=10000).  Consider pre-processing your data with StandardScaler or MinMaxScaler.\n",
      "  warnings.warn(\n"
     ]
    },
    {
     "name": "stdout",
     "output_type": "stream",
     "text": [
      "[CV 5/5] END svc__C=10, svc__coef0=1, svc__degree=5, svc__gamma=scale, svc__kernel=poly; accuracy: (test=0.601) roc_auc: (test=0.542) total time= 1.1min\n"
     ]
    },
    {
     "name": "stderr",
     "output_type": "stream",
     "text": [
      "/home/pochete/studies/2023s2/mo810/mo810-kidney-waitlist/venv/lib/python3.11/site-packages/sklearn/svm/_base.py:297: ConvergenceWarning: Solver terminated early (max_iter=10000).  Consider pre-processing your data with StandardScaler or MinMaxScaler.\n",
      "  warnings.warn(\n"
     ]
    },
    {
     "name": "stdout",
     "output_type": "stream",
     "text": [
      "[CV 1/5] END svc__C=10, svc__coef0=1, svc__degree=5, svc__gamma=0.1, svc__kernel=poly; accuracy: (test=0.624) roc_auc: (test=0.576) total time= 1.2min\n"
     ]
    },
    {
     "name": "stderr",
     "output_type": "stream",
     "text": [
      "/home/pochete/studies/2023s2/mo810/mo810-kidney-waitlist/venv/lib/python3.11/site-packages/sklearn/svm/_base.py:297: ConvergenceWarning: Solver terminated early (max_iter=10000).  Consider pre-processing your data with StandardScaler or MinMaxScaler.\n",
      "  warnings.warn(\n"
     ]
    },
    {
     "name": "stdout",
     "output_type": "stream",
     "text": [
      "[CV 2/5] END svc__C=10, svc__coef0=1, svc__degree=5, svc__gamma=0.1, svc__kernel=poly; accuracy: (test=0.609) roc_auc: (test=0.558) total time= 1.2min\n"
     ]
    },
    {
     "name": "stderr",
     "output_type": "stream",
     "text": [
      "/home/pochete/studies/2023s2/mo810/mo810-kidney-waitlist/venv/lib/python3.11/site-packages/sklearn/svm/_base.py:297: ConvergenceWarning: Solver terminated early (max_iter=10000).  Consider pre-processing your data with StandardScaler or MinMaxScaler.\n",
      "  warnings.warn(\n"
     ]
    },
    {
     "name": "stdout",
     "output_type": "stream",
     "text": [
      "[CV 3/5] END svc__C=10, svc__coef0=1, svc__degree=5, svc__gamma=0.1, svc__kernel=poly; accuracy: (test=0.628) roc_auc: (test=0.568) total time= 1.2min\n"
     ]
    },
    {
     "name": "stderr",
     "output_type": "stream",
     "text": [
      "/home/pochete/studies/2023s2/mo810/mo810-kidney-waitlist/venv/lib/python3.11/site-packages/sklearn/svm/_base.py:297: ConvergenceWarning: Solver terminated early (max_iter=10000).  Consider pre-processing your data with StandardScaler or MinMaxScaler.\n",
      "  warnings.warn(\n"
     ]
    },
    {
     "name": "stdout",
     "output_type": "stream",
     "text": [
      "[CV 4/5] END svc__C=10, svc__coef0=1, svc__degree=5, svc__gamma=0.1, svc__kernel=poly; accuracy: (test=0.625) roc_auc: (test=0.564) total time= 1.2min\n"
     ]
    },
    {
     "name": "stderr",
     "output_type": "stream",
     "text": [
      "/home/pochete/studies/2023s2/mo810/mo810-kidney-waitlist/venv/lib/python3.11/site-packages/sklearn/svm/_base.py:297: ConvergenceWarning: Solver terminated early (max_iter=10000).  Consider pre-processing your data with StandardScaler or MinMaxScaler.\n",
      "  warnings.warn(\n"
     ]
    },
    {
     "name": "stdout",
     "output_type": "stream",
     "text": [
      "[CV 5/5] END svc__C=10, svc__coef0=1, svc__degree=5, svc__gamma=0.1, svc__kernel=poly; accuracy: (test=0.616) roc_auc: (test=0.568) total time= 1.2min\n"
     ]
    },
    {
     "name": "stderr",
     "output_type": "stream",
     "text": [
      "/home/pochete/studies/2023s2/mo810/mo810-kidney-waitlist/venv/lib/python3.11/site-packages/sklearn/svm/_base.py:297: ConvergenceWarning: Solver terminated early (max_iter=10000).  Consider pre-processing your data with StandardScaler or MinMaxScaler.\n",
      "  warnings.warn(\n"
     ]
    },
    {
     "name": "stdout",
     "output_type": "stream",
     "text": [
      "[CV 1/5] END svc__C=10, svc__coef0=1, svc__degree=5, svc__gamma=1, svc__kernel=poly; accuracy: (test=0.623) roc_auc: (test=0.572) total time= 1.3min\n"
     ]
    },
    {
     "name": "stderr",
     "output_type": "stream",
     "text": [
      "/home/pochete/studies/2023s2/mo810/mo810-kidney-waitlist/venv/lib/python3.11/site-packages/sklearn/svm/_base.py:297: ConvergenceWarning: Solver terminated early (max_iter=10000).  Consider pre-processing your data with StandardScaler or MinMaxScaler.\n",
      "  warnings.warn(\n"
     ]
    },
    {
     "name": "stdout",
     "output_type": "stream",
     "text": [
      "[CV 2/5] END svc__C=10, svc__coef0=1, svc__degree=5, svc__gamma=1, svc__kernel=poly; accuracy: (test=0.614) roc_auc: (test=0.561) total time= 1.3min\n"
     ]
    },
    {
     "name": "stderr",
     "output_type": "stream",
     "text": [
      "/home/pochete/studies/2023s2/mo810/mo810-kidney-waitlist/venv/lib/python3.11/site-packages/sklearn/svm/_base.py:297: ConvergenceWarning: Solver terminated early (max_iter=10000).  Consider pre-processing your data with StandardScaler or MinMaxScaler.\n",
      "  warnings.warn(\n"
     ]
    },
    {
     "name": "stdout",
     "output_type": "stream",
     "text": [
      "[CV 3/5] END svc__C=10, svc__coef0=1, svc__degree=5, svc__gamma=1, svc__kernel=poly; accuracy: (test=0.626) roc_auc: (test=0.573) total time= 1.3min\n"
     ]
    },
    {
     "name": "stderr",
     "output_type": "stream",
     "text": [
      "/home/pochete/studies/2023s2/mo810/mo810-kidney-waitlist/venv/lib/python3.11/site-packages/sklearn/svm/_base.py:297: ConvergenceWarning: Solver terminated early (max_iter=10000).  Consider pre-processing your data with StandardScaler or MinMaxScaler.\n",
      "  warnings.warn(\n"
     ]
    },
    {
     "name": "stdout",
     "output_type": "stream",
     "text": [
      "[CV 4/5] END svc__C=10, svc__coef0=1, svc__degree=5, svc__gamma=1, svc__kernel=poly; accuracy: (test=0.620) roc_auc: (test=0.564) total time= 1.3min\n"
     ]
    },
    {
     "name": "stderr",
     "output_type": "stream",
     "text": [
      "/home/pochete/studies/2023s2/mo810/mo810-kidney-waitlist/venv/lib/python3.11/site-packages/sklearn/svm/_base.py:297: ConvergenceWarning: Solver terminated early (max_iter=10000).  Consider pre-processing your data with StandardScaler or MinMaxScaler.\n",
      "  warnings.warn(\n"
     ]
    },
    {
     "name": "stdout",
     "output_type": "stream",
     "text": [
      "[CV 5/5] END svc__C=10, svc__coef0=1, svc__degree=5, svc__gamma=1, svc__kernel=poly; accuracy: (test=0.613) roc_auc: (test=0.564) total time= 1.3min\n"
     ]
    },
    {
     "name": "stderr",
     "output_type": "stream",
     "text": [
      "/home/pochete/studies/2023s2/mo810/mo810-kidney-waitlist/venv/lib/python3.11/site-packages/sklearn/svm/_base.py:297: ConvergenceWarning: Solver terminated early (max_iter=10000).  Consider pre-processing your data with StandardScaler or MinMaxScaler.\n",
      "  warnings.warn(\n"
     ]
    },
    {
     "name": "stdout",
     "output_type": "stream",
     "text": [
      "[CV 1/5] END svc__C=10, svc__coef0=1, svc__degree=5, svc__gamma=2, svc__kernel=poly; accuracy: (test=0.617) roc_auc: (test=0.572) total time= 1.3min\n"
     ]
    },
    {
     "name": "stderr",
     "output_type": "stream",
     "text": [
      "/home/pochete/studies/2023s2/mo810/mo810-kidney-waitlist/venv/lib/python3.11/site-packages/sklearn/svm/_base.py:297: ConvergenceWarning: Solver terminated early (max_iter=10000).  Consider pre-processing your data with StandardScaler or MinMaxScaler.\n",
      "  warnings.warn(\n"
     ]
    },
    {
     "name": "stdout",
     "output_type": "stream",
     "text": [
      "[CV 2/5] END svc__C=10, svc__coef0=1, svc__degree=5, svc__gamma=2, svc__kernel=poly; accuracy: (test=0.612) roc_auc: (test=0.560) total time= 1.3min\n"
     ]
    },
    {
     "name": "stderr",
     "output_type": "stream",
     "text": [
      "/home/pochete/studies/2023s2/mo810/mo810-kidney-waitlist/venv/lib/python3.11/site-packages/sklearn/svm/_base.py:297: ConvergenceWarning: Solver terminated early (max_iter=10000).  Consider pre-processing your data with StandardScaler or MinMaxScaler.\n",
      "  warnings.warn(\n"
     ]
    },
    {
     "name": "stdout",
     "output_type": "stream",
     "text": [
      "[CV 3/5] END svc__C=10, svc__coef0=1, svc__degree=5, svc__gamma=2, svc__kernel=poly; accuracy: (test=0.622) roc_auc: (test=0.573) total time= 1.3min\n"
     ]
    },
    {
     "name": "stderr",
     "output_type": "stream",
     "text": [
      "/home/pochete/studies/2023s2/mo810/mo810-kidney-waitlist/venv/lib/python3.11/site-packages/sklearn/svm/_base.py:297: ConvergenceWarning: Solver terminated early (max_iter=10000).  Consider pre-processing your data with StandardScaler or MinMaxScaler.\n",
      "  warnings.warn(\n"
     ]
    },
    {
     "name": "stdout",
     "output_type": "stream",
     "text": [
      "[CV 4/5] END svc__C=10, svc__coef0=1, svc__degree=5, svc__gamma=2, svc__kernel=poly; accuracy: (test=0.618) roc_auc: (test=0.559) total time= 1.4min\n"
     ]
    },
    {
     "name": "stderr",
     "output_type": "stream",
     "text": [
      "/home/pochete/studies/2023s2/mo810/mo810-kidney-waitlist/venv/lib/python3.11/site-packages/sklearn/svm/_base.py:297: ConvergenceWarning: Solver terminated early (max_iter=10000).  Consider pre-processing your data with StandardScaler or MinMaxScaler.\n",
      "  warnings.warn(\n"
     ]
    },
    {
     "name": "stdout",
     "output_type": "stream",
     "text": [
      "[CV 5/5] END svc__C=10, svc__coef0=1, svc__degree=5, svc__gamma=2, svc__kernel=poly; accuracy: (test=0.605) roc_auc: (test=0.558) total time= 1.4min\n"
     ]
    },
    {
     "name": "stderr",
     "output_type": "stream",
     "text": [
      "/home/pochete/studies/2023s2/mo810/mo810-kidney-waitlist/venv/lib/python3.11/site-packages/sklearn/svm/_base.py:297: ConvergenceWarning: Solver terminated early (max_iter=10000).  Consider pre-processing your data with StandardScaler or MinMaxScaler.\n",
      "  warnings.warn(\n"
     ]
    },
    {
     "name": "stdout",
     "output_type": "stream",
     "text": [
      "[CV 1/5] END svc__C=1, svc__gamma=scale, svc__kernel=rbf; accuracy: (test=0.673) roc_auc: (test=0.608) total time= 2.3min\n"
     ]
    },
    {
     "name": "stderr",
     "output_type": "stream",
     "text": [
      "/home/pochete/studies/2023s2/mo810/mo810-kidney-waitlist/venv/lib/python3.11/site-packages/sklearn/svm/_base.py:297: ConvergenceWarning: Solver terminated early (max_iter=10000).  Consider pre-processing your data with StandardScaler or MinMaxScaler.\n",
      "  warnings.warn(\n"
     ]
    },
    {
     "name": "stdout",
     "output_type": "stream",
     "text": [
      "[CV 2/5] END svc__C=1, svc__gamma=scale, svc__kernel=rbf; accuracy: (test=0.671) roc_auc: (test=0.612) total time= 2.2min\n"
     ]
    },
    {
     "name": "stderr",
     "output_type": "stream",
     "text": [
      "/home/pochete/studies/2023s2/mo810/mo810-kidney-waitlist/venv/lib/python3.11/site-packages/sklearn/svm/_base.py:297: ConvergenceWarning: Solver terminated early (max_iter=10000).  Consider pre-processing your data with StandardScaler or MinMaxScaler.\n",
      "  warnings.warn(\n"
     ]
    },
    {
     "name": "stdout",
     "output_type": "stream",
     "text": [
      "[CV 3/5] END svc__C=1, svc__gamma=scale, svc__kernel=rbf; accuracy: (test=0.676) roc_auc: (test=0.611) total time= 2.2min\n"
     ]
    },
    {
     "name": "stderr",
     "output_type": "stream",
     "text": [
      "/home/pochete/studies/2023s2/mo810/mo810-kidney-waitlist/venv/lib/python3.11/site-packages/sklearn/svm/_base.py:297: ConvergenceWarning: Solver terminated early (max_iter=10000).  Consider pre-processing your data with StandardScaler or MinMaxScaler.\n",
      "  warnings.warn(\n"
     ]
    },
    {
     "name": "stdout",
     "output_type": "stream",
     "text": [
      "[CV 4/5] END svc__C=1, svc__gamma=scale, svc__kernel=rbf; accuracy: (test=0.674) roc_auc: (test=0.619) total time= 2.2min\n"
     ]
    },
    {
     "name": "stderr",
     "output_type": "stream",
     "text": [
      "/home/pochete/studies/2023s2/mo810/mo810-kidney-waitlist/venv/lib/python3.11/site-packages/sklearn/svm/_base.py:297: ConvergenceWarning: Solver terminated early (max_iter=10000).  Consider pre-processing your data with StandardScaler or MinMaxScaler.\n",
      "  warnings.warn(\n"
     ]
    },
    {
     "name": "stdout",
     "output_type": "stream",
     "text": [
      "[CV 5/5] END svc__C=1, svc__gamma=scale, svc__kernel=rbf; accuracy: (test=0.670) roc_auc: (test=0.614) total time= 2.2min\n"
     ]
    },
    {
     "name": "stderr",
     "output_type": "stream",
     "text": [
      "/home/pochete/studies/2023s2/mo810/mo810-kidney-waitlist/venv/lib/python3.11/site-packages/sklearn/svm/_base.py:297: ConvergenceWarning: Solver terminated early (max_iter=10000).  Consider pre-processing your data with StandardScaler or MinMaxScaler.\n",
      "  warnings.warn(\n"
     ]
    },
    {
     "name": "stdout",
     "output_type": "stream",
     "text": [
      "[CV 1/5] END svc__C=1, svc__gamma=scale, svc__kernel=sigmoid; accuracy: (test=0.570) roc_auc: (test=0.496) total time= 2.6min\n"
     ]
    },
    {
     "name": "stderr",
     "output_type": "stream",
     "text": [
      "/home/pochete/studies/2023s2/mo810/mo810-kidney-waitlist/venv/lib/python3.11/site-packages/sklearn/svm/_base.py:297: ConvergenceWarning: Solver terminated early (max_iter=10000).  Consider pre-processing your data with StandardScaler or MinMaxScaler.\n",
      "  warnings.warn(\n"
     ]
    },
    {
     "name": "stdout",
     "output_type": "stream",
     "text": [
      "[CV 2/5] END svc__C=1, svc__gamma=scale, svc__kernel=sigmoid; accuracy: (test=0.563) roc_auc: (test=0.495) total time= 2.7min\n"
     ]
    },
    {
     "name": "stderr",
     "output_type": "stream",
     "text": [
      "/home/pochete/studies/2023s2/mo810/mo810-kidney-waitlist/venv/lib/python3.11/site-packages/sklearn/svm/_base.py:297: ConvergenceWarning: Solver terminated early (max_iter=10000).  Consider pre-processing your data with StandardScaler or MinMaxScaler.\n",
      "  warnings.warn(\n"
     ]
    },
    {
     "name": "stdout",
     "output_type": "stream",
     "text": [
      "[CV 3/5] END svc__C=1, svc__gamma=scale, svc__kernel=sigmoid; accuracy: (test=0.559) roc_auc: (test=0.506) total time= 2.6min\n"
     ]
    },
    {
     "name": "stderr",
     "output_type": "stream",
     "text": [
      "/home/pochete/studies/2023s2/mo810/mo810-kidney-waitlist/venv/lib/python3.11/site-packages/sklearn/svm/_base.py:297: ConvergenceWarning: Solver terminated early (max_iter=10000).  Consider pre-processing your data with StandardScaler or MinMaxScaler.\n",
      "  warnings.warn(\n"
     ]
    },
    {
     "name": "stdout",
     "output_type": "stream",
     "text": [
      "[CV 4/5] END svc__C=1, svc__gamma=scale, svc__kernel=sigmoid; accuracy: (test=0.566) roc_auc: (test=0.496) total time= 2.7min\n"
     ]
    },
    {
     "name": "stderr",
     "output_type": "stream",
     "text": [
      "/home/pochete/studies/2023s2/mo810/mo810-kidney-waitlist/venv/lib/python3.11/site-packages/sklearn/svm/_base.py:297: ConvergenceWarning: Solver terminated early (max_iter=10000).  Consider pre-processing your data with StandardScaler or MinMaxScaler.\n",
      "  warnings.warn(\n"
     ]
    },
    {
     "name": "stdout",
     "output_type": "stream",
     "text": [
      "[CV 5/5] END svc__C=1, svc__gamma=scale, svc__kernel=sigmoid; accuracy: (test=0.566) roc_auc: (test=0.500) total time= 2.7min\n"
     ]
    },
    {
     "name": "stderr",
     "output_type": "stream",
     "text": [
      "/home/pochete/studies/2023s2/mo810/mo810-kidney-waitlist/venv/lib/python3.11/site-packages/sklearn/svm/_base.py:297: ConvergenceWarning: Solver terminated early (max_iter=10000).  Consider pre-processing your data with StandardScaler or MinMaxScaler.\n",
      "  warnings.warn(\n"
     ]
    },
    {
     "name": "stdout",
     "output_type": "stream",
     "text": [
      "[CV 1/5] END svc__C=1, svc__gamma=0.1, svc__kernel=rbf; accuracy: (test=0.654) roc_auc: (test=0.600) total time= 2.2min\n"
     ]
    },
    {
     "name": "stderr",
     "output_type": "stream",
     "text": [
      "/home/pochete/studies/2023s2/mo810/mo810-kidney-waitlist/venv/lib/python3.11/site-packages/sklearn/svm/_base.py:297: ConvergenceWarning: Solver terminated early (max_iter=10000).  Consider pre-processing your data with StandardScaler or MinMaxScaler.\n",
      "  warnings.warn(\n"
     ]
    },
    {
     "name": "stdout",
     "output_type": "stream",
     "text": [
      "[CV 2/5] END svc__C=1, svc__gamma=0.1, svc__kernel=rbf; accuracy: (test=0.656) roc_auc: (test=0.600) total time= 2.2min\n"
     ]
    },
    {
     "name": "stderr",
     "output_type": "stream",
     "text": [
      "/home/pochete/studies/2023s2/mo810/mo810-kidney-waitlist/venv/lib/python3.11/site-packages/sklearn/svm/_base.py:297: ConvergenceWarning: Solver terminated early (max_iter=10000).  Consider pre-processing your data with StandardScaler or MinMaxScaler.\n",
      "  warnings.warn(\n"
     ]
    },
    {
     "name": "stdout",
     "output_type": "stream",
     "text": [
      "[CV 3/5] END svc__C=1, svc__gamma=0.1, svc__kernel=rbf; accuracy: (test=0.656) roc_auc: (test=0.612) total time= 2.2min\n"
     ]
    },
    {
     "name": "stderr",
     "output_type": "stream",
     "text": [
      "/home/pochete/studies/2023s2/mo810/mo810-kidney-waitlist/venv/lib/python3.11/site-packages/sklearn/svm/_base.py:297: ConvergenceWarning: Solver terminated early (max_iter=10000).  Consider pre-processing your data with StandardScaler or MinMaxScaler.\n",
      "  warnings.warn(\n"
     ]
    },
    {
     "name": "stdout",
     "output_type": "stream",
     "text": [
      "[CV 4/5] END svc__C=1, svc__gamma=0.1, svc__kernel=rbf; accuracy: (test=0.651) roc_auc: (test=0.616) total time= 2.2min\n"
     ]
    },
    {
     "name": "stderr",
     "output_type": "stream",
     "text": [
      "/home/pochete/studies/2023s2/mo810/mo810-kidney-waitlist/venv/lib/python3.11/site-packages/sklearn/svm/_base.py:297: ConvergenceWarning: Solver terminated early (max_iter=10000).  Consider pre-processing your data with StandardScaler or MinMaxScaler.\n",
      "  warnings.warn(\n"
     ]
    },
    {
     "name": "stdout",
     "output_type": "stream",
     "text": [
      "[CV 5/5] END svc__C=1, svc__gamma=0.1, svc__kernel=rbf; accuracy: (test=0.643) roc_auc: (test=0.603) total time= 2.2min\n"
     ]
    },
    {
     "name": "stderr",
     "output_type": "stream",
     "text": [
      "/home/pochete/studies/2023s2/mo810/mo810-kidney-waitlist/venv/lib/python3.11/site-packages/sklearn/svm/_base.py:297: ConvergenceWarning: Solver terminated early (max_iter=10000).  Consider pre-processing your data with StandardScaler or MinMaxScaler.\n",
      "  warnings.warn(\n"
     ]
    },
    {
     "name": "stdout",
     "output_type": "stream",
     "text": [
      "[CV 1/5] END svc__C=1, svc__gamma=0.1, svc__kernel=sigmoid; accuracy: (test=0.597) roc_auc: (test=0.504) total time= 2.8min\n"
     ]
    },
    {
     "name": "stderr",
     "output_type": "stream",
     "text": [
      "/home/pochete/studies/2023s2/mo810/mo810-kidney-waitlist/venv/lib/python3.11/site-packages/sklearn/svm/_base.py:297: ConvergenceWarning: Solver terminated early (max_iter=10000).  Consider pre-processing your data with StandardScaler or MinMaxScaler.\n",
      "  warnings.warn(\n"
     ]
    },
    {
     "name": "stdout",
     "output_type": "stream",
     "text": [
      "[CV 2/5] END svc__C=1, svc__gamma=0.1, svc__kernel=sigmoid; accuracy: (test=0.587) roc_auc: (test=0.495) total time= 2.8min\n"
     ]
    },
    {
     "name": "stderr",
     "output_type": "stream",
     "text": [
      "/home/pochete/studies/2023s2/mo810/mo810-kidney-waitlist/venv/lib/python3.11/site-packages/sklearn/svm/_base.py:297: ConvergenceWarning: Solver terminated early (max_iter=10000).  Consider pre-processing your data with StandardScaler or MinMaxScaler.\n",
      "  warnings.warn(\n"
     ]
    },
    {
     "name": "stdout",
     "output_type": "stream",
     "text": [
      "[CV 3/5] END svc__C=1, svc__gamma=0.1, svc__kernel=sigmoid; accuracy: (test=0.588) roc_auc: (test=0.497) total time= 2.8min\n"
     ]
    },
    {
     "name": "stderr",
     "output_type": "stream",
     "text": [
      "/home/pochete/studies/2023s2/mo810/mo810-kidney-waitlist/venv/lib/python3.11/site-packages/sklearn/svm/_base.py:297: ConvergenceWarning: Solver terminated early (max_iter=10000).  Consider pre-processing your data with StandardScaler or MinMaxScaler.\n",
      "  warnings.warn(\n"
     ]
    },
    {
     "name": "stdout",
     "output_type": "stream",
     "text": [
      "[CV 4/5] END svc__C=1, svc__gamma=0.1, svc__kernel=sigmoid; accuracy: (test=0.585) roc_auc: (test=0.506) total time= 2.9min\n"
     ]
    },
    {
     "name": "stderr",
     "output_type": "stream",
     "text": [
      "/home/pochete/studies/2023s2/mo810/mo810-kidney-waitlist/venv/lib/python3.11/site-packages/sklearn/svm/_base.py:297: ConvergenceWarning: Solver terminated early (max_iter=10000).  Consider pre-processing your data with StandardScaler or MinMaxScaler.\n",
      "  warnings.warn(\n"
     ]
    },
    {
     "name": "stdout",
     "output_type": "stream",
     "text": [
      "[CV 5/5] END svc__C=1, svc__gamma=0.1, svc__kernel=sigmoid; accuracy: (test=0.596) roc_auc: (test=0.489) total time= 2.8min\n"
     ]
    },
    {
     "name": "stderr",
     "output_type": "stream",
     "text": [
      "/home/pochete/studies/2023s2/mo810/mo810-kidney-waitlist/venv/lib/python3.11/site-packages/sklearn/svm/_base.py:297: ConvergenceWarning: Solver terminated early (max_iter=10000).  Consider pre-processing your data with StandardScaler or MinMaxScaler.\n",
      "  warnings.warn(\n"
     ]
    },
    {
     "name": "stdout",
     "output_type": "stream",
     "text": [
      "[CV 1/5] END svc__C=1, svc__gamma=1, svc__kernel=rbf; accuracy: (test=0.362) roc_auc: (test=0.544) total time= 2.2min\n"
     ]
    },
    {
     "name": "stderr",
     "output_type": "stream",
     "text": [
      "/home/pochete/studies/2023s2/mo810/mo810-kidney-waitlist/venv/lib/python3.11/site-packages/sklearn/svm/_base.py:297: ConvergenceWarning: Solver terminated early (max_iter=10000).  Consider pre-processing your data with StandardScaler or MinMaxScaler.\n",
      "  warnings.warn(\n"
     ]
    },
    {
     "name": "stdout",
     "output_type": "stream",
     "text": [
      "[CV 2/5] END svc__C=1, svc__gamma=1, svc__kernel=rbf; accuracy: (test=0.362) roc_auc: (test=0.555) total time= 2.1min\n"
     ]
    },
    {
     "name": "stderr",
     "output_type": "stream",
     "text": [
      "/home/pochete/studies/2023s2/mo810/mo810-kidney-waitlist/venv/lib/python3.11/site-packages/sklearn/svm/_base.py:297: ConvergenceWarning: Solver terminated early (max_iter=10000).  Consider pre-processing your data with StandardScaler or MinMaxScaler.\n",
      "  warnings.warn(\n"
     ]
    },
    {
     "name": "stdout",
     "output_type": "stream",
     "text": [
      "[CV 3/5] END svc__C=1, svc__gamma=1, svc__kernel=rbf; accuracy: (test=0.363) roc_auc: (test=0.550) total time= 2.2min\n"
     ]
    },
    {
     "name": "stderr",
     "output_type": "stream",
     "text": [
      "/home/pochete/studies/2023s2/mo810/mo810-kidney-waitlist/venv/lib/python3.11/site-packages/sklearn/svm/_base.py:297: ConvergenceWarning: Solver terminated early (max_iter=10000).  Consider pre-processing your data with StandardScaler or MinMaxScaler.\n",
      "  warnings.warn(\n"
     ]
    },
    {
     "name": "stdout",
     "output_type": "stream",
     "text": [
      "[CV 4/5] END svc__C=1, svc__gamma=1, svc__kernel=rbf; accuracy: (test=0.395) roc_auc: (test=0.557) total time= 2.2min\n"
     ]
    },
    {
     "name": "stderr",
     "output_type": "stream",
     "text": [
      "/home/pochete/studies/2023s2/mo810/mo810-kidney-waitlist/venv/lib/python3.11/site-packages/sklearn/svm/_base.py:297: ConvergenceWarning: Solver terminated early (max_iter=10000).  Consider pre-processing your data with StandardScaler or MinMaxScaler.\n",
      "  warnings.warn(\n"
     ]
    },
    {
     "name": "stdout",
     "output_type": "stream",
     "text": [
      "[CV 5/5] END svc__C=1, svc__gamma=1, svc__kernel=rbf; accuracy: (test=0.362) roc_auc: (test=0.547) total time= 2.2min\n"
     ]
    },
    {
     "name": "stderr",
     "output_type": "stream",
     "text": [
      "/home/pochete/studies/2023s2/mo810/mo810-kidney-waitlist/venv/lib/python3.11/site-packages/sklearn/svm/_base.py:297: ConvergenceWarning: Solver terminated early (max_iter=10000).  Consider pre-processing your data with StandardScaler or MinMaxScaler.\n",
      "  warnings.warn(\n"
     ]
    },
    {
     "name": "stdout",
     "output_type": "stream",
     "text": [
      "[CV 1/5] END svc__C=1, svc__gamma=1, svc__kernel=sigmoid; accuracy: (test=0.572) roc_auc: (test=0.503) total time= 3.1min\n"
     ]
    },
    {
     "name": "stderr",
     "output_type": "stream",
     "text": [
      "/home/pochete/studies/2023s2/mo810/mo810-kidney-waitlist/venv/lib/python3.11/site-packages/sklearn/svm/_base.py:297: ConvergenceWarning: Solver terminated early (max_iter=10000).  Consider pre-processing your data with StandardScaler or MinMaxScaler.\n",
      "  warnings.warn(\n"
     ]
    },
    {
     "name": "stdout",
     "output_type": "stream",
     "text": [
      "[CV 2/5] END svc__C=1, svc__gamma=1, svc__kernel=sigmoid; accuracy: (test=0.556) roc_auc: (test=0.502) total time= 3.1min\n"
     ]
    },
    {
     "name": "stderr",
     "output_type": "stream",
     "text": [
      "/home/pochete/studies/2023s2/mo810/mo810-kidney-waitlist/venv/lib/python3.11/site-packages/sklearn/svm/_base.py:297: ConvergenceWarning: Solver terminated early (max_iter=10000).  Consider pre-processing your data with StandardScaler or MinMaxScaler.\n",
      "  warnings.warn(\n"
     ]
    },
    {
     "name": "stdout",
     "output_type": "stream",
     "text": [
      "[CV 3/5] END svc__C=1, svc__gamma=1, svc__kernel=sigmoid; accuracy: (test=0.573) roc_auc: (test=0.509) total time= 3.0min\n"
     ]
    },
    {
     "name": "stderr",
     "output_type": "stream",
     "text": [
      "/home/pochete/studies/2023s2/mo810/mo810-kidney-waitlist/venv/lib/python3.11/site-packages/sklearn/svm/_base.py:297: ConvergenceWarning: Solver terminated early (max_iter=10000).  Consider pre-processing your data with StandardScaler or MinMaxScaler.\n",
      "  warnings.warn(\n"
     ]
    },
    {
     "name": "stdout",
     "output_type": "stream",
     "text": [
      "[CV 4/5] END svc__C=1, svc__gamma=1, svc__kernel=sigmoid; accuracy: (test=0.568) roc_auc: (test=0.517) total time= 3.1min\n"
     ]
    },
    {
     "name": "stderr",
     "output_type": "stream",
     "text": [
      "/home/pochete/studies/2023s2/mo810/mo810-kidney-waitlist/venv/lib/python3.11/site-packages/sklearn/svm/_base.py:297: ConvergenceWarning: Solver terminated early (max_iter=10000).  Consider pre-processing your data with StandardScaler or MinMaxScaler.\n",
      "  warnings.warn(\n"
     ]
    },
    {
     "name": "stdout",
     "output_type": "stream",
     "text": [
      "[CV 5/5] END svc__C=1, svc__gamma=1, svc__kernel=sigmoid; accuracy: (test=0.569) roc_auc: (test=0.511) total time= 3.1min\n"
     ]
    },
    {
     "name": "stderr",
     "output_type": "stream",
     "text": [
      "/home/pochete/studies/2023s2/mo810/mo810-kidney-waitlist/venv/lib/python3.11/site-packages/sklearn/svm/_base.py:297: ConvergenceWarning: Solver terminated early (max_iter=10000).  Consider pre-processing your data with StandardScaler or MinMaxScaler.\n",
      "  warnings.warn(\n"
     ]
    },
    {
     "name": "stdout",
     "output_type": "stream",
     "text": [
      "[CV 1/5] END svc__C=1, svc__gamma=2, svc__kernel=rbf; accuracy: (test=0.568) roc_auc: (test=0.548) total time= 2.3min\n"
     ]
    },
    {
     "name": "stderr",
     "output_type": "stream",
     "text": [
      "/home/pochete/studies/2023s2/mo810/mo810-kidney-waitlist/venv/lib/python3.11/site-packages/sklearn/svm/_base.py:297: ConvergenceWarning: Solver terminated early (max_iter=10000).  Consider pre-processing your data with StandardScaler or MinMaxScaler.\n",
      "  warnings.warn(\n"
     ]
    },
    {
     "name": "stdout",
     "output_type": "stream",
     "text": [
      "[CV 2/5] END svc__C=1, svc__gamma=2, svc__kernel=rbf; accuracy: (test=0.571) roc_auc: (test=0.553) total time= 2.3min\n"
     ]
    },
    {
     "name": "stderr",
     "output_type": "stream",
     "text": [
      "/home/pochete/studies/2023s2/mo810/mo810-kidney-waitlist/venv/lib/python3.11/site-packages/sklearn/svm/_base.py:297: ConvergenceWarning: Solver terminated early (max_iter=10000).  Consider pre-processing your data with StandardScaler or MinMaxScaler.\n",
      "  warnings.warn(\n"
     ]
    },
    {
     "name": "stdout",
     "output_type": "stream",
     "text": [
      "[CV 3/5] END svc__C=1, svc__gamma=2, svc__kernel=rbf; accuracy: (test=0.566) roc_auc: (test=0.558) total time= 2.2min\n"
     ]
    },
    {
     "name": "stderr",
     "output_type": "stream",
     "text": [
      "/home/pochete/studies/2023s2/mo810/mo810-kidney-waitlist/venv/lib/python3.11/site-packages/sklearn/svm/_base.py:297: ConvergenceWarning: Solver terminated early (max_iter=10000).  Consider pre-processing your data with StandardScaler or MinMaxScaler.\n",
      "  warnings.warn(\n"
     ]
    },
    {
     "name": "stdout",
     "output_type": "stream",
     "text": [
      "[CV 4/5] END svc__C=1, svc__gamma=2, svc__kernel=rbf; accuracy: (test=0.569) roc_auc: (test=0.558) total time= 2.2min\n"
     ]
    },
    {
     "name": "stderr",
     "output_type": "stream",
     "text": [
      "/home/pochete/studies/2023s2/mo810/mo810-kidney-waitlist/venv/lib/python3.11/site-packages/sklearn/svm/_base.py:297: ConvergenceWarning: Solver terminated early (max_iter=10000).  Consider pre-processing your data with StandardScaler or MinMaxScaler.\n",
      "  warnings.warn(\n"
     ]
    },
    {
     "name": "stdout",
     "output_type": "stream",
     "text": [
      "[CV 5/5] END svc__C=1, svc__gamma=2, svc__kernel=rbf; accuracy: (test=0.641) roc_auc: (test=0.549) total time= 2.2min\n"
     ]
    },
    {
     "name": "stderr",
     "output_type": "stream",
     "text": [
      "/home/pochete/studies/2023s2/mo810/mo810-kidney-waitlist/venv/lib/python3.11/site-packages/sklearn/svm/_base.py:297: ConvergenceWarning: Solver terminated early (max_iter=10000).  Consider pre-processing your data with StandardScaler or MinMaxScaler.\n",
      "  warnings.warn(\n"
     ]
    },
    {
     "name": "stdout",
     "output_type": "stream",
     "text": [
      "[CV 1/5] END svc__C=1, svc__gamma=2, svc__kernel=sigmoid; accuracy: (test=0.575) roc_auc: (test=0.504) total time= 3.0min\n"
     ]
    },
    {
     "name": "stderr",
     "output_type": "stream",
     "text": [
      "/home/pochete/studies/2023s2/mo810/mo810-kidney-waitlist/venv/lib/python3.11/site-packages/sklearn/svm/_base.py:297: ConvergenceWarning: Solver terminated early (max_iter=10000).  Consider pre-processing your data with StandardScaler or MinMaxScaler.\n",
      "  warnings.warn(\n"
     ]
    },
    {
     "name": "stdout",
     "output_type": "stream",
     "text": [
      "[CV 2/5] END svc__C=1, svc__gamma=2, svc__kernel=sigmoid; accuracy: (test=0.574) roc_auc: (test=0.515) total time= 3.1min\n"
     ]
    },
    {
     "name": "stderr",
     "output_type": "stream",
     "text": [
      "/home/pochete/studies/2023s2/mo810/mo810-kidney-waitlist/venv/lib/python3.11/site-packages/sklearn/svm/_base.py:297: ConvergenceWarning: Solver terminated early (max_iter=10000).  Consider pre-processing your data with StandardScaler or MinMaxScaler.\n",
      "  warnings.warn(\n"
     ]
    },
    {
     "name": "stdout",
     "output_type": "stream",
     "text": [
      "[CV 3/5] END svc__C=1, svc__gamma=2, svc__kernel=sigmoid; accuracy: (test=0.583) roc_auc: (test=0.515) total time= 3.0min\n"
     ]
    },
    {
     "name": "stderr",
     "output_type": "stream",
     "text": [
      "/home/pochete/studies/2023s2/mo810/mo810-kidney-waitlist/venv/lib/python3.11/site-packages/sklearn/svm/_base.py:297: ConvergenceWarning: Solver terminated early (max_iter=10000).  Consider pre-processing your data with StandardScaler or MinMaxScaler.\n",
      "  warnings.warn(\n"
     ]
    },
    {
     "name": "stdout",
     "output_type": "stream",
     "text": [
      "[CV 4/5] END svc__C=1, svc__gamma=2, svc__kernel=sigmoid; accuracy: (test=0.580) roc_auc: (test=0.517) total time= 3.1min\n"
     ]
    },
    {
     "name": "stderr",
     "output_type": "stream",
     "text": [
      "/home/pochete/studies/2023s2/mo810/mo810-kidney-waitlist/venv/lib/python3.11/site-packages/sklearn/svm/_base.py:297: ConvergenceWarning: Solver terminated early (max_iter=10000).  Consider pre-processing your data with StandardScaler or MinMaxScaler.\n",
      "  warnings.warn(\n"
     ]
    },
    {
     "name": "stdout",
     "output_type": "stream",
     "text": [
      "[CV 5/5] END svc__C=1, svc__gamma=2, svc__kernel=sigmoid; accuracy: (test=0.573) roc_auc: (test=0.507) total time= 3.0min\n"
     ]
    },
    {
     "name": "stderr",
     "output_type": "stream",
     "text": [
      "/home/pochete/studies/2023s2/mo810/mo810-kidney-waitlist/venv/lib/python3.11/site-packages/sklearn/svm/_base.py:297: ConvergenceWarning: Solver terminated early (max_iter=10000).  Consider pre-processing your data with StandardScaler or MinMaxScaler.\n",
      "  warnings.warn(\n"
     ]
    },
    {
     "name": "stdout",
     "output_type": "stream",
     "text": [
      "[CV 1/5] END svc__C=10, svc__gamma=scale, svc__kernel=rbf; accuracy: (test=0.629) roc_auc: (test=0.553) total time= 1.6min\n"
     ]
    },
    {
     "name": "stderr",
     "output_type": "stream",
     "text": [
      "/home/pochete/studies/2023s2/mo810/mo810-kidney-waitlist/venv/lib/python3.11/site-packages/sklearn/svm/_base.py:297: ConvergenceWarning: Solver terminated early (max_iter=10000).  Consider pre-processing your data with StandardScaler or MinMaxScaler.\n",
      "  warnings.warn(\n"
     ]
    },
    {
     "name": "stdout",
     "output_type": "stream",
     "text": [
      "[CV 2/5] END svc__C=10, svc__gamma=scale, svc__kernel=rbf; accuracy: (test=0.622) roc_auc: (test=0.558) total time= 1.6min\n"
     ]
    },
    {
     "name": "stderr",
     "output_type": "stream",
     "text": [
      "/home/pochete/studies/2023s2/mo810/mo810-kidney-waitlist/venv/lib/python3.11/site-packages/sklearn/svm/_base.py:297: ConvergenceWarning: Solver terminated early (max_iter=10000).  Consider pre-processing your data with StandardScaler or MinMaxScaler.\n",
      "  warnings.warn(\n"
     ]
    },
    {
     "name": "stdout",
     "output_type": "stream",
     "text": [
      "[CV 3/5] END svc__C=10, svc__gamma=scale, svc__kernel=rbf; accuracy: (test=0.637) roc_auc: (test=0.560) total time= 1.6min\n"
     ]
    },
    {
     "name": "stderr",
     "output_type": "stream",
     "text": [
      "/home/pochete/studies/2023s2/mo810/mo810-kidney-waitlist/venv/lib/python3.11/site-packages/sklearn/svm/_base.py:297: ConvergenceWarning: Solver terminated early (max_iter=10000).  Consider pre-processing your data with StandardScaler or MinMaxScaler.\n",
      "  warnings.warn(\n"
     ]
    },
    {
     "name": "stdout",
     "output_type": "stream",
     "text": [
      "[CV 4/5] END svc__C=10, svc__gamma=scale, svc__kernel=rbf; accuracy: (test=0.650) roc_auc: (test=0.581) total time= 1.6min\n"
     ]
    },
    {
     "name": "stderr",
     "output_type": "stream",
     "text": [
      "/home/pochete/studies/2023s2/mo810/mo810-kidney-waitlist/venv/lib/python3.11/site-packages/sklearn/svm/_base.py:297: ConvergenceWarning: Solver terminated early (max_iter=10000).  Consider pre-processing your data with StandardScaler or MinMaxScaler.\n",
      "  warnings.warn(\n"
     ]
    },
    {
     "name": "stdout",
     "output_type": "stream",
     "text": [
      "[CV 5/5] END svc__C=10, svc__gamma=scale, svc__kernel=rbf; accuracy: (test=0.636) roc_auc: (test=0.560) total time= 1.6min\n"
     ]
    },
    {
     "name": "stderr",
     "output_type": "stream",
     "text": [
      "/home/pochete/studies/2023s2/mo810/mo810-kidney-waitlist/venv/lib/python3.11/site-packages/sklearn/svm/_base.py:297: ConvergenceWarning: Solver terminated early (max_iter=10000).  Consider pre-processing your data with StandardScaler or MinMaxScaler.\n",
      "  warnings.warn(\n"
     ]
    },
    {
     "name": "stdout",
     "output_type": "stream",
     "text": [
      "[CV 1/5] END svc__C=10, svc__gamma=scale, svc__kernel=sigmoid; accuracy: (test=0.570) roc_auc: (test=0.497) total time= 2.6min\n"
     ]
    },
    {
     "name": "stderr",
     "output_type": "stream",
     "text": [
      "/home/pochete/studies/2023s2/mo810/mo810-kidney-waitlist/venv/lib/python3.11/site-packages/sklearn/svm/_base.py:297: ConvergenceWarning: Solver terminated early (max_iter=10000).  Consider pre-processing your data with StandardScaler or MinMaxScaler.\n",
      "  warnings.warn(\n"
     ]
    },
    {
     "name": "stdout",
     "output_type": "stream",
     "text": [
      "[CV 2/5] END svc__C=10, svc__gamma=scale, svc__kernel=sigmoid; accuracy: (test=0.574) roc_auc: (test=0.489) total time= 2.5min\n"
     ]
    },
    {
     "name": "stderr",
     "output_type": "stream",
     "text": [
      "/home/pochete/studies/2023s2/mo810/mo810-kidney-waitlist/venv/lib/python3.11/site-packages/sklearn/svm/_base.py:297: ConvergenceWarning: Solver terminated early (max_iter=10000).  Consider pre-processing your data with StandardScaler or MinMaxScaler.\n",
      "  warnings.warn(\n"
     ]
    },
    {
     "name": "stdout",
     "output_type": "stream",
     "text": [
      "[CV 3/5] END svc__C=10, svc__gamma=scale, svc__kernel=sigmoid; accuracy: (test=0.580) roc_auc: (test=0.503) total time= 2.5min\n"
     ]
    },
    {
     "name": "stderr",
     "output_type": "stream",
     "text": [
      "/home/pochete/studies/2023s2/mo810/mo810-kidney-waitlist/venv/lib/python3.11/site-packages/sklearn/svm/_base.py:297: ConvergenceWarning: Solver terminated early (max_iter=10000).  Consider pre-processing your data with StandardScaler or MinMaxScaler.\n",
      "  warnings.warn(\n"
     ]
    },
    {
     "name": "stdout",
     "output_type": "stream",
     "text": [
      "[CV 4/5] END svc__C=10, svc__gamma=scale, svc__kernel=sigmoid; accuracy: (test=0.580) roc_auc: (test=0.502) total time= 2.6min\n"
     ]
    },
    {
     "name": "stderr",
     "output_type": "stream",
     "text": [
      "/home/pochete/studies/2023s2/mo810/mo810-kidney-waitlist/venv/lib/python3.11/site-packages/sklearn/svm/_base.py:297: ConvergenceWarning: Solver terminated early (max_iter=10000).  Consider pre-processing your data with StandardScaler or MinMaxScaler.\n",
      "  warnings.warn(\n"
     ]
    },
    {
     "name": "stdout",
     "output_type": "stream",
     "text": [
      "[CV 5/5] END svc__C=10, svc__gamma=scale, svc__kernel=sigmoid; accuracy: (test=0.580) roc_auc: (test=0.496) total time= 2.6min\n"
     ]
    },
    {
     "name": "stderr",
     "output_type": "stream",
     "text": [
      "/home/pochete/studies/2023s2/mo810/mo810-kidney-waitlist/venv/lib/python3.11/site-packages/sklearn/svm/_base.py:297: ConvergenceWarning: Solver terminated early (max_iter=10000).  Consider pre-processing your data with StandardScaler or MinMaxScaler.\n",
      "  warnings.warn(\n"
     ]
    },
    {
     "name": "stdout",
     "output_type": "stream",
     "text": [
      "[CV 1/5] END svc__C=10, svc__gamma=0.1, svc__kernel=rbf; accuracy: (test=0.579) roc_auc: (test=0.599) total time= 2.1min\n"
     ]
    },
    {
     "name": "stderr",
     "output_type": "stream",
     "text": [
      "/home/pochete/studies/2023s2/mo810/mo810-kidney-waitlist/venv/lib/python3.11/site-packages/sklearn/svm/_base.py:297: ConvergenceWarning: Solver terminated early (max_iter=10000).  Consider pre-processing your data with StandardScaler or MinMaxScaler.\n",
      "  warnings.warn(\n"
     ]
    },
    {
     "name": "stdout",
     "output_type": "stream",
     "text": [
      "[CV 2/5] END svc__C=10, svc__gamma=0.1, svc__kernel=rbf; accuracy: (test=0.579) roc_auc: (test=0.592) total time= 2.2min\n"
     ]
    },
    {
     "name": "stderr",
     "output_type": "stream",
     "text": [
      "/home/pochete/studies/2023s2/mo810/mo810-kidney-waitlist/venv/lib/python3.11/site-packages/sklearn/svm/_base.py:297: ConvergenceWarning: Solver terminated early (max_iter=10000).  Consider pre-processing your data with StandardScaler or MinMaxScaler.\n",
      "  warnings.warn(\n"
     ]
    },
    {
     "name": "stdout",
     "output_type": "stream",
     "text": [
      "[CV 3/5] END svc__C=10, svc__gamma=0.1, svc__kernel=rbf; accuracy: (test=0.585) roc_auc: (test=0.607) total time= 2.1min\n"
     ]
    },
    {
     "name": "stderr",
     "output_type": "stream",
     "text": [
      "/home/pochete/studies/2023s2/mo810/mo810-kidney-waitlist/venv/lib/python3.11/site-packages/sklearn/svm/_base.py:297: ConvergenceWarning: Solver terminated early (max_iter=10000).  Consider pre-processing your data with StandardScaler or MinMaxScaler.\n",
      "  warnings.warn(\n"
     ]
    },
    {
     "name": "stdout",
     "output_type": "stream",
     "text": [
      "[CV 4/5] END svc__C=10, svc__gamma=0.1, svc__kernel=rbf; accuracy: (test=0.590) roc_auc: (test=0.613) total time= 2.1min\n"
     ]
    },
    {
     "name": "stderr",
     "output_type": "stream",
     "text": [
      "/home/pochete/studies/2023s2/mo810/mo810-kidney-waitlist/venv/lib/python3.11/site-packages/sklearn/svm/_base.py:297: ConvergenceWarning: Solver terminated early (max_iter=10000).  Consider pre-processing your data with StandardScaler or MinMaxScaler.\n",
      "  warnings.warn(\n"
     ]
    },
    {
     "name": "stdout",
     "output_type": "stream",
     "text": [
      "[CV 5/5] END svc__C=10, svc__gamma=0.1, svc__kernel=rbf; accuracy: (test=0.587) roc_auc: (test=0.608) total time= 2.2min\n"
     ]
    },
    {
     "name": "stderr",
     "output_type": "stream",
     "text": [
      "/home/pochete/studies/2023s2/mo810/mo810-kidney-waitlist/venv/lib/python3.11/site-packages/sklearn/svm/_base.py:297: ConvergenceWarning: Solver terminated early (max_iter=10000).  Consider pre-processing your data with StandardScaler or MinMaxScaler.\n",
      "  warnings.warn(\n"
     ]
    },
    {
     "name": "stdout",
     "output_type": "stream",
     "text": [
      "[CV 1/5] END svc__C=10, svc__gamma=0.1, svc__kernel=sigmoid; accuracy: (test=0.592) roc_auc: (test=0.496) total time= 2.8min\n"
     ]
    },
    {
     "name": "stderr",
     "output_type": "stream",
     "text": [
      "/home/pochete/studies/2023s2/mo810/mo810-kidney-waitlist/venv/lib/python3.11/site-packages/sklearn/svm/_base.py:297: ConvergenceWarning: Solver terminated early (max_iter=10000).  Consider pre-processing your data with StandardScaler or MinMaxScaler.\n",
      "  warnings.warn(\n"
     ]
    },
    {
     "name": "stdout",
     "output_type": "stream",
     "text": [
      "[CV 2/5] END svc__C=10, svc__gamma=0.1, svc__kernel=sigmoid; accuracy: (test=0.584) roc_auc: (test=0.490) total time= 2.7min\n"
     ]
    },
    {
     "name": "stderr",
     "output_type": "stream",
     "text": [
      "/home/pochete/studies/2023s2/mo810/mo810-kidney-waitlist/venv/lib/python3.11/site-packages/sklearn/svm/_base.py:297: ConvergenceWarning: Solver terminated early (max_iter=10000).  Consider pre-processing your data with StandardScaler or MinMaxScaler.\n",
      "  warnings.warn(\n"
     ]
    },
    {
     "name": "stdout",
     "output_type": "stream",
     "text": [
      "[CV 3/5] END svc__C=10, svc__gamma=0.1, svc__kernel=sigmoid; accuracy: (test=0.583) roc_auc: (test=0.500) total time= 2.7min\n"
     ]
    },
    {
     "name": "stderr",
     "output_type": "stream",
     "text": [
      "/home/pochete/studies/2023s2/mo810/mo810-kidney-waitlist/venv/lib/python3.11/site-packages/sklearn/svm/_base.py:297: ConvergenceWarning: Solver terminated early (max_iter=10000).  Consider pre-processing your data with StandardScaler or MinMaxScaler.\n",
      "  warnings.warn(\n"
     ]
    },
    {
     "name": "stdout",
     "output_type": "stream",
     "text": [
      "[CV 4/5] END svc__C=10, svc__gamma=0.1, svc__kernel=sigmoid; accuracy: (test=0.588) roc_auc: (test=0.495) total time= 2.7min\n"
     ]
    },
    {
     "name": "stderr",
     "output_type": "stream",
     "text": [
      "/home/pochete/studies/2023s2/mo810/mo810-kidney-waitlist/venv/lib/python3.11/site-packages/sklearn/svm/_base.py:297: ConvergenceWarning: Solver terminated early (max_iter=10000).  Consider pre-processing your data with StandardScaler or MinMaxScaler.\n",
      "  warnings.warn(\n"
     ]
    },
    {
     "name": "stdout",
     "output_type": "stream",
     "text": [
      "[CV 5/5] END svc__C=10, svc__gamma=0.1, svc__kernel=sigmoid; accuracy: (test=0.593) roc_auc: (test=0.496) total time= 2.7min\n"
     ]
    },
    {
     "name": "stderr",
     "output_type": "stream",
     "text": [
      "/home/pochete/studies/2023s2/mo810/mo810-kidney-waitlist/venv/lib/python3.11/site-packages/sklearn/svm/_base.py:297: ConvergenceWarning: Solver terminated early (max_iter=10000).  Consider pre-processing your data with StandardScaler or MinMaxScaler.\n",
      "  warnings.warn(\n"
     ]
    },
    {
     "name": "stdout",
     "output_type": "stream",
     "text": [
      "[CV 1/5] END svc__C=10, svc__gamma=1, svc__kernel=rbf; accuracy: (test=0.672) roc_auc: (test=0.543) total time= 2.2min\n"
     ]
    },
    {
     "name": "stderr",
     "output_type": "stream",
     "text": [
      "/home/pochete/studies/2023s2/mo810/mo810-kidney-waitlist/venv/lib/python3.11/site-packages/sklearn/svm/_base.py:297: ConvergenceWarning: Solver terminated early (max_iter=10000).  Consider pre-processing your data with StandardScaler or MinMaxScaler.\n",
      "  warnings.warn(\n"
     ]
    },
    {
     "name": "stdout",
     "output_type": "stream",
     "text": [
      "[CV 2/5] END svc__C=10, svc__gamma=1, svc__kernel=rbf; accuracy: (test=0.672) roc_auc: (test=0.555) total time= 2.2min\n"
     ]
    },
    {
     "name": "stderr",
     "output_type": "stream",
     "text": [
      "/home/pochete/studies/2023s2/mo810/mo810-kidney-waitlist/venv/lib/python3.11/site-packages/sklearn/svm/_base.py:297: ConvergenceWarning: Solver terminated early (max_iter=10000).  Consider pre-processing your data with StandardScaler or MinMaxScaler.\n",
      "  warnings.warn(\n"
     ]
    },
    {
     "name": "stdout",
     "output_type": "stream",
     "text": [
      "[CV 3/5] END svc__C=10, svc__gamma=1, svc__kernel=rbf; accuracy: (test=0.356) roc_auc: (test=0.550) total time= 2.1min\n"
     ]
    },
    {
     "name": "stderr",
     "output_type": "stream",
     "text": [
      "/home/pochete/studies/2023s2/mo810/mo810-kidney-waitlist/venv/lib/python3.11/site-packages/sklearn/svm/_base.py:297: ConvergenceWarning: Solver terminated early (max_iter=10000).  Consider pre-processing your data with StandardScaler or MinMaxScaler.\n",
      "  warnings.warn(\n"
     ]
    },
    {
     "name": "stdout",
     "output_type": "stream",
     "text": [
      "[CV 4/5] END svc__C=10, svc__gamma=1, svc__kernel=rbf; accuracy: (test=0.671) roc_auc: (test=0.557) total time= 2.2min\n"
     ]
    },
    {
     "name": "stderr",
     "output_type": "stream",
     "text": [
      "/home/pochete/studies/2023s2/mo810/mo810-kidney-waitlist/venv/lib/python3.11/site-packages/sklearn/svm/_base.py:297: ConvergenceWarning: Solver terminated early (max_iter=10000).  Consider pre-processing your data with StandardScaler or MinMaxScaler.\n",
      "  warnings.warn(\n"
     ]
    },
    {
     "name": "stdout",
     "output_type": "stream",
     "text": [
      "[CV 5/5] END svc__C=10, svc__gamma=1, svc__kernel=rbf; accuracy: (test=0.674) roc_auc: (test=0.546) total time= 2.2min\n"
     ]
    },
    {
     "name": "stderr",
     "output_type": "stream",
     "text": [
      "/home/pochete/studies/2023s2/mo810/mo810-kidney-waitlist/venv/lib/python3.11/site-packages/sklearn/svm/_base.py:297: ConvergenceWarning: Solver terminated early (max_iter=10000).  Consider pre-processing your data with StandardScaler or MinMaxScaler.\n",
      "  warnings.warn(\n"
     ]
    },
    {
     "name": "stdout",
     "output_type": "stream",
     "text": [
      "[CV 1/5] END svc__C=10, svc__gamma=1, svc__kernel=sigmoid; accuracy: (test=0.574) roc_auc: (test=0.503) total time= 3.0min\n"
     ]
    },
    {
     "name": "stderr",
     "output_type": "stream",
     "text": [
      "/home/pochete/studies/2023s2/mo810/mo810-kidney-waitlist/venv/lib/python3.11/site-packages/sklearn/svm/_base.py:297: ConvergenceWarning: Solver terminated early (max_iter=10000).  Consider pre-processing your data with StandardScaler or MinMaxScaler.\n",
      "  warnings.warn(\n"
     ]
    },
    {
     "name": "stdout",
     "output_type": "stream",
     "text": [
      "[CV 2/5] END svc__C=10, svc__gamma=1, svc__kernel=sigmoid; accuracy: (test=0.553) roc_auc: (test=0.502) total time= 3.1min\n"
     ]
    },
    {
     "name": "stderr",
     "output_type": "stream",
     "text": [
      "/home/pochete/studies/2023s2/mo810/mo810-kidney-waitlist/venv/lib/python3.11/site-packages/sklearn/svm/_base.py:297: ConvergenceWarning: Solver terminated early (max_iter=10000).  Consider pre-processing your data with StandardScaler or MinMaxScaler.\n",
      "  warnings.warn(\n"
     ]
    },
    {
     "name": "stdout",
     "output_type": "stream",
     "text": [
      "[CV 3/5] END svc__C=10, svc__gamma=1, svc__kernel=sigmoid; accuracy: (test=0.572) roc_auc: (test=0.509) total time= 3.0min\n"
     ]
    },
    {
     "name": "stderr",
     "output_type": "stream",
     "text": [
      "/home/pochete/studies/2023s2/mo810/mo810-kidney-waitlist/venv/lib/python3.11/site-packages/sklearn/svm/_base.py:297: ConvergenceWarning: Solver terminated early (max_iter=10000).  Consider pre-processing your data with StandardScaler or MinMaxScaler.\n",
      "  warnings.warn(\n"
     ]
    },
    {
     "name": "stdout",
     "output_type": "stream",
     "text": [
      "[CV 4/5] END svc__C=10, svc__gamma=1, svc__kernel=sigmoid; accuracy: (test=0.572) roc_auc: (test=0.516) total time= 3.1min\n"
     ]
    },
    {
     "name": "stderr",
     "output_type": "stream",
     "text": [
      "/home/pochete/studies/2023s2/mo810/mo810-kidney-waitlist/venv/lib/python3.11/site-packages/sklearn/svm/_base.py:297: ConvergenceWarning: Solver terminated early (max_iter=10000).  Consider pre-processing your data with StandardScaler or MinMaxScaler.\n",
      "  warnings.warn(\n"
     ]
    },
    {
     "name": "stdout",
     "output_type": "stream",
     "text": [
      "[CV 5/5] END svc__C=10, svc__gamma=1, svc__kernel=sigmoid; accuracy: (test=0.570) roc_auc: (test=0.510) total time= 3.1min\n"
     ]
    },
    {
     "name": "stderr",
     "output_type": "stream",
     "text": [
      "/home/pochete/studies/2023s2/mo810/mo810-kidney-waitlist/venv/lib/python3.11/site-packages/sklearn/svm/_base.py:297: ConvergenceWarning: Solver terminated early (max_iter=10000).  Consider pre-processing your data with StandardScaler or MinMaxScaler.\n",
      "  warnings.warn(\n"
     ]
    },
    {
     "name": "stdout",
     "output_type": "stream",
     "text": [
      "[CV 1/5] END svc__C=10, svc__gamma=2, svc__kernel=rbf; accuracy: (test=0.324) roc_auc: (test=0.542) total time= 2.2min\n"
     ]
    },
    {
     "name": "stderr",
     "output_type": "stream",
     "text": [
      "/home/pochete/studies/2023s2/mo810/mo810-kidney-waitlist/venv/lib/python3.11/site-packages/sklearn/svm/_base.py:297: ConvergenceWarning: Solver terminated early (max_iter=10000).  Consider pre-processing your data with StandardScaler or MinMaxScaler.\n",
      "  warnings.warn(\n"
     ]
    },
    {
     "name": "stdout",
     "output_type": "stream",
     "text": [
      "[CV 2/5] END svc__C=10, svc__gamma=2, svc__kernel=rbf; accuracy: (test=0.323) roc_auc: (test=0.547) total time= 2.2min\n"
     ]
    },
    {
     "name": "stderr",
     "output_type": "stream",
     "text": [
      "/home/pochete/studies/2023s2/mo810/mo810-kidney-waitlist/venv/lib/python3.11/site-packages/sklearn/svm/_base.py:297: ConvergenceWarning: Solver terminated early (max_iter=10000).  Consider pre-processing your data with StandardScaler or MinMaxScaler.\n",
      "  warnings.warn(\n"
     ]
    },
    {
     "name": "stdout",
     "output_type": "stream",
     "text": [
      "[CV 3/5] END svc__C=10, svc__gamma=2, svc__kernel=rbf; accuracy: (test=0.324) roc_auc: (test=0.554) total time= 2.2min\n"
     ]
    },
    {
     "name": "stderr",
     "output_type": "stream",
     "text": [
      "/home/pochete/studies/2023s2/mo810/mo810-kidney-waitlist/venv/lib/python3.11/site-packages/sklearn/svm/_base.py:297: ConvergenceWarning: Solver terminated early (max_iter=10000).  Consider pre-processing your data with StandardScaler or MinMaxScaler.\n",
      "  warnings.warn(\n"
     ]
    },
    {
     "name": "stdout",
     "output_type": "stream",
     "text": [
      "[CV 4/5] END svc__C=10, svc__gamma=2, svc__kernel=rbf; accuracy: (test=0.326) roc_auc: (test=0.554) total time= 2.2min\n"
     ]
    },
    {
     "name": "stderr",
     "output_type": "stream",
     "text": [
      "/home/pochete/studies/2023s2/mo810/mo810-kidney-waitlist/venv/lib/python3.11/site-packages/sklearn/svm/_base.py:297: ConvergenceWarning: Solver terminated early (max_iter=10000).  Consider pre-processing your data with StandardScaler or MinMaxScaler.\n",
      "  warnings.warn(\n"
     ]
    },
    {
     "name": "stdout",
     "output_type": "stream",
     "text": [
      "[CV 5/5] END svc__C=10, svc__gamma=2, svc__kernel=rbf; accuracy: (test=0.322) roc_auc: (test=0.545) total time= 2.2min\n"
     ]
    },
    {
     "name": "stderr",
     "output_type": "stream",
     "text": [
      "/home/pochete/studies/2023s2/mo810/mo810-kidney-waitlist/venv/lib/python3.11/site-packages/sklearn/svm/_base.py:297: ConvergenceWarning: Solver terminated early (max_iter=10000).  Consider pre-processing your data with StandardScaler or MinMaxScaler.\n",
      "  warnings.warn(\n"
     ]
    },
    {
     "name": "stdout",
     "output_type": "stream",
     "text": [
      "[CV 1/5] END svc__C=10, svc__gamma=2, svc__kernel=sigmoid; accuracy: (test=0.574) roc_auc: (test=0.504) total time= 3.0min\n"
     ]
    },
    {
     "name": "stderr",
     "output_type": "stream",
     "text": [
      "/home/pochete/studies/2023s2/mo810/mo810-kidney-waitlist/venv/lib/python3.11/site-packages/sklearn/svm/_base.py:297: ConvergenceWarning: Solver terminated early (max_iter=10000).  Consider pre-processing your data with StandardScaler or MinMaxScaler.\n",
      "  warnings.warn(\n"
     ]
    },
    {
     "name": "stdout",
     "output_type": "stream",
     "text": [
      "[CV 2/5] END svc__C=10, svc__gamma=2, svc__kernel=sigmoid; accuracy: (test=0.573) roc_auc: (test=0.514) total time= 3.0min\n"
     ]
    },
    {
     "name": "stderr",
     "output_type": "stream",
     "text": [
      "/home/pochete/studies/2023s2/mo810/mo810-kidney-waitlist/venv/lib/python3.11/site-packages/sklearn/svm/_base.py:297: ConvergenceWarning: Solver terminated early (max_iter=10000).  Consider pre-processing your data with StandardScaler or MinMaxScaler.\n",
      "  warnings.warn(\n"
     ]
    },
    {
     "name": "stdout",
     "output_type": "stream",
     "text": [
      "[CV 3/5] END svc__C=10, svc__gamma=2, svc__kernel=sigmoid; accuracy: (test=0.573) roc_auc: (test=0.519) total time= 3.0min\n"
     ]
    },
    {
     "name": "stderr",
     "output_type": "stream",
     "text": [
      "/home/pochete/studies/2023s2/mo810/mo810-kidney-waitlist/venv/lib/python3.11/site-packages/sklearn/svm/_base.py:297: ConvergenceWarning: Solver terminated early (max_iter=10000).  Consider pre-processing your data with StandardScaler or MinMaxScaler.\n",
      "  warnings.warn(\n"
     ]
    },
    {
     "name": "stdout",
     "output_type": "stream",
     "text": [
      "[CV 4/5] END svc__C=10, svc__gamma=2, svc__kernel=sigmoid; accuracy: (test=0.579) roc_auc: (test=0.517) total time= 3.0min\n"
     ]
    },
    {
     "name": "stderr",
     "output_type": "stream",
     "text": [
      "/home/pochete/studies/2023s2/mo810/mo810-kidney-waitlist/venv/lib/python3.11/site-packages/sklearn/svm/_base.py:297: ConvergenceWarning: Solver terminated early (max_iter=10000).  Consider pre-processing your data with StandardScaler or MinMaxScaler.\n",
      "  warnings.warn(\n"
     ]
    },
    {
     "name": "stdout",
     "output_type": "stream",
     "text": [
      "[CV 5/5] END svc__C=10, svc__gamma=2, svc__kernel=sigmoid; accuracy: (test=0.573) roc_auc: (test=0.498) total time= 3.0min\n"
     ]
    },
    {
     "name": "stderr",
     "output_type": "stream",
     "text": [
      "/home/pochete/studies/2023s2/mo810/mo810-kidney-waitlist/venv/lib/python3.11/site-packages/sklearn/svm/_base.py:297: ConvergenceWarning: Solver terminated early (max_iter=10000).  Consider pre-processing your data with StandardScaler or MinMaxScaler.\n",
      "  warnings.warn(\n"
     ]
    },
    {
     "data": {
      "text/html": [
       "<style>#sk-container-id-2 {color: black;}#sk-container-id-2 pre{padding: 0;}#sk-container-id-2 div.sk-toggleable {background-color: white;}#sk-container-id-2 label.sk-toggleable__label {cursor: pointer;display: block;width: 100%;margin-bottom: 0;padding: 0.3em;box-sizing: border-box;text-align: center;}#sk-container-id-2 label.sk-toggleable__label-arrow:before {content: \"▸\";float: left;margin-right: 0.25em;color: #696969;}#sk-container-id-2 label.sk-toggleable__label-arrow:hover:before {color: black;}#sk-container-id-2 div.sk-estimator:hover label.sk-toggleable__label-arrow:before {color: black;}#sk-container-id-2 div.sk-toggleable__content {max-height: 0;max-width: 0;overflow: hidden;text-align: left;background-color: #f0f8ff;}#sk-container-id-2 div.sk-toggleable__content pre {margin: 0.2em;color: black;border-radius: 0.25em;background-color: #f0f8ff;}#sk-container-id-2 input.sk-toggleable__control:checked~div.sk-toggleable__content {max-height: 200px;max-width: 100%;overflow: auto;}#sk-container-id-2 input.sk-toggleable__control:checked~label.sk-toggleable__label-arrow:before {content: \"▾\";}#sk-container-id-2 div.sk-estimator input.sk-toggleable__control:checked~label.sk-toggleable__label {background-color: #d4ebff;}#sk-container-id-2 div.sk-label input.sk-toggleable__control:checked~label.sk-toggleable__label {background-color: #d4ebff;}#sk-container-id-2 input.sk-hidden--visually {border: 0;clip: rect(1px 1px 1px 1px);clip: rect(1px, 1px, 1px, 1px);height: 1px;margin: -1px;overflow: hidden;padding: 0;position: absolute;width: 1px;}#sk-container-id-2 div.sk-estimator {font-family: monospace;background-color: #f0f8ff;border: 1px dotted black;border-radius: 0.25em;box-sizing: border-box;margin-bottom: 0.5em;}#sk-container-id-2 div.sk-estimator:hover {background-color: #d4ebff;}#sk-container-id-2 div.sk-parallel-item::after {content: \"\";width: 100%;border-bottom: 1px solid gray;flex-grow: 1;}#sk-container-id-2 div.sk-label:hover label.sk-toggleable__label {background-color: #d4ebff;}#sk-container-id-2 div.sk-serial::before {content: \"\";position: absolute;border-left: 1px solid gray;box-sizing: border-box;top: 0;bottom: 0;left: 50%;z-index: 0;}#sk-container-id-2 div.sk-serial {display: flex;flex-direction: column;align-items: center;background-color: white;padding-right: 0.2em;padding-left: 0.2em;position: relative;}#sk-container-id-2 div.sk-item {position: relative;z-index: 1;}#sk-container-id-2 div.sk-parallel {display: flex;align-items: stretch;justify-content: center;background-color: white;position: relative;}#sk-container-id-2 div.sk-item::before, #sk-container-id-2 div.sk-parallel-item::before {content: \"\";position: absolute;border-left: 1px solid gray;box-sizing: border-box;top: 0;bottom: 0;left: 50%;z-index: -1;}#sk-container-id-2 div.sk-parallel-item {display: flex;flex-direction: column;z-index: 1;position: relative;background-color: white;}#sk-container-id-2 div.sk-parallel-item:first-child::after {align-self: flex-end;width: 50%;}#sk-container-id-2 div.sk-parallel-item:last-child::after {align-self: flex-start;width: 50%;}#sk-container-id-2 div.sk-parallel-item:only-child::after {width: 0;}#sk-container-id-2 div.sk-dashed-wrapped {border: 1px dashed gray;margin: 0 0.4em 0.5em 0.4em;box-sizing: border-box;padding-bottom: 0.4em;background-color: white;}#sk-container-id-2 div.sk-label label {font-family: monospace;font-weight: bold;display: inline-block;line-height: 1.2em;}#sk-container-id-2 div.sk-label-container {text-align: center;}#sk-container-id-2 div.sk-container {/* jupyter's `normalize.less` sets `[hidden] { display: none; }` but bootstrap.min.css set `[hidden] { display: none !important; }` so we also need the `!important` here to be able to override the default hidden behavior on the sphinx rendered scikit-learn.org. See: https://github.com/scikit-learn/scikit-learn/issues/21755 */display: inline-block !important;position: relative;}#sk-container-id-2 div.sk-text-repr-fallback {display: none;}</style><div id=\"sk-container-id-2\" class=\"sk-top-container\"><div class=\"sk-text-repr-fallback\"><pre>GridSearchCV(estimator=Pipeline(steps=[(&#x27;scaler&#x27;, StandardScaler()),\n",
       "                                       (&#x27;svc&#x27;,\n",
       "                                        SVC(cache_size=2000, max_iter=10000,\n",
       "                                            random_state=1729))]),\n",
       "             param_grid=[{&#x27;svc__C&#x27;: [1, 10], &#x27;svc__coef0&#x27;: [0, -1, 1],\n",
       "                          &#x27;svc__degree&#x27;: [3, 5],\n",
       "                          &#x27;svc__gamma&#x27;: [&#x27;scale&#x27;, 0.1, 1, 2],\n",
       "                          &#x27;svc__kernel&#x27;: [&#x27;poly&#x27;]},\n",
       "                         {&#x27;svc__C&#x27;: [1, 10], &#x27;svc__gamma&#x27;: [&#x27;scale&#x27;, 0.1, 1, 2],\n",
       "                          &#x27;svc__kernel&#x27;: [&#x27;rbf&#x27;, &#x27;sigmoid&#x27;]}],\n",
       "             refit=&#x27;roc_auc&#x27;, scoring=(&#x27;roc_auc&#x27;, &#x27;accuracy&#x27;), verbose=4)</pre><b>In a Jupyter environment, please rerun this cell to show the HTML representation or trust the notebook. <br />On GitHub, the HTML representation is unable to render, please try loading this page with nbviewer.org.</b></div><div class=\"sk-container\" hidden><div class=\"sk-item sk-dashed-wrapped\"><div class=\"sk-label-container\"><div class=\"sk-label sk-toggleable\"><input class=\"sk-toggleable__control sk-hidden--visually\" id=\"sk-estimator-id-2\" type=\"checkbox\" ><label for=\"sk-estimator-id-2\" class=\"sk-toggleable__label sk-toggleable__label-arrow\">GridSearchCV</label><div class=\"sk-toggleable__content\"><pre>GridSearchCV(estimator=Pipeline(steps=[(&#x27;scaler&#x27;, StandardScaler()),\n",
       "                                       (&#x27;svc&#x27;,\n",
       "                                        SVC(cache_size=2000, max_iter=10000,\n",
       "                                            random_state=1729))]),\n",
       "             param_grid=[{&#x27;svc__C&#x27;: [1, 10], &#x27;svc__coef0&#x27;: [0, -1, 1],\n",
       "                          &#x27;svc__degree&#x27;: [3, 5],\n",
       "                          &#x27;svc__gamma&#x27;: [&#x27;scale&#x27;, 0.1, 1, 2],\n",
       "                          &#x27;svc__kernel&#x27;: [&#x27;poly&#x27;]},\n",
       "                         {&#x27;svc__C&#x27;: [1, 10], &#x27;svc__gamma&#x27;: [&#x27;scale&#x27;, 0.1, 1, 2],\n",
       "                          &#x27;svc__kernel&#x27;: [&#x27;rbf&#x27;, &#x27;sigmoid&#x27;]}],\n",
       "             refit=&#x27;roc_auc&#x27;, scoring=(&#x27;roc_auc&#x27;, &#x27;accuracy&#x27;), verbose=4)</pre></div></div></div><div class=\"sk-parallel\"><div class=\"sk-parallel-item\"><div class=\"sk-item\"><div class=\"sk-label-container\"><div class=\"sk-label sk-toggleable\"><input class=\"sk-toggleable__control sk-hidden--visually\" id=\"sk-estimator-id-3\" type=\"checkbox\" ><label for=\"sk-estimator-id-3\" class=\"sk-toggleable__label sk-toggleable__label-arrow\">estimator: Pipeline</label><div class=\"sk-toggleable__content\"><pre>Pipeline(steps=[(&#x27;scaler&#x27;, StandardScaler()),\n",
       "                (&#x27;svc&#x27;,\n",
       "                 SVC(cache_size=2000, max_iter=10000, random_state=1729))])</pre></div></div></div><div class=\"sk-serial\"><div class=\"sk-item\"><div class=\"sk-serial\"><div class=\"sk-item\"><div class=\"sk-estimator sk-toggleable\"><input class=\"sk-toggleable__control sk-hidden--visually\" id=\"sk-estimator-id-4\" type=\"checkbox\" ><label for=\"sk-estimator-id-4\" class=\"sk-toggleable__label sk-toggleable__label-arrow\">StandardScaler</label><div class=\"sk-toggleable__content\"><pre>StandardScaler()</pre></div></div></div><div class=\"sk-item\"><div class=\"sk-estimator sk-toggleable\"><input class=\"sk-toggleable__control sk-hidden--visually\" id=\"sk-estimator-id-5\" type=\"checkbox\" ><label for=\"sk-estimator-id-5\" class=\"sk-toggleable__label sk-toggleable__label-arrow\">SVC</label><div class=\"sk-toggleable__content\"><pre>SVC(cache_size=2000, max_iter=10000, random_state=1729)</pre></div></div></div></div></div></div></div></div></div></div></div></div>"
      ],
      "text/plain": [
       "GridSearchCV(estimator=Pipeline(steps=[('scaler', StandardScaler()),\n",
       "                                       ('svc',\n",
       "                                        SVC(cache_size=2000, max_iter=10000,\n",
       "                                            random_state=1729))]),\n",
       "             param_grid=[{'svc__C': [1, 10], 'svc__coef0': [0, -1, 1],\n",
       "                          'svc__degree': [3, 5],\n",
       "                          'svc__gamma': ['scale', 0.1, 1, 2],\n",
       "                          'svc__kernel': ['poly']},\n",
       "                         {'svc__C': [1, 10], 'svc__gamma': ['scale', 0.1, 1, 2],\n",
       "                          'svc__kernel': ['rbf', 'sigmoid']}],\n",
       "             refit='roc_auc', scoring=('roc_auc', 'accuracy'), verbose=4)"
      ]
     },
     "execution_count": 27,
     "metadata": {},
     "output_type": "execute_result"
    }
   ],
   "source": [
    "svc_params = [\n",
    "    {\n",
    "        'svc__C': [1, 10],\n",
    "        'svc__kernel': ['poly'],\n",
    "        'svc__degree': [3, 5],\n",
    "        'svc__gamma': ['scale', 0.1, 1, 2],\n",
    "        'svc__coef0': [0, -1, 1],\n",
    "    },\n",
    "    {\n",
    "        'svc__C': [1, 10],\n",
    "        'svc__kernel': ['rbf', 'sigmoid'],\n",
    "        'svc__gamma': ['scale', 0.1, 1, 2],\n",
    "    },\n",
    "]\n",
    "\n",
    "svc_grid = GridSearchCV(\n",
    "    Pipeline(steps=[('scaler',StandardScaler()), ('svc', SVC(random_state=1729, max_iter=10_000, cache_size=2000))]),\n",
    "    svc_params,\n",
    "    verbose=4,\n",
    "    scoring=('roc_auc', 'accuracy'),\n",
    "    refit='roc_auc')\n",
    "svc_grid.fit(X_train, y_train)"
   ]
  },
  {
   "cell_type": "code",
   "execution_count": 30,
   "metadata": {},
   "outputs": [
    {
     "data": {
      "text/html": [
       "<div>\n",
       "<style scoped>\n",
       "    .dataframe tbody tr th:only-of-type {\n",
       "        vertical-align: middle;\n",
       "    }\n",
       "\n",
       "    .dataframe tbody tr th {\n",
       "        vertical-align: top;\n",
       "    }\n",
       "\n",
       "    .dataframe thead th {\n",
       "        text-align: right;\n",
       "    }\n",
       "</style>\n",
       "<table border=\"1\" class=\"dataframe\">\n",
       "  <thead>\n",
       "    <tr style=\"text-align: right;\">\n",
       "      <th></th>\n",
       "      <th>mean_fit_time</th>\n",
       "      <th>mean_score_time</th>\n",
       "      <th>param_svc__C</th>\n",
       "      <th>param_svc__kernel</th>\n",
       "      <th>param_svc__degree</th>\n",
       "      <th>param_svc__gamma</th>\n",
       "      <th>param_svc__coef0</th>\n",
       "      <th>mean_test_roc_auc</th>\n",
       "      <th>std_test_roc_auc</th>\n",
       "      <th>mean_test_accuracy</th>\n",
       "      <th>std_test_accuracy</th>\n",
       "    </tr>\n",
       "  </thead>\n",
       "  <tbody>\n",
       "    <tr>\n",
       "      <th>48</th>\n",
       "      <td>93.283118</td>\n",
       "      <td>40.347944</td>\n",
       "      <td>1</td>\n",
       "      <td>rbf</td>\n",
       "      <td>NaN</td>\n",
       "      <td>scale</td>\n",
       "      <td>NaN</td>\n",
       "      <td>0.612778</td>\n",
       "      <td>0.003899</td>\n",
       "      <td>0.672776</td>\n",
       "      <td>0.001933</td>\n",
       "    </tr>\n",
       "    <tr>\n",
       "      <th>50</th>\n",
       "      <td>93.698278</td>\n",
       "      <td>40.379417</td>\n",
       "      <td>1</td>\n",
       "      <td>rbf</td>\n",
       "      <td>NaN</td>\n",
       "      <td>0.1</td>\n",
       "      <td>NaN</td>\n",
       "      <td>0.606076</td>\n",
       "      <td>0.006482</td>\n",
       "      <td>0.651857</td>\n",
       "      <td>0.004827</td>\n",
       "    </tr>\n",
       "    <tr>\n",
       "      <th>58</th>\n",
       "      <td>89.320445</td>\n",
       "      <td>38.644683</td>\n",
       "      <td>10</td>\n",
       "      <td>rbf</td>\n",
       "      <td>NaN</td>\n",
       "      <td>0.1</td>\n",
       "      <td>NaN</td>\n",
       "      <td>0.603819</td>\n",
       "      <td>0.007159</td>\n",
       "      <td>0.584082</td>\n",
       "      <td>0.004283</td>\n",
       "    </tr>\n",
       "    <tr>\n",
       "      <th>0</th>\n",
       "      <td>104.762116</td>\n",
       "      <td>25.558821</td>\n",
       "      <td>1</td>\n",
       "      <td>poly</td>\n",
       "      <td>3</td>\n",
       "      <td>scale</td>\n",
       "      <td>0</td>\n",
       "      <td>0.596647</td>\n",
       "      <td>0.006104</td>\n",
       "      <td>0.426082</td>\n",
       "      <td>0.019184</td>\n",
       "    </tr>\n",
       "    <tr>\n",
       "      <th>4</th>\n",
       "      <td>104.416923</td>\n",
       "      <td>25.649395</td>\n",
       "      <td>1</td>\n",
       "      <td>poly</td>\n",
       "      <td>5</td>\n",
       "      <td>scale</td>\n",
       "      <td>0</td>\n",
       "      <td>0.592280</td>\n",
       "      <td>0.004786</td>\n",
       "      <td>0.425776</td>\n",
       "      <td>0.007149</td>\n",
       "    </tr>\n",
       "    <tr>\n",
       "      <th>28</th>\n",
       "      <td>83.830924</td>\n",
       "      <td>21.480408</td>\n",
       "      <td>10</td>\n",
       "      <td>poly</td>\n",
       "      <td>5</td>\n",
       "      <td>scale</td>\n",
       "      <td>0</td>\n",
       "      <td>0.589620</td>\n",
       "      <td>0.002821</td>\n",
       "      <td>0.609122</td>\n",
       "      <td>0.002033</td>\n",
       "    </tr>\n",
       "    <tr>\n",
       "      <th>21</th>\n",
       "      <td>68.771694</td>\n",
       "      <td>18.635784</td>\n",
       "      <td>1</td>\n",
       "      <td>poly</td>\n",
       "      <td>5</td>\n",
       "      <td>0.1</td>\n",
       "      <td>1</td>\n",
       "      <td>0.566696</td>\n",
       "      <td>0.005958</td>\n",
       "      <td>0.620469</td>\n",
       "      <td>0.006851</td>\n",
       "    </tr>\n",
       "    <tr>\n",
       "      <th>45</th>\n",
       "      <td>57.035934</td>\n",
       "      <td>15.835712</td>\n",
       "      <td>10</td>\n",
       "      <td>poly</td>\n",
       "      <td>5</td>\n",
       "      <td>0.1</td>\n",
       "      <td>1</td>\n",
       "      <td>0.566696</td>\n",
       "      <td>0.005958</td>\n",
       "      <td>0.620469</td>\n",
       "      <td>0.006851</td>\n",
       "    </tr>\n",
       "    <tr>\n",
       "      <th>22</th>\n",
       "      <td>75.689303</td>\n",
       "      <td>20.272690</td>\n",
       "      <td>1</td>\n",
       "      <td>poly</td>\n",
       "      <td>5</td>\n",
       "      <td>1</td>\n",
       "      <td>1</td>\n",
       "      <td>0.566663</td>\n",
       "      <td>0.004850</td>\n",
       "      <td>0.619204</td>\n",
       "      <td>0.004896</td>\n",
       "    </tr>\n",
       "    <tr>\n",
       "      <th>46</th>\n",
       "      <td>62.707410</td>\n",
       "      <td>17.270974</td>\n",
       "      <td>10</td>\n",
       "      <td>poly</td>\n",
       "      <td>5</td>\n",
       "      <td>1</td>\n",
       "      <td>1</td>\n",
       "      <td>0.566663</td>\n",
       "      <td>0.004850</td>\n",
       "      <td>0.619204</td>\n",
       "      <td>0.004896</td>\n",
       "    </tr>\n",
       "    <tr>\n",
       "      <th>23</th>\n",
       "      <td>76.655022</td>\n",
       "      <td>20.405336</td>\n",
       "      <td>1</td>\n",
       "      <td>poly</td>\n",
       "      <td>5</td>\n",
       "      <td>2</td>\n",
       "      <td>1</td>\n",
       "      <td>0.564197</td>\n",
       "      <td>0.006548</td>\n",
       "      <td>0.614898</td>\n",
       "      <td>0.005962</td>\n",
       "    </tr>\n",
       "    <tr>\n",
       "      <th>47</th>\n",
       "      <td>63.080161</td>\n",
       "      <td>17.630935</td>\n",
       "      <td>10</td>\n",
       "      <td>poly</td>\n",
       "      <td>5</td>\n",
       "      <td>2</td>\n",
       "      <td>1</td>\n",
       "      <td>0.564197</td>\n",
       "      <td>0.006548</td>\n",
       "      <td>0.614898</td>\n",
       "      <td>0.005962</td>\n",
       "    </tr>\n",
       "    <tr>\n",
       "      <th>56</th>\n",
       "      <td>66.320714</td>\n",
       "      <td>28.299555</td>\n",
       "      <td>10</td>\n",
       "      <td>rbf</td>\n",
       "      <td>NaN</td>\n",
       "      <td>scale</td>\n",
       "      <td>NaN</td>\n",
       "      <td>0.562430</td>\n",
       "      <td>0.009494</td>\n",
       "      <td>0.634898</td>\n",
       "      <td>0.009255</td>\n",
       "    </tr>\n",
       "    <tr>\n",
       "      <th>6</th>\n",
       "      <td>81.320366</td>\n",
       "      <td>20.471244</td>\n",
       "      <td>1</td>\n",
       "      <td>poly</td>\n",
       "      <td>5</td>\n",
       "      <td>1</td>\n",
       "      <td>0</td>\n",
       "      <td>0.562011</td>\n",
       "      <td>0.004838</td>\n",
       "      <td>0.609510</td>\n",
       "      <td>0.002424</td>\n",
       "    </tr>\n",
       "    <tr>\n",
       "      <th>7</th>\n",
       "      <td>81.263553</td>\n",
       "      <td>20.277235</td>\n",
       "      <td>1</td>\n",
       "      <td>poly</td>\n",
       "      <td>5</td>\n",
       "      <td>2</td>\n",
       "      <td>0</td>\n",
       "      <td>0.562011</td>\n",
       "      <td>0.004838</td>\n",
       "      <td>0.609510</td>\n",
       "      <td>0.002424</td>\n",
       "    </tr>\n",
       "    <tr>\n",
       "      <th>30</th>\n",
       "      <td>68.642797</td>\n",
       "      <td>18.543840</td>\n",
       "      <td>10</td>\n",
       "      <td>poly</td>\n",
       "      <td>5</td>\n",
       "      <td>1</td>\n",
       "      <td>0</td>\n",
       "      <td>0.562011</td>\n",
       "      <td>0.004838</td>\n",
       "      <td>0.609510</td>\n",
       "      <td>0.002424</td>\n",
       "    </tr>\n",
       "    <tr>\n",
       "      <th>31</th>\n",
       "      <td>68.669263</td>\n",
       "      <td>18.460152</td>\n",
       "      <td>10</td>\n",
       "      <td>poly</td>\n",
       "      <td>5</td>\n",
       "      <td>2</td>\n",
       "      <td>0</td>\n",
       "      <td>0.562011</td>\n",
       "      <td>0.004838</td>\n",
       "      <td>0.609510</td>\n",
       "      <td>0.002424</td>\n",
       "    </tr>\n",
       "    <tr>\n",
       "      <th>5</th>\n",
       "      <td>81.595970</td>\n",
       "      <td>20.136345</td>\n",
       "      <td>1</td>\n",
       "      <td>poly</td>\n",
       "      <td>5</td>\n",
       "      <td>0.1</td>\n",
       "      <td>0</td>\n",
       "      <td>0.561371</td>\n",
       "      <td>0.005003</td>\n",
       "      <td>0.610367</td>\n",
       "      <td>0.002108</td>\n",
       "    </tr>\n",
       "    <tr>\n",
       "      <th>29</th>\n",
       "      <td>66.249241</td>\n",
       "      <td>17.966681</td>\n",
       "      <td>10</td>\n",
       "      <td>poly</td>\n",
       "      <td>5</td>\n",
       "      <td>0.1</td>\n",
       "      <td>0</td>\n",
       "      <td>0.561371</td>\n",
       "      <td>0.005003</td>\n",
       "      <td>0.610367</td>\n",
       "      <td>0.002108</td>\n",
       "    </tr>\n",
       "    <tr>\n",
       "      <th>15</th>\n",
       "      <td>78.924142</td>\n",
       "      <td>20.246076</td>\n",
       "      <td>1</td>\n",
       "      <td>poly</td>\n",
       "      <td>5</td>\n",
       "      <td>2</td>\n",
       "      <td>-1</td>\n",
       "      <td>0.558989</td>\n",
       "      <td>0.007542</td>\n",
       "      <td>0.601306</td>\n",
       "      <td>0.004959</td>\n",
       "    </tr>\n",
       "    <tr>\n",
       "      <th>39</th>\n",
       "      <td>62.708369</td>\n",
       "      <td>17.261607</td>\n",
       "      <td>10</td>\n",
       "      <td>poly</td>\n",
       "      <td>5</td>\n",
       "      <td>2</td>\n",
       "      <td>-1</td>\n",
       "      <td>0.558989</td>\n",
       "      <td>0.007542</td>\n",
       "      <td>0.601306</td>\n",
       "      <td>0.004959</td>\n",
       "    </tr>\n",
       "    <tr>\n",
       "      <th>24</th>\n",
       "      <td>76.144662</td>\n",
       "      <td>20.068404</td>\n",
       "      <td>10</td>\n",
       "      <td>poly</td>\n",
       "      <td>3</td>\n",
       "      <td>scale</td>\n",
       "      <td>0</td>\n",
       "      <td>0.557867</td>\n",
       "      <td>0.003472</td>\n",
       "      <td>0.539551</td>\n",
       "      <td>0.004339</td>\n",
       "    </tr>\n",
       "    <tr>\n",
       "      <th>14</th>\n",
       "      <td>78.376489</td>\n",
       "      <td>19.980519</td>\n",
       "      <td>1</td>\n",
       "      <td>poly</td>\n",
       "      <td>5</td>\n",
       "      <td>1</td>\n",
       "      <td>-1</td>\n",
       "      <td>0.555480</td>\n",
       "      <td>0.004726</td>\n",
       "      <td>0.585245</td>\n",
       "      <td>0.005334</td>\n",
       "    </tr>\n",
       "    <tr>\n",
       "      <th>38</th>\n",
       "      <td>61.901507</td>\n",
       "      <td>16.982682</td>\n",
       "      <td>10</td>\n",
       "      <td>poly</td>\n",
       "      <td>5</td>\n",
       "      <td>1</td>\n",
       "      <td>-1</td>\n",
       "      <td>0.555480</td>\n",
       "      <td>0.004726</td>\n",
       "      <td>0.585245</td>\n",
       "      <td>0.005334</td>\n",
       "    </tr>\n",
       "    <tr>\n",
       "      <th>54</th>\n",
       "      <td>93.558068</td>\n",
       "      <td>40.395240</td>\n",
       "      <td>1</td>\n",
       "      <td>rbf</td>\n",
       "      <td>NaN</td>\n",
       "      <td>2</td>\n",
       "      <td>NaN</td>\n",
       "      <td>0.552987</td>\n",
       "      <td>0.004331</td>\n",
       "      <td>0.582857</td>\n",
       "      <td>0.029285</td>\n",
       "    </tr>\n",
       "    <tr>\n",
       "      <th>52</th>\n",
       "      <td>91.957282</td>\n",
       "      <td>39.301535</td>\n",
       "      <td>1</td>\n",
       "      <td>rbf</td>\n",
       "      <td>NaN</td>\n",
       "      <td>1</td>\n",
       "      <td>NaN</td>\n",
       "      <td>0.550650</td>\n",
       "      <td>0.005051</td>\n",
       "      <td>0.368735</td>\n",
       "      <td>0.013045</td>\n",
       "    </tr>\n",
       "    <tr>\n",
       "      <th>60</th>\n",
       "      <td>90.189755</td>\n",
       "      <td>39.372627</td>\n",
       "      <td>10</td>\n",
       "      <td>rbf</td>\n",
       "      <td>NaN</td>\n",
       "      <td>1</td>\n",
       "      <td>NaN</td>\n",
       "      <td>0.550494</td>\n",
       "      <td>0.005348</td>\n",
       "      <td>0.608878</td>\n",
       "      <td>0.126638</td>\n",
       "    </tr>\n",
       "    <tr>\n",
       "      <th>62</th>\n",
       "      <td>91.748011</td>\n",
       "      <td>39.982328</td>\n",
       "      <td>10</td>\n",
       "      <td>rbf</td>\n",
       "      <td>NaN</td>\n",
       "      <td>2</td>\n",
       "      <td>NaN</td>\n",
       "      <td>0.548491</td>\n",
       "      <td>0.004950</td>\n",
       "      <td>0.323857</td>\n",
       "      <td>0.001518</td>\n",
       "    </tr>\n",
       "    <tr>\n",
       "      <th>20</th>\n",
       "      <td>69.075979</td>\n",
       "      <td>18.469265</td>\n",
       "      <td>1</td>\n",
       "      <td>poly</td>\n",
       "      <td>5</td>\n",
       "      <td>scale</td>\n",
       "      <td>1</td>\n",
       "      <td>0.546172</td>\n",
       "      <td>0.008197</td>\n",
       "      <td>0.608000</td>\n",
       "      <td>0.005569</td>\n",
       "    </tr>\n",
       "    <tr>\n",
       "      <th>11</th>\n",
       "      <td>57.610533</td>\n",
       "      <td>13.904695</td>\n",
       "      <td>1</td>\n",
       "      <td>poly</td>\n",
       "      <td>3</td>\n",
       "      <td>2</td>\n",
       "      <td>-1</td>\n",
       "      <td>0.539249</td>\n",
       "      <td>0.002565</td>\n",
       "      <td>0.501510</td>\n",
       "      <td>0.003823</td>\n",
       "    </tr>\n",
       "    <tr>\n",
       "      <th>35</th>\n",
       "      <td>48.372786</td>\n",
       "      <td>12.632057</td>\n",
       "      <td>10</td>\n",
       "      <td>poly</td>\n",
       "      <td>3</td>\n",
       "      <td>2</td>\n",
       "      <td>-1</td>\n",
       "      <td>0.539249</td>\n",
       "      <td>0.002565</td>\n",
       "      <td>0.501510</td>\n",
       "      <td>0.003823</td>\n",
       "    </tr>\n",
       "    <tr>\n",
       "      <th>44</th>\n",
       "      <td>51.469213</td>\n",
       "      <td>14.137570</td>\n",
       "      <td>10</td>\n",
       "      <td>poly</td>\n",
       "      <td>5</td>\n",
       "      <td>scale</td>\n",
       "      <td>1</td>\n",
       "      <td>0.538795</td>\n",
       "      <td>0.008165</td>\n",
       "      <td>0.596020</td>\n",
       "      <td>0.005347</td>\n",
       "    </tr>\n",
       "    <tr>\n",
       "      <th>16</th>\n",
       "      <td>81.735238</td>\n",
       "      <td>20.537662</td>\n",
       "      <td>1</td>\n",
       "      <td>poly</td>\n",
       "      <td>3</td>\n",
       "      <td>scale</td>\n",
       "      <td>1</td>\n",
       "      <td>0.538066</td>\n",
       "      <td>0.004549</td>\n",
       "      <td>0.571918</td>\n",
       "      <td>0.006470</td>\n",
       "    </tr>\n",
       "    <tr>\n",
       "      <th>18</th>\n",
       "      <td>56.118216</td>\n",
       "      <td>14.672387</td>\n",
       "      <td>1</td>\n",
       "      <td>poly</td>\n",
       "      <td>3</td>\n",
       "      <td>1</td>\n",
       "      <td>1</td>\n",
       "      <td>0.535283</td>\n",
       "      <td>0.008101</td>\n",
       "      <td>0.566367</td>\n",
       "      <td>0.005637</td>\n",
       "    </tr>\n",
       "    <tr>\n",
       "      <th>42</th>\n",
       "      <td>46.980993</td>\n",
       "      <td>12.419396</td>\n",
       "      <td>10</td>\n",
       "      <td>poly</td>\n",
       "      <td>3</td>\n",
       "      <td>1</td>\n",
       "      <td>1</td>\n",
       "      <td>0.535283</td>\n",
       "      <td>0.008101</td>\n",
       "      <td>0.566367</td>\n",
       "      <td>0.005637</td>\n",
       "    </tr>\n",
       "    <tr>\n",
       "      <th>25</th>\n",
       "      <td>60.164438</td>\n",
       "      <td>15.434619</td>\n",
       "      <td>10</td>\n",
       "      <td>poly</td>\n",
       "      <td>3</td>\n",
       "      <td>0.1</td>\n",
       "      <td>0</td>\n",
       "      <td>0.532752</td>\n",
       "      <td>0.002265</td>\n",
       "      <td>0.546429</td>\n",
       "      <td>0.004114</td>\n",
       "    </tr>\n",
       "    <tr>\n",
       "      <th>1</th>\n",
       "      <td>64.955685</td>\n",
       "      <td>15.803699</td>\n",
       "      <td>1</td>\n",
       "      <td>poly</td>\n",
       "      <td>3</td>\n",
       "      <td>0.1</td>\n",
       "      <td>0</td>\n",
       "      <td>0.532312</td>\n",
       "      <td>0.003505</td>\n",
       "      <td>0.546653</td>\n",
       "      <td>0.004737</td>\n",
       "    </tr>\n",
       "    <tr>\n",
       "      <th>2</th>\n",
       "      <td>62.444264</td>\n",
       "      <td>15.437669</td>\n",
       "      <td>1</td>\n",
       "      <td>poly</td>\n",
       "      <td>3</td>\n",
       "      <td>1</td>\n",
       "      <td>0</td>\n",
       "      <td>0.531772</td>\n",
       "      <td>0.003787</td>\n",
       "      <td>0.546633</td>\n",
       "      <td>0.004610</td>\n",
       "    </tr>\n",
       "    <tr>\n",
       "      <th>3</th>\n",
       "      <td>62.494262</td>\n",
       "      <td>15.335702</td>\n",
       "      <td>1</td>\n",
       "      <td>poly</td>\n",
       "      <td>3</td>\n",
       "      <td>2</td>\n",
       "      <td>0</td>\n",
       "      <td>0.531772</td>\n",
       "      <td>0.003787</td>\n",
       "      <td>0.546633</td>\n",
       "      <td>0.004610</td>\n",
       "    </tr>\n",
       "    <tr>\n",
       "      <th>26</th>\n",
       "      <td>59.319711</td>\n",
       "      <td>15.434784</td>\n",
       "      <td>10</td>\n",
       "      <td>poly</td>\n",
       "      <td>3</td>\n",
       "      <td>1</td>\n",
       "      <td>0</td>\n",
       "      <td>0.531772</td>\n",
       "      <td>0.003787</td>\n",
       "      <td>0.546633</td>\n",
       "      <td>0.004610</td>\n",
       "    </tr>\n",
       "    <tr>\n",
       "      <th>27</th>\n",
       "      <td>60.055027</td>\n",
       "      <td>15.448465</td>\n",
       "      <td>10</td>\n",
       "      <td>poly</td>\n",
       "      <td>3</td>\n",
       "      <td>2</td>\n",
       "      <td>0</td>\n",
       "      <td>0.531772</td>\n",
       "      <td>0.003787</td>\n",
       "      <td>0.546633</td>\n",
       "      <td>0.004610</td>\n",
       "    </tr>\n",
       "    <tr>\n",
       "      <th>17</th>\n",
       "      <td>57.476625</td>\n",
       "      <td>15.013041</td>\n",
       "      <td>1</td>\n",
       "      <td>poly</td>\n",
       "      <td>3</td>\n",
       "      <td>0.1</td>\n",
       "      <td>1</td>\n",
       "      <td>0.531520</td>\n",
       "      <td>0.005496</td>\n",
       "      <td>0.573714</td>\n",
       "      <td>0.009056</td>\n",
       "    </tr>\n",
       "    <tr>\n",
       "      <th>19</th>\n",
       "      <td>57.011186</td>\n",
       "      <td>14.917169</td>\n",
       "      <td>1</td>\n",
       "      <td>poly</td>\n",
       "      <td>3</td>\n",
       "      <td>2</td>\n",
       "      <td>1</td>\n",
       "      <td>0.530603</td>\n",
       "      <td>0.005337</td>\n",
       "      <td>0.555571</td>\n",
       "      <td>0.007516</td>\n",
       "    </tr>\n",
       "    <tr>\n",
       "      <th>43</th>\n",
       "      <td>47.294675</td>\n",
       "      <td>12.737841</td>\n",
       "      <td>10</td>\n",
       "      <td>poly</td>\n",
       "      <td>3</td>\n",
       "      <td>2</td>\n",
       "      <td>1</td>\n",
       "      <td>0.530603</td>\n",
       "      <td>0.005337</td>\n",
       "      <td>0.555571</td>\n",
       "      <td>0.007516</td>\n",
       "    </tr>\n",
       "    <tr>\n",
       "      <th>41</th>\n",
       "      <td>47.799020</td>\n",
       "      <td>12.602113</td>\n",
       "      <td>10</td>\n",
       "      <td>poly</td>\n",
       "      <td>3</td>\n",
       "      <td>0.1</td>\n",
       "      <td>1</td>\n",
       "      <td>0.529823</td>\n",
       "      <td>0.007629</td>\n",
       "      <td>0.570878</td>\n",
       "      <td>0.008685</td>\n",
       "    </tr>\n",
       "    <tr>\n",
       "      <th>37</th>\n",
       "      <td>75.768419</td>\n",
       "      <td>17.613601</td>\n",
       "      <td>10</td>\n",
       "      <td>poly</td>\n",
       "      <td>5</td>\n",
       "      <td>0.1</td>\n",
       "      <td>-1</td>\n",
       "      <td>0.520366</td>\n",
       "      <td>0.007499</td>\n",
       "      <td>0.537449</td>\n",
       "      <td>0.018004</td>\n",
       "    </tr>\n",
       "    <tr>\n",
       "      <th>40</th>\n",
       "      <td>53.747213</td>\n",
       "      <td>14.543620</td>\n",
       "      <td>10</td>\n",
       "      <td>poly</td>\n",
       "      <td>3</td>\n",
       "      <td>scale</td>\n",
       "      <td>1</td>\n",
       "      <td>0.519839</td>\n",
       "      <td>0.006927</td>\n",
       "      <td>0.565592</td>\n",
       "      <td>0.007986</td>\n",
       "    </tr>\n",
       "    <tr>\n",
       "      <th>34</th>\n",
       "      <td>24.063628</td>\n",
       "      <td>5.173577</td>\n",
       "      <td>10</td>\n",
       "      <td>poly</td>\n",
       "      <td>3</td>\n",
       "      <td>1</td>\n",
       "      <td>-1</td>\n",
       "      <td>0.519180</td>\n",
       "      <td>0.006631</td>\n",
       "      <td>0.488755</td>\n",
       "      <td>0.003508</td>\n",
       "    </tr>\n",
       "    <tr>\n",
       "      <th>10</th>\n",
       "      <td>28.641280</td>\n",
       "      <td>5.928530</td>\n",
       "      <td>1</td>\n",
       "      <td>poly</td>\n",
       "      <td>3</td>\n",
       "      <td>1</td>\n",
       "      <td>-1</td>\n",
       "      <td>0.518997</td>\n",
       "      <td>0.005587</td>\n",
       "      <td>0.488612</td>\n",
       "      <td>0.003614</td>\n",
       "    </tr>\n",
       "    <tr>\n",
       "      <th>13</th>\n",
       "      <td>96.905477</td>\n",
       "      <td>20.507386</td>\n",
       "      <td>1</td>\n",
       "      <td>poly</td>\n",
       "      <td>5</td>\n",
       "      <td>0.1</td>\n",
       "      <td>-1</td>\n",
       "      <td>0.516629</td>\n",
       "      <td>0.009228</td>\n",
       "      <td>0.532469</td>\n",
       "      <td>0.024168</td>\n",
       "    </tr>\n",
       "    <tr>\n",
       "      <th>55</th>\n",
       "      <td>152.149959</td>\n",
       "      <td>30.045114</td>\n",
       "      <td>1</td>\n",
       "      <td>sigmoid</td>\n",
       "      <td>NaN</td>\n",
       "      <td>2</td>\n",
       "      <td>NaN</td>\n",
       "      <td>0.511889</td>\n",
       "      <td>0.005012</td>\n",
       "      <td>0.577204</td>\n",
       "      <td>0.003976</td>\n",
       "    </tr>\n",
       "    <tr>\n",
       "      <th>63</th>\n",
       "      <td>149.250119</td>\n",
       "      <td>30.227025</td>\n",
       "      <td>10</td>\n",
       "      <td>sigmoid</td>\n",
       "      <td>NaN</td>\n",
       "      <td>2</td>\n",
       "      <td>NaN</td>\n",
       "      <td>0.510445</td>\n",
       "      <td>0.007853</td>\n",
       "      <td>0.574592</td>\n",
       "      <td>0.002447</td>\n",
       "    </tr>\n",
       "    <tr>\n",
       "      <th>9</th>\n",
       "      <td>114.394870</td>\n",
       "      <td>21.669696</td>\n",
       "      <td>1</td>\n",
       "      <td>poly</td>\n",
       "      <td>3</td>\n",
       "      <td>0.1</td>\n",
       "      <td>-1</td>\n",
       "      <td>0.508754</td>\n",
       "      <td>0.009000</td>\n",
       "      <td>0.572714</td>\n",
       "      <td>0.008386</td>\n",
       "    </tr>\n",
       "    <tr>\n",
       "      <th>33</th>\n",
       "      <td>96.111730</td>\n",
       "      <td>19.982833</td>\n",
       "      <td>10</td>\n",
       "      <td>poly</td>\n",
       "      <td>3</td>\n",
       "      <td>0.1</td>\n",
       "      <td>-1</td>\n",
       "      <td>0.508396</td>\n",
       "      <td>0.006256</td>\n",
       "      <td>0.568714</td>\n",
       "      <td>0.007908</td>\n",
       "    </tr>\n",
       "    <tr>\n",
       "      <th>53</th>\n",
       "      <td>154.780411</td>\n",
       "      <td>30.918767</td>\n",
       "      <td>1</td>\n",
       "      <td>sigmoid</td>\n",
       "      <td>NaN</td>\n",
       "      <td>1</td>\n",
       "      <td>NaN</td>\n",
       "      <td>0.508308</td>\n",
       "      <td>0.005416</td>\n",
       "      <td>0.567653</td>\n",
       "      <td>0.006151</td>\n",
       "    </tr>\n",
       "    <tr>\n",
       "      <th>32</th>\n",
       "      <td>104.890970</td>\n",
       "      <td>20.193069</td>\n",
       "      <td>10</td>\n",
       "      <td>poly</td>\n",
       "      <td>3</td>\n",
       "      <td>scale</td>\n",
       "      <td>-1</td>\n",
       "      <td>0.508299</td>\n",
       "      <td>0.007445</td>\n",
       "      <td>0.553102</td>\n",
       "      <td>0.037989</td>\n",
       "    </tr>\n",
       "    <tr>\n",
       "      <th>61</th>\n",
       "      <td>152.944029</td>\n",
       "      <td>30.622676</td>\n",
       "      <td>10</td>\n",
       "      <td>sigmoid</td>\n",
       "      <td>NaN</td>\n",
       "      <td>1</td>\n",
       "      <td>NaN</td>\n",
       "      <td>0.508217</td>\n",
       "      <td>0.005120</td>\n",
       "      <td>0.568143</td>\n",
       "      <td>0.007650</td>\n",
       "    </tr>\n",
       "    <tr>\n",
       "      <th>8</th>\n",
       "      <td>124.576847</td>\n",
       "      <td>22.090240</td>\n",
       "      <td>1</td>\n",
       "      <td>poly</td>\n",
       "      <td>3</td>\n",
       "      <td>scale</td>\n",
       "      <td>-1</td>\n",
       "      <td>0.508057</td>\n",
       "      <td>0.007943</td>\n",
       "      <td>0.525510</td>\n",
       "      <td>0.054147</td>\n",
       "    </tr>\n",
       "    <tr>\n",
       "      <th>36</th>\n",
       "      <td>96.985757</td>\n",
       "      <td>20.054975</td>\n",
       "      <td>10</td>\n",
       "      <td>poly</td>\n",
       "      <td>5</td>\n",
       "      <td>scale</td>\n",
       "      <td>-1</td>\n",
       "      <td>0.507846</td>\n",
       "      <td>0.007752</td>\n",
       "      <td>0.574388</td>\n",
       "      <td>0.006982</td>\n",
       "    </tr>\n",
       "    <tr>\n",
       "      <th>12</th>\n",
       "      <td>118.408475</td>\n",
       "      <td>22.476959</td>\n",
       "      <td>1</td>\n",
       "      <td>poly</td>\n",
       "      <td>5</td>\n",
       "      <td>scale</td>\n",
       "      <td>-1</td>\n",
       "      <td>0.505892</td>\n",
       "      <td>0.011315</td>\n",
       "      <td>0.573755</td>\n",
       "      <td>0.007243</td>\n",
       "    </tr>\n",
       "    <tr>\n",
       "      <th>49</th>\n",
       "      <td>128.979236</td>\n",
       "      <td>30.559258</td>\n",
       "      <td>1</td>\n",
       "      <td>sigmoid</td>\n",
       "      <td>NaN</td>\n",
       "      <td>scale</td>\n",
       "      <td>NaN</td>\n",
       "      <td>0.498424</td>\n",
       "      <td>0.004368</td>\n",
       "      <td>0.564816</td>\n",
       "      <td>0.003799</td>\n",
       "    </tr>\n",
       "    <tr>\n",
       "      <th>51</th>\n",
       "      <td>138.364406</td>\n",
       "      <td>31.354407</td>\n",
       "      <td>1</td>\n",
       "      <td>sigmoid</td>\n",
       "      <td>NaN</td>\n",
       "      <td>0.1</td>\n",
       "      <td>NaN</td>\n",
       "      <td>0.498037</td>\n",
       "      <td>0.006226</td>\n",
       "      <td>0.590592</td>\n",
       "      <td>0.004967</td>\n",
       "    </tr>\n",
       "    <tr>\n",
       "      <th>57</th>\n",
       "      <td>126.349193</td>\n",
       "      <td>27.567138</td>\n",
       "      <td>10</td>\n",
       "      <td>sigmoid</td>\n",
       "      <td>NaN</td>\n",
       "      <td>scale</td>\n",
       "      <td>NaN</td>\n",
       "      <td>0.497269</td>\n",
       "      <td>0.005066</td>\n",
       "      <td>0.576837</td>\n",
       "      <td>0.003898</td>\n",
       "    </tr>\n",
       "    <tr>\n",
       "      <th>59</th>\n",
       "      <td>133.887246</td>\n",
       "      <td>30.645208</td>\n",
       "      <td>10</td>\n",
       "      <td>sigmoid</td>\n",
       "      <td>NaN</td>\n",
       "      <td>0.1</td>\n",
       "      <td>NaN</td>\n",
       "      <td>0.495378</td>\n",
       "      <td>0.003027</td>\n",
       "      <td>0.587878</td>\n",
       "      <td>0.003952</td>\n",
       "    </tr>\n",
       "  </tbody>\n",
       "</table>\n",
       "</div>"
      ],
      "text/plain": [
       "    mean_fit_time  mean_score_time param_svc__C param_svc__kernel  \\\n",
       "48      93.283118        40.347944            1               rbf   \n",
       "50      93.698278        40.379417            1               rbf   \n",
       "58      89.320445        38.644683           10               rbf   \n",
       "0      104.762116        25.558821            1              poly   \n",
       "4      104.416923        25.649395            1              poly   \n",
       "28      83.830924        21.480408           10              poly   \n",
       "21      68.771694        18.635784            1              poly   \n",
       "45      57.035934        15.835712           10              poly   \n",
       "22      75.689303        20.272690            1              poly   \n",
       "46      62.707410        17.270974           10              poly   \n",
       "23      76.655022        20.405336            1              poly   \n",
       "47      63.080161        17.630935           10              poly   \n",
       "56      66.320714        28.299555           10               rbf   \n",
       "6       81.320366        20.471244            1              poly   \n",
       "7       81.263553        20.277235            1              poly   \n",
       "30      68.642797        18.543840           10              poly   \n",
       "31      68.669263        18.460152           10              poly   \n",
       "5       81.595970        20.136345            1              poly   \n",
       "29      66.249241        17.966681           10              poly   \n",
       "15      78.924142        20.246076            1              poly   \n",
       "39      62.708369        17.261607           10              poly   \n",
       "24      76.144662        20.068404           10              poly   \n",
       "14      78.376489        19.980519            1              poly   \n",
       "38      61.901507        16.982682           10              poly   \n",
       "54      93.558068        40.395240            1               rbf   \n",
       "52      91.957282        39.301535            1               rbf   \n",
       "60      90.189755        39.372627           10               rbf   \n",
       "62      91.748011        39.982328           10               rbf   \n",
       "20      69.075979        18.469265            1              poly   \n",
       "11      57.610533        13.904695            1              poly   \n",
       "35      48.372786        12.632057           10              poly   \n",
       "44      51.469213        14.137570           10              poly   \n",
       "16      81.735238        20.537662            1              poly   \n",
       "18      56.118216        14.672387            1              poly   \n",
       "42      46.980993        12.419396           10              poly   \n",
       "25      60.164438        15.434619           10              poly   \n",
       "1       64.955685        15.803699            1              poly   \n",
       "2       62.444264        15.437669            1              poly   \n",
       "3       62.494262        15.335702            1              poly   \n",
       "26      59.319711        15.434784           10              poly   \n",
       "27      60.055027        15.448465           10              poly   \n",
       "17      57.476625        15.013041            1              poly   \n",
       "19      57.011186        14.917169            1              poly   \n",
       "43      47.294675        12.737841           10              poly   \n",
       "41      47.799020        12.602113           10              poly   \n",
       "37      75.768419        17.613601           10              poly   \n",
       "40      53.747213        14.543620           10              poly   \n",
       "34      24.063628         5.173577           10              poly   \n",
       "10      28.641280         5.928530            1              poly   \n",
       "13      96.905477        20.507386            1              poly   \n",
       "55     152.149959        30.045114            1           sigmoid   \n",
       "63     149.250119        30.227025           10           sigmoid   \n",
       "9      114.394870        21.669696            1              poly   \n",
       "33      96.111730        19.982833           10              poly   \n",
       "53     154.780411        30.918767            1           sigmoid   \n",
       "32     104.890970        20.193069           10              poly   \n",
       "61     152.944029        30.622676           10           sigmoid   \n",
       "8      124.576847        22.090240            1              poly   \n",
       "36      96.985757        20.054975           10              poly   \n",
       "12     118.408475        22.476959            1              poly   \n",
       "49     128.979236        30.559258            1           sigmoid   \n",
       "51     138.364406        31.354407            1           sigmoid   \n",
       "57     126.349193        27.567138           10           sigmoid   \n",
       "59     133.887246        30.645208           10           sigmoid   \n",
       "\n",
       "   param_svc__degree param_svc__gamma param_svc__coef0  mean_test_roc_auc  \\\n",
       "48               NaN            scale              NaN           0.612778   \n",
       "50               NaN              0.1              NaN           0.606076   \n",
       "58               NaN              0.1              NaN           0.603819   \n",
       "0                  3            scale                0           0.596647   \n",
       "4                  5            scale                0           0.592280   \n",
       "28                 5            scale                0           0.589620   \n",
       "21                 5              0.1                1           0.566696   \n",
       "45                 5              0.1                1           0.566696   \n",
       "22                 5                1                1           0.566663   \n",
       "46                 5                1                1           0.566663   \n",
       "23                 5                2                1           0.564197   \n",
       "47                 5                2                1           0.564197   \n",
       "56               NaN            scale              NaN           0.562430   \n",
       "6                  5                1                0           0.562011   \n",
       "7                  5                2                0           0.562011   \n",
       "30                 5                1                0           0.562011   \n",
       "31                 5                2                0           0.562011   \n",
       "5                  5              0.1                0           0.561371   \n",
       "29                 5              0.1                0           0.561371   \n",
       "15                 5                2               -1           0.558989   \n",
       "39                 5                2               -1           0.558989   \n",
       "24                 3            scale                0           0.557867   \n",
       "14                 5                1               -1           0.555480   \n",
       "38                 5                1               -1           0.555480   \n",
       "54               NaN                2              NaN           0.552987   \n",
       "52               NaN                1              NaN           0.550650   \n",
       "60               NaN                1              NaN           0.550494   \n",
       "62               NaN                2              NaN           0.548491   \n",
       "20                 5            scale                1           0.546172   \n",
       "11                 3                2               -1           0.539249   \n",
       "35                 3                2               -1           0.539249   \n",
       "44                 5            scale                1           0.538795   \n",
       "16                 3            scale                1           0.538066   \n",
       "18                 3                1                1           0.535283   \n",
       "42                 3                1                1           0.535283   \n",
       "25                 3              0.1                0           0.532752   \n",
       "1                  3              0.1                0           0.532312   \n",
       "2                  3                1                0           0.531772   \n",
       "3                  3                2                0           0.531772   \n",
       "26                 3                1                0           0.531772   \n",
       "27                 3                2                0           0.531772   \n",
       "17                 3              0.1                1           0.531520   \n",
       "19                 3                2                1           0.530603   \n",
       "43                 3                2                1           0.530603   \n",
       "41                 3              0.1                1           0.529823   \n",
       "37                 5              0.1               -1           0.520366   \n",
       "40                 3            scale                1           0.519839   \n",
       "34                 3                1               -1           0.519180   \n",
       "10                 3                1               -1           0.518997   \n",
       "13                 5              0.1               -1           0.516629   \n",
       "55               NaN                2              NaN           0.511889   \n",
       "63               NaN                2              NaN           0.510445   \n",
       "9                  3              0.1               -1           0.508754   \n",
       "33                 3              0.1               -1           0.508396   \n",
       "53               NaN                1              NaN           0.508308   \n",
       "32                 3            scale               -1           0.508299   \n",
       "61               NaN                1              NaN           0.508217   \n",
       "8                  3            scale               -1           0.508057   \n",
       "36                 5            scale               -1           0.507846   \n",
       "12                 5            scale               -1           0.505892   \n",
       "49               NaN            scale              NaN           0.498424   \n",
       "51               NaN              0.1              NaN           0.498037   \n",
       "57               NaN            scale              NaN           0.497269   \n",
       "59               NaN              0.1              NaN           0.495378   \n",
       "\n",
       "    std_test_roc_auc  mean_test_accuracy  std_test_accuracy  \n",
       "48          0.003899            0.672776           0.001933  \n",
       "50          0.006482            0.651857           0.004827  \n",
       "58          0.007159            0.584082           0.004283  \n",
       "0           0.006104            0.426082           0.019184  \n",
       "4           0.004786            0.425776           0.007149  \n",
       "28          0.002821            0.609122           0.002033  \n",
       "21          0.005958            0.620469           0.006851  \n",
       "45          0.005958            0.620469           0.006851  \n",
       "22          0.004850            0.619204           0.004896  \n",
       "46          0.004850            0.619204           0.004896  \n",
       "23          0.006548            0.614898           0.005962  \n",
       "47          0.006548            0.614898           0.005962  \n",
       "56          0.009494            0.634898           0.009255  \n",
       "6           0.004838            0.609510           0.002424  \n",
       "7           0.004838            0.609510           0.002424  \n",
       "30          0.004838            0.609510           0.002424  \n",
       "31          0.004838            0.609510           0.002424  \n",
       "5           0.005003            0.610367           0.002108  \n",
       "29          0.005003            0.610367           0.002108  \n",
       "15          0.007542            0.601306           0.004959  \n",
       "39          0.007542            0.601306           0.004959  \n",
       "24          0.003472            0.539551           0.004339  \n",
       "14          0.004726            0.585245           0.005334  \n",
       "38          0.004726            0.585245           0.005334  \n",
       "54          0.004331            0.582857           0.029285  \n",
       "52          0.005051            0.368735           0.013045  \n",
       "60          0.005348            0.608878           0.126638  \n",
       "62          0.004950            0.323857           0.001518  \n",
       "20          0.008197            0.608000           0.005569  \n",
       "11          0.002565            0.501510           0.003823  \n",
       "35          0.002565            0.501510           0.003823  \n",
       "44          0.008165            0.596020           0.005347  \n",
       "16          0.004549            0.571918           0.006470  \n",
       "18          0.008101            0.566367           0.005637  \n",
       "42          0.008101            0.566367           0.005637  \n",
       "25          0.002265            0.546429           0.004114  \n",
       "1           0.003505            0.546653           0.004737  \n",
       "2           0.003787            0.546633           0.004610  \n",
       "3           0.003787            0.546633           0.004610  \n",
       "26          0.003787            0.546633           0.004610  \n",
       "27          0.003787            0.546633           0.004610  \n",
       "17          0.005496            0.573714           0.009056  \n",
       "19          0.005337            0.555571           0.007516  \n",
       "43          0.005337            0.555571           0.007516  \n",
       "41          0.007629            0.570878           0.008685  \n",
       "37          0.007499            0.537449           0.018004  \n",
       "40          0.006927            0.565592           0.007986  \n",
       "34          0.006631            0.488755           0.003508  \n",
       "10          0.005587            0.488612           0.003614  \n",
       "13          0.009228            0.532469           0.024168  \n",
       "55          0.005012            0.577204           0.003976  \n",
       "63          0.007853            0.574592           0.002447  \n",
       "9           0.009000            0.572714           0.008386  \n",
       "33          0.006256            0.568714           0.007908  \n",
       "53          0.005416            0.567653           0.006151  \n",
       "32          0.007445            0.553102           0.037989  \n",
       "61          0.005120            0.568143           0.007650  \n",
       "8           0.007943            0.525510           0.054147  \n",
       "36          0.007752            0.574388           0.006982  \n",
       "12          0.011315            0.573755           0.007243  \n",
       "49          0.004368            0.564816           0.003799  \n",
       "51          0.006226            0.590592           0.004967  \n",
       "57          0.005066            0.576837           0.003898  \n",
       "59          0.003027            0.587878           0.003952  "
      ]
     },
     "execution_count": 30,
     "metadata": {},
     "output_type": "execute_result"
    }
   ],
   "source": [
    "svc_grid_df = pd.DataFrame(svc_grid.cv_results_)\n",
    "svc_grid_df.sort_values(['mean_test_roc_auc', 'mean_test_accuracy'], ascending=False)[['mean_fit_time', 'mean_score_time', 'param_svc__C', 'param_svc__kernel', 'param_svc__degree', 'param_svc__gamma', 'param_svc__coef0', 'mean_test_roc_auc', 'std_test_roc_auc', 'mean_test_accuracy', 'std_test_accuracy']]"
   ]
  },
  {
   "cell_type": "code",
   "execution_count": 31,
   "metadata": {},
   "outputs": [
    {
     "data": {
      "text/plain": [
       "(0.5751220479860679, 0.6281428571428571)"
      ]
     },
     "execution_count": 31,
     "metadata": {},
     "output_type": "execute_result"
    }
   ],
   "source": [
    "y_test_svc = svc_grid.predict(X_test)\n",
    "(roc_auc_score(y_test, y_test_svc), accuracy_score(y_test, y_test_svc))"
   ]
  },
  {
   "cell_type": "markdown",
   "metadata": {},
   "source": [
    "## Risco bayesiano"
   ]
  },
  {
   "cell_type": "code",
   "execution_count": 29,
   "metadata": {},
   "outputs": [
    {
     "name": "stdout",
     "output_type": "stream",
     "text": [
      "Fitting 5 folds for each of 28 candidates, totalling 140 fits\n",
      "[CV 1/5] END forest__max_features=sqrt, forest__min_samples_split=2, forest__n_estimators=500, pca=passthrough; accuracy: (test=0.712) roc_auc: (test=0.734) total time=  20.5s\n",
      "[CV 2/5] END forest__max_features=sqrt, forest__min_samples_split=2, forest__n_estimators=500, pca=passthrough; accuracy: (test=0.712) roc_auc: (test=0.725) total time=  20.2s\n",
      "[CV 3/5] END forest__max_features=sqrt, forest__min_samples_split=2, forest__n_estimators=500, pca=passthrough; accuracy: (test=0.719) roc_auc: (test=0.739) total time=  20.5s\n",
      "[CV 4/5] END forest__max_features=sqrt, forest__min_samples_split=2, forest__n_estimators=500, pca=passthrough; accuracy: (test=0.718) roc_auc: (test=0.744) total time=  20.0s\n",
      "[CV 5/5] END forest__max_features=sqrt, forest__min_samples_split=2, forest__n_estimators=500, pca=passthrough; accuracy: (test=0.722) roc_auc: (test=0.743) total time=  20.6s\n",
      "[CV 1/5] END forest__max_features=sqrt, forest__min_samples_split=2, forest__n_estimators=1000, pca=passthrough; accuracy: (test=0.713) roc_auc: (test=0.735) total time=  41.3s\n",
      "[CV 2/5] END forest__max_features=sqrt, forest__min_samples_split=2, forest__n_estimators=1000, pca=passthrough; accuracy: (test=0.713) roc_auc: (test=0.728) total time=  40.1s\n",
      "[CV 3/5] END forest__max_features=sqrt, forest__min_samples_split=2, forest__n_estimators=1000, pca=passthrough; accuracy: (test=0.720) roc_auc: (test=0.741) total time=  40.6s\n",
      "[CV 4/5] END forest__max_features=sqrt, forest__min_samples_split=2, forest__n_estimators=1000, pca=passthrough; accuracy: (test=0.718) roc_auc: (test=0.746) total time=  40.9s\n",
      "[CV 5/5] END forest__max_features=sqrt, forest__min_samples_split=2, forest__n_estimators=1000, pca=passthrough; accuracy: (test=0.721) roc_auc: (test=0.745) total time=  41.0s\n",
      "[CV 1/5] END forest__max_features=sqrt, forest__min_samples_split=2, forest__n_estimators=1500, pca=passthrough; accuracy: (test=0.712) roc_auc: (test=0.737) total time= 1.0min\n",
      "[CV 2/5] END forest__max_features=sqrt, forest__min_samples_split=2, forest__n_estimators=1500, pca=passthrough; accuracy: (test=0.713) roc_auc: (test=0.729) total time= 1.0min\n",
      "[CV 3/5] END forest__max_features=sqrt, forest__min_samples_split=2, forest__n_estimators=1500, pca=passthrough; accuracy: (test=0.720) roc_auc: (test=0.741) total time= 1.0min\n",
      "[CV 4/5] END forest__max_features=sqrt, forest__min_samples_split=2, forest__n_estimators=1500, pca=passthrough; accuracy: (test=0.718) roc_auc: (test=0.748) total time= 1.0min\n",
      "[CV 5/5] END forest__max_features=sqrt, forest__min_samples_split=2, forest__n_estimators=1500, pca=passthrough; accuracy: (test=0.721) roc_auc: (test=0.746) total time=  58.8s\n",
      "[CV 1/5] END forest__max_features=sqrt, forest__min_samples_split=10, forest__n_estimators=500, pca=passthrough; accuracy: (test=0.709) roc_auc: (test=0.726) total time=  18.7s\n",
      "[CV 2/5] END forest__max_features=sqrt, forest__min_samples_split=10, forest__n_estimators=500, pca=passthrough; accuracy: (test=0.709) roc_auc: (test=0.717) total time=  18.8s\n",
      "[CV 3/5] END forest__max_features=sqrt, forest__min_samples_split=10, forest__n_estimators=500, pca=passthrough; accuracy: (test=0.717) roc_auc: (test=0.732) total time=  18.3s\n",
      "[CV 4/5] END forest__max_features=sqrt, forest__min_samples_split=10, forest__n_estimators=500, pca=passthrough; accuracy: (test=0.714) roc_auc: (test=0.734) total time=  18.8s\n",
      "[CV 5/5] END forest__max_features=sqrt, forest__min_samples_split=10, forest__n_estimators=500, pca=passthrough; accuracy: (test=0.718) roc_auc: (test=0.733) total time=  18.8s\n",
      "[CV 1/5] END forest__max_features=sqrt, forest__min_samples_split=10, forest__n_estimators=1000, pca=passthrough; accuracy: (test=0.711) roc_auc: (test=0.726) total time=  37.4s\n",
      "[CV 2/5] END forest__max_features=sqrt, forest__min_samples_split=10, forest__n_estimators=1000, pca=passthrough; accuracy: (test=0.710) roc_auc: (test=0.718) total time=  37.3s\n",
      "[CV 3/5] END forest__max_features=sqrt, forest__min_samples_split=10, forest__n_estimators=1000, pca=passthrough; accuracy: (test=0.717) roc_auc: (test=0.732) total time=  37.7s\n",
      "[CV 4/5] END forest__max_features=sqrt, forest__min_samples_split=10, forest__n_estimators=1000, pca=passthrough; accuracy: (test=0.713) roc_auc: (test=0.736) total time=  37.3s\n",
      "[CV 5/5] END forest__max_features=sqrt, forest__min_samples_split=10, forest__n_estimators=1000, pca=passthrough; accuracy: (test=0.716) roc_auc: (test=0.736) total time=  37.3s\n",
      "[CV 1/5] END forest__max_features=sqrt, forest__min_samples_split=10, forest__n_estimators=1500, pca=passthrough; accuracy: (test=0.710) roc_auc: (test=0.727) total time=  56.3s\n",
      "[CV 2/5] END forest__max_features=sqrt, forest__min_samples_split=10, forest__n_estimators=1500, pca=passthrough; accuracy: (test=0.709) roc_auc: (test=0.719) total time=  54.9s\n",
      "[CV 3/5] END forest__max_features=sqrt, forest__min_samples_split=10, forest__n_estimators=1500, pca=passthrough; accuracy: (test=0.716) roc_auc: (test=0.733) total time=  56.8s\n",
      "[CV 4/5] END forest__max_features=sqrt, forest__min_samples_split=10, forest__n_estimators=1500, pca=passthrough; accuracy: (test=0.713) roc_auc: (test=0.737) total time=  54.0s\n",
      "[CV 5/5] END forest__max_features=sqrt, forest__min_samples_split=10, forest__n_estimators=1500, pca=passthrough; accuracy: (test=0.718) roc_auc: (test=0.736) total time=  54.3s\n",
      "[CV 1/5] END forest__max_features=log2, forest__min_samples_split=2, forest__n_estimators=500, pca=passthrough; accuracy: (test=0.713) roc_auc: (test=0.739) total time=  16.7s\n",
      "[CV 2/5] END forest__max_features=log2, forest__min_samples_split=2, forest__n_estimators=500, pca=passthrough; accuracy: (test=0.709) roc_auc: (test=0.726) total time=  17.1s\n",
      "[CV 3/5] END forest__max_features=log2, forest__min_samples_split=2, forest__n_estimators=500, pca=passthrough; accuracy: (test=0.718) roc_auc: (test=0.741) total time=  17.3s\n",
      "[CV 4/5] END forest__max_features=log2, forest__min_samples_split=2, forest__n_estimators=500, pca=passthrough; accuracy: (test=0.717) roc_auc: (test=0.747) total time=  17.6s\n",
      "[CV 5/5] END forest__max_features=log2, forest__min_samples_split=2, forest__n_estimators=500, pca=passthrough; accuracy: (test=0.719) roc_auc: (test=0.744) total time=  17.8s\n",
      "[CV 1/5] END forest__max_features=log2, forest__min_samples_split=2, forest__n_estimators=1000, pca=passthrough; accuracy: (test=0.713) roc_auc: (test=0.742) total time=  35.2s\n",
      "[CV 2/5] END forest__max_features=log2, forest__min_samples_split=2, forest__n_estimators=1000, pca=passthrough; accuracy: (test=0.711) roc_auc: (test=0.728) total time=  34.0s\n",
      "[CV 3/5] END forest__max_features=log2, forest__min_samples_split=2, forest__n_estimators=1000, pca=passthrough; accuracy: (test=0.717) roc_auc: (test=0.744) total time=  35.2s\n",
      "[CV 4/5] END forest__max_features=log2, forest__min_samples_split=2, forest__n_estimators=1000, pca=passthrough; accuracy: (test=0.717) roc_auc: (test=0.750) total time=  35.5s\n",
      "[CV 5/5] END forest__max_features=log2, forest__min_samples_split=2, forest__n_estimators=1000, pca=passthrough; accuracy: (test=0.718) roc_auc: (test=0.746) total time=  35.3s\n",
      "[CV 1/5] END forest__max_features=log2, forest__min_samples_split=2, forest__n_estimators=1500, pca=passthrough; accuracy: (test=0.712) roc_auc: (test=0.742) total time=  53.3s\n",
      "[CV 2/5] END forest__max_features=log2, forest__min_samples_split=2, forest__n_estimators=1500, pca=passthrough; accuracy: (test=0.712) roc_auc: (test=0.730) total time=  50.8s\n",
      "[CV 3/5] END forest__max_features=log2, forest__min_samples_split=2, forest__n_estimators=1500, pca=passthrough; accuracy: (test=0.716) roc_auc: (test=0.744) total time=  45.3s\n",
      "[CV 4/5] END forest__max_features=log2, forest__min_samples_split=2, forest__n_estimators=1500, pca=passthrough; accuracy: (test=0.717) roc_auc: (test=0.751) total time= 1.1min\n",
      "[CV 5/5] END forest__max_features=log2, forest__min_samples_split=2, forest__n_estimators=1500, pca=passthrough; accuracy: (test=0.718) roc_auc: (test=0.747) total time=  52.4s\n",
      "[CV 1/5] END forest__max_features=log2, forest__min_samples_split=10, forest__n_estimators=500, pca=passthrough; accuracy: (test=0.708) roc_auc: (test=0.726) total time=  14.1s\n",
      "[CV 2/5] END forest__max_features=log2, forest__min_samples_split=10, forest__n_estimators=500, pca=passthrough; accuracy: (test=0.708) roc_auc: (test=0.717) total time=  16.3s\n",
      "[CV 3/5] END forest__max_features=log2, forest__min_samples_split=10, forest__n_estimators=500, pca=passthrough; accuracy: (test=0.714) roc_auc: (test=0.732) total time=  16.1s\n",
      "[CV 4/5] END forest__max_features=log2, forest__min_samples_split=10, forest__n_estimators=500, pca=passthrough; accuracy: (test=0.712) roc_auc: (test=0.736) total time=  13.5s\n",
      "[CV 5/5] END forest__max_features=log2, forest__min_samples_split=10, forest__n_estimators=500, pca=passthrough; accuracy: (test=0.715) roc_auc: (test=0.736) total time=  14.9s\n",
      "[CV 1/5] END forest__max_features=log2, forest__min_samples_split=10, forest__n_estimators=1000, pca=passthrough; accuracy: (test=0.709) roc_auc: (test=0.729) total time=  28.5s\n",
      "[CV 2/5] END forest__max_features=log2, forest__min_samples_split=10, forest__n_estimators=1000, pca=passthrough; accuracy: (test=0.709) roc_auc: (test=0.720) total time=  27.1s\n",
      "[CV 3/5] END forest__max_features=log2, forest__min_samples_split=10, forest__n_estimators=1000, pca=passthrough; accuracy: (test=0.714) roc_auc: (test=0.733) total time=  27.6s\n",
      "[CV 4/5] END forest__max_features=log2, forest__min_samples_split=10, forest__n_estimators=1000, pca=passthrough; accuracy: (test=0.712) roc_auc: (test=0.737) total time=  27.2s\n",
      "[CV 5/5] END forest__max_features=log2, forest__min_samples_split=10, forest__n_estimators=1000, pca=passthrough; accuracy: (test=0.714) roc_auc: (test=0.737) total time=  27.1s\n",
      "[CV 1/5] END forest__max_features=log2, forest__min_samples_split=10, forest__n_estimators=1500, pca=passthrough; accuracy: (test=0.708) roc_auc: (test=0.730) total time=  41.7s\n",
      "[CV 2/5] END forest__max_features=log2, forest__min_samples_split=10, forest__n_estimators=1500, pca=passthrough; accuracy: (test=0.708) roc_auc: (test=0.720) total time=  40.9s\n",
      "[CV 3/5] END forest__max_features=log2, forest__min_samples_split=10, forest__n_estimators=1500, pca=passthrough; accuracy: (test=0.714) roc_auc: (test=0.733) total time=  44.0s\n",
      "[CV 4/5] END forest__max_features=log2, forest__min_samples_split=10, forest__n_estimators=1500, pca=passthrough; accuracy: (test=0.711) roc_auc: (test=0.738) total time=  44.4s\n",
      "[CV 5/5] END forest__max_features=log2, forest__min_samples_split=10, forest__n_estimators=1500, pca=passthrough; accuracy: (test=0.714) roc_auc: (test=0.737) total time=  49.0s\n",
      "[CV 1/5] END forest__max_features=sqrt, forest__min_samples_split=2, forest__n_estimators=1000, pca=PCA(random_state=1729), pca__n_components=10; accuracy: (test=0.698) roc_auc: (test=0.654) total time= 1.6min\n",
      "[CV 2/5] END forest__max_features=sqrt, forest__min_samples_split=2, forest__n_estimators=1000, pca=PCA(random_state=1729), pca__n_components=10; accuracy: (test=0.697) roc_auc: (test=0.646) total time= 1.5min\n",
      "[CV 3/5] END forest__max_features=sqrt, forest__min_samples_split=2, forest__n_estimators=1000, pca=PCA(random_state=1729), pca__n_components=10; accuracy: (test=0.703) roc_auc: (test=0.658) total time= 1.5min\n",
      "[CV 4/5] END forest__max_features=sqrt, forest__min_samples_split=2, forest__n_estimators=1000, pca=PCA(random_state=1729), pca__n_components=10; accuracy: (test=0.695) roc_auc: (test=0.654) total time= 1.5min\n",
      "[CV 5/5] END forest__max_features=sqrt, forest__min_samples_split=2, forest__n_estimators=1000, pca=PCA(random_state=1729), pca__n_components=10; accuracy: (test=0.701) roc_auc: (test=0.657) total time= 1.6min\n",
      "[CV 1/5] END forest__max_features=sqrt, forest__min_samples_split=2, forest__n_estimators=1000, pca=PCA(random_state=1729), pca__n_components=30; accuracy: (test=0.705) roc_auc: (test=0.685) total time= 2.3min\n",
      "[CV 2/5] END forest__max_features=sqrt, forest__min_samples_split=2, forest__n_estimators=1000, pca=PCA(random_state=1729), pca__n_components=30; accuracy: (test=0.702) roc_auc: (test=0.676) total time= 2.4min\n",
      "[CV 3/5] END forest__max_features=sqrt, forest__min_samples_split=2, forest__n_estimators=1000, pca=PCA(random_state=1729), pca__n_components=30; accuracy: (test=0.713) roc_auc: (test=0.694) total time= 2.3min\n",
      "[CV 4/5] END forest__max_features=sqrt, forest__min_samples_split=2, forest__n_estimators=1000, pca=PCA(random_state=1729), pca__n_components=30; accuracy: (test=0.706) roc_auc: (test=0.689) total time= 2.5min\n",
      "[CV 5/5] END forest__max_features=sqrt, forest__min_samples_split=2, forest__n_estimators=1000, pca=PCA(random_state=1729), pca__n_components=30; accuracy: (test=0.708) roc_auc: (test=0.692) total time= 2.4min\n",
      "[CV 1/5] END forest__max_features=sqrt, forest__min_samples_split=2, forest__n_estimators=1500, pca=PCA(random_state=1729), pca__n_components=10; accuracy: (test=0.698) roc_auc: (test=0.655) total time= 2.5min\n",
      "[CV 2/5] END forest__max_features=sqrt, forest__min_samples_split=2, forest__n_estimators=1500, pca=PCA(random_state=1729), pca__n_components=10; accuracy: (test=0.697) roc_auc: (test=0.646) total time= 2.2min\n",
      "[CV 3/5] END forest__max_features=sqrt, forest__min_samples_split=2, forest__n_estimators=1500, pca=PCA(random_state=1729), pca__n_components=10; accuracy: (test=0.702) roc_auc: (test=0.657) total time= 2.2min\n",
      "[CV 4/5] END forest__max_features=sqrt, forest__min_samples_split=2, forest__n_estimators=1500, pca=PCA(random_state=1729), pca__n_components=10; accuracy: (test=0.695) roc_auc: (test=0.654) total time= 2.2min\n",
      "[CV 5/5] END forest__max_features=sqrt, forest__min_samples_split=2, forest__n_estimators=1500, pca=PCA(random_state=1729), pca__n_components=10; accuracy: (test=0.701) roc_auc: (test=0.658) total time= 2.2min\n",
      "[CV 1/5] END forest__max_features=sqrt, forest__min_samples_split=2, forest__n_estimators=1500, pca=PCA(random_state=1729), pca__n_components=30; accuracy: (test=0.705) roc_auc: (test=0.686) total time= 3.3min\n",
      "[CV 2/5] END forest__max_features=sqrt, forest__min_samples_split=2, forest__n_estimators=1500, pca=PCA(random_state=1729), pca__n_components=30; accuracy: (test=0.702) roc_auc: (test=0.677) total time= 3.4min\n",
      "[CV 3/5] END forest__max_features=sqrt, forest__min_samples_split=2, forest__n_estimators=1500, pca=PCA(random_state=1729), pca__n_components=30; accuracy: (test=0.712) roc_auc: (test=0.694) total time= 3.7min\n",
      "[CV 4/5] END forest__max_features=sqrt, forest__min_samples_split=2, forest__n_estimators=1500, pca=PCA(random_state=1729), pca__n_components=30; accuracy: (test=0.707) roc_auc: (test=0.689) total time= 3.8min\n",
      "[CV 5/5] END forest__max_features=sqrt, forest__min_samples_split=2, forest__n_estimators=1500, pca=PCA(random_state=1729), pca__n_components=30; accuracy: (test=0.708) roc_auc: (test=0.693) total time= 3.7min\n",
      "[CV 1/5] END forest__max_features=sqrt, forest__min_samples_split=10, forest__n_estimators=1000, pca=PCA(random_state=1729), pca__n_components=10; accuracy: (test=0.698) roc_auc: (test=0.651) total time= 1.6min\n",
      "[CV 2/5] END forest__max_features=sqrt, forest__min_samples_split=10, forest__n_estimators=1000, pca=PCA(random_state=1729), pca__n_components=10; accuracy: (test=0.697) roc_auc: (test=0.644) total time= 1.6min\n",
      "[CV 3/5] END forest__max_features=sqrt, forest__min_samples_split=10, forest__n_estimators=1000, pca=PCA(random_state=1729), pca__n_components=10; accuracy: (test=0.703) roc_auc: (test=0.654) total time= 1.6min\n",
      "[CV 4/5] END forest__max_features=sqrt, forest__min_samples_split=10, forest__n_estimators=1000, pca=PCA(random_state=1729), pca__n_components=10; accuracy: (test=0.697) roc_auc: (test=0.651) total time= 1.5min\n",
      "[CV 5/5] END forest__max_features=sqrt, forest__min_samples_split=10, forest__n_estimators=1000, pca=PCA(random_state=1729), pca__n_components=10; accuracy: (test=0.700) roc_auc: (test=0.654) total time= 1.6min\n",
      "[CV 1/5] END forest__max_features=sqrt, forest__min_samples_split=10, forest__n_estimators=1000, pca=PCA(random_state=1729), pca__n_components=30; accuracy: (test=0.703) roc_auc: (test=0.678) total time= 2.8min\n",
      "[CV 2/5] END forest__max_features=sqrt, forest__min_samples_split=10, forest__n_estimators=1000, pca=PCA(random_state=1729), pca__n_components=30; accuracy: (test=0.701) roc_auc: (test=0.670) total time= 2.6min\n",
      "[CV 3/5] END forest__max_features=sqrt, forest__min_samples_split=10, forest__n_estimators=1000, pca=PCA(random_state=1729), pca__n_components=30; accuracy: (test=0.710) roc_auc: (test=0.688) total time= 2.6min\n",
      "[CV 4/5] END forest__max_features=sqrt, forest__min_samples_split=10, forest__n_estimators=1000, pca=PCA(random_state=1729), pca__n_components=30; accuracy: (test=0.706) roc_auc: (test=0.686) total time= 2.5min\n",
      "[CV 5/5] END forest__max_features=sqrt, forest__min_samples_split=10, forest__n_estimators=1000, pca=PCA(random_state=1729), pca__n_components=30; accuracy: (test=0.707) roc_auc: (test=0.689) total time= 2.5min\n",
      "[CV 1/5] END forest__max_features=sqrt, forest__min_samples_split=10, forest__n_estimators=1500, pca=PCA(random_state=1729), pca__n_components=10; accuracy: (test=0.698) roc_auc: (test=0.651) total time= 2.4min\n",
      "[CV 2/5] END forest__max_features=sqrt, forest__min_samples_split=10, forest__n_estimators=1500, pca=PCA(random_state=1729), pca__n_components=10; accuracy: (test=0.697) roc_auc: (test=0.643) total time= 2.4min\n",
      "[CV 3/5] END forest__max_features=sqrt, forest__min_samples_split=10, forest__n_estimators=1500, pca=PCA(random_state=1729), pca__n_components=10; accuracy: (test=0.703) roc_auc: (test=0.654) total time= 2.5min\n",
      "[CV 4/5] END forest__max_features=sqrt, forest__min_samples_split=10, forest__n_estimators=1500, pca=PCA(random_state=1729), pca__n_components=10; accuracy: (test=0.696) roc_auc: (test=0.651) total time= 2.4min\n",
      "[CV 5/5] END forest__max_features=sqrt, forest__min_samples_split=10, forest__n_estimators=1500, pca=PCA(random_state=1729), pca__n_components=10; accuracy: (test=0.701) roc_auc: (test=0.655) total time= 2.5min\n",
      "[CV 1/5] END forest__max_features=sqrt, forest__min_samples_split=10, forest__n_estimators=1500, pca=PCA(random_state=1729), pca__n_components=30; accuracy: (test=0.704) roc_auc: (test=0.679) total time= 3.9min\n",
      "[CV 2/5] END forest__max_features=sqrt, forest__min_samples_split=10, forest__n_estimators=1500, pca=PCA(random_state=1729), pca__n_components=30; accuracy: (test=0.703) roc_auc: (test=0.671) total time= 4.0min\n",
      "[CV 3/5] END forest__max_features=sqrt, forest__min_samples_split=10, forest__n_estimators=1500, pca=PCA(random_state=1729), pca__n_components=30; accuracy: (test=0.709) roc_auc: (test=0.689) total time= 4.0min\n",
      "[CV 4/5] END forest__max_features=sqrt, forest__min_samples_split=10, forest__n_estimators=1500, pca=PCA(random_state=1729), pca__n_components=30; accuracy: (test=0.705) roc_auc: (test=0.686) total time= 4.0min\n",
      "[CV 5/5] END forest__max_features=sqrt, forest__min_samples_split=10, forest__n_estimators=1500, pca=PCA(random_state=1729), pca__n_components=30; accuracy: (test=0.706) roc_auc: (test=0.690) total time= 3.7min\n",
      "[CV 1/5] END forest__max_features=log2, forest__min_samples_split=2, forest__n_estimators=1000, pca=PCA(random_state=1729), pca__n_components=10; accuracy: (test=0.698) roc_auc: (test=0.654) total time= 1.7min\n",
      "[CV 2/5] END forest__max_features=log2, forest__min_samples_split=2, forest__n_estimators=1000, pca=PCA(random_state=1729), pca__n_components=10; accuracy: (test=0.697) roc_auc: (test=0.646) total time= 2.0min\n",
      "[CV 3/5] END forest__max_features=log2, forest__min_samples_split=2, forest__n_estimators=1000, pca=PCA(random_state=1729), pca__n_components=10; accuracy: (test=0.703) roc_auc: (test=0.658) total time= 2.2min\n",
      "[CV 4/5] END forest__max_features=log2, forest__min_samples_split=2, forest__n_estimators=1000, pca=PCA(random_state=1729), pca__n_components=10; accuracy: (test=0.695) roc_auc: (test=0.654) total time= 2.1min\n",
      "[CV 5/5] END forest__max_features=log2, forest__min_samples_split=2, forest__n_estimators=1000, pca=PCA(random_state=1729), pca__n_components=10; accuracy: (test=0.701) roc_auc: (test=0.657) total time= 2.3min\n",
      "[CV 1/5] END forest__max_features=log2, forest__min_samples_split=2, forest__n_estimators=1000, pca=PCA(random_state=1729), pca__n_components=30; accuracy: (test=0.705) roc_auc: (test=0.688) total time= 2.6min\n",
      "[CV 2/5] END forest__max_features=log2, forest__min_samples_split=2, forest__n_estimators=1000, pca=PCA(random_state=1729), pca__n_components=30; accuracy: (test=0.702) roc_auc: (test=0.679) total time= 2.6min\n",
      "[CV 3/5] END forest__max_features=log2, forest__min_samples_split=2, forest__n_estimators=1000, pca=PCA(random_state=1729), pca__n_components=30; accuracy: (test=0.710) roc_auc: (test=0.696) total time= 2.4min\n",
      "[CV 4/5] END forest__max_features=log2, forest__min_samples_split=2, forest__n_estimators=1000, pca=PCA(random_state=1729), pca__n_components=30; accuracy: (test=0.708) roc_auc: (test=0.691) total time= 2.1min\n",
      "[CV 5/5] END forest__max_features=log2, forest__min_samples_split=2, forest__n_estimators=1000, pca=PCA(random_state=1729), pca__n_components=30; accuracy: (test=0.708) roc_auc: (test=0.696) total time= 2.1min\n",
      "[CV 1/5] END forest__max_features=log2, forest__min_samples_split=2, forest__n_estimators=1500, pca=PCA(random_state=1729), pca__n_components=10; accuracy: (test=0.698) roc_auc: (test=0.655) total time= 2.7min\n",
      "[CV 2/5] END forest__max_features=log2, forest__min_samples_split=2, forest__n_estimators=1500, pca=PCA(random_state=1729), pca__n_components=10; accuracy: (test=0.697) roc_auc: (test=0.646) total time= 2.7min\n",
      "[CV 3/5] END forest__max_features=log2, forest__min_samples_split=2, forest__n_estimators=1500, pca=PCA(random_state=1729), pca__n_components=10; accuracy: (test=0.702) roc_auc: (test=0.657) total time= 2.6min\n",
      "[CV 4/5] END forest__max_features=log2, forest__min_samples_split=2, forest__n_estimators=1500, pca=PCA(random_state=1729), pca__n_components=10; accuracy: (test=0.695) roc_auc: (test=0.654) total time= 2.6min\n",
      "[CV 5/5] END forest__max_features=log2, forest__min_samples_split=2, forest__n_estimators=1500, pca=PCA(random_state=1729), pca__n_components=10; accuracy: (test=0.701) roc_auc: (test=0.658) total time= 2.6min\n",
      "[CV 1/5] END forest__max_features=log2, forest__min_samples_split=2, forest__n_estimators=1500, pca=PCA(random_state=1729), pca__n_components=30; accuracy: (test=0.704) roc_auc: (test=0.687) total time= 3.1min\n",
      "[CV 2/5] END forest__max_features=log2, forest__min_samples_split=2, forest__n_estimators=1500, pca=PCA(random_state=1729), pca__n_components=30; accuracy: (test=0.702) roc_auc: (test=0.679) total time= 3.2min\n",
      "[CV 3/5] END forest__max_features=log2, forest__min_samples_split=2, forest__n_estimators=1500, pca=PCA(random_state=1729), pca__n_components=30; accuracy: (test=0.710) roc_auc: (test=0.696) total time= 3.1min\n",
      "[CV 4/5] END forest__max_features=log2, forest__min_samples_split=2, forest__n_estimators=1500, pca=PCA(random_state=1729), pca__n_components=30; accuracy: (test=0.706) roc_auc: (test=0.692) total time= 3.2min\n",
      "[CV 5/5] END forest__max_features=log2, forest__min_samples_split=2, forest__n_estimators=1500, pca=PCA(random_state=1729), pca__n_components=30; accuracy: (test=0.707) roc_auc: (test=0.696) total time= 3.1min\n",
      "[CV 1/5] END forest__max_features=log2, forest__min_samples_split=10, forest__n_estimators=1000, pca=PCA(random_state=1729), pca__n_components=10; accuracy: (test=0.698) roc_auc: (test=0.651) total time= 1.7min\n",
      "[CV 2/5] END forest__max_features=log2, forest__min_samples_split=10, forest__n_estimators=1000, pca=PCA(random_state=1729), pca__n_components=10; accuracy: (test=0.697) roc_auc: (test=0.644) total time= 1.7min\n",
      "[CV 3/5] END forest__max_features=log2, forest__min_samples_split=10, forest__n_estimators=1000, pca=PCA(random_state=1729), pca__n_components=10; accuracy: (test=0.703) roc_auc: (test=0.654) total time= 1.7min\n",
      "[CV 4/5] END forest__max_features=log2, forest__min_samples_split=10, forest__n_estimators=1000, pca=PCA(random_state=1729), pca__n_components=10; accuracy: (test=0.697) roc_auc: (test=0.651) total time= 1.6min\n",
      "[CV 5/5] END forest__max_features=log2, forest__min_samples_split=10, forest__n_estimators=1000, pca=PCA(random_state=1729), pca__n_components=10; accuracy: (test=0.700) roc_auc: (test=0.654) total time= 1.7min\n",
      "[CV 1/5] END forest__max_features=log2, forest__min_samples_split=10, forest__n_estimators=1000, pca=PCA(random_state=1729), pca__n_components=30; accuracy: (test=0.703) roc_auc: (test=0.680) total time= 2.1min\n",
      "[CV 2/5] END forest__max_features=log2, forest__min_samples_split=10, forest__n_estimators=1000, pca=PCA(random_state=1729), pca__n_components=30; accuracy: (test=0.701) roc_auc: (test=0.673) total time= 2.1min\n",
      "[CV 3/5] END forest__max_features=log2, forest__min_samples_split=10, forest__n_estimators=1000, pca=PCA(random_state=1729), pca__n_components=30; accuracy: (test=0.711) roc_auc: (test=0.689) total time= 2.1min\n",
      "[CV 4/5] END forest__max_features=log2, forest__min_samples_split=10, forest__n_estimators=1000, pca=PCA(random_state=1729), pca__n_components=30; accuracy: (test=0.705) roc_auc: (test=0.688) total time= 2.1min\n",
      "[CV 5/5] END forest__max_features=log2, forest__min_samples_split=10, forest__n_estimators=1000, pca=PCA(random_state=1729), pca__n_components=30; accuracy: (test=0.708) roc_auc: (test=0.690) total time= 2.1min\n",
      "[CV 1/5] END forest__max_features=log2, forest__min_samples_split=10, forest__n_estimators=1500, pca=PCA(random_state=1729), pca__n_components=10; accuracy: (test=0.698) roc_auc: (test=0.651) total time= 2.5min\n",
      "[CV 2/5] END forest__max_features=log2, forest__min_samples_split=10, forest__n_estimators=1500, pca=PCA(random_state=1729), pca__n_components=10; accuracy: (test=0.697) roc_auc: (test=0.643) total time= 2.5min\n",
      "[CV 3/5] END forest__max_features=log2, forest__min_samples_split=10, forest__n_estimators=1500, pca=PCA(random_state=1729), pca__n_components=10; accuracy: (test=0.703) roc_auc: (test=0.654) total time= 2.5min\n",
      "[CV 4/5] END forest__max_features=log2, forest__min_samples_split=10, forest__n_estimators=1500, pca=PCA(random_state=1729), pca__n_components=10; accuracy: (test=0.696) roc_auc: (test=0.651) total time= 2.8min\n",
      "[CV 5/5] END forest__max_features=log2, forest__min_samples_split=10, forest__n_estimators=1500, pca=PCA(random_state=1729), pca__n_components=10; accuracy: (test=0.701) roc_auc: (test=0.655) total time= 2.9min\n",
      "[CV 1/5] END forest__max_features=log2, forest__min_samples_split=10, forest__n_estimators=1500, pca=PCA(random_state=1729), pca__n_components=30; accuracy: (test=0.703) roc_auc: (test=0.682) total time= 3.3min\n",
      "[CV 2/5] END forest__max_features=log2, forest__min_samples_split=10, forest__n_estimators=1500, pca=PCA(random_state=1729), pca__n_components=30; accuracy: (test=0.701) roc_auc: (test=0.673) total time= 3.3min\n",
      "[CV 3/5] END forest__max_features=log2, forest__min_samples_split=10, forest__n_estimators=1500, pca=PCA(random_state=1729), pca__n_components=30; accuracy: (test=0.711) roc_auc: (test=0.690) total time= 3.5min\n",
      "[CV 4/5] END forest__max_features=log2, forest__min_samples_split=10, forest__n_estimators=1500, pca=PCA(random_state=1729), pca__n_components=30; accuracy: (test=0.704) roc_auc: (test=0.687) total time=38.9min\n",
      "[CV 5/5] END forest__max_features=log2, forest__min_samples_split=10, forest__n_estimators=1500, pca=PCA(random_state=1729), pca__n_components=30; accuracy: (test=0.708) roc_auc: (test=0.690) total time= 3.2min\n"
     ]
    },
    {
     "data": {
      "text/html": [
       "<style>#sk-container-id-2 {color: black;}#sk-container-id-2 pre{padding: 0;}#sk-container-id-2 div.sk-toggleable {background-color: white;}#sk-container-id-2 label.sk-toggleable__label {cursor: pointer;display: block;width: 100%;margin-bottom: 0;padding: 0.3em;box-sizing: border-box;text-align: center;}#sk-container-id-2 label.sk-toggleable__label-arrow:before {content: \"▸\";float: left;margin-right: 0.25em;color: #696969;}#sk-container-id-2 label.sk-toggleable__label-arrow:hover:before {color: black;}#sk-container-id-2 div.sk-estimator:hover label.sk-toggleable__label-arrow:before {color: black;}#sk-container-id-2 div.sk-toggleable__content {max-height: 0;max-width: 0;overflow: hidden;text-align: left;background-color: #f0f8ff;}#sk-container-id-2 div.sk-toggleable__content pre {margin: 0.2em;color: black;border-radius: 0.25em;background-color: #f0f8ff;}#sk-container-id-2 input.sk-toggleable__control:checked~div.sk-toggleable__content {max-height: 200px;max-width: 100%;overflow: auto;}#sk-container-id-2 input.sk-toggleable__control:checked~label.sk-toggleable__label-arrow:before {content: \"▾\";}#sk-container-id-2 div.sk-estimator input.sk-toggleable__control:checked~label.sk-toggleable__label {background-color: #d4ebff;}#sk-container-id-2 div.sk-label input.sk-toggleable__control:checked~label.sk-toggleable__label {background-color: #d4ebff;}#sk-container-id-2 input.sk-hidden--visually {border: 0;clip: rect(1px 1px 1px 1px);clip: rect(1px, 1px, 1px, 1px);height: 1px;margin: -1px;overflow: hidden;padding: 0;position: absolute;width: 1px;}#sk-container-id-2 div.sk-estimator {font-family: monospace;background-color: #f0f8ff;border: 1px dotted black;border-radius: 0.25em;box-sizing: border-box;margin-bottom: 0.5em;}#sk-container-id-2 div.sk-estimator:hover {background-color: #d4ebff;}#sk-container-id-2 div.sk-parallel-item::after {content: \"\";width: 100%;border-bottom: 1px solid gray;flex-grow: 1;}#sk-container-id-2 div.sk-label:hover label.sk-toggleable__label {background-color: #d4ebff;}#sk-container-id-2 div.sk-serial::before {content: \"\";position: absolute;border-left: 1px solid gray;box-sizing: border-box;top: 0;bottom: 0;left: 50%;z-index: 0;}#sk-container-id-2 div.sk-serial {display: flex;flex-direction: column;align-items: center;background-color: white;padding-right: 0.2em;padding-left: 0.2em;position: relative;}#sk-container-id-2 div.sk-item {position: relative;z-index: 1;}#sk-container-id-2 div.sk-parallel {display: flex;align-items: stretch;justify-content: center;background-color: white;position: relative;}#sk-container-id-2 div.sk-item::before, #sk-container-id-2 div.sk-parallel-item::before {content: \"\";position: absolute;border-left: 1px solid gray;box-sizing: border-box;top: 0;bottom: 0;left: 50%;z-index: -1;}#sk-container-id-2 div.sk-parallel-item {display: flex;flex-direction: column;z-index: 1;position: relative;background-color: white;}#sk-container-id-2 div.sk-parallel-item:first-child::after {align-self: flex-end;width: 50%;}#sk-container-id-2 div.sk-parallel-item:last-child::after {align-self: flex-start;width: 50%;}#sk-container-id-2 div.sk-parallel-item:only-child::after {width: 0;}#sk-container-id-2 div.sk-dashed-wrapped {border: 1px dashed gray;margin: 0 0.4em 0.5em 0.4em;box-sizing: border-box;padding-bottom: 0.4em;background-color: white;}#sk-container-id-2 div.sk-label label {font-family: monospace;font-weight: bold;display: inline-block;line-height: 1.2em;}#sk-container-id-2 div.sk-label-container {text-align: center;}#sk-container-id-2 div.sk-container {/* jupyter's `normalize.less` sets `[hidden] { display: none; }` but bootstrap.min.css set `[hidden] { display: none !important; }` so we also need the `!important` here to be able to override the default hidden behavior on the sphinx rendered scikit-learn.org. See: https://github.com/scikit-learn/scikit-learn/issues/21755 */display: inline-block !important;position: relative;}#sk-container-id-2 div.sk-text-repr-fallback {display: none;}</style><div id=\"sk-container-id-2\" class=\"sk-top-container\"><div class=\"sk-text-repr-fallback\"><pre>GridSearchCV(estimator=Pipeline(steps=[(&#x27;pca&#x27;, PCA(random_state=1729)),\n",
       "                                       (&#x27;forest&#x27;,\n",
       "                                        RandomForestClassifier(n_jobs=3,\n",
       "                                                               random_state=1729))]),\n",
       "             param_grid=[{&#x27;forest__max_features&#x27;: [&#x27;sqrt&#x27;, &#x27;log2&#x27;],\n",
       "                          &#x27;forest__min_samples_split&#x27;: [2, 10],\n",
       "                          &#x27;forest__n_estimators&#x27;: [500, 1000, 1500],\n",
       "                          &#x27;pca&#x27;: [&#x27;passthrough&#x27;]},\n",
       "                         {&#x27;forest__max_features&#x27;: [&#x27;sqrt&#x27;, &#x27;log2&#x27;],\n",
       "                          &#x27;forest__min_samples_split&#x27;: [2, 10],\n",
       "                          &#x27;forest__n_estimators&#x27;: [1000, 1500],\n",
       "                          &#x27;pca&#x27;: [PCA(random_state=1729)],\n",
       "                          &#x27;pca__n_components&#x27;: [10, 30]}],\n",
       "             refit=&#x27;roc_auc&#x27;, scoring=(&#x27;roc_auc&#x27;, &#x27;accuracy&#x27;), verbose=4)</pre><b>In a Jupyter environment, please rerun this cell to show the HTML representation or trust the notebook. <br />On GitHub, the HTML representation is unable to render, please try loading this page with nbviewer.org.</b></div><div class=\"sk-container\" hidden><div class=\"sk-item sk-dashed-wrapped\"><div class=\"sk-label-container\"><div class=\"sk-label sk-toggleable\"><input class=\"sk-toggleable__control sk-hidden--visually\" id=\"sk-estimator-id-2\" type=\"checkbox\" ><label for=\"sk-estimator-id-2\" class=\"sk-toggleable__label sk-toggleable__label-arrow\">GridSearchCV</label><div class=\"sk-toggleable__content\"><pre>GridSearchCV(estimator=Pipeline(steps=[(&#x27;pca&#x27;, PCA(random_state=1729)),\n",
       "                                       (&#x27;forest&#x27;,\n",
       "                                        RandomForestClassifier(n_jobs=3,\n",
       "                                                               random_state=1729))]),\n",
       "             param_grid=[{&#x27;forest__max_features&#x27;: [&#x27;sqrt&#x27;, &#x27;log2&#x27;],\n",
       "                          &#x27;forest__min_samples_split&#x27;: [2, 10],\n",
       "                          &#x27;forest__n_estimators&#x27;: [500, 1000, 1500],\n",
       "                          &#x27;pca&#x27;: [&#x27;passthrough&#x27;]},\n",
       "                         {&#x27;forest__max_features&#x27;: [&#x27;sqrt&#x27;, &#x27;log2&#x27;],\n",
       "                          &#x27;forest__min_samples_split&#x27;: [2, 10],\n",
       "                          &#x27;forest__n_estimators&#x27;: [1000, 1500],\n",
       "                          &#x27;pca&#x27;: [PCA(random_state=1729)],\n",
       "                          &#x27;pca__n_components&#x27;: [10, 30]}],\n",
       "             refit=&#x27;roc_auc&#x27;, scoring=(&#x27;roc_auc&#x27;, &#x27;accuracy&#x27;), verbose=4)</pre></div></div></div><div class=\"sk-parallel\"><div class=\"sk-parallel-item\"><div class=\"sk-item\"><div class=\"sk-label-container\"><div class=\"sk-label sk-toggleable\"><input class=\"sk-toggleable__control sk-hidden--visually\" id=\"sk-estimator-id-3\" type=\"checkbox\" ><label for=\"sk-estimator-id-3\" class=\"sk-toggleable__label sk-toggleable__label-arrow\">estimator: Pipeline</label><div class=\"sk-toggleable__content\"><pre>Pipeline(steps=[(&#x27;pca&#x27;, PCA(random_state=1729)),\n",
       "                (&#x27;forest&#x27;,\n",
       "                 RandomForestClassifier(n_jobs=3, random_state=1729))])</pre></div></div></div><div class=\"sk-serial\"><div class=\"sk-item\"><div class=\"sk-serial\"><div class=\"sk-item\"><div class=\"sk-estimator sk-toggleable\"><input class=\"sk-toggleable__control sk-hidden--visually\" id=\"sk-estimator-id-4\" type=\"checkbox\" ><label for=\"sk-estimator-id-4\" class=\"sk-toggleable__label sk-toggleable__label-arrow\">PCA</label><div class=\"sk-toggleable__content\"><pre>PCA(random_state=1729)</pre></div></div></div><div class=\"sk-item\"><div class=\"sk-estimator sk-toggleable\"><input class=\"sk-toggleable__control sk-hidden--visually\" id=\"sk-estimator-id-5\" type=\"checkbox\" ><label for=\"sk-estimator-id-5\" class=\"sk-toggleable__label sk-toggleable__label-arrow\">RandomForestClassifier</label><div class=\"sk-toggleable__content\"><pre>RandomForestClassifier(n_jobs=3, random_state=1729)</pre></div></div></div></div></div></div></div></div></div></div></div></div>"
      ],
      "text/plain": [
       "GridSearchCV(estimator=Pipeline(steps=[('pca', PCA(random_state=1729)),\n",
       "                                       ('forest',\n",
       "                                        RandomForestClassifier(n_jobs=3,\n",
       "                                                               random_state=1729))]),\n",
       "             param_grid=[{'forest__max_features': ['sqrt', 'log2'],\n",
       "                          'forest__min_samples_split': [2, 10],\n",
       "                          'forest__n_estimators': [500, 1000, 1500],\n",
       "                          'pca': ['passthrough']},\n",
       "                         {'forest__max_features': ['sqrt', 'log2'],\n",
       "                          'forest__min_samples_split': [2, 10],\n",
       "                          'forest__n_estimators': [1000, 1500],\n",
       "                          'pca': [PCA(random_state=1729)],\n",
       "                          'pca__n_components': [10, 30]}],\n",
       "             refit='roc_auc', scoring=('roc_auc', 'accuracy'), verbose=4)"
      ]
     },
     "execution_count": 29,
     "metadata": {},
     "output_type": "execute_result"
    }
   ],
   "source": [
    "from sklearn.decomposition import PCA\n",
    "from sklearn.ensemble import RandomForestClassifier\n",
    "\n",
    "forest_params = [\n",
    "    {\n",
    "        'pca': ['passthrough'],\n",
    "        'forest__n_estimators': [500, 1000, 1500],\n",
    "        'forest__min_samples_split': [2, 10],\n",
    "        'forest__max_features': ['sqrt', 'log2'],\n",
    "    },\n",
    "    {\n",
    "        'pca': [PCA(random_state=1729)],\n",
    "        'pca__n_components': [10, 30],\n",
    "        'forest__n_estimators': [1000,1500],\n",
    "        'forest__min_samples_split': [2, 10],\n",
    "        'forest__max_features': ['sqrt', 'log2'],\n",
    "    },\n",
    "]\n",
    "\n",
    "\n",
    "forest_grid = GridSearchCV(\n",
    "    Pipeline(steps=[('pca', PCA(random_state=1729)), ('forest', RandomForestClassifier(random_state=1729, n_jobs=3))]),\n",
    "    forest_params,\n",
    "    verbose=4,\n",
    "    scoring=('roc_auc', 'accuracy'),\n",
    "    refit='roc_auc')\n",
    "forest_grid.fit(X_train, y_train)"
   ]
  },
  {
   "cell_type": "code",
   "execution_count": 30,
   "metadata": {},
   "outputs": [
    {
     "data": {
      "text/html": [
       "<div>\n",
       "<style scoped>\n",
       "    .dataframe tbody tr th:only-of-type {\n",
       "        vertical-align: middle;\n",
       "    }\n",
       "\n",
       "    .dataframe tbody tr th {\n",
       "        vertical-align: top;\n",
       "    }\n",
       "\n",
       "    .dataframe thead th {\n",
       "        text-align: right;\n",
       "    }\n",
       "</style>\n",
       "<table border=\"1\" class=\"dataframe\">\n",
       "  <thead>\n",
       "    <tr style=\"text-align: right;\">\n",
       "      <th></th>\n",
       "      <th>mean_fit_time</th>\n",
       "      <th>mean_score_time</th>\n",
       "      <th>param_pca__n_components</th>\n",
       "      <th>param_forest__n_estimators</th>\n",
       "      <th>param_forest__min_samples_split</th>\n",
       "      <th>param_forest__max_features</th>\n",
       "      <th>mean_test_roc_auc</th>\n",
       "      <th>std_test_roc_auc</th>\n",
       "      <th>mean_test_accuracy</th>\n",
       "      <th>std_test_accuracy</th>\n",
       "    </tr>\n",
       "  </thead>\n",
       "  <tbody>\n",
       "    <tr>\n",
       "      <th>8</th>\n",
       "      <td>49.175018</td>\n",
       "      <td>4.178482</td>\n",
       "      <td>NaN</td>\n",
       "      <td>1500</td>\n",
       "      <td>2</td>\n",
       "      <td>log2</td>\n",
       "      <td>0.742667</td>\n",
       "      <td>0.007158</td>\n",
       "      <td>0.715000</td>\n",
       "      <td>0.002547</td>\n",
       "    </tr>\n",
       "    <tr>\n",
       "      <th>7</th>\n",
       "      <td>32.058409</td>\n",
       "      <td>2.972271</td>\n",
       "      <td>NaN</td>\n",
       "      <td>1000</td>\n",
       "      <td>2</td>\n",
       "      <td>log2</td>\n",
       "      <td>0.741988</td>\n",
       "      <td>0.007380</td>\n",
       "      <td>0.715367</td>\n",
       "      <td>0.002702</td>\n",
       "    </tr>\n",
       "    <tr>\n",
       "      <th>2</th>\n",
       "      <td>56.819780</td>\n",
       "      <td>4.167170</td>\n",
       "      <td>NaN</td>\n",
       "      <td>1500</td>\n",
       "      <td>2</td>\n",
       "      <td>sqrt</td>\n",
       "      <td>0.740035</td>\n",
       "      <td>0.006851</td>\n",
       "      <td>0.716714</td>\n",
       "      <td>0.003459</td>\n",
       "    </tr>\n",
       "    <tr>\n",
       "      <th>6</th>\n",
       "      <td>15.787638</td>\n",
       "      <td>1.505216</td>\n",
       "      <td>NaN</td>\n",
       "      <td>500</td>\n",
       "      <td>2</td>\n",
       "      <td>log2</td>\n",
       "      <td>0.739354</td>\n",
       "      <td>0.007405</td>\n",
       "      <td>0.715163</td>\n",
       "      <td>0.003816</td>\n",
       "    </tr>\n",
       "    <tr>\n",
       "      <th>1</th>\n",
       "      <td>37.932542</td>\n",
       "      <td>2.850290</td>\n",
       "      <td>NaN</td>\n",
       "      <td>1000</td>\n",
       "      <td>2</td>\n",
       "      <td>sqrt</td>\n",
       "      <td>0.739039</td>\n",
       "      <td>0.006713</td>\n",
       "      <td>0.717000</td>\n",
       "      <td>0.003326</td>\n",
       "    </tr>\n",
       "    <tr>\n",
       "      <th>0</th>\n",
       "      <td>18.896604</td>\n",
       "      <td>1.458573</td>\n",
       "      <td>NaN</td>\n",
       "      <td>500</td>\n",
       "      <td>2</td>\n",
       "      <td>sqrt</td>\n",
       "      <td>0.736948</td>\n",
       "      <td>0.006827</td>\n",
       "      <td>0.716633</td>\n",
       "      <td>0.003683</td>\n",
       "    </tr>\n",
       "    <tr>\n",
       "      <th>11</th>\n",
       "      <td>40.374079</td>\n",
       "      <td>3.609113</td>\n",
       "      <td>NaN</td>\n",
       "      <td>1500</td>\n",
       "      <td>10</td>\n",
       "      <td>log2</td>\n",
       "      <td>0.731664</td>\n",
       "      <td>0.006440</td>\n",
       "      <td>0.711286</td>\n",
       "      <td>0.002564</td>\n",
       "    </tr>\n",
       "    <tr>\n",
       "      <th>10</th>\n",
       "      <td>25.323229</td>\n",
       "      <td>2.175305</td>\n",
       "      <td>NaN</td>\n",
       "      <td>1000</td>\n",
       "      <td>10</td>\n",
       "      <td>log2</td>\n",
       "      <td>0.731165</td>\n",
       "      <td>0.006351</td>\n",
       "      <td>0.711531</td>\n",
       "      <td>0.002229</td>\n",
       "    </tr>\n",
       "    <tr>\n",
       "      <th>5</th>\n",
       "      <td>51.825002</td>\n",
       "      <td>3.438959</td>\n",
       "      <td>NaN</td>\n",
       "      <td>1500</td>\n",
       "      <td>10</td>\n",
       "      <td>sqrt</td>\n",
       "      <td>0.730338</td>\n",
       "      <td>0.006957</td>\n",
       "      <td>0.713163</td>\n",
       "      <td>0.003557</td>\n",
       "    </tr>\n",
       "    <tr>\n",
       "      <th>4</th>\n",
       "      <td>35.041371</td>\n",
       "      <td>2.363324</td>\n",
       "      <td>NaN</td>\n",
       "      <td>1000</td>\n",
       "      <td>10</td>\n",
       "      <td>sqrt</td>\n",
       "      <td>0.729598</td>\n",
       "      <td>0.006950</td>\n",
       "      <td>0.713367</td>\n",
       "      <td>0.002737</td>\n",
       "    </tr>\n",
       "    <tr>\n",
       "      <th>9</th>\n",
       "      <td>13.785510</td>\n",
       "      <td>1.207553</td>\n",
       "      <td>NaN</td>\n",
       "      <td>500</td>\n",
       "      <td>10</td>\n",
       "      <td>log2</td>\n",
       "      <td>0.729433</td>\n",
       "      <td>0.007219</td>\n",
       "      <td>0.711510</td>\n",
       "      <td>0.002830</td>\n",
       "    </tr>\n",
       "    <tr>\n",
       "      <th>3</th>\n",
       "      <td>17.480863</td>\n",
       "      <td>1.197951</td>\n",
       "      <td>NaN</td>\n",
       "      <td>500</td>\n",
       "      <td>10</td>\n",
       "      <td>sqrt</td>\n",
       "      <td>0.728450</td>\n",
       "      <td>0.006471</td>\n",
       "      <td>0.713490</td>\n",
       "      <td>0.003702</td>\n",
       "    </tr>\n",
       "    <tr>\n",
       "      <th>23</th>\n",
       "      <td>185.249377</td>\n",
       "      <td>3.647433</td>\n",
       "      <td>30</td>\n",
       "      <td>1500</td>\n",
       "      <td>2</td>\n",
       "      <td>log2</td>\n",
       "      <td>0.690196</td>\n",
       "      <td>0.006552</td>\n",
       "      <td>0.705796</td>\n",
       "      <td>0.002583</td>\n",
       "    </tr>\n",
       "    <tr>\n",
       "      <th>21</th>\n",
       "      <td>140.211062</td>\n",
       "      <td>2.703646</td>\n",
       "      <td>30</td>\n",
       "      <td>1000</td>\n",
       "      <td>2</td>\n",
       "      <td>log2</td>\n",
       "      <td>0.689868</td>\n",
       "      <td>0.005981</td>\n",
       "      <td>0.706469</td>\n",
       "      <td>0.002658</td>\n",
       "    </tr>\n",
       "    <tr>\n",
       "      <th>15</th>\n",
       "      <td>213.134165</td>\n",
       "      <td>3.363742</td>\n",
       "      <td>30</td>\n",
       "      <td>1500</td>\n",
       "      <td>2</td>\n",
       "      <td>sqrt</td>\n",
       "      <td>0.687604</td>\n",
       "      <td>0.006208</td>\n",
       "      <td>0.706918</td>\n",
       "      <td>0.003298</td>\n",
       "    </tr>\n",
       "    <tr>\n",
       "      <th>13</th>\n",
       "      <td>140.681502</td>\n",
       "      <td>2.426160</td>\n",
       "      <td>30</td>\n",
       "      <td>1000</td>\n",
       "      <td>2</td>\n",
       "      <td>sqrt</td>\n",
       "      <td>0.687137</td>\n",
       "      <td>0.006331</td>\n",
       "      <td>0.706816</td>\n",
       "      <td>0.003871</td>\n",
       "    </tr>\n",
       "    <tr>\n",
       "      <th>27</th>\n",
       "      <td>622.290457</td>\n",
       "      <td>3.606057</td>\n",
       "      <td>30</td>\n",
       "      <td>1500</td>\n",
       "      <td>10</td>\n",
       "      <td>log2</td>\n",
       "      <td>0.684367</td>\n",
       "      <td>0.006663</td>\n",
       "      <td>0.705388</td>\n",
       "      <td>0.003578</td>\n",
       "    </tr>\n",
       "    <tr>\n",
       "      <th>25</th>\n",
       "      <td>123.419825</td>\n",
       "      <td>2.287773</td>\n",
       "      <td>30</td>\n",
       "      <td>1000</td>\n",
       "      <td>10</td>\n",
       "      <td>log2</td>\n",
       "      <td>0.684049</td>\n",
       "      <td>0.006473</td>\n",
       "      <td>0.705571</td>\n",
       "      <td>0.003638</td>\n",
       "    </tr>\n",
       "    <tr>\n",
       "      <th>19</th>\n",
       "      <td>231.910508</td>\n",
       "      <td>3.511274</td>\n",
       "      <td>30</td>\n",
       "      <td>1500</td>\n",
       "      <td>10</td>\n",
       "      <td>sqrt</td>\n",
       "      <td>0.683068</td>\n",
       "      <td>0.007116</td>\n",
       "      <td>0.705408</td>\n",
       "      <td>0.002297</td>\n",
       "    </tr>\n",
       "    <tr>\n",
       "      <th>17</th>\n",
       "      <td>154.066913</td>\n",
       "      <td>2.366039</td>\n",
       "      <td>30</td>\n",
       "      <td>1000</td>\n",
       "      <td>10</td>\n",
       "      <td>sqrt</td>\n",
       "      <td>0.682352</td>\n",
       "      <td>0.007342</td>\n",
       "      <td>0.705265</td>\n",
       "      <td>0.003003</td>\n",
       "    </tr>\n",
       "    <tr>\n",
       "      <th>14</th>\n",
       "      <td>133.215574</td>\n",
       "      <td>3.335559</td>\n",
       "      <td>10</td>\n",
       "      <td>1500</td>\n",
       "      <td>2</td>\n",
       "      <td>sqrt</td>\n",
       "      <td>0.653865</td>\n",
       "      <td>0.004282</td>\n",
       "      <td>0.698592</td>\n",
       "      <td>0.002548</td>\n",
       "    </tr>\n",
       "    <tr>\n",
       "      <th>22</th>\n",
       "      <td>152.952440</td>\n",
       "      <td>3.821184</td>\n",
       "      <td>10</td>\n",
       "      <td>1500</td>\n",
       "      <td>2</td>\n",
       "      <td>log2</td>\n",
       "      <td>0.653865</td>\n",
       "      <td>0.004282</td>\n",
       "      <td>0.698592</td>\n",
       "      <td>0.002548</td>\n",
       "    </tr>\n",
       "    <tr>\n",
       "      <th>12</th>\n",
       "      <td>90.103988</td>\n",
       "      <td>2.285261</td>\n",
       "      <td>10</td>\n",
       "      <td>1000</td>\n",
       "      <td>2</td>\n",
       "      <td>sqrt</td>\n",
       "      <td>0.653679</td>\n",
       "      <td>0.004310</td>\n",
       "      <td>0.698980</td>\n",
       "      <td>0.002715</td>\n",
       "    </tr>\n",
       "    <tr>\n",
       "      <th>20</th>\n",
       "      <td>120.655969</td>\n",
       "      <td>3.036197</td>\n",
       "      <td>10</td>\n",
       "      <td>1000</td>\n",
       "      <td>2</td>\n",
       "      <td>log2</td>\n",
       "      <td>0.653679</td>\n",
       "      <td>0.004310</td>\n",
       "      <td>0.698980</td>\n",
       "      <td>0.002715</td>\n",
       "    </tr>\n",
       "    <tr>\n",
       "      <th>18</th>\n",
       "      <td>142.832554</td>\n",
       "      <td>3.190456</td>\n",
       "      <td>10</td>\n",
       "      <td>1500</td>\n",
       "      <td>10</td>\n",
       "      <td>sqrt</td>\n",
       "      <td>0.650886</td>\n",
       "      <td>0.004069</td>\n",
       "      <td>0.699224</td>\n",
       "      <td>0.002594</td>\n",
       "    </tr>\n",
       "    <tr>\n",
       "      <th>26</th>\n",
       "      <td>155.055968</td>\n",
       "      <td>3.465970</td>\n",
       "      <td>10</td>\n",
       "      <td>1500</td>\n",
       "      <td>10</td>\n",
       "      <td>log2</td>\n",
       "      <td>0.650886</td>\n",
       "      <td>0.004069</td>\n",
       "      <td>0.699224</td>\n",
       "      <td>0.002594</td>\n",
       "    </tr>\n",
       "    <tr>\n",
       "      <th>16</th>\n",
       "      <td>91.825819</td>\n",
       "      <td>2.190820</td>\n",
       "      <td>10</td>\n",
       "      <td>1000</td>\n",
       "      <td>10</td>\n",
       "      <td>sqrt</td>\n",
       "      <td>0.650605</td>\n",
       "      <td>0.003798</td>\n",
       "      <td>0.699000</td>\n",
       "      <td>0.002208</td>\n",
       "    </tr>\n",
       "    <tr>\n",
       "      <th>24</th>\n",
       "      <td>98.619852</td>\n",
       "      <td>2.268851</td>\n",
       "      <td>10</td>\n",
       "      <td>1000</td>\n",
       "      <td>10</td>\n",
       "      <td>log2</td>\n",
       "      <td>0.650605</td>\n",
       "      <td>0.003798</td>\n",
       "      <td>0.699000</td>\n",
       "      <td>0.002208</td>\n",
       "    </tr>\n",
       "  </tbody>\n",
       "</table>\n",
       "</div>"
      ],
      "text/plain": [
       "    mean_fit_time  mean_score_time param_pca__n_components  \\\n",
       "8       49.175018         4.178482                     NaN   \n",
       "7       32.058409         2.972271                     NaN   \n",
       "2       56.819780         4.167170                     NaN   \n",
       "6       15.787638         1.505216                     NaN   \n",
       "1       37.932542         2.850290                     NaN   \n",
       "0       18.896604         1.458573                     NaN   \n",
       "11      40.374079         3.609113                     NaN   \n",
       "10      25.323229         2.175305                     NaN   \n",
       "5       51.825002         3.438959                     NaN   \n",
       "4       35.041371         2.363324                     NaN   \n",
       "9       13.785510         1.207553                     NaN   \n",
       "3       17.480863         1.197951                     NaN   \n",
       "23     185.249377         3.647433                      30   \n",
       "21     140.211062         2.703646                      30   \n",
       "15     213.134165         3.363742                      30   \n",
       "13     140.681502         2.426160                      30   \n",
       "27     622.290457         3.606057                      30   \n",
       "25     123.419825         2.287773                      30   \n",
       "19     231.910508         3.511274                      30   \n",
       "17     154.066913         2.366039                      30   \n",
       "14     133.215574         3.335559                      10   \n",
       "22     152.952440         3.821184                      10   \n",
       "12      90.103988         2.285261                      10   \n",
       "20     120.655969         3.036197                      10   \n",
       "18     142.832554         3.190456                      10   \n",
       "26     155.055968         3.465970                      10   \n",
       "16      91.825819         2.190820                      10   \n",
       "24      98.619852         2.268851                      10   \n",
       "\n",
       "   param_forest__n_estimators param_forest__min_samples_split  \\\n",
       "8                        1500                               2   \n",
       "7                        1000                               2   \n",
       "2                        1500                               2   \n",
       "6                         500                               2   \n",
       "1                        1000                               2   \n",
       "0                         500                               2   \n",
       "11                       1500                              10   \n",
       "10                       1000                              10   \n",
       "5                        1500                              10   \n",
       "4                        1000                              10   \n",
       "9                         500                              10   \n",
       "3                         500                              10   \n",
       "23                       1500                               2   \n",
       "21                       1000                               2   \n",
       "15                       1500                               2   \n",
       "13                       1000                               2   \n",
       "27                       1500                              10   \n",
       "25                       1000                              10   \n",
       "19                       1500                              10   \n",
       "17                       1000                              10   \n",
       "14                       1500                               2   \n",
       "22                       1500                               2   \n",
       "12                       1000                               2   \n",
       "20                       1000                               2   \n",
       "18                       1500                              10   \n",
       "26                       1500                              10   \n",
       "16                       1000                              10   \n",
       "24                       1000                              10   \n",
       "\n",
       "   param_forest__max_features  mean_test_roc_auc  std_test_roc_auc  \\\n",
       "8                        log2           0.742667          0.007158   \n",
       "7                        log2           0.741988          0.007380   \n",
       "2                        sqrt           0.740035          0.006851   \n",
       "6                        log2           0.739354          0.007405   \n",
       "1                        sqrt           0.739039          0.006713   \n",
       "0                        sqrt           0.736948          0.006827   \n",
       "11                       log2           0.731664          0.006440   \n",
       "10                       log2           0.731165          0.006351   \n",
       "5                        sqrt           0.730338          0.006957   \n",
       "4                        sqrt           0.729598          0.006950   \n",
       "9                        log2           0.729433          0.007219   \n",
       "3                        sqrt           0.728450          0.006471   \n",
       "23                       log2           0.690196          0.006552   \n",
       "21                       log2           0.689868          0.005981   \n",
       "15                       sqrt           0.687604          0.006208   \n",
       "13                       sqrt           0.687137          0.006331   \n",
       "27                       log2           0.684367          0.006663   \n",
       "25                       log2           0.684049          0.006473   \n",
       "19                       sqrt           0.683068          0.007116   \n",
       "17                       sqrt           0.682352          0.007342   \n",
       "14                       sqrt           0.653865          0.004282   \n",
       "22                       log2           0.653865          0.004282   \n",
       "12                       sqrt           0.653679          0.004310   \n",
       "20                       log2           0.653679          0.004310   \n",
       "18                       sqrt           0.650886          0.004069   \n",
       "26                       log2           0.650886          0.004069   \n",
       "16                       sqrt           0.650605          0.003798   \n",
       "24                       log2           0.650605          0.003798   \n",
       "\n",
       "    mean_test_accuracy  std_test_accuracy  \n",
       "8             0.715000           0.002547  \n",
       "7             0.715367           0.002702  \n",
       "2             0.716714           0.003459  \n",
       "6             0.715163           0.003816  \n",
       "1             0.717000           0.003326  \n",
       "0             0.716633           0.003683  \n",
       "11            0.711286           0.002564  \n",
       "10            0.711531           0.002229  \n",
       "5             0.713163           0.003557  \n",
       "4             0.713367           0.002737  \n",
       "9             0.711510           0.002830  \n",
       "3             0.713490           0.003702  \n",
       "23            0.705796           0.002583  \n",
       "21            0.706469           0.002658  \n",
       "15            0.706918           0.003298  \n",
       "13            0.706816           0.003871  \n",
       "27            0.705388           0.003578  \n",
       "25            0.705571           0.003638  \n",
       "19            0.705408           0.002297  \n",
       "17            0.705265           0.003003  \n",
       "14            0.698592           0.002548  \n",
       "22            0.698592           0.002548  \n",
       "12            0.698980           0.002715  \n",
       "20            0.698980           0.002715  \n",
       "18            0.699224           0.002594  \n",
       "26            0.699224           0.002594  \n",
       "16            0.699000           0.002208  \n",
       "24            0.699000           0.002208  "
      ]
     },
     "execution_count": 30,
     "metadata": {},
     "output_type": "execute_result"
    }
   ],
   "source": [
    "forest_grid_df = pd.DataFrame(forest_grid.cv_results_)\n",
    "forest_grid_df.sort_values(['mean_test_roc_auc', 'mean_test_accuracy'], ascending=False)[['mean_fit_time', 'mean_score_time', 'param_pca__n_components', 'param_forest__n_estimators', 'param_forest__min_samples_split', 'param_forest__max_features', 'mean_test_roc_auc', 'std_test_roc_auc', 'mean_test_accuracy', 'std_test_accuracy']]"
   ]
  },
  {
   "cell_type": "code",
   "execution_count": 31,
   "metadata": {},
   "outputs": [
    {
     "data": {
      "text/plain": [
       "(0.5740550846594279, 0.7186190476190476)"
      ]
     },
     "execution_count": 31,
     "metadata": {},
     "output_type": "execute_result"
    }
   ],
   "source": [
    "y_test_forest = forest_grid.predict_proba(X_test)[:,1]\n",
    "y_test_forest_05 = y_test_forest > 0.5\n",
    "(roc_auc_score(y_test, y_test_forest_05), accuracy_score(y_test, y_test_forest_05))"
   ]
  },
  {
   "cell_type": "markdown",
   "metadata": {},
   "source": [
    "#### Risco bayesiano\n",
    "\n",
    "Cálculo da razão de verossimilhança. Aqui fazemos a mesma assumpção do notebook que $\\mathcal{L}(x|Y=y) = \\hat p (y|x)$"
   ]
  },
  {
   "cell_type": "code",
   "execution_count": 33,
   "metadata": {},
   "outputs": [],
   "source": [
    "L_y_test_forest = y_test_forest / (1 - y_test_forest)\n",
    "L_y_test_forest_1 = (L_y_test_forest > 1)"
   ]
  },
  {
   "cell_type": "code",
   "execution_count": 34,
   "metadata": {},
   "outputs": [
    {
     "data": {
      "text/plain": [
       "(0.5740550846594279, 0.7186190476190476)"
      ]
     },
     "execution_count": 34,
     "metadata": {},
     "output_type": "execute_result"
    }
   ],
   "source": [
    "(roc_auc_score(y_test, L_y_test_forest_1), accuracy_score(y_test, L_y_test_forest_1))"
   ]
  },
  {
   "cell_type": "markdown",
   "metadata": {},
   "source": [
    "Disitribuição das classes no dado original:"
   ]
  },
  {
   "cell_type": "code",
   "execution_count": 32,
   "metadata": {},
   "outputs": [
    {
     "data": {
      "text/plain": [
       "0.31747619047619047"
      ]
     },
     "execution_count": 32,
     "metadata": {},
     "output_type": "execute_result"
    }
   ],
   "source": [
    "y_test.mean()"
   ]
  },
  {
   "cell_type": "markdown",
   "metadata": {},
   "source": [
    "Risco padrão: $\\eta = 1$\n",
    "\n",
    "No nosso caso, o problema é inerentemente simétrico. Como existem poucos pacientes transplantados no mesmo dia, podemos desconsiderá-los. Então, dados dois pacientes quaisquer $p$ e $q$, existe uma ordem absoluta entre $p$ e $q$ e a chance de aleatoriamente escolher $(p, q)$ é a mesma de escolher $(q, p)$. Logo, o problema é balanceado.\n",
    "\n",
    "Também podemos observar que um falso positivo para $(p, q)$ é equivalente a um falso negativo para $(q, p)$. Logo, os custos para falsos negativos e positivos devem serem os mesmos e, portanto, o limite bayesiano é igual ao risco padrão."
   ]
  },
  {
   "cell_type": "code",
   "execution_count": 35,
   "metadata": {},
   "outputs": [
    {
     "data": {
      "text/plain": [
       "0.07695238095238095"
      ]
     },
     "execution_count": 35,
     "metadata": {},
     "output_type": "execute_result"
    }
   ],
   "source": [
    "(L_y_test_forest > 1).mean()"
   ]
  },
  {
   "cell_type": "markdown",
   "metadata": {},
   "source": [
    "Abaixo, tentamos encontrar o limite que aproxima a distribuição de classes entre o dado original e o dado previsto"
   ]
  },
  {
   "cell_type": "code",
   "execution_count": 58,
   "metadata": {},
   "outputs": [
    {
     "data": {
      "text/plain": [
       "0.31857142857142856"
      ]
     },
     "execution_count": 58,
     "metadata": {},
     "output_type": "execute_result"
    }
   ],
   "source": [
    "(L_y_test_forest > 0.567).mean()"
   ]
  },
  {
   "cell_type": "markdown",
   "metadata": {},
   "source": [
    "Como não existe alteração entre limite 0.999 e 0.9999 e com limite 1 obtemos uma distribuição menor que no dado original e limite 0.999 obtemos uma distribuição maior, estas são as melhores aproximações possíveis para a distibuição original."
   ]
  },
  {
   "cell_type": "markdown",
   "metadata": {},
   "source": [
    "### Calibração"
   ]
  },
  {
   "cell_type": "code",
   "execution_count": 22,
   "metadata": {},
   "outputs": [],
   "source": [
    "from sklearn.ensemble import RandomForestClassifier\n",
    "forest = RandomForestClassifier(n_estimators=200, max_features='log2')\n",
    "forest.fit(X_train, y_train)\n",
    "y_test_forest_2 = forest.predict_proba(X_test)[:,1]"
   ]
  },
  {
   "cell_type": "code",
   "execution_count": 23,
   "metadata": {},
   "outputs": [],
   "source": [
    "import matplotlib.pyplot as plt"
   ]
  },
  {
   "cell_type": "code",
   "execution_count": 24,
   "metadata": {},
   "outputs": [
    {
     "data": {
      "text/html": [
       "<style>#sk-container-id-1 {color: black;}#sk-container-id-1 pre{padding: 0;}#sk-container-id-1 div.sk-toggleable {background-color: white;}#sk-container-id-1 label.sk-toggleable__label {cursor: pointer;display: block;width: 100%;margin-bottom: 0;padding: 0.3em;box-sizing: border-box;text-align: center;}#sk-container-id-1 label.sk-toggleable__label-arrow:before {content: \"▸\";float: left;margin-right: 0.25em;color: #696969;}#sk-container-id-1 label.sk-toggleable__label-arrow:hover:before {color: black;}#sk-container-id-1 div.sk-estimator:hover label.sk-toggleable__label-arrow:before {color: black;}#sk-container-id-1 div.sk-toggleable__content {max-height: 0;max-width: 0;overflow: hidden;text-align: left;background-color: #f0f8ff;}#sk-container-id-1 div.sk-toggleable__content pre {margin: 0.2em;color: black;border-radius: 0.25em;background-color: #f0f8ff;}#sk-container-id-1 input.sk-toggleable__control:checked~div.sk-toggleable__content {max-height: 200px;max-width: 100%;overflow: auto;}#sk-container-id-1 input.sk-toggleable__control:checked~label.sk-toggleable__label-arrow:before {content: \"▾\";}#sk-container-id-1 div.sk-estimator input.sk-toggleable__control:checked~label.sk-toggleable__label {background-color: #d4ebff;}#sk-container-id-1 div.sk-label input.sk-toggleable__control:checked~label.sk-toggleable__label {background-color: #d4ebff;}#sk-container-id-1 input.sk-hidden--visually {border: 0;clip: rect(1px 1px 1px 1px);clip: rect(1px, 1px, 1px, 1px);height: 1px;margin: -1px;overflow: hidden;padding: 0;position: absolute;width: 1px;}#sk-container-id-1 div.sk-estimator {font-family: monospace;background-color: #f0f8ff;border: 1px dotted black;border-radius: 0.25em;box-sizing: border-box;margin-bottom: 0.5em;}#sk-container-id-1 div.sk-estimator:hover {background-color: #d4ebff;}#sk-container-id-1 div.sk-parallel-item::after {content: \"\";width: 100%;border-bottom: 1px solid gray;flex-grow: 1;}#sk-container-id-1 div.sk-label:hover label.sk-toggleable__label {background-color: #d4ebff;}#sk-container-id-1 div.sk-serial::before {content: \"\";position: absolute;border-left: 1px solid gray;box-sizing: border-box;top: 0;bottom: 0;left: 50%;z-index: 0;}#sk-container-id-1 div.sk-serial {display: flex;flex-direction: column;align-items: center;background-color: white;padding-right: 0.2em;padding-left: 0.2em;position: relative;}#sk-container-id-1 div.sk-item {position: relative;z-index: 1;}#sk-container-id-1 div.sk-parallel {display: flex;align-items: stretch;justify-content: center;background-color: white;position: relative;}#sk-container-id-1 div.sk-item::before, #sk-container-id-1 div.sk-parallel-item::before {content: \"\";position: absolute;border-left: 1px solid gray;box-sizing: border-box;top: 0;bottom: 0;left: 50%;z-index: -1;}#sk-container-id-1 div.sk-parallel-item {display: flex;flex-direction: column;z-index: 1;position: relative;background-color: white;}#sk-container-id-1 div.sk-parallel-item:first-child::after {align-self: flex-end;width: 50%;}#sk-container-id-1 div.sk-parallel-item:last-child::after {align-self: flex-start;width: 50%;}#sk-container-id-1 div.sk-parallel-item:only-child::after {width: 0;}#sk-container-id-1 div.sk-dashed-wrapped {border: 1px dashed gray;margin: 0 0.4em 0.5em 0.4em;box-sizing: border-box;padding-bottom: 0.4em;background-color: white;}#sk-container-id-1 div.sk-label label {font-family: monospace;font-weight: bold;display: inline-block;line-height: 1.2em;}#sk-container-id-1 div.sk-label-container {text-align: center;}#sk-container-id-1 div.sk-container {/* jupyter's `normalize.less` sets `[hidden] { display: none; }` but bootstrap.min.css set `[hidden] { display: none !important; }` so we also need the `!important` here to be able to override the default hidden behavior on the sphinx rendered scikit-learn.org. See: https://github.com/scikit-learn/scikit-learn/issues/21755 */display: inline-block !important;position: relative;}#sk-container-id-1 div.sk-text-repr-fallback {display: none;}</style><div id=\"sk-container-id-1\" class=\"sk-top-container\"><div class=\"sk-text-repr-fallback\"><pre>LogisticRegression()</pre><b>In a Jupyter environment, please rerun this cell to show the HTML representation or trust the notebook. <br />On GitHub, the HTML representation is unable to render, please try loading this page with nbviewer.org.</b></div><div class=\"sk-container\" hidden><div class=\"sk-item\"><div class=\"sk-estimator sk-toggleable\"><input class=\"sk-toggleable__control sk-hidden--visually\" id=\"sk-estimator-id-1\" type=\"checkbox\" checked><label for=\"sk-estimator-id-1\" class=\"sk-toggleable__label sk-toggleable__label-arrow\">LogisticRegression</label><div class=\"sk-toggleable__content\"><pre>LogisticRegression()</pre></div></div></div></div></div>"
      ],
      "text/plain": [
       "LogisticRegression()"
      ]
     },
     "execution_count": 24,
     "metadata": {},
     "output_type": "execute_result"
    }
   ],
   "source": [
    "from sklearn.linear_model import LogisticRegression\n",
    "lr = LogisticRegression()\n",
    "lr.fit(y_test_forest_2.reshape(-1,1), y_test)"
   ]
  },
  {
   "cell_type": "code",
   "execution_count": 25,
   "metadata": {},
   "outputs": [
    {
     "name": "stdout",
     "output_type": "stream",
     "text": [
      "Brier score original 0.2161959833333333\n",
      "Brier score pós-calibração 0.21043668129783596\n"
     ]
    },
    {
     "data": {
      "image/png": "[encoded data removed]",
      "text/plain": [
       "<Figure size 1000x400 with 1 Axes>"
      ]
     },
     "metadata": {},
     "output_type": "display_data"
    }
   ],
   "source": [
    "from sklearn.metrics import brier_score_loss\n",
    "pred_probs_space = np.linspace(y_test_forest_2.min(), y_test_forest_2.max(), 20)\n",
    "\n",
    "empirical_probs = []\n",
    "pred_probs_midpoints = []\n",
    "\n",
    "for i in range(len(pred_probs_space)-1):\n",
    "    empirical_probs.append(np.mean(y_test[(y_test_forest_2 > pred_probs_space[i]) & (y_test_forest_2 < pred_probs_space[i+1])]))\n",
    "    pred_probs_midpoints.append((pred_probs_space[i] + pred_probs_space[i+1])/2)\n",
    "\n",
    "\n",
    "calibrated_probs = lr.predict_proba(np.array([0.0]+pred_probs_midpoints+[1.0]).reshape(-1,1))[:,1]\n",
    "print('Brier score original', brier_score_loss(y_test, y_test_forest_2.reshape(-1,1)))\n",
    "print('Brier score pós-calibração', brier_score_loss(y_test, lr.predict_proba(y_test_forest_2.reshape(-1,1))[:,1]))\n",
    "\n",
    "plt.figure(figsize=(10,4))\n",
    "plt.scatter(pred_probs_midpoints, empirical_probs, marker='o')\n",
    "plt.title(f\"Saída de probabilidades de Random Forest\", fontsize=20)\n",
    "plt.xlabel('Probabilidade predita', fontsize=14)\n",
    "plt.ylabel('Probabilidade empírica', fontsize=14)\n",
    "\n",
    "plt.plot([0,1],[0,1],linestyle='--',color='gray')\n",
    "plt.scatter([0.0]+pred_probs_midpoints+[1.0], calibrated_probs, linewidth=2, marker='x')\n",
    "\n",
    "plt.legend(['original', 'ideal', 'calibrado'], fontsize=20)\n",
    "plt.show()"
   ]
  },
  {
   "cell_type": "code",
   "execution_count": null,
   "metadata": {},
   "outputs": [],
   "source": []
  }
 ],
 "metadata": {
  "kernelspec": {
   "display_name": "Python 3",
   "language": "python",
   "name": "python3"
  },
  "language_info": {
   "codemirror_mode": {
    "name": "ipython",
    "version": 3
   },
   "file_extension": ".py",
   "mimetype": "text/x-python",
   "name": "python",
   "nbconvert_exporter": "python",
   "pygments_lexer": "ipython3",
   "version": "3.11.5"
  }
 },
 "nbformat": 4,
 "nbformat_minor": 2
}
