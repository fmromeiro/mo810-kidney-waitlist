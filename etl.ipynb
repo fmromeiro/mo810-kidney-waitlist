{
 "cells": [
  {
   "cell_type": "markdown",
   "metadata": {},
   "source": [
    "# Tratamento de dados"
   ]
  },
  {
   "cell_type": "code",
   "execution_count": 19,
   "metadata": {},
   "outputs": [],
   "source": [
    "import pandas as pd\n",
    "pd.set_option('display.max_columns', None)"
   ]
  },
  {
   "cell_type": "markdown",
   "metadata": {},
   "source": [
    "## Entendimento dos dados"
   ]
  },
  {
   "cell_type": "code",
   "execution_count": 4,
   "metadata": {},
   "outputs": [],
   "source": [
    "df = pd.read_csv('waitlist_kidney_brazil.csv', encoding='iso-8859-1')"
   ]
  },
  {
   "cell_type": "code",
   "execution_count": 9,
   "metadata": {},
   "outputs": [
    {
     "data": {
      "text/html": [
       "<div>\n",
       "<style scoped>\n",
       "    .dataframe tbody tr th:only-of-type {\n",
       "        vertical-align: middle;\n",
       "    }\n",
       "\n",
       "    .dataframe tbody tr th {\n",
       "        vertical-align: top;\n",
       "    }\n",
       "\n",
       "    .dataframe thead th {\n",
       "        text-align: right;\n",
       "    }\n",
       "</style>\n",
       "<table border=\"1\" class=\"dataframe\">\n",
       "  <thead>\n",
       "    <tr style=\"text-align: right;\">\n",
       "      <th></th>\n",
       "      <th>Id</th>\n",
       "      <th>date</th>\n",
       "      <th>age_at_list_registration</th>\n",
       "      <th>age_cat</th>\n",
       "      <th>time_on_Dialysis</th>\n",
       "      <th>race</th>\n",
       "      <th>sex</th>\n",
       "      <th>underline_disease</th>\n",
       "      <th>diabetes</th>\n",
       "      <th>Blood_type</th>\n",
       "      <th>...</th>\n",
       "      <th>Time_death</th>\n",
       "      <th>Transplant</th>\n",
       "      <th>Transplant_Y_N</th>\n",
       "      <th>X36MthsTx</th>\n",
       "      <th>Time_Tx</th>\n",
       "      <th>priorization</th>\n",
       "      <th>removed_list</th>\n",
       "      <th>razon_removed</th>\n",
       "      <th>time</th>\n",
       "      <th>event</th>\n",
       "    </tr>\n",
       "  </thead>\n",
       "  <tbody>\n",
       "    <tr>\n",
       "      <th>0</th>\n",
       "      <td>4</td>\n",
       "      <td>2017-06-29</td>\n",
       "      <td>67</td>\n",
       "      <td>Maior.60</td>\n",
       "      <td>1.0</td>\n",
       "      <td>Branca</td>\n",
       "      <td>M</td>\n",
       "      <td>Outras</td>\n",
       "      <td>1</td>\n",
       "      <td>A</td>\n",
       "      <td>...</td>\n",
       "      <td>13</td>\n",
       "      <td>Não</td>\n",
       "      <td>Não</td>\n",
       "      <td>0</td>\n",
       "      <td>13.07</td>\n",
       "      <td>Não</td>\n",
       "      <td>Não</td>\n",
       "      <td>NaN</td>\n",
       "      <td>392</td>\n",
       "      <td>0</td>\n",
       "    </tr>\n",
       "    <tr>\n",
       "      <th>1</th>\n",
       "      <td>5</td>\n",
       "      <td>2008-11-03</td>\n",
       "      <td>58</td>\n",
       "      <td>18.a.60</td>\n",
       "      <td>4.0</td>\n",
       "      <td>Branca</td>\n",
       "      <td>M</td>\n",
       "      <td>Diabetes</td>\n",
       "      <td>0</td>\n",
       "      <td>A</td>\n",
       "      <td>...</td>\n",
       "      <td>69</td>\n",
       "      <td>Óbito Lista</td>\n",
       "      <td>Não</td>\n",
       "      <td>0</td>\n",
       "      <td>68.87</td>\n",
       "      <td>Não</td>\n",
       "      <td>Não</td>\n",
       "      <td>NaN</td>\n",
       "      <td>2066</td>\n",
       "      <td>2</td>\n",
       "    </tr>\n",
       "    <tr>\n",
       "      <th>2</th>\n",
       "      <td>6</td>\n",
       "      <td>2010-07-13</td>\n",
       "      <td>51</td>\n",
       "      <td>18.a.60</td>\n",
       "      <td>2.0</td>\n",
       "      <td>Branca</td>\n",
       "      <td>M</td>\n",
       "      <td>HAS</td>\n",
       "      <td>1</td>\n",
       "      <td>O</td>\n",
       "      <td>...</td>\n",
       "      <td>98</td>\n",
       "      <td>Não</td>\n",
       "      <td>Não</td>\n",
       "      <td>0</td>\n",
       "      <td>12.17</td>\n",
       "      <td>Não</td>\n",
       "      <td>Sim</td>\n",
       "      <td>Removido (suspenso &gt; 365 dias)</td>\n",
       "      <td>365</td>\n",
       "      <td>3</td>\n",
       "    </tr>\n",
       "    <tr>\n",
       "      <th>3</th>\n",
       "      <td>7</td>\n",
       "      <td>2011-10-03</td>\n",
       "      <td>52</td>\n",
       "      <td>18.a.60</td>\n",
       "      <td>17.0</td>\n",
       "      <td>Branca</td>\n",
       "      <td>M</td>\n",
       "      <td>Diabetes</td>\n",
       "      <td>0</td>\n",
       "      <td>O</td>\n",
       "      <td>...</td>\n",
       "      <td>83</td>\n",
       "      <td>Não</td>\n",
       "      <td>Não</td>\n",
       "      <td>0</td>\n",
       "      <td>12.17</td>\n",
       "      <td>Não</td>\n",
       "      <td>Sim</td>\n",
       "      <td>Removido (suspenso &gt; 365 dias)</td>\n",
       "      <td>365</td>\n",
       "      <td>3</td>\n",
       "    </tr>\n",
       "    <tr>\n",
       "      <th>4</th>\n",
       "      <td>8</td>\n",
       "      <td>2006-07-05</td>\n",
       "      <td>67</td>\n",
       "      <td>Maior.60</td>\n",
       "      <td>68.0</td>\n",
       "      <td>Parda</td>\n",
       "      <td>M</td>\n",
       "      <td>HAS</td>\n",
       "      <td>1</td>\n",
       "      <td>A</td>\n",
       "      <td>...</td>\n",
       "      <td>6</td>\n",
       "      <td>Óbito Lista</td>\n",
       "      <td>Não</td>\n",
       "      <td>0</td>\n",
       "      <td>6.47</td>\n",
       "      <td>Não</td>\n",
       "      <td>Não</td>\n",
       "      <td>NaN</td>\n",
       "      <td>194</td>\n",
       "      <td>2</td>\n",
       "    </tr>\n",
       "  </tbody>\n",
       "</table>\n",
       "<p>5 rows × 53 columns</p>\n",
       "</div>"
      ],
      "text/plain": [
       "   Id        date  age_at_list_registration   age_cat  time_on_Dialysis  \\\n",
       "0   4  2017-06-29                        67  Maior.60               1.0   \n",
       "1   5  2008-11-03                        58   18.a.60               4.0   \n",
       "2   6  2010-07-13                        51   18.a.60               2.0   \n",
       "3   7  2011-10-03                        52   18.a.60              17.0   \n",
       "4   8  2006-07-05                        67  Maior.60              68.0   \n",
       "\n",
       "     race sex underline_disease  diabetes Blood_type  ...  Time_death  \\\n",
       "0  Branca   M            Outras         1          A  ...          13   \n",
       "1  Branca   M          Diabetes         0          A  ...          69   \n",
       "2  Branca   M               HAS         1          O  ...          98   \n",
       "3  Branca   M          Diabetes         0          O  ...          83   \n",
       "4   Parda   M               HAS         1          A  ...           6   \n",
       "\n",
       "    Transplant  Transplant_Y_N X36MthsTx  Time_Tx priorization  removed_list  \\\n",
       "0          Não             Não         0    13.07          Não           Não   \n",
       "1  Óbito Lista             Não         0    68.87          Não           Não   \n",
       "2          Não             Não         0    12.17          Não           Sim   \n",
       "3          Não             Não         0    12.17          Não           Sim   \n",
       "4  Óbito Lista             Não         0     6.47          Não           Não   \n",
       "\n",
       "                    razon_removed  time  event  \n",
       "0                             NaN   392      0  \n",
       "1                             NaN  2066      2  \n",
       "2  Removido (suspenso > 365 dias)   365      3  \n",
       "3  Removido (suspenso > 365 dias)   365      3  \n",
       "4                             NaN   194      2  \n",
       "\n",
       "[5 rows x 53 columns]"
      ]
     },
     "execution_count": 9,
     "metadata": {},
     "output_type": "execute_result"
    }
   ],
   "source": [
    "df.head()"
   ]
  },
  {
   "cell_type": "code",
   "execution_count": 7,
   "metadata": {},
   "outputs": [
    {
     "name": "stdout",
     "output_type": "stream",
     "text": [
      "<class 'pandas.core.frame.DataFrame'>\n",
      "RangeIndex: 48153 entries, 0 to 48152\n",
      "Data columns (total 53 columns):\n",
      " #   Column                      Non-Null Count  Dtype  \n",
      "---  ------                      --------------  -----  \n",
      " 0   Id                          48153 non-null  int64  \n",
      " 1   date                        48153 non-null  object \n",
      " 2   age_at_list_registration    48153 non-null  int64  \n",
      " 3   age_cat                     48153 non-null  object \n",
      " 4   time_on_Dialysis            46817 non-null  float64\n",
      " 5   race                        48153 non-null  object \n",
      " 6   sex                         48153 non-null  object \n",
      " 7   underline_disease           48153 non-null  object \n",
      " 8   diabetes                    48153 non-null  int64  \n",
      " 9   Blood_type                  48153 non-null  object \n",
      " 10  number_transfusion          48153 non-null  int64  \n",
      " 11  gestation                   48153 non-null  object \n",
      " 12  number_gestation            19464 non-null  float64\n",
      " 13  prior_transplant            48153 non-null  object \n",
      " 14  number_prior_transplant     48153 non-null  int64  \n",
      " 15  subregion                   48153 non-null  object \n",
      " 16  cPRA                        48153 non-null  int64  \n",
      " 17  cPRA_cat                    48153 non-null  object \n",
      " 18  HLA_A1                      48153 non-null  int64  \n",
      " 19  HLA_A2                      48153 non-null  int64  \n",
      " 20  HLA_B1                      48153 non-null  int64  \n",
      " 21  HLA_B2                      48153 non-null  int64  \n",
      " 22  HLA_DR1                     48153 non-null  int64  \n",
      " 23  HLA_DR2                     48153 non-null  int64  \n",
      " 24  DR_00                       48153 non-null  object \n",
      " 25  B_00                        48153 non-null  object \n",
      " 26  A_00                        48153 non-null  object \n",
      " 27  calculated_frequency_DR.f1  48153 non-null  float64\n",
      " 28  calculated_frequency_DR.f2  48153 non-null  float64\n",
      " 29  calculated_frequency_DR.f   48153 non-null  float64\n",
      " 30  calculated_frequency_B.f1   48153 non-null  float64\n",
      " 31  calculated_frequency_B.f2   48153 non-null  float64\n",
      " 32  calculated_frequency_B.f    48153 non-null  float64\n",
      " 33  calculated_frequency_A.f1   48153 non-null  float64\n",
      " 34  calculated_frequency_A.f2   48153 non-null  float64\n",
      " 35  calculated_frequency_A.f    48153 non-null  float64\n",
      " 36  chagas                      44141 non-null  object \n",
      " 37  anti.HBc                    48153 non-null  object \n",
      " 38  anti.HCV                    44141 non-null  object \n",
      " 39  agHBs                       44141 non-null  object \n",
      " 40  patient_still_on_list       48153 non-null  object \n",
      " 41  date_acutal                 48153 non-null  int64  \n",
      " 42  death                       48153 non-null  object \n",
      " 43  Time_death                  48153 non-null  int64  \n",
      " 44  Transplant                  48153 non-null  object \n",
      " 45  Transplant_Y_N              48153 non-null  object \n",
      " 46  X36MthsTx                   48153 non-null  int64  \n",
      " 47  Time_Tx                     48153 non-null  float64\n",
      " 48  priorization                48153 non-null  object \n",
      " 49  removed_list                48153 non-null  object \n",
      " 50  razon_removed               15295 non-null  object \n",
      " 51  time                        48153 non-null  int64  \n",
      " 52  event                       48153 non-null  int64  \n",
      "dtypes: float64(12), int64(17), object(24)\n",
      "memory usage: 19.5+ MB\n"
     ]
    }
   ],
   "source": [
    "df.info()"
   ]
  },
  {
   "cell_type": "code",
   "execution_count": 44,
   "metadata": {},
   "outputs": [],
   "source": [
    "targets = ['death', 'Time_death', 'Transplant', 'Transplant_Y_N', 'X36MthsTx', 'Time_Tx', 'removed_list', 'time', 'event']"
   ]
  },
  {
   "cell_type": "code",
   "execution_count": 45,
   "metadata": {},
   "outputs": [
    {
     "data": {
      "text/html": [
       "<div>\n",
       "<style scoped>\n",
       "    .dataframe tbody tr th:only-of-type {\n",
       "        vertical-align: middle;\n",
       "    }\n",
       "\n",
       "    .dataframe tbody tr th {\n",
       "        vertical-align: top;\n",
       "    }\n",
       "\n",
       "    .dataframe thead th {\n",
       "        text-align: right;\n",
       "    }\n",
       "</style>\n",
       "<table border=\"1\" class=\"dataframe\">\n",
       "  <thead>\n",
       "    <tr style=\"text-align: right;\">\n",
       "      <th></th>\n",
       "      <th>death</th>\n",
       "      <th>Time_death</th>\n",
       "      <th>Transplant</th>\n",
       "      <th>Transplant_Y_N</th>\n",
       "      <th>X36MthsTx</th>\n",
       "      <th>Time_Tx</th>\n",
       "      <th>removed_list</th>\n",
       "      <th>time</th>\n",
       "      <th>event</th>\n",
       "    </tr>\n",
       "  </thead>\n",
       "  <tbody>\n",
       "    <tr>\n",
       "      <th>0</th>\n",
       "      <td>Não</td>\n",
       "      <td>13</td>\n",
       "      <td>Não</td>\n",
       "      <td>Não</td>\n",
       "      <td>0</td>\n",
       "      <td>13.07</td>\n",
       "      <td>Não</td>\n",
       "      <td>392</td>\n",
       "      <td>0</td>\n",
       "    </tr>\n",
       "    <tr>\n",
       "      <th>1</th>\n",
       "      <td>Sim</td>\n",
       "      <td>69</td>\n",
       "      <td>Óbito Lista</td>\n",
       "      <td>Não</td>\n",
       "      <td>0</td>\n",
       "      <td>68.87</td>\n",
       "      <td>Não</td>\n",
       "      <td>2066</td>\n",
       "      <td>2</td>\n",
       "    </tr>\n",
       "    <tr>\n",
       "      <th>2</th>\n",
       "      <td>Não</td>\n",
       "      <td>98</td>\n",
       "      <td>Não</td>\n",
       "      <td>Não</td>\n",
       "      <td>0</td>\n",
       "      <td>12.17</td>\n",
       "      <td>Sim</td>\n",
       "      <td>365</td>\n",
       "      <td>3</td>\n",
       "    </tr>\n",
       "    <tr>\n",
       "      <th>3</th>\n",
       "      <td>Não</td>\n",
       "      <td>83</td>\n",
       "      <td>Não</td>\n",
       "      <td>Não</td>\n",
       "      <td>0</td>\n",
       "      <td>12.17</td>\n",
       "      <td>Sim</td>\n",
       "      <td>365</td>\n",
       "      <td>3</td>\n",
       "    </tr>\n",
       "    <tr>\n",
       "      <th>4</th>\n",
       "      <td>Sim</td>\n",
       "      <td>6</td>\n",
       "      <td>Óbito Lista</td>\n",
       "      <td>Não</td>\n",
       "      <td>0</td>\n",
       "      <td>6.47</td>\n",
       "      <td>Não</td>\n",
       "      <td>194</td>\n",
       "      <td>2</td>\n",
       "    </tr>\n",
       "    <tr>\n",
       "      <th>...</th>\n",
       "      <td>...</td>\n",
       "      <td>...</td>\n",
       "      <td>...</td>\n",
       "      <td>...</td>\n",
       "      <td>...</td>\n",
       "      <td>...</td>\n",
       "      <td>...</td>\n",
       "      <td>...</td>\n",
       "      <td>...</td>\n",
       "    </tr>\n",
       "    <tr>\n",
       "      <th>48148</th>\n",
       "      <td>Sim</td>\n",
       "      <td>11</td>\n",
       "      <td>Óbito Lista</td>\n",
       "      <td>Não</td>\n",
       "      <td>0</td>\n",
       "      <td>11.47</td>\n",
       "      <td>Não</td>\n",
       "      <td>344</td>\n",
       "      <td>2</td>\n",
       "    </tr>\n",
       "    <tr>\n",
       "      <th>48149</th>\n",
       "      <td>Sim</td>\n",
       "      <td>97</td>\n",
       "      <td>Óbito Lista</td>\n",
       "      <td>Não</td>\n",
       "      <td>0</td>\n",
       "      <td>97.30</td>\n",
       "      <td>Não</td>\n",
       "      <td>2919</td>\n",
       "      <td>2</td>\n",
       "    </tr>\n",
       "    <tr>\n",
       "      <th>48150</th>\n",
       "      <td>Sim</td>\n",
       "      <td>41</td>\n",
       "      <td>Óbito Lista</td>\n",
       "      <td>Não</td>\n",
       "      <td>0</td>\n",
       "      <td>41.23</td>\n",
       "      <td>Não</td>\n",
       "      <td>1237</td>\n",
       "      <td>2</td>\n",
       "    </tr>\n",
       "    <tr>\n",
       "      <th>48151</th>\n",
       "      <td>Não</td>\n",
       "      <td>8</td>\n",
       "      <td>Não</td>\n",
       "      <td>Não</td>\n",
       "      <td>0</td>\n",
       "      <td>8.40</td>\n",
       "      <td>Não</td>\n",
       "      <td>252</td>\n",
       "      <td>0</td>\n",
       "    </tr>\n",
       "    <tr>\n",
       "      <th>48152</th>\n",
       "      <td>Não</td>\n",
       "      <td>39</td>\n",
       "      <td>Não</td>\n",
       "      <td>Não</td>\n",
       "      <td>0</td>\n",
       "      <td>20.17</td>\n",
       "      <td>Sim</td>\n",
       "      <td>605</td>\n",
       "      <td>3</td>\n",
       "    </tr>\n",
       "  </tbody>\n",
       "</table>\n",
       "<p>48153 rows × 9 columns</p>\n",
       "</div>"
      ],
      "text/plain": [
       "      death  Time_death   Transplant Transplant_Y_N  X36MthsTx  Time_Tx  \\\n",
       "0       Não          13          Não            Não          0    13.07   \n",
       "1       Sim          69  Óbito Lista            Não          0    68.87   \n",
       "2       Não          98          Não            Não          0    12.17   \n",
       "3       Não          83          Não            Não          0    12.17   \n",
       "4       Sim           6  Óbito Lista            Não          0     6.47   \n",
       "...     ...         ...          ...            ...        ...      ...   \n",
       "48148   Sim          11  Óbito Lista            Não          0    11.47   \n",
       "48149   Sim          97  Óbito Lista            Não          0    97.30   \n",
       "48150   Sim          41  Óbito Lista            Não          0    41.23   \n",
       "48151   Não           8          Não            Não          0     8.40   \n",
       "48152   Não          39          Não            Não          0    20.17   \n",
       "\n",
       "      removed_list  time  event  \n",
       "0              Não   392      0  \n",
       "1              Não  2066      2  \n",
       "2              Sim   365      3  \n",
       "3              Sim   365      3  \n",
       "4              Não   194      2  \n",
       "...            ...   ...    ...  \n",
       "48148          Não   344      2  \n",
       "48149          Não  2919      2  \n",
       "48150          Não  1237      2  \n",
       "48151          Não   252      0  \n",
       "48152          Sim   605      3  \n",
       "\n",
       "[48153 rows x 9 columns]"
      ]
     },
     "execution_count": 45,
     "metadata": {},
     "output_type": "execute_result"
    }
   ],
   "source": [
    "df[targets]"
   ]
  },
  {
   "cell_type": "code",
   "execution_count": 50,
   "metadata": {},
   "outputs": [
    {
     "data": {
      "text/plain": [
       "Id                                                      1787\n",
       "date                                              2000-01-04\n",
       "age_at_list_registration                                  51\n",
       "age_cat                                              18.a.60\n",
       "time_on_Dialysis                                         0.0\n",
       "race                                                   Parda\n",
       "sex                                                        M\n",
       "underline_disease                                        GNC\n",
       "diabetes                                                   1\n",
       "Blood_type                                                 A\n",
       "number_transfusion                                         1\n",
       "gestation                                                Não\n",
       "number_gestation                                         NaN\n",
       "prior_transplant                                         Sim\n",
       "number_prior_transplant                                    1\n",
       "subregion                                            HCFMUSP\n",
       "cPRA                                                      91\n",
       "cPRA_cat                                            Maior_80\n",
       "HLA_A1                                                     2\n",
       "HLA_A2                                                    68\n",
       "HLA_B1                                                    44\n",
       "HLA_B2                                                    51\n",
       "HLA_DR1                                                   11\n",
       "HLA_DR2                                                   13\n",
       "DR_00                                           heterozigoto\n",
       "B_00                                            heterozigoto\n",
       "A_00                                            heterozigoto\n",
       "calculated_frequency_DR.f1                              0.23\n",
       "calculated_frequency_DR.f2                              0.25\n",
       "calculated_frequency_DR.f                               5.75\n",
       "calculated_frequency_B.f1                                0.2\n",
       "calculated_frequency_B.f2                               0.14\n",
       "calculated_frequency_B.f                                 2.8\n",
       "calculated_frequency_A.f1                               0.42\n",
       "calculated_frequency_A.f2                               0.13\n",
       "calculated_frequency_A.f                                5.46\n",
       "chagas                                                   Não\n",
       "anti.HBc                                                 Não\n",
       "anti.HCV                                                 Sim\n",
       "agHBs                                                    Não\n",
       "patient_still_on_list                                    Não\n",
       "date_acutal                                            43307\n",
       "death                                                    Não\n",
       "Time_death                                               226\n",
       "Transplant                                               Não\n",
       "Transplant_Y_N                                           Não\n",
       "X36MthsTx                                                  0\n",
       "Time_Tx                                                 61.1\n",
       "priorization                                             Não\n",
       "removed_list                                             Sim\n",
       "razon_removed                 Removido (suspenso > 365 dias)\n",
       "time                                                    1833\n",
       "event                                                      3\n",
       "Name: 1333, dtype: object"
      ]
     },
     "execution_count": 50,
     "metadata": {},
     "output_type": "execute_result"
    }
   ],
   "source": [
    "df.iloc[df['Time_death'].argmax(),]"
   ]
  },
  {
   "cell_type": "code",
   "execution_count": 51,
   "metadata": {},
   "outputs": [
    {
     "data": {
      "text/plain": [
       "event\n",
       "3    14356\n",
       "1    13732\n",
       "0    10933\n",
       "2     9132\n",
       "Name: count, dtype: int64"
      ]
     },
     "execution_count": 51,
     "metadata": {},
     "output_type": "execute_result"
    }
   ],
   "source": [
    "df['event'].value_counts()"
   ]
  },
  {
   "cell_type": "code",
   "execution_count": 54,
   "metadata": {},
   "outputs": [
    {
     "data": {
      "text/plain": [
       "event  removed_list  Transplant \n",
       "3      Sim           Não            14356\n",
       "1      Não           Sim            13732\n",
       "0      Não           Não            10933\n",
       "2      Não           Óbito Lista     8193\n",
       "       Sim           Óbito Lista      939\n",
       "Name: count, dtype: int64"
      ]
     },
     "execution_count": 54,
     "metadata": {},
     "output_type": "execute_result"
    }
   ],
   "source": [
    "df[['event','removed_list', 'Transplant']].value_counts()"
   ]
  },
  {
   "cell_type": "markdown",
   "metadata": {},
   "source": [
    "## Tratamento de nulos"
   ]
  },
  {
   "cell_type": "code",
   "execution_count": 28,
   "metadata": {},
   "outputs": [],
   "source": [
    "df_clean = df.copy()"
   ]
  },
  {
   "cell_type": "code",
   "execution_count": 13,
   "metadata": {},
   "outputs": [
    {
     "data": {
      "text/plain": [
       "Id                             0.000000\n",
       "date                           0.000000\n",
       "age_at_list_registration       0.000000\n",
       "age_cat                        0.000000\n",
       "time_on_Dialysis               2.774490\n",
       "race                           0.000000\n",
       "sex                            0.000000\n",
       "underline_disease              0.000000\n",
       "diabetes                       0.000000\n",
       "Blood_type                     0.000000\n",
       "number_transfusion             0.000000\n",
       "gestation                      0.000000\n",
       "number_gestation              59.578842\n",
       "prior_transplant               0.000000\n",
       "number_prior_transplant        0.000000\n",
       "subregion                      0.000000\n",
       "cPRA                           0.000000\n",
       "cPRA_cat                       0.000000\n",
       "HLA_A1                         0.000000\n",
       "HLA_A2                         0.000000\n",
       "HLA_B1                         0.000000\n",
       "HLA_B2                         0.000000\n",
       "HLA_DR1                        0.000000\n",
       "HLA_DR2                        0.000000\n",
       "DR_00                          0.000000\n",
       "B_00                           0.000000\n",
       "A_00                           0.000000\n",
       "calculated_frequency_DR.f1     0.000000\n",
       "calculated_frequency_DR.f2     0.000000\n",
       "calculated_frequency_DR.f      0.000000\n",
       "calculated_frequency_B.f1      0.000000\n",
       "calculated_frequency_B.f2      0.000000\n",
       "calculated_frequency_B.f       0.000000\n",
       "calculated_frequency_A.f1      0.000000\n",
       "calculated_frequency_A.f2      0.000000\n",
       "calculated_frequency_A.f       0.000000\n",
       "chagas                         8.331776\n",
       "anti.HBc                       0.000000\n",
       "anti.HCV                       8.331776\n",
       "agHBs                          8.331776\n",
       "patient_still_on_list          0.000000\n",
       "date_acutal                    0.000000\n",
       "death                          0.000000\n",
       "Time_death                     0.000000\n",
       "Transplant                     0.000000\n",
       "Transplant_Y_N                 0.000000\n",
       "X36MthsTx                      0.000000\n",
       "Time_Tx                        0.000000\n",
       "priorization                   0.000000\n",
       "removed_list                   0.000000\n",
       "razon_removed                 68.236662\n",
       "time                           0.000000\n",
       "event                          0.000000\n",
       "dtype: float64"
      ]
     },
     "execution_count": 13,
     "metadata": {},
     "output_type": "execute_result"
    }
   ],
   "source": [
    "df.isna().sum()/len(df)*100"
   ]
  },
  {
   "cell_type": "markdown",
   "metadata": {},
   "source": [
    "### Número de gestações"
   ]
  },
  {
   "cell_type": "code",
   "execution_count": 27,
   "metadata": {},
   "outputs": [
    {
     "name": "stdout",
     "output_type": "stream",
     "text": [
      "7428\n",
      "10\n"
     ]
    }
   ],
   "source": [
    "print(((df['number_gestation'] == 0) & (df['sex'] == 'F')).sum())\n",
    "print(((df['number_gestation'].isna()) & (df['sex'] == 'F')).sum())"
   ]
  },
  {
   "cell_type": "code",
   "execution_count": 29,
   "metadata": {},
   "outputs": [],
   "source": [
    "df_clean['number_gestation'].fillna(0, inplace=True)"
   ]
  },
  {
   "cell_type": "markdown",
   "metadata": {},
   "source": [
    "### Tempo em diálise"
   ]
  },
  {
   "cell_type": "code",
   "execution_count": 30,
   "metadata": {},
   "outputs": [],
   "source": [
    "df_clean['time_on_Dialysis'].fillna(1, inplace=True)"
   ]
  },
  {
   "cell_type": "markdown",
   "metadata": {},
   "source": [
    "### Chagas, Anti HCV e Anti HB"
   ]
  },
  {
   "cell_type": "code",
   "execution_count": 31,
   "metadata": {},
   "outputs": [
    {
     "data": {
      "text/plain": [
       "agHBs\n",
       "Não    44022\n",
       "Sim      119\n",
       "Name: count, dtype: int64"
      ]
     },
     "execution_count": 31,
     "metadata": {},
     "output_type": "execute_result"
    }
   ],
   "source": [
    "df_clean['agHBs'].value_counts()"
   ]
  },
  {
   "cell_type": "code",
   "execution_count": 32,
   "metadata": {},
   "outputs": [
    {
     "data": {
      "text/plain": [
       "chagas\n",
       "Não    44069\n",
       "Sim       72\n",
       "Name: count, dtype: int64"
      ]
     },
     "execution_count": 32,
     "metadata": {},
     "output_type": "execute_result"
    }
   ],
   "source": [
    "df_clean['chagas'].value_counts()"
   ]
  },
  {
   "cell_type": "code",
   "execution_count": 33,
   "metadata": {},
   "outputs": [
    {
     "data": {
      "text/plain": [
       "anti.HCV\n",
       "Não    43595\n",
       "Sim      546\n",
       "Name: count, dtype: int64"
      ]
     },
     "execution_count": 33,
     "metadata": {},
     "output_type": "execute_result"
    }
   ],
   "source": [
    "df_clean['anti.HCV'].value_counts()"
   ]
  },
  {
   "cell_type": "code",
   "execution_count": 37,
   "metadata": {},
   "outputs": [],
   "source": [
    "for col in 'agHBs', 'chagas', 'anti.HCV':\n",
    "    df_clean[col].fillna('Não', inplace=True)"
   ]
  },
  {
   "cell_type": "markdown",
   "metadata": {},
   "source": [
    "### Razón removed"
   ]
  },
  {
   "cell_type": "code",
   "execution_count": 39,
   "metadata": {},
   "outputs": [
    {
     "data": {
      "text/plain": [
       "razon_removed\n",
       "Removido (suspenso > 365 dias)     12985\n",
       "Transferido para outro Estado        662\n",
       "Não quer ser transplantado           592\n",
       "Removido sem condições clínicas      412\n",
       "Removido pela equipe                 254\n",
       "Função renal recuperada              212\n",
       "Abandonou o tratamento                93\n",
       "Removido administrativo               62\n",
       "Removido (inscrição duplicada)        17\n",
       "Transferido de Equipe                  6\n",
       "Name: count, dtype: int64"
      ]
     },
     "execution_count": 39,
     "metadata": {},
     "output_type": "execute_result"
    }
   ],
   "source": [
    "df_clean['razon_removed'].value_counts()"
   ]
  },
  {
   "cell_type": "code",
   "execution_count": 58,
   "metadata": {},
   "outputs": [
    {
     "data": {
      "text/plain": [
       "razon_removed                    removed_list\n",
       "popo                             Não             32858\n",
       "Removido (suspenso > 365 dias)   Sim             12985\n",
       "Transferido para outro Estado    Sim               662\n",
       "Não quer ser transplantado       Sim               592\n",
       "Removido sem condições clínicas  Sim               412\n",
       "Removido pela equipe             Sim               254\n",
       "Função renal recuperada          Sim               212\n",
       "Abandonou o tratamento           Sim                93\n",
       "Removido administrativo          Sim                62\n",
       "Removido (inscrição duplicada)   Sim                17\n",
       "Transferido de Equipe            Sim                 6\n",
       "Name: count, dtype: int64"
      ]
     },
     "execution_count": 58,
     "metadata": {},
     "output_type": "execute_result"
    }
   ],
   "source": [
    "df_clean[['razon_removed', 'removed_list']].fillna('popo',inplace=False).value_counts()"
   ]
  },
  {
   "cell_type": "code",
   "execution_count": 59,
   "metadata": {},
   "outputs": [],
   "source": [
    "df_clean['razon_removed'].fillna('Não removido', inplace=True)"
   ]
  },
  {
   "cell_type": "markdown",
   "metadata": {},
   "source": [
    "### Relevância de features"
   ]
  },
  {
   "cell_type": "code",
   "execution_count": null,
   "metadata": {},
   "outputs": [],
   "source": []
  }
 ],
 "metadata": {
  "kernelspec": {
   "display_name": "venv",
   "language": "python",
   "name": "python3"
  },
  "language_info": {
   "codemirror_mode": {
    "name": "ipython",
    "version": 3
   },
   "file_extension": ".py",
   "mimetype": "text/x-python",
   "name": "python",
   "nbconvert_exporter": "python",
   "pygments_lexer": "ipython3",
   "version": "3.11.3"
  },
  "orig_nbformat": 4
 },
 "nbformat": 4,
 "nbformat_minor": 2
}
