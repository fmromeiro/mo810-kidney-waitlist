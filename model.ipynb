{
 "cells": [
  {
   "cell_type": "markdown",
   "metadata": {},
   "source": [
    "# Modelagem"
   ]
  },
  {
   "cell_type": "code",
   "execution_count": 2,
   "metadata": {},
   "outputs": [],
   "source": [
    "import random"
   ]
  },
  {
   "cell_type": "code",
   "execution_count": 3,
   "metadata": {},
   "outputs": [],
   "source": [
    "import pandas as pd\n",
    "pd.set_option('display.max_columns', None)\n",
    "# pd.set_option('display.max_rows', None)\n",
    "\n",
    "import numpy as np"
   ]
  },
  {
   "cell_type": "code",
   "execution_count": 4,
   "metadata": {},
   "outputs": [],
   "source": [
    "df = pd.read_csv('waitlist_kidney_brazil_prepared.csv', encoding='iso-8859-1')"
   ]
  },
  {
   "cell_type": "code",
   "execution_count": 5,
   "metadata": {},
   "outputs": [
    {
     "data": {
      "text/html": [
       "<div>\n",
       "<style scoped>\n",
       "    .dataframe tbody tr th:only-of-type {\n",
       "        vertical-align: middle;\n",
       "    }\n",
       "\n",
       "    .dataframe tbody tr th {\n",
       "        vertical-align: top;\n",
       "    }\n",
       "\n",
       "    .dataframe thead th {\n",
       "        text-align: right;\n",
       "    }\n",
       "</style>\n",
       "<table border=\"1\" class=\"dataframe\">\n",
       "  <thead>\n",
       "    <tr style=\"text-align: right;\">\n",
       "      <th></th>\n",
       "      <th>date_registered</th>\n",
       "      <th>age_registered</th>\n",
       "      <th>dialysis_session_count</th>\n",
       "      <th>sex</th>\n",
       "      <th>underlying_disease</th>\n",
       "      <th>diabetes</th>\n",
       "      <th>chagas</th>\n",
       "      <th>blood_type</th>\n",
       "      <th>transfusion_count</th>\n",
       "      <th>gestation</th>\n",
       "      <th>prior_transplant</th>\n",
       "      <th>c_pra</th>\n",
       "      <th>hla_a1</th>\n",
       "      <th>hla_a2</th>\n",
       "      <th>hla_b1</th>\n",
       "      <th>hla_b2</th>\n",
       "      <th>hla_dr1</th>\n",
       "      <th>hla_dr2</th>\n",
       "      <th>dr_00</th>\n",
       "      <th>b_00</th>\n",
       "      <th>a_00</th>\n",
       "      <th>anti_hbc</th>\n",
       "      <th>anti_hcv</th>\n",
       "      <th>hbs_ag</th>\n",
       "      <th>event</th>\n",
       "      <th>days_waiting</th>\n",
       "    </tr>\n",
       "  </thead>\n",
       "  <tbody>\n",
       "    <tr>\n",
       "      <th>0</th>\n",
       "      <td>2017-06-29</td>\n",
       "      <td>67</td>\n",
       "      <td>1.0</td>\n",
       "      <td>M</td>\n",
       "      <td>other</td>\n",
       "      <td>True</td>\n",
       "      <td>False</td>\n",
       "      <td>A</td>\n",
       "      <td>0</td>\n",
       "      <td>False</td>\n",
       "      <td>False</td>\n",
       "      <td>0</td>\n",
       "      <td>1</td>\n",
       "      <td>26</td>\n",
       "      <td>44</td>\n",
       "      <td>51</td>\n",
       "      <td>3</td>\n",
       "      <td>7</td>\n",
       "      <td>heterozygous</td>\n",
       "      <td>heterozygous</td>\n",
       "      <td>heterozygous</td>\n",
       "      <td>False</td>\n",
       "      <td>False</td>\n",
       "      <td>False</td>\n",
       "      <td>waiting</td>\n",
       "      <td>392</td>\n",
       "    </tr>\n",
       "    <tr>\n",
       "      <th>1</th>\n",
       "      <td>2008-11-03</td>\n",
       "      <td>58</td>\n",
       "      <td>4.0</td>\n",
       "      <td>M</td>\n",
       "      <td>diabetes</td>\n",
       "      <td>False</td>\n",
       "      <td>False</td>\n",
       "      <td>A</td>\n",
       "      <td>0</td>\n",
       "      <td>False</td>\n",
       "      <td>False</td>\n",
       "      <td>0</td>\n",
       "      <td>1</td>\n",
       "      <td>24</td>\n",
       "      <td>18</td>\n",
       "      <td>35</td>\n",
       "      <td>11</td>\n",
       "      <td>0</td>\n",
       "      <td>homozygous</td>\n",
       "      <td>heterozygous</td>\n",
       "      <td>heterozygous</td>\n",
       "      <td>False</td>\n",
       "      <td>False</td>\n",
       "      <td>False</td>\n",
       "      <td>died_waiting</td>\n",
       "      <td>2066</td>\n",
       "    </tr>\n",
       "    <tr>\n",
       "      <th>2</th>\n",
       "      <td>2010-07-13</td>\n",
       "      <td>51</td>\n",
       "      <td>2.0</td>\n",
       "      <td>M</td>\n",
       "      <td>hypertension</td>\n",
       "      <td>True</td>\n",
       "      <td>False</td>\n",
       "      <td>O</td>\n",
       "      <td>0</td>\n",
       "      <td>False</td>\n",
       "      <td>False</td>\n",
       "      <td>64</td>\n",
       "      <td>24</td>\n",
       "      <td>25</td>\n",
       "      <td>14</td>\n",
       "      <td>18</td>\n",
       "      <td>1</td>\n",
       "      <td>15</td>\n",
       "      <td>heterozygous</td>\n",
       "      <td>heterozygous</td>\n",
       "      <td>heterozygous</td>\n",
       "      <td>False</td>\n",
       "      <td>False</td>\n",
       "      <td>False</td>\n",
       "      <td>removed</td>\n",
       "      <td>365</td>\n",
       "    </tr>\n",
       "    <tr>\n",
       "      <th>3</th>\n",
       "      <td>2011-10-03</td>\n",
       "      <td>52</td>\n",
       "      <td>17.0</td>\n",
       "      <td>M</td>\n",
       "      <td>diabetes</td>\n",
       "      <td>False</td>\n",
       "      <td>False</td>\n",
       "      <td>O</td>\n",
       "      <td>0</td>\n",
       "      <td>False</td>\n",
       "      <td>True</td>\n",
       "      <td>2</td>\n",
       "      <td>24</td>\n",
       "      <td>25</td>\n",
       "      <td>14</td>\n",
       "      <td>18</td>\n",
       "      <td>1</td>\n",
       "      <td>15</td>\n",
       "      <td>heterozygous</td>\n",
       "      <td>heterozygous</td>\n",
       "      <td>heterozygous</td>\n",
       "      <td>False</td>\n",
       "      <td>False</td>\n",
       "      <td>False</td>\n",
       "      <td>removed</td>\n",
       "      <td>365</td>\n",
       "    </tr>\n",
       "    <tr>\n",
       "      <th>4</th>\n",
       "      <td>2006-07-05</td>\n",
       "      <td>67</td>\n",
       "      <td>68.0</td>\n",
       "      <td>M</td>\n",
       "      <td>hypertension</td>\n",
       "      <td>True</td>\n",
       "      <td>False</td>\n",
       "      <td>A</td>\n",
       "      <td>0</td>\n",
       "      <td>False</td>\n",
       "      <td>False</td>\n",
       "      <td>0</td>\n",
       "      <td>24</td>\n",
       "      <td>68</td>\n",
       "      <td>14</td>\n",
       "      <td>27</td>\n",
       "      <td>13</td>\n",
       "      <td>15</td>\n",
       "      <td>heterozygous</td>\n",
       "      <td>heterozygous</td>\n",
       "      <td>heterozygous</td>\n",
       "      <td>False</td>\n",
       "      <td>False</td>\n",
       "      <td>False</td>\n",
       "      <td>died_waiting</td>\n",
       "      <td>194</td>\n",
       "    </tr>\n",
       "  </tbody>\n",
       "</table>\n",
       "</div>"
      ],
      "text/plain": [
       "  date_registered  age_registered  dialysis_session_count sex  \\\n",
       "0      2017-06-29              67                     1.0   M   \n",
       "1      2008-11-03              58                     4.0   M   \n",
       "2      2010-07-13              51                     2.0   M   \n",
       "3      2011-10-03              52                    17.0   M   \n",
       "4      2006-07-05              67                    68.0   M   \n",
       "\n",
       "  underlying_disease  diabetes  chagas blood_type  transfusion_count  \\\n",
       "0              other      True   False          A                  0   \n",
       "1           diabetes     False   False          A                  0   \n",
       "2       hypertension      True   False          O                  0   \n",
       "3           diabetes     False   False          O                  0   \n",
       "4       hypertension      True   False          A                  0   \n",
       "\n",
       "   gestation  prior_transplant  c_pra  hla_a1  hla_a2  hla_b1  hla_b2  \\\n",
       "0      False             False      0       1      26      44      51   \n",
       "1      False             False      0       1      24      18      35   \n",
       "2      False             False     64      24      25      14      18   \n",
       "3      False              True      2      24      25      14      18   \n",
       "4      False             False      0      24      68      14      27   \n",
       "\n",
       "   hla_dr1  hla_dr2         dr_00          b_00          a_00  anti_hbc  \\\n",
       "0        3        7  heterozygous  heterozygous  heterozygous     False   \n",
       "1       11        0    homozygous  heterozygous  heterozygous     False   \n",
       "2        1       15  heterozygous  heterozygous  heterozygous     False   \n",
       "3        1       15  heterozygous  heterozygous  heterozygous     False   \n",
       "4       13       15  heterozygous  heterozygous  heterozygous     False   \n",
       "\n",
       "   anti_hcv  hbs_ag         event  days_waiting  \n",
       "0     False   False       waiting           392  \n",
       "1     False   False  died_waiting          2066  \n",
       "2     False   False       removed           365  \n",
       "3     False   False       removed           365  \n",
       "4     False   False  died_waiting           194  "
      ]
     },
     "execution_count": 5,
     "metadata": {},
     "output_type": "execute_result"
    }
   ],
   "source": [
    "df.head()"
   ]
  },
  {
   "cell_type": "markdown",
   "metadata": {},
   "source": [
    "## Limpeza dos dados"
   ]
  },
  {
   "cell_type": "code",
   "execution_count": 6,
   "metadata": {},
   "outputs": [],
   "source": [
    "df_clean = df.drop(columns=['date_registered'])"
   ]
  },
  {
   "cell_type": "code",
   "execution_count": 7,
   "metadata": {},
   "outputs": [
    {
     "data": {
      "text/plain": [
       "event\n",
       "removed         14356\n",
       "transplanted    13732\n",
       "waiting         10933\n",
       "died_waiting     9132\n",
       "Name: count, dtype: int64"
      ]
     },
     "execution_count": 7,
     "metadata": {},
     "output_type": "execute_result"
    }
   ],
   "source": [
    "df_clean['event'].value_counts()"
   ]
  },
  {
   "cell_type": "markdown",
   "metadata": {},
   "source": [
    "Removemos os dados com evento `waiting` ou `removed`, porque representam casos em que um transplante não aconteceu."
   ]
  },
  {
   "cell_type": "code",
   "execution_count": 8,
   "metadata": {},
   "outputs": [
    {
     "data": {
      "text/plain": [
       "event\n",
       "transplanted    13732\n",
       "Name: count, dtype: int64"
      ]
     },
     "execution_count": 8,
     "metadata": {},
     "output_type": "execute_result"
    }
   ],
   "source": [
    "df_clean = df_clean[df_clean['event'] == 'transplanted']\n",
    "df_clean['event'].value_counts()"
   ]
  },
  {
   "cell_type": "markdown",
   "metadata": {},
   "source": [
    "Removemos a coluna de evento, que passa a ser redundante."
   ]
  },
  {
   "cell_type": "code",
   "execution_count": 9,
   "metadata": {},
   "outputs": [],
   "source": [
    "df_clean = df_clean.drop(columns=['event'])"
   ]
  },
  {
   "cell_type": "markdown",
   "metadata": {},
   "source": [
    "## Engenharia de Features"
   ]
  },
  {
   "cell_type": "code",
   "execution_count": 10,
   "metadata": {},
   "outputs": [
    {
     "data": {
      "text/html": [
       "<div>\n",
       "<style scoped>\n",
       "    .dataframe tbody tr th:only-of-type {\n",
       "        vertical-align: middle;\n",
       "    }\n",
       "\n",
       "    .dataframe tbody tr th {\n",
       "        vertical-align: top;\n",
       "    }\n",
       "\n",
       "    .dataframe thead th {\n",
       "        text-align: right;\n",
       "    }\n",
       "</style>\n",
       "<table border=\"1\" class=\"dataframe\">\n",
       "  <thead>\n",
       "    <tr style=\"text-align: right;\">\n",
       "      <th></th>\n",
       "      <th>age_registered</th>\n",
       "      <th>dialysis_session_count</th>\n",
       "      <th>diabetes</th>\n",
       "      <th>chagas</th>\n",
       "      <th>transfusion_count</th>\n",
       "      <th>gestation</th>\n",
       "      <th>prior_transplant</th>\n",
       "      <th>c_pra</th>\n",
       "      <th>hla_a1</th>\n",
       "      <th>hla_a2</th>\n",
       "      <th>hla_b1</th>\n",
       "      <th>hla_b2</th>\n",
       "      <th>hla_dr1</th>\n",
       "      <th>hla_dr2</th>\n",
       "      <th>anti_hbc</th>\n",
       "      <th>anti_hcv</th>\n",
       "      <th>hbs_ag</th>\n",
       "      <th>days_waiting</th>\n",
       "      <th>sex_M</th>\n",
       "      <th>underlying_disease_glomerulonephritis</th>\n",
       "      <th>underlying_disease_hypertension</th>\n",
       "      <th>underlying_disease_other</th>\n",
       "      <th>underlying_disease_pyelonephritis</th>\n",
       "      <th>blood_type_AB</th>\n",
       "      <th>blood_type_B</th>\n",
       "      <th>blood_type_O</th>\n",
       "      <th>dr_00_homozygous</th>\n",
       "      <th>b_00_homozygous</th>\n",
       "      <th>a_00_homozygous</th>\n",
       "    </tr>\n",
       "  </thead>\n",
       "  <tbody>\n",
       "    <tr>\n",
       "      <th>12</th>\n",
       "      <td>68</td>\n",
       "      <td>14.0</td>\n",
       "      <td>False</td>\n",
       "      <td>False</td>\n",
       "      <td>1</td>\n",
       "      <td>False</td>\n",
       "      <td>False</td>\n",
       "      <td>0</td>\n",
       "      <td>2</td>\n",
       "      <td>3</td>\n",
       "      <td>14</td>\n",
       "      <td>51</td>\n",
       "      <td>1</td>\n",
       "      <td>13</td>\n",
       "      <td>False</td>\n",
       "      <td>False</td>\n",
       "      <td>False</td>\n",
       "      <td>136</td>\n",
       "      <td>True</td>\n",
       "      <td>False</td>\n",
       "      <td>False</td>\n",
       "      <td>False</td>\n",
       "      <td>False</td>\n",
       "      <td>False</td>\n",
       "      <td>True</td>\n",
       "      <td>False</td>\n",
       "      <td>False</td>\n",
       "      <td>False</td>\n",
       "      <td>False</td>\n",
       "    </tr>\n",
       "    <tr>\n",
       "      <th>14</th>\n",
       "      <td>62</td>\n",
       "      <td>12.0</td>\n",
       "      <td>True</td>\n",
       "      <td>False</td>\n",
       "      <td>0</td>\n",
       "      <td>False</td>\n",
       "      <td>False</td>\n",
       "      <td>0</td>\n",
       "      <td>2</td>\n",
       "      <td>68</td>\n",
       "      <td>39</td>\n",
       "      <td>40</td>\n",
       "      <td>4</td>\n",
       "      <td>0</td>\n",
       "      <td>False</td>\n",
       "      <td>False</td>\n",
       "      <td>False</td>\n",
       "      <td>268</td>\n",
       "      <td>True</td>\n",
       "      <td>False</td>\n",
       "      <td>False</td>\n",
       "      <td>True</td>\n",
       "      <td>False</td>\n",
       "      <td>True</td>\n",
       "      <td>False</td>\n",
       "      <td>False</td>\n",
       "      <td>True</td>\n",
       "      <td>False</td>\n",
       "      <td>False</td>\n",
       "    </tr>\n",
       "    <tr>\n",
       "      <th>15</th>\n",
       "      <td>47</td>\n",
       "      <td>1.0</td>\n",
       "      <td>True</td>\n",
       "      <td>False</td>\n",
       "      <td>0</td>\n",
       "      <td>False</td>\n",
       "      <td>False</td>\n",
       "      <td>0</td>\n",
       "      <td>1</td>\n",
       "      <td>2</td>\n",
       "      <td>40</td>\n",
       "      <td>57</td>\n",
       "      <td>4</td>\n",
       "      <td>4</td>\n",
       "      <td>False</td>\n",
       "      <td>False</td>\n",
       "      <td>False</td>\n",
       "      <td>1345</td>\n",
       "      <td>True</td>\n",
       "      <td>False</td>\n",
       "      <td>False</td>\n",
       "      <td>True</td>\n",
       "      <td>False</td>\n",
       "      <td>False</td>\n",
       "      <td>False</td>\n",
       "      <td>True</td>\n",
       "      <td>False</td>\n",
       "      <td>False</td>\n",
       "      <td>False</td>\n",
       "    </tr>\n",
       "    <tr>\n",
       "      <th>27</th>\n",
       "      <td>65</td>\n",
       "      <td>7.0</td>\n",
       "      <td>True</td>\n",
       "      <td>False</td>\n",
       "      <td>0</td>\n",
       "      <td>False</td>\n",
       "      <td>False</td>\n",
       "      <td>0</td>\n",
       "      <td>2</td>\n",
       "      <td>29</td>\n",
       "      <td>44</td>\n",
       "      <td>0</td>\n",
       "      <td>7</td>\n",
       "      <td>11</td>\n",
       "      <td>False</td>\n",
       "      <td>False</td>\n",
       "      <td>False</td>\n",
       "      <td>1283</td>\n",
       "      <td>True</td>\n",
       "      <td>False</td>\n",
       "      <td>False</td>\n",
       "      <td>True</td>\n",
       "      <td>False</td>\n",
       "      <td>False</td>\n",
       "      <td>False</td>\n",
       "      <td>False</td>\n",
       "      <td>False</td>\n",
       "      <td>True</td>\n",
       "      <td>False</td>\n",
       "    </tr>\n",
       "    <tr>\n",
       "      <th>28</th>\n",
       "      <td>33</td>\n",
       "      <td>12.0</td>\n",
       "      <td>True</td>\n",
       "      <td>False</td>\n",
       "      <td>0</td>\n",
       "      <td>False</td>\n",
       "      <td>False</td>\n",
       "      <td>0</td>\n",
       "      <td>2</td>\n",
       "      <td>23</td>\n",
       "      <td>8</td>\n",
       "      <td>44</td>\n",
       "      <td>8</td>\n",
       "      <td>15</td>\n",
       "      <td>False</td>\n",
       "      <td>False</td>\n",
       "      <td>False</td>\n",
       "      <td>464</td>\n",
       "      <td>False</td>\n",
       "      <td>True</td>\n",
       "      <td>False</td>\n",
       "      <td>False</td>\n",
       "      <td>False</td>\n",
       "      <td>False</td>\n",
       "      <td>False</td>\n",
       "      <td>False</td>\n",
       "      <td>False</td>\n",
       "      <td>False</td>\n",
       "      <td>False</td>\n",
       "    </tr>\n",
       "  </tbody>\n",
       "</table>\n",
       "</div>"
      ],
      "text/plain": [
       "    age_registered  dialysis_session_count  diabetes  chagas  \\\n",
       "12              68                    14.0     False   False   \n",
       "14              62                    12.0      True   False   \n",
       "15              47                     1.0      True   False   \n",
       "27              65                     7.0      True   False   \n",
       "28              33                    12.0      True   False   \n",
       "\n",
       "    transfusion_count  gestation  prior_transplant  c_pra  hla_a1  hla_a2  \\\n",
       "12                  1      False             False      0       2       3   \n",
       "14                  0      False             False      0       2      68   \n",
       "15                  0      False             False      0       1       2   \n",
       "27                  0      False             False      0       2      29   \n",
       "28                  0      False             False      0       2      23   \n",
       "\n",
       "    hla_b1  hla_b2  hla_dr1  hla_dr2  anti_hbc  anti_hcv  hbs_ag  \\\n",
       "12      14      51        1       13     False     False   False   \n",
       "14      39      40        4        0     False     False   False   \n",
       "15      40      57        4        4     False     False   False   \n",
       "27      44       0        7       11     False     False   False   \n",
       "28       8      44        8       15     False     False   False   \n",
       "\n",
       "    days_waiting  sex_M  underlying_disease_glomerulonephritis  \\\n",
       "12           136   True                                  False   \n",
       "14           268   True                                  False   \n",
       "15          1345   True                                  False   \n",
       "27          1283   True                                  False   \n",
       "28           464  False                                   True   \n",
       "\n",
       "    underlying_disease_hypertension  underlying_disease_other  \\\n",
       "12                            False                     False   \n",
       "14                            False                      True   \n",
       "15                            False                      True   \n",
       "27                            False                      True   \n",
       "28                            False                     False   \n",
       "\n",
       "    underlying_disease_pyelonephritis  blood_type_AB  blood_type_B  \\\n",
       "12                              False          False          True   \n",
       "14                              False           True         False   \n",
       "15                              False          False         False   \n",
       "27                              False          False         False   \n",
       "28                              False          False         False   \n",
       "\n",
       "    blood_type_O  dr_00_homozygous  b_00_homozygous  a_00_homozygous  \n",
       "12         False             False            False            False  \n",
       "14         False              True            False            False  \n",
       "15          True             False            False            False  \n",
       "27         False             False             True            False  \n",
       "28         False             False            False            False  "
      ]
     },
     "execution_count": 10,
     "metadata": {},
     "output_type": "execute_result"
    }
   ],
   "source": [
    "df_onehot = pd.get_dummies(df_clean, columns=['sex', 'underlying_disease', 'blood_type', 'dr_00', 'b_00', 'a_00'], drop_first=True)\n",
    "df_onehot.head()"
   ]
  },
  {
   "cell_type": "code",
   "execution_count": 11,
   "metadata": {},
   "outputs": [],
   "source": [
    "df_onehot['idx'] = df_onehot.index"
   ]
  },
  {
   "cell_type": "code",
   "execution_count": 12,
   "metadata": {},
   "outputs": [],
   "source": [
    "random.seed(1729)\n",
    "\n",
    "pairs = set()\n",
    "while len(pairs) < 70_000:\n",
    "    a = random.randint(0, 13731)\n",
    "    b = random.randint(0, 13731)\n",
    "    if (a != b):\n",
    "        pairs.add((a,b))\n",
    "        pairs.add((b,a))\n"
   ]
  },
  {
   "cell_type": "code",
   "execution_count": 13,
   "metadata": {},
   "outputs": [],
   "source": [
    "s = []\n",
    "for _a, _b in pairs:\n",
    "    a = df_onehot.iloc[_a]\n",
    "    b = df_onehot.iloc[_b]\n",
    "    a.index = a.index + '_a'\n",
    "    b.index = b.index + '_b'\n",
    "    s.append(pd.concat((a,b)))"
   ]
  },
  {
   "cell_type": "code",
   "execution_count": 14,
   "metadata": {},
   "outputs": [],
   "source": [
    "df_cross = pd.DataFrame(s)"
   ]
  },
  {
   "cell_type": "code",
   "execution_count": 15,
   "metadata": {},
   "outputs": [],
   "source": [
    "del s, pairs"
   ]
  },
  {
   "cell_type": "code",
   "execution_count": 16,
   "metadata": {},
   "outputs": [],
   "source": [
    "df_cross['transplanted_first'] = df_cross['days_waiting_a'] < df_cross['days_waiting_b']"
   ]
  },
  {
   "cell_type": "code",
   "execution_count": 17,
   "metadata": {},
   "outputs": [
    {
     "data": {
      "text/plain": [
       "count     70000\n",
       "unique        2\n",
       "top       False\n",
       "freq      35016\n",
       "Name: transplanted_first, dtype: object"
      ]
     },
     "execution_count": 17,
     "metadata": {},
     "output_type": "execute_result"
    }
   ],
   "source": [
    "df_cross['transplanted_first'].describe()"
   ]
  },
  {
   "cell_type": "code",
   "execution_count": 18,
   "metadata": {},
   "outputs": [],
   "source": [
    "df_cross_cln = df_cross.drop(columns=['days_waiting_a', 'days_waiting_b'])"
   ]
  },
  {
   "cell_type": "code",
   "execution_count": 19,
   "metadata": {},
   "outputs": [],
   "source": [
    "target = 'transplanted_first'\n",
    "_meta = ['idx_a', 'idx_b']"
   ]
  },
  {
   "cell_type": "code",
   "execution_count": 20,
   "metadata": {},
   "outputs": [],
   "source": [
    "X, y, meta = df_cross_cln.drop(columns=[target, *_meta]), df_cross_cln[target], df_cross_cln[_meta]"
   ]
  },
  {
   "cell_type": "code",
   "execution_count": 21,
   "metadata": {},
   "outputs": [],
   "source": [
    "from sklearn.model_selection import train_test_split\n",
    "X_train, X_test, y_train, y_test, meta_train, meta_test = train_test_split(X, y, meta, test_size=0.3, random_state=1729)"
   ]
  },
  {
   "cell_type": "markdown",
   "metadata": {},
   "source": [
    "## Métricas de avaliação"
   ]
  },
  {
   "cell_type": "code",
   "execution_count": 22,
   "metadata": {},
   "outputs": [],
   "source": [
    "from sklearn.metrics import accuracy_score, roc_auc_score"
   ]
  },
  {
   "cell_type": "markdown",
   "metadata": {},
   "source": [
    "## Modelos"
   ]
  },
  {
   "cell_type": "markdown",
   "metadata": {},
   "source": [
    "### Plug-in\n",
    "\n",
    "Modelo de QDA\n",
    "Não tem hiperparâmetros, mas é o modelo de separação simples plug-in que a gente conhece ¯\\\\_(ツ)_/¯\n"
   ]
  },
  {
   "cell_type": "code",
   "execution_count": 23,
   "metadata": {},
   "outputs": [
    {
     "name": "stderr",
     "output_type": "stream",
     "text": [
      "/home/pochete/studies/2023s2/mo810/mo810-kidney-waitlist/venv/lib/python3.11/site-packages/sklearn/discriminant_analysis.py:935: UserWarning: Variables are collinear\n",
      "  warnings.warn(\"Variables are collinear\")\n"
     ]
    },
    {
     "data": {
      "text/html": [
       "<style>#sk-container-id-1 {color: black;}#sk-container-id-1 pre{padding: 0;}#sk-container-id-1 div.sk-toggleable {background-color: white;}#sk-container-id-1 label.sk-toggleable__label {cursor: pointer;display: block;width: 100%;margin-bottom: 0;padding: 0.3em;box-sizing: border-box;text-align: center;}#sk-container-id-1 label.sk-toggleable__label-arrow:before {content: \"▸\";float: left;margin-right: 0.25em;color: #696969;}#sk-container-id-1 label.sk-toggleable__label-arrow:hover:before {color: black;}#sk-container-id-1 div.sk-estimator:hover label.sk-toggleable__label-arrow:before {color: black;}#sk-container-id-1 div.sk-toggleable__content {max-height: 0;max-width: 0;overflow: hidden;text-align: left;background-color: #f0f8ff;}#sk-container-id-1 div.sk-toggleable__content pre {margin: 0.2em;color: black;border-radius: 0.25em;background-color: #f0f8ff;}#sk-container-id-1 input.sk-toggleable__control:checked~div.sk-toggleable__content {max-height: 200px;max-width: 100%;overflow: auto;}#sk-container-id-1 input.sk-toggleable__control:checked~label.sk-toggleable__label-arrow:before {content: \"▾\";}#sk-container-id-1 div.sk-estimator input.sk-toggleable__control:checked~label.sk-toggleable__label {background-color: #d4ebff;}#sk-container-id-1 div.sk-label input.sk-toggleable__control:checked~label.sk-toggleable__label {background-color: #d4ebff;}#sk-container-id-1 input.sk-hidden--visually {border: 0;clip: rect(1px 1px 1px 1px);clip: rect(1px, 1px, 1px, 1px);height: 1px;margin: -1px;overflow: hidden;padding: 0;position: absolute;width: 1px;}#sk-container-id-1 div.sk-estimator {font-family: monospace;background-color: #f0f8ff;border: 1px dotted black;border-radius: 0.25em;box-sizing: border-box;margin-bottom: 0.5em;}#sk-container-id-1 div.sk-estimator:hover {background-color: #d4ebff;}#sk-container-id-1 div.sk-parallel-item::after {content: \"\";width: 100%;border-bottom: 1px solid gray;flex-grow: 1;}#sk-container-id-1 div.sk-label:hover label.sk-toggleable__label {background-color: #d4ebff;}#sk-container-id-1 div.sk-serial::before {content: \"\";position: absolute;border-left: 1px solid gray;box-sizing: border-box;top: 0;bottom: 0;left: 50%;z-index: 0;}#sk-container-id-1 div.sk-serial {display: flex;flex-direction: column;align-items: center;background-color: white;padding-right: 0.2em;padding-left: 0.2em;position: relative;}#sk-container-id-1 div.sk-item {position: relative;z-index: 1;}#sk-container-id-1 div.sk-parallel {display: flex;align-items: stretch;justify-content: center;background-color: white;position: relative;}#sk-container-id-1 div.sk-item::before, #sk-container-id-1 div.sk-parallel-item::before {content: \"\";position: absolute;border-left: 1px solid gray;box-sizing: border-box;top: 0;bottom: 0;left: 50%;z-index: -1;}#sk-container-id-1 div.sk-parallel-item {display: flex;flex-direction: column;z-index: 1;position: relative;background-color: white;}#sk-container-id-1 div.sk-parallel-item:first-child::after {align-self: flex-end;width: 50%;}#sk-container-id-1 div.sk-parallel-item:last-child::after {align-self: flex-start;width: 50%;}#sk-container-id-1 div.sk-parallel-item:only-child::after {width: 0;}#sk-container-id-1 div.sk-dashed-wrapped {border: 1px dashed gray;margin: 0 0.4em 0.5em 0.4em;box-sizing: border-box;padding-bottom: 0.4em;background-color: white;}#sk-container-id-1 div.sk-label label {font-family: monospace;font-weight: bold;display: inline-block;line-height: 1.2em;}#sk-container-id-1 div.sk-label-container {text-align: center;}#sk-container-id-1 div.sk-container {/* jupyter's `normalize.less` sets `[hidden] { display: none; }` but bootstrap.min.css set `[hidden] { display: none !important; }` so we also need the `!important` here to be able to override the default hidden behavior on the sphinx rendered scikit-learn.org. See: https://github.com/scikit-learn/scikit-learn/issues/21755 */display: inline-block !important;position: relative;}#sk-container-id-1 div.sk-text-repr-fallback {display: none;}</style><div id=\"sk-container-id-1\" class=\"sk-top-container\"><div class=\"sk-text-repr-fallback\"><pre>QuadraticDiscriminantAnalysis()</pre><b>In a Jupyter environment, please rerun this cell to show the HTML representation or trust the notebook. <br />On GitHub, the HTML representation is unable to render, please try loading this page with nbviewer.org.</b></div><div class=\"sk-container\" hidden><div class=\"sk-item\"><div class=\"sk-estimator sk-toggleable\"><input class=\"sk-toggleable__control sk-hidden--visually\" id=\"sk-estimator-id-1\" type=\"checkbox\" checked><label for=\"sk-estimator-id-1\" class=\"sk-toggleable__label sk-toggleable__label-arrow\">QuadraticDiscriminantAnalysis</label><div class=\"sk-toggleable__content\"><pre>QuadraticDiscriminantAnalysis()</pre></div></div></div></div></div>"
      ],
      "text/plain": [
       "QuadraticDiscriminantAnalysis()"
      ]
     },
     "execution_count": 23,
     "metadata": {},
     "output_type": "execute_result"
    }
   ],
   "source": [
    "from sklearn.discriminant_analysis import QuadraticDiscriminantAnalysis\n",
    "\n",
    "qda = QuadraticDiscriminantAnalysis()\n",
    "qda.fit(X_train, y_train)"
   ]
  },
  {
   "cell_type": "code",
   "execution_count": 24,
   "metadata": {},
   "outputs": [
    {
     "data": {
      "text/plain": [
       "(0.5092110463438652, 0.5100476190476191)"
      ]
     },
     "execution_count": 24,
     "metadata": {},
     "output_type": "execute_result"
    }
   ],
   "source": [
    "y_test_qda = qda.predict(X_test)\n",
    "(roc_auc_score(y_test, y_test_qda), accuracy_score(y_test, y_test_qda))"
   ]
  },
  {
   "cell_type": "markdown",
   "metadata": {},
   "source": [
    "His ass DID NOT learn shit"
   ]
  },
  {
   "cell_type": "code",
   "execution_count": 25,
   "metadata": {},
   "outputs": [
    {
     "data": {
      "text/plain": [
       "(0.5179105420455189, 0.5176530612244898)"
      ]
     },
     "execution_count": 25,
     "metadata": {},
     "output_type": "execute_result"
    }
   ],
   "source": [
    "y_train_qda = qda.predict(X_train)\n",
    "(roc_auc_score(y_train, y_train_qda), accuracy_score(y_train, y_train_qda))"
   ]
  },
  {
   "cell_type": "markdown",
   "metadata": {},
   "source": [
    "0.5231. 0.5236"
   ]
  },
  {
   "cell_type": "markdown",
   "metadata": {},
   "source": [
    "### Risk-minimization"
   ]
  },
  {
   "cell_type": "markdown",
   "metadata": {},
   "source": [
    "\n",
    "Modelo de SVC Linear."
   ]
  },
  {
   "cell_type": "code",
   "execution_count": 26,
   "metadata": {},
   "outputs": [],
   "source": [
    "from sklearn.model_selection import GridSearchCV\n",
    "from sklearn.pipeline import make_pipeline, Pipeline\n",
    "from sklearn.preprocessing import StandardScaler\n",
    "from sklearn.svm import LinearSVC, SVC\n"
   ]
  },
  {
   "cell_type": "code",
   "execution_count": null,
   "metadata": {},
   "outputs": [],
   "source": [
    "\n",
    "linear_svc_params = [\n",
    "    {\n",
    "        'linearsvc__penalty': ['l1'],\n",
    "        'linearsvc__loss': ['squared_hinge'],\n",
    "        'linearsvc__C': [1,10,100,1000],\n",
    "    },\n",
    "    {\n",
    "        'linearsvc__penalty': ['l2'],\n",
    "        'linearsvc__loss': ['hinge', 'squared_hinge'],\n",
    "        'linearsvc__C': [1,10,100,1000],\n",
    "    },\n",
    "]\n",
    "\n",
    "linear_svc_grid = GridSearchCV(\n",
    "    make_pipeline(StandardScaler(), LinearSVC(dual='auto', random_state=1729, max_iter=10_000)),\n",
    "    linear_svc_params,\n",
    "    verbose=4,\n",
    "    scoring=('roc_auc', 'accuracy'),\n",
    "    refit='roc_auc')\n",
    "linear_svc_grid.fit(X_train, y_train)\n"
   ]
  },
  {
   "cell_type": "code",
   "execution_count": 26,
   "metadata": {},
   "outputs": [
    {
     "data": {
      "text/html": [
       "<div>\n",
       "<style scoped>\n",
       "    .dataframe tbody tr th:only-of-type {\n",
       "        vertical-align: middle;\n",
       "    }\n",
       "\n",
       "    .dataframe tbody tr th {\n",
       "        vertical-align: top;\n",
       "    }\n",
       "\n",
       "    .dataframe thead th {\n",
       "        text-align: right;\n",
       "    }\n",
       "</style>\n",
       "<table border=\"1\" class=\"dataframe\">\n",
       "  <thead>\n",
       "    <tr style=\"text-align: right;\">\n",
       "      <th></th>\n",
       "      <th>mean_fit_time</th>\n",
       "      <th>mean_score_time</th>\n",
       "      <th>param_linearsvc__C</th>\n",
       "      <th>param_linearsvc__loss</th>\n",
       "      <th>param_linearsvc__penalty</th>\n",
       "      <th>mean_test_roc_auc</th>\n",
       "      <th>std_test_roc_auc</th>\n",
       "      <th>mean_test_accuracy</th>\n",
       "      <th>std_test_accuracy</th>\n",
       "    </tr>\n",
       "  </thead>\n",
       "  <tbody>\n",
       "    <tr>\n",
       "      <th>4</th>\n",
       "      <td>14.149588</td>\n",
       "      <td>0.054089</td>\n",
       "      <td>1</td>\n",
       "      <td>hinge</td>\n",
       "      <td>l2</td>\n",
       "      <td>0.618202</td>\n",
       "      <td>0.002066</td>\n",
       "      <td>0.586510</td>\n",
       "      <td>0.002087</td>\n",
       "    </tr>\n",
       "    <tr>\n",
       "      <th>0</th>\n",
       "      <td>3.628892</td>\n",
       "      <td>0.048526</td>\n",
       "      <td>1</td>\n",
       "      <td>squared_hinge</td>\n",
       "      <td>l1</td>\n",
       "      <td>0.618202</td>\n",
       "      <td>0.002040</td>\n",
       "      <td>0.585653</td>\n",
       "      <td>0.003520</td>\n",
       "    </tr>\n",
       "    <tr>\n",
       "      <th>1</th>\n",
       "      <td>0.327220</td>\n",
       "      <td>0.048670</td>\n",
       "      <td>10</td>\n",
       "      <td>squared_hinge</td>\n",
       "      <td>l1</td>\n",
       "      <td>0.618201</td>\n",
       "      <td>0.002041</td>\n",
       "      <td>0.585694</td>\n",
       "      <td>0.003507</td>\n",
       "    </tr>\n",
       "    <tr>\n",
       "      <th>3</th>\n",
       "      <td>0.327342</td>\n",
       "      <td>0.046867</td>\n",
       "      <td>1000</td>\n",
       "      <td>squared_hinge</td>\n",
       "      <td>l1</td>\n",
       "      <td>0.618200</td>\n",
       "      <td>0.002041</td>\n",
       "      <td>0.585694</td>\n",
       "      <td>0.003507</td>\n",
       "    </tr>\n",
       "    <tr>\n",
       "      <th>2</th>\n",
       "      <td>0.334251</td>\n",
       "      <td>0.049555</td>\n",
       "      <td>100</td>\n",
       "      <td>squared_hinge</td>\n",
       "      <td>l1</td>\n",
       "      <td>0.618200</td>\n",
       "      <td>0.002041</td>\n",
       "      <td>0.585694</td>\n",
       "      <td>0.003507</td>\n",
       "    </tr>\n",
       "    <tr>\n",
       "      <th>5</th>\n",
       "      <td>0.527945</td>\n",
       "      <td>0.045143</td>\n",
       "      <td>1</td>\n",
       "      <td>squared_hinge</td>\n",
       "      <td>l2</td>\n",
       "      <td>0.618200</td>\n",
       "      <td>0.002041</td>\n",
       "      <td>0.585694</td>\n",
       "      <td>0.003507</td>\n",
       "    </tr>\n",
       "    <tr>\n",
       "      <th>7</th>\n",
       "      <td>0.496266</td>\n",
       "      <td>0.039143</td>\n",
       "      <td>10</td>\n",
       "      <td>squared_hinge</td>\n",
       "      <td>l2</td>\n",
       "      <td>0.618200</td>\n",
       "      <td>0.002041</td>\n",
       "      <td>0.585694</td>\n",
       "      <td>0.003507</td>\n",
       "    </tr>\n",
       "    <tr>\n",
       "      <th>9</th>\n",
       "      <td>0.470558</td>\n",
       "      <td>0.037974</td>\n",
       "      <td>100</td>\n",
       "      <td>squared_hinge</td>\n",
       "      <td>l2</td>\n",
       "      <td>0.618200</td>\n",
       "      <td>0.002041</td>\n",
       "      <td>0.585694</td>\n",
       "      <td>0.003507</td>\n",
       "    </tr>\n",
       "    <tr>\n",
       "      <th>11</th>\n",
       "      <td>0.605058</td>\n",
       "      <td>0.052108</td>\n",
       "      <td>1000</td>\n",
       "      <td>squared_hinge</td>\n",
       "      <td>l2</td>\n",
       "      <td>0.618200</td>\n",
       "      <td>0.002041</td>\n",
       "      <td>0.585694</td>\n",
       "      <td>0.003507</td>\n",
       "    </tr>\n",
       "    <tr>\n",
       "      <th>6</th>\n",
       "      <td>105.454694</td>\n",
       "      <td>0.049596</td>\n",
       "      <td>10</td>\n",
       "      <td>hinge</td>\n",
       "      <td>l2</td>\n",
       "      <td>0.618126</td>\n",
       "      <td>0.002202</td>\n",
       "      <td>0.586224</td>\n",
       "      <td>0.002390</td>\n",
       "    </tr>\n",
       "    <tr>\n",
       "      <th>8</th>\n",
       "      <td>212.316766</td>\n",
       "      <td>0.042023</td>\n",
       "      <td>100</td>\n",
       "      <td>hinge</td>\n",
       "      <td>l2</td>\n",
       "      <td>0.610013</td>\n",
       "      <td>0.004090</td>\n",
       "      <td>0.579061</td>\n",
       "      <td>0.003326</td>\n",
       "    </tr>\n",
       "    <tr>\n",
       "      <th>10</th>\n",
       "      <td>250.262144</td>\n",
       "      <td>0.045581</td>\n",
       "      <td>1000</td>\n",
       "      <td>hinge</td>\n",
       "      <td>l2</td>\n",
       "      <td>0.522529</td>\n",
       "      <td>0.007640</td>\n",
       "      <td>0.516735</td>\n",
       "      <td>0.006867</td>\n",
       "    </tr>\n",
       "  </tbody>\n",
       "</table>\n",
       "</div>"
      ],
      "text/plain": [
       "    mean_fit_time  mean_score_time param_linearsvc__C param_linearsvc__loss  \\\n",
       "4       14.149588         0.054089                  1                 hinge   \n",
       "0        3.628892         0.048526                  1         squared_hinge   \n",
       "1        0.327220         0.048670                 10         squared_hinge   \n",
       "3        0.327342         0.046867               1000         squared_hinge   \n",
       "2        0.334251         0.049555                100         squared_hinge   \n",
       "5        0.527945         0.045143                  1         squared_hinge   \n",
       "7        0.496266         0.039143                 10         squared_hinge   \n",
       "9        0.470558         0.037974                100         squared_hinge   \n",
       "11       0.605058         0.052108               1000         squared_hinge   \n",
       "6      105.454694         0.049596                 10                 hinge   \n",
       "8      212.316766         0.042023                100                 hinge   \n",
       "10     250.262144         0.045581               1000                 hinge   \n",
       "\n",
       "   param_linearsvc__penalty  mean_test_roc_auc  std_test_roc_auc  \\\n",
       "4                        l2           0.618202          0.002066   \n",
       "0                        l1           0.618202          0.002040   \n",
       "1                        l1           0.618201          0.002041   \n",
       "3                        l1           0.618200          0.002041   \n",
       "2                        l1           0.618200          0.002041   \n",
       "5                        l2           0.618200          0.002041   \n",
       "7                        l2           0.618200          0.002041   \n",
       "9                        l2           0.618200          0.002041   \n",
       "11                       l2           0.618200          0.002041   \n",
       "6                        l2           0.618126          0.002202   \n",
       "8                        l2           0.610013          0.004090   \n",
       "10                       l2           0.522529          0.007640   \n",
       "\n",
       "    mean_test_accuracy  std_test_accuracy  \n",
       "4             0.586510           0.002087  \n",
       "0             0.585653           0.003520  \n",
       "1             0.585694           0.003507  \n",
       "3             0.585694           0.003507  \n",
       "2             0.585694           0.003507  \n",
       "5             0.585694           0.003507  \n",
       "7             0.585694           0.003507  \n",
       "9             0.585694           0.003507  \n",
       "11            0.585694           0.003507  \n",
       "6             0.586224           0.002390  \n",
       "8             0.579061           0.003326  \n",
       "10            0.516735           0.006867  "
      ]
     },
     "execution_count": 26,
     "metadata": {},
     "output_type": "execute_result"
    }
   ],
   "source": [
    "linear_grid_df = pd.DataFrame(linear_svc_grid.cv_results_)\n",
    "linear_grid_df.sort_values(['mean_test_roc_auc', 'mean_test_accuracy'], ascending=False)[['mean_fit_time', 'mean_score_time', 'param_linearsvc__C', 'param_linearsvc__loss', 'param_linearsvc__penalty', 'mean_test_roc_auc', 'std_test_roc_auc', 'mean_test_accuracy', 'std_test_accuracy']]"
   ]
  },
  {
   "cell_type": "code",
   "execution_count": 27,
   "metadata": {},
   "outputs": [
    {
     "data": {
      "text/plain": [
       "(0.5829916644325939, 0.583)"
      ]
     },
     "execution_count": 27,
     "metadata": {},
     "output_type": "execute_result"
    }
   ],
   "source": [
    "y_test_linear_svc = linear_svc_grid.predict(X_test)\n",
    "(roc_auc_score(y_test, y_test_linear_svc), accuracy_score(y_test, y_test_linear_svc))"
   ]
  },
  {
   "cell_type": "markdown",
   "metadata": {},
   "source": [
    "## Modelos - separação complexa"
   ]
  },
  {
   "cell_type": "markdown",
   "metadata": {},
   "source": [
    "### Plug-in\n",
    "\n",
    "K-Nearest Neighbours"
   ]
  },
  {
   "cell_type": "code",
   "execution_count": 56,
   "metadata": {},
   "outputs": [
    {
     "name": "stdout",
     "output_type": "stream",
     "text": [
      "Fitting 5 folds for each of 40 candidates, totalling 200 fits\n",
      "[CV 1/5] END knn__metric=euclidean, knn__n_neighbors=3, knn__weights=uniform; accuracy: (test=0.563) roc_auc: (test=0.580) total time=   3.9s\n",
      "[CV 2/5] END knn__metric=euclidean, knn__n_neighbors=3, knn__weights=uniform; accuracy: (test=0.563) roc_auc: (test=0.582) total time=   3.2s\n",
      "[CV 3/5] END knn__metric=euclidean, knn__n_neighbors=3, knn__weights=uniform; accuracy: (test=0.573) roc_auc: (test=0.594) total time=   3.2s\n",
      "[CV 4/5] END knn__metric=euclidean, knn__n_neighbors=3, knn__weights=uniform; accuracy: (test=0.571) roc_auc: (test=0.592) total time=   3.6s\n",
      "[CV 5/5] END knn__metric=euclidean, knn__n_neighbors=3, knn__weights=uniform; accuracy: (test=0.576) roc_auc: (test=0.593) total time=   3.3s\n",
      "[CV 1/5] END knn__metric=euclidean, knn__n_neighbors=3, knn__weights=distance; accuracy: (test=0.563) roc_auc: (test=0.588) total time=   2.5s\n",
      "[CV 2/5] END knn__metric=euclidean, knn__n_neighbors=3, knn__weights=distance; accuracy: (test=0.563) roc_auc: (test=0.589) total time=   2.9s\n",
      "[CV 3/5] END knn__metric=euclidean, knn__n_neighbors=3, knn__weights=distance; accuracy: (test=0.573) roc_auc: (test=0.600) total time=   2.4s\n",
      "[CV 4/5] END knn__metric=euclidean, knn__n_neighbors=3, knn__weights=distance; accuracy: (test=0.571) roc_auc: (test=0.597) total time=   3.0s\n",
      "[CV 5/5] END knn__metric=euclidean, knn__n_neighbors=3, knn__weights=distance; accuracy: (test=0.576) roc_auc: (test=0.601) total time=   2.7s\n",
      "[CV 1/5] END knn__metric=euclidean, knn__n_neighbors=5, knn__weights=uniform; accuracy: (test=0.560) roc_auc: (test=0.588) total time=   3.2s\n",
      "[CV 2/5] END knn__metric=euclidean, knn__n_neighbors=5, knn__weights=uniform; accuracy: (test=0.566) roc_auc: (test=0.592) total time=   3.7s\n",
      "[CV 3/5] END knn__metric=euclidean, knn__n_neighbors=5, knn__weights=uniform; accuracy: (test=0.573) roc_auc: (test=0.596) total time=   3.3s\n",
      "[CV 4/5] END knn__metric=euclidean, knn__n_neighbors=5, knn__weights=uniform; accuracy: (test=0.577) roc_auc: (test=0.600) total time=   3.4s\n",
      "[CV 5/5] END knn__metric=euclidean, knn__n_neighbors=5, knn__weights=uniform; accuracy: (test=0.571) roc_auc: (test=0.597) total time=   3.3s\n",
      "[CV 1/5] END knn__metric=euclidean, knn__n_neighbors=5, knn__weights=distance; accuracy: (test=0.561) roc_auc: (test=0.596) total time=   3.0s\n",
      "[CV 2/5] END knn__metric=euclidean, knn__n_neighbors=5, knn__weights=distance; accuracy: (test=0.567) roc_auc: (test=0.599) total time=   2.8s\n",
      "[CV 3/5] END knn__metric=euclidean, knn__n_neighbors=5, knn__weights=distance; accuracy: (test=0.574) roc_auc: (test=0.604) total time=   2.9s\n",
      "[CV 4/5] END knn__metric=euclidean, knn__n_neighbors=5, knn__weights=distance; accuracy: (test=0.578) roc_auc: (test=0.606) total time=   2.7s\n",
      "[CV 5/5] END knn__metric=euclidean, knn__n_neighbors=5, knn__weights=distance; accuracy: (test=0.572) roc_auc: (test=0.607) total time=   2.5s\n",
      "[CV 1/5] END knn__metric=euclidean, knn__n_neighbors=11, knn__weights=uniform; accuracy: (test=0.572) roc_auc: (test=0.599) total time=   3.5s\n",
      "[CV 2/5] END knn__metric=euclidean, knn__n_neighbors=11, knn__weights=uniform; accuracy: (test=0.578) roc_auc: (test=0.605) total time=   3.0s\n",
      "[CV 3/5] END knn__metric=euclidean, knn__n_neighbors=11, knn__weights=uniform; accuracy: (test=0.581) roc_auc: (test=0.609) total time=   3.4s\n",
      "[CV 4/5] END knn__metric=euclidean, knn__n_neighbors=11, knn__weights=uniform; accuracy: (test=0.575) roc_auc: (test=0.605) total time=   3.4s\n",
      "[CV 5/5] END knn__metric=euclidean, knn__n_neighbors=11, knn__weights=uniform; accuracy: (test=0.580) roc_auc: (test=0.607) total time=   3.9s\n",
      "[CV 1/5] END knn__metric=euclidean, knn__n_neighbors=11, knn__weights=distance; accuracy: (test=0.572) roc_auc: (test=0.605) total time=   2.6s\n",
      "[CV 2/5] END knn__metric=euclidean, knn__n_neighbors=11, knn__weights=distance; accuracy: (test=0.580) roc_auc: (test=0.611) total time=   3.1s\n",
      "[CV 3/5] END knn__metric=euclidean, knn__n_neighbors=11, knn__weights=distance; accuracy: (test=0.583) roc_auc: (test=0.616) total time=   2.5s\n",
      "[CV 4/5] END knn__metric=euclidean, knn__n_neighbors=11, knn__weights=distance; accuracy: (test=0.576) roc_auc: (test=0.613) total time=   2.7s\n",
      "[CV 5/5] END knn__metric=euclidean, knn__n_neighbors=11, knn__weights=distance; accuracy: (test=0.582) roc_auc: (test=0.614) total time=   2.5s\n",
      "[CV 1/5] END knn__metric=euclidean, knn__n_neighbors=17, knn__weights=uniform; accuracy: (test=0.571) roc_auc: (test=0.604) total time=   3.1s\n",
      "[CV 2/5] END knn__metric=euclidean, knn__n_neighbors=17, knn__weights=uniform; accuracy: (test=0.582) roc_auc: (test=0.615) total time=   3.3s\n",
      "[CV 3/5] END knn__metric=euclidean, knn__n_neighbors=17, knn__weights=uniform; accuracy: (test=0.586) roc_auc: (test=0.614) total time=   3.2s\n",
      "[CV 4/5] END knn__metric=euclidean, knn__n_neighbors=17, knn__weights=uniform; accuracy: (test=0.582) roc_auc: (test=0.613) total time=   3.5s\n",
      "[CV 5/5] END knn__metric=euclidean, knn__n_neighbors=17, knn__weights=uniform; accuracy: (test=0.582) roc_auc: (test=0.613) total time=   3.5s\n",
      "[CV 1/5] END knn__metric=euclidean, knn__n_neighbors=17, knn__weights=distance; accuracy: (test=0.572) roc_auc: (test=0.609) total time=   2.8s\n",
      "[CV 2/5] END knn__metric=euclidean, knn__n_neighbors=17, knn__weights=distance; accuracy: (test=0.584) roc_auc: (test=0.620) total time=   3.4s\n",
      "[CV 3/5] END knn__metric=euclidean, knn__n_neighbors=17, knn__weights=distance; accuracy: (test=0.586) roc_auc: (test=0.620) total time=   2.6s\n",
      "[CV 4/5] END knn__metric=euclidean, knn__n_neighbors=17, knn__weights=distance; accuracy: (test=0.585) roc_auc: (test=0.619) total time=   2.7s\n",
      "[CV 5/5] END knn__metric=euclidean, knn__n_neighbors=17, knn__weights=distance; accuracy: (test=0.584) roc_auc: (test=0.619) total time=   3.2s\n",
      "[CV 1/5] END knn__metric=euclidean, knn__n_neighbors=25, knn__weights=uniform; accuracy: (test=0.578) roc_auc: (test=0.611) total time=   3.4s\n",
      "[CV 2/5] END knn__metric=euclidean, knn__n_neighbors=25, knn__weights=uniform; accuracy: (test=0.578) roc_auc: (test=0.611) total time=   3.3s\n",
      "[CV 3/5] END knn__metric=euclidean, knn__n_neighbors=25, knn__weights=uniform; accuracy: (test=0.580) roc_auc: (test=0.612) total time=   3.4s\n",
      "[CV 4/5] END knn__metric=euclidean, knn__n_neighbors=25, knn__weights=uniform; accuracy: (test=0.589) roc_auc: (test=0.619) total time=   3.3s\n",
      "[CV 5/5] END knn__metric=euclidean, knn__n_neighbors=25, knn__weights=uniform; accuracy: (test=0.582) roc_auc: (test=0.614) total time=   3.9s\n",
      "[CV 1/5] END knn__metric=euclidean, knn__n_neighbors=25, knn__weights=distance; accuracy: (test=0.580) roc_auc: (test=0.616) total time=   2.4s\n",
      "[CV 2/5] END knn__metric=euclidean, knn__n_neighbors=25, knn__weights=distance; accuracy: (test=0.580) roc_auc: (test=0.616) total time=   3.2s\n",
      "[CV 3/5] END knn__metric=euclidean, knn__n_neighbors=25, knn__weights=distance; accuracy: (test=0.583) roc_auc: (test=0.618) total time=   3.0s\n",
      "[CV 4/5] END knn__metric=euclidean, knn__n_neighbors=25, knn__weights=distance; accuracy: (test=0.590) roc_auc: (test=0.624) total time=   2.9s\n",
      "[CV 5/5] END knn__metric=euclidean, knn__n_neighbors=25, knn__weights=distance; accuracy: (test=0.584) roc_auc: (test=0.619) total time=   2.6s\n",
      "[CV 1/5] END knn__metric=manhattan, knn__n_neighbors=3, knn__weights=uniform; accuracy: (test=0.598) roc_auc: (test=0.621) total time=  14.7s\n",
      "[CV 2/5] END knn__metric=manhattan, knn__n_neighbors=3, knn__weights=uniform; accuracy: (test=0.602) roc_auc: (test=0.629) total time=  15.2s\n",
      "[CV 3/5] END knn__metric=manhattan, knn__n_neighbors=3, knn__weights=uniform; accuracy: (test=0.604) roc_auc: (test=0.631) total time=  15.4s\n",
      "[CV 4/5] END knn__metric=manhattan, knn__n_neighbors=3, knn__weights=uniform; accuracy: (test=0.607) roc_auc: (test=0.634) total time=  15.9s\n",
      "[CV 5/5] END knn__metric=manhattan, knn__n_neighbors=3, knn__weights=uniform; accuracy: (test=0.607) roc_auc: (test=0.634) total time=  15.4s\n",
      "[CV 1/5] END knn__metric=manhattan, knn__n_neighbors=3, knn__weights=distance; accuracy: (test=0.597) roc_auc: (test=0.633) total time=  15.7s\n",
      "[CV 2/5] END knn__metric=manhattan, knn__n_neighbors=3, knn__weights=distance; accuracy: (test=0.604) roc_auc: (test=0.641) total time=  16.6s\n",
      "[CV 3/5] END knn__metric=manhattan, knn__n_neighbors=3, knn__weights=distance; accuracy: (test=0.603) roc_auc: (test=0.645) total time=  15.2s\n",
      "[CV 4/5] END knn__metric=manhattan, knn__n_neighbors=3, knn__weights=distance; accuracy: (test=0.607) roc_auc: (test=0.645) total time=  15.4s\n",
      "[CV 5/5] END knn__metric=manhattan, knn__n_neighbors=3, knn__weights=distance; accuracy: (test=0.606) roc_auc: (test=0.648) total time=  15.4s\n",
      "[CV 1/5] END knn__metric=manhattan, knn__n_neighbors=5, knn__weights=uniform; accuracy: (test=0.596) roc_auc: (test=0.628) total time=  15.2s\n",
      "[CV 2/5] END knn__metric=manhattan, knn__n_neighbors=5, knn__weights=uniform; accuracy: (test=0.605) roc_auc: (test=0.636) total time=  15.3s\n",
      "[CV 3/5] END knn__metric=manhattan, knn__n_neighbors=5, knn__weights=uniform; accuracy: (test=0.606) roc_auc: (test=0.640) total time=  15.6s\n",
      "[CV 4/5] END knn__metric=manhattan, knn__n_neighbors=5, knn__weights=uniform; accuracy: (test=0.611) roc_auc: (test=0.642) total time=  15.7s\n",
      "[CV 5/5] END knn__metric=manhattan, knn__n_neighbors=5, knn__weights=uniform; accuracy: (test=0.608) roc_auc: (test=0.641) total time=  15.4s\n",
      "[CV 1/5] END knn__metric=manhattan, knn__n_neighbors=5, knn__weights=distance; accuracy: (test=0.597) roc_auc: (test=0.642) total time=  17.6s\n",
      "[CV 2/5] END knn__metric=manhattan, knn__n_neighbors=5, knn__weights=distance; accuracy: (test=0.608) roc_auc: (test=0.650) total time=  15.7s\n",
      "[CV 3/5] END knn__metric=manhattan, knn__n_neighbors=5, knn__weights=distance; accuracy: (test=0.606) roc_auc: (test=0.654) total time=  16.2s\n",
      "[CV 4/5] END knn__metric=manhattan, knn__n_neighbors=5, knn__weights=distance; accuracy: (test=0.612) roc_auc: (test=0.656) total time=  16.5s\n",
      "[CV 5/5] END knn__metric=manhattan, knn__n_neighbors=5, knn__weights=distance; accuracy: (test=0.610) roc_auc: (test=0.656) total time=  15.7s\n",
      "[CV 1/5] END knn__metric=manhattan, knn__n_neighbors=11, knn__weights=uniform; accuracy: (test=0.604) roc_auc: (test=0.637) total time=  15.4s\n",
      "[CV 2/5] END knn__metric=manhattan, knn__n_neighbors=11, knn__weights=uniform; accuracy: (test=0.600) roc_auc: (test=0.634) total time=  15.5s\n",
      "[CV 3/5] END knn__metric=manhattan, knn__n_neighbors=11, knn__weights=uniform; accuracy: (test=0.609) roc_auc: (test=0.645) total time=  17.4s\n",
      "[CV 4/5] END knn__metric=manhattan, knn__n_neighbors=11, knn__weights=uniform; accuracy: (test=0.607) roc_auc: (test=0.645) total time=  18.6s\n",
      "[CV 5/5] END knn__metric=manhattan, knn__n_neighbors=11, knn__weights=uniform; accuracy: (test=0.602) roc_auc: (test=0.642) total time=  16.9s\n",
      "[CV 1/5] END knn__metric=manhattan, knn__n_neighbors=11, knn__weights=distance; accuracy: (test=0.609) roc_auc: (test=0.650) total time=  16.9s\n",
      "[CV 2/5] END knn__metric=manhattan, knn__n_neighbors=11, knn__weights=distance; accuracy: (test=0.604) roc_auc: (test=0.648) total time=  17.1s\n",
      "[CV 3/5] END knn__metric=manhattan, knn__n_neighbors=11, knn__weights=distance; accuracy: (test=0.613) roc_auc: (test=0.659) total time=  16.1s\n",
      "[CV 4/5] END knn__metric=manhattan, knn__n_neighbors=11, knn__weights=distance; accuracy: (test=0.610) roc_auc: (test=0.658) total time=  17.5s\n",
      "[CV 5/5] END knn__metric=manhattan, knn__n_neighbors=11, knn__weights=distance; accuracy: (test=0.604) roc_auc: (test=0.656) total time=  17.7s\n",
      "[CV 1/5] END knn__metric=manhattan, knn__n_neighbors=17, knn__weights=uniform; accuracy: (test=0.597) roc_auc: (test=0.636) total time=  16.3s\n",
      "[CV 2/5] END knn__metric=manhattan, knn__n_neighbors=17, knn__weights=uniform; accuracy: (test=0.595) roc_auc: (test=0.633) total time=  15.8s\n",
      "[CV 3/5] END knn__metric=manhattan, knn__n_neighbors=17, knn__weights=uniform; accuracy: (test=0.607) roc_auc: (test=0.645) total time=  15.6s\n",
      "[CV 4/5] END knn__metric=manhattan, knn__n_neighbors=17, knn__weights=uniform; accuracy: (test=0.609) roc_auc: (test=0.649) total time=  16.7s\n",
      "[CV 5/5] END knn__metric=manhattan, knn__n_neighbors=17, knn__weights=uniform; accuracy: (test=0.609) roc_auc: (test=0.648) total time=  16.4s\n",
      "[CV 1/5] END knn__metric=manhattan, knn__n_neighbors=17, knn__weights=distance; accuracy: (test=0.604) roc_auc: (test=0.649) total time=  16.4s\n",
      "[CV 2/5] END knn__metric=manhattan, knn__n_neighbors=17, knn__weights=distance; accuracy: (test=0.599) roc_auc: (test=0.646) total time=  15.8s\n",
      "[CV 3/5] END knn__metric=manhattan, knn__n_neighbors=17, knn__weights=distance; accuracy: (test=0.613) roc_auc: (test=0.658) total time=  17.2s\n",
      "[CV 4/5] END knn__metric=manhattan, knn__n_neighbors=17, knn__weights=distance; accuracy: (test=0.617) roc_auc: (test=0.661) total time=  17.7s\n",
      "[CV 5/5] END knn__metric=manhattan, knn__n_neighbors=17, knn__weights=distance; accuracy: (test=0.615) roc_auc: (test=0.660) total time=  17.8s\n",
      "[CV 1/5] END knn__metric=manhattan, knn__n_neighbors=25, knn__weights=uniform; accuracy: (test=0.599) roc_auc: (test=0.636) total time=  15.7s\n",
      "[CV 2/5] END knn__metric=manhattan, knn__n_neighbors=25, knn__weights=uniform; accuracy: (test=0.594) roc_auc: (test=0.635) total time=  17.5s\n",
      "[CV 3/5] END knn__metric=manhattan, knn__n_neighbors=25, knn__weights=uniform; accuracy: (test=0.605) roc_auc: (test=0.643) total time=  15.5s\n",
      "[CV 4/5] END knn__metric=manhattan, knn__n_neighbors=25, knn__weights=uniform; accuracy: (test=0.603) roc_auc: (test=0.645) total time=  17.2s\n",
      "[CV 5/5] END knn__metric=manhattan, knn__n_neighbors=25, knn__weights=uniform; accuracy: (test=0.604) roc_auc: (test=0.642) total time=  15.3s\n",
      "[CV 1/5] END knn__metric=manhattan, knn__n_neighbors=25, knn__weights=distance; accuracy: (test=0.607) roc_auc: (test=0.649) total time=  14.9s\n",
      "[CV 2/5] END knn__metric=manhattan, knn__n_neighbors=25, knn__weights=distance; accuracy: (test=0.601) roc_auc: (test=0.647) total time=  15.0s\n",
      "[CV 3/5] END knn__metric=manhattan, knn__n_neighbors=25, knn__weights=distance; accuracy: (test=0.612) roc_auc: (test=0.656) total time=  15.2s\n",
      "[CV 4/5] END knn__metric=manhattan, knn__n_neighbors=25, knn__weights=distance; accuracy: (test=0.610) roc_auc: (test=0.657) total time=  14.6s\n",
      "[CV 5/5] END knn__metric=manhattan, knn__n_neighbors=25, knn__weights=distance; accuracy: (test=0.608) roc_auc: (test=0.654) total time=  14.7s\n",
      "[CV 1/5] END knn__metric=cosine, knn__n_neighbors=3, knn__weights=uniform; accuracy: (test=0.565) roc_auc: (test=0.587) total time=  20.8s\n",
      "[CV 2/5] END knn__metric=cosine, knn__n_neighbors=3, knn__weights=uniform; accuracy: (test=0.571) roc_auc: (test=0.589) total time=  20.6s\n",
      "[CV 3/5] END knn__metric=cosine, knn__n_neighbors=3, knn__weights=uniform; accuracy: (test=0.571) roc_auc: (test=0.591) total time=  20.3s\n",
      "[CV 4/5] END knn__metric=cosine, knn__n_neighbors=3, knn__weights=uniform; accuracy: (test=0.578) roc_auc: (test=0.597) total time=  20.6s\n",
      "[CV 5/5] END knn__metric=cosine, knn__n_neighbors=3, knn__weights=uniform; accuracy: (test=0.577) roc_auc: (test=0.597) total time=  20.5s\n",
      "[CV 1/5] END knn__metric=cosine, knn__n_neighbors=3, knn__weights=distance; accuracy: (test=0.566) roc_auc: (test=0.593) total time=  20.1s\n",
      "[CV 2/5] END knn__metric=cosine, knn__n_neighbors=3, knn__weights=distance; accuracy: (test=0.572) roc_auc: (test=0.596) total time=  20.9s\n",
      "[CV 3/5] END knn__metric=cosine, knn__n_neighbors=3, knn__weights=distance; accuracy: (test=0.571) roc_auc: (test=0.597) total time=  20.7s\n",
      "[CV 4/5] END knn__metric=cosine, knn__n_neighbors=3, knn__weights=distance; accuracy: (test=0.578) roc_auc: (test=0.603) total time=  20.6s\n",
      "[CV 5/5] END knn__metric=cosine, knn__n_neighbors=3, knn__weights=distance; accuracy: (test=0.577) roc_auc: (test=0.606) total time=  20.3s\n",
      "[CV 1/5] END knn__metric=cosine, knn__n_neighbors=5, knn__weights=uniform; accuracy: (test=0.573) roc_auc: (test=0.598) total time=  20.8s\n",
      "[CV 2/5] END knn__metric=cosine, knn__n_neighbors=5, knn__weights=uniform; accuracy: (test=0.571) roc_auc: (test=0.597) total time=  21.0s\n",
      "[CV 3/5] END knn__metric=cosine, knn__n_neighbors=5, knn__weights=uniform; accuracy: (test=0.578) roc_auc: (test=0.605) total time=  21.2s\n",
      "[CV 4/5] END knn__metric=cosine, knn__n_neighbors=5, knn__weights=uniform; accuracy: (test=0.577) roc_auc: (test=0.601) total time=  21.2s\n",
      "[CV 5/5] END knn__metric=cosine, knn__n_neighbors=5, knn__weights=uniform; accuracy: (test=0.573) roc_auc: (test=0.598) total time=  21.2s\n",
      "[CV 1/5] END knn__metric=cosine, knn__n_neighbors=5, knn__weights=distance; accuracy: (test=0.575) roc_auc: (test=0.605) total time=  20.2s\n",
      "[CV 2/5] END knn__metric=cosine, knn__n_neighbors=5, knn__weights=distance; accuracy: (test=0.572) roc_auc: (test=0.605) total time=  20.7s\n",
      "[CV 3/5] END knn__metric=cosine, knn__n_neighbors=5, knn__weights=distance; accuracy: (test=0.579) roc_auc: (test=0.612) total time=  20.5s\n",
      "[CV 4/5] END knn__metric=cosine, knn__n_neighbors=5, knn__weights=distance; accuracy: (test=0.577) roc_auc: (test=0.609) total time=  20.9s\n",
      "[CV 5/5] END knn__metric=cosine, knn__n_neighbors=5, knn__weights=distance; accuracy: (test=0.576) roc_auc: (test=0.609) total time=  20.4s\n",
      "[CV 1/5] END knn__metric=cosine, knn__n_neighbors=11, knn__weights=uniform; accuracy: (test=0.582) roc_auc: (test=0.609) total time=  20.9s\n",
      "[CV 2/5] END knn__metric=cosine, knn__n_neighbors=11, knn__weights=uniform; accuracy: (test=0.584) roc_auc: (test=0.615) total time=  20.9s\n",
      "[CV 3/5] END knn__metric=cosine, knn__n_neighbors=11, knn__weights=uniform; accuracy: (test=0.588) roc_auc: (test=0.617) total time=  21.2s\n",
      "[CV 4/5] END knn__metric=cosine, knn__n_neighbors=11, knn__weights=uniform; accuracy: (test=0.588) roc_auc: (test=0.615) total time=  21.0s\n",
      "[CV 5/5] END knn__metric=cosine, knn__n_neighbors=11, knn__weights=uniform; accuracy: (test=0.586) roc_auc: (test=0.615) total time=  20.9s\n",
      "[CV 1/5] END knn__metric=cosine, knn__n_neighbors=11, knn__weights=distance; accuracy: (test=0.583) roc_auc: (test=0.618) total time=  20.1s\n",
      "[CV 2/5] END knn__metric=cosine, knn__n_neighbors=11, knn__weights=distance; accuracy: (test=0.586) roc_auc: (test=0.622) total time=  20.5s\n",
      "[CV 3/5] END knn__metric=cosine, knn__n_neighbors=11, knn__weights=distance; accuracy: (test=0.587) roc_auc: (test=0.625) total time=  20.7s\n",
      "[CV 4/5] END knn__metric=cosine, knn__n_neighbors=11, knn__weights=distance; accuracy: (test=0.592) roc_auc: (test=0.624) total time=  20.5s\n",
      "[CV 5/5] END knn__metric=cosine, knn__n_neighbors=11, knn__weights=distance; accuracy: (test=0.588) roc_auc: (test=0.624) total time=  20.5s\n",
      "[CV 1/5] END knn__metric=cosine, knn__n_neighbors=17, knn__weights=uniform; accuracy: (test=0.582) roc_auc: (test=0.614) total time=  20.8s\n",
      "[CV 2/5] END knn__metric=cosine, knn__n_neighbors=17, knn__weights=uniform; accuracy: (test=0.586) roc_auc: (test=0.618) total time=  21.1s\n",
      "[CV 3/5] END knn__metric=cosine, knn__n_neighbors=17, knn__weights=uniform; accuracy: (test=0.583) roc_auc: (test=0.618) total time=  21.0s\n",
      "[CV 4/5] END knn__metric=cosine, knn__n_neighbors=17, knn__weights=uniform; accuracy: (test=0.587) roc_auc: (test=0.623) total time=  21.4s\n",
      "[CV 5/5] END knn__metric=cosine, knn__n_neighbors=17, knn__weights=uniform; accuracy: (test=0.593) roc_auc: (test=0.622) total time=  21.1s\n",
      "[CV 1/5] END knn__metric=cosine, knn__n_neighbors=17, knn__weights=distance; accuracy: (test=0.585) roc_auc: (test=0.622) total time=  20.4s\n",
      "[CV 2/5] END knn__metric=cosine, knn__n_neighbors=17, knn__weights=distance; accuracy: (test=0.591) roc_auc: (test=0.626) total time=  20.4s\n",
      "[CV 3/5] END knn__metric=cosine, knn__n_neighbors=17, knn__weights=distance; accuracy: (test=0.586) roc_auc: (test=0.628) total time=  20.6s\n",
      "[CV 4/5] END knn__metric=cosine, knn__n_neighbors=17, knn__weights=distance; accuracy: (test=0.593) roc_auc: (test=0.631) total time=  20.6s\n",
      "[CV 5/5] END knn__metric=cosine, knn__n_neighbors=17, knn__weights=distance; accuracy: (test=0.599) roc_auc: (test=0.631) total time=  20.5s\n",
      "[CV 1/5] END knn__metric=cosine, knn__n_neighbors=25, knn__weights=uniform; accuracy: (test=0.574) roc_auc: (test=0.613) total time=  20.6s\n",
      "[CV 2/5] END knn__metric=cosine, knn__n_neighbors=25, knn__weights=uniform; accuracy: (test=0.582) roc_auc: (test=0.614) total time=  21.0s\n",
      "[CV 3/5] END knn__metric=cosine, knn__n_neighbors=25, knn__weights=uniform; accuracy: (test=0.586) roc_auc: (test=0.620) total time=  21.1s\n",
      "[CV 4/5] END knn__metric=cosine, knn__n_neighbors=25, knn__weights=uniform; accuracy: (test=0.592) roc_auc: (test=0.626) total time=  21.1s\n",
      "[CV 5/5] END knn__metric=cosine, knn__n_neighbors=25, knn__weights=uniform; accuracy: (test=0.591) roc_auc: (test=0.626) total time=  20.9s\n",
      "[CV 1/5] END knn__metric=cosine, knn__n_neighbors=25, knn__weights=distance; accuracy: (test=0.581) roc_auc: (test=0.622) total time=  20.4s\n",
      "[CV 2/5] END knn__metric=cosine, knn__n_neighbors=25, knn__weights=distance; accuracy: (test=0.589) roc_auc: (test=0.623) total time=  20.7s\n",
      "[CV 3/5] END knn__metric=cosine, knn__n_neighbors=25, knn__weights=distance; accuracy: (test=0.591) roc_auc: (test=0.630) total time=  21.1s\n",
      "[CV 4/5] END knn__metric=cosine, knn__n_neighbors=25, knn__weights=distance; accuracy: (test=0.599) roc_auc: (test=0.635) total time=  21.2s\n",
      "[CV 5/5] END knn__metric=cosine, knn__n_neighbors=25, knn__weights=distance; accuracy: (test=0.598) roc_auc: (test=0.635) total time=  20.8s\n",
      "[CV 1/5] END knn__metric=hamming, knn__n_neighbors=3, knn__weights=uniform; accuracy: (test=0.704) roc_auc: (test=0.754) total time= 1.1min\n",
      "[CV 2/5] END knn__metric=hamming, knn__n_neighbors=3, knn__weights=uniform; accuracy: (test=0.707) roc_auc: (test=0.753) total time= 1.1min\n",
      "[CV 3/5] END knn__metric=hamming, knn__n_neighbors=3, knn__weights=uniform; accuracy: (test=0.702) roc_auc: (test=0.753) total time= 1.0min\n",
      "[CV 4/5] END knn__metric=hamming, knn__n_neighbors=3, knn__weights=uniform; accuracy: (test=0.705) roc_auc: (test=0.755) total time= 1.0min\n",
      "[CV 5/5] END knn__metric=hamming, knn__n_neighbors=3, knn__weights=uniform; accuracy: (test=0.705) roc_auc: (test=0.754) total time= 1.0min\n",
      "[CV 1/5] END knn__metric=hamming, knn__n_neighbors=3, knn__weights=distance; accuracy: (test=0.704) roc_auc: (test=0.761) total time= 1.0min\n",
      "[CV 2/5] END knn__metric=hamming, knn__n_neighbors=3, knn__weights=distance; accuracy: (test=0.707) roc_auc: (test=0.759) total time= 1.0min\n",
      "[CV 3/5] END knn__metric=hamming, knn__n_neighbors=3, knn__weights=distance; accuracy: (test=0.702) roc_auc: (test=0.763) total time= 1.0min\n",
      "[CV 4/5] END knn__metric=hamming, knn__n_neighbors=3, knn__weights=distance; accuracy: (test=0.705) roc_auc: (test=0.763) total time= 1.1min\n",
      "[CV 5/5] END knn__metric=hamming, knn__n_neighbors=3, knn__weights=distance; accuracy: (test=0.705) roc_auc: (test=0.760) total time= 1.0min\n",
      "[CV 1/5] END knn__metric=hamming, knn__n_neighbors=5, knn__weights=uniform; accuracy: (test=0.710) roc_auc: (test=0.773) total time= 1.0min\n",
      "[CV 2/5] END knn__metric=hamming, knn__n_neighbors=5, knn__weights=uniform; accuracy: (test=0.715) roc_auc: (test=0.775) total time= 1.0min\n",
      "[CV 3/5] END knn__metric=hamming, knn__n_neighbors=5, knn__weights=uniform; accuracy: (test=0.709) roc_auc: (test=0.772) total time= 1.0min\n",
      "[CV 4/5] END knn__metric=hamming, knn__n_neighbors=5, knn__weights=uniform; accuracy: (test=0.715) roc_auc: (test=0.775) total time= 1.0min\n",
      "[CV 5/5] END knn__metric=hamming, knn__n_neighbors=5, knn__weights=uniform; accuracy: (test=0.715) roc_auc: (test=0.779) total time= 1.0min\n",
      "[CV 1/5] END knn__metric=hamming, knn__n_neighbors=5, knn__weights=distance; accuracy: (test=0.711) roc_auc: (test=0.785) total time= 1.0min\n",
      "[CV 2/5] END knn__metric=hamming, knn__n_neighbors=5, knn__weights=distance; accuracy: (test=0.715) roc_auc: (test=0.786) total time= 1.1min\n",
      "[CV 3/5] END knn__metric=hamming, knn__n_neighbors=5, knn__weights=distance; accuracy: (test=0.709) roc_auc: (test=0.786) total time=  57.3s\n",
      "[CV 4/5] END knn__metric=hamming, knn__n_neighbors=5, knn__weights=distance; accuracy: (test=0.716) roc_auc: (test=0.788) total time=  57.7s\n",
      "[CV 5/5] END knn__metric=hamming, knn__n_neighbors=5, knn__weights=distance; accuracy: (test=0.714) roc_auc: (test=0.791) total time=  58.6s\n",
      "[CV 1/5] END knn__metric=hamming, knn__n_neighbors=11, knn__weights=uniform; accuracy: (test=0.694) roc_auc: (test=0.759) total time= 1.0min\n",
      "[CV 2/5] END knn__metric=hamming, knn__n_neighbors=11, knn__weights=uniform; accuracy: (test=0.691) roc_auc: (test=0.756) total time= 1.0min\n",
      "[CV 3/5] END knn__metric=hamming, knn__n_neighbors=11, knn__weights=uniform; accuracy: (test=0.696) roc_auc: (test=0.763) total time=  58.8s\n",
      "[CV 4/5] END knn__metric=hamming, knn__n_neighbors=11, knn__weights=uniform; accuracy: (test=0.697) roc_auc: (test=0.755) total time=  58.9s\n",
      "[CV 5/5] END knn__metric=hamming, knn__n_neighbors=11, knn__weights=uniform; accuracy: (test=0.700) roc_auc: (test=0.767) total time=  58.9s\n",
      "[CV 1/5] END knn__metric=hamming, knn__n_neighbors=11, knn__weights=distance; accuracy: (test=0.702) roc_auc: (test=0.779) total time=  56.8s\n",
      "[CV 2/5] END knn__metric=hamming, knn__n_neighbors=11, knn__weights=distance; accuracy: (test=0.697) roc_auc: (test=0.776) total time= 1.0min\n",
      "[CV 3/5] END knn__metric=hamming, knn__n_neighbors=11, knn__weights=distance; accuracy: (test=0.701) roc_auc: (test=0.783) total time=  59.9s\n",
      "[CV 4/5] END knn__metric=hamming, knn__n_neighbors=11, knn__weights=distance; accuracy: (test=0.702) roc_auc: (test=0.777) total time=  58.0s\n",
      "[CV 5/5] END knn__metric=hamming, knn__n_neighbors=11, knn__weights=distance; accuracy: (test=0.706) roc_auc: (test=0.786) total time=  58.1s\n",
      "[CV 1/5] END knn__metric=hamming, knn__n_neighbors=17, knn__weights=uniform; accuracy: (test=0.678) roc_auc: (test=0.737) total time=  58.5s\n",
      "[CV 2/5] END knn__metric=hamming, knn__n_neighbors=17, knn__weights=uniform; accuracy: (test=0.675) roc_auc: (test=0.735) total time= 1.1min\n",
      "[CV 3/5] END knn__metric=hamming, knn__n_neighbors=17, knn__weights=uniform; accuracy: (test=0.676) roc_auc: (test=0.735) total time=  58.9s\n",
      "[CV 4/5] END knn__metric=hamming, knn__n_neighbors=17, knn__weights=uniform; accuracy: (test=0.671) roc_auc: (test=0.728) total time=  57.2s\n",
      "[CV 5/5] END knn__metric=hamming, knn__n_neighbors=17, knn__weights=uniform; accuracy: (test=0.676) roc_auc: (test=0.738) total time=  57.5s\n",
      "[CV 1/5] END knn__metric=hamming, knn__n_neighbors=17, knn__weights=distance; accuracy: (test=0.688) roc_auc: (test=0.761) total time=  57.0s\n",
      "[CV 2/5] END knn__metric=hamming, knn__n_neighbors=17, knn__weights=distance; accuracy: (test=0.684) roc_auc: (test=0.758) total time=  57.5s\n",
      "[CV 3/5] END knn__metric=hamming, knn__n_neighbors=17, knn__weights=distance; accuracy: (test=0.688) roc_auc: (test=0.759) total time=  58.0s\n",
      "[CV 4/5] END knn__metric=hamming, knn__n_neighbors=17, knn__weights=distance; accuracy: (test=0.683) roc_auc: (test=0.753) total time=  57.0s\n",
      "[CV 5/5] END knn__metric=hamming, knn__n_neighbors=17, knn__weights=distance; accuracy: (test=0.686) roc_auc: (test=0.761) total time=  57.4s\n",
      "[CV 1/5] END knn__metric=hamming, knn__n_neighbors=25, knn__weights=uniform; accuracy: (test=0.657) roc_auc: (test=0.714) total time=  58.4s\n",
      "[CV 2/5] END knn__metric=hamming, knn__n_neighbors=25, knn__weights=uniform; accuracy: (test=0.653) roc_auc: (test=0.709) total time=  58.9s\n",
      "[CV 3/5] END knn__metric=hamming, knn__n_neighbors=25, knn__weights=uniform; accuracy: (test=0.653) roc_auc: (test=0.711) total time=  57.6s\n",
      "[CV 4/5] END knn__metric=hamming, knn__n_neighbors=25, knn__weights=uniform; accuracy: (test=0.651) roc_auc: (test=0.705) total time=  56.9s\n",
      "[CV 5/5] END knn__metric=hamming, knn__n_neighbors=25, knn__weights=uniform; accuracy: (test=0.663) roc_auc: (test=0.719) total time=  57.2s\n",
      "[CV 1/5] END knn__metric=hamming, knn__n_neighbors=25, knn__weights=distance; accuracy: (test=0.673) roc_auc: (test=0.740) total time=  58.8s\n",
      "[CV 2/5] END knn__metric=hamming, knn__n_neighbors=25, knn__weights=distance; accuracy: (test=0.669) roc_auc: (test=0.735) total time=  57.9s\n",
      "[CV 3/5] END knn__metric=hamming, knn__n_neighbors=25, knn__weights=distance; accuracy: (test=0.669) roc_auc: (test=0.737) total time=  57.9s\n",
      "[CV 4/5] END knn__metric=hamming, knn__n_neighbors=25, knn__weights=distance; accuracy: (test=0.670) roc_auc: (test=0.733) total time=  56.6s\n",
      "[CV 5/5] END knn__metric=hamming, knn__n_neighbors=25, knn__weights=distance; accuracy: (test=0.677) roc_auc: (test=0.744) total time=  57.1s\n"
     ]
    },
    {
     "data": {
      "text/html": [
       "<style>#sk-container-id-5 {color: black;}#sk-container-id-5 pre{padding: 0;}#sk-container-id-5 div.sk-toggleable {background-color: white;}#sk-container-id-5 label.sk-toggleable__label {cursor: pointer;display: block;width: 100%;margin-bottom: 0;padding: 0.3em;box-sizing: border-box;text-align: center;}#sk-container-id-5 label.sk-toggleable__label-arrow:before {content: \"▸\";float: left;margin-right: 0.25em;color: #696969;}#sk-container-id-5 label.sk-toggleable__label-arrow:hover:before {color: black;}#sk-container-id-5 div.sk-estimator:hover label.sk-toggleable__label-arrow:before {color: black;}#sk-container-id-5 div.sk-toggleable__content {max-height: 0;max-width: 0;overflow: hidden;text-align: left;background-color: #f0f8ff;}#sk-container-id-5 div.sk-toggleable__content pre {margin: 0.2em;color: black;border-radius: 0.25em;background-color: #f0f8ff;}#sk-container-id-5 input.sk-toggleable__control:checked~div.sk-toggleable__content {max-height: 200px;max-width: 100%;overflow: auto;}#sk-container-id-5 input.sk-toggleable__control:checked~label.sk-toggleable__label-arrow:before {content: \"▾\";}#sk-container-id-5 div.sk-estimator input.sk-toggleable__control:checked~label.sk-toggleable__label {background-color: #d4ebff;}#sk-container-id-5 div.sk-label input.sk-toggleable__control:checked~label.sk-toggleable__label {background-color: #d4ebff;}#sk-container-id-5 input.sk-hidden--visually {border: 0;clip: rect(1px 1px 1px 1px);clip: rect(1px, 1px, 1px, 1px);height: 1px;margin: -1px;overflow: hidden;padding: 0;position: absolute;width: 1px;}#sk-container-id-5 div.sk-estimator {font-family: monospace;background-color: #f0f8ff;border: 1px dotted black;border-radius: 0.25em;box-sizing: border-box;margin-bottom: 0.5em;}#sk-container-id-5 div.sk-estimator:hover {background-color: #d4ebff;}#sk-container-id-5 div.sk-parallel-item::after {content: \"\";width: 100%;border-bottom: 1px solid gray;flex-grow: 1;}#sk-container-id-5 div.sk-label:hover label.sk-toggleable__label {background-color: #d4ebff;}#sk-container-id-5 div.sk-serial::before {content: \"\";position: absolute;border-left: 1px solid gray;box-sizing: border-box;top: 0;bottom: 0;left: 50%;z-index: 0;}#sk-container-id-5 div.sk-serial {display: flex;flex-direction: column;align-items: center;background-color: white;padding-right: 0.2em;padding-left: 0.2em;position: relative;}#sk-container-id-5 div.sk-item {position: relative;z-index: 1;}#sk-container-id-5 div.sk-parallel {display: flex;align-items: stretch;justify-content: center;background-color: white;position: relative;}#sk-container-id-5 div.sk-item::before, #sk-container-id-5 div.sk-parallel-item::before {content: \"\";position: absolute;border-left: 1px solid gray;box-sizing: border-box;top: 0;bottom: 0;left: 50%;z-index: -1;}#sk-container-id-5 div.sk-parallel-item {display: flex;flex-direction: column;z-index: 1;position: relative;background-color: white;}#sk-container-id-5 div.sk-parallel-item:first-child::after {align-self: flex-end;width: 50%;}#sk-container-id-5 div.sk-parallel-item:last-child::after {align-self: flex-start;width: 50%;}#sk-container-id-5 div.sk-parallel-item:only-child::after {width: 0;}#sk-container-id-5 div.sk-dashed-wrapped {border: 1px dashed gray;margin: 0 0.4em 0.5em 0.4em;box-sizing: border-box;padding-bottom: 0.4em;background-color: white;}#sk-container-id-5 div.sk-label label {font-family: monospace;font-weight: bold;display: inline-block;line-height: 1.2em;}#sk-container-id-5 div.sk-label-container {text-align: center;}#sk-container-id-5 div.sk-container {/* jupyter's `normalize.less` sets `[hidden] { display: none; }` but bootstrap.min.css set `[hidden] { display: none !important; }` so we also need the `!important` here to be able to override the default hidden behavior on the sphinx rendered scikit-learn.org. See: https://github.com/scikit-learn/scikit-learn/issues/21755 */display: inline-block !important;position: relative;}#sk-container-id-5 div.sk-text-repr-fallback {display: none;}</style><div id=\"sk-container-id-5\" class=\"sk-top-container\"><div class=\"sk-text-repr-fallback\"><pre>GridSearchCV(estimator=Pipeline(steps=[(&#x27;scaler&#x27;, StandardScaler()),\n",
       "                                       (&#x27;knn&#x27;, KNeighborsClassifier())]),\n",
       "             param_grid=[{&#x27;knn__metric&#x27;: [&#x27;euclidean&#x27;, &#x27;manhattan&#x27;, &#x27;cosine&#x27;,\n",
       "                                          &#x27;hamming&#x27;],\n",
       "                          &#x27;knn__n_neighbors&#x27;: [3, 5, 11, 17, 25],\n",
       "                          &#x27;knn__weights&#x27;: [&#x27;uniform&#x27;, &#x27;distance&#x27;]}],\n",
       "             refit=&#x27;roc_auc&#x27;, scoring=(&#x27;roc_auc&#x27;, &#x27;accuracy&#x27;), verbose=4)</pre><b>In a Jupyter environment, please rerun this cell to show the HTML representation or trust the notebook. <br />On GitHub, the HTML representation is unable to render, please try loading this page with nbviewer.org.</b></div><div class=\"sk-container\" hidden><div class=\"sk-item sk-dashed-wrapped\"><div class=\"sk-label-container\"><div class=\"sk-label sk-toggleable\"><input class=\"sk-toggleable__control sk-hidden--visually\" id=\"sk-estimator-id-11\" type=\"checkbox\" ><label for=\"sk-estimator-id-11\" class=\"sk-toggleable__label sk-toggleable__label-arrow\">GridSearchCV</label><div class=\"sk-toggleable__content\"><pre>GridSearchCV(estimator=Pipeline(steps=[(&#x27;scaler&#x27;, StandardScaler()),\n",
       "                                       (&#x27;knn&#x27;, KNeighborsClassifier())]),\n",
       "             param_grid=[{&#x27;knn__metric&#x27;: [&#x27;euclidean&#x27;, &#x27;manhattan&#x27;, &#x27;cosine&#x27;,\n",
       "                                          &#x27;hamming&#x27;],\n",
       "                          &#x27;knn__n_neighbors&#x27;: [3, 5, 11, 17, 25],\n",
       "                          &#x27;knn__weights&#x27;: [&#x27;uniform&#x27;, &#x27;distance&#x27;]}],\n",
       "             refit=&#x27;roc_auc&#x27;, scoring=(&#x27;roc_auc&#x27;, &#x27;accuracy&#x27;), verbose=4)</pre></div></div></div><div class=\"sk-parallel\"><div class=\"sk-parallel-item\"><div class=\"sk-item\"><div class=\"sk-label-container\"><div class=\"sk-label sk-toggleable\"><input class=\"sk-toggleable__control sk-hidden--visually\" id=\"sk-estimator-id-12\" type=\"checkbox\" ><label for=\"sk-estimator-id-12\" class=\"sk-toggleable__label sk-toggleable__label-arrow\">estimator: Pipeline</label><div class=\"sk-toggleable__content\"><pre>Pipeline(steps=[(&#x27;scaler&#x27;, StandardScaler()), (&#x27;knn&#x27;, KNeighborsClassifier())])</pre></div></div></div><div class=\"sk-serial\"><div class=\"sk-item\"><div class=\"sk-serial\"><div class=\"sk-item\"><div class=\"sk-estimator sk-toggleable\"><input class=\"sk-toggleable__control sk-hidden--visually\" id=\"sk-estimator-id-13\" type=\"checkbox\" ><label for=\"sk-estimator-id-13\" class=\"sk-toggleable__label sk-toggleable__label-arrow\">StandardScaler</label><div class=\"sk-toggleable__content\"><pre>StandardScaler()</pre></div></div></div><div class=\"sk-item\"><div class=\"sk-estimator sk-toggleable\"><input class=\"sk-toggleable__control sk-hidden--visually\" id=\"sk-estimator-id-14\" type=\"checkbox\" ><label for=\"sk-estimator-id-14\" class=\"sk-toggleable__label sk-toggleable__label-arrow\">KNeighborsClassifier</label><div class=\"sk-toggleable__content\"><pre>KNeighborsClassifier()</pre></div></div></div></div></div></div></div></div></div></div></div></div>"
      ],
      "text/plain": [
       "GridSearchCV(estimator=Pipeline(steps=[('scaler', StandardScaler()),\n",
       "                                       ('knn', KNeighborsClassifier())]),\n",
       "             param_grid=[{'knn__metric': ['euclidean', 'manhattan', 'cosine',\n",
       "                                          'hamming'],\n",
       "                          'knn__n_neighbors': [3, 5, 11, 17, 25],\n",
       "                          'knn__weights': ['uniform', 'distance']}],\n",
       "             refit='roc_auc', scoring=('roc_auc', 'accuracy'), verbose=4)"
      ]
     },
     "execution_count": 56,
     "metadata": {},
     "output_type": "execute_result"
    }
   ],
   "source": [
    "from sklearn.neighbors import KNeighborsClassifier\n",
    "\n",
    "knn_params = [\n",
    "    {\n",
    "        'knn__n_neighbors': [3,5,11,17,25],\n",
    "        'knn__weights': ['uniform', 'distance'],\n",
    "        'knn__metric': ['euclidean', 'manhattan', 'cosine', 'hamming'],\n",
    "    },\n",
    "]\n",
    "\n",
    "knn_grid = GridSearchCV(\n",
    "    Pipeline(steps=[('scaler', StandardScaler()), ('knn', KNeighborsClassifier())]),\n",
    "    knn_params,\n",
    "    verbose=4,\n",
    "    scoring=('roc_auc', 'accuracy'),\n",
    "    refit='roc_auc')\n",
    "knn_grid.fit(X_train, y_train)"
   ]
  },
  {
   "cell_type": "code",
   "execution_count": 57,
   "metadata": {},
   "outputs": [
    {
     "data": {
      "text/html": [
       "<div>\n",
       "<style scoped>\n",
       "    .dataframe tbody tr th:only-of-type {\n",
       "        vertical-align: middle;\n",
       "    }\n",
       "\n",
       "    .dataframe tbody tr th {\n",
       "        vertical-align: top;\n",
       "    }\n",
       "\n",
       "    .dataframe thead th {\n",
       "        text-align: right;\n",
       "    }\n",
       "</style>\n",
       "<table border=\"1\" class=\"dataframe\">\n",
       "  <thead>\n",
       "    <tr style=\"text-align: right;\">\n",
       "      <th></th>\n",
       "      <th>mean_fit_time</th>\n",
       "      <th>mean_score_time</th>\n",
       "      <th>param_knn__n_neighbors</th>\n",
       "      <th>param_knn__weights</th>\n",
       "      <th>param_knn__metric</th>\n",
       "      <th>mean_test_roc_auc</th>\n",
       "      <th>std_test_roc_auc</th>\n",
       "      <th>mean_test_accuracy</th>\n",
       "      <th>std_test_accuracy</th>\n",
       "    </tr>\n",
       "  </thead>\n",
       "  <tbody>\n",
       "    <tr>\n",
       "      <th>33</th>\n",
       "      <td>0.103448</td>\n",
       "      <td>59.531614</td>\n",
       "      <td>5</td>\n",
       "      <td>distance</td>\n",
       "      <td>hamming</td>\n",
       "      <td>0.787175</td>\n",
       "      <td>0.001874</td>\n",
       "      <td>0.713061</td>\n",
       "      <td>0.002575</td>\n",
       "    </tr>\n",
       "    <tr>\n",
       "      <th>35</th>\n",
       "      <td>0.092479</td>\n",
       "      <td>58.609921</td>\n",
       "      <td>11</td>\n",
       "      <td>distance</td>\n",
       "      <td>hamming</td>\n",
       "      <td>0.780051</td>\n",
       "      <td>0.003782</td>\n",
       "      <td>0.701490</td>\n",
       "      <td>0.002799</td>\n",
       "    </tr>\n",
       "    <tr>\n",
       "      <th>32</th>\n",
       "      <td>0.100310</td>\n",
       "      <td>61.449849</td>\n",
       "      <td>5</td>\n",
       "      <td>uniform</td>\n",
       "      <td>hamming</td>\n",
       "      <td>0.774718</td>\n",
       "      <td>0.002594</td>\n",
       "      <td>0.712857</td>\n",
       "      <td>0.002765</td>\n",
       "    </tr>\n",
       "    <tr>\n",
       "      <th>31</th>\n",
       "      <td>0.099915</td>\n",
       "      <td>61.494314</td>\n",
       "      <td>3</td>\n",
       "      <td>distance</td>\n",
       "      <td>hamming</td>\n",
       "      <td>0.761196</td>\n",
       "      <td>0.001676</td>\n",
       "      <td>0.704714</td>\n",
       "      <td>0.001561</td>\n",
       "    </tr>\n",
       "    <tr>\n",
       "      <th>34</th>\n",
       "      <td>0.099173</td>\n",
       "      <td>59.648449</td>\n",
       "      <td>11</td>\n",
       "      <td>uniform</td>\n",
       "      <td>hamming</td>\n",
       "      <td>0.760177</td>\n",
       "      <td>0.004339</td>\n",
       "      <td>0.695612</td>\n",
       "      <td>0.003251</td>\n",
       "    </tr>\n",
       "    <tr>\n",
       "      <th>37</th>\n",
       "      <td>0.093179</td>\n",
       "      <td>57.279992</td>\n",
       "      <td>17</td>\n",
       "      <td>distance</td>\n",
       "      <td>hamming</td>\n",
       "      <td>0.758358</td>\n",
       "      <td>0.002854</td>\n",
       "      <td>0.685959</td>\n",
       "      <td>0.002308</td>\n",
       "    </tr>\n",
       "    <tr>\n",
       "      <th>30</th>\n",
       "      <td>0.102823</td>\n",
       "      <td>62.565615</td>\n",
       "      <td>3</td>\n",
       "      <td>uniform</td>\n",
       "      <td>hamming</td>\n",
       "      <td>0.753656</td>\n",
       "      <td>0.000606</td>\n",
       "      <td>0.704612</td>\n",
       "      <td>0.001517</td>\n",
       "    </tr>\n",
       "    <tr>\n",
       "      <th>39</th>\n",
       "      <td>0.095498</td>\n",
       "      <td>57.568579</td>\n",
       "      <td>25</td>\n",
       "      <td>distance</td>\n",
       "      <td>hamming</td>\n",
       "      <td>0.737787</td>\n",
       "      <td>0.003817</td>\n",
       "      <td>0.671449</td>\n",
       "      <td>0.003267</td>\n",
       "    </tr>\n",
       "    <tr>\n",
       "      <th>36</th>\n",
       "      <td>0.100749</td>\n",
       "      <td>59.436707</td>\n",
       "      <td>17</td>\n",
       "      <td>uniform</td>\n",
       "      <td>hamming</td>\n",
       "      <td>0.734398</td>\n",
       "      <td>0.003505</td>\n",
       "      <td>0.675245</td>\n",
       "      <td>0.002394</td>\n",
       "    </tr>\n",
       "    <tr>\n",
       "      <th>38</th>\n",
       "      <td>0.091053</td>\n",
       "      <td>57.730767</td>\n",
       "      <td>25</td>\n",
       "      <td>uniform</td>\n",
       "      <td>hamming</td>\n",
       "      <td>0.711745</td>\n",
       "      <td>0.004595</td>\n",
       "      <td>0.655082</td>\n",
       "      <td>0.004333</td>\n",
       "    </tr>\n",
       "    <tr>\n",
       "      <th>17</th>\n",
       "      <td>0.110291</td>\n",
       "      <td>16.839380</td>\n",
       "      <td>17</td>\n",
       "      <td>distance</td>\n",
       "      <td>manhattan</td>\n",
       "      <td>0.654941</td>\n",
       "      <td>0.006220</td>\n",
       "      <td>0.609714</td>\n",
       "      <td>0.006790</td>\n",
       "    </tr>\n",
       "    <tr>\n",
       "      <th>15</th>\n",
       "      <td>0.109226</td>\n",
       "      <td>16.958442</td>\n",
       "      <td>11</td>\n",
       "      <td>distance</td>\n",
       "      <td>manhattan</td>\n",
       "      <td>0.654127</td>\n",
       "      <td>0.004303</td>\n",
       "      <td>0.608000</td>\n",
       "      <td>0.003266</td>\n",
       "    </tr>\n",
       "    <tr>\n",
       "      <th>19</th>\n",
       "      <td>0.113103</td>\n",
       "      <td>14.763548</td>\n",
       "      <td>25</td>\n",
       "      <td>distance</td>\n",
       "      <td>manhattan</td>\n",
       "      <td>0.652468</td>\n",
       "      <td>0.004026</td>\n",
       "      <td>0.607531</td>\n",
       "      <td>0.003737</td>\n",
       "    </tr>\n",
       "    <tr>\n",
       "      <th>13</th>\n",
       "      <td>0.120740</td>\n",
       "      <td>16.226314</td>\n",
       "      <td>5</td>\n",
       "      <td>distance</td>\n",
       "      <td>manhattan</td>\n",
       "      <td>0.651603</td>\n",
       "      <td>0.005276</td>\n",
       "      <td>0.606735</td>\n",
       "      <td>0.005186</td>\n",
       "    </tr>\n",
       "    <tr>\n",
       "      <th>11</th>\n",
       "      <td>0.105203</td>\n",
       "      <td>15.562912</td>\n",
       "      <td>3</td>\n",
       "      <td>distance</td>\n",
       "      <td>manhattan</td>\n",
       "      <td>0.642367</td>\n",
       "      <td>0.005360</td>\n",
       "      <td>0.603531</td>\n",
       "      <td>0.003663</td>\n",
       "    </tr>\n",
       "    <tr>\n",
       "      <th>16</th>\n",
       "      <td>0.105585</td>\n",
       "      <td>16.057032</td>\n",
       "      <td>17</td>\n",
       "      <td>uniform</td>\n",
       "      <td>manhattan</td>\n",
       "      <td>0.642223</td>\n",
       "      <td>0.006264</td>\n",
       "      <td>0.603490</td>\n",
       "      <td>0.006212</td>\n",
       "    </tr>\n",
       "    <tr>\n",
       "      <th>14</th>\n",
       "      <td>0.106602</td>\n",
       "      <td>16.656651</td>\n",
       "      <td>11</td>\n",
       "      <td>uniform</td>\n",
       "      <td>manhattan</td>\n",
       "      <td>0.640581</td>\n",
       "      <td>0.004360</td>\n",
       "      <td>0.604245</td>\n",
       "      <td>0.003115</td>\n",
       "    </tr>\n",
       "    <tr>\n",
       "      <th>18</th>\n",
       "      <td>0.103067</td>\n",
       "      <td>16.135460</td>\n",
       "      <td>25</td>\n",
       "      <td>uniform</td>\n",
       "      <td>manhattan</td>\n",
       "      <td>0.640216</td>\n",
       "      <td>0.003782</td>\n",
       "      <td>0.600714</td>\n",
       "      <td>0.004089</td>\n",
       "    </tr>\n",
       "    <tr>\n",
       "      <th>12</th>\n",
       "      <td>0.106129</td>\n",
       "      <td>15.359191</td>\n",
       "      <td>5</td>\n",
       "      <td>uniform</td>\n",
       "      <td>manhattan</td>\n",
       "      <td>0.637467</td>\n",
       "      <td>0.005313</td>\n",
       "      <td>0.605000</td>\n",
       "      <td>0.005088</td>\n",
       "    </tr>\n",
       "    <tr>\n",
       "      <th>10</th>\n",
       "      <td>0.109716</td>\n",
       "      <td>15.224543</td>\n",
       "      <td>3</td>\n",
       "      <td>uniform</td>\n",
       "      <td>manhattan</td>\n",
       "      <td>0.629709</td>\n",
       "      <td>0.004842</td>\n",
       "      <td>0.603388</td>\n",
       "      <td>0.003332</td>\n",
       "    </tr>\n",
       "    <tr>\n",
       "      <th>29</th>\n",
       "      <td>0.102102</td>\n",
       "      <td>20.721217</td>\n",
       "      <td>25</td>\n",
       "      <td>distance</td>\n",
       "      <td>cosine</td>\n",
       "      <td>0.629168</td>\n",
       "      <td>0.005447</td>\n",
       "      <td>0.591490</td>\n",
       "      <td>0.006534</td>\n",
       "    </tr>\n",
       "    <tr>\n",
       "      <th>27</th>\n",
       "      <td>0.099775</td>\n",
       "      <td>20.425901</td>\n",
       "      <td>17</td>\n",
       "      <td>distance</td>\n",
       "      <td>cosine</td>\n",
       "      <td>0.627572</td>\n",
       "      <td>0.003264</td>\n",
       "      <td>0.590980</td>\n",
       "      <td>0.005056</td>\n",
       "    </tr>\n",
       "    <tr>\n",
       "      <th>25</th>\n",
       "      <td>0.101798</td>\n",
       "      <td>20.369579</td>\n",
       "      <td>11</td>\n",
       "      <td>distance</td>\n",
       "      <td>cosine</td>\n",
       "      <td>0.622552</td>\n",
       "      <td>0.002560</td>\n",
       "      <td>0.587224</td>\n",
       "      <td>0.003022</td>\n",
       "    </tr>\n",
       "    <tr>\n",
       "      <th>28</th>\n",
       "      <td>0.101482</td>\n",
       "      <td>20.855342</td>\n",
       "      <td>25</td>\n",
       "      <td>uniform</td>\n",
       "      <td>cosine</td>\n",
       "      <td>0.619872</td>\n",
       "      <td>0.005649</td>\n",
       "      <td>0.585163</td>\n",
       "      <td>0.006486</td>\n",
       "    </tr>\n",
       "    <tr>\n",
       "      <th>26</th>\n",
       "      <td>0.105760</td>\n",
       "      <td>20.959120</td>\n",
       "      <td>17</td>\n",
       "      <td>uniform</td>\n",
       "      <td>cosine</td>\n",
       "      <td>0.618978</td>\n",
       "      <td>0.003136</td>\n",
       "      <td>0.586265</td>\n",
       "      <td>0.003747</td>\n",
       "    </tr>\n",
       "    <tr>\n",
       "      <th>9</th>\n",
       "      <td>0.105146</td>\n",
       "      <td>2.695100</td>\n",
       "      <td>25</td>\n",
       "      <td>distance</td>\n",
       "      <td>euclidean</td>\n",
       "      <td>0.618729</td>\n",
       "      <td>0.003098</td>\n",
       "      <td>0.583449</td>\n",
       "      <td>0.003566</td>\n",
       "    </tr>\n",
       "    <tr>\n",
       "      <th>7</th>\n",
       "      <td>0.102649</td>\n",
       "      <td>2.838049</td>\n",
       "      <td>17</td>\n",
       "      <td>distance</td>\n",
       "      <td>euclidean</td>\n",
       "      <td>0.617575</td>\n",
       "      <td>0.004136</td>\n",
       "      <td>0.582020</td>\n",
       "      <td>0.005194</td>\n",
       "    </tr>\n",
       "    <tr>\n",
       "      <th>24</th>\n",
       "      <td>0.101369</td>\n",
       "      <td>20.879929</td>\n",
       "      <td>11</td>\n",
       "      <td>uniform</td>\n",
       "      <td>cosine</td>\n",
       "      <td>0.614261</td>\n",
       "      <td>0.002523</td>\n",
       "      <td>0.585469</td>\n",
       "      <td>0.002531</td>\n",
       "    </tr>\n",
       "    <tr>\n",
       "      <th>8</th>\n",
       "      <td>0.104989</td>\n",
       "      <td>3.357101</td>\n",
       "      <td>25</td>\n",
       "      <td>uniform</td>\n",
       "      <td>euclidean</td>\n",
       "      <td>0.613381</td>\n",
       "      <td>0.003159</td>\n",
       "      <td>0.581224</td>\n",
       "      <td>0.003953</td>\n",
       "    </tr>\n",
       "    <tr>\n",
       "      <th>5</th>\n",
       "      <td>0.106416</td>\n",
       "      <td>2.583573</td>\n",
       "      <td>11</td>\n",
       "      <td>distance</td>\n",
       "      <td>euclidean</td>\n",
       "      <td>0.611906</td>\n",
       "      <td>0.003500</td>\n",
       "      <td>0.578490</td>\n",
       "      <td>0.003775</td>\n",
       "    </tr>\n",
       "    <tr>\n",
       "      <th>6</th>\n",
       "      <td>0.103622</td>\n",
       "      <td>3.217816</td>\n",
       "      <td>17</td>\n",
       "      <td>uniform</td>\n",
       "      <td>euclidean</td>\n",
       "      <td>0.611698</td>\n",
       "      <td>0.003940</td>\n",
       "      <td>0.580653</td>\n",
       "      <td>0.004804</td>\n",
       "    </tr>\n",
       "    <tr>\n",
       "      <th>23</th>\n",
       "      <td>0.105467</td>\n",
       "      <td>20.420199</td>\n",
       "      <td>5</td>\n",
       "      <td>distance</td>\n",
       "      <td>cosine</td>\n",
       "      <td>0.608270</td>\n",
       "      <td>0.002627</td>\n",
       "      <td>0.575857</td>\n",
       "      <td>0.002232</td>\n",
       "    </tr>\n",
       "    <tr>\n",
       "      <th>4</th>\n",
       "      <td>0.103062</td>\n",
       "      <td>3.326391</td>\n",
       "      <td>11</td>\n",
       "      <td>uniform</td>\n",
       "      <td>euclidean</td>\n",
       "      <td>0.605194</td>\n",
       "      <td>0.003266</td>\n",
       "      <td>0.577245</td>\n",
       "      <td>0.003313</td>\n",
       "    </tr>\n",
       "    <tr>\n",
       "      <th>3</th>\n",
       "      <td>0.108471</td>\n",
       "      <td>2.699116</td>\n",
       "      <td>5</td>\n",
       "      <td>distance</td>\n",
       "      <td>euclidean</td>\n",
       "      <td>0.602449</td>\n",
       "      <td>0.004253</td>\n",
       "      <td>0.570408</td>\n",
       "      <td>0.005813</td>\n",
       "    </tr>\n",
       "    <tr>\n",
       "      <th>22</th>\n",
       "      <td>0.103626</td>\n",
       "      <td>20.969499</td>\n",
       "      <td>5</td>\n",
       "      <td>uniform</td>\n",
       "      <td>cosine</td>\n",
       "      <td>0.599909</td>\n",
       "      <td>0.002900</td>\n",
       "      <td>0.574408</td>\n",
       "      <td>0.002488</td>\n",
       "    </tr>\n",
       "    <tr>\n",
       "      <th>21</th>\n",
       "      <td>0.107895</td>\n",
       "      <td>20.432643</td>\n",
       "      <td>3</td>\n",
       "      <td>distance</td>\n",
       "      <td>cosine</td>\n",
       "      <td>0.599300</td>\n",
       "      <td>0.004933</td>\n",
       "      <td>0.572694</td>\n",
       "      <td>0.004536</td>\n",
       "    </tr>\n",
       "    <tr>\n",
       "      <th>1</th>\n",
       "      <td>0.105484</td>\n",
       "      <td>2.612148</td>\n",
       "      <td>3</td>\n",
       "      <td>distance</td>\n",
       "      <td>euclidean</td>\n",
       "      <td>0.595107</td>\n",
       "      <td>0.005461</td>\n",
       "      <td>0.569490</td>\n",
       "      <td>0.005387</td>\n",
       "    </tr>\n",
       "    <tr>\n",
       "      <th>2</th>\n",
       "      <td>0.103223</td>\n",
       "      <td>3.277162</td>\n",
       "      <td>5</td>\n",
       "      <td>uniform</td>\n",
       "      <td>euclidean</td>\n",
       "      <td>0.594535</td>\n",
       "      <td>0.004054</td>\n",
       "      <td>0.569571</td>\n",
       "      <td>0.005749</td>\n",
       "    </tr>\n",
       "    <tr>\n",
       "      <th>20</th>\n",
       "      <td>0.101139</td>\n",
       "      <td>20.467950</td>\n",
       "      <td>3</td>\n",
       "      <td>uniform</td>\n",
       "      <td>cosine</td>\n",
       "      <td>0.592157</td>\n",
       "      <td>0.004377</td>\n",
       "      <td>0.572163</td>\n",
       "      <td>0.004587</td>\n",
       "    </tr>\n",
       "    <tr>\n",
       "      <th>0</th>\n",
       "      <td>0.109536</td>\n",
       "      <td>3.317839</td>\n",
       "      <td>3</td>\n",
       "      <td>uniform</td>\n",
       "      <td>euclidean</td>\n",
       "      <td>0.588305</td>\n",
       "      <td>0.005785</td>\n",
       "      <td>0.569367</td>\n",
       "      <td>0.005363</td>\n",
       "    </tr>\n",
       "  </tbody>\n",
       "</table>\n",
       "</div>"
      ],
      "text/plain": [
       "    mean_fit_time  mean_score_time param_knn__n_neighbors param_knn__weights  \\\n",
       "33       0.103448        59.531614                      5           distance   \n",
       "35       0.092479        58.609921                     11           distance   \n",
       "32       0.100310        61.449849                      5            uniform   \n",
       "31       0.099915        61.494314                      3           distance   \n",
       "34       0.099173        59.648449                     11            uniform   \n",
       "37       0.093179        57.279992                     17           distance   \n",
       "30       0.102823        62.565615                      3            uniform   \n",
       "39       0.095498        57.568579                     25           distance   \n",
       "36       0.100749        59.436707                     17            uniform   \n",
       "38       0.091053        57.730767                     25            uniform   \n",
       "17       0.110291        16.839380                     17           distance   \n",
       "15       0.109226        16.958442                     11           distance   \n",
       "19       0.113103        14.763548                     25           distance   \n",
       "13       0.120740        16.226314                      5           distance   \n",
       "11       0.105203        15.562912                      3           distance   \n",
       "16       0.105585        16.057032                     17            uniform   \n",
       "14       0.106602        16.656651                     11            uniform   \n",
       "18       0.103067        16.135460                     25            uniform   \n",
       "12       0.106129        15.359191                      5            uniform   \n",
       "10       0.109716        15.224543                      3            uniform   \n",
       "29       0.102102        20.721217                     25           distance   \n",
       "27       0.099775        20.425901                     17           distance   \n",
       "25       0.101798        20.369579                     11           distance   \n",
       "28       0.101482        20.855342                     25            uniform   \n",
       "26       0.105760        20.959120                     17            uniform   \n",
       "9        0.105146         2.695100                     25           distance   \n",
       "7        0.102649         2.838049                     17           distance   \n",
       "24       0.101369        20.879929                     11            uniform   \n",
       "8        0.104989         3.357101                     25            uniform   \n",
       "5        0.106416         2.583573                     11           distance   \n",
       "6        0.103622         3.217816                     17            uniform   \n",
       "23       0.105467        20.420199                      5           distance   \n",
       "4        0.103062         3.326391                     11            uniform   \n",
       "3        0.108471         2.699116                      5           distance   \n",
       "22       0.103626        20.969499                      5            uniform   \n",
       "21       0.107895        20.432643                      3           distance   \n",
       "1        0.105484         2.612148                      3           distance   \n",
       "2        0.103223         3.277162                      5            uniform   \n",
       "20       0.101139        20.467950                      3            uniform   \n",
       "0        0.109536         3.317839                      3            uniform   \n",
       "\n",
       "   param_knn__metric  mean_test_roc_auc  std_test_roc_auc  mean_test_accuracy  \\\n",
       "33           hamming           0.787175          0.001874            0.713061   \n",
       "35           hamming           0.780051          0.003782            0.701490   \n",
       "32           hamming           0.774718          0.002594            0.712857   \n",
       "31           hamming           0.761196          0.001676            0.704714   \n",
       "34           hamming           0.760177          0.004339            0.695612   \n",
       "37           hamming           0.758358          0.002854            0.685959   \n",
       "30           hamming           0.753656          0.000606            0.704612   \n",
       "39           hamming           0.737787          0.003817            0.671449   \n",
       "36           hamming           0.734398          0.003505            0.675245   \n",
       "38           hamming           0.711745          0.004595            0.655082   \n",
       "17         manhattan           0.654941          0.006220            0.609714   \n",
       "15         manhattan           0.654127          0.004303            0.608000   \n",
       "19         manhattan           0.652468          0.004026            0.607531   \n",
       "13         manhattan           0.651603          0.005276            0.606735   \n",
       "11         manhattan           0.642367          0.005360            0.603531   \n",
       "16         manhattan           0.642223          0.006264            0.603490   \n",
       "14         manhattan           0.640581          0.004360            0.604245   \n",
       "18         manhattan           0.640216          0.003782            0.600714   \n",
       "12         manhattan           0.637467          0.005313            0.605000   \n",
       "10         manhattan           0.629709          0.004842            0.603388   \n",
       "29            cosine           0.629168          0.005447            0.591490   \n",
       "27            cosine           0.627572          0.003264            0.590980   \n",
       "25            cosine           0.622552          0.002560            0.587224   \n",
       "28            cosine           0.619872          0.005649            0.585163   \n",
       "26            cosine           0.618978          0.003136            0.586265   \n",
       "9          euclidean           0.618729          0.003098            0.583449   \n",
       "7          euclidean           0.617575          0.004136            0.582020   \n",
       "24            cosine           0.614261          0.002523            0.585469   \n",
       "8          euclidean           0.613381          0.003159            0.581224   \n",
       "5          euclidean           0.611906          0.003500            0.578490   \n",
       "6          euclidean           0.611698          0.003940            0.580653   \n",
       "23            cosine           0.608270          0.002627            0.575857   \n",
       "4          euclidean           0.605194          0.003266            0.577245   \n",
       "3          euclidean           0.602449          0.004253            0.570408   \n",
       "22            cosine           0.599909          0.002900            0.574408   \n",
       "21            cosine           0.599300          0.004933            0.572694   \n",
       "1          euclidean           0.595107          0.005461            0.569490   \n",
       "2          euclidean           0.594535          0.004054            0.569571   \n",
       "20            cosine           0.592157          0.004377            0.572163   \n",
       "0          euclidean           0.588305          0.005785            0.569367   \n",
       "\n",
       "    std_test_accuracy  \n",
       "33           0.002575  \n",
       "35           0.002799  \n",
       "32           0.002765  \n",
       "31           0.001561  \n",
       "34           0.003251  \n",
       "37           0.002308  \n",
       "30           0.001517  \n",
       "39           0.003267  \n",
       "36           0.002394  \n",
       "38           0.004333  \n",
       "17           0.006790  \n",
       "15           0.003266  \n",
       "19           0.003737  \n",
       "13           0.005186  \n",
       "11           0.003663  \n",
       "16           0.006212  \n",
       "14           0.003115  \n",
       "18           0.004089  \n",
       "12           0.005088  \n",
       "10           0.003332  \n",
       "29           0.006534  \n",
       "27           0.005056  \n",
       "25           0.003022  \n",
       "28           0.006486  \n",
       "26           0.003747  \n",
       "9            0.003566  \n",
       "7            0.005194  \n",
       "24           0.002531  \n",
       "8            0.003953  \n",
       "5            0.003775  \n",
       "6            0.004804  \n",
       "23           0.002232  \n",
       "4            0.003313  \n",
       "3            0.005813  \n",
       "22           0.002488  \n",
       "21           0.004536  \n",
       "1            0.005387  \n",
       "2            0.005749  \n",
       "20           0.004587  \n",
       "0            0.005363  "
      ]
     },
     "execution_count": 57,
     "metadata": {},
     "output_type": "execute_result"
    }
   ],
   "source": [
    "knn_grid_df = pd.DataFrame(knn_grid.cv_results_)\n",
    "knn_grid_df.sort_values(['mean_test_roc_auc', 'mean_test_accuracy'], ascending=False)[['mean_fit_time', 'mean_score_time', 'param_knn__n_neighbors', 'param_knn__weights', 'param_knn__metric', 'mean_test_roc_auc', 'std_test_roc_auc', 'mean_test_accuracy', 'std_test_accuracy']]"
   ]
  },
  {
   "cell_type": "code",
   "execution_count": 58,
   "metadata": {},
   "outputs": [
    {
     "data": {
      "text/plain": [
       "(0.7328574241473814, 0.7328571428571429)"
      ]
     },
     "execution_count": 58,
     "metadata": {},
     "output_type": "execute_result"
    }
   ],
   "source": [
    "y_test_knn = knn_grid.predict(X_test)\n",
    "(roc_auc_score(y_test, y_test_knn), accuracy_score(y_test, y_test_knn))"
   ]
  },
  {
   "cell_type": "markdown",
   "metadata": {},
   "source": [
    "### Risk minimization\n",
    "\n",
    "Modelo de SVC com Kernel não linear"
   ]
  },
  {
   "cell_type": "code",
   "execution_count": 24,
   "metadata": {},
   "outputs": [
    {
     "name": "stdout",
     "output_type": "stream",
     "text": [
      "Fitting 5 folds for each of 64 candidates, totalling 320 fits\n"
     ]
    },
    {
     "name": "stderr",
     "output_type": "stream",
     "text": [
      "/home/pochete/studies/2023s2/mo810/mo810-kidney-waitlist/venv/lib/python3.11/site-packages/sklearn/svm/_base.py:297: ConvergenceWarning: Solver terminated early (max_iter=10000).  Consider pre-processing your data with StandardScaler or MinMaxScaler.\n",
      "  warnings.warn(\n"
     ]
    },
    {
     "name": "stdout",
     "output_type": "stream",
     "text": [
      "[CV 1/5] END svc__C=1, svc__coef0=0, svc__degree=3, svc__gamma=scale, svc__kernel=poly; accuracy: (test=0.506) roc_auc: (test=0.552) total time= 1.9min\n"
     ]
    },
    {
     "name": "stderr",
     "output_type": "stream",
     "text": [
      "/home/pochete/studies/2023s2/mo810/mo810-kidney-waitlist/venv/lib/python3.11/site-packages/sklearn/svm/_base.py:297: ConvergenceWarning: Solver terminated early (max_iter=10000).  Consider pre-processing your data with StandardScaler or MinMaxScaler.\n",
      "  warnings.warn(\n"
     ]
    },
    {
     "name": "stdout",
     "output_type": "stream",
     "text": [
      "[CV 2/5] END svc__C=1, svc__coef0=0, svc__degree=3, svc__gamma=scale, svc__kernel=poly; accuracy: (test=0.506) roc_auc: (test=0.564) total time= 1.9min\n"
     ]
    },
    {
     "name": "stderr",
     "output_type": "stream",
     "text": [
      "/home/pochete/studies/2023s2/mo810/mo810-kidney-waitlist/venv/lib/python3.11/site-packages/sklearn/svm/_base.py:297: ConvergenceWarning: Solver terminated early (max_iter=10000).  Consider pre-processing your data with StandardScaler or MinMaxScaler.\n",
      "  warnings.warn(\n"
     ]
    },
    {
     "name": "stdout",
     "output_type": "stream",
     "text": [
      "[CV 3/5] END svc__C=1, svc__coef0=0, svc__degree=3, svc__gamma=scale, svc__kernel=poly; accuracy: (test=0.507) roc_auc: (test=0.561) total time= 1.8min\n"
     ]
    },
    {
     "name": "stderr",
     "output_type": "stream",
     "text": [
      "/home/pochete/studies/2023s2/mo810/mo810-kidney-waitlist/venv/lib/python3.11/site-packages/sklearn/svm/_base.py:297: ConvergenceWarning: Solver terminated early (max_iter=10000).  Consider pre-processing your data with StandardScaler or MinMaxScaler.\n",
      "  warnings.warn(\n"
     ]
    },
    {
     "name": "stdout",
     "output_type": "stream",
     "text": [
      "[CV 4/5] END svc__C=1, svc__coef0=0, svc__degree=3, svc__gamma=scale, svc__kernel=poly; accuracy: (test=0.511) roc_auc: (test=0.568) total time= 1.9min\n"
     ]
    },
    {
     "name": "stderr",
     "output_type": "stream",
     "text": [
      "/home/pochete/studies/2023s2/mo810/mo810-kidney-waitlist/venv/lib/python3.11/site-packages/sklearn/svm/_base.py:297: ConvergenceWarning: Solver terminated early (max_iter=10000).  Consider pre-processing your data with StandardScaler or MinMaxScaler.\n",
      "  warnings.warn(\n"
     ]
    },
    {
     "name": "stdout",
     "output_type": "stream",
     "text": [
      "[CV 5/5] END svc__C=1, svc__coef0=0, svc__degree=3, svc__gamma=scale, svc__kernel=poly; accuracy: (test=0.513) roc_auc: (test=0.556) total time= 1.8min\n"
     ]
    },
    {
     "name": "stderr",
     "output_type": "stream",
     "text": [
      "/home/pochete/studies/2023s2/mo810/mo810-kidney-waitlist/venv/lib/python3.11/site-packages/sklearn/svm/_base.py:297: ConvergenceWarning: Solver terminated early (max_iter=10000).  Consider pre-processing your data with StandardScaler or MinMaxScaler.\n",
      "  warnings.warn(\n"
     ]
    },
    {
     "name": "stdout",
     "output_type": "stream",
     "text": [
      "[CV 1/5] END svc__C=1, svc__coef0=0, svc__degree=3, svc__gamma=0.1, svc__kernel=poly; accuracy: (test=0.528) roc_auc: (test=0.535) total time= 1.1min\n"
     ]
    },
    {
     "name": "stderr",
     "output_type": "stream",
     "text": [
      "/home/pochete/studies/2023s2/mo810/mo810-kidney-waitlist/venv/lib/python3.11/site-packages/sklearn/svm/_base.py:297: ConvergenceWarning: Solver terminated early (max_iter=10000).  Consider pre-processing your data with StandardScaler or MinMaxScaler.\n",
      "  warnings.warn(\n"
     ]
    },
    {
     "name": "stdout",
     "output_type": "stream",
     "text": [
      "[CV 2/5] END svc__C=1, svc__coef0=0, svc__degree=3, svc__gamma=0.1, svc__kernel=poly; accuracy: (test=0.523) roc_auc: (test=0.536) total time= 1.1min\n"
     ]
    },
    {
     "name": "stderr",
     "output_type": "stream",
     "text": [
      "/home/pochete/studies/2023s2/mo810/mo810-kidney-waitlist/venv/lib/python3.11/site-packages/sklearn/svm/_base.py:297: ConvergenceWarning: Solver terminated early (max_iter=10000).  Consider pre-processing your data with StandardScaler or MinMaxScaler.\n",
      "  warnings.warn(\n"
     ]
    },
    {
     "name": "stdout",
     "output_type": "stream",
     "text": [
      "[CV 3/5] END svc__C=1, svc__coef0=0, svc__degree=3, svc__gamma=0.1, svc__kernel=poly; accuracy: (test=0.511) roc_auc: (test=0.525) total time= 1.1min\n"
     ]
    },
    {
     "name": "stderr",
     "output_type": "stream",
     "text": [
      "/home/pochete/studies/2023s2/mo810/mo810-kidney-waitlist/venv/lib/python3.11/site-packages/sklearn/svm/_base.py:297: ConvergenceWarning: Solver terminated early (max_iter=10000).  Consider pre-processing your data with StandardScaler or MinMaxScaler.\n",
      "  warnings.warn(\n"
     ]
    },
    {
     "name": "stdout",
     "output_type": "stream",
     "text": [
      "[CV 4/5] END svc__C=1, svc__coef0=0, svc__degree=3, svc__gamma=0.1, svc__kernel=poly; accuracy: (test=0.523) roc_auc: (test=0.534) total time= 1.1min\n"
     ]
    },
    {
     "name": "stderr",
     "output_type": "stream",
     "text": [
      "/home/pochete/studies/2023s2/mo810/mo810-kidney-waitlist/venv/lib/python3.11/site-packages/sklearn/svm/_base.py:297: ConvergenceWarning: Solver terminated early (max_iter=10000).  Consider pre-processing your data with StandardScaler or MinMaxScaler.\n",
      "  warnings.warn(\n"
     ]
    },
    {
     "name": "stdout",
     "output_type": "stream",
     "text": [
      "[CV 5/5] END svc__C=1, svc__coef0=0, svc__degree=3, svc__gamma=0.1, svc__kernel=poly; accuracy: (test=0.521) roc_auc: (test=0.529) total time= 1.1min\n"
     ]
    },
    {
     "name": "stderr",
     "output_type": "stream",
     "text": [
      "/home/pochete/studies/2023s2/mo810/mo810-kidney-waitlist/venv/lib/python3.11/site-packages/sklearn/svm/_base.py:297: ConvergenceWarning: Solver terminated early (max_iter=10000).  Consider pre-processing your data with StandardScaler or MinMaxScaler.\n",
      "  warnings.warn(\n"
     ]
    },
    {
     "name": "stdout",
     "output_type": "stream",
     "text": [
      "[CV 1/5] END svc__C=1, svc__coef0=0, svc__degree=3, svc__gamma=1, svc__kernel=poly; accuracy: (test=0.518) roc_auc: (test=0.531) total time= 1.1min\n"
     ]
    },
    {
     "name": "stderr",
     "output_type": "stream",
     "text": [
      "/home/pochete/studies/2023s2/mo810/mo810-kidney-waitlist/venv/lib/python3.11/site-packages/sklearn/svm/_base.py:297: ConvergenceWarning: Solver terminated early (max_iter=10000).  Consider pre-processing your data with StandardScaler or MinMaxScaler.\n",
      "  warnings.warn(\n"
     ]
    },
    {
     "name": "stdout",
     "output_type": "stream",
     "text": [
      "[CV 2/5] END svc__C=1, svc__coef0=0, svc__degree=3, svc__gamma=1, svc__kernel=poly; accuracy: (test=0.520) roc_auc: (test=0.533) total time= 1.0min\n"
     ]
    },
    {
     "name": "stderr",
     "output_type": "stream",
     "text": [
      "/home/pochete/studies/2023s2/mo810/mo810-kidney-waitlist/venv/lib/python3.11/site-packages/sklearn/svm/_base.py:297: ConvergenceWarning: Solver terminated early (max_iter=10000).  Consider pre-processing your data with StandardScaler or MinMaxScaler.\n",
      "  warnings.warn(\n"
     ]
    },
    {
     "name": "stdout",
     "output_type": "stream",
     "text": [
      "[CV 3/5] END svc__C=1, svc__coef0=0, svc__degree=3, svc__gamma=1, svc__kernel=poly; accuracy: (test=0.521) roc_auc: (test=0.528) total time= 1.0min\n"
     ]
    },
    {
     "name": "stderr",
     "output_type": "stream",
     "text": [
      "/home/pochete/studies/2023s2/mo810/mo810-kidney-waitlist/venv/lib/python3.11/site-packages/sklearn/svm/_base.py:297: ConvergenceWarning: Solver terminated early (max_iter=10000).  Consider pre-processing your data with StandardScaler or MinMaxScaler.\n",
      "  warnings.warn(\n"
     ]
    },
    {
     "name": "stdout",
     "output_type": "stream",
     "text": [
      "[CV 4/5] END svc__C=1, svc__coef0=0, svc__degree=3, svc__gamma=1, svc__kernel=poly; accuracy: (test=0.520) roc_auc: (test=0.526) total time= 1.0min\n"
     ]
    },
    {
     "name": "stderr",
     "output_type": "stream",
     "text": [
      "/home/pochete/studies/2023s2/mo810/mo810-kidney-waitlist/venv/lib/python3.11/site-packages/sklearn/svm/_base.py:297: ConvergenceWarning: Solver terminated early (max_iter=10000).  Consider pre-processing your data with StandardScaler or MinMaxScaler.\n",
      "  warnings.warn(\n"
     ]
    },
    {
     "name": "stdout",
     "output_type": "stream",
     "text": [
      "[CV 5/5] END svc__C=1, svc__coef0=0, svc__degree=3, svc__gamma=1, svc__kernel=poly; accuracy: (test=0.522) roc_auc: (test=0.530) total time= 1.0min\n"
     ]
    },
    {
     "name": "stderr",
     "output_type": "stream",
     "text": [
      "/home/pochete/studies/2023s2/mo810/mo810-kidney-waitlist/venv/lib/python3.11/site-packages/sklearn/svm/_base.py:297: ConvergenceWarning: Solver terminated early (max_iter=10000).  Consider pre-processing your data with StandardScaler or MinMaxScaler.\n",
      "  warnings.warn(\n"
     ]
    },
    {
     "name": "stdout",
     "output_type": "stream",
     "text": [
      "[CV 1/5] END svc__C=1, svc__coef0=0, svc__degree=3, svc__gamma=2, svc__kernel=poly; accuracy: (test=0.518) roc_auc: (test=0.531) total time= 1.1min\n"
     ]
    },
    {
     "name": "stderr",
     "output_type": "stream",
     "text": [
      "/home/pochete/studies/2023s2/mo810/mo810-kidney-waitlist/venv/lib/python3.11/site-packages/sklearn/svm/_base.py:297: ConvergenceWarning: Solver terminated early (max_iter=10000).  Consider pre-processing your data with StandardScaler or MinMaxScaler.\n",
      "  warnings.warn(\n"
     ]
    },
    {
     "name": "stdout",
     "output_type": "stream",
     "text": [
      "[CV 2/5] END svc__C=1, svc__coef0=0, svc__degree=3, svc__gamma=2, svc__kernel=poly; accuracy: (test=0.520) roc_auc: (test=0.533) total time= 1.1min\n"
     ]
    },
    {
     "name": "stderr",
     "output_type": "stream",
     "text": [
      "/home/pochete/studies/2023s2/mo810/mo810-kidney-waitlist/venv/lib/python3.11/site-packages/sklearn/svm/_base.py:297: ConvergenceWarning: Solver terminated early (max_iter=10000).  Consider pre-processing your data with StandardScaler or MinMaxScaler.\n",
      "  warnings.warn(\n"
     ]
    },
    {
     "name": "stdout",
     "output_type": "stream",
     "text": [
      "[CV 3/5] END svc__C=1, svc__coef0=0, svc__degree=3, svc__gamma=2, svc__kernel=poly; accuracy: (test=0.521) roc_auc: (test=0.528) total time= 1.1min\n"
     ]
    },
    {
     "name": "stderr",
     "output_type": "stream",
     "text": [
      "/home/pochete/studies/2023s2/mo810/mo810-kidney-waitlist/venv/lib/python3.11/site-packages/sklearn/svm/_base.py:297: ConvergenceWarning: Solver terminated early (max_iter=10000).  Consider pre-processing your data with StandardScaler or MinMaxScaler.\n",
      "  warnings.warn(\n"
     ]
    },
    {
     "name": "stdout",
     "output_type": "stream",
     "text": [
      "[CV 4/5] END svc__C=1, svc__coef0=0, svc__degree=3, svc__gamma=2, svc__kernel=poly; accuracy: (test=0.520) roc_auc: (test=0.526) total time= 1.1min\n"
     ]
    },
    {
     "name": "stderr",
     "output_type": "stream",
     "text": [
      "/home/pochete/studies/2023s2/mo810/mo810-kidney-waitlist/venv/lib/python3.11/site-packages/sklearn/svm/_base.py:297: ConvergenceWarning: Solver terminated early (max_iter=10000).  Consider pre-processing your data with StandardScaler or MinMaxScaler.\n",
      "  warnings.warn(\n"
     ]
    },
    {
     "name": "stdout",
     "output_type": "stream",
     "text": [
      "[CV 5/5] END svc__C=1, svc__coef0=0, svc__degree=3, svc__gamma=2, svc__kernel=poly; accuracy: (test=0.522) roc_auc: (test=0.530) total time= 1.0min\n"
     ]
    },
    {
     "name": "stderr",
     "output_type": "stream",
     "text": [
      "/home/pochete/studies/2023s2/mo810/mo810-kidney-waitlist/venv/lib/python3.11/site-packages/sklearn/svm/_base.py:297: ConvergenceWarning: Solver terminated early (max_iter=10000).  Consider pre-processing your data with StandardScaler or MinMaxScaler.\n",
      "  warnings.warn(\n"
     ]
    },
    {
     "name": "stdout",
     "output_type": "stream",
     "text": [
      "[CV 1/5] END svc__C=1, svc__coef0=0, svc__degree=5, svc__gamma=scale, svc__kernel=poly; accuracy: (test=0.500) roc_auc: (test=0.542) total time= 1.9min\n"
     ]
    },
    {
     "name": "stderr",
     "output_type": "stream",
     "text": [
      "/home/pochete/studies/2023s2/mo810/mo810-kidney-waitlist/venv/lib/python3.11/site-packages/sklearn/svm/_base.py:297: ConvergenceWarning: Solver terminated early (max_iter=10000).  Consider pre-processing your data with StandardScaler or MinMaxScaler.\n",
      "  warnings.warn(\n"
     ]
    },
    {
     "name": "stdout",
     "output_type": "stream",
     "text": [
      "[CV 2/5] END svc__C=1, svc__coef0=0, svc__degree=5, svc__gamma=scale, svc__kernel=poly; accuracy: (test=0.502) roc_auc: (test=0.548) total time= 1.9min\n"
     ]
    },
    {
     "name": "stderr",
     "output_type": "stream",
     "text": [
      "/home/pochete/studies/2023s2/mo810/mo810-kidney-waitlist/venv/lib/python3.11/site-packages/sklearn/svm/_base.py:297: ConvergenceWarning: Solver terminated early (max_iter=10000).  Consider pre-processing your data with StandardScaler or MinMaxScaler.\n",
      "  warnings.warn(\n"
     ]
    },
    {
     "name": "stdout",
     "output_type": "stream",
     "text": [
      "[CV 3/5] END svc__C=1, svc__coef0=0, svc__degree=5, svc__gamma=scale, svc__kernel=poly; accuracy: (test=0.499) roc_auc: (test=0.544) total time= 1.9min\n"
     ]
    },
    {
     "name": "stderr",
     "output_type": "stream",
     "text": [
      "/home/pochete/studies/2023s2/mo810/mo810-kidney-waitlist/venv/lib/python3.11/site-packages/sklearn/svm/_base.py:297: ConvergenceWarning: Solver terminated early (max_iter=10000).  Consider pre-processing your data with StandardScaler or MinMaxScaler.\n",
      "  warnings.warn(\n"
     ]
    },
    {
     "name": "stdout",
     "output_type": "stream",
     "text": [
      "[CV 4/5] END svc__C=1, svc__coef0=0, svc__degree=5, svc__gamma=scale, svc__kernel=poly; accuracy: (test=0.505) roc_auc: (test=0.555) total time= 1.9min\n"
     ]
    },
    {
     "name": "stderr",
     "output_type": "stream",
     "text": [
      "/home/pochete/studies/2023s2/mo810/mo810-kidney-waitlist/venv/lib/python3.11/site-packages/sklearn/svm/_base.py:297: ConvergenceWarning: Solver terminated early (max_iter=10000).  Consider pre-processing your data with StandardScaler or MinMaxScaler.\n",
      "  warnings.warn(\n"
     ]
    },
    {
     "name": "stdout",
     "output_type": "stream",
     "text": [
      "[CV 5/5] END svc__C=1, svc__coef0=0, svc__degree=5, svc__gamma=scale, svc__kernel=poly; accuracy: (test=0.504) roc_auc: (test=0.543) total time= 1.9min\n"
     ]
    },
    {
     "name": "stderr",
     "output_type": "stream",
     "text": [
      "/home/pochete/studies/2023s2/mo810/mo810-kidney-waitlist/venv/lib/python3.11/site-packages/sklearn/svm/_base.py:297: ConvergenceWarning: Solver terminated early (max_iter=10000).  Consider pre-processing your data with StandardScaler or MinMaxScaler.\n",
      "  warnings.warn(\n"
     ]
    },
    {
     "name": "stdout",
     "output_type": "stream",
     "text": [
      "[CV 1/5] END svc__C=1, svc__coef0=0, svc__degree=5, svc__gamma=0.1, svc__kernel=poly; accuracy: (test=0.535) roc_auc: (test=0.549) total time= 1.4min\n"
     ]
    },
    {
     "name": "stderr",
     "output_type": "stream",
     "text": [
      "/home/pochete/studies/2023s2/mo810/mo810-kidney-waitlist/venv/lib/python3.11/site-packages/sklearn/svm/_base.py:297: ConvergenceWarning: Solver terminated early (max_iter=10000).  Consider pre-processing your data with StandardScaler or MinMaxScaler.\n",
      "  warnings.warn(\n"
     ]
    },
    {
     "name": "stdout",
     "output_type": "stream",
     "text": [
      "[CV 2/5] END svc__C=1, svc__coef0=0, svc__degree=5, svc__gamma=0.1, svc__kernel=poly; accuracy: (test=0.540) roc_auc: (test=0.556) total time= 1.4min\n"
     ]
    },
    {
     "name": "stderr",
     "output_type": "stream",
     "text": [
      "/home/pochete/studies/2023s2/mo810/mo810-kidney-waitlist/venv/lib/python3.11/site-packages/sklearn/svm/_base.py:297: ConvergenceWarning: Solver terminated early (max_iter=10000).  Consider pre-processing your data with StandardScaler or MinMaxScaler.\n",
      "  warnings.warn(\n"
     ]
    },
    {
     "name": "stdout",
     "output_type": "stream",
     "text": [
      "[CV 3/5] END svc__C=1, svc__coef0=0, svc__degree=5, svc__gamma=0.1, svc__kernel=poly; accuracy: (test=0.531) roc_auc: (test=0.546) total time= 1.4min\n"
     ]
    },
    {
     "name": "stderr",
     "output_type": "stream",
     "text": [
      "/home/pochete/studies/2023s2/mo810/mo810-kidney-waitlist/venv/lib/python3.11/site-packages/sklearn/svm/_base.py:297: ConvergenceWarning: Solver terminated early (max_iter=10000).  Consider pre-processing your data with StandardScaler or MinMaxScaler.\n",
      "  warnings.warn(\n"
     ]
    },
    {
     "name": "stdout",
     "output_type": "stream",
     "text": [
      "[CV 4/5] END svc__C=1, svc__coef0=0, svc__degree=5, svc__gamma=0.1, svc__kernel=poly; accuracy: (test=0.543) roc_auc: (test=0.560) total time= 1.4min\n"
     ]
    },
    {
     "name": "stderr",
     "output_type": "stream",
     "text": [
      "/home/pochete/studies/2023s2/mo810/mo810-kidney-waitlist/venv/lib/python3.11/site-packages/sklearn/svm/_base.py:297: ConvergenceWarning: Solver terminated early (max_iter=10000).  Consider pre-processing your data with StandardScaler or MinMaxScaler.\n",
      "  warnings.warn(\n"
     ]
    },
    {
     "name": "stdout",
     "output_type": "stream",
     "text": [
      "[CV 5/5] END svc__C=1, svc__coef0=0, svc__degree=5, svc__gamma=0.1, svc__kernel=poly; accuracy: (test=0.537) roc_auc: (test=0.551) total time= 1.4min\n"
     ]
    },
    {
     "name": "stderr",
     "output_type": "stream",
     "text": [
      "/home/pochete/studies/2023s2/mo810/mo810-kidney-waitlist/venv/lib/python3.11/site-packages/sklearn/svm/_base.py:297: ConvergenceWarning: Solver terminated early (max_iter=10000).  Consider pre-processing your data with StandardScaler or MinMaxScaler.\n",
      "  warnings.warn(\n"
     ]
    },
    {
     "name": "stdout",
     "output_type": "stream",
     "text": [
      "[CV 1/5] END svc__C=1, svc__coef0=0, svc__degree=5, svc__gamma=1, svc__kernel=poly; accuracy: (test=0.535) roc_auc: (test=0.550) total time= 1.4min\n"
     ]
    },
    {
     "name": "stderr",
     "output_type": "stream",
     "text": [
      "/home/pochete/studies/2023s2/mo810/mo810-kidney-waitlist/venv/lib/python3.11/site-packages/sklearn/svm/_base.py:297: ConvergenceWarning: Solver terminated early (max_iter=10000).  Consider pre-processing your data with StandardScaler or MinMaxScaler.\n",
      "  warnings.warn(\n"
     ]
    },
    {
     "name": "stdout",
     "output_type": "stream",
     "text": [
      "[CV 2/5] END svc__C=1, svc__coef0=0, svc__degree=5, svc__gamma=1, svc__kernel=poly; accuracy: (test=0.538) roc_auc: (test=0.552) total time= 1.4min\n"
     ]
    },
    {
     "name": "stderr",
     "output_type": "stream",
     "text": [
      "/home/pochete/studies/2023s2/mo810/mo810-kidney-waitlist/venv/lib/python3.11/site-packages/sklearn/svm/_base.py:297: ConvergenceWarning: Solver terminated early (max_iter=10000).  Consider pre-processing your data with StandardScaler or MinMaxScaler.\n",
      "  warnings.warn(\n"
     ]
    },
    {
     "name": "stdout",
     "output_type": "stream",
     "text": [
      "[CV 3/5] END svc__C=1, svc__coef0=0, svc__degree=5, svc__gamma=1, svc__kernel=poly; accuracy: (test=0.533) roc_auc: (test=0.546) total time= 1.4min\n"
     ]
    },
    {
     "name": "stderr",
     "output_type": "stream",
     "text": [
      "/home/pochete/studies/2023s2/mo810/mo810-kidney-waitlist/venv/lib/python3.11/site-packages/sklearn/svm/_base.py:297: ConvergenceWarning: Solver terminated early (max_iter=10000).  Consider pre-processing your data with StandardScaler or MinMaxScaler.\n",
      "  warnings.warn(\n"
     ]
    },
    {
     "name": "stdout",
     "output_type": "stream",
     "text": [
      "[CV 4/5] END svc__C=1, svc__coef0=0, svc__degree=5, svc__gamma=1, svc__kernel=poly; accuracy: (test=0.544) roc_auc: (test=0.561) total time= 1.4min\n"
     ]
    },
    {
     "name": "stderr",
     "output_type": "stream",
     "text": [
      "/home/pochete/studies/2023s2/mo810/mo810-kidney-waitlist/venv/lib/python3.11/site-packages/sklearn/svm/_base.py:297: ConvergenceWarning: Solver terminated early (max_iter=10000).  Consider pre-processing your data with StandardScaler or MinMaxScaler.\n",
      "  warnings.warn(\n"
     ]
    },
    {
     "name": "stdout",
     "output_type": "stream",
     "text": [
      "[CV 5/5] END svc__C=1, svc__coef0=0, svc__degree=5, svc__gamma=1, svc__kernel=poly; accuracy: (test=0.537) roc_auc: (test=0.551) total time= 1.4min\n"
     ]
    },
    {
     "name": "stderr",
     "output_type": "stream",
     "text": [
      "/home/pochete/studies/2023s2/mo810/mo810-kidney-waitlist/venv/lib/python3.11/site-packages/sklearn/svm/_base.py:297: ConvergenceWarning: Solver terminated early (max_iter=10000).  Consider pre-processing your data with StandardScaler or MinMaxScaler.\n",
      "  warnings.warn(\n"
     ]
    },
    {
     "name": "stdout",
     "output_type": "stream",
     "text": [
      "[CV 1/5] END svc__C=1, svc__coef0=0, svc__degree=5, svc__gamma=2, svc__kernel=poly; accuracy: (test=0.535) roc_auc: (test=0.550) total time= 1.5min\n"
     ]
    },
    {
     "name": "stderr",
     "output_type": "stream",
     "text": [
      "/home/pochete/studies/2023s2/mo810/mo810-kidney-waitlist/venv/lib/python3.11/site-packages/sklearn/svm/_base.py:297: ConvergenceWarning: Solver terminated early (max_iter=10000).  Consider pre-processing your data with StandardScaler or MinMaxScaler.\n",
      "  warnings.warn(\n"
     ]
    },
    {
     "name": "stdout",
     "output_type": "stream",
     "text": [
      "[CV 2/5] END svc__C=1, svc__coef0=0, svc__degree=5, svc__gamma=2, svc__kernel=poly; accuracy: (test=0.538) roc_auc: (test=0.552) total time= 1.5min\n"
     ]
    },
    {
     "name": "stderr",
     "output_type": "stream",
     "text": [
      "/home/pochete/studies/2023s2/mo810/mo810-kidney-waitlist/venv/lib/python3.11/site-packages/sklearn/svm/_base.py:297: ConvergenceWarning: Solver terminated early (max_iter=10000).  Consider pre-processing your data with StandardScaler or MinMaxScaler.\n",
      "  warnings.warn(\n"
     ]
    },
    {
     "name": "stdout",
     "output_type": "stream",
     "text": [
      "[CV 3/5] END svc__C=1, svc__coef0=0, svc__degree=5, svc__gamma=2, svc__kernel=poly; accuracy: (test=0.533) roc_auc: (test=0.546) total time= 1.5min\n"
     ]
    },
    {
     "name": "stderr",
     "output_type": "stream",
     "text": [
      "/home/pochete/studies/2023s2/mo810/mo810-kidney-waitlist/venv/lib/python3.11/site-packages/sklearn/svm/_base.py:297: ConvergenceWarning: Solver terminated early (max_iter=10000).  Consider pre-processing your data with StandardScaler or MinMaxScaler.\n",
      "  warnings.warn(\n"
     ]
    },
    {
     "name": "stdout",
     "output_type": "stream",
     "text": [
      "[CV 4/5] END svc__C=1, svc__coef0=0, svc__degree=5, svc__gamma=2, svc__kernel=poly; accuracy: (test=0.544) roc_auc: (test=0.561) total time= 1.5min\n"
     ]
    },
    {
     "name": "stderr",
     "output_type": "stream",
     "text": [
      "/home/pochete/studies/2023s2/mo810/mo810-kidney-waitlist/venv/lib/python3.11/site-packages/sklearn/svm/_base.py:297: ConvergenceWarning: Solver terminated early (max_iter=10000).  Consider pre-processing your data with StandardScaler or MinMaxScaler.\n",
      "  warnings.warn(\n"
     ]
    },
    {
     "name": "stdout",
     "output_type": "stream",
     "text": [
      "[CV 5/5] END svc__C=1, svc__coef0=0, svc__degree=5, svc__gamma=2, svc__kernel=poly; accuracy: (test=0.537) roc_auc: (test=0.551) total time= 1.5min\n"
     ]
    },
    {
     "name": "stderr",
     "output_type": "stream",
     "text": [
      "/home/pochete/studies/2023s2/mo810/mo810-kidney-waitlist/venv/lib/python3.11/site-packages/sklearn/svm/_base.py:297: ConvergenceWarning: Solver terminated early (max_iter=10000).  Consider pre-processing your data with StandardScaler or MinMaxScaler.\n",
      "  warnings.warn(\n"
     ]
    },
    {
     "name": "stdout",
     "output_type": "stream",
     "text": [
      "[CV 1/5] END svc__C=1, svc__coef0=-1, svc__degree=3, svc__gamma=scale, svc__kernel=poly; accuracy: (test=0.493) roc_auc: (test=0.490) total time= 2.2min\n"
     ]
    },
    {
     "name": "stderr",
     "output_type": "stream",
     "text": [
      "/home/pochete/studies/2023s2/mo810/mo810-kidney-waitlist/venv/lib/python3.11/site-packages/sklearn/svm/_base.py:297: ConvergenceWarning: Solver terminated early (max_iter=10000).  Consider pre-processing your data with StandardScaler or MinMaxScaler.\n",
      "  warnings.warn(\n"
     ]
    },
    {
     "name": "stdout",
     "output_type": "stream",
     "text": [
      "[CV 2/5] END svc__C=1, svc__coef0=-1, svc__degree=3, svc__gamma=scale, svc__kernel=poly; accuracy: (test=0.488) roc_auc: (test=0.486) total time= 2.2min\n"
     ]
    },
    {
     "name": "stderr",
     "output_type": "stream",
     "text": [
      "/home/pochete/studies/2023s2/mo810/mo810-kidney-waitlist/venv/lib/python3.11/site-packages/sklearn/svm/_base.py:297: ConvergenceWarning: Solver terminated early (max_iter=10000).  Consider pre-processing your data with StandardScaler or MinMaxScaler.\n",
      "  warnings.warn(\n"
     ]
    },
    {
     "name": "stdout",
     "output_type": "stream",
     "text": [
      "[CV 3/5] END svc__C=1, svc__coef0=-1, svc__degree=3, svc__gamma=scale, svc__kernel=poly; accuracy: (test=0.505) roc_auc: (test=0.507) total time= 2.2min\n"
     ]
    },
    {
     "name": "stderr",
     "output_type": "stream",
     "text": [
      "/home/pochete/studies/2023s2/mo810/mo810-kidney-waitlist/venv/lib/python3.11/site-packages/sklearn/svm/_base.py:297: ConvergenceWarning: Solver terminated early (max_iter=10000).  Consider pre-processing your data with StandardScaler or MinMaxScaler.\n",
      "  warnings.warn(\n"
     ]
    },
    {
     "name": "stdout",
     "output_type": "stream",
     "text": [
      "[CV 4/5] END svc__C=1, svc__coef0=-1, svc__degree=3, svc__gamma=scale, svc__kernel=poly; accuracy: (test=0.502) roc_auc: (test=0.491) total time= 2.2min\n"
     ]
    },
    {
     "name": "stderr",
     "output_type": "stream",
     "text": [
      "/home/pochete/studies/2023s2/mo810/mo810-kidney-waitlist/venv/lib/python3.11/site-packages/sklearn/svm/_base.py:297: ConvergenceWarning: Solver terminated early (max_iter=10000).  Consider pre-processing your data with StandardScaler or MinMaxScaler.\n",
      "  warnings.warn(\n"
     ]
    },
    {
     "name": "stdout",
     "output_type": "stream",
     "text": [
      "[CV 5/5] END svc__C=1, svc__coef0=-1, svc__degree=3, svc__gamma=scale, svc__kernel=poly; accuracy: (test=0.493) roc_auc: (test=0.486) total time= 2.2min\n"
     ]
    },
    {
     "name": "stderr",
     "output_type": "stream",
     "text": [
      "/home/pochete/studies/2023s2/mo810/mo810-kidney-waitlist/venv/lib/python3.11/site-packages/sklearn/svm/_base.py:297: ConvergenceWarning: Solver terminated early (max_iter=10000).  Consider pre-processing your data with StandardScaler or MinMaxScaler.\n",
      "  warnings.warn(\n"
     ]
    },
    {
     "name": "stdout",
     "output_type": "stream",
     "text": [
      "[CV 1/5] END svc__C=1, svc__coef0=-1, svc__degree=3, svc__gamma=0.1, svc__kernel=poly; accuracy: (test=0.516) roc_auc: (test=0.513) total time= 2.1min\n"
     ]
    },
    {
     "name": "stderr",
     "output_type": "stream",
     "text": [
      "/home/pochete/studies/2023s2/mo810/mo810-kidney-waitlist/venv/lib/python3.11/site-packages/sklearn/svm/_base.py:297: ConvergenceWarning: Solver terminated early (max_iter=10000).  Consider pre-processing your data with StandardScaler or MinMaxScaler.\n",
      "  warnings.warn(\n"
     ]
    },
    {
     "name": "stdout",
     "output_type": "stream",
     "text": [
      "[CV 2/5] END svc__C=1, svc__coef0=-1, svc__degree=3, svc__gamma=0.1, svc__kernel=poly; accuracy: (test=0.505) roc_auc: (test=0.501) total time= 2.0min\n"
     ]
    },
    {
     "name": "stderr",
     "output_type": "stream",
     "text": [
      "/home/pochete/studies/2023s2/mo810/mo810-kidney-waitlist/venv/lib/python3.11/site-packages/sklearn/svm/_base.py:297: ConvergenceWarning: Solver terminated early (max_iter=10000).  Consider pre-processing your data with StandardScaler or MinMaxScaler.\n",
      "  warnings.warn(\n"
     ]
    },
    {
     "name": "stdout",
     "output_type": "stream",
     "text": [
      "[CV 3/5] END svc__C=1, svc__coef0=-1, svc__degree=3, svc__gamma=0.1, svc__kernel=poly; accuracy: (test=0.506) roc_auc: (test=0.509) total time= 2.1min\n"
     ]
    },
    {
     "name": "stderr",
     "output_type": "stream",
     "text": [
      "/home/pochete/studies/2023s2/mo810/mo810-kidney-waitlist/venv/lib/python3.11/site-packages/sklearn/svm/_base.py:297: ConvergenceWarning: Solver terminated early (max_iter=10000).  Consider pre-processing your data with StandardScaler or MinMaxScaler.\n",
      "  warnings.warn(\n"
     ]
    },
    {
     "name": "stdout",
     "output_type": "stream",
     "text": [
      "[CV 4/5] END svc__C=1, svc__coef0=-1, svc__degree=3, svc__gamma=0.1, svc__kernel=poly; accuracy: (test=0.503) roc_auc: (test=0.501) total time= 2.1min\n"
     ]
    },
    {
     "name": "stderr",
     "output_type": "stream",
     "text": [
      "/home/pochete/studies/2023s2/mo810/mo810-kidney-waitlist/venv/lib/python3.11/site-packages/sklearn/svm/_base.py:297: ConvergenceWarning: Solver terminated early (max_iter=10000).  Consider pre-processing your data with StandardScaler or MinMaxScaler.\n",
      "  warnings.warn(\n"
     ]
    },
    {
     "name": "stdout",
     "output_type": "stream",
     "text": [
      "[CV 5/5] END svc__C=1, svc__coef0=-1, svc__degree=3, svc__gamma=0.1, svc__kernel=poly; accuracy: (test=0.503) roc_auc: (test=0.503) total time= 2.1min\n"
     ]
    },
    {
     "name": "stderr",
     "output_type": "stream",
     "text": [
      "/home/pochete/studies/2023s2/mo810/mo810-kidney-waitlist/venv/lib/python3.11/site-packages/sklearn/svm/_base.py:297: ConvergenceWarning: Solver terminated early (max_iter=10000).  Consider pre-processing your data with StandardScaler or MinMaxScaler.\n",
      "  warnings.warn(\n"
     ]
    },
    {
     "name": "stdout",
     "output_type": "stream",
     "text": [
      "[CV 1/5] END svc__C=1, svc__coef0=-1, svc__degree=3, svc__gamma=1, svc__kernel=poly; accuracy: (test=0.511) roc_auc: (test=0.519) total time=  31.7s\n"
     ]
    },
    {
     "name": "stderr",
     "output_type": "stream",
     "text": [
      "/home/pochete/studies/2023s2/mo810/mo810-kidney-waitlist/venv/lib/python3.11/site-packages/sklearn/svm/_base.py:297: ConvergenceWarning: Solver terminated early (max_iter=10000).  Consider pre-processing your data with StandardScaler or MinMaxScaler.\n",
      "  warnings.warn(\n"
     ]
    },
    {
     "name": "stdout",
     "output_type": "stream",
     "text": [
      "[CV 2/5] END svc__C=1, svc__coef0=-1, svc__degree=3, svc__gamma=1, svc__kernel=poly; accuracy: (test=0.506) roc_auc: (test=0.505) total time=  32.8s\n"
     ]
    },
    {
     "name": "stderr",
     "output_type": "stream",
     "text": [
      "/home/pochete/studies/2023s2/mo810/mo810-kidney-waitlist/venv/lib/python3.11/site-packages/sklearn/svm/_base.py:297: ConvergenceWarning: Solver terminated early (max_iter=10000).  Consider pre-processing your data with StandardScaler or MinMaxScaler.\n",
      "  warnings.warn(\n"
     ]
    },
    {
     "name": "stdout",
     "output_type": "stream",
     "text": [
      "[CV 3/5] END svc__C=1, svc__coef0=-1, svc__degree=3, svc__gamma=1, svc__kernel=poly; accuracy: (test=0.508) roc_auc: (test=0.513) total time=  33.1s\n"
     ]
    },
    {
     "name": "stderr",
     "output_type": "stream",
     "text": [
      "/home/pochete/studies/2023s2/mo810/mo810-kidney-waitlist/venv/lib/python3.11/site-packages/sklearn/svm/_base.py:297: ConvergenceWarning: Solver terminated early (max_iter=10000).  Consider pre-processing your data with StandardScaler or MinMaxScaler.\n",
      "  warnings.warn(\n"
     ]
    },
    {
     "name": "stdout",
     "output_type": "stream",
     "text": [
      "[CV 4/5] END svc__C=1, svc__coef0=-1, svc__degree=3, svc__gamma=1, svc__kernel=poly; accuracy: (test=0.517) roc_auc: (test=0.524) total time=  32.3s\n"
     ]
    },
    {
     "name": "stderr",
     "output_type": "stream",
     "text": [
      "/home/pochete/studies/2023s2/mo810/mo810-kidney-waitlist/venv/lib/python3.11/site-packages/sklearn/svm/_base.py:297: ConvergenceWarning: Solver terminated early (max_iter=10000).  Consider pre-processing your data with StandardScaler or MinMaxScaler.\n",
      "  warnings.warn(\n"
     ]
    },
    {
     "name": "stdout",
     "output_type": "stream",
     "text": [
      "[CV 5/5] END svc__C=1, svc__coef0=-1, svc__degree=3, svc__gamma=1, svc__kernel=poly; accuracy: (test=0.509) roc_auc: (test=0.518) total time=  34.2s\n"
     ]
    },
    {
     "name": "stderr",
     "output_type": "stream",
     "text": [
      "/home/pochete/studies/2023s2/mo810/mo810-kidney-waitlist/venv/lib/python3.11/site-packages/sklearn/svm/_base.py:297: ConvergenceWarning: Solver terminated early (max_iter=10000).  Consider pre-processing your data with StandardScaler or MinMaxScaler.\n",
      "  warnings.warn(\n"
     ]
    },
    {
     "name": "stdout",
     "output_type": "stream",
     "text": [
      "[CV 1/5] END svc__C=1, svc__coef0=-1, svc__degree=3, svc__gamma=2, svc__kernel=poly; accuracy: (test=0.522) roc_auc: (test=0.533) total time= 1.0min\n"
     ]
    },
    {
     "name": "stderr",
     "output_type": "stream",
     "text": [
      "/home/pochete/studies/2023s2/mo810/mo810-kidney-waitlist/venv/lib/python3.11/site-packages/sklearn/svm/_base.py:297: ConvergenceWarning: Solver terminated early (max_iter=10000).  Consider pre-processing your data with StandardScaler or MinMaxScaler.\n",
      "  warnings.warn(\n"
     ]
    },
    {
     "name": "stdout",
     "output_type": "stream",
     "text": [
      "[CV 2/5] END svc__C=1, svc__coef0=-1, svc__degree=3, svc__gamma=2, svc__kernel=poly; accuracy: (test=0.524) roc_auc: (test=0.537) total time= 1.0min\n"
     ]
    },
    {
     "name": "stderr",
     "output_type": "stream",
     "text": [
      "/home/pochete/studies/2023s2/mo810/mo810-kidney-waitlist/venv/lib/python3.11/site-packages/sklearn/svm/_base.py:297: ConvergenceWarning: Solver terminated early (max_iter=10000).  Consider pre-processing your data with StandardScaler or MinMaxScaler.\n",
      "  warnings.warn(\n"
     ]
    },
    {
     "name": "stdout",
     "output_type": "stream",
     "text": [
      "[CV 3/5] END svc__C=1, svc__coef0=-1, svc__degree=3, svc__gamma=2, svc__kernel=poly; accuracy: (test=0.523) roc_auc: (test=0.536) total time= 1.1min\n"
     ]
    },
    {
     "name": "stderr",
     "output_type": "stream",
     "text": [
      "/home/pochete/studies/2023s2/mo810/mo810-kidney-waitlist/venv/lib/python3.11/site-packages/sklearn/svm/_base.py:297: ConvergenceWarning: Solver terminated early (max_iter=10000).  Consider pre-processing your data with StandardScaler or MinMaxScaler.\n",
      "  warnings.warn(\n"
     ]
    },
    {
     "name": "stdout",
     "output_type": "stream",
     "text": [
      "[CV 4/5] END svc__C=1, svc__coef0=-1, svc__degree=3, svc__gamma=2, svc__kernel=poly; accuracy: (test=0.528) roc_auc: (test=0.537) total time= 1.0min\n"
     ]
    },
    {
     "name": "stderr",
     "output_type": "stream",
     "text": [
      "/home/pochete/studies/2023s2/mo810/mo810-kidney-waitlist/venv/lib/python3.11/site-packages/sklearn/svm/_base.py:297: ConvergenceWarning: Solver terminated early (max_iter=10000).  Consider pre-processing your data with StandardScaler or MinMaxScaler.\n",
      "  warnings.warn(\n"
     ]
    },
    {
     "name": "stdout",
     "output_type": "stream",
     "text": [
      "[CV 5/5] END svc__C=1, svc__coef0=-1, svc__degree=3, svc__gamma=2, svc__kernel=poly; accuracy: (test=0.519) roc_auc: (test=0.532) total time= 1.0min\n"
     ]
    },
    {
     "name": "stderr",
     "output_type": "stream",
     "text": [
      "/home/pochete/studies/2023s2/mo810/mo810-kidney-waitlist/venv/lib/python3.11/site-packages/sklearn/svm/_base.py:297: ConvergenceWarning: Solver terminated early (max_iter=10000).  Consider pre-processing your data with StandardScaler or MinMaxScaler.\n",
      "  warnings.warn(\n"
     ]
    },
    {
     "name": "stdout",
     "output_type": "stream",
     "text": [
      "[CV 1/5] END svc__C=1, svc__coef0=-1, svc__degree=5, svc__gamma=scale, svc__kernel=poly; accuracy: (test=0.499) roc_auc: (test=0.493) total time= 2.2min\n"
     ]
    },
    {
     "name": "stderr",
     "output_type": "stream",
     "text": [
      "/home/pochete/studies/2023s2/mo810/mo810-kidney-waitlist/venv/lib/python3.11/site-packages/sklearn/svm/_base.py:297: ConvergenceWarning: Solver terminated early (max_iter=10000).  Consider pre-processing your data with StandardScaler or MinMaxScaler.\n",
      "  warnings.warn(\n"
     ]
    },
    {
     "name": "stdout",
     "output_type": "stream",
     "text": [
      "[CV 2/5] END svc__C=1, svc__coef0=-1, svc__degree=5, svc__gamma=scale, svc__kernel=poly; accuracy: (test=0.494) roc_auc: (test=0.494) total time= 2.2min\n"
     ]
    },
    {
     "name": "stderr",
     "output_type": "stream",
     "text": [
      "/home/pochete/studies/2023s2/mo810/mo810-kidney-waitlist/venv/lib/python3.11/site-packages/sklearn/svm/_base.py:297: ConvergenceWarning: Solver terminated early (max_iter=10000).  Consider pre-processing your data with StandardScaler or MinMaxScaler.\n",
      "  warnings.warn(\n"
     ]
    },
    {
     "name": "stdout",
     "output_type": "stream",
     "text": [
      "[CV 3/5] END svc__C=1, svc__coef0=-1, svc__degree=5, svc__gamma=scale, svc__kernel=poly; accuracy: (test=0.492) roc_auc: (test=0.496) total time= 2.1min\n"
     ]
    },
    {
     "name": "stderr",
     "output_type": "stream",
     "text": [
      "/home/pochete/studies/2023s2/mo810/mo810-kidney-waitlist/venv/lib/python3.11/site-packages/sklearn/svm/_base.py:297: ConvergenceWarning: Solver terminated early (max_iter=10000).  Consider pre-processing your data with StandardScaler or MinMaxScaler.\n",
      "  warnings.warn(\n"
     ]
    },
    {
     "name": "stdout",
     "output_type": "stream",
     "text": [
      "[CV 4/5] END svc__C=1, svc__coef0=-1, svc__degree=5, svc__gamma=scale, svc__kernel=poly; accuracy: (test=0.501) roc_auc: (test=0.496) total time= 2.2min\n"
     ]
    },
    {
     "name": "stderr",
     "output_type": "stream",
     "text": [
      "/home/pochete/studies/2023s2/mo810/mo810-kidney-waitlist/venv/lib/python3.11/site-packages/sklearn/svm/_base.py:297: ConvergenceWarning: Solver terminated early (max_iter=10000).  Consider pre-processing your data with StandardScaler or MinMaxScaler.\n",
      "  warnings.warn(\n"
     ]
    },
    {
     "name": "stdout",
     "output_type": "stream",
     "text": [
      "[CV 5/5] END svc__C=1, svc__coef0=-1, svc__degree=5, svc__gamma=scale, svc__kernel=poly; accuracy: (test=0.497) roc_auc: (test=0.488) total time= 2.2min\n"
     ]
    },
    {
     "name": "stderr",
     "output_type": "stream",
     "text": [
      "/home/pochete/studies/2023s2/mo810/mo810-kidney-waitlist/venv/lib/python3.11/site-packages/sklearn/svm/_base.py:297: ConvergenceWarning: Solver terminated early (max_iter=10000).  Consider pre-processing your data with StandardScaler or MinMaxScaler.\n",
      "  warnings.warn(\n"
     ]
    },
    {
     "name": "stdout",
     "output_type": "stream",
     "text": [
      "[CV 1/5] END svc__C=1, svc__coef0=-1, svc__degree=5, svc__gamma=0.1, svc__kernel=poly; accuracy: (test=0.499) roc_auc: (test=0.499) total time= 1.8min\n"
     ]
    },
    {
     "name": "stderr",
     "output_type": "stream",
     "text": [
      "/home/pochete/studies/2023s2/mo810/mo810-kidney-waitlist/venv/lib/python3.11/site-packages/sklearn/svm/_base.py:297: ConvergenceWarning: Solver terminated early (max_iter=10000).  Consider pre-processing your data with StandardScaler or MinMaxScaler.\n",
      "  warnings.warn(\n"
     ]
    },
    {
     "name": "stdout",
     "output_type": "stream",
     "text": [
      "[CV 2/5] END svc__C=1, svc__coef0=-1, svc__degree=5, svc__gamma=0.1, svc__kernel=poly; accuracy: (test=0.501) roc_auc: (test=0.494) total time= 1.8min\n"
     ]
    },
    {
     "name": "stderr",
     "output_type": "stream",
     "text": [
      "/home/pochete/studies/2023s2/mo810/mo810-kidney-waitlist/venv/lib/python3.11/site-packages/sklearn/svm/_base.py:297: ConvergenceWarning: Solver terminated early (max_iter=10000).  Consider pre-processing your data with StandardScaler or MinMaxScaler.\n",
      "  warnings.warn(\n"
     ]
    },
    {
     "name": "stdout",
     "output_type": "stream",
     "text": [
      "[CV 3/5] END svc__C=1, svc__coef0=-1, svc__degree=5, svc__gamma=0.1, svc__kernel=poly; accuracy: (test=0.499) roc_auc: (test=0.503) total time= 1.8min\n"
     ]
    },
    {
     "name": "stderr",
     "output_type": "stream",
     "text": [
      "/home/pochete/studies/2023s2/mo810/mo810-kidney-waitlist/venv/lib/python3.11/site-packages/sklearn/svm/_base.py:297: ConvergenceWarning: Solver terminated early (max_iter=10000).  Consider pre-processing your data with StandardScaler or MinMaxScaler.\n",
      "  warnings.warn(\n"
     ]
    },
    {
     "name": "stdout",
     "output_type": "stream",
     "text": [
      "[CV 4/5] END svc__C=1, svc__coef0=-1, svc__degree=5, svc__gamma=0.1, svc__kernel=poly; accuracy: (test=0.508) roc_auc: (test=0.510) total time= 1.9min\n"
     ]
    },
    {
     "name": "stderr",
     "output_type": "stream",
     "text": [
      "/home/pochete/studies/2023s2/mo810/mo810-kidney-waitlist/venv/lib/python3.11/site-packages/sklearn/svm/_base.py:297: ConvergenceWarning: Solver terminated early (max_iter=10000).  Consider pre-processing your data with StandardScaler or MinMaxScaler.\n",
      "  warnings.warn(\n"
     ]
    },
    {
     "name": "stdout",
     "output_type": "stream",
     "text": [
      "[CV 5/5] END svc__C=1, svc__coef0=-1, svc__degree=5, svc__gamma=0.1, svc__kernel=poly; accuracy: (test=0.501) roc_auc: (test=0.501) total time= 1.9min\n"
     ]
    },
    {
     "name": "stderr",
     "output_type": "stream",
     "text": [
      "/home/pochete/studies/2023s2/mo810/mo810-kidney-waitlist/venv/lib/python3.11/site-packages/sklearn/svm/_base.py:297: ConvergenceWarning: Solver terminated early (max_iter=10000).  Consider pre-processing your data with StandardScaler or MinMaxScaler.\n",
      "  warnings.warn(\n"
     ]
    },
    {
     "name": "stdout",
     "output_type": "stream",
     "text": [
      "[CV 1/5] END svc__C=1, svc__coef0=-1, svc__degree=5, svc__gamma=1, svc__kernel=poly; accuracy: (test=0.533) roc_auc: (test=0.542) total time= 1.4min\n"
     ]
    },
    {
     "name": "stderr",
     "output_type": "stream",
     "text": [
      "/home/pochete/studies/2023s2/mo810/mo810-kidney-waitlist/venv/lib/python3.11/site-packages/sklearn/svm/_base.py:297: ConvergenceWarning: Solver terminated early (max_iter=10000).  Consider pre-processing your data with StandardScaler or MinMaxScaler.\n",
      "  warnings.warn(\n"
     ]
    },
    {
     "name": "stdout",
     "output_type": "stream",
     "text": [
      "[CV 2/5] END svc__C=1, svc__coef0=-1, svc__degree=5, svc__gamma=1, svc__kernel=poly; accuracy: (test=0.538) roc_auc: (test=0.549) total time= 1.4min\n"
     ]
    },
    {
     "name": "stderr",
     "output_type": "stream",
     "text": [
      "/home/pochete/studies/2023s2/mo810/mo810-kidney-waitlist/venv/lib/python3.11/site-packages/sklearn/svm/_base.py:297: ConvergenceWarning: Solver terminated early (max_iter=10000).  Consider pre-processing your data with StandardScaler or MinMaxScaler.\n",
      "  warnings.warn(\n"
     ]
    },
    {
     "name": "stdout",
     "output_type": "stream",
     "text": [
      "[CV 3/5] END svc__C=1, svc__coef0=-1, svc__degree=5, svc__gamma=1, svc__kernel=poly; accuracy: (test=0.527) roc_auc: (test=0.539) total time= 1.4min\n"
     ]
    },
    {
     "name": "stderr",
     "output_type": "stream",
     "text": [
      "/home/pochete/studies/2023s2/mo810/mo810-kidney-waitlist/venv/lib/python3.11/site-packages/sklearn/svm/_base.py:297: ConvergenceWarning: Solver terminated early (max_iter=10000).  Consider pre-processing your data with StandardScaler or MinMaxScaler.\n",
      "  warnings.warn(\n"
     ]
    },
    {
     "name": "stdout",
     "output_type": "stream",
     "text": [
      "[CV 4/5] END svc__C=1, svc__coef0=-1, svc__degree=5, svc__gamma=1, svc__kernel=poly; accuracy: (test=0.536) roc_auc: (test=0.555) total time= 1.4min\n"
     ]
    },
    {
     "name": "stderr",
     "output_type": "stream",
     "text": [
      "/home/pochete/studies/2023s2/mo810/mo810-kidney-waitlist/venv/lib/python3.11/site-packages/sklearn/svm/_base.py:297: ConvergenceWarning: Solver terminated early (max_iter=10000).  Consider pre-processing your data with StandardScaler or MinMaxScaler.\n",
      "  warnings.warn(\n"
     ]
    },
    {
     "name": "stdout",
     "output_type": "stream",
     "text": [
      "[CV 5/5] END svc__C=1, svc__coef0=-1, svc__degree=5, svc__gamma=1, svc__kernel=poly; accuracy: (test=0.531) roc_auc: (test=0.547) total time= 1.4min\n"
     ]
    },
    {
     "name": "stderr",
     "output_type": "stream",
     "text": [
      "/home/pochete/studies/2023s2/mo810/mo810-kidney-waitlist/venv/lib/python3.11/site-packages/sklearn/svm/_base.py:297: ConvergenceWarning: Solver terminated early (max_iter=10000).  Consider pre-processing your data with StandardScaler or MinMaxScaler.\n",
      "  warnings.warn(\n"
     ]
    },
    {
     "name": "stdout",
     "output_type": "stream",
     "text": [
      "[CV 1/5] END svc__C=1, svc__coef0=-1, svc__degree=5, svc__gamma=2, svc__kernel=poly; accuracy: (test=0.538) roc_auc: (test=0.550) total time= 1.4min\n"
     ]
    },
    {
     "name": "stderr",
     "output_type": "stream",
     "text": [
      "/home/pochete/studies/2023s2/mo810/mo810-kidney-waitlist/venv/lib/python3.11/site-packages/sklearn/svm/_base.py:297: ConvergenceWarning: Solver terminated early (max_iter=10000).  Consider pre-processing your data with StandardScaler or MinMaxScaler.\n",
      "  warnings.warn(\n"
     ]
    },
    {
     "name": "stdout",
     "output_type": "stream",
     "text": [
      "[CV 2/5] END svc__C=1, svc__coef0=-1, svc__degree=5, svc__gamma=2, svc__kernel=poly; accuracy: (test=0.534) roc_auc: (test=0.549) total time= 1.4min\n"
     ]
    },
    {
     "name": "stderr",
     "output_type": "stream",
     "text": [
      "/home/pochete/studies/2023s2/mo810/mo810-kidney-waitlist/venv/lib/python3.11/site-packages/sklearn/svm/_base.py:297: ConvergenceWarning: Solver terminated early (max_iter=10000).  Consider pre-processing your data with StandardScaler or MinMaxScaler.\n",
      "  warnings.warn(\n"
     ]
    },
    {
     "name": "stdout",
     "output_type": "stream",
     "text": [
      "[CV 3/5] END svc__C=1, svc__coef0=-1, svc__degree=5, svc__gamma=2, svc__kernel=poly; accuracy: (test=0.530) roc_auc: (test=0.543) total time= 1.4min\n"
     ]
    },
    {
     "name": "stderr",
     "output_type": "stream",
     "text": [
      "/home/pochete/studies/2023s2/mo810/mo810-kidney-waitlist/venv/lib/python3.11/site-packages/sklearn/svm/_base.py:297: ConvergenceWarning: Solver terminated early (max_iter=10000).  Consider pre-processing your data with StandardScaler or MinMaxScaler.\n",
      "  warnings.warn(\n"
     ]
    },
    {
     "name": "stdout",
     "output_type": "stream",
     "text": [
      "[CV 4/5] END svc__C=1, svc__coef0=-1, svc__degree=5, svc__gamma=2, svc__kernel=poly; accuracy: (test=0.540) roc_auc: (test=0.560) total time= 1.5min\n"
     ]
    },
    {
     "name": "stderr",
     "output_type": "stream",
     "text": [
      "/home/pochete/studies/2023s2/mo810/mo810-kidney-waitlist/venv/lib/python3.11/site-packages/sklearn/svm/_base.py:297: ConvergenceWarning: Solver terminated early (max_iter=10000).  Consider pre-processing your data with StandardScaler or MinMaxScaler.\n",
      "  warnings.warn(\n"
     ]
    },
    {
     "name": "stdout",
     "output_type": "stream",
     "text": [
      "[CV 5/5] END svc__C=1, svc__coef0=-1, svc__degree=5, svc__gamma=2, svc__kernel=poly; accuracy: (test=0.543) roc_auc: (test=0.550) total time= 1.4min\n"
     ]
    },
    {
     "name": "stderr",
     "output_type": "stream",
     "text": [
      "/home/pochete/studies/2023s2/mo810/mo810-kidney-waitlist/venv/lib/python3.11/site-packages/sklearn/svm/_base.py:297: ConvergenceWarning: Solver terminated early (max_iter=10000).  Consider pre-processing your data with StandardScaler or MinMaxScaler.\n",
      "  warnings.warn(\n"
     ]
    },
    {
     "name": "stdout",
     "output_type": "stream",
     "text": [
      "[CV 1/5] END svc__C=1, svc__coef0=1, svc__degree=3, svc__gamma=scale, svc__kernel=poly; accuracy: (test=0.519) roc_auc: (test=0.535) total time= 1.5min\n"
     ]
    },
    {
     "name": "stderr",
     "output_type": "stream",
     "text": [
      "/home/pochete/studies/2023s2/mo810/mo810-kidney-waitlist/venv/lib/python3.11/site-packages/sklearn/svm/_base.py:297: ConvergenceWarning: Solver terminated early (max_iter=10000).  Consider pre-processing your data with StandardScaler or MinMaxScaler.\n",
      "  warnings.warn(\n"
     ]
    },
    {
     "name": "stdout",
     "output_type": "stream",
     "text": [
      "[CV 2/5] END svc__C=1, svc__coef0=1, svc__degree=3, svc__gamma=scale, svc__kernel=poly; accuracy: (test=0.543) roc_auc: (test=0.563) total time= 1.5min\n"
     ]
    },
    {
     "name": "stderr",
     "output_type": "stream",
     "text": [
      "/home/pochete/studies/2023s2/mo810/mo810-kidney-waitlist/venv/lib/python3.11/site-packages/sklearn/svm/_base.py:297: ConvergenceWarning: Solver terminated early (max_iter=10000).  Consider pre-processing your data with StandardScaler or MinMaxScaler.\n",
      "  warnings.warn(\n"
     ]
    },
    {
     "name": "stdout",
     "output_type": "stream",
     "text": [
      "[CV 3/5] END svc__C=1, svc__coef0=1, svc__degree=3, svc__gamma=scale, svc__kernel=poly; accuracy: (test=0.520) roc_auc: (test=0.539) total time= 1.5min\n"
     ]
    },
    {
     "name": "stderr",
     "output_type": "stream",
     "text": [
      "/home/pochete/studies/2023s2/mo810/mo810-kidney-waitlist/venv/lib/python3.11/site-packages/sklearn/svm/_base.py:297: ConvergenceWarning: Solver terminated early (max_iter=10000).  Consider pre-processing your data with StandardScaler or MinMaxScaler.\n",
      "  warnings.warn(\n"
     ]
    },
    {
     "name": "stdout",
     "output_type": "stream",
     "text": [
      "[CV 4/5] END svc__C=1, svc__coef0=1, svc__degree=3, svc__gamma=scale, svc__kernel=poly; accuracy: (test=0.525) roc_auc: (test=0.538) total time= 1.5min\n"
     ]
    },
    {
     "name": "stderr",
     "output_type": "stream",
     "text": [
      "/home/pochete/studies/2023s2/mo810/mo810-kidney-waitlist/venv/lib/python3.11/site-packages/sklearn/svm/_base.py:297: ConvergenceWarning: Solver terminated early (max_iter=10000).  Consider pre-processing your data with StandardScaler or MinMaxScaler.\n",
      "  warnings.warn(\n"
     ]
    },
    {
     "name": "stdout",
     "output_type": "stream",
     "text": [
      "[CV 5/5] END svc__C=1, svc__coef0=1, svc__degree=3, svc__gamma=scale, svc__kernel=poly; accuracy: (test=0.531) roc_auc: (test=0.544) total time= 1.6min\n"
     ]
    },
    {
     "name": "stderr",
     "output_type": "stream",
     "text": [
      "/home/pochete/studies/2023s2/mo810/mo810-kidney-waitlist/venv/lib/python3.11/site-packages/sklearn/svm/_base.py:297: ConvergenceWarning: Solver terminated early (max_iter=10000).  Consider pre-processing your data with StandardScaler or MinMaxScaler.\n",
      "  warnings.warn(\n"
     ]
    },
    {
     "name": "stdout",
     "output_type": "stream",
     "text": [
      "[CV 1/5] END svc__C=1, svc__coef0=1, svc__degree=3, svc__gamma=0.1, svc__kernel=poly; accuracy: (test=0.516) roc_auc: (test=0.524) total time= 1.1min\n"
     ]
    },
    {
     "name": "stderr",
     "output_type": "stream",
     "text": [
      "/home/pochete/studies/2023s2/mo810/mo810-kidney-waitlist/venv/lib/python3.11/site-packages/sklearn/svm/_base.py:297: ConvergenceWarning: Solver terminated early (max_iter=10000).  Consider pre-processing your data with StandardScaler or MinMaxScaler.\n",
      "  warnings.warn(\n"
     ]
    },
    {
     "name": "stdout",
     "output_type": "stream",
     "text": [
      "[CV 2/5] END svc__C=1, svc__coef0=1, svc__degree=3, svc__gamma=0.1, svc__kernel=poly; accuracy: (test=0.513) roc_auc: (test=0.523) total time= 1.1min\n"
     ]
    },
    {
     "name": "stderr",
     "output_type": "stream",
     "text": [
      "/home/pochete/studies/2023s2/mo810/mo810-kidney-waitlist/venv/lib/python3.11/site-packages/sklearn/svm/_base.py:297: ConvergenceWarning: Solver terminated early (max_iter=10000).  Consider pre-processing your data with StandardScaler or MinMaxScaler.\n",
      "  warnings.warn(\n"
     ]
    },
    {
     "name": "stdout",
     "output_type": "stream",
     "text": [
      "[CV 3/5] END svc__C=1, svc__coef0=1, svc__degree=3, svc__gamma=0.1, svc__kernel=poly; accuracy: (test=0.516) roc_auc: (test=0.527) total time= 1.1min\n"
     ]
    },
    {
     "name": "stderr",
     "output_type": "stream",
     "text": [
      "/home/pochete/studies/2023s2/mo810/mo810-kidney-waitlist/venv/lib/python3.11/site-packages/sklearn/svm/_base.py:297: ConvergenceWarning: Solver terminated early (max_iter=10000).  Consider pre-processing your data with StandardScaler or MinMaxScaler.\n",
      "  warnings.warn(\n"
     ]
    },
    {
     "name": "stdout",
     "output_type": "stream",
     "text": [
      "[CV 4/5] END svc__C=1, svc__coef0=1, svc__degree=3, svc__gamma=0.1, svc__kernel=poly; accuracy: (test=0.525) roc_auc: (test=0.536) total time= 1.1min\n"
     ]
    },
    {
     "name": "stderr",
     "output_type": "stream",
     "text": [
      "/home/pochete/studies/2023s2/mo810/mo810-kidney-waitlist/venv/lib/python3.11/site-packages/sklearn/svm/_base.py:297: ConvergenceWarning: Solver terminated early (max_iter=10000).  Consider pre-processing your data with StandardScaler or MinMaxScaler.\n",
      "  warnings.warn(\n"
     ]
    },
    {
     "name": "stdout",
     "output_type": "stream",
     "text": [
      "[CV 5/5] END svc__C=1, svc__coef0=1, svc__degree=3, svc__gamma=0.1, svc__kernel=poly; accuracy: (test=0.525) roc_auc: (test=0.534) total time= 1.1min\n"
     ]
    },
    {
     "name": "stderr",
     "output_type": "stream",
     "text": [
      "/home/pochete/studies/2023s2/mo810/mo810-kidney-waitlist/venv/lib/python3.11/site-packages/sklearn/svm/_base.py:297: ConvergenceWarning: Solver terminated early (max_iter=10000).  Consider pre-processing your data with StandardScaler or MinMaxScaler.\n",
      "  warnings.warn(\n"
     ]
    },
    {
     "name": "stdout",
     "output_type": "stream",
     "text": [
      "[CV 1/5] END svc__C=1, svc__coef0=1, svc__degree=3, svc__gamma=1, svc__kernel=poly; accuracy: (test=0.517) roc_auc: (test=0.528) total time= 1.1min\n"
     ]
    },
    {
     "name": "stderr",
     "output_type": "stream",
     "text": [
      "/home/pochete/studies/2023s2/mo810/mo810-kidney-waitlist/venv/lib/python3.11/site-packages/sklearn/svm/_base.py:297: ConvergenceWarning: Solver terminated early (max_iter=10000).  Consider pre-processing your data with StandardScaler or MinMaxScaler.\n",
      "  warnings.warn(\n"
     ]
    },
    {
     "name": "stdout",
     "output_type": "stream",
     "text": [
      "[CV 2/5] END svc__C=1, svc__coef0=1, svc__degree=3, svc__gamma=1, svc__kernel=poly; accuracy: (test=0.521) roc_auc: (test=0.540) total time= 1.0min\n"
     ]
    },
    {
     "name": "stderr",
     "output_type": "stream",
     "text": [
      "/home/pochete/studies/2023s2/mo810/mo810-kidney-waitlist/venv/lib/python3.11/site-packages/sklearn/svm/_base.py:297: ConvergenceWarning: Solver terminated early (max_iter=10000).  Consider pre-processing your data with StandardScaler or MinMaxScaler.\n",
      "  warnings.warn(\n"
     ]
    },
    {
     "name": "stdout",
     "output_type": "stream",
     "text": [
      "[CV 3/5] END svc__C=1, svc__coef0=1, svc__degree=3, svc__gamma=1, svc__kernel=poly; accuracy: (test=0.518) roc_auc: (test=0.527) total time= 1.1min\n"
     ]
    },
    {
     "name": "stderr",
     "output_type": "stream",
     "text": [
      "/home/pochete/studies/2023s2/mo810/mo810-kidney-waitlist/venv/lib/python3.11/site-packages/sklearn/svm/_base.py:297: ConvergenceWarning: Solver terminated early (max_iter=10000).  Consider pre-processing your data with StandardScaler or MinMaxScaler.\n",
      "  warnings.warn(\n"
     ]
    },
    {
     "name": "stdout",
     "output_type": "stream",
     "text": [
      "[CV 4/5] END svc__C=1, svc__coef0=1, svc__degree=3, svc__gamma=1, svc__kernel=poly; accuracy: (test=0.523) roc_auc: (test=0.537) total time= 1.0min\n"
     ]
    },
    {
     "name": "stderr",
     "output_type": "stream",
     "text": [
      "/home/pochete/studies/2023s2/mo810/mo810-kidney-waitlist/venv/lib/python3.11/site-packages/sklearn/svm/_base.py:297: ConvergenceWarning: Solver terminated early (max_iter=10000).  Consider pre-processing your data with StandardScaler or MinMaxScaler.\n",
      "  warnings.warn(\n"
     ]
    },
    {
     "name": "stdout",
     "output_type": "stream",
     "text": [
      "[CV 5/5] END svc__C=1, svc__coef0=1, svc__degree=3, svc__gamma=1, svc__kernel=poly; accuracy: (test=0.515) roc_auc: (test=0.528) total time= 1.1min\n"
     ]
    },
    {
     "name": "stderr",
     "output_type": "stream",
     "text": [
      "/home/pochete/studies/2023s2/mo810/mo810-kidney-waitlist/venv/lib/python3.11/site-packages/sklearn/svm/_base.py:297: ConvergenceWarning: Solver terminated early (max_iter=10000).  Consider pre-processing your data with StandardScaler or MinMaxScaler.\n",
      "  warnings.warn(\n"
     ]
    },
    {
     "name": "stdout",
     "output_type": "stream",
     "text": [
      "[CV 1/5] END svc__C=1, svc__coef0=1, svc__degree=3, svc__gamma=2, svc__kernel=poly; accuracy: (test=0.526) roc_auc: (test=0.540) total time= 1.1min\n"
     ]
    },
    {
     "name": "stderr",
     "output_type": "stream",
     "text": [
      "/home/pochete/studies/2023s2/mo810/mo810-kidney-waitlist/venv/lib/python3.11/site-packages/sklearn/svm/_base.py:297: ConvergenceWarning: Solver terminated early (max_iter=10000).  Consider pre-processing your data with StandardScaler or MinMaxScaler.\n",
      "  warnings.warn(\n"
     ]
    },
    {
     "name": "stdout",
     "output_type": "stream",
     "text": [
      "[CV 2/5] END svc__C=1, svc__coef0=1, svc__degree=3, svc__gamma=2, svc__kernel=poly; accuracy: (test=0.532) roc_auc: (test=0.544) total time= 1.1min\n"
     ]
    },
    {
     "name": "stderr",
     "output_type": "stream",
     "text": [
      "/home/pochete/studies/2023s2/mo810/mo810-kidney-waitlist/venv/lib/python3.11/site-packages/sklearn/svm/_base.py:297: ConvergenceWarning: Solver terminated early (max_iter=10000).  Consider pre-processing your data with StandardScaler or MinMaxScaler.\n",
      "  warnings.warn(\n"
     ]
    },
    {
     "name": "stdout",
     "output_type": "stream",
     "text": [
      "[CV 3/5] END svc__C=1, svc__coef0=1, svc__degree=3, svc__gamma=2, svc__kernel=poly; accuracy: (test=0.521) roc_auc: (test=0.533) total time= 1.1min\n"
     ]
    },
    {
     "name": "stderr",
     "output_type": "stream",
     "text": [
      "/home/pochete/studies/2023s2/mo810/mo810-kidney-waitlist/venv/lib/python3.11/site-packages/sklearn/svm/_base.py:297: ConvergenceWarning: Solver terminated early (max_iter=10000).  Consider pre-processing your data with StandardScaler or MinMaxScaler.\n",
      "  warnings.warn(\n"
     ]
    },
    {
     "name": "stdout",
     "output_type": "stream",
     "text": [
      "[CV 4/5] END svc__C=1, svc__coef0=1, svc__degree=3, svc__gamma=2, svc__kernel=poly; accuracy: (test=0.529) roc_auc: (test=0.541) total time= 1.1min\n"
     ]
    },
    {
     "name": "stderr",
     "output_type": "stream",
     "text": [
      "/home/pochete/studies/2023s2/mo810/mo810-kidney-waitlist/venv/lib/python3.11/site-packages/sklearn/svm/_base.py:297: ConvergenceWarning: Solver terminated early (max_iter=10000).  Consider pre-processing your data with StandardScaler or MinMaxScaler.\n",
      "  warnings.warn(\n"
     ]
    },
    {
     "name": "stdout",
     "output_type": "stream",
     "text": [
      "[CV 5/5] END svc__C=1, svc__coef0=1, svc__degree=3, svc__gamma=2, svc__kernel=poly; accuracy: (test=0.525) roc_auc: (test=0.534) total time= 1.1min\n"
     ]
    },
    {
     "name": "stderr",
     "output_type": "stream",
     "text": [
      "/home/pochete/studies/2023s2/mo810/mo810-kidney-waitlist/venv/lib/python3.11/site-packages/sklearn/svm/_base.py:297: ConvergenceWarning: Solver terminated early (max_iter=10000).  Consider pre-processing your data with StandardScaler or MinMaxScaler.\n",
      "  warnings.warn(\n"
     ]
    },
    {
     "name": "stdout",
     "output_type": "stream",
     "text": [
      "[CV 1/5] END svc__C=1, svc__coef0=1, svc__degree=5, svc__gamma=scale, svc__kernel=poly; accuracy: (test=0.528) roc_auc: (test=0.543) total time= 1.3min\n"
     ]
    },
    {
     "name": "stderr",
     "output_type": "stream",
     "text": [
      "/home/pochete/studies/2023s2/mo810/mo810-kidney-waitlist/venv/lib/python3.11/site-packages/sklearn/svm/_base.py:297: ConvergenceWarning: Solver terminated early (max_iter=10000).  Consider pre-processing your data with StandardScaler or MinMaxScaler.\n",
      "  warnings.warn(\n"
     ]
    },
    {
     "name": "stdout",
     "output_type": "stream",
     "text": [
      "[CV 2/5] END svc__C=1, svc__coef0=1, svc__degree=5, svc__gamma=scale, svc__kernel=poly; accuracy: (test=0.535) roc_auc: (test=0.544) total time= 1.4min\n"
     ]
    },
    {
     "name": "stderr",
     "output_type": "stream",
     "text": [
      "/home/pochete/studies/2023s2/mo810/mo810-kidney-waitlist/venv/lib/python3.11/site-packages/sklearn/svm/_base.py:297: ConvergenceWarning: Solver terminated early (max_iter=10000).  Consider pre-processing your data with StandardScaler or MinMaxScaler.\n",
      "  warnings.warn(\n"
     ]
    },
    {
     "name": "stdout",
     "output_type": "stream",
     "text": [
      "[CV 3/5] END svc__C=1, svc__coef0=1, svc__degree=5, svc__gamma=scale, svc__kernel=poly; accuracy: (test=0.533) roc_auc: (test=0.540) total time= 1.2min\n"
     ]
    },
    {
     "name": "stderr",
     "output_type": "stream",
     "text": [
      "/home/pochete/studies/2023s2/mo810/mo810-kidney-waitlist/venv/lib/python3.11/site-packages/sklearn/svm/_base.py:297: ConvergenceWarning: Solver terminated early (max_iter=10000).  Consider pre-processing your data with StandardScaler or MinMaxScaler.\n",
      "  warnings.warn(\n"
     ]
    },
    {
     "name": "stdout",
     "output_type": "stream",
     "text": [
      "[CV 4/5] END svc__C=1, svc__coef0=1, svc__degree=5, svc__gamma=scale, svc__kernel=poly; accuracy: (test=0.527) roc_auc: (test=0.542) total time= 1.3min\n"
     ]
    },
    {
     "name": "stderr",
     "output_type": "stream",
     "text": [
      "/home/pochete/studies/2023s2/mo810/mo810-kidney-waitlist/venv/lib/python3.11/site-packages/sklearn/svm/_base.py:297: ConvergenceWarning: Solver terminated early (max_iter=10000).  Consider pre-processing your data with StandardScaler or MinMaxScaler.\n",
      "  warnings.warn(\n"
     ]
    },
    {
     "name": "stdout",
     "output_type": "stream",
     "text": [
      "[CV 5/5] END svc__C=1, svc__coef0=1, svc__degree=5, svc__gamma=scale, svc__kernel=poly; accuracy: (test=0.525) roc_auc: (test=0.534) total time= 1.3min\n"
     ]
    },
    {
     "name": "stderr",
     "output_type": "stream",
     "text": [
      "/home/pochete/studies/2023s2/mo810/mo810-kidney-waitlist/venv/lib/python3.11/site-packages/sklearn/svm/_base.py:297: ConvergenceWarning: Solver terminated early (max_iter=10000).  Consider pre-processing your data with StandardScaler or MinMaxScaler.\n",
      "  warnings.warn(\n"
     ]
    },
    {
     "name": "stdout",
     "output_type": "stream",
     "text": [
      "[CV 1/5] END svc__C=1, svc__coef0=1, svc__degree=5, svc__gamma=0.1, svc__kernel=poly; accuracy: (test=0.542) roc_auc: (test=0.552) total time= 1.3min\n"
     ]
    },
    {
     "name": "stderr",
     "output_type": "stream",
     "text": [
      "/home/pochete/studies/2023s2/mo810/mo810-kidney-waitlist/venv/lib/python3.11/site-packages/sklearn/svm/_base.py:297: ConvergenceWarning: Solver terminated early (max_iter=10000).  Consider pre-processing your data with StandardScaler or MinMaxScaler.\n",
      "  warnings.warn(\n"
     ]
    },
    {
     "name": "stdout",
     "output_type": "stream",
     "text": [
      "[CV 2/5] END svc__C=1, svc__coef0=1, svc__degree=5, svc__gamma=0.1, svc__kernel=poly; accuracy: (test=0.540) roc_auc: (test=0.560) total time= 1.3min\n"
     ]
    },
    {
     "name": "stderr",
     "output_type": "stream",
     "text": [
      "/home/pochete/studies/2023s2/mo810/mo810-kidney-waitlist/venv/lib/python3.11/site-packages/sklearn/svm/_base.py:297: ConvergenceWarning: Solver terminated early (max_iter=10000).  Consider pre-processing your data with StandardScaler or MinMaxScaler.\n",
      "  warnings.warn(\n"
     ]
    },
    {
     "name": "stdout",
     "output_type": "stream",
     "text": [
      "[CV 3/5] END svc__C=1, svc__coef0=1, svc__degree=5, svc__gamma=0.1, svc__kernel=poly; accuracy: (test=0.536) roc_auc: (test=0.548) total time= 1.3min\n"
     ]
    },
    {
     "name": "stderr",
     "output_type": "stream",
     "text": [
      "/home/pochete/studies/2023s2/mo810/mo810-kidney-waitlist/venv/lib/python3.11/site-packages/sklearn/svm/_base.py:297: ConvergenceWarning: Solver terminated early (max_iter=10000).  Consider pre-processing your data with StandardScaler or MinMaxScaler.\n",
      "  warnings.warn(\n"
     ]
    },
    {
     "name": "stdout",
     "output_type": "stream",
     "text": [
      "[CV 4/5] END svc__C=1, svc__coef0=1, svc__degree=5, svc__gamma=0.1, svc__kernel=poly; accuracy: (test=0.535) roc_auc: (test=0.556) total time= 1.3min\n"
     ]
    },
    {
     "name": "stderr",
     "output_type": "stream",
     "text": [
      "/home/pochete/studies/2023s2/mo810/mo810-kidney-waitlist/venv/lib/python3.11/site-packages/sklearn/svm/_base.py:297: ConvergenceWarning: Solver terminated early (max_iter=10000).  Consider pre-processing your data with StandardScaler or MinMaxScaler.\n",
      "  warnings.warn(\n"
     ]
    },
    {
     "name": "stdout",
     "output_type": "stream",
     "text": [
      "[CV 5/5] END svc__C=1, svc__coef0=1, svc__degree=5, svc__gamma=0.1, svc__kernel=poly; accuracy: (test=0.543) roc_auc: (test=0.554) total time= 1.3min\n"
     ]
    },
    {
     "name": "stderr",
     "output_type": "stream",
     "text": [
      "/home/pochete/studies/2023s2/mo810/mo810-kidney-waitlist/venv/lib/python3.11/site-packages/sklearn/svm/_base.py:297: ConvergenceWarning: Solver terminated early (max_iter=10000).  Consider pre-processing your data with StandardScaler or MinMaxScaler.\n",
      "  warnings.warn(\n"
     ]
    },
    {
     "name": "stdout",
     "output_type": "stream",
     "text": [
      "[CV 1/5] END svc__C=1, svc__coef0=1, svc__degree=5, svc__gamma=1, svc__kernel=poly; accuracy: (test=0.537) roc_auc: (test=0.552) total time= 1.4min\n"
     ]
    },
    {
     "name": "stderr",
     "output_type": "stream",
     "text": [
      "/home/pochete/studies/2023s2/mo810/mo810-kidney-waitlist/venv/lib/python3.11/site-packages/sklearn/svm/_base.py:297: ConvergenceWarning: Solver terminated early (max_iter=10000).  Consider pre-processing your data with StandardScaler or MinMaxScaler.\n",
      "  warnings.warn(\n"
     ]
    },
    {
     "name": "stdout",
     "output_type": "stream",
     "text": [
      "[CV 2/5] END svc__C=1, svc__coef0=1, svc__degree=5, svc__gamma=1, svc__kernel=poly; accuracy: (test=0.543) roc_auc: (test=0.556) total time= 1.4min\n"
     ]
    },
    {
     "name": "stderr",
     "output_type": "stream",
     "text": [
      "/home/pochete/studies/2023s2/mo810/mo810-kidney-waitlist/venv/lib/python3.11/site-packages/sklearn/svm/_base.py:297: ConvergenceWarning: Solver terminated early (max_iter=10000).  Consider pre-processing your data with StandardScaler or MinMaxScaler.\n",
      "  warnings.warn(\n"
     ]
    },
    {
     "name": "stdout",
     "output_type": "stream",
     "text": [
      "[CV 3/5] END svc__C=1, svc__coef0=1, svc__degree=5, svc__gamma=1, svc__kernel=poly; accuracy: (test=0.538) roc_auc: (test=0.550) total time= 1.4min\n"
     ]
    },
    {
     "name": "stderr",
     "output_type": "stream",
     "text": [
      "/home/pochete/studies/2023s2/mo810/mo810-kidney-waitlist/venv/lib/python3.11/site-packages/sklearn/svm/_base.py:297: ConvergenceWarning: Solver terminated early (max_iter=10000).  Consider pre-processing your data with StandardScaler or MinMaxScaler.\n",
      "  warnings.warn(\n"
     ]
    },
    {
     "name": "stdout",
     "output_type": "stream",
     "text": [
      "[CV 4/5] END svc__C=1, svc__coef0=1, svc__degree=5, svc__gamma=1, svc__kernel=poly; accuracy: (test=0.549) roc_auc: (test=0.565) total time= 1.5min\n"
     ]
    },
    {
     "name": "stderr",
     "output_type": "stream",
     "text": [
      "/home/pochete/studies/2023s2/mo810/mo810-kidney-waitlist/venv/lib/python3.11/site-packages/sklearn/svm/_base.py:297: ConvergenceWarning: Solver terminated early (max_iter=10000).  Consider pre-processing your data with StandardScaler or MinMaxScaler.\n",
      "  warnings.warn(\n"
     ]
    },
    {
     "name": "stdout",
     "output_type": "stream",
     "text": [
      "[CV 5/5] END svc__C=1, svc__coef0=1, svc__degree=5, svc__gamma=1, svc__kernel=poly; accuracy: (test=0.543) roc_auc: (test=0.559) total time= 1.5min\n"
     ]
    },
    {
     "name": "stderr",
     "output_type": "stream",
     "text": [
      "/home/pochete/studies/2023s2/mo810/mo810-kidney-waitlist/venv/lib/python3.11/site-packages/sklearn/svm/_base.py:297: ConvergenceWarning: Solver terminated early (max_iter=10000).  Consider pre-processing your data with StandardScaler or MinMaxScaler.\n",
      "  warnings.warn(\n"
     ]
    },
    {
     "name": "stdout",
     "output_type": "stream",
     "text": [
      "[CV 1/5] END svc__C=1, svc__coef0=1, svc__degree=5, svc__gamma=2, svc__kernel=poly; accuracy: (test=0.538) roc_auc: (test=0.551) total time= 1.5min\n"
     ]
    },
    {
     "name": "stderr",
     "output_type": "stream",
     "text": [
      "/home/pochete/studies/2023s2/mo810/mo810-kidney-waitlist/venv/lib/python3.11/site-packages/sklearn/svm/_base.py:297: ConvergenceWarning: Solver terminated early (max_iter=10000).  Consider pre-processing your data with StandardScaler or MinMaxScaler.\n",
      "  warnings.warn(\n"
     ]
    },
    {
     "name": "stdout",
     "output_type": "stream",
     "text": [
      "[CV 2/5] END svc__C=1, svc__coef0=1, svc__degree=5, svc__gamma=2, svc__kernel=poly; accuracy: (test=0.540) roc_auc: (test=0.558) total time= 1.5min\n"
     ]
    },
    {
     "name": "stderr",
     "output_type": "stream",
     "text": [
      "/home/pochete/studies/2023s2/mo810/mo810-kidney-waitlist/venv/lib/python3.11/site-packages/sklearn/svm/_base.py:297: ConvergenceWarning: Solver terminated early (max_iter=10000).  Consider pre-processing your data with StandardScaler or MinMaxScaler.\n",
      "  warnings.warn(\n"
     ]
    },
    {
     "name": "stdout",
     "output_type": "stream",
     "text": [
      "[CV 3/5] END svc__C=1, svc__coef0=1, svc__degree=5, svc__gamma=2, svc__kernel=poly; accuracy: (test=0.533) roc_auc: (test=0.547) total time= 1.5min\n"
     ]
    },
    {
     "name": "stderr",
     "output_type": "stream",
     "text": [
      "/home/pochete/studies/2023s2/mo810/mo810-kidney-waitlist/venv/lib/python3.11/site-packages/sklearn/svm/_base.py:297: ConvergenceWarning: Solver terminated early (max_iter=10000).  Consider pre-processing your data with StandardScaler or MinMaxScaler.\n",
      "  warnings.warn(\n"
     ]
    },
    {
     "name": "stdout",
     "output_type": "stream",
     "text": [
      "[CV 4/5] END svc__C=1, svc__coef0=1, svc__degree=5, svc__gamma=2, svc__kernel=poly; accuracy: (test=0.543) roc_auc: (test=0.562) total time= 1.5min\n"
     ]
    },
    {
     "name": "stderr",
     "output_type": "stream",
     "text": [
      "/home/pochete/studies/2023s2/mo810/mo810-kidney-waitlist/venv/lib/python3.11/site-packages/sklearn/svm/_base.py:297: ConvergenceWarning: Solver terminated early (max_iter=10000).  Consider pre-processing your data with StandardScaler or MinMaxScaler.\n",
      "  warnings.warn(\n"
     ]
    },
    {
     "name": "stdout",
     "output_type": "stream",
     "text": [
      "[CV 5/5] END svc__C=1, svc__coef0=1, svc__degree=5, svc__gamma=2, svc__kernel=poly; accuracy: (test=0.544) roc_auc: (test=0.556) total time= 1.5min\n"
     ]
    },
    {
     "name": "stderr",
     "output_type": "stream",
     "text": [
      "/home/pochete/studies/2023s2/mo810/mo810-kidney-waitlist/venv/lib/python3.11/site-packages/sklearn/svm/_base.py:297: ConvergenceWarning: Solver terminated early (max_iter=10000).  Consider pre-processing your data with StandardScaler or MinMaxScaler.\n",
      "  warnings.warn(\n"
     ]
    },
    {
     "name": "stdout",
     "output_type": "stream",
     "text": [
      "[CV 1/5] END svc__C=10, svc__coef0=0, svc__degree=3, svc__gamma=scale, svc__kernel=poly; accuracy: (test=0.530) roc_auc: (test=0.546) total time= 1.5min\n"
     ]
    },
    {
     "name": "stderr",
     "output_type": "stream",
     "text": [
      "/home/pochete/studies/2023s2/mo810/mo810-kidney-waitlist/venv/lib/python3.11/site-packages/sklearn/svm/_base.py:297: ConvergenceWarning: Solver terminated early (max_iter=10000).  Consider pre-processing your data with StandardScaler or MinMaxScaler.\n",
      "  warnings.warn(\n"
     ]
    },
    {
     "name": "stdout",
     "output_type": "stream",
     "text": [
      "[CV 2/5] END svc__C=10, svc__coef0=0, svc__degree=3, svc__gamma=scale, svc__kernel=poly; accuracy: (test=0.535) roc_auc: (test=0.555) total time= 1.4min\n"
     ]
    },
    {
     "name": "stderr",
     "output_type": "stream",
     "text": [
      "/home/pochete/studies/2023s2/mo810/mo810-kidney-waitlist/venv/lib/python3.11/site-packages/sklearn/svm/_base.py:297: ConvergenceWarning: Solver terminated early (max_iter=10000).  Consider pre-processing your data with StandardScaler or MinMaxScaler.\n",
      "  warnings.warn(\n"
     ]
    },
    {
     "name": "stdout",
     "output_type": "stream",
     "text": [
      "[CV 3/5] END svc__C=10, svc__coef0=0, svc__degree=3, svc__gamma=scale, svc__kernel=poly; accuracy: (test=0.527) roc_auc: (test=0.554) total time= 1.5min\n"
     ]
    },
    {
     "name": "stderr",
     "output_type": "stream",
     "text": [
      "/home/pochete/studies/2023s2/mo810/mo810-kidney-waitlist/venv/lib/python3.11/site-packages/sklearn/svm/_base.py:297: ConvergenceWarning: Solver terminated early (max_iter=10000).  Consider pre-processing your data with StandardScaler or MinMaxScaler.\n",
      "  warnings.warn(\n"
     ]
    },
    {
     "name": "stdout",
     "output_type": "stream",
     "text": [
      "[CV 4/5] END svc__C=10, svc__coef0=0, svc__degree=3, svc__gamma=scale, svc__kernel=poly; accuracy: (test=0.529) roc_auc: (test=0.550) total time= 1.5min\n"
     ]
    },
    {
     "name": "stderr",
     "output_type": "stream",
     "text": [
      "/home/pochete/studies/2023s2/mo810/mo810-kidney-waitlist/venv/lib/python3.11/site-packages/sklearn/svm/_base.py:297: ConvergenceWarning: Solver terminated early (max_iter=10000).  Consider pre-processing your data with StandardScaler or MinMaxScaler.\n",
      "  warnings.warn(\n"
     ]
    },
    {
     "name": "stdout",
     "output_type": "stream",
     "text": [
      "[CV 5/5] END svc__C=10, svc__coef0=0, svc__degree=3, svc__gamma=scale, svc__kernel=poly; accuracy: (test=0.532) roc_auc: (test=0.552) total time= 1.7min\n"
     ]
    },
    {
     "name": "stderr",
     "output_type": "stream",
     "text": [
      "/home/pochete/studies/2023s2/mo810/mo810-kidney-waitlist/venv/lib/python3.11/site-packages/sklearn/svm/_base.py:297: ConvergenceWarning: Solver terminated early (max_iter=10000).  Consider pre-processing your data with StandardScaler or MinMaxScaler.\n",
      "  warnings.warn(\n"
     ]
    },
    {
     "name": "stdout",
     "output_type": "stream",
     "text": [
      "[CV 1/5] END svc__C=10, svc__coef0=0, svc__degree=3, svc__gamma=0.1, svc__kernel=poly; accuracy: (test=0.518) roc_auc: (test=0.531) total time= 1.3min\n"
     ]
    },
    {
     "name": "stderr",
     "output_type": "stream",
     "text": [
      "/home/pochete/studies/2023s2/mo810/mo810-kidney-waitlist/venv/lib/python3.11/site-packages/sklearn/svm/_base.py:297: ConvergenceWarning: Solver terminated early (max_iter=10000).  Consider pre-processing your data with StandardScaler or MinMaxScaler.\n",
      "  warnings.warn(\n"
     ]
    },
    {
     "name": "stdout",
     "output_type": "stream",
     "text": [
      "[CV 2/5] END svc__C=10, svc__coef0=0, svc__degree=3, svc__gamma=0.1, svc__kernel=poly; accuracy: (test=0.525) roc_auc: (test=0.535) total time= 1.1min\n"
     ]
    },
    {
     "name": "stderr",
     "output_type": "stream",
     "text": [
      "/home/pochete/studies/2023s2/mo810/mo810-kidney-waitlist/venv/lib/python3.11/site-packages/sklearn/svm/_base.py:297: ConvergenceWarning: Solver terminated early (max_iter=10000).  Consider pre-processing your data with StandardScaler or MinMaxScaler.\n",
      "  warnings.warn(\n"
     ]
    },
    {
     "name": "stdout",
     "output_type": "stream",
     "text": [
      "[CV 3/5] END svc__C=10, svc__coef0=0, svc__degree=3, svc__gamma=0.1, svc__kernel=poly; accuracy: (test=0.514) roc_auc: (test=0.530) total time= 1.2min\n"
     ]
    },
    {
     "name": "stderr",
     "output_type": "stream",
     "text": [
      "/home/pochete/studies/2023s2/mo810/mo810-kidney-waitlist/venv/lib/python3.11/site-packages/sklearn/svm/_base.py:297: ConvergenceWarning: Solver terminated early (max_iter=10000).  Consider pre-processing your data with StandardScaler or MinMaxScaler.\n",
      "  warnings.warn(\n"
     ]
    },
    {
     "name": "stdout",
     "output_type": "stream",
     "text": [
      "[CV 4/5] END svc__C=10, svc__coef0=0, svc__degree=3, svc__gamma=0.1, svc__kernel=poly; accuracy: (test=0.520) roc_auc: (test=0.526) total time= 1.2min\n"
     ]
    },
    {
     "name": "stderr",
     "output_type": "stream",
     "text": [
      "/home/pochete/studies/2023s2/mo810/mo810-kidney-waitlist/venv/lib/python3.11/site-packages/sklearn/svm/_base.py:297: ConvergenceWarning: Solver terminated early (max_iter=10000).  Consider pre-processing your data with StandardScaler or MinMaxScaler.\n",
      "  warnings.warn(\n"
     ]
    },
    {
     "name": "stdout",
     "output_type": "stream",
     "text": [
      "[CV 5/5] END svc__C=10, svc__coef0=0, svc__degree=3, svc__gamma=0.1, svc__kernel=poly; accuracy: (test=0.522) roc_auc: (test=0.530) total time= 1.1min\n"
     ]
    },
    {
     "name": "stderr",
     "output_type": "stream",
     "text": [
      "/home/pochete/studies/2023s2/mo810/mo810-kidney-waitlist/venv/lib/python3.11/site-packages/sklearn/svm/_base.py:297: ConvergenceWarning: Solver terminated early (max_iter=10000).  Consider pre-processing your data with StandardScaler or MinMaxScaler.\n",
      "  warnings.warn(\n"
     ]
    },
    {
     "name": "stdout",
     "output_type": "stream",
     "text": [
      "[CV 1/5] END svc__C=10, svc__coef0=0, svc__degree=3, svc__gamma=1, svc__kernel=poly; accuracy: (test=0.518) roc_auc: (test=0.531) total time= 1.1min\n"
     ]
    },
    {
     "name": "stderr",
     "output_type": "stream",
     "text": [
      "/home/pochete/studies/2023s2/mo810/mo810-kidney-waitlist/venv/lib/python3.11/site-packages/sklearn/svm/_base.py:297: ConvergenceWarning: Solver terminated early (max_iter=10000).  Consider pre-processing your data with StandardScaler or MinMaxScaler.\n",
      "  warnings.warn(\n"
     ]
    },
    {
     "name": "stdout",
     "output_type": "stream",
     "text": [
      "[CV 2/5] END svc__C=10, svc__coef0=0, svc__degree=3, svc__gamma=1, svc__kernel=poly; accuracy: (test=0.520) roc_auc: (test=0.533) total time= 1.1min\n"
     ]
    },
    {
     "name": "stderr",
     "output_type": "stream",
     "text": [
      "/home/pochete/studies/2023s2/mo810/mo810-kidney-waitlist/venv/lib/python3.11/site-packages/sklearn/svm/_base.py:297: ConvergenceWarning: Solver terminated early (max_iter=10000).  Consider pre-processing your data with StandardScaler or MinMaxScaler.\n",
      "  warnings.warn(\n"
     ]
    },
    {
     "name": "stdout",
     "output_type": "stream",
     "text": [
      "[CV 3/5] END svc__C=10, svc__coef0=0, svc__degree=3, svc__gamma=1, svc__kernel=poly; accuracy: (test=0.521) roc_auc: (test=0.528) total time= 1.1min\n"
     ]
    },
    {
     "name": "stderr",
     "output_type": "stream",
     "text": [
      "/home/pochete/studies/2023s2/mo810/mo810-kidney-waitlist/venv/lib/python3.11/site-packages/sklearn/svm/_base.py:297: ConvergenceWarning: Solver terminated early (max_iter=10000).  Consider pre-processing your data with StandardScaler or MinMaxScaler.\n",
      "  warnings.warn(\n"
     ]
    },
    {
     "name": "stdout",
     "output_type": "stream",
     "text": [
      "[CV 4/5] END svc__C=10, svc__coef0=0, svc__degree=3, svc__gamma=1, svc__kernel=poly; accuracy: (test=0.520) roc_auc: (test=0.526) total time= 1.1min\n"
     ]
    },
    {
     "name": "stderr",
     "output_type": "stream",
     "text": [
      "/home/pochete/studies/2023s2/mo810/mo810-kidney-waitlist/venv/lib/python3.11/site-packages/sklearn/svm/_base.py:297: ConvergenceWarning: Solver terminated early (max_iter=10000).  Consider pre-processing your data with StandardScaler or MinMaxScaler.\n",
      "  warnings.warn(\n"
     ]
    },
    {
     "name": "stdout",
     "output_type": "stream",
     "text": [
      "[CV 5/5] END svc__C=10, svc__coef0=0, svc__degree=3, svc__gamma=1, svc__kernel=poly; accuracy: (test=0.522) roc_auc: (test=0.530) total time= 1.1min\n"
     ]
    },
    {
     "name": "stderr",
     "output_type": "stream",
     "text": [
      "/home/pochete/studies/2023s2/mo810/mo810-kidney-waitlist/venv/lib/python3.11/site-packages/sklearn/svm/_base.py:297: ConvergenceWarning: Solver terminated early (max_iter=10000).  Consider pre-processing your data with StandardScaler or MinMaxScaler.\n",
      "  warnings.warn(\n"
     ]
    },
    {
     "name": "stdout",
     "output_type": "stream",
     "text": [
      "[CV 1/5] END svc__C=10, svc__coef0=0, svc__degree=3, svc__gamma=2, svc__kernel=poly; accuracy: (test=0.518) roc_auc: (test=0.531) total time= 1.1min\n"
     ]
    },
    {
     "name": "stderr",
     "output_type": "stream",
     "text": [
      "/home/pochete/studies/2023s2/mo810/mo810-kidney-waitlist/venv/lib/python3.11/site-packages/sklearn/svm/_base.py:297: ConvergenceWarning: Solver terminated early (max_iter=10000).  Consider pre-processing your data with StandardScaler or MinMaxScaler.\n",
      "  warnings.warn(\n"
     ]
    },
    {
     "name": "stdout",
     "output_type": "stream",
     "text": [
      "[CV 2/5] END svc__C=10, svc__coef0=0, svc__degree=3, svc__gamma=2, svc__kernel=poly; accuracy: (test=0.520) roc_auc: (test=0.533) total time= 1.1min\n"
     ]
    },
    {
     "name": "stderr",
     "output_type": "stream",
     "text": [
      "/home/pochete/studies/2023s2/mo810/mo810-kidney-waitlist/venv/lib/python3.11/site-packages/sklearn/svm/_base.py:297: ConvergenceWarning: Solver terminated early (max_iter=10000).  Consider pre-processing your data with StandardScaler or MinMaxScaler.\n",
      "  warnings.warn(\n"
     ]
    },
    {
     "name": "stdout",
     "output_type": "stream",
     "text": [
      "[CV 3/5] END svc__C=10, svc__coef0=0, svc__degree=3, svc__gamma=2, svc__kernel=poly; accuracy: (test=0.521) roc_auc: (test=0.528) total time= 1.2min\n"
     ]
    },
    {
     "name": "stderr",
     "output_type": "stream",
     "text": [
      "/home/pochete/studies/2023s2/mo810/mo810-kidney-waitlist/venv/lib/python3.11/site-packages/sklearn/svm/_base.py:297: ConvergenceWarning: Solver terminated early (max_iter=10000).  Consider pre-processing your data with StandardScaler or MinMaxScaler.\n",
      "  warnings.warn(\n"
     ]
    },
    {
     "name": "stdout",
     "output_type": "stream",
     "text": [
      "[CV 4/5] END svc__C=10, svc__coef0=0, svc__degree=3, svc__gamma=2, svc__kernel=poly; accuracy: (test=0.520) roc_auc: (test=0.526) total time= 1.2min\n"
     ]
    },
    {
     "name": "stderr",
     "output_type": "stream",
     "text": [
      "/home/pochete/studies/2023s2/mo810/mo810-kidney-waitlist/venv/lib/python3.11/site-packages/sklearn/svm/_base.py:297: ConvergenceWarning: Solver terminated early (max_iter=10000).  Consider pre-processing your data with StandardScaler or MinMaxScaler.\n",
      "  warnings.warn(\n"
     ]
    },
    {
     "name": "stdout",
     "output_type": "stream",
     "text": [
      "[CV 5/5] END svc__C=10, svc__coef0=0, svc__degree=3, svc__gamma=2, svc__kernel=poly; accuracy: (test=0.522) roc_auc: (test=0.530) total time= 1.1min\n"
     ]
    },
    {
     "name": "stderr",
     "output_type": "stream",
     "text": [
      "/home/pochete/studies/2023s2/mo810/mo810-kidney-waitlist/venv/lib/python3.11/site-packages/sklearn/svm/_base.py:297: ConvergenceWarning: Solver terminated early (max_iter=10000).  Consider pre-processing your data with StandardScaler or MinMaxScaler.\n",
      "  warnings.warn(\n"
     ]
    },
    {
     "name": "stdout",
     "output_type": "stream",
     "text": [
      "[CV 1/5] END svc__C=10, svc__coef0=0, svc__degree=5, svc__gamma=scale, svc__kernel=poly; accuracy: (test=0.539) roc_auc: (test=0.560) total time= 2.0min\n"
     ]
    },
    {
     "name": "stderr",
     "output_type": "stream",
     "text": [
      "/home/pochete/studies/2023s2/mo810/mo810-kidney-waitlist/venv/lib/python3.11/site-packages/sklearn/svm/_base.py:297: ConvergenceWarning: Solver terminated early (max_iter=10000).  Consider pre-processing your data with StandardScaler or MinMaxScaler.\n",
      "  warnings.warn(\n"
     ]
    },
    {
     "name": "stdout",
     "output_type": "stream",
     "text": [
      "[CV 2/5] END svc__C=10, svc__coef0=0, svc__degree=5, svc__gamma=scale, svc__kernel=poly; accuracy: (test=0.537) roc_auc: (test=0.562) total time= 2.0min\n"
     ]
    },
    {
     "name": "stderr",
     "output_type": "stream",
     "text": [
      "/home/pochete/studies/2023s2/mo810/mo810-kidney-waitlist/venv/lib/python3.11/site-packages/sklearn/svm/_base.py:297: ConvergenceWarning: Solver terminated early (max_iter=10000).  Consider pre-processing your data with StandardScaler or MinMaxScaler.\n",
      "  warnings.warn(\n"
     ]
    },
    {
     "name": "stdout",
     "output_type": "stream",
     "text": [
      "[CV 3/5] END svc__C=10, svc__coef0=0, svc__degree=5, svc__gamma=scale, svc__kernel=poly; accuracy: (test=0.539) roc_auc: (test=0.561) total time= 2.0min\n"
     ]
    },
    {
     "name": "stderr",
     "output_type": "stream",
     "text": [
      "/home/pochete/studies/2023s2/mo810/mo810-kidney-waitlist/venv/lib/python3.11/site-packages/sklearn/svm/_base.py:297: ConvergenceWarning: Solver terminated early (max_iter=10000).  Consider pre-processing your data with StandardScaler or MinMaxScaler.\n",
      "  warnings.warn(\n"
     ]
    },
    {
     "name": "stdout",
     "output_type": "stream",
     "text": [
      "[CV 4/5] END svc__C=10, svc__coef0=0, svc__degree=5, svc__gamma=scale, svc__kernel=poly; accuracy: (test=0.543) roc_auc: (test=0.569) total time= 1.9min\n"
     ]
    },
    {
     "name": "stderr",
     "output_type": "stream",
     "text": [
      "/home/pochete/studies/2023s2/mo810/mo810-kidney-waitlist/venv/lib/python3.11/site-packages/sklearn/svm/_base.py:297: ConvergenceWarning: Solver terminated early (max_iter=10000).  Consider pre-processing your data with StandardScaler or MinMaxScaler.\n",
      "  warnings.warn(\n"
     ]
    },
    {
     "name": "stdout",
     "output_type": "stream",
     "text": [
      "[CV 5/5] END svc__C=10, svc__coef0=0, svc__degree=5, svc__gamma=scale, svc__kernel=poly; accuracy: (test=0.538) roc_auc: (test=0.563) total time= 1.8min\n"
     ]
    },
    {
     "name": "stderr",
     "output_type": "stream",
     "text": [
      "/home/pochete/studies/2023s2/mo810/mo810-kidney-waitlist/venv/lib/python3.11/site-packages/sklearn/svm/_base.py:297: ConvergenceWarning: Solver terminated early (max_iter=10000).  Consider pre-processing your data with StandardScaler or MinMaxScaler.\n",
      "  warnings.warn(\n"
     ]
    },
    {
     "name": "stdout",
     "output_type": "stream",
     "text": [
      "[CV 1/5] END svc__C=10, svc__coef0=0, svc__degree=5, svc__gamma=0.1, svc__kernel=poly; accuracy: (test=0.535) roc_auc: (test=0.549) total time= 1.5min\n"
     ]
    },
    {
     "name": "stderr",
     "output_type": "stream",
     "text": [
      "/home/pochete/studies/2023s2/mo810/mo810-kidney-waitlist/venv/lib/python3.11/site-packages/sklearn/svm/_base.py:297: ConvergenceWarning: Solver terminated early (max_iter=10000).  Consider pre-processing your data with StandardScaler or MinMaxScaler.\n",
      "  warnings.warn(\n"
     ]
    },
    {
     "name": "stdout",
     "output_type": "stream",
     "text": [
      "[CV 2/5] END svc__C=10, svc__coef0=0, svc__degree=5, svc__gamma=0.1, svc__kernel=poly; accuracy: (test=0.540) roc_auc: (test=0.556) total time= 1.5min\n"
     ]
    },
    {
     "name": "stderr",
     "output_type": "stream",
     "text": [
      "/home/pochete/studies/2023s2/mo810/mo810-kidney-waitlist/venv/lib/python3.11/site-packages/sklearn/svm/_base.py:297: ConvergenceWarning: Solver terminated early (max_iter=10000).  Consider pre-processing your data with StandardScaler or MinMaxScaler.\n",
      "  warnings.warn(\n"
     ]
    },
    {
     "name": "stdout",
     "output_type": "stream",
     "text": [
      "[CV 3/5] END svc__C=10, svc__coef0=0, svc__degree=5, svc__gamma=0.1, svc__kernel=poly; accuracy: (test=0.531) roc_auc: (test=0.546) total time= 1.4min\n"
     ]
    },
    {
     "name": "stderr",
     "output_type": "stream",
     "text": [
      "/home/pochete/studies/2023s2/mo810/mo810-kidney-waitlist/venv/lib/python3.11/site-packages/sklearn/svm/_base.py:297: ConvergenceWarning: Solver terminated early (max_iter=10000).  Consider pre-processing your data with StandardScaler or MinMaxScaler.\n",
      "  warnings.warn(\n"
     ]
    },
    {
     "name": "stdout",
     "output_type": "stream",
     "text": [
      "[CV 4/5] END svc__C=10, svc__coef0=0, svc__degree=5, svc__gamma=0.1, svc__kernel=poly; accuracy: (test=0.543) roc_auc: (test=0.560) total time= 1.5min\n"
     ]
    },
    {
     "name": "stderr",
     "output_type": "stream",
     "text": [
      "/home/pochete/studies/2023s2/mo810/mo810-kidney-waitlist/venv/lib/python3.11/site-packages/sklearn/svm/_base.py:297: ConvergenceWarning: Solver terminated early (max_iter=10000).  Consider pre-processing your data with StandardScaler or MinMaxScaler.\n",
      "  warnings.warn(\n"
     ]
    },
    {
     "name": "stdout",
     "output_type": "stream",
     "text": [
      "[CV 5/5] END svc__C=10, svc__coef0=0, svc__degree=5, svc__gamma=0.1, svc__kernel=poly; accuracy: (test=0.537) roc_auc: (test=0.551) total time= 1.4min\n"
     ]
    },
    {
     "name": "stderr",
     "output_type": "stream",
     "text": [
      "/home/pochete/studies/2023s2/mo810/mo810-kidney-waitlist/venv/lib/python3.11/site-packages/sklearn/svm/_base.py:297: ConvergenceWarning: Solver terminated early (max_iter=10000).  Consider pre-processing your data with StandardScaler or MinMaxScaler.\n",
      "  warnings.warn(\n"
     ]
    },
    {
     "name": "stdout",
     "output_type": "stream",
     "text": [
      "[CV 1/5] END svc__C=10, svc__coef0=0, svc__degree=5, svc__gamma=1, svc__kernel=poly; accuracy: (test=0.535) roc_auc: (test=0.550) total time= 1.4min\n"
     ]
    },
    {
     "name": "stderr",
     "output_type": "stream",
     "text": [
      "/home/pochete/studies/2023s2/mo810/mo810-kidney-waitlist/venv/lib/python3.11/site-packages/sklearn/svm/_base.py:297: ConvergenceWarning: Solver terminated early (max_iter=10000).  Consider pre-processing your data with StandardScaler or MinMaxScaler.\n",
      "  warnings.warn(\n"
     ]
    },
    {
     "name": "stdout",
     "output_type": "stream",
     "text": [
      "[CV 2/5] END svc__C=10, svc__coef0=0, svc__degree=5, svc__gamma=1, svc__kernel=poly; accuracy: (test=0.538) roc_auc: (test=0.552) total time= 1.4min\n"
     ]
    },
    {
     "name": "stderr",
     "output_type": "stream",
     "text": [
      "/home/pochete/studies/2023s2/mo810/mo810-kidney-waitlist/venv/lib/python3.11/site-packages/sklearn/svm/_base.py:297: ConvergenceWarning: Solver terminated early (max_iter=10000).  Consider pre-processing your data with StandardScaler or MinMaxScaler.\n",
      "  warnings.warn(\n"
     ]
    },
    {
     "name": "stdout",
     "output_type": "stream",
     "text": [
      "[CV 3/5] END svc__C=10, svc__coef0=0, svc__degree=5, svc__gamma=1, svc__kernel=poly; accuracy: (test=0.533) roc_auc: (test=0.546) total time= 1.5min\n"
     ]
    },
    {
     "name": "stderr",
     "output_type": "stream",
     "text": [
      "/home/pochete/studies/2023s2/mo810/mo810-kidney-waitlist/venv/lib/python3.11/site-packages/sklearn/svm/_base.py:297: ConvergenceWarning: Solver terminated early (max_iter=10000).  Consider pre-processing your data with StandardScaler or MinMaxScaler.\n",
      "  warnings.warn(\n"
     ]
    },
    {
     "name": "stdout",
     "output_type": "stream",
     "text": [
      "[CV 4/5] END svc__C=10, svc__coef0=0, svc__degree=5, svc__gamma=1, svc__kernel=poly; accuracy: (test=0.544) roc_auc: (test=0.561) total time= 1.5min\n"
     ]
    },
    {
     "name": "stderr",
     "output_type": "stream",
     "text": [
      "/home/pochete/studies/2023s2/mo810/mo810-kidney-waitlist/venv/lib/python3.11/site-packages/sklearn/svm/_base.py:297: ConvergenceWarning: Solver terminated early (max_iter=10000).  Consider pre-processing your data with StandardScaler or MinMaxScaler.\n",
      "  warnings.warn(\n"
     ]
    },
    {
     "name": "stdout",
     "output_type": "stream",
     "text": [
      "[CV 5/5] END svc__C=10, svc__coef0=0, svc__degree=5, svc__gamma=1, svc__kernel=poly; accuracy: (test=0.537) roc_auc: (test=0.551) total time= 1.6min\n"
     ]
    },
    {
     "name": "stderr",
     "output_type": "stream",
     "text": [
      "/home/pochete/studies/2023s2/mo810/mo810-kidney-waitlist/venv/lib/python3.11/site-packages/sklearn/svm/_base.py:297: ConvergenceWarning: Solver terminated early (max_iter=10000).  Consider pre-processing your data with StandardScaler or MinMaxScaler.\n",
      "  warnings.warn(\n"
     ]
    },
    {
     "name": "stdout",
     "output_type": "stream",
     "text": [
      "[CV 1/5] END svc__C=10, svc__coef0=0, svc__degree=5, svc__gamma=2, svc__kernel=poly; accuracy: (test=0.535) roc_auc: (test=0.550) total time= 1.5min\n"
     ]
    },
    {
     "name": "stderr",
     "output_type": "stream",
     "text": [
      "/home/pochete/studies/2023s2/mo810/mo810-kidney-waitlist/venv/lib/python3.11/site-packages/sklearn/svm/_base.py:297: ConvergenceWarning: Solver terminated early (max_iter=10000).  Consider pre-processing your data with StandardScaler or MinMaxScaler.\n",
      "  warnings.warn(\n"
     ]
    },
    {
     "name": "stdout",
     "output_type": "stream",
     "text": [
      "[CV 2/5] END svc__C=10, svc__coef0=0, svc__degree=5, svc__gamma=2, svc__kernel=poly; accuracy: (test=0.538) roc_auc: (test=0.552) total time= 1.5min\n"
     ]
    },
    {
     "name": "stderr",
     "output_type": "stream",
     "text": [
      "/home/pochete/studies/2023s2/mo810/mo810-kidney-waitlist/venv/lib/python3.11/site-packages/sklearn/svm/_base.py:297: ConvergenceWarning: Solver terminated early (max_iter=10000).  Consider pre-processing your data with StandardScaler or MinMaxScaler.\n",
      "  warnings.warn(\n"
     ]
    },
    {
     "name": "stdout",
     "output_type": "stream",
     "text": [
      "[CV 3/5] END svc__C=10, svc__coef0=0, svc__degree=5, svc__gamma=2, svc__kernel=poly; accuracy: (test=0.533) roc_auc: (test=0.546) total time= 1.4min\n"
     ]
    },
    {
     "name": "stderr",
     "output_type": "stream",
     "text": [
      "/home/pochete/studies/2023s2/mo810/mo810-kidney-waitlist/venv/lib/python3.11/site-packages/sklearn/svm/_base.py:297: ConvergenceWarning: Solver terminated early (max_iter=10000).  Consider pre-processing your data with StandardScaler or MinMaxScaler.\n",
      "  warnings.warn(\n"
     ]
    },
    {
     "name": "stdout",
     "output_type": "stream",
     "text": [
      "[CV 4/5] END svc__C=10, svc__coef0=0, svc__degree=5, svc__gamma=2, svc__kernel=poly; accuracy: (test=0.544) roc_auc: (test=0.561) total time= 1.4min\n"
     ]
    },
    {
     "name": "stderr",
     "output_type": "stream",
     "text": [
      "/home/pochete/studies/2023s2/mo810/mo810-kidney-waitlist/venv/lib/python3.11/site-packages/sklearn/svm/_base.py:297: ConvergenceWarning: Solver terminated early (max_iter=10000).  Consider pre-processing your data with StandardScaler or MinMaxScaler.\n",
      "  warnings.warn(\n"
     ]
    },
    {
     "name": "stdout",
     "output_type": "stream",
     "text": [
      "[CV 5/5] END svc__C=10, svc__coef0=0, svc__degree=5, svc__gamma=2, svc__kernel=poly; accuracy: (test=0.537) roc_auc: (test=0.551) total time= 1.5min\n"
     ]
    },
    {
     "name": "stderr",
     "output_type": "stream",
     "text": [
      "/home/pochete/studies/2023s2/mo810/mo810-kidney-waitlist/venv/lib/python3.11/site-packages/sklearn/svm/_base.py:297: ConvergenceWarning: Solver terminated early (max_iter=10000).  Consider pre-processing your data with StandardScaler or MinMaxScaler.\n",
      "  warnings.warn(\n"
     ]
    },
    {
     "name": "stdout",
     "output_type": "stream",
     "text": [
      "[CV 1/5] END svc__C=10, svc__coef0=-1, svc__degree=3, svc__gamma=scale, svc__kernel=poly; accuracy: (test=0.496) roc_auc: (test=0.495) total time= 2.2min\n"
     ]
    },
    {
     "name": "stderr",
     "output_type": "stream",
     "text": [
      "/home/pochete/studies/2023s2/mo810/mo810-kidney-waitlist/venv/lib/python3.11/site-packages/sklearn/svm/_base.py:297: ConvergenceWarning: Solver terminated early (max_iter=10000).  Consider pre-processing your data with StandardScaler or MinMaxScaler.\n",
      "  warnings.warn(\n"
     ]
    },
    {
     "name": "stdout",
     "output_type": "stream",
     "text": [
      "[CV 2/5] END svc__C=10, svc__coef0=-1, svc__degree=3, svc__gamma=scale, svc__kernel=poly; accuracy: (test=0.488) roc_auc: (test=0.487) total time= 2.2min\n"
     ]
    },
    {
     "name": "stderr",
     "output_type": "stream",
     "text": [
      "/home/pochete/studies/2023s2/mo810/mo810-kidney-waitlist/venv/lib/python3.11/site-packages/sklearn/svm/_base.py:297: ConvergenceWarning: Solver terminated early (max_iter=10000).  Consider pre-processing your data with StandardScaler or MinMaxScaler.\n",
      "  warnings.warn(\n"
     ]
    },
    {
     "name": "stdout",
     "output_type": "stream",
     "text": [
      "[CV 3/5] END svc__C=10, svc__coef0=-1, svc__degree=3, svc__gamma=scale, svc__kernel=poly; accuracy: (test=0.501) roc_auc: (test=0.490) total time= 2.2min\n"
     ]
    },
    {
     "name": "stderr",
     "output_type": "stream",
     "text": [
      "/home/pochete/studies/2023s2/mo810/mo810-kidney-waitlist/venv/lib/python3.11/site-packages/sklearn/svm/_base.py:297: ConvergenceWarning: Solver terminated early (max_iter=10000).  Consider pre-processing your data with StandardScaler or MinMaxScaler.\n",
      "  warnings.warn(\n"
     ]
    },
    {
     "name": "stdout",
     "output_type": "stream",
     "text": [
      "[CV 4/5] END svc__C=10, svc__coef0=-1, svc__degree=3, svc__gamma=scale, svc__kernel=poly; accuracy: (test=0.495) roc_auc: (test=0.489) total time= 2.3min\n"
     ]
    },
    {
     "name": "stderr",
     "output_type": "stream",
     "text": [
      "/home/pochete/studies/2023s2/mo810/mo810-kidney-waitlist/venv/lib/python3.11/site-packages/sklearn/svm/_base.py:297: ConvergenceWarning: Solver terminated early (max_iter=10000).  Consider pre-processing your data with StandardScaler or MinMaxScaler.\n",
      "  warnings.warn(\n"
     ]
    },
    {
     "name": "stdout",
     "output_type": "stream",
     "text": [
      "[CV 5/5] END svc__C=10, svc__coef0=-1, svc__degree=3, svc__gamma=scale, svc__kernel=poly; accuracy: (test=0.497) roc_auc: (test=0.484) total time= 2.2min\n"
     ]
    },
    {
     "name": "stderr",
     "output_type": "stream",
     "text": [
      "/home/pochete/studies/2023s2/mo810/mo810-kidney-waitlist/venv/lib/python3.11/site-packages/sklearn/svm/_base.py:297: ConvergenceWarning: Solver terminated early (max_iter=10000).  Consider pre-processing your data with StandardScaler or MinMaxScaler.\n",
      "  warnings.warn(\n"
     ]
    },
    {
     "name": "stdout",
     "output_type": "stream",
     "text": [
      "[CV 1/5] END svc__C=10, svc__coef0=-1, svc__degree=3, svc__gamma=0.1, svc__kernel=poly; accuracy: (test=0.506) roc_auc: (test=0.511) total time= 2.1min\n"
     ]
    },
    {
     "name": "stderr",
     "output_type": "stream",
     "text": [
      "/home/pochete/studies/2023s2/mo810/mo810-kidney-waitlist/venv/lib/python3.11/site-packages/sklearn/svm/_base.py:297: ConvergenceWarning: Solver terminated early (max_iter=10000).  Consider pre-processing your data with StandardScaler or MinMaxScaler.\n",
      "  warnings.warn(\n"
     ]
    },
    {
     "name": "stdout",
     "output_type": "stream",
     "text": [
      "[CV 2/5] END svc__C=10, svc__coef0=-1, svc__degree=3, svc__gamma=0.1, svc__kernel=poly; accuracy: (test=0.506) roc_auc: (test=0.500) total time= 2.1min\n"
     ]
    },
    {
     "name": "stderr",
     "output_type": "stream",
     "text": [
      "/home/pochete/studies/2023s2/mo810/mo810-kidney-waitlist/venv/lib/python3.11/site-packages/sklearn/svm/_base.py:297: ConvergenceWarning: Solver terminated early (max_iter=10000).  Consider pre-processing your data with StandardScaler or MinMaxScaler.\n",
      "  warnings.warn(\n"
     ]
    },
    {
     "name": "stdout",
     "output_type": "stream",
     "text": [
      "[CV 3/5] END svc__C=10, svc__coef0=-1, svc__degree=3, svc__gamma=0.1, svc__kernel=poly; accuracy: (test=0.506) roc_auc: (test=0.510) total time= 2.1min\n"
     ]
    },
    {
     "name": "stderr",
     "output_type": "stream",
     "text": [
      "/home/pochete/studies/2023s2/mo810/mo810-kidney-waitlist/venv/lib/python3.11/site-packages/sklearn/svm/_base.py:297: ConvergenceWarning: Solver terminated early (max_iter=10000).  Consider pre-processing your data with StandardScaler or MinMaxScaler.\n",
      "  warnings.warn(\n"
     ]
    },
    {
     "name": "stdout",
     "output_type": "stream",
     "text": [
      "[CV 4/5] END svc__C=10, svc__coef0=-1, svc__degree=3, svc__gamma=0.1, svc__kernel=poly; accuracy: (test=0.502) roc_auc: (test=0.500) total time= 2.1min\n"
     ]
    },
    {
     "name": "stderr",
     "output_type": "stream",
     "text": [
      "/home/pochete/studies/2023s2/mo810/mo810-kidney-waitlist/venv/lib/python3.11/site-packages/sklearn/svm/_base.py:297: ConvergenceWarning: Solver terminated early (max_iter=10000).  Consider pre-processing your data with StandardScaler or MinMaxScaler.\n",
      "  warnings.warn(\n"
     ]
    },
    {
     "name": "stdout",
     "output_type": "stream",
     "text": [
      "[CV 5/5] END svc__C=10, svc__coef0=-1, svc__degree=3, svc__gamma=0.1, svc__kernel=poly; accuracy: (test=0.506) roc_auc: (test=0.507) total time= 2.2min\n"
     ]
    },
    {
     "name": "stderr",
     "output_type": "stream",
     "text": [
      "/home/pochete/studies/2023s2/mo810/mo810-kidney-waitlist/venv/lib/python3.11/site-packages/sklearn/svm/_base.py:297: ConvergenceWarning: Solver terminated early (max_iter=10000).  Consider pre-processing your data with StandardScaler or MinMaxScaler.\n",
      "  warnings.warn(\n"
     ]
    },
    {
     "name": "stdout",
     "output_type": "stream",
     "text": [
      "[CV 1/5] END svc__C=10, svc__coef0=-1, svc__degree=3, svc__gamma=1, svc__kernel=poly; accuracy: (test=0.511) roc_auc: (test=0.519) total time=  42.2s\n"
     ]
    },
    {
     "name": "stderr",
     "output_type": "stream",
     "text": [
      "/home/pochete/studies/2023s2/mo810/mo810-kidney-waitlist/venv/lib/python3.11/site-packages/sklearn/svm/_base.py:297: ConvergenceWarning: Solver terminated early (max_iter=10000).  Consider pre-processing your data with StandardScaler or MinMaxScaler.\n",
      "  warnings.warn(\n"
     ]
    },
    {
     "name": "stdout",
     "output_type": "stream",
     "text": [
      "[CV 2/5] END svc__C=10, svc__coef0=-1, svc__degree=3, svc__gamma=1, svc__kernel=poly; accuracy: (test=0.506) roc_auc: (test=0.505) total time=  37.3s\n"
     ]
    },
    {
     "name": "stderr",
     "output_type": "stream",
     "text": [
      "/home/pochete/studies/2023s2/mo810/mo810-kidney-waitlist/venv/lib/python3.11/site-packages/sklearn/svm/_base.py:297: ConvergenceWarning: Solver terminated early (max_iter=10000).  Consider pre-processing your data with StandardScaler or MinMaxScaler.\n",
      "  warnings.warn(\n"
     ]
    },
    {
     "name": "stdout",
     "output_type": "stream",
     "text": [
      "[CV 3/5] END svc__C=10, svc__coef0=-1, svc__degree=3, svc__gamma=1, svc__kernel=poly; accuracy: (test=0.508) roc_auc: (test=0.513) total time=  37.0s\n"
     ]
    },
    {
     "name": "stderr",
     "output_type": "stream",
     "text": [
      "/home/pochete/studies/2023s2/mo810/mo810-kidney-waitlist/venv/lib/python3.11/site-packages/sklearn/svm/_base.py:297: ConvergenceWarning: Solver terminated early (max_iter=10000).  Consider pre-processing your data with StandardScaler or MinMaxScaler.\n",
      "  warnings.warn(\n"
     ]
    },
    {
     "name": "stdout",
     "output_type": "stream",
     "text": [
      "[CV 4/5] END svc__C=10, svc__coef0=-1, svc__degree=3, svc__gamma=1, svc__kernel=poly; accuracy: (test=0.517) roc_auc: (test=0.524) total time=  36.1s\n"
     ]
    },
    {
     "name": "stderr",
     "output_type": "stream",
     "text": [
      "/home/pochete/studies/2023s2/mo810/mo810-kidney-waitlist/venv/lib/python3.11/site-packages/sklearn/svm/_base.py:297: ConvergenceWarning: Solver terminated early (max_iter=10000).  Consider pre-processing your data with StandardScaler or MinMaxScaler.\n",
      "  warnings.warn(\n"
     ]
    },
    {
     "name": "stdout",
     "output_type": "stream",
     "text": [
      "[CV 5/5] END svc__C=10, svc__coef0=-1, svc__degree=3, svc__gamma=1, svc__kernel=poly; accuracy: (test=0.509) roc_auc: (test=0.518) total time=  36.4s\n"
     ]
    },
    {
     "name": "stderr",
     "output_type": "stream",
     "text": [
      "/home/pochete/studies/2023s2/mo810/mo810-kidney-waitlist/venv/lib/python3.11/site-packages/sklearn/svm/_base.py:297: ConvergenceWarning: Solver terminated early (max_iter=10000).  Consider pre-processing your data with StandardScaler or MinMaxScaler.\n",
      "  warnings.warn(\n"
     ]
    },
    {
     "name": "stdout",
     "output_type": "stream",
     "text": [
      "[CV 1/5] END svc__C=10, svc__coef0=-1, svc__degree=3, svc__gamma=2, svc__kernel=poly; accuracy: (test=0.522) roc_auc: (test=0.533) total time= 1.0min\n"
     ]
    },
    {
     "name": "stderr",
     "output_type": "stream",
     "text": [
      "/home/pochete/studies/2023s2/mo810/mo810-kidney-waitlist/venv/lib/python3.11/site-packages/sklearn/svm/_base.py:297: ConvergenceWarning: Solver terminated early (max_iter=10000).  Consider pre-processing your data with StandardScaler or MinMaxScaler.\n",
      "  warnings.warn(\n"
     ]
    },
    {
     "name": "stdout",
     "output_type": "stream",
     "text": [
      "[CV 2/5] END svc__C=10, svc__coef0=-1, svc__degree=3, svc__gamma=2, svc__kernel=poly; accuracy: (test=0.524) roc_auc: (test=0.537) total time= 1.1min\n"
     ]
    },
    {
     "name": "stderr",
     "output_type": "stream",
     "text": [
      "/home/pochete/studies/2023s2/mo810/mo810-kidney-waitlist/venv/lib/python3.11/site-packages/sklearn/svm/_base.py:297: ConvergenceWarning: Solver terminated early (max_iter=10000).  Consider pre-processing your data with StandardScaler or MinMaxScaler.\n",
      "  warnings.warn(\n"
     ]
    },
    {
     "name": "stdout",
     "output_type": "stream",
     "text": [
      "[CV 3/5] END svc__C=10, svc__coef0=-1, svc__degree=3, svc__gamma=2, svc__kernel=poly; accuracy: (test=0.523) roc_auc: (test=0.536) total time= 1.2min\n"
     ]
    },
    {
     "name": "stderr",
     "output_type": "stream",
     "text": [
      "/home/pochete/studies/2023s2/mo810/mo810-kidney-waitlist/venv/lib/python3.11/site-packages/sklearn/svm/_base.py:297: ConvergenceWarning: Solver terminated early (max_iter=10000).  Consider pre-processing your data with StandardScaler or MinMaxScaler.\n",
      "  warnings.warn(\n"
     ]
    },
    {
     "name": "stdout",
     "output_type": "stream",
     "text": [
      "[CV 4/5] END svc__C=10, svc__coef0=-1, svc__degree=3, svc__gamma=2, svc__kernel=poly; accuracy: (test=0.528) roc_auc: (test=0.537) total time= 1.1min\n"
     ]
    },
    {
     "name": "stderr",
     "output_type": "stream",
     "text": [
      "/home/pochete/studies/2023s2/mo810/mo810-kidney-waitlist/venv/lib/python3.11/site-packages/sklearn/svm/_base.py:297: ConvergenceWarning: Solver terminated early (max_iter=10000).  Consider pre-processing your data with StandardScaler or MinMaxScaler.\n",
      "  warnings.warn(\n"
     ]
    },
    {
     "name": "stdout",
     "output_type": "stream",
     "text": [
      "[CV 5/5] END svc__C=10, svc__coef0=-1, svc__degree=3, svc__gamma=2, svc__kernel=poly; accuracy: (test=0.519) roc_auc: (test=0.532) total time= 1.2min\n"
     ]
    },
    {
     "name": "stderr",
     "output_type": "stream",
     "text": [
      "/home/pochete/studies/2023s2/mo810/mo810-kidney-waitlist/venv/lib/python3.11/site-packages/sklearn/svm/_base.py:297: ConvergenceWarning: Solver terminated early (max_iter=10000).  Consider pre-processing your data with StandardScaler or MinMaxScaler.\n",
      "  warnings.warn(\n"
     ]
    },
    {
     "name": "stdout",
     "output_type": "stream",
     "text": [
      "[CV 1/5] END svc__C=10, svc__coef0=-1, svc__degree=5, svc__gamma=scale, svc__kernel=poly; accuracy: (test=0.497) roc_auc: (test=0.496) total time= 2.4min\n"
     ]
    },
    {
     "name": "stderr",
     "output_type": "stream",
     "text": [
      "/home/pochete/studies/2023s2/mo810/mo810-kidney-waitlist/venv/lib/python3.11/site-packages/sklearn/svm/_base.py:297: ConvergenceWarning: Solver terminated early (max_iter=10000).  Consider pre-processing your data with StandardScaler or MinMaxScaler.\n",
      "  warnings.warn(\n"
     ]
    },
    {
     "name": "stdout",
     "output_type": "stream",
     "text": [
      "[CV 2/5] END svc__C=10, svc__coef0=-1, svc__degree=5, svc__gamma=scale, svc__kernel=poly; accuracy: (test=0.498) roc_auc: (test=0.483) total time= 2.6min\n"
     ]
    },
    {
     "name": "stderr",
     "output_type": "stream",
     "text": [
      "/home/pochete/studies/2023s2/mo810/mo810-kidney-waitlist/venv/lib/python3.11/site-packages/sklearn/svm/_base.py:297: ConvergenceWarning: Solver terminated early (max_iter=10000).  Consider pre-processing your data with StandardScaler or MinMaxScaler.\n",
      "  warnings.warn(\n"
     ]
    },
    {
     "name": "stdout",
     "output_type": "stream",
     "text": [
      "[CV 3/5] END svc__C=10, svc__coef0=-1, svc__degree=5, svc__gamma=scale, svc__kernel=poly; accuracy: (test=0.497) roc_auc: (test=0.498) total time= 2.8min\n"
     ]
    },
    {
     "name": "stderr",
     "output_type": "stream",
     "text": [
      "/home/pochete/studies/2023s2/mo810/mo810-kidney-waitlist/venv/lib/python3.11/site-packages/sklearn/svm/_base.py:297: ConvergenceWarning: Solver terminated early (max_iter=10000).  Consider pre-processing your data with StandardScaler or MinMaxScaler.\n",
      "  warnings.warn(\n"
     ]
    },
    {
     "name": "stdout",
     "output_type": "stream",
     "text": [
      "[CV 4/5] END svc__C=10, svc__coef0=-1, svc__degree=5, svc__gamma=scale, svc__kernel=poly; accuracy: (test=0.505) roc_auc: (test=0.496) total time= 2.5min\n"
     ]
    },
    {
     "name": "stderr",
     "output_type": "stream",
     "text": [
      "/home/pochete/studies/2023s2/mo810/mo810-kidney-waitlist/venv/lib/python3.11/site-packages/sklearn/svm/_base.py:297: ConvergenceWarning: Solver terminated early (max_iter=10000).  Consider pre-processing your data with StandardScaler or MinMaxScaler.\n",
      "  warnings.warn(\n"
     ]
    },
    {
     "name": "stdout",
     "output_type": "stream",
     "text": [
      "[CV 5/5] END svc__C=10, svc__coef0=-1, svc__degree=5, svc__gamma=scale, svc__kernel=poly; accuracy: (test=0.498) roc_auc: (test=0.487) total time= 2.5min\n"
     ]
    },
    {
     "name": "stderr",
     "output_type": "stream",
     "text": [
      "/home/pochete/studies/2023s2/mo810/mo810-kidney-waitlist/venv/lib/python3.11/site-packages/sklearn/svm/_base.py:297: ConvergenceWarning: Solver terminated early (max_iter=10000).  Consider pre-processing your data with StandardScaler or MinMaxScaler.\n",
      "  warnings.warn(\n"
     ]
    },
    {
     "name": "stdout",
     "output_type": "stream",
     "text": [
      "[CV 1/5] END svc__C=10, svc__coef0=-1, svc__degree=5, svc__gamma=0.1, svc__kernel=poly; accuracy: (test=0.506) roc_auc: (test=0.506) total time= 2.1min\n"
     ]
    },
    {
     "name": "stderr",
     "output_type": "stream",
     "text": [
      "/home/pochete/studies/2023s2/mo810/mo810-kidney-waitlist/venv/lib/python3.11/site-packages/sklearn/svm/_base.py:297: ConvergenceWarning: Solver terminated early (max_iter=10000).  Consider pre-processing your data with StandardScaler or MinMaxScaler.\n",
      "  warnings.warn(\n"
     ]
    },
    {
     "name": "stdout",
     "output_type": "stream",
     "text": [
      "[CV 2/5] END svc__C=10, svc__coef0=-1, svc__degree=5, svc__gamma=0.1, svc__kernel=poly; accuracy: (test=0.498) roc_auc: (test=0.503) total time= 2.0min\n"
     ]
    },
    {
     "name": "stderr",
     "output_type": "stream",
     "text": [
      "/home/pochete/studies/2023s2/mo810/mo810-kidney-waitlist/venv/lib/python3.11/site-packages/sklearn/svm/_base.py:297: ConvergenceWarning: Solver terminated early (max_iter=10000).  Consider pre-processing your data with StandardScaler or MinMaxScaler.\n",
      "  warnings.warn(\n"
     ]
    },
    {
     "name": "stdout",
     "output_type": "stream",
     "text": [
      "[CV 3/5] END svc__C=10, svc__coef0=-1, svc__degree=5, svc__gamma=0.1, svc__kernel=poly; accuracy: (test=0.499) roc_auc: (test=0.504) total time= 2.3min\n"
     ]
    },
    {
     "name": "stderr",
     "output_type": "stream",
     "text": [
      "/home/pochete/studies/2023s2/mo810/mo810-kidney-waitlist/venv/lib/python3.11/site-packages/sklearn/svm/_base.py:297: ConvergenceWarning: Solver terminated early (max_iter=10000).  Consider pre-processing your data with StandardScaler or MinMaxScaler.\n",
      "  warnings.warn(\n"
     ]
    },
    {
     "name": "stdout",
     "output_type": "stream",
     "text": [
      "[CV 4/5] END svc__C=10, svc__coef0=-1, svc__degree=5, svc__gamma=0.1, svc__kernel=poly; accuracy: (test=0.507) roc_auc: (test=0.510) total time= 2.2min\n"
     ]
    },
    {
     "name": "stderr",
     "output_type": "stream",
     "text": [
      "/home/pochete/studies/2023s2/mo810/mo810-kidney-waitlist/venv/lib/python3.11/site-packages/sklearn/svm/_base.py:297: ConvergenceWarning: Solver terminated early (max_iter=10000).  Consider pre-processing your data with StandardScaler or MinMaxScaler.\n",
      "  warnings.warn(\n"
     ]
    },
    {
     "name": "stdout",
     "output_type": "stream",
     "text": [
      "[CV 5/5] END svc__C=10, svc__coef0=-1, svc__degree=5, svc__gamma=0.1, svc__kernel=poly; accuracy: (test=0.501) roc_auc: (test=0.502) total time= 2.0min\n"
     ]
    },
    {
     "name": "stderr",
     "output_type": "stream",
     "text": [
      "/home/pochete/studies/2023s2/mo810/mo810-kidney-waitlist/venv/lib/python3.11/site-packages/sklearn/svm/_base.py:297: ConvergenceWarning: Solver terminated early (max_iter=10000).  Consider pre-processing your data with StandardScaler or MinMaxScaler.\n",
      "  warnings.warn(\n"
     ]
    },
    {
     "name": "stdout",
     "output_type": "stream",
     "text": [
      "[CV 1/5] END svc__C=10, svc__coef0=-1, svc__degree=5, svc__gamma=1, svc__kernel=poly; accuracy: (test=0.533) roc_auc: (test=0.542) total time= 1.6min\n"
     ]
    },
    {
     "name": "stderr",
     "output_type": "stream",
     "text": [
      "/home/pochete/studies/2023s2/mo810/mo810-kidney-waitlist/venv/lib/python3.11/site-packages/sklearn/svm/_base.py:297: ConvergenceWarning: Solver terminated early (max_iter=10000).  Consider pre-processing your data with StandardScaler or MinMaxScaler.\n",
      "  warnings.warn(\n"
     ]
    },
    {
     "name": "stdout",
     "output_type": "stream",
     "text": [
      "[CV 2/5] END svc__C=10, svc__coef0=-1, svc__degree=5, svc__gamma=1, svc__kernel=poly; accuracy: (test=0.538) roc_auc: (test=0.549) total time= 1.6min\n"
     ]
    },
    {
     "name": "stderr",
     "output_type": "stream",
     "text": [
      "/home/pochete/studies/2023s2/mo810/mo810-kidney-waitlist/venv/lib/python3.11/site-packages/sklearn/svm/_base.py:297: ConvergenceWarning: Solver terminated early (max_iter=10000).  Consider pre-processing your data with StandardScaler or MinMaxScaler.\n",
      "  warnings.warn(\n"
     ]
    },
    {
     "name": "stdout",
     "output_type": "stream",
     "text": [
      "[CV 3/5] END svc__C=10, svc__coef0=-1, svc__degree=5, svc__gamma=1, svc__kernel=poly; accuracy: (test=0.527) roc_auc: (test=0.539) total time= 1.6min\n"
     ]
    },
    {
     "name": "stderr",
     "output_type": "stream",
     "text": [
      "/home/pochete/studies/2023s2/mo810/mo810-kidney-waitlist/venv/lib/python3.11/site-packages/sklearn/svm/_base.py:297: ConvergenceWarning: Solver terminated early (max_iter=10000).  Consider pre-processing your data with StandardScaler or MinMaxScaler.\n",
      "  warnings.warn(\n"
     ]
    },
    {
     "name": "stdout",
     "output_type": "stream",
     "text": [
      "[CV 4/5] END svc__C=10, svc__coef0=-1, svc__degree=5, svc__gamma=1, svc__kernel=poly; accuracy: (test=0.536) roc_auc: (test=0.555) total time= 1.6min\n"
     ]
    },
    {
     "name": "stderr",
     "output_type": "stream",
     "text": [
      "/home/pochete/studies/2023s2/mo810/mo810-kidney-waitlist/venv/lib/python3.11/site-packages/sklearn/svm/_base.py:297: ConvergenceWarning: Solver terminated early (max_iter=10000).  Consider pre-processing your data with StandardScaler or MinMaxScaler.\n",
      "  warnings.warn(\n"
     ]
    },
    {
     "name": "stdout",
     "output_type": "stream",
     "text": [
      "[CV 5/5] END svc__C=10, svc__coef0=-1, svc__degree=5, svc__gamma=1, svc__kernel=poly; accuracy: (test=0.531) roc_auc: (test=0.547) total time= 1.6min\n"
     ]
    },
    {
     "name": "stderr",
     "output_type": "stream",
     "text": [
      "/home/pochete/studies/2023s2/mo810/mo810-kidney-waitlist/venv/lib/python3.11/site-packages/sklearn/svm/_base.py:297: ConvergenceWarning: Solver terminated early (max_iter=10000).  Consider pre-processing your data with StandardScaler or MinMaxScaler.\n",
      "  warnings.warn(\n"
     ]
    },
    {
     "name": "stdout",
     "output_type": "stream",
     "text": [
      "[CV 1/5] END svc__C=10, svc__coef0=-1, svc__degree=5, svc__gamma=2, svc__kernel=poly; accuracy: (test=0.538) roc_auc: (test=0.550) total time= 1.7min\n"
     ]
    },
    {
     "name": "stderr",
     "output_type": "stream",
     "text": [
      "/home/pochete/studies/2023s2/mo810/mo810-kidney-waitlist/venv/lib/python3.11/site-packages/sklearn/svm/_base.py:297: ConvergenceWarning: Solver terminated early (max_iter=10000).  Consider pre-processing your data with StandardScaler or MinMaxScaler.\n",
      "  warnings.warn(\n"
     ]
    },
    {
     "name": "stdout",
     "output_type": "stream",
     "text": [
      "[CV 2/5] END svc__C=10, svc__coef0=-1, svc__degree=5, svc__gamma=2, svc__kernel=poly; accuracy: (test=0.534) roc_auc: (test=0.549) total time= 1.7min\n"
     ]
    },
    {
     "name": "stderr",
     "output_type": "stream",
     "text": [
      "/home/pochete/studies/2023s2/mo810/mo810-kidney-waitlist/venv/lib/python3.11/site-packages/sklearn/svm/_base.py:297: ConvergenceWarning: Solver terminated early (max_iter=10000).  Consider pre-processing your data with StandardScaler or MinMaxScaler.\n",
      "  warnings.warn(\n"
     ]
    },
    {
     "name": "stdout",
     "output_type": "stream",
     "text": [
      "[CV 3/5] END svc__C=10, svc__coef0=-1, svc__degree=5, svc__gamma=2, svc__kernel=poly; accuracy: (test=0.530) roc_auc: (test=0.543) total time= 1.6min\n"
     ]
    },
    {
     "name": "stderr",
     "output_type": "stream",
     "text": [
      "/home/pochete/studies/2023s2/mo810/mo810-kidney-waitlist/venv/lib/python3.11/site-packages/sklearn/svm/_base.py:297: ConvergenceWarning: Solver terminated early (max_iter=10000).  Consider pre-processing your data with StandardScaler or MinMaxScaler.\n",
      "  warnings.warn(\n"
     ]
    },
    {
     "name": "stdout",
     "output_type": "stream",
     "text": [
      "[CV 4/5] END svc__C=10, svc__coef0=-1, svc__degree=5, svc__gamma=2, svc__kernel=poly; accuracy: (test=0.540) roc_auc: (test=0.560) total time= 1.8min\n"
     ]
    },
    {
     "name": "stderr",
     "output_type": "stream",
     "text": [
      "/home/pochete/studies/2023s2/mo810/mo810-kidney-waitlist/venv/lib/python3.11/site-packages/sklearn/svm/_base.py:297: ConvergenceWarning: Solver terminated early (max_iter=10000).  Consider pre-processing your data with StandardScaler or MinMaxScaler.\n",
      "  warnings.warn(\n"
     ]
    },
    {
     "name": "stdout",
     "output_type": "stream",
     "text": [
      "[CV 5/5] END svc__C=10, svc__coef0=-1, svc__degree=5, svc__gamma=2, svc__kernel=poly; accuracy: (test=0.543) roc_auc: (test=0.550) total time= 1.8min\n"
     ]
    },
    {
     "name": "stderr",
     "output_type": "stream",
     "text": [
      "/home/pochete/studies/2023s2/mo810/mo810-kidney-waitlist/venv/lib/python3.11/site-packages/sklearn/svm/_base.py:297: ConvergenceWarning: Solver terminated early (max_iter=10000).  Consider pre-processing your data with StandardScaler or MinMaxScaler.\n",
      "  warnings.warn(\n"
     ]
    },
    {
     "name": "stdout",
     "output_type": "stream",
     "text": [
      "[CV 1/5] END svc__C=10, svc__coef0=1, svc__degree=3, svc__gamma=scale, svc__kernel=poly; accuracy: (test=0.515) roc_auc: (test=0.526) total time= 1.5min\n"
     ]
    },
    {
     "name": "stderr",
     "output_type": "stream",
     "text": [
      "/home/pochete/studies/2023s2/mo810/mo810-kidney-waitlist/venv/lib/python3.11/site-packages/sklearn/svm/_base.py:297: ConvergenceWarning: Solver terminated early (max_iter=10000).  Consider pre-processing your data with StandardScaler or MinMaxScaler.\n",
      "  warnings.warn(\n"
     ]
    },
    {
     "name": "stdout",
     "output_type": "stream",
     "text": [
      "[CV 2/5] END svc__C=10, svc__coef0=1, svc__degree=3, svc__gamma=scale, svc__kernel=poly; accuracy: (test=0.523) roc_auc: (test=0.534) total time= 1.5min\n"
     ]
    },
    {
     "name": "stderr",
     "output_type": "stream",
     "text": [
      "/home/pochete/studies/2023s2/mo810/mo810-kidney-waitlist/venv/lib/python3.11/site-packages/sklearn/svm/_base.py:297: ConvergenceWarning: Solver terminated early (max_iter=10000).  Consider pre-processing your data with StandardScaler or MinMaxScaler.\n",
      "  warnings.warn(\n"
     ]
    },
    {
     "name": "stdout",
     "output_type": "stream",
     "text": [
      "[CV 3/5] END svc__C=10, svc__coef0=1, svc__degree=3, svc__gamma=scale, svc__kernel=poly; accuracy: (test=0.495) roc_auc: (test=0.497) total time= 1.3min\n"
     ]
    },
    {
     "name": "stderr",
     "output_type": "stream",
     "text": [
      "/home/pochete/studies/2023s2/mo810/mo810-kidney-waitlist/venv/lib/python3.11/site-packages/sklearn/svm/_base.py:297: ConvergenceWarning: Solver terminated early (max_iter=10000).  Consider pre-processing your data with StandardScaler or MinMaxScaler.\n",
      "  warnings.warn(\n"
     ]
    },
    {
     "name": "stdout",
     "output_type": "stream",
     "text": [
      "[CV 4/5] END svc__C=10, svc__coef0=1, svc__degree=3, svc__gamma=scale, svc__kernel=poly; accuracy: (test=0.529) roc_auc: (test=0.544) total time= 1.6min\n"
     ]
    },
    {
     "name": "stderr",
     "output_type": "stream",
     "text": [
      "/home/pochete/studies/2023s2/mo810/mo810-kidney-waitlist/venv/lib/python3.11/site-packages/sklearn/svm/_base.py:297: ConvergenceWarning: Solver terminated early (max_iter=10000).  Consider pre-processing your data with StandardScaler or MinMaxScaler.\n",
      "  warnings.warn(\n"
     ]
    },
    {
     "name": "stdout",
     "output_type": "stream",
     "text": [
      "[CV 5/5] END svc__C=10, svc__coef0=1, svc__degree=3, svc__gamma=scale, svc__kernel=poly; accuracy: (test=0.509) roc_auc: (test=0.521) total time= 1.3min\n"
     ]
    },
    {
     "name": "stderr",
     "output_type": "stream",
     "text": [
      "/home/pochete/studies/2023s2/mo810/mo810-kidney-waitlist/venv/lib/python3.11/site-packages/sklearn/svm/_base.py:297: ConvergenceWarning: Solver terminated early (max_iter=10000).  Consider pre-processing your data with StandardScaler or MinMaxScaler.\n",
      "  warnings.warn(\n"
     ]
    },
    {
     "name": "stdout",
     "output_type": "stream",
     "text": [
      "[CV 1/5] END svc__C=10, svc__coef0=1, svc__degree=3, svc__gamma=0.1, svc__kernel=poly; accuracy: (test=0.513) roc_auc: (test=0.521) total time= 1.3min\n"
     ]
    },
    {
     "name": "stderr",
     "output_type": "stream",
     "text": [
      "/home/pochete/studies/2023s2/mo810/mo810-kidney-waitlist/venv/lib/python3.11/site-packages/sklearn/svm/_base.py:297: ConvergenceWarning: Solver terminated early (max_iter=10000).  Consider pre-processing your data with StandardScaler or MinMaxScaler.\n",
      "  warnings.warn(\n"
     ]
    },
    {
     "name": "stdout",
     "output_type": "stream",
     "text": [
      "[CV 2/5] END svc__C=10, svc__coef0=1, svc__degree=3, svc__gamma=0.1, svc__kernel=poly; accuracy: (test=0.520) roc_auc: (test=0.531) total time= 1.5min\n"
     ]
    },
    {
     "name": "stderr",
     "output_type": "stream",
     "text": [
      "/home/pochete/studies/2023s2/mo810/mo810-kidney-waitlist/venv/lib/python3.11/site-packages/sklearn/svm/_base.py:297: ConvergenceWarning: Solver terminated early (max_iter=10000).  Consider pre-processing your data with StandardScaler or MinMaxScaler.\n",
      "  warnings.warn(\n"
     ]
    },
    {
     "name": "stdout",
     "output_type": "stream",
     "text": [
      "[CV 3/5] END svc__C=10, svc__coef0=1, svc__degree=3, svc__gamma=0.1, svc__kernel=poly; accuracy: (test=0.520) roc_auc: (test=0.528) total time= 1.4min\n"
     ]
    },
    {
     "name": "stderr",
     "output_type": "stream",
     "text": [
      "/home/pochete/studies/2023s2/mo810/mo810-kidney-waitlist/venv/lib/python3.11/site-packages/sklearn/svm/_base.py:297: ConvergenceWarning: Solver terminated early (max_iter=10000).  Consider pre-processing your data with StandardScaler or MinMaxScaler.\n",
      "  warnings.warn(\n"
     ]
    },
    {
     "name": "stdout",
     "output_type": "stream",
     "text": [
      "[CV 4/5] END svc__C=10, svc__coef0=1, svc__degree=3, svc__gamma=0.1, svc__kernel=poly; accuracy: (test=0.513) roc_auc: (test=0.528) total time= 1.1min\n"
     ]
    },
    {
     "name": "stderr",
     "output_type": "stream",
     "text": [
      "/home/pochete/studies/2023s2/mo810/mo810-kidney-waitlist/venv/lib/python3.11/site-packages/sklearn/svm/_base.py:297: ConvergenceWarning: Solver terminated early (max_iter=10000).  Consider pre-processing your data with StandardScaler or MinMaxScaler.\n",
      "  warnings.warn(\n"
     ]
    },
    {
     "name": "stdout",
     "output_type": "stream",
     "text": [
      "[CV 5/5] END svc__C=10, svc__coef0=1, svc__degree=3, svc__gamma=0.1, svc__kernel=poly; accuracy: (test=0.523) roc_auc: (test=0.536) total time= 1.3min\n"
     ]
    },
    {
     "name": "stderr",
     "output_type": "stream",
     "text": [
      "/home/pochete/studies/2023s2/mo810/mo810-kidney-waitlist/venv/lib/python3.11/site-packages/sklearn/svm/_base.py:297: ConvergenceWarning: Solver terminated early (max_iter=10000).  Consider pre-processing your data with StandardScaler or MinMaxScaler.\n",
      "  warnings.warn(\n"
     ]
    },
    {
     "name": "stdout",
     "output_type": "stream",
     "text": [
      "[CV 1/5] END svc__C=10, svc__coef0=1, svc__degree=3, svc__gamma=1, svc__kernel=poly; accuracy: (test=0.517) roc_auc: (test=0.528) total time= 1.4min\n"
     ]
    },
    {
     "name": "stderr",
     "output_type": "stream",
     "text": [
      "/home/pochete/studies/2023s2/mo810/mo810-kidney-waitlist/venv/lib/python3.11/site-packages/sklearn/svm/_base.py:297: ConvergenceWarning: Solver terminated early (max_iter=10000).  Consider pre-processing your data with StandardScaler or MinMaxScaler.\n",
      "  warnings.warn(\n"
     ]
    },
    {
     "name": "stdout",
     "output_type": "stream",
     "text": [
      "[CV 2/5] END svc__C=10, svc__coef0=1, svc__degree=3, svc__gamma=1, svc__kernel=poly; accuracy: (test=0.521) roc_auc: (test=0.540) total time= 1.1min\n"
     ]
    },
    {
     "name": "stderr",
     "output_type": "stream",
     "text": [
      "/home/pochete/studies/2023s2/mo810/mo810-kidney-waitlist/venv/lib/python3.11/site-packages/sklearn/svm/_base.py:297: ConvergenceWarning: Solver terminated early (max_iter=10000).  Consider pre-processing your data with StandardScaler or MinMaxScaler.\n",
      "  warnings.warn(\n"
     ]
    },
    {
     "name": "stdout",
     "output_type": "stream",
     "text": [
      "[CV 3/5] END svc__C=10, svc__coef0=1, svc__degree=3, svc__gamma=1, svc__kernel=poly; accuracy: (test=0.518) roc_auc: (test=0.527) total time= 1.1min\n"
     ]
    },
    {
     "name": "stderr",
     "output_type": "stream",
     "text": [
      "/home/pochete/studies/2023s2/mo810/mo810-kidney-waitlist/venv/lib/python3.11/site-packages/sklearn/svm/_base.py:297: ConvergenceWarning: Solver terminated early (max_iter=10000).  Consider pre-processing your data with StandardScaler or MinMaxScaler.\n",
      "  warnings.warn(\n"
     ]
    },
    {
     "name": "stdout",
     "output_type": "stream",
     "text": [
      "[CV 4/5] END svc__C=10, svc__coef0=1, svc__degree=3, svc__gamma=1, svc__kernel=poly; accuracy: (test=0.523) roc_auc: (test=0.537) total time= 1.2min\n"
     ]
    },
    {
     "name": "stderr",
     "output_type": "stream",
     "text": [
      "/home/pochete/studies/2023s2/mo810/mo810-kidney-waitlist/venv/lib/python3.11/site-packages/sklearn/svm/_base.py:297: ConvergenceWarning: Solver terminated early (max_iter=10000).  Consider pre-processing your data with StandardScaler or MinMaxScaler.\n",
      "  warnings.warn(\n"
     ]
    },
    {
     "name": "stdout",
     "output_type": "stream",
     "text": [
      "[CV 5/5] END svc__C=10, svc__coef0=1, svc__degree=3, svc__gamma=1, svc__kernel=poly; accuracy: (test=0.515) roc_auc: (test=0.528) total time= 1.1min\n"
     ]
    },
    {
     "name": "stderr",
     "output_type": "stream",
     "text": [
      "/home/pochete/studies/2023s2/mo810/mo810-kidney-waitlist/venv/lib/python3.11/site-packages/sklearn/svm/_base.py:297: ConvergenceWarning: Solver terminated early (max_iter=10000).  Consider pre-processing your data with StandardScaler or MinMaxScaler.\n",
      "  warnings.warn(\n"
     ]
    },
    {
     "name": "stdout",
     "output_type": "stream",
     "text": [
      "[CV 1/5] END svc__C=10, svc__coef0=1, svc__degree=3, svc__gamma=2, svc__kernel=poly; accuracy: (test=0.526) roc_auc: (test=0.540) total time= 1.2min\n"
     ]
    },
    {
     "name": "stderr",
     "output_type": "stream",
     "text": [
      "/home/pochete/studies/2023s2/mo810/mo810-kidney-waitlist/venv/lib/python3.11/site-packages/sklearn/svm/_base.py:297: ConvergenceWarning: Solver terminated early (max_iter=10000).  Consider pre-processing your data with StandardScaler or MinMaxScaler.\n",
      "  warnings.warn(\n"
     ]
    },
    {
     "name": "stdout",
     "output_type": "stream",
     "text": [
      "[CV 2/5] END svc__C=10, svc__coef0=1, svc__degree=3, svc__gamma=2, svc__kernel=poly; accuracy: (test=0.532) roc_auc: (test=0.544) total time= 1.1min\n"
     ]
    },
    {
     "name": "stderr",
     "output_type": "stream",
     "text": [
      "/home/pochete/studies/2023s2/mo810/mo810-kidney-waitlist/venv/lib/python3.11/site-packages/sklearn/svm/_base.py:297: ConvergenceWarning: Solver terminated early (max_iter=10000).  Consider pre-processing your data with StandardScaler or MinMaxScaler.\n",
      "  warnings.warn(\n"
     ]
    },
    {
     "name": "stdout",
     "output_type": "stream",
     "text": [
      "[CV 3/5] END svc__C=10, svc__coef0=1, svc__degree=3, svc__gamma=2, svc__kernel=poly; accuracy: (test=0.521) roc_auc: (test=0.533) total time= 1.1min\n"
     ]
    },
    {
     "name": "stderr",
     "output_type": "stream",
     "text": [
      "/home/pochete/studies/2023s2/mo810/mo810-kidney-waitlist/venv/lib/python3.11/site-packages/sklearn/svm/_base.py:297: ConvergenceWarning: Solver terminated early (max_iter=10000).  Consider pre-processing your data with StandardScaler or MinMaxScaler.\n",
      "  warnings.warn(\n"
     ]
    },
    {
     "name": "stdout",
     "output_type": "stream",
     "text": [
      "[CV 4/5] END svc__C=10, svc__coef0=1, svc__degree=3, svc__gamma=2, svc__kernel=poly; accuracy: (test=0.529) roc_auc: (test=0.541) total time= 1.1min\n"
     ]
    },
    {
     "name": "stderr",
     "output_type": "stream",
     "text": [
      "/home/pochete/studies/2023s2/mo810/mo810-kidney-waitlist/venv/lib/python3.11/site-packages/sklearn/svm/_base.py:297: ConvergenceWarning: Solver terminated early (max_iter=10000).  Consider pre-processing your data with StandardScaler or MinMaxScaler.\n",
      "  warnings.warn(\n"
     ]
    },
    {
     "name": "stdout",
     "output_type": "stream",
     "text": [
      "[CV 5/5] END svc__C=10, svc__coef0=1, svc__degree=3, svc__gamma=2, svc__kernel=poly; accuracy: (test=0.525) roc_auc: (test=0.534) total time= 1.1min\n"
     ]
    },
    {
     "name": "stderr",
     "output_type": "stream",
     "text": [
      "/home/pochete/studies/2023s2/mo810/mo810-kidney-waitlist/venv/lib/python3.11/site-packages/sklearn/svm/_base.py:297: ConvergenceWarning: Solver terminated early (max_iter=10000).  Consider pre-processing your data with StandardScaler or MinMaxScaler.\n",
      "  warnings.warn(\n"
     ]
    },
    {
     "name": "stdout",
     "output_type": "stream",
     "text": [
      "[CV 1/5] END svc__C=10, svc__coef0=1, svc__degree=5, svc__gamma=scale, svc__kernel=poly; accuracy: (test=0.519) roc_auc: (test=0.530) total time= 1.2min\n"
     ]
    },
    {
     "name": "stderr",
     "output_type": "stream",
     "text": [
      "/home/pochete/studies/2023s2/mo810/mo810-kidney-waitlist/venv/lib/python3.11/site-packages/sklearn/svm/_base.py:297: ConvergenceWarning: Solver terminated early (max_iter=10000).  Consider pre-processing your data with StandardScaler or MinMaxScaler.\n",
      "  warnings.warn(\n"
     ]
    },
    {
     "name": "stdout",
     "output_type": "stream",
     "text": [
      "[CV 2/5] END svc__C=10, svc__coef0=1, svc__degree=5, svc__gamma=scale, svc__kernel=poly; accuracy: (test=0.522) roc_auc: (test=0.532) total time= 1.2min\n"
     ]
    },
    {
     "name": "stderr",
     "output_type": "stream",
     "text": [
      "/home/pochete/studies/2023s2/mo810/mo810-kidney-waitlist/venv/lib/python3.11/site-packages/sklearn/svm/_base.py:297: ConvergenceWarning: Solver terminated early (max_iter=10000).  Consider pre-processing your data with StandardScaler or MinMaxScaler.\n",
      "  warnings.warn(\n"
     ]
    },
    {
     "name": "stdout",
     "output_type": "stream",
     "text": [
      "[CV 3/5] END svc__C=10, svc__coef0=1, svc__degree=5, svc__gamma=scale, svc__kernel=poly; accuracy: (test=0.528) roc_auc: (test=0.535) total time= 1.2min\n"
     ]
    },
    {
     "name": "stderr",
     "output_type": "stream",
     "text": [
      "/home/pochete/studies/2023s2/mo810/mo810-kidney-waitlist/venv/lib/python3.11/site-packages/sklearn/svm/_base.py:297: ConvergenceWarning: Solver terminated early (max_iter=10000).  Consider pre-processing your data with StandardScaler or MinMaxScaler.\n",
      "  warnings.warn(\n"
     ]
    },
    {
     "name": "stdout",
     "output_type": "stream",
     "text": [
      "[CV 4/5] END svc__C=10, svc__coef0=1, svc__degree=5, svc__gamma=scale, svc__kernel=poly; accuracy: (test=0.531) roc_auc: (test=0.552) total time= 1.2min\n"
     ]
    },
    {
     "name": "stderr",
     "output_type": "stream",
     "text": [
      "/home/pochete/studies/2023s2/mo810/mo810-kidney-waitlist/venv/lib/python3.11/site-packages/sklearn/svm/_base.py:297: ConvergenceWarning: Solver terminated early (max_iter=10000).  Consider pre-processing your data with StandardScaler or MinMaxScaler.\n",
      "  warnings.warn(\n"
     ]
    },
    {
     "name": "stdout",
     "output_type": "stream",
     "text": [
      "[CV 5/5] END svc__C=10, svc__coef0=1, svc__degree=5, svc__gamma=scale, svc__kernel=poly; accuracy: (test=0.523) roc_auc: (test=0.534) total time= 1.2min\n"
     ]
    },
    {
     "name": "stderr",
     "output_type": "stream",
     "text": [
      "/home/pochete/studies/2023s2/mo810/mo810-kidney-waitlist/venv/lib/python3.11/site-packages/sklearn/svm/_base.py:297: ConvergenceWarning: Solver terminated early (max_iter=10000).  Consider pre-processing your data with StandardScaler or MinMaxScaler.\n",
      "  warnings.warn(\n"
     ]
    },
    {
     "name": "stdout",
     "output_type": "stream",
     "text": [
      "[CV 1/5] END svc__C=10, svc__coef0=1, svc__degree=5, svc__gamma=0.1, svc__kernel=poly; accuracy: (test=0.542) roc_auc: (test=0.552) total time= 1.3min\n"
     ]
    },
    {
     "name": "stderr",
     "output_type": "stream",
     "text": [
      "/home/pochete/studies/2023s2/mo810/mo810-kidney-waitlist/venv/lib/python3.11/site-packages/sklearn/svm/_base.py:297: ConvergenceWarning: Solver terminated early (max_iter=10000).  Consider pre-processing your data with StandardScaler or MinMaxScaler.\n",
      "  warnings.warn(\n"
     ]
    },
    {
     "name": "stdout",
     "output_type": "stream",
     "text": [
      "[CV 2/5] END svc__C=10, svc__coef0=1, svc__degree=5, svc__gamma=0.1, svc__kernel=poly; accuracy: (test=0.540) roc_auc: (test=0.560) total time= 1.3min\n"
     ]
    },
    {
     "name": "stderr",
     "output_type": "stream",
     "text": [
      "/home/pochete/studies/2023s2/mo810/mo810-kidney-waitlist/venv/lib/python3.11/site-packages/sklearn/svm/_base.py:297: ConvergenceWarning: Solver terminated early (max_iter=10000).  Consider pre-processing your data with StandardScaler or MinMaxScaler.\n",
      "  warnings.warn(\n"
     ]
    },
    {
     "name": "stdout",
     "output_type": "stream",
     "text": [
      "[CV 3/5] END svc__C=10, svc__coef0=1, svc__degree=5, svc__gamma=0.1, svc__kernel=poly; accuracy: (test=0.536) roc_auc: (test=0.548) total time= 1.3min\n"
     ]
    },
    {
     "name": "stderr",
     "output_type": "stream",
     "text": [
      "/home/pochete/studies/2023s2/mo810/mo810-kidney-waitlist/venv/lib/python3.11/site-packages/sklearn/svm/_base.py:297: ConvergenceWarning: Solver terminated early (max_iter=10000).  Consider pre-processing your data with StandardScaler or MinMaxScaler.\n",
      "  warnings.warn(\n"
     ]
    },
    {
     "name": "stdout",
     "output_type": "stream",
     "text": [
      "[CV 4/5] END svc__C=10, svc__coef0=1, svc__degree=5, svc__gamma=0.1, svc__kernel=poly; accuracy: (test=0.535) roc_auc: (test=0.556) total time= 1.3min\n"
     ]
    },
    {
     "name": "stderr",
     "output_type": "stream",
     "text": [
      "/home/pochete/studies/2023s2/mo810/mo810-kidney-waitlist/venv/lib/python3.11/site-packages/sklearn/svm/_base.py:297: ConvergenceWarning: Solver terminated early (max_iter=10000).  Consider pre-processing your data with StandardScaler or MinMaxScaler.\n",
      "  warnings.warn(\n"
     ]
    },
    {
     "name": "stdout",
     "output_type": "stream",
     "text": [
      "[CV 5/5] END svc__C=10, svc__coef0=1, svc__degree=5, svc__gamma=0.1, svc__kernel=poly; accuracy: (test=0.543) roc_auc: (test=0.554) total time= 1.3min\n"
     ]
    },
    {
     "name": "stderr",
     "output_type": "stream",
     "text": [
      "/home/pochete/studies/2023s2/mo810/mo810-kidney-waitlist/venv/lib/python3.11/site-packages/sklearn/svm/_base.py:297: ConvergenceWarning: Solver terminated early (max_iter=10000).  Consider pre-processing your data with StandardScaler or MinMaxScaler.\n",
      "  warnings.warn(\n"
     ]
    },
    {
     "name": "stdout",
     "output_type": "stream",
     "text": [
      "[CV 1/5] END svc__C=10, svc__coef0=1, svc__degree=5, svc__gamma=1, svc__kernel=poly; accuracy: (test=0.537) roc_auc: (test=0.552) total time= 1.5min\n"
     ]
    },
    {
     "name": "stderr",
     "output_type": "stream",
     "text": [
      "/home/pochete/studies/2023s2/mo810/mo810-kidney-waitlist/venv/lib/python3.11/site-packages/sklearn/svm/_base.py:297: ConvergenceWarning: Solver terminated early (max_iter=10000).  Consider pre-processing your data with StandardScaler or MinMaxScaler.\n",
      "  warnings.warn(\n"
     ]
    },
    {
     "name": "stdout",
     "output_type": "stream",
     "text": [
      "[CV 2/5] END svc__C=10, svc__coef0=1, svc__degree=5, svc__gamma=1, svc__kernel=poly; accuracy: (test=0.543) roc_auc: (test=0.556) total time= 1.5min\n"
     ]
    },
    {
     "name": "stderr",
     "output_type": "stream",
     "text": [
      "/home/pochete/studies/2023s2/mo810/mo810-kidney-waitlist/venv/lib/python3.11/site-packages/sklearn/svm/_base.py:297: ConvergenceWarning: Solver terminated early (max_iter=10000).  Consider pre-processing your data with StandardScaler or MinMaxScaler.\n",
      "  warnings.warn(\n"
     ]
    },
    {
     "name": "stdout",
     "output_type": "stream",
     "text": [
      "[CV 3/5] END svc__C=10, svc__coef0=1, svc__degree=5, svc__gamma=1, svc__kernel=poly; accuracy: (test=0.538) roc_auc: (test=0.550) total time= 1.5min\n"
     ]
    },
    {
     "name": "stderr",
     "output_type": "stream",
     "text": [
      "/home/pochete/studies/2023s2/mo810/mo810-kidney-waitlist/venv/lib/python3.11/site-packages/sklearn/svm/_base.py:297: ConvergenceWarning: Solver terminated early (max_iter=10000).  Consider pre-processing your data with StandardScaler or MinMaxScaler.\n",
      "  warnings.warn(\n"
     ]
    },
    {
     "name": "stdout",
     "output_type": "stream",
     "text": [
      "[CV 4/5] END svc__C=10, svc__coef0=1, svc__degree=5, svc__gamma=1, svc__kernel=poly; accuracy: (test=0.549) roc_auc: (test=0.565) total time= 1.5min\n"
     ]
    },
    {
     "name": "stderr",
     "output_type": "stream",
     "text": [
      "/home/pochete/studies/2023s2/mo810/mo810-kidney-waitlist/venv/lib/python3.11/site-packages/sklearn/svm/_base.py:297: ConvergenceWarning: Solver terminated early (max_iter=10000).  Consider pre-processing your data with StandardScaler or MinMaxScaler.\n",
      "  warnings.warn(\n"
     ]
    },
    {
     "name": "stdout",
     "output_type": "stream",
     "text": [
      "[CV 5/5] END svc__C=10, svc__coef0=1, svc__degree=5, svc__gamma=1, svc__kernel=poly; accuracy: (test=0.543) roc_auc: (test=0.559) total time= 1.5min\n"
     ]
    },
    {
     "name": "stderr",
     "output_type": "stream",
     "text": [
      "/home/pochete/studies/2023s2/mo810/mo810-kidney-waitlist/venv/lib/python3.11/site-packages/sklearn/svm/_base.py:297: ConvergenceWarning: Solver terminated early (max_iter=10000).  Consider pre-processing your data with StandardScaler or MinMaxScaler.\n",
      "  warnings.warn(\n"
     ]
    },
    {
     "name": "stdout",
     "output_type": "stream",
     "text": [
      "[CV 1/5] END svc__C=10, svc__coef0=1, svc__degree=5, svc__gamma=2, svc__kernel=poly; accuracy: (test=0.538) roc_auc: (test=0.551) total time= 1.5min\n"
     ]
    },
    {
     "name": "stderr",
     "output_type": "stream",
     "text": [
      "/home/pochete/studies/2023s2/mo810/mo810-kidney-waitlist/venv/lib/python3.11/site-packages/sklearn/svm/_base.py:297: ConvergenceWarning: Solver terminated early (max_iter=10000).  Consider pre-processing your data with StandardScaler or MinMaxScaler.\n",
      "  warnings.warn(\n"
     ]
    },
    {
     "name": "stdout",
     "output_type": "stream",
     "text": [
      "[CV 2/5] END svc__C=10, svc__coef0=1, svc__degree=5, svc__gamma=2, svc__kernel=poly; accuracy: (test=0.540) roc_auc: (test=0.558) total time= 1.5min\n"
     ]
    },
    {
     "name": "stderr",
     "output_type": "stream",
     "text": [
      "/home/pochete/studies/2023s2/mo810/mo810-kidney-waitlist/venv/lib/python3.11/site-packages/sklearn/svm/_base.py:297: ConvergenceWarning: Solver terminated early (max_iter=10000).  Consider pre-processing your data with StandardScaler or MinMaxScaler.\n",
      "  warnings.warn(\n"
     ]
    },
    {
     "name": "stdout",
     "output_type": "stream",
     "text": [
      "[CV 3/5] END svc__C=10, svc__coef0=1, svc__degree=5, svc__gamma=2, svc__kernel=poly; accuracy: (test=0.533) roc_auc: (test=0.547) total time= 1.5min\n"
     ]
    },
    {
     "name": "stderr",
     "output_type": "stream",
     "text": [
      "/home/pochete/studies/2023s2/mo810/mo810-kidney-waitlist/venv/lib/python3.11/site-packages/sklearn/svm/_base.py:297: ConvergenceWarning: Solver terminated early (max_iter=10000).  Consider pre-processing your data with StandardScaler or MinMaxScaler.\n",
      "  warnings.warn(\n"
     ]
    },
    {
     "name": "stdout",
     "output_type": "stream",
     "text": [
      "[CV 4/5] END svc__C=10, svc__coef0=1, svc__degree=5, svc__gamma=2, svc__kernel=poly; accuracy: (test=0.543) roc_auc: (test=0.562) total time= 1.5min\n"
     ]
    },
    {
     "name": "stderr",
     "output_type": "stream",
     "text": [
      "/home/pochete/studies/2023s2/mo810/mo810-kidney-waitlist/venv/lib/python3.11/site-packages/sklearn/svm/_base.py:297: ConvergenceWarning: Solver terminated early (max_iter=10000).  Consider pre-processing your data with StandardScaler or MinMaxScaler.\n",
      "  warnings.warn(\n"
     ]
    },
    {
     "name": "stdout",
     "output_type": "stream",
     "text": [
      "[CV 5/5] END svc__C=10, svc__coef0=1, svc__degree=5, svc__gamma=2, svc__kernel=poly; accuracy: (test=0.544) roc_auc: (test=0.556) total time= 1.5min\n"
     ]
    },
    {
     "name": "stderr",
     "output_type": "stream",
     "text": [
      "/home/pochete/studies/2023s2/mo810/mo810-kidney-waitlist/venv/lib/python3.11/site-packages/sklearn/svm/_base.py:297: ConvergenceWarning: Solver terminated early (max_iter=10000).  Consider pre-processing your data with StandardScaler or MinMaxScaler.\n",
      "  warnings.warn(\n"
     ]
    },
    {
     "name": "stdout",
     "output_type": "stream",
     "text": [
      "[CV 1/5] END svc__C=1, svc__gamma=scale, svc__kernel=rbf; accuracy: (test=0.564) roc_auc: (test=0.598) total time= 2.3min\n"
     ]
    },
    {
     "name": "stderr",
     "output_type": "stream",
     "text": [
      "/home/pochete/studies/2023s2/mo810/mo810-kidney-waitlist/venv/lib/python3.11/site-packages/sklearn/svm/_base.py:297: ConvergenceWarning: Solver terminated early (max_iter=10000).  Consider pre-processing your data with StandardScaler or MinMaxScaler.\n",
      "  warnings.warn(\n"
     ]
    },
    {
     "name": "stdout",
     "output_type": "stream",
     "text": [
      "[CV 2/5] END svc__C=1, svc__gamma=scale, svc__kernel=rbf; accuracy: (test=0.571) roc_auc: (test=0.609) total time= 2.3min\n"
     ]
    },
    {
     "name": "stderr",
     "output_type": "stream",
     "text": [
      "/home/pochete/studies/2023s2/mo810/mo810-kidney-waitlist/venv/lib/python3.11/site-packages/sklearn/svm/_base.py:297: ConvergenceWarning: Solver terminated early (max_iter=10000).  Consider pre-processing your data with StandardScaler or MinMaxScaler.\n",
      "  warnings.warn(\n"
     ]
    },
    {
     "name": "stdout",
     "output_type": "stream",
     "text": [
      "[CV 3/5] END svc__C=1, svc__gamma=scale, svc__kernel=rbf; accuracy: (test=0.575) roc_auc: (test=0.612) total time= 2.3min\n"
     ]
    },
    {
     "name": "stderr",
     "output_type": "stream",
     "text": [
      "/home/pochete/studies/2023s2/mo810/mo810-kidney-waitlist/venv/lib/python3.11/site-packages/sklearn/svm/_base.py:297: ConvergenceWarning: Solver terminated early (max_iter=10000).  Consider pre-processing your data with StandardScaler or MinMaxScaler.\n",
      "  warnings.warn(\n"
     ]
    },
    {
     "name": "stdout",
     "output_type": "stream",
     "text": [
      "[CV 4/5] END svc__C=1, svc__gamma=scale, svc__kernel=rbf; accuracy: (test=0.572) roc_auc: (test=0.609) total time= 2.3min\n"
     ]
    },
    {
     "name": "stderr",
     "output_type": "stream",
     "text": [
      "/home/pochete/studies/2023s2/mo810/mo810-kidney-waitlist/venv/lib/python3.11/site-packages/sklearn/svm/_base.py:297: ConvergenceWarning: Solver terminated early (max_iter=10000).  Consider pre-processing your data with StandardScaler or MinMaxScaler.\n",
      "  warnings.warn(\n"
     ]
    },
    {
     "name": "stdout",
     "output_type": "stream",
     "text": [
      "[CV 5/5] END svc__C=1, svc__gamma=scale, svc__kernel=rbf; accuracy: (test=0.561) roc_auc: (test=0.609) total time= 2.3min\n"
     ]
    },
    {
     "name": "stderr",
     "output_type": "stream",
     "text": [
      "/home/pochete/studies/2023s2/mo810/mo810-kidney-waitlist/venv/lib/python3.11/site-packages/sklearn/svm/_base.py:297: ConvergenceWarning: Solver terminated early (max_iter=10000).  Consider pre-processing your data with StandardScaler or MinMaxScaler.\n",
      "  warnings.warn(\n"
     ]
    },
    {
     "name": "stdout",
     "output_type": "stream",
     "text": [
      "[CV 1/5] END svc__C=1, svc__gamma=scale, svc__kernel=sigmoid; accuracy: (test=0.496) roc_auc: (test=0.490) total time= 2.8min\n"
     ]
    },
    {
     "name": "stderr",
     "output_type": "stream",
     "text": [
      "/home/pochete/studies/2023s2/mo810/mo810-kidney-waitlist/venv/lib/python3.11/site-packages/sklearn/svm/_base.py:297: ConvergenceWarning: Solver terminated early (max_iter=10000).  Consider pre-processing your data with StandardScaler or MinMaxScaler.\n",
      "  warnings.warn(\n"
     ]
    },
    {
     "name": "stdout",
     "output_type": "stream",
     "text": [
      "[CV 2/5] END svc__C=1, svc__gamma=scale, svc__kernel=sigmoid; accuracy: (test=0.519) roc_auc: (test=0.510) total time= 2.7min\n"
     ]
    },
    {
     "name": "stderr",
     "output_type": "stream",
     "text": [
      "/home/pochete/studies/2023s2/mo810/mo810-kidney-waitlist/venv/lib/python3.11/site-packages/sklearn/svm/_base.py:297: ConvergenceWarning: Solver terminated early (max_iter=10000).  Consider pre-processing your data with StandardScaler or MinMaxScaler.\n",
      "  warnings.warn(\n"
     ]
    },
    {
     "name": "stdout",
     "output_type": "stream",
     "text": [
      "[CV 3/5] END svc__C=1, svc__gamma=scale, svc__kernel=sigmoid; accuracy: (test=0.509) roc_auc: (test=0.502) total time= 2.8min\n"
     ]
    },
    {
     "name": "stderr",
     "output_type": "stream",
     "text": [
      "/home/pochete/studies/2023s2/mo810/mo810-kidney-waitlist/venv/lib/python3.11/site-packages/sklearn/svm/_base.py:297: ConvergenceWarning: Solver terminated early (max_iter=10000).  Consider pre-processing your data with StandardScaler or MinMaxScaler.\n",
      "  warnings.warn(\n"
     ]
    },
    {
     "name": "stdout",
     "output_type": "stream",
     "text": [
      "[CV 4/5] END svc__C=1, svc__gamma=scale, svc__kernel=sigmoid; accuracy: (test=0.497) roc_auc: (test=0.484) total time= 3.1min\n"
     ]
    },
    {
     "name": "stderr",
     "output_type": "stream",
     "text": [
      "/home/pochete/studies/2023s2/mo810/mo810-kidney-waitlist/venv/lib/python3.11/site-packages/sklearn/svm/_base.py:297: ConvergenceWarning: Solver terminated early (max_iter=10000).  Consider pre-processing your data with StandardScaler or MinMaxScaler.\n",
      "  warnings.warn(\n"
     ]
    },
    {
     "name": "stdout",
     "output_type": "stream",
     "text": [
      "[CV 5/5] END svc__C=1, svc__gamma=scale, svc__kernel=sigmoid; accuracy: (test=0.514) roc_auc: (test=0.509) total time= 2.8min\n"
     ]
    },
    {
     "name": "stderr",
     "output_type": "stream",
     "text": [
      "/home/pochete/studies/2023s2/mo810/mo810-kidney-waitlist/venv/lib/python3.11/site-packages/sklearn/svm/_base.py:297: ConvergenceWarning: Solver terminated early (max_iter=10000).  Consider pre-processing your data with StandardScaler or MinMaxScaler.\n",
      "  warnings.warn(\n"
     ]
    },
    {
     "name": "stdout",
     "output_type": "stream",
     "text": [
      "[CV 1/5] END svc__C=1, svc__gamma=0.1, svc__kernel=rbf; accuracy: (test=0.570) roc_auc: (test=0.598) total time= 2.3min\n"
     ]
    },
    {
     "name": "stderr",
     "output_type": "stream",
     "text": [
      "/home/pochete/studies/2023s2/mo810/mo810-kidney-waitlist/venv/lib/python3.11/site-packages/sklearn/svm/_base.py:297: ConvergenceWarning: Solver terminated early (max_iter=10000).  Consider pre-processing your data with StandardScaler or MinMaxScaler.\n",
      "  warnings.warn(\n"
     ]
    },
    {
     "name": "stdout",
     "output_type": "stream",
     "text": [
      "[CV 2/5] END svc__C=1, svc__gamma=0.1, svc__kernel=rbf; accuracy: (test=0.580) roc_auc: (test=0.606) total time= 2.5min\n"
     ]
    },
    {
     "name": "stderr",
     "output_type": "stream",
     "text": [
      "/home/pochete/studies/2023s2/mo810/mo810-kidney-waitlist/venv/lib/python3.11/site-packages/sklearn/svm/_base.py:297: ConvergenceWarning: Solver terminated early (max_iter=10000).  Consider pre-processing your data with StandardScaler or MinMaxScaler.\n",
      "  warnings.warn(\n"
     ]
    },
    {
     "name": "stdout",
     "output_type": "stream",
     "text": [
      "[CV 3/5] END svc__C=1, svc__gamma=0.1, svc__kernel=rbf; accuracy: (test=0.582) roc_auc: (test=0.607) total time= 2.3min\n"
     ]
    },
    {
     "name": "stderr",
     "output_type": "stream",
     "text": [
      "/home/pochete/studies/2023s2/mo810/mo810-kidney-waitlist/venv/lib/python3.11/site-packages/sklearn/svm/_base.py:297: ConvergenceWarning: Solver terminated early (max_iter=10000).  Consider pre-processing your data with StandardScaler or MinMaxScaler.\n",
      "  warnings.warn(\n"
     ]
    },
    {
     "name": "stdout",
     "output_type": "stream",
     "text": [
      "[CV 4/5] END svc__C=1, svc__gamma=0.1, svc__kernel=rbf; accuracy: (test=0.576) roc_auc: (test=0.601) total time= 2.3min\n"
     ]
    },
    {
     "name": "stderr",
     "output_type": "stream",
     "text": [
      "/home/pochete/studies/2023s2/mo810/mo810-kidney-waitlist/venv/lib/python3.11/site-packages/sklearn/svm/_base.py:297: ConvergenceWarning: Solver terminated early (max_iter=10000).  Consider pre-processing your data with StandardScaler or MinMaxScaler.\n",
      "  warnings.warn(\n"
     ]
    },
    {
     "name": "stdout",
     "output_type": "stream",
     "text": [
      "[CV 5/5] END svc__C=1, svc__gamma=0.1, svc__kernel=rbf; accuracy: (test=0.590) roc_auc: (test=0.615) total time= 2.4min\n"
     ]
    },
    {
     "name": "stderr",
     "output_type": "stream",
     "text": [
      "/home/pochete/studies/2023s2/mo810/mo810-kidney-waitlist/venv/lib/python3.11/site-packages/sklearn/svm/_base.py:297: ConvergenceWarning: Solver terminated early (max_iter=10000).  Consider pre-processing your data with StandardScaler or MinMaxScaler.\n",
      "  warnings.warn(\n"
     ]
    },
    {
     "name": "stdout",
     "output_type": "stream",
     "text": [
      "[CV 1/5] END svc__C=1, svc__gamma=0.1, svc__kernel=sigmoid; accuracy: (test=0.502) roc_auc: (test=0.494) total time= 2.8min\n"
     ]
    },
    {
     "name": "stderr",
     "output_type": "stream",
     "text": [
      "/home/pochete/studies/2023s2/mo810/mo810-kidney-waitlist/venv/lib/python3.11/site-packages/sklearn/svm/_base.py:297: ConvergenceWarning: Solver terminated early (max_iter=10000).  Consider pre-processing your data with StandardScaler or MinMaxScaler.\n",
      "  warnings.warn(\n"
     ]
    },
    {
     "name": "stdout",
     "output_type": "stream",
     "text": [
      "[CV 2/5] END svc__C=1, svc__gamma=0.1, svc__kernel=sigmoid; accuracy: (test=0.504) roc_auc: (test=0.499) total time= 3.2min\n"
     ]
    },
    {
     "name": "stderr",
     "output_type": "stream",
     "text": [
      "/home/pochete/studies/2023s2/mo810/mo810-kidney-waitlist/venv/lib/python3.11/site-packages/sklearn/svm/_base.py:297: ConvergenceWarning: Solver terminated early (max_iter=10000).  Consider pre-processing your data with StandardScaler or MinMaxScaler.\n",
      "  warnings.warn(\n"
     ]
    },
    {
     "name": "stdout",
     "output_type": "stream",
     "text": [
      "[CV 3/5] END svc__C=1, svc__gamma=0.1, svc__kernel=sigmoid; accuracy: (test=0.503) roc_auc: (test=0.494) total time= 3.5min\n"
     ]
    },
    {
     "name": "stderr",
     "output_type": "stream",
     "text": [
      "/home/pochete/studies/2023s2/mo810/mo810-kidney-waitlist/venv/lib/python3.11/site-packages/sklearn/svm/_base.py:297: ConvergenceWarning: Solver terminated early (max_iter=10000).  Consider pre-processing your data with StandardScaler or MinMaxScaler.\n",
      "  warnings.warn(\n"
     ]
    },
    {
     "name": "stdout",
     "output_type": "stream",
     "text": [
      "[CV 4/5] END svc__C=1, svc__gamma=0.1, svc__kernel=sigmoid; accuracy: (test=0.492) roc_auc: (test=0.481) total time= 3.1min\n"
     ]
    },
    {
     "name": "stderr",
     "output_type": "stream",
     "text": [
      "/home/pochete/studies/2023s2/mo810/mo810-kidney-waitlist/venv/lib/python3.11/site-packages/sklearn/svm/_base.py:297: ConvergenceWarning: Solver terminated early (max_iter=10000).  Consider pre-processing your data with StandardScaler or MinMaxScaler.\n",
      "  warnings.warn(\n"
     ]
    },
    {
     "name": "stdout",
     "output_type": "stream",
     "text": [
      "[CV 5/5] END svc__C=1, svc__gamma=0.1, svc__kernel=sigmoid; accuracy: (test=0.509) roc_auc: (test=0.500) total time= 3.1min\n"
     ]
    },
    {
     "name": "stderr",
     "output_type": "stream",
     "text": [
      "/home/pochete/studies/2023s2/mo810/mo810-kidney-waitlist/venv/lib/python3.11/site-packages/sklearn/svm/_base.py:297: ConvergenceWarning: Solver terminated early (max_iter=10000).  Consider pre-processing your data with StandardScaler or MinMaxScaler.\n",
      "  warnings.warn(\n"
     ]
    },
    {
     "name": "stdout",
     "output_type": "stream",
     "text": [
      "[CV 1/5] END svc__C=1, svc__gamma=1, svc__kernel=rbf; accuracy: (test=0.548) roc_auc: (test=0.540) total time= 2.4min\n"
     ]
    },
    {
     "name": "stderr",
     "output_type": "stream",
     "text": [
      "/home/pochete/studies/2023s2/mo810/mo810-kidney-waitlist/venv/lib/python3.11/site-packages/sklearn/svm/_base.py:297: ConvergenceWarning: Solver terminated early (max_iter=10000).  Consider pre-processing your data with StandardScaler or MinMaxScaler.\n",
      "  warnings.warn(\n"
     ]
    },
    {
     "name": "stdout",
     "output_type": "stream",
     "text": [
      "[CV 2/5] END svc__C=1, svc__gamma=1, svc__kernel=rbf; accuracy: (test=0.544) roc_auc: (test=0.538) total time= 2.5min\n"
     ]
    },
    {
     "name": "stderr",
     "output_type": "stream",
     "text": [
      "/home/pochete/studies/2023s2/mo810/mo810-kidney-waitlist/venv/lib/python3.11/site-packages/sklearn/svm/_base.py:297: ConvergenceWarning: Solver terminated early (max_iter=10000).  Consider pre-processing your data with StandardScaler or MinMaxScaler.\n",
      "  warnings.warn(\n"
     ]
    },
    {
     "name": "stdout",
     "output_type": "stream",
     "text": [
      "[CV 3/5] END svc__C=1, svc__gamma=1, svc__kernel=rbf; accuracy: (test=0.555) roc_auc: (test=0.551) total time= 2.5min\n"
     ]
    },
    {
     "name": "stderr",
     "output_type": "stream",
     "text": [
      "/home/pochete/studies/2023s2/mo810/mo810-kidney-waitlist/venv/lib/python3.11/site-packages/sklearn/svm/_base.py:297: ConvergenceWarning: Solver terminated early (max_iter=10000).  Consider pre-processing your data with StandardScaler or MinMaxScaler.\n",
      "  warnings.warn(\n"
     ]
    },
    {
     "name": "stdout",
     "output_type": "stream",
     "text": [
      "[CV 4/5] END svc__C=1, svc__gamma=1, svc__kernel=rbf; accuracy: (test=0.549) roc_auc: (test=0.544) total time= 2.4min\n"
     ]
    },
    {
     "name": "stderr",
     "output_type": "stream",
     "text": [
      "/home/pochete/studies/2023s2/mo810/mo810-kidney-waitlist/venv/lib/python3.11/site-packages/sklearn/svm/_base.py:297: ConvergenceWarning: Solver terminated early (max_iter=10000).  Consider pre-processing your data with StandardScaler or MinMaxScaler.\n",
      "  warnings.warn(\n"
     ]
    },
    {
     "name": "stdout",
     "output_type": "stream",
     "text": [
      "[CV 5/5] END svc__C=1, svc__gamma=1, svc__kernel=rbf; accuracy: (test=0.544) roc_auc: (test=0.540) total time= 2.7min\n"
     ]
    },
    {
     "name": "stderr",
     "output_type": "stream",
     "text": [
      "/home/pochete/studies/2023s2/mo810/mo810-kidney-waitlist/venv/lib/python3.11/site-packages/sklearn/svm/_base.py:297: ConvergenceWarning: Solver terminated early (max_iter=10000).  Consider pre-processing your data with StandardScaler or MinMaxScaler.\n",
      "  warnings.warn(\n"
     ]
    },
    {
     "name": "stdout",
     "output_type": "stream",
     "text": [
      "[CV 1/5] END svc__C=1, svc__gamma=1, svc__kernel=sigmoid; accuracy: (test=0.508) roc_auc: (test=0.503) total time= 3.9min\n"
     ]
    },
    {
     "name": "stderr",
     "output_type": "stream",
     "text": [
      "/home/pochete/studies/2023s2/mo810/mo810-kidney-waitlist/venv/lib/python3.11/site-packages/sklearn/svm/_base.py:297: ConvergenceWarning: Solver terminated early (max_iter=10000).  Consider pre-processing your data with StandardScaler or MinMaxScaler.\n",
      "  warnings.warn(\n"
     ]
    },
    {
     "name": "stdout",
     "output_type": "stream",
     "text": [
      "[CV 2/5] END svc__C=1, svc__gamma=1, svc__kernel=sigmoid; accuracy: (test=0.506) roc_auc: (test=0.508) total time= 3.9min\n"
     ]
    },
    {
     "name": "stderr",
     "output_type": "stream",
     "text": [
      "/home/pochete/studies/2023s2/mo810/mo810-kidney-waitlist/venv/lib/python3.11/site-packages/sklearn/svm/_base.py:297: ConvergenceWarning: Solver terminated early (max_iter=10000).  Consider pre-processing your data with StandardScaler or MinMaxScaler.\n",
      "  warnings.warn(\n"
     ]
    },
    {
     "name": "stdout",
     "output_type": "stream",
     "text": [
      "[CV 3/5] END svc__C=1, svc__gamma=1, svc__kernel=sigmoid; accuracy: (test=0.508) roc_auc: (test=0.511) total time= 3.7min\n"
     ]
    },
    {
     "name": "stderr",
     "output_type": "stream",
     "text": [
      "/home/pochete/studies/2023s2/mo810/mo810-kidney-waitlist/venv/lib/python3.11/site-packages/sklearn/svm/_base.py:297: ConvergenceWarning: Solver terminated early (max_iter=10000).  Consider pre-processing your data with StandardScaler or MinMaxScaler.\n",
      "  warnings.warn(\n"
     ]
    },
    {
     "name": "stdout",
     "output_type": "stream",
     "text": [
      "[CV 4/5] END svc__C=1, svc__gamma=1, svc__kernel=sigmoid; accuracy: (test=0.510) roc_auc: (test=0.510) total time= 3.7min\n"
     ]
    },
    {
     "name": "stderr",
     "output_type": "stream",
     "text": [
      "/home/pochete/studies/2023s2/mo810/mo810-kidney-waitlist/venv/lib/python3.11/site-packages/sklearn/svm/_base.py:297: ConvergenceWarning: Solver terminated early (max_iter=10000).  Consider pre-processing your data with StandardScaler or MinMaxScaler.\n",
      "  warnings.warn(\n"
     ]
    },
    {
     "name": "stdout",
     "output_type": "stream",
     "text": [
      "[CV 5/5] END svc__C=1, svc__gamma=1, svc__kernel=sigmoid; accuracy: (test=0.512) roc_auc: (test=0.516) total time= 4.0min\n"
     ]
    },
    {
     "name": "stderr",
     "output_type": "stream",
     "text": [
      "/home/pochete/studies/2023s2/mo810/mo810-kidney-waitlist/venv/lib/python3.11/site-packages/sklearn/svm/_base.py:297: ConvergenceWarning: Solver terminated early (max_iter=10000).  Consider pre-processing your data with StandardScaler or MinMaxScaler.\n",
      "  warnings.warn(\n"
     ]
    },
    {
     "name": "stdout",
     "output_type": "stream",
     "text": [
      "[CV 1/5] END svc__C=1, svc__gamma=2, svc__kernel=rbf; accuracy: (test=0.554) roc_auc: (test=0.543) total time= 3.1min\n"
     ]
    },
    {
     "name": "stderr",
     "output_type": "stream",
     "text": [
      "/home/pochete/studies/2023s2/mo810/mo810-kidney-waitlist/venv/lib/python3.11/site-packages/sklearn/svm/_base.py:297: ConvergenceWarning: Solver terminated early (max_iter=10000).  Consider pre-processing your data with StandardScaler or MinMaxScaler.\n",
      "  warnings.warn(\n"
     ]
    },
    {
     "name": "stdout",
     "output_type": "stream",
     "text": [
      "[CV 2/5] END svc__C=1, svc__gamma=2, svc__kernel=rbf; accuracy: (test=0.544) roc_auc: (test=0.538) total time= 3.0min\n"
     ]
    },
    {
     "name": "stderr",
     "output_type": "stream",
     "text": [
      "/home/pochete/studies/2023s2/mo810/mo810-kidney-waitlist/venv/lib/python3.11/site-packages/sklearn/svm/_base.py:297: ConvergenceWarning: Solver terminated early (max_iter=10000).  Consider pre-processing your data with StandardScaler or MinMaxScaler.\n",
      "  warnings.warn(\n"
     ]
    },
    {
     "name": "stdout",
     "output_type": "stream",
     "text": [
      "[CV 3/5] END svc__C=1, svc__gamma=2, svc__kernel=rbf; accuracy: (test=0.551) roc_auc: (test=0.543) total time= 2.5min\n"
     ]
    },
    {
     "name": "stderr",
     "output_type": "stream",
     "text": [
      "/home/pochete/studies/2023s2/mo810/mo810-kidney-waitlist/venv/lib/python3.11/site-packages/sklearn/svm/_base.py:297: ConvergenceWarning: Solver terminated early (max_iter=10000).  Consider pre-processing your data with StandardScaler or MinMaxScaler.\n",
      "  warnings.warn(\n"
     ]
    },
    {
     "name": "stdout",
     "output_type": "stream",
     "text": [
      "[CV 4/5] END svc__C=1, svc__gamma=2, svc__kernel=rbf; accuracy: (test=0.520) roc_auc: (test=0.541) total time= 2.7min\n"
     ]
    },
    {
     "name": "stderr",
     "output_type": "stream",
     "text": [
      "/home/pochete/studies/2023s2/mo810/mo810-kidney-waitlist/venv/lib/python3.11/site-packages/sklearn/svm/_base.py:297: ConvergenceWarning: Solver terminated early (max_iter=10000).  Consider pre-processing your data with StandardScaler or MinMaxScaler.\n",
      "  warnings.warn(\n"
     ]
    },
    {
     "name": "stdout",
     "output_type": "stream",
     "text": [
      "[CV 5/5] END svc__C=1, svc__gamma=2, svc__kernel=rbf; accuracy: (test=0.544) roc_auc: (test=0.541) total time= 2.8min\n"
     ]
    },
    {
     "name": "stderr",
     "output_type": "stream",
     "text": [
      "/home/pochete/studies/2023s2/mo810/mo810-kidney-waitlist/venv/lib/python3.11/site-packages/sklearn/svm/_base.py:297: ConvergenceWarning: Solver terminated early (max_iter=10000).  Consider pre-processing your data with StandardScaler or MinMaxScaler.\n",
      "  warnings.warn(\n"
     ]
    },
    {
     "name": "stdout",
     "output_type": "stream",
     "text": [
      "[CV 1/5] END svc__C=1, svc__gamma=2, svc__kernel=sigmoid; accuracy: (test=0.510) roc_auc: (test=0.506) total time= 3.8min\n"
     ]
    },
    {
     "name": "stderr",
     "output_type": "stream",
     "text": [
      "/home/pochete/studies/2023s2/mo810/mo810-kidney-waitlist/venv/lib/python3.11/site-packages/sklearn/svm/_base.py:297: ConvergenceWarning: Solver terminated early (max_iter=10000).  Consider pre-processing your data with StandardScaler or MinMaxScaler.\n",
      "  warnings.warn(\n"
     ]
    },
    {
     "name": "stdout",
     "output_type": "stream",
     "text": [
      "[CV 2/5] END svc__C=1, svc__gamma=2, svc__kernel=sigmoid; accuracy: (test=0.514) roc_auc: (test=0.512) total time= 3.9min\n"
     ]
    },
    {
     "name": "stderr",
     "output_type": "stream",
     "text": [
      "/home/pochete/studies/2023s2/mo810/mo810-kidney-waitlist/venv/lib/python3.11/site-packages/sklearn/svm/_base.py:297: ConvergenceWarning: Solver terminated early (max_iter=10000).  Consider pre-processing your data with StandardScaler or MinMaxScaler.\n",
      "  warnings.warn(\n"
     ]
    },
    {
     "name": "stdout",
     "output_type": "stream",
     "text": [
      "[CV 3/5] END svc__C=1, svc__gamma=2, svc__kernel=sigmoid; accuracy: (test=0.516) roc_auc: (test=0.518) total time= 3.8min\n"
     ]
    },
    {
     "name": "stderr",
     "output_type": "stream",
     "text": [
      "/home/pochete/studies/2023s2/mo810/mo810-kidney-waitlist/venv/lib/python3.11/site-packages/sklearn/svm/_base.py:297: ConvergenceWarning: Solver terminated early (max_iter=10000).  Consider pre-processing your data with StandardScaler or MinMaxScaler.\n",
      "  warnings.warn(\n"
     ]
    },
    {
     "name": "stdout",
     "output_type": "stream",
     "text": [
      "[CV 4/5] END svc__C=1, svc__gamma=2, svc__kernel=sigmoid; accuracy: (test=0.504) roc_auc: (test=0.501) total time= 3.7min\n"
     ]
    },
    {
     "name": "stderr",
     "output_type": "stream",
     "text": [
      "/home/pochete/studies/2023s2/mo810/mo810-kidney-waitlist/venv/lib/python3.11/site-packages/sklearn/svm/_base.py:297: ConvergenceWarning: Solver terminated early (max_iter=10000).  Consider pre-processing your data with StandardScaler or MinMaxScaler.\n",
      "  warnings.warn(\n"
     ]
    },
    {
     "name": "stdout",
     "output_type": "stream",
     "text": [
      "[CV 5/5] END svc__C=1, svc__gamma=2, svc__kernel=sigmoid; accuracy: (test=0.515) roc_auc: (test=0.521) total time= 3.3min\n"
     ]
    },
    {
     "name": "stderr",
     "output_type": "stream",
     "text": [
      "/home/pochete/studies/2023s2/mo810/mo810-kidney-waitlist/venv/lib/python3.11/site-packages/sklearn/svm/_base.py:297: ConvergenceWarning: Solver terminated early (max_iter=10000).  Consider pre-processing your data with StandardScaler or MinMaxScaler.\n",
      "  warnings.warn(\n"
     ]
    },
    {
     "name": "stdout",
     "output_type": "stream",
     "text": [
      "[CV 1/5] END svc__C=10, svc__gamma=scale, svc__kernel=rbf; accuracy: (test=0.547) roc_auc: (test=0.572) total time= 1.8min\n"
     ]
    },
    {
     "name": "stderr",
     "output_type": "stream",
     "text": [
      "/home/pochete/studies/2023s2/mo810/mo810-kidney-waitlist/venv/lib/python3.11/site-packages/sklearn/svm/_base.py:297: ConvergenceWarning: Solver terminated early (max_iter=10000).  Consider pre-processing your data with StandardScaler or MinMaxScaler.\n",
      "  warnings.warn(\n"
     ]
    },
    {
     "name": "stdout",
     "output_type": "stream",
     "text": [
      "[CV 2/5] END svc__C=10, svc__gamma=scale, svc__kernel=rbf; accuracy: (test=0.531) roc_auc: (test=0.549) total time= 1.8min\n"
     ]
    },
    {
     "name": "stderr",
     "output_type": "stream",
     "text": [
      "/home/pochete/studies/2023s2/mo810/mo810-kidney-waitlist/venv/lib/python3.11/site-packages/sklearn/svm/_base.py:297: ConvergenceWarning: Solver terminated early (max_iter=10000).  Consider pre-processing your data with StandardScaler or MinMaxScaler.\n",
      "  warnings.warn(\n"
     ]
    },
    {
     "name": "stdout",
     "output_type": "stream",
     "text": [
      "[CV 3/5] END svc__C=10, svc__gamma=scale, svc__kernel=rbf; accuracy: (test=0.546) roc_auc: (test=0.566) total time= 1.9min\n"
     ]
    },
    {
     "name": "stderr",
     "output_type": "stream",
     "text": [
      "/home/pochete/studies/2023s2/mo810/mo810-kidney-waitlist/venv/lib/python3.11/site-packages/sklearn/svm/_base.py:297: ConvergenceWarning: Solver terminated early (max_iter=10000).  Consider pre-processing your data with StandardScaler or MinMaxScaler.\n",
      "  warnings.warn(\n"
     ]
    },
    {
     "name": "stdout",
     "output_type": "stream",
     "text": [
      "[CV 4/5] END svc__C=10, svc__gamma=scale, svc__kernel=rbf; accuracy: (test=0.538) roc_auc: (test=0.554) total time= 1.8min\n"
     ]
    },
    {
     "name": "stderr",
     "output_type": "stream",
     "text": [
      "/home/pochete/studies/2023s2/mo810/mo810-kidney-waitlist/venv/lib/python3.11/site-packages/sklearn/svm/_base.py:297: ConvergenceWarning: Solver terminated early (max_iter=10000).  Consider pre-processing your data with StandardScaler or MinMaxScaler.\n",
      "  warnings.warn(\n"
     ]
    },
    {
     "name": "stdout",
     "output_type": "stream",
     "text": [
      "[CV 5/5] END svc__C=10, svc__gamma=scale, svc__kernel=rbf; accuracy: (test=0.539) roc_auc: (test=0.557) total time= 1.8min\n"
     ]
    },
    {
     "name": "stderr",
     "output_type": "stream",
     "text": [
      "/home/pochete/studies/2023s2/mo810/mo810-kidney-waitlist/venv/lib/python3.11/site-packages/sklearn/svm/_base.py:297: ConvergenceWarning: Solver terminated early (max_iter=10000).  Consider pre-processing your data with StandardScaler or MinMaxScaler.\n",
      "  warnings.warn(\n"
     ]
    },
    {
     "name": "stdout",
     "output_type": "stream",
     "text": [
      "[CV 1/5] END svc__C=10, svc__gamma=scale, svc__kernel=sigmoid; accuracy: (test=0.505) roc_auc: (test=0.490) total time= 3.0min\n"
     ]
    },
    {
     "name": "stderr",
     "output_type": "stream",
     "text": [
      "/home/pochete/studies/2023s2/mo810/mo810-kidney-waitlist/venv/lib/python3.11/site-packages/sklearn/svm/_base.py:297: ConvergenceWarning: Solver terminated early (max_iter=10000).  Consider pre-processing your data with StandardScaler or MinMaxScaler.\n",
      "  warnings.warn(\n"
     ]
    },
    {
     "name": "stdout",
     "output_type": "stream",
     "text": [
      "[CV 2/5] END svc__C=10, svc__gamma=scale, svc__kernel=sigmoid; accuracy: (test=0.508) roc_auc: (test=0.494) total time= 2.8min\n"
     ]
    },
    {
     "name": "stderr",
     "output_type": "stream",
     "text": [
      "/home/pochete/studies/2023s2/mo810/mo810-kidney-waitlist/venv/lib/python3.11/site-packages/sklearn/svm/_base.py:297: ConvergenceWarning: Solver terminated early (max_iter=10000).  Consider pre-processing your data with StandardScaler or MinMaxScaler.\n",
      "  warnings.warn(\n"
     ]
    },
    {
     "name": "stdout",
     "output_type": "stream",
     "text": [
      "[CV 3/5] END svc__C=10, svc__gamma=scale, svc__kernel=sigmoid; accuracy: (test=0.507) roc_auc: (test=0.493) total time= 2.8min\n"
     ]
    },
    {
     "name": "stderr",
     "output_type": "stream",
     "text": [
      "/home/pochete/studies/2023s2/mo810/mo810-kidney-waitlist/venv/lib/python3.11/site-packages/sklearn/svm/_base.py:297: ConvergenceWarning: Solver terminated early (max_iter=10000).  Consider pre-processing your data with StandardScaler or MinMaxScaler.\n",
      "  warnings.warn(\n"
     ]
    },
    {
     "name": "stdout",
     "output_type": "stream",
     "text": [
      "[CV 4/5] END svc__C=10, svc__gamma=scale, svc__kernel=sigmoid; accuracy: (test=0.508) roc_auc: (test=0.496) total time= 2.7min\n"
     ]
    },
    {
     "name": "stderr",
     "output_type": "stream",
     "text": [
      "/home/pochete/studies/2023s2/mo810/mo810-kidney-waitlist/venv/lib/python3.11/site-packages/sklearn/svm/_base.py:297: ConvergenceWarning: Solver terminated early (max_iter=10000).  Consider pre-processing your data with StandardScaler or MinMaxScaler.\n",
      "  warnings.warn(\n"
     ]
    },
    {
     "name": "stdout",
     "output_type": "stream",
     "text": [
      "[CV 5/5] END svc__C=10, svc__gamma=scale, svc__kernel=sigmoid; accuracy: (test=0.518) roc_auc: (test=0.502) total time= 2.7min\n"
     ]
    },
    {
     "name": "stderr",
     "output_type": "stream",
     "text": [
      "/home/pochete/studies/2023s2/mo810/mo810-kidney-waitlist/venv/lib/python3.11/site-packages/sklearn/svm/_base.py:297: ConvergenceWarning: Solver terminated early (max_iter=10000).  Consider pre-processing your data with StandardScaler or MinMaxScaler.\n",
      "  warnings.warn(\n"
     ]
    },
    {
     "name": "stdout",
     "output_type": "stream",
     "text": [
      "[CV 1/5] END svc__C=10, svc__gamma=0.1, svc__kernel=rbf; accuracy: (test=0.568) roc_auc: (test=0.592) total time= 2.3min\n"
     ]
    },
    {
     "name": "stderr",
     "output_type": "stream",
     "text": [
      "/home/pochete/studies/2023s2/mo810/mo810-kidney-waitlist/venv/lib/python3.11/site-packages/sklearn/svm/_base.py:297: ConvergenceWarning: Solver terminated early (max_iter=10000).  Consider pre-processing your data with StandardScaler or MinMaxScaler.\n",
      "  warnings.warn(\n"
     ]
    },
    {
     "name": "stdout",
     "output_type": "stream",
     "text": [
      "[CV 2/5] END svc__C=10, svc__gamma=0.1, svc__kernel=rbf; accuracy: (test=0.567) roc_auc: (test=0.586) total time= 2.2min\n"
     ]
    },
    {
     "name": "stderr",
     "output_type": "stream",
     "text": [
      "/home/pochete/studies/2023s2/mo810/mo810-kidney-waitlist/venv/lib/python3.11/site-packages/sklearn/svm/_base.py:297: ConvergenceWarning: Solver terminated early (max_iter=10000).  Consider pre-processing your data with StandardScaler or MinMaxScaler.\n",
      "  warnings.warn(\n"
     ]
    },
    {
     "name": "stdout",
     "output_type": "stream",
     "text": [
      "[CV 3/5] END svc__C=10, svc__gamma=0.1, svc__kernel=rbf; accuracy: (test=0.572) roc_auc: (test=0.596) total time= 2.3min\n"
     ]
    },
    {
     "name": "stderr",
     "output_type": "stream",
     "text": [
      "/home/pochete/studies/2023s2/mo810/mo810-kidney-waitlist/venv/lib/python3.11/site-packages/sklearn/svm/_base.py:297: ConvergenceWarning: Solver terminated early (max_iter=10000).  Consider pre-processing your data with StandardScaler or MinMaxScaler.\n",
      "  warnings.warn(\n"
     ]
    },
    {
     "name": "stdout",
     "output_type": "stream",
     "text": [
      "[CV 4/5] END svc__C=10, svc__gamma=0.1, svc__kernel=rbf; accuracy: (test=0.577) roc_auc: (test=0.597) total time= 2.2min\n"
     ]
    },
    {
     "name": "stderr",
     "output_type": "stream",
     "text": [
      "/home/pochete/studies/2023s2/mo810/mo810-kidney-waitlist/venv/lib/python3.11/site-packages/sklearn/svm/_base.py:297: ConvergenceWarning: Solver terminated early (max_iter=10000).  Consider pre-processing your data with StandardScaler or MinMaxScaler.\n",
      "  warnings.warn(\n"
     ]
    },
    {
     "name": "stdout",
     "output_type": "stream",
     "text": [
      "[CV 5/5] END svc__C=10, svc__gamma=0.1, svc__kernel=rbf; accuracy: (test=0.586) roc_auc: (test=0.605) total time= 2.2min\n"
     ]
    },
    {
     "name": "stderr",
     "output_type": "stream",
     "text": [
      "/home/pochete/studies/2023s2/mo810/mo810-kidney-waitlist/venv/lib/python3.11/site-packages/sklearn/svm/_base.py:297: ConvergenceWarning: Solver terminated early (max_iter=10000).  Consider pre-processing your data with StandardScaler or MinMaxScaler.\n",
      "  warnings.warn(\n"
     ]
    },
    {
     "name": "stdout",
     "output_type": "stream",
     "text": [
      "[CV 1/5] END svc__C=10, svc__gamma=0.1, svc__kernel=sigmoid; accuracy: (test=0.511) roc_auc: (test=0.497) total time= 2.8min\n"
     ]
    },
    {
     "name": "stderr",
     "output_type": "stream",
     "text": [
      "/home/pochete/studies/2023s2/mo810/mo810-kidney-waitlist/venv/lib/python3.11/site-packages/sklearn/svm/_base.py:297: ConvergenceWarning: Solver terminated early (max_iter=10000).  Consider pre-processing your data with StandardScaler or MinMaxScaler.\n",
      "  warnings.warn(\n"
     ]
    },
    {
     "name": "stdout",
     "output_type": "stream",
     "text": [
      "[CV 2/5] END svc__C=10, svc__gamma=0.1, svc__kernel=sigmoid; accuracy: (test=0.506) roc_auc: (test=0.502) total time= 2.8min\n"
     ]
    },
    {
     "name": "stderr",
     "output_type": "stream",
     "text": [
      "/home/pochete/studies/2023s2/mo810/mo810-kidney-waitlist/venv/lib/python3.11/site-packages/sklearn/svm/_base.py:297: ConvergenceWarning: Solver terminated early (max_iter=10000).  Consider pre-processing your data with StandardScaler or MinMaxScaler.\n",
      "  warnings.warn(\n"
     ]
    },
    {
     "name": "stdout",
     "output_type": "stream",
     "text": [
      "[CV 3/5] END svc__C=10, svc__gamma=0.1, svc__kernel=sigmoid; accuracy: (test=0.503) roc_auc: (test=0.499) total time= 2.9min\n"
     ]
    },
    {
     "name": "stderr",
     "output_type": "stream",
     "text": [
      "/home/pochete/studies/2023s2/mo810/mo810-kidney-waitlist/venv/lib/python3.11/site-packages/sklearn/svm/_base.py:297: ConvergenceWarning: Solver terminated early (max_iter=10000).  Consider pre-processing your data with StandardScaler or MinMaxScaler.\n",
      "  warnings.warn(\n"
     ]
    },
    {
     "name": "stdout",
     "output_type": "stream",
     "text": [
      "[CV 4/5] END svc__C=10, svc__gamma=0.1, svc__kernel=sigmoid; accuracy: (test=0.505) roc_auc: (test=0.496) total time= 2.8min\n"
     ]
    },
    {
     "name": "stderr",
     "output_type": "stream",
     "text": [
      "/home/pochete/studies/2023s2/mo810/mo810-kidney-waitlist/venv/lib/python3.11/site-packages/sklearn/svm/_base.py:297: ConvergenceWarning: Solver terminated early (max_iter=10000).  Consider pre-processing your data with StandardScaler or MinMaxScaler.\n",
      "  warnings.warn(\n"
     ]
    },
    {
     "name": "stdout",
     "output_type": "stream",
     "text": [
      "[CV 5/5] END svc__C=10, svc__gamma=0.1, svc__kernel=sigmoid; accuracy: (test=0.507) roc_auc: (test=0.499) total time= 2.8min\n"
     ]
    },
    {
     "name": "stderr",
     "output_type": "stream",
     "text": [
      "/home/pochete/studies/2023s2/mo810/mo810-kidney-waitlist/venv/lib/python3.11/site-packages/sklearn/svm/_base.py:297: ConvergenceWarning: Solver terminated early (max_iter=10000).  Consider pre-processing your data with StandardScaler or MinMaxScaler.\n",
      "  warnings.warn(\n"
     ]
    },
    {
     "name": "stdout",
     "output_type": "stream",
     "text": [
      "[CV 1/5] END svc__C=10, svc__gamma=1, svc__kernel=rbf; accuracy: (test=0.507) roc_auc: (test=0.540) total time= 2.2min\n"
     ]
    },
    {
     "name": "stderr",
     "output_type": "stream",
     "text": [
      "/home/pochete/studies/2023s2/mo810/mo810-kidney-waitlist/venv/lib/python3.11/site-packages/sklearn/svm/_base.py:297: ConvergenceWarning: Solver terminated early (max_iter=10000).  Consider pre-processing your data with StandardScaler or MinMaxScaler.\n",
      "  warnings.warn(\n"
     ]
    },
    {
     "name": "stdout",
     "output_type": "stream",
     "text": [
      "[CV 2/5] END svc__C=10, svc__gamma=1, svc__kernel=rbf; accuracy: (test=0.502) roc_auc: (test=0.537) total time= 2.3min\n"
     ]
    },
    {
     "name": "stderr",
     "output_type": "stream",
     "text": [
      "/home/pochete/studies/2023s2/mo810/mo810-kidney-waitlist/venv/lib/python3.11/site-packages/sklearn/svm/_base.py:297: ConvergenceWarning: Solver terminated early (max_iter=10000).  Consider pre-processing your data with StandardScaler or MinMaxScaler.\n",
      "  warnings.warn(\n"
     ]
    },
    {
     "name": "stdout",
     "output_type": "stream",
     "text": [
      "[CV 3/5] END svc__C=10, svc__gamma=1, svc__kernel=rbf; accuracy: (test=0.505) roc_auc: (test=0.551) total time= 2.3min\n"
     ]
    },
    {
     "name": "stderr",
     "output_type": "stream",
     "text": [
      "/home/pochete/studies/2023s2/mo810/mo810-kidney-waitlist/venv/lib/python3.11/site-packages/sklearn/svm/_base.py:297: ConvergenceWarning: Solver terminated early (max_iter=10000).  Consider pre-processing your data with StandardScaler or MinMaxScaler.\n",
      "  warnings.warn(\n"
     ]
    },
    {
     "name": "stdout",
     "output_type": "stream",
     "text": [
      "[CV 4/5] END svc__C=10, svc__gamma=1, svc__kernel=rbf; accuracy: (test=0.507) roc_auc: (test=0.544) total time= 2.2min\n"
     ]
    },
    {
     "name": "stderr",
     "output_type": "stream",
     "text": [
      "/home/pochete/studies/2023s2/mo810/mo810-kidney-waitlist/venv/lib/python3.11/site-packages/sklearn/svm/_base.py:297: ConvergenceWarning: Solver terminated early (max_iter=10000).  Consider pre-processing your data with StandardScaler or MinMaxScaler.\n",
      "  warnings.warn(\n"
     ]
    },
    {
     "name": "stdout",
     "output_type": "stream",
     "text": [
      "[CV 5/5] END svc__C=10, svc__gamma=1, svc__kernel=rbf; accuracy: (test=0.507) roc_auc: (test=0.539) total time= 2.2min\n"
     ]
    },
    {
     "name": "stderr",
     "output_type": "stream",
     "text": [
      "/home/pochete/studies/2023s2/mo810/mo810-kidney-waitlist/venv/lib/python3.11/site-packages/sklearn/svm/_base.py:297: ConvergenceWarning: Solver terminated early (max_iter=10000).  Consider pre-processing your data with StandardScaler or MinMaxScaler.\n",
      "  warnings.warn(\n"
     ]
    },
    {
     "name": "stdout",
     "output_type": "stream",
     "text": [
      "[CV 1/5] END svc__C=10, svc__gamma=1, svc__kernel=sigmoid; accuracy: (test=0.503) roc_auc: (test=0.507) total time= 3.0min\n"
     ]
    },
    {
     "name": "stderr",
     "output_type": "stream",
     "text": [
      "/home/pochete/studies/2023s2/mo810/mo810-kidney-waitlist/venv/lib/python3.11/site-packages/sklearn/svm/_base.py:297: ConvergenceWarning: Solver terminated early (max_iter=10000).  Consider pre-processing your data with StandardScaler or MinMaxScaler.\n",
      "  warnings.warn(\n"
     ]
    },
    {
     "name": "stdout",
     "output_type": "stream",
     "text": [
      "[CV 2/5] END svc__C=10, svc__gamma=1, svc__kernel=sigmoid; accuracy: (test=0.508) roc_auc: (test=0.507) total time= 3.0min\n"
     ]
    },
    {
     "name": "stderr",
     "output_type": "stream",
     "text": [
      "/home/pochete/studies/2023s2/mo810/mo810-kidney-waitlist/venv/lib/python3.11/site-packages/sklearn/svm/_base.py:297: ConvergenceWarning: Solver terminated early (max_iter=10000).  Consider pre-processing your data with StandardScaler or MinMaxScaler.\n",
      "  warnings.warn(\n"
     ]
    },
    {
     "name": "stdout",
     "output_type": "stream",
     "text": [
      "[CV 3/5] END svc__C=10, svc__gamma=1, svc__kernel=sigmoid; accuracy: (test=0.503) roc_auc: (test=0.507) total time= 3.1min\n"
     ]
    },
    {
     "name": "stderr",
     "output_type": "stream",
     "text": [
      "/home/pochete/studies/2023s2/mo810/mo810-kidney-waitlist/venv/lib/python3.11/site-packages/sklearn/svm/_base.py:297: ConvergenceWarning: Solver terminated early (max_iter=10000).  Consider pre-processing your data with StandardScaler or MinMaxScaler.\n",
      "  warnings.warn(\n"
     ]
    },
    {
     "name": "stdout",
     "output_type": "stream",
     "text": [
      "[CV 4/5] END svc__C=10, svc__gamma=1, svc__kernel=sigmoid; accuracy: (test=0.509) roc_auc: (test=0.511) total time= 3.1min\n"
     ]
    },
    {
     "name": "stderr",
     "output_type": "stream",
     "text": [
      "/home/pochete/studies/2023s2/mo810/mo810-kidney-waitlist/venv/lib/python3.11/site-packages/sklearn/svm/_base.py:297: ConvergenceWarning: Solver terminated early (max_iter=10000).  Consider pre-processing your data with StandardScaler or MinMaxScaler.\n",
      "  warnings.warn(\n"
     ]
    },
    {
     "name": "stdout",
     "output_type": "stream",
     "text": [
      "[CV 5/5] END svc__C=10, svc__gamma=1, svc__kernel=sigmoid; accuracy: (test=0.509) roc_auc: (test=0.513) total time= 3.1min\n"
     ]
    },
    {
     "name": "stderr",
     "output_type": "stream",
     "text": [
      "/home/pochete/studies/2023s2/mo810/mo810-kidney-waitlist/venv/lib/python3.11/site-packages/sklearn/svm/_base.py:297: ConvergenceWarning: Solver terminated early (max_iter=10000).  Consider pre-processing your data with StandardScaler or MinMaxScaler.\n",
      "  warnings.warn(\n"
     ]
    },
    {
     "name": "stdout",
     "output_type": "stream",
     "text": [
      "[CV 1/5] END svc__C=10, svc__gamma=2, svc__kernel=rbf; accuracy: (test=0.502) roc_auc: (test=0.536) total time= 2.2min\n"
     ]
    },
    {
     "name": "stderr",
     "output_type": "stream",
     "text": [
      "/home/pochete/studies/2023s2/mo810/mo810-kidney-waitlist/venv/lib/python3.11/site-packages/sklearn/svm/_base.py:297: ConvergenceWarning: Solver terminated early (max_iter=10000).  Consider pre-processing your data with StandardScaler or MinMaxScaler.\n",
      "  warnings.warn(\n"
     ]
    },
    {
     "name": "stdout",
     "output_type": "stream",
     "text": [
      "[CV 2/5] END svc__C=10, svc__gamma=2, svc__kernel=rbf; accuracy: (test=0.502) roc_auc: (test=0.533) total time= 2.2min\n"
     ]
    },
    {
     "name": "stderr",
     "output_type": "stream",
     "text": [
      "/home/pochete/studies/2023s2/mo810/mo810-kidney-waitlist/venv/lib/python3.11/site-packages/sklearn/svm/_base.py:297: ConvergenceWarning: Solver terminated early (max_iter=10000).  Consider pre-processing your data with StandardScaler or MinMaxScaler.\n",
      "  warnings.warn(\n"
     ]
    },
    {
     "name": "stdout",
     "output_type": "stream",
     "text": [
      "[CV 3/5] END svc__C=10, svc__gamma=2, svc__kernel=rbf; accuracy: (test=0.502) roc_auc: (test=0.539) total time= 2.3min\n"
     ]
    },
    {
     "name": "stderr",
     "output_type": "stream",
     "text": [
      "/home/pochete/studies/2023s2/mo810/mo810-kidney-waitlist/venv/lib/python3.11/site-packages/sklearn/svm/_base.py:297: ConvergenceWarning: Solver terminated early (max_iter=10000).  Consider pre-processing your data with StandardScaler or MinMaxScaler.\n",
      "  warnings.warn(\n"
     ]
    },
    {
     "name": "stdout",
     "output_type": "stream",
     "text": [
      "[CV 4/5] END svc__C=10, svc__gamma=2, svc__kernel=rbf; accuracy: (test=0.502) roc_auc: (test=0.538) total time= 2.3min\n"
     ]
    },
    {
     "name": "stderr",
     "output_type": "stream",
     "text": [
      "/home/pochete/studies/2023s2/mo810/mo810-kidney-waitlist/venv/lib/python3.11/site-packages/sklearn/svm/_base.py:297: ConvergenceWarning: Solver terminated early (max_iter=10000).  Consider pre-processing your data with StandardScaler or MinMaxScaler.\n",
      "  warnings.warn(\n"
     ]
    },
    {
     "name": "stdout",
     "output_type": "stream",
     "text": [
      "[CV 5/5] END svc__C=10, svc__gamma=2, svc__kernel=rbf; accuracy: (test=0.503) roc_auc: (test=0.537) total time= 2.2min\n"
     ]
    },
    {
     "name": "stderr",
     "output_type": "stream",
     "text": [
      "/home/pochete/studies/2023s2/mo810/mo810-kidney-waitlist/venv/lib/python3.11/site-packages/sklearn/svm/_base.py:297: ConvergenceWarning: Solver terminated early (max_iter=10000).  Consider pre-processing your data with StandardScaler or MinMaxScaler.\n",
      "  warnings.warn(\n"
     ]
    },
    {
     "name": "stdout",
     "output_type": "stream",
     "text": [
      "[CV 1/5] END svc__C=10, svc__gamma=2, svc__kernel=sigmoid; accuracy: (test=0.510) roc_auc: (test=0.507) total time= 3.0min\n"
     ]
    },
    {
     "name": "stderr",
     "output_type": "stream",
     "text": [
      "/home/pochete/studies/2023s2/mo810/mo810-kidney-waitlist/venv/lib/python3.11/site-packages/sklearn/svm/_base.py:297: ConvergenceWarning: Solver terminated early (max_iter=10000).  Consider pre-processing your data with StandardScaler or MinMaxScaler.\n",
      "  warnings.warn(\n"
     ]
    },
    {
     "name": "stdout",
     "output_type": "stream",
     "text": [
      "[CV 2/5] END svc__C=10, svc__gamma=2, svc__kernel=sigmoid; accuracy: (test=0.514) roc_auc: (test=0.512) total time= 3.0min\n"
     ]
    },
    {
     "name": "stderr",
     "output_type": "stream",
     "text": [
      "/home/pochete/studies/2023s2/mo810/mo810-kidney-waitlist/venv/lib/python3.11/site-packages/sklearn/svm/_base.py:297: ConvergenceWarning: Solver terminated early (max_iter=10000).  Consider pre-processing your data with StandardScaler or MinMaxScaler.\n",
      "  warnings.warn(\n"
     ]
    },
    {
     "name": "stdout",
     "output_type": "stream",
     "text": [
      "[CV 3/5] END svc__C=10, svc__gamma=2, svc__kernel=sigmoid; accuracy: (test=0.513) roc_auc: (test=0.518) total time= 3.0min\n"
     ]
    },
    {
     "name": "stderr",
     "output_type": "stream",
     "text": [
      "/home/pochete/studies/2023s2/mo810/mo810-kidney-waitlist/venv/lib/python3.11/site-packages/sklearn/svm/_base.py:297: ConvergenceWarning: Solver terminated early (max_iter=10000).  Consider pre-processing your data with StandardScaler or MinMaxScaler.\n",
      "  warnings.warn(\n"
     ]
    },
    {
     "name": "stdout",
     "output_type": "stream",
     "text": [
      "[CV 4/5] END svc__C=10, svc__gamma=2, svc__kernel=sigmoid; accuracy: (test=0.505) roc_auc: (test=0.503) total time= 3.1min\n"
     ]
    },
    {
     "name": "stderr",
     "output_type": "stream",
     "text": [
      "/home/pochete/studies/2023s2/mo810/mo810-kidney-waitlist/venv/lib/python3.11/site-packages/sklearn/svm/_base.py:297: ConvergenceWarning: Solver terminated early (max_iter=10000).  Consider pre-processing your data with StandardScaler or MinMaxScaler.\n",
      "  warnings.warn(\n"
     ]
    },
    {
     "name": "stdout",
     "output_type": "stream",
     "text": [
      "[CV 5/5] END svc__C=10, svc__gamma=2, svc__kernel=sigmoid; accuracy: (test=0.513) roc_auc: (test=0.521) total time= 3.1min\n"
     ]
    },
    {
     "name": "stderr",
     "output_type": "stream",
     "text": [
      "/home/pochete/studies/2023s2/mo810/mo810-kidney-waitlist/venv/lib/python3.11/site-packages/sklearn/svm/_base.py:297: ConvergenceWarning: Solver terminated early (max_iter=10000).  Consider pre-processing your data with StandardScaler or MinMaxScaler.\n",
      "  warnings.warn(\n"
     ]
    },
    {
     "data": {
      "text/html": [
       "<style>#sk-container-id-1 {color: black;}#sk-container-id-1 pre{padding: 0;}#sk-container-id-1 div.sk-toggleable {background-color: white;}#sk-container-id-1 label.sk-toggleable__label {cursor: pointer;display: block;width: 100%;margin-bottom: 0;padding: 0.3em;box-sizing: border-box;text-align: center;}#sk-container-id-1 label.sk-toggleable__label-arrow:before {content: \"▸\";float: left;margin-right: 0.25em;color: #696969;}#sk-container-id-1 label.sk-toggleable__label-arrow:hover:before {color: black;}#sk-container-id-1 div.sk-estimator:hover label.sk-toggleable__label-arrow:before {color: black;}#sk-container-id-1 div.sk-toggleable__content {max-height: 0;max-width: 0;overflow: hidden;text-align: left;background-color: #f0f8ff;}#sk-container-id-1 div.sk-toggleable__content pre {margin: 0.2em;color: black;border-radius: 0.25em;background-color: #f0f8ff;}#sk-container-id-1 input.sk-toggleable__control:checked~div.sk-toggleable__content {max-height: 200px;max-width: 100%;overflow: auto;}#sk-container-id-1 input.sk-toggleable__control:checked~label.sk-toggleable__label-arrow:before {content: \"▾\";}#sk-container-id-1 div.sk-estimator input.sk-toggleable__control:checked~label.sk-toggleable__label {background-color: #d4ebff;}#sk-container-id-1 div.sk-label input.sk-toggleable__control:checked~label.sk-toggleable__label {background-color: #d4ebff;}#sk-container-id-1 input.sk-hidden--visually {border: 0;clip: rect(1px 1px 1px 1px);clip: rect(1px, 1px, 1px, 1px);height: 1px;margin: -1px;overflow: hidden;padding: 0;position: absolute;width: 1px;}#sk-container-id-1 div.sk-estimator {font-family: monospace;background-color: #f0f8ff;border: 1px dotted black;border-radius: 0.25em;box-sizing: border-box;margin-bottom: 0.5em;}#sk-container-id-1 div.sk-estimator:hover {background-color: #d4ebff;}#sk-container-id-1 div.sk-parallel-item::after {content: \"\";width: 100%;border-bottom: 1px solid gray;flex-grow: 1;}#sk-container-id-1 div.sk-label:hover label.sk-toggleable__label {background-color: #d4ebff;}#sk-container-id-1 div.sk-serial::before {content: \"\";position: absolute;border-left: 1px solid gray;box-sizing: border-box;top: 0;bottom: 0;left: 50%;z-index: 0;}#sk-container-id-1 div.sk-serial {display: flex;flex-direction: column;align-items: center;background-color: white;padding-right: 0.2em;padding-left: 0.2em;position: relative;}#sk-container-id-1 div.sk-item {position: relative;z-index: 1;}#sk-container-id-1 div.sk-parallel {display: flex;align-items: stretch;justify-content: center;background-color: white;position: relative;}#sk-container-id-1 div.sk-item::before, #sk-container-id-1 div.sk-parallel-item::before {content: \"\";position: absolute;border-left: 1px solid gray;box-sizing: border-box;top: 0;bottom: 0;left: 50%;z-index: -1;}#sk-container-id-1 div.sk-parallel-item {display: flex;flex-direction: column;z-index: 1;position: relative;background-color: white;}#sk-container-id-1 div.sk-parallel-item:first-child::after {align-self: flex-end;width: 50%;}#sk-container-id-1 div.sk-parallel-item:last-child::after {align-self: flex-start;width: 50%;}#sk-container-id-1 div.sk-parallel-item:only-child::after {width: 0;}#sk-container-id-1 div.sk-dashed-wrapped {border: 1px dashed gray;margin: 0 0.4em 0.5em 0.4em;box-sizing: border-box;padding-bottom: 0.4em;background-color: white;}#sk-container-id-1 div.sk-label label {font-family: monospace;font-weight: bold;display: inline-block;line-height: 1.2em;}#sk-container-id-1 div.sk-label-container {text-align: center;}#sk-container-id-1 div.sk-container {/* jupyter's `normalize.less` sets `[hidden] { display: none; }` but bootstrap.min.css set `[hidden] { display: none !important; }` so we also need the `!important` here to be able to override the default hidden behavior on the sphinx rendered scikit-learn.org. See: https://github.com/scikit-learn/scikit-learn/issues/21755 */display: inline-block !important;position: relative;}#sk-container-id-1 div.sk-text-repr-fallback {display: none;}</style><div id=\"sk-container-id-1\" class=\"sk-top-container\"><div class=\"sk-text-repr-fallback\"><pre>GridSearchCV(estimator=Pipeline(steps=[(&#x27;scaler&#x27;, StandardScaler()),\n",
       "                                       (&#x27;svc&#x27;,\n",
       "                                        SVC(cache_size=2000, max_iter=10000,\n",
       "                                            random_state=1729))]),\n",
       "             param_grid=[{&#x27;svc__C&#x27;: [1, 10], &#x27;svc__coef0&#x27;: [0, -1, 1],\n",
       "                          &#x27;svc__degree&#x27;: [3, 5],\n",
       "                          &#x27;svc__gamma&#x27;: [&#x27;scale&#x27;, 0.1, 1, 2],\n",
       "                          &#x27;svc__kernel&#x27;: [&#x27;poly&#x27;]},\n",
       "                         {&#x27;svc__C&#x27;: [1, 10], &#x27;svc__gamma&#x27;: [&#x27;scale&#x27;, 0.1, 1, 2],\n",
       "                          &#x27;svc__kernel&#x27;: [&#x27;rbf&#x27;, &#x27;sigmoid&#x27;]}],\n",
       "             refit=&#x27;roc_auc&#x27;, scoring=(&#x27;roc_auc&#x27;, &#x27;accuracy&#x27;), verbose=4)</pre><b>In a Jupyter environment, please rerun this cell to show the HTML representation or trust the notebook. <br />On GitHub, the HTML representation is unable to render, please try loading this page with nbviewer.org.</b></div><div class=\"sk-container\" hidden><div class=\"sk-item sk-dashed-wrapped\"><div class=\"sk-label-container\"><div class=\"sk-label sk-toggleable\"><input class=\"sk-toggleable__control sk-hidden--visually\" id=\"sk-estimator-id-1\" type=\"checkbox\" ><label for=\"sk-estimator-id-1\" class=\"sk-toggleable__label sk-toggleable__label-arrow\">GridSearchCV</label><div class=\"sk-toggleable__content\"><pre>GridSearchCV(estimator=Pipeline(steps=[(&#x27;scaler&#x27;, StandardScaler()),\n",
       "                                       (&#x27;svc&#x27;,\n",
       "                                        SVC(cache_size=2000, max_iter=10000,\n",
       "                                            random_state=1729))]),\n",
       "             param_grid=[{&#x27;svc__C&#x27;: [1, 10], &#x27;svc__coef0&#x27;: [0, -1, 1],\n",
       "                          &#x27;svc__degree&#x27;: [3, 5],\n",
       "                          &#x27;svc__gamma&#x27;: [&#x27;scale&#x27;, 0.1, 1, 2],\n",
       "                          &#x27;svc__kernel&#x27;: [&#x27;poly&#x27;]},\n",
       "                         {&#x27;svc__C&#x27;: [1, 10], &#x27;svc__gamma&#x27;: [&#x27;scale&#x27;, 0.1, 1, 2],\n",
       "                          &#x27;svc__kernel&#x27;: [&#x27;rbf&#x27;, &#x27;sigmoid&#x27;]}],\n",
       "             refit=&#x27;roc_auc&#x27;, scoring=(&#x27;roc_auc&#x27;, &#x27;accuracy&#x27;), verbose=4)</pre></div></div></div><div class=\"sk-parallel\"><div class=\"sk-parallel-item\"><div class=\"sk-item\"><div class=\"sk-label-container\"><div class=\"sk-label sk-toggleable\"><input class=\"sk-toggleable__control sk-hidden--visually\" id=\"sk-estimator-id-2\" type=\"checkbox\" ><label for=\"sk-estimator-id-2\" class=\"sk-toggleable__label sk-toggleable__label-arrow\">estimator: Pipeline</label><div class=\"sk-toggleable__content\"><pre>Pipeline(steps=[(&#x27;scaler&#x27;, StandardScaler()),\n",
       "                (&#x27;svc&#x27;,\n",
       "                 SVC(cache_size=2000, max_iter=10000, random_state=1729))])</pre></div></div></div><div class=\"sk-serial\"><div class=\"sk-item\"><div class=\"sk-serial\"><div class=\"sk-item\"><div class=\"sk-estimator sk-toggleable\"><input class=\"sk-toggleable__control sk-hidden--visually\" id=\"sk-estimator-id-3\" type=\"checkbox\" ><label for=\"sk-estimator-id-3\" class=\"sk-toggleable__label sk-toggleable__label-arrow\">StandardScaler</label><div class=\"sk-toggleable__content\"><pre>StandardScaler()</pre></div></div></div><div class=\"sk-item\"><div class=\"sk-estimator sk-toggleable\"><input class=\"sk-toggleable__control sk-hidden--visually\" id=\"sk-estimator-id-4\" type=\"checkbox\" ><label for=\"sk-estimator-id-4\" class=\"sk-toggleable__label sk-toggleable__label-arrow\">SVC</label><div class=\"sk-toggleable__content\"><pre>SVC(cache_size=2000, max_iter=10000, random_state=1729)</pre></div></div></div></div></div></div></div></div></div></div></div></div>"
      ],
      "text/plain": [
       "GridSearchCV(estimator=Pipeline(steps=[('scaler', StandardScaler()),\n",
       "                                       ('svc',\n",
       "                                        SVC(cache_size=2000, max_iter=10000,\n",
       "                                            random_state=1729))]),\n",
       "             param_grid=[{'svc__C': [1, 10], 'svc__coef0': [0, -1, 1],\n",
       "                          'svc__degree': [3, 5],\n",
       "                          'svc__gamma': ['scale', 0.1, 1, 2],\n",
       "                          'svc__kernel': ['poly']},\n",
       "                         {'svc__C': [1, 10], 'svc__gamma': ['scale', 0.1, 1, 2],\n",
       "                          'svc__kernel': ['rbf', 'sigmoid']}],\n",
       "             refit='roc_auc', scoring=('roc_auc', 'accuracy'), verbose=4)"
      ]
     },
     "execution_count": 24,
     "metadata": {},
     "output_type": "execute_result"
    }
   ],
   "source": [
    "svc_params = [\n",
    "    {\n",
    "        'svc__C': [1, 10],\n",
    "        'svc__kernel': ['poly'],\n",
    "        'svc__degree': [3, 5],\n",
    "        'svc__gamma': ['scale', 0.1, 1, 2],\n",
    "        'svc__coef0': [0, -1, 1],\n",
    "    },\n",
    "    {\n",
    "        'svc__C': [1, 10],\n",
    "        'svc__kernel': ['rbf', 'sigmoid'],\n",
    "        'svc__gamma': ['scale', 0.1, 1, 2],\n",
    "    },\n",
    "]\n",
    "\n",
    "svc_grid = GridSearchCV(\n",
    "    Pipeline(steps=[('scaler',StandardScaler()), ('svc', SVC(random_state=1729, max_iter=10_000, cache_size=2000))]),\n",
    "    svc_params,\n",
    "    verbose=4,\n",
    "    scoring=('roc_auc', 'accuracy'),\n",
    "    refit='roc_auc')\n",
    "svc_grid.fit(X_train, y_train)"
   ]
  },
  {
   "cell_type": "code",
   "execution_count": 25,
   "metadata": {},
   "outputs": [
    {
     "data": {
      "text/html": [
       "<div>\n",
       "<style scoped>\n",
       "    .dataframe tbody tr th:only-of-type {\n",
       "        vertical-align: middle;\n",
       "    }\n",
       "\n",
       "    .dataframe tbody tr th {\n",
       "        vertical-align: top;\n",
       "    }\n",
       "\n",
       "    .dataframe thead th {\n",
       "        text-align: right;\n",
       "    }\n",
       "</style>\n",
       "<table border=\"1\" class=\"dataframe\">\n",
       "  <thead>\n",
       "    <tr style=\"text-align: right;\">\n",
       "      <th></th>\n",
       "      <th>mean_fit_time</th>\n",
       "      <th>mean_score_time</th>\n",
       "      <th>param_svc__C</th>\n",
       "      <th>param_svc__kernel</th>\n",
       "      <th>param_svc__degree</th>\n",
       "      <th>param_svc__gamma</th>\n",
       "      <th>param_svc__coef0</th>\n",
       "      <th>mean_test_roc_auc</th>\n",
       "      <th>std_test_roc_auc</th>\n",
       "      <th>mean_test_accuracy</th>\n",
       "      <th>std_test_accuracy</th>\n",
       "    </tr>\n",
       "  </thead>\n",
       "  <tbody>\n",
       "    <tr>\n",
       "      <th>48</th>\n",
       "      <td>102.297848</td>\n",
       "      <td>35.275584</td>\n",
       "      <td>1</td>\n",
       "      <td>rbf</td>\n",
       "      <td>NaN</td>\n",
       "      <td>scale</td>\n",
       "      <td>NaN</td>\n",
       "      <td>0.607370</td>\n",
       "      <td>0.004739</td>\n",
       "      <td>0.568796</td>\n",
       "      <td>0.005164</td>\n",
       "    </tr>\n",
       "    <tr>\n",
       "      <th>50</th>\n",
       "      <td>105.722270</td>\n",
       "      <td>36.821148</td>\n",
       "      <td>1</td>\n",
       "      <td>rbf</td>\n",
       "      <td>NaN</td>\n",
       "      <td>0.1</td>\n",
       "      <td>NaN</td>\n",
       "      <td>0.605567</td>\n",
       "      <td>0.005757</td>\n",
       "      <td>0.579612</td>\n",
       "      <td>0.006747</td>\n",
       "    </tr>\n",
       "    <tr>\n",
       "      <th>58</th>\n",
       "      <td>99.435350</td>\n",
       "      <td>35.117794</td>\n",
       "      <td>10</td>\n",
       "      <td>rbf</td>\n",
       "      <td>NaN</td>\n",
       "      <td>0.1</td>\n",
       "      <td>NaN</td>\n",
       "      <td>0.595018</td>\n",
       "      <td>0.006140</td>\n",
       "      <td>0.574082</td>\n",
       "      <td>0.007118</td>\n",
       "    </tr>\n",
       "    <tr>\n",
       "      <th>28</th>\n",
       "      <td>95.320363</td>\n",
       "      <td>19.820535</td>\n",
       "      <td>10</td>\n",
       "      <td>poly</td>\n",
       "      <td>5</td>\n",
       "      <td>scale</td>\n",
       "      <td>0</td>\n",
       "      <td>0.562953</td>\n",
       "      <td>0.003054</td>\n",
       "      <td>0.539347</td>\n",
       "      <td>0.001944</td>\n",
       "    </tr>\n",
       "    <tr>\n",
       "      <th>0</th>\n",
       "      <td>93.233090</td>\n",
       "      <td>18.978803</td>\n",
       "      <td>1</td>\n",
       "      <td>poly</td>\n",
       "      <td>3</td>\n",
       "      <td>scale</td>\n",
       "      <td>0</td>\n",
       "      <td>0.560046</td>\n",
       "      <td>0.005455</td>\n",
       "      <td>0.508531</td>\n",
       "      <td>0.002935</td>\n",
       "    </tr>\n",
       "    <tr>\n",
       "      <th>...</th>\n",
       "      <td>...</td>\n",
       "      <td>...</td>\n",
       "      <td>...</td>\n",
       "      <td>...</td>\n",
       "      <td>...</td>\n",
       "      <td>...</td>\n",
       "      <td>...</td>\n",
       "      <td>...</td>\n",
       "      <td>...</td>\n",
       "      <td>...</td>\n",
       "      <td>...</td>\n",
       "    </tr>\n",
       "    <tr>\n",
       "      <th>51</th>\n",
       "      <td>154.596467</td>\n",
       "      <td>33.173732</td>\n",
       "      <td>1</td>\n",
       "      <td>sigmoid</td>\n",
       "      <td>NaN</td>\n",
       "      <td>0.1</td>\n",
       "      <td>NaN</td>\n",
       "      <td>0.493653</td>\n",
       "      <td>0.006881</td>\n",
       "      <td>0.502000</td>\n",
       "      <td>0.005385</td>\n",
       "    </tr>\n",
       "    <tr>\n",
       "      <th>12</th>\n",
       "      <td>112.629852</td>\n",
       "      <td>17.403065</td>\n",
       "      <td>1</td>\n",
       "      <td>poly</td>\n",
       "      <td>5</td>\n",
       "      <td>scale</td>\n",
       "      <td>-1</td>\n",
       "      <td>0.493291</td>\n",
       "      <td>0.002826</td>\n",
       "      <td>0.496776</td>\n",
       "      <td>0.003294</td>\n",
       "    </tr>\n",
       "    <tr>\n",
       "      <th>8</th>\n",
       "      <td>114.756949</td>\n",
       "      <td>17.535055</td>\n",
       "      <td>1</td>\n",
       "      <td>poly</td>\n",
       "      <td>3</td>\n",
       "      <td>scale</td>\n",
       "      <td>-1</td>\n",
       "      <td>0.492236</td>\n",
       "      <td>0.007888</td>\n",
       "      <td>0.496184</td>\n",
       "      <td>0.006290</td>\n",
       "    </tr>\n",
       "    <tr>\n",
       "      <th>36</th>\n",
       "      <td>132.731155</td>\n",
       "      <td>21.777350</td>\n",
       "      <td>10</td>\n",
       "      <td>poly</td>\n",
       "      <td>5</td>\n",
       "      <td>scale</td>\n",
       "      <td>-1</td>\n",
       "      <td>0.492045</td>\n",
       "      <td>0.005893</td>\n",
       "      <td>0.499061</td>\n",
       "      <td>0.002912</td>\n",
       "    </tr>\n",
       "    <tr>\n",
       "      <th>32</th>\n",
       "      <td>115.579659</td>\n",
       "      <td>17.933234</td>\n",
       "      <td>10</td>\n",
       "      <td>poly</td>\n",
       "      <td>3</td>\n",
       "      <td>scale</td>\n",
       "      <td>-1</td>\n",
       "      <td>0.488956</td>\n",
       "      <td>0.003624</td>\n",
       "      <td>0.495510</td>\n",
       "      <td>0.004370</td>\n",
       "    </tr>\n",
       "  </tbody>\n",
       "</table>\n",
       "<p>64 rows × 11 columns</p>\n",
       "</div>"
      ],
      "text/plain": [
       "    mean_fit_time  mean_score_time param_svc__C param_svc__kernel  \\\n",
       "48     102.297848        35.275584            1               rbf   \n",
       "50     105.722270        36.821148            1               rbf   \n",
       "58      99.435350        35.117794           10               rbf   \n",
       "28      95.320363        19.820535           10              poly   \n",
       "0       93.233090        18.978803            1              poly   \n",
       "..            ...              ...          ...               ...   \n",
       "51     154.596467        33.173732            1           sigmoid   \n",
       "12     112.629852        17.403065            1              poly   \n",
       "8      114.756949        17.535055            1              poly   \n",
       "36     132.731155        21.777350           10              poly   \n",
       "32     115.579659        17.933234           10              poly   \n",
       "\n",
       "   param_svc__degree param_svc__gamma param_svc__coef0  mean_test_roc_auc  \\\n",
       "48               NaN            scale              NaN           0.607370   \n",
       "50               NaN              0.1              NaN           0.605567   \n",
       "58               NaN              0.1              NaN           0.595018   \n",
       "28                 5            scale                0           0.562953   \n",
       "0                  3            scale                0           0.560046   \n",
       "..               ...              ...              ...                ...   \n",
       "51               NaN              0.1              NaN           0.493653   \n",
       "12                 5            scale               -1           0.493291   \n",
       "8                  3            scale               -1           0.492236   \n",
       "36                 5            scale               -1           0.492045   \n",
       "32                 3            scale               -1           0.488956   \n",
       "\n",
       "    std_test_roc_auc  mean_test_accuracy  std_test_accuracy  \n",
       "48          0.004739            0.568796           0.005164  \n",
       "50          0.005757            0.579612           0.006747  \n",
       "58          0.006140            0.574082           0.007118  \n",
       "28          0.003054            0.539347           0.001944  \n",
       "0           0.005455            0.508531           0.002935  \n",
       "..               ...                 ...                ...  \n",
       "51          0.006881            0.502000           0.005385  \n",
       "12          0.002826            0.496776           0.003294  \n",
       "8           0.007888            0.496184           0.006290  \n",
       "36          0.005893            0.499061           0.002912  \n",
       "32          0.003624            0.495510           0.004370  \n",
       "\n",
       "[64 rows x 11 columns]"
      ]
     },
     "execution_count": 25,
     "metadata": {},
     "output_type": "execute_result"
    }
   ],
   "source": [
    "svc_grid_df = pd.DataFrame(svc_grid.cv_results_)\n",
    "svc_grid_df.sort_values(['mean_test_roc_auc', 'mean_test_accuracy'], ascending=False)[['mean_fit_time', 'mean_score_time', 'param_svc__C', 'param_svc__kernel', 'param_svc__degree', 'param_svc__gamma', 'param_svc__coef0', 'mean_test_roc_auc', 'std_test_roc_auc', 'mean_test_accuracy', 'std_test_accuracy']]"
   ]
  },
  {
   "cell_type": "code",
   "execution_count": 26,
   "metadata": {},
   "outputs": [
    {
     "data": {
      "text/plain": [
       "(0.5542578976510617, 0.5533809523809524)"
      ]
     },
     "execution_count": 26,
     "metadata": {},
     "output_type": "execute_result"
    }
   ],
   "source": [
    "y_test_svc = svc_grid.predict(X_test)\n",
    "(roc_auc_score(y_test, y_test_svc), accuracy_score(y_test, y_test_svc))"
   ]
  },
  {
   "cell_type": "markdown",
   "metadata": {},
   "source": [
    "## Risco bayesiano"
   ]
  },
  {
   "cell_type": "code",
   "execution_count": 26,
   "metadata": {},
   "outputs": [
    {
     "name": "stdout",
     "output_type": "stream",
     "text": [
      "Fitting 5 folds for each of 60 candidates, totalling 300 fits\n",
      "[CV 1/5] END forest__max_features=sqrt, forest__min_samples_split=2, forest__n_estimators=200, pca=passthrough; accuracy: (test=0.659) roc_auc: (test=0.719) total time=   8.7s\n",
      "[CV 2/5] END forest__max_features=sqrt, forest__min_samples_split=2, forest__n_estimators=200, pca=passthrough; accuracy: (test=0.664) roc_auc: (test=0.722) total time=   8.4s\n",
      "[CV 3/5] END forest__max_features=sqrt, forest__min_samples_split=2, forest__n_estimators=200, pca=passthrough; accuracy: (test=0.667) roc_auc: (test=0.729) total time=   8.5s\n",
      "[CV 4/5] END forest__max_features=sqrt, forest__min_samples_split=2, forest__n_estimators=200, pca=passthrough; accuracy: (test=0.667) roc_auc: (test=0.724) total time=   8.3s\n",
      "[CV 5/5] END forest__max_features=sqrt, forest__min_samples_split=2, forest__n_estimators=200, pca=passthrough; accuracy: (test=0.667) roc_auc: (test=0.726) total time=   8.3s\n",
      "[CV 1/5] END forest__max_features=sqrt, forest__min_samples_split=2, forest__n_estimators=500, pca=passthrough; accuracy: (test=0.662) roc_auc: (test=0.725) total time=  20.3s\n",
      "[CV 2/5] END forest__max_features=sqrt, forest__min_samples_split=2, forest__n_estimators=500, pca=passthrough; accuracy: (test=0.670) roc_auc: (test=0.727) total time=  20.1s\n",
      "[CV 3/5] END forest__max_features=sqrt, forest__min_samples_split=2, forest__n_estimators=500, pca=passthrough; accuracy: (test=0.671) roc_auc: (test=0.734) total time=  20.3s\n",
      "[CV 4/5] END forest__max_features=sqrt, forest__min_samples_split=2, forest__n_estimators=500, pca=passthrough; accuracy: (test=0.673) roc_auc: (test=0.729) total time=  20.1s\n",
      "[CV 5/5] END forest__max_features=sqrt, forest__min_samples_split=2, forest__n_estimators=500, pca=passthrough; accuracy: (test=0.674) roc_auc: (test=0.732) total time=  20.4s\n",
      "[CV 1/5] END forest__max_features=sqrt, forest__min_samples_split=2, forest__n_estimators=1000, pca=passthrough; accuracy: (test=0.662) roc_auc: (test=0.726) total time=  39.9s\n",
      "[CV 2/5] END forest__max_features=sqrt, forest__min_samples_split=2, forest__n_estimators=1000, pca=passthrough; accuracy: (test=0.671) roc_auc: (test=0.729) total time=  40.3s\n",
      "[CV 3/5] END forest__max_features=sqrt, forest__min_samples_split=2, forest__n_estimators=1000, pca=passthrough; accuracy: (test=0.673) roc_auc: (test=0.736) total time=  40.4s\n",
      "[CV 4/5] END forest__max_features=sqrt, forest__min_samples_split=2, forest__n_estimators=1000, pca=passthrough; accuracy: (test=0.672) roc_auc: (test=0.731) total time=  40.0s\n",
      "[CV 5/5] END forest__max_features=sqrt, forest__min_samples_split=2, forest__n_estimators=1000, pca=passthrough; accuracy: (test=0.675) roc_auc: (test=0.733) total time=  40.2s\n",
      "[CV 1/5] END forest__max_features=sqrt, forest__min_samples_split=2, forest__n_estimators=1500, pca=passthrough; accuracy: (test=0.664) roc_auc: (test=0.728) total time=  59.4s\n",
      "[CV 2/5] END forest__max_features=sqrt, forest__min_samples_split=2, forest__n_estimators=1500, pca=passthrough; accuracy: (test=0.668) roc_auc: (test=0.730) total time=  59.6s\n",
      "[CV 3/5] END forest__max_features=sqrt, forest__min_samples_split=2, forest__n_estimators=1500, pca=passthrough; accuracy: (test=0.672) roc_auc: (test=0.736) total time= 1.0min\n",
      "[CV 4/5] END forest__max_features=sqrt, forest__min_samples_split=2, forest__n_estimators=1500, pca=passthrough; accuracy: (test=0.673) roc_auc: (test=0.733) total time=  56.1s\n",
      "[CV 5/5] END forest__max_features=sqrt, forest__min_samples_split=2, forest__n_estimators=1500, pca=passthrough; accuracy: (test=0.675) roc_auc: (test=0.734) total time=  57.8s\n",
      "[CV 1/5] END forest__max_features=sqrt, forest__min_samples_split=10, forest__n_estimators=200, pca=passthrough; accuracy: (test=0.658) roc_auc: (test=0.717) total time=   8.4s\n",
      "[CV 2/5] END forest__max_features=sqrt, forest__min_samples_split=10, forest__n_estimators=200, pca=passthrough; accuracy: (test=0.657) roc_auc: (test=0.717) total time=   7.9s\n",
      "[CV 3/5] END forest__max_features=sqrt, forest__min_samples_split=10, forest__n_estimators=200, pca=passthrough; accuracy: (test=0.662) roc_auc: (test=0.723) total time=   7.5s\n",
      "[CV 4/5] END forest__max_features=sqrt, forest__min_samples_split=10, forest__n_estimators=200, pca=passthrough; accuracy: (test=0.663) roc_auc: (test=0.719) total time=   7.5s\n",
      "[CV 5/5] END forest__max_features=sqrt, forest__min_samples_split=10, forest__n_estimators=200, pca=passthrough; accuracy: (test=0.664) roc_auc: (test=0.721) total time=   8.1s\n",
      "[CV 1/5] END forest__max_features=sqrt, forest__min_samples_split=10, forest__n_estimators=500, pca=passthrough; accuracy: (test=0.662) roc_auc: (test=0.720) total time=  20.4s\n",
      "[CV 2/5] END forest__max_features=sqrt, forest__min_samples_split=10, forest__n_estimators=500, pca=passthrough; accuracy: (test=0.659) roc_auc: (test=0.719) total time=  18.5s\n",
      "[CV 3/5] END forest__max_features=sqrt, forest__min_samples_split=10, forest__n_estimators=500, pca=passthrough; accuracy: (test=0.666) roc_auc: (test=0.726) total time=  16.8s\n",
      "[CV 4/5] END forest__max_features=sqrt, forest__min_samples_split=10, forest__n_estimators=500, pca=passthrough; accuracy: (test=0.663) roc_auc: (test=0.722) total time=  16.7s\n",
      "[CV 5/5] END forest__max_features=sqrt, forest__min_samples_split=10, forest__n_estimators=500, pca=passthrough; accuracy: (test=0.665) roc_auc: (test=0.725) total time=  17.1s\n",
      "[CV 1/5] END forest__max_features=sqrt, forest__min_samples_split=10, forest__n_estimators=1000, pca=passthrough; accuracy: (test=0.661) roc_auc: (test=0.721) total time=  34.9s\n",
      "[CV 2/5] END forest__max_features=sqrt, forest__min_samples_split=10, forest__n_estimators=1000, pca=passthrough; accuracy: (test=0.661) roc_auc: (test=0.720) total time=  37.9s\n",
      "[CV 3/5] END forest__max_features=sqrt, forest__min_samples_split=10, forest__n_estimators=1000, pca=passthrough; accuracy: (test=0.668) roc_auc: (test=0.728) total time=  36.7s\n",
      "[CV 4/5] END forest__max_features=sqrt, forest__min_samples_split=10, forest__n_estimators=1000, pca=passthrough; accuracy: (test=0.665) roc_auc: (test=0.724) total time=  37.1s\n",
      "[CV 5/5] END forest__max_features=sqrt, forest__min_samples_split=10, forest__n_estimators=1000, pca=passthrough; accuracy: (test=0.666) roc_auc: (test=0.726) total time=  37.7s\n",
      "[CV 1/5] END forest__max_features=sqrt, forest__min_samples_split=10, forest__n_estimators=1500, pca=passthrough; accuracy: (test=0.660) roc_auc: (test=0.722) total time=  53.1s\n",
      "[CV 2/5] END forest__max_features=sqrt, forest__min_samples_split=10, forest__n_estimators=1500, pca=passthrough; accuracy: (test=0.663) roc_auc: (test=0.721) total time=  55.9s\n",
      "[CV 3/5] END forest__max_features=sqrt, forest__min_samples_split=10, forest__n_estimators=1500, pca=passthrough; accuracy: (test=0.666) roc_auc: (test=0.729) total time=  51.3s\n",
      "[CV 4/5] END forest__max_features=sqrt, forest__min_samples_split=10, forest__n_estimators=1500, pca=passthrough; accuracy: (test=0.664) roc_auc: (test=0.724) total time=  54.1s\n",
      "[CV 5/5] END forest__max_features=sqrt, forest__min_samples_split=10, forest__n_estimators=1500, pca=passthrough; accuracy: (test=0.667) roc_auc: (test=0.726) total time= 1.2min\n",
      "[CV 1/5] END forest__max_features=sqrt, forest__min_samples_split=100, forest__n_estimators=200, pca=passthrough; accuracy: (test=0.640) roc_auc: (test=0.696) total time=   9.0s\n",
      "[CV 2/5] END forest__max_features=sqrt, forest__min_samples_split=100, forest__n_estimators=200, pca=passthrough; accuracy: (test=0.634) roc_auc: (test=0.694) total time=   6.8s\n",
      "[CV 3/5] END forest__max_features=sqrt, forest__min_samples_split=100, forest__n_estimators=200, pca=passthrough; accuracy: (test=0.646) roc_auc: (test=0.700) total time=   6.2s\n",
      "[CV 4/5] END forest__max_features=sqrt, forest__min_samples_split=100, forest__n_estimators=200, pca=passthrough; accuracy: (test=0.641) roc_auc: (test=0.696) total time=   6.0s\n",
      "[CV 5/5] END forest__max_features=sqrt, forest__min_samples_split=100, forest__n_estimators=200, pca=passthrough; accuracy: (test=0.641) roc_auc: (test=0.701) total time=   6.1s\n",
      "[CV 1/5] END forest__max_features=sqrt, forest__min_samples_split=100, forest__n_estimators=500, pca=passthrough; accuracy: (test=0.639) roc_auc: (test=0.697) total time=  15.1s\n",
      "[CV 2/5] END forest__max_features=sqrt, forest__min_samples_split=100, forest__n_estimators=500, pca=passthrough; accuracy: (test=0.636) roc_auc: (test=0.694) total time=  15.1s\n",
      "[CV 3/5] END forest__max_features=sqrt, forest__min_samples_split=100, forest__n_estimators=500, pca=passthrough; accuracy: (test=0.642) roc_auc: (test=0.701) total time=  15.0s\n",
      "[CV 4/5] END forest__max_features=sqrt, forest__min_samples_split=100, forest__n_estimators=500, pca=passthrough; accuracy: (test=0.642) roc_auc: (test=0.697) total time=  14.7s\n",
      "[CV 5/5] END forest__max_features=sqrt, forest__min_samples_split=100, forest__n_estimators=500, pca=passthrough; accuracy: (test=0.644) roc_auc: (test=0.700) total time=  14.8s\n",
      "[CV 1/5] END forest__max_features=sqrt, forest__min_samples_split=100, forest__n_estimators=1000, pca=passthrough; accuracy: (test=0.641) roc_auc: (test=0.697) total time=  29.4s\n",
      "[CV 2/5] END forest__max_features=sqrt, forest__min_samples_split=100, forest__n_estimators=1000, pca=passthrough; accuracy: (test=0.635) roc_auc: (test=0.694) total time=  27.5s\n",
      "[CV 3/5] END forest__max_features=sqrt, forest__min_samples_split=100, forest__n_estimators=1000, pca=passthrough; accuracy: (test=0.644) roc_auc: (test=0.702) total time=  25.2s\n",
      "[CV 4/5] END forest__max_features=sqrt, forest__min_samples_split=100, forest__n_estimators=1000, pca=passthrough; accuracy: (test=0.642) roc_auc: (test=0.697) total time=  24.8s\n",
      "[CV 5/5] END forest__max_features=sqrt, forest__min_samples_split=100, forest__n_estimators=1000, pca=passthrough; accuracy: (test=0.641) roc_auc: (test=0.700) total time=  25.1s\n",
      "[CV 1/5] END forest__max_features=sqrt, forest__min_samples_split=100, forest__n_estimators=1500, pca=passthrough; accuracy: (test=0.642) roc_auc: (test=0.697) total time=  37.1s\n",
      "[CV 2/5] END forest__max_features=sqrt, forest__min_samples_split=100, forest__n_estimators=1500, pca=passthrough; accuracy: (test=0.636) roc_auc: (test=0.694) total time=  37.4s\n",
      "[CV 3/5] END forest__max_features=sqrt, forest__min_samples_split=100, forest__n_estimators=1500, pca=passthrough; accuracy: (test=0.643) roc_auc: (test=0.702) total time=  37.3s\n",
      "[CV 4/5] END forest__max_features=sqrt, forest__min_samples_split=100, forest__n_estimators=1500, pca=passthrough; accuracy: (test=0.643) roc_auc: (test=0.697) total time=  36.7s\n",
      "[CV 5/5] END forest__max_features=sqrt, forest__min_samples_split=100, forest__n_estimators=1500, pca=passthrough; accuracy: (test=0.642) roc_auc: (test=0.700) total time=  37.2s\n",
      "[CV 1/5] END forest__max_features=log2, forest__min_samples_split=2, forest__n_estimators=200, pca=passthrough; accuracy: (test=0.663) roc_auc: (test=0.723) total time=   6.5s\n",
      "[CV 2/5] END forest__max_features=log2, forest__min_samples_split=2, forest__n_estimators=200, pca=passthrough; accuracy: (test=0.662) roc_auc: (test=0.719) total time=   6.3s\n",
      "[CV 3/5] END forest__max_features=log2, forest__min_samples_split=2, forest__n_estimators=200, pca=passthrough; accuracy: (test=0.664) roc_auc: (test=0.728) total time=   6.4s\n",
      "[CV 4/5] END forest__max_features=log2, forest__min_samples_split=2, forest__n_estimators=200, pca=passthrough; accuracy: (test=0.671) roc_auc: (test=0.728) total time=   6.4s\n",
      "[CV 5/5] END forest__max_features=log2, forest__min_samples_split=2, forest__n_estimators=200, pca=passthrough; accuracy: (test=0.667) roc_auc: (test=0.727) total time=   6.4s\n",
      "[CV 1/5] END forest__max_features=log2, forest__min_samples_split=2, forest__n_estimators=500, pca=passthrough; accuracy: (test=0.668) roc_auc: (test=0.728) total time=  16.4s\n",
      "[CV 2/5] END forest__max_features=log2, forest__min_samples_split=2, forest__n_estimators=500, pca=passthrough; accuracy: (test=0.666) roc_auc: (test=0.727) total time=  15.9s\n",
      "[CV 3/5] END forest__max_features=log2, forest__min_samples_split=2, forest__n_estimators=500, pca=passthrough; accuracy: (test=0.670) roc_auc: (test=0.734) total time=  15.9s\n",
      "[CV 4/5] END forest__max_features=log2, forest__min_samples_split=2, forest__n_estimators=500, pca=passthrough; accuracy: (test=0.674) roc_auc: (test=0.733) total time=  16.0s\n",
      "[CV 5/5] END forest__max_features=log2, forest__min_samples_split=2, forest__n_estimators=500, pca=passthrough; accuracy: (test=0.671) roc_auc: (test=0.732) total time=  16.1s\n",
      "[CV 1/5] END forest__max_features=log2, forest__min_samples_split=2, forest__n_estimators=1000, pca=passthrough; accuracy: (test=0.670) roc_auc: (test=0.730) total time=  32.0s\n",
      "[CV 2/5] END forest__max_features=log2, forest__min_samples_split=2, forest__n_estimators=1000, pca=passthrough; accuracy: (test=0.668) roc_auc: (test=0.729) total time=  31.8s\n",
      "[CV 3/5] END forest__max_features=log2, forest__min_samples_split=2, forest__n_estimators=1000, pca=passthrough; accuracy: (test=0.671) roc_auc: (test=0.736) total time=  31.6s\n",
      "[CV 4/5] END forest__max_features=log2, forest__min_samples_split=2, forest__n_estimators=1000, pca=passthrough; accuracy: (test=0.674) roc_auc: (test=0.734) total time=  31.4s\n",
      "[CV 5/5] END forest__max_features=log2, forest__min_samples_split=2, forest__n_estimators=1000, pca=passthrough; accuracy: (test=0.677) roc_auc: (test=0.736) total time=  31.8s\n",
      "[CV 1/5] END forest__max_features=log2, forest__min_samples_split=2, forest__n_estimators=1500, pca=passthrough; accuracy: (test=0.671) roc_auc: (test=0.732) total time=  47.2s\n",
      "[CV 2/5] END forest__max_features=log2, forest__min_samples_split=2, forest__n_estimators=1500, pca=passthrough; accuracy: (test=0.668) roc_auc: (test=0.730) total time=  47.2s\n",
      "[CV 3/5] END forest__max_features=log2, forest__min_samples_split=2, forest__n_estimators=1500, pca=passthrough; accuracy: (test=0.672) roc_auc: (test=0.737) total time=  47.3s\n",
      "[CV 4/5] END forest__max_features=log2, forest__min_samples_split=2, forest__n_estimators=1500, pca=passthrough; accuracy: (test=0.674) roc_auc: (test=0.735) total time=  47.4s\n",
      "[CV 5/5] END forest__max_features=log2, forest__min_samples_split=2, forest__n_estimators=1500, pca=passthrough; accuracy: (test=0.678) roc_auc: (test=0.736) total time=  47.5s\n",
      "[CV 1/5] END forest__max_features=log2, forest__min_samples_split=10, forest__n_estimators=200, pca=passthrough; accuracy: (test=0.658) roc_auc: (test=0.717) total time=   5.6s\n",
      "[CV 2/5] END forest__max_features=log2, forest__min_samples_split=10, forest__n_estimators=200, pca=passthrough; accuracy: (test=0.659) roc_auc: (test=0.717) total time=   5.6s\n",
      "[CV 3/5] END forest__max_features=log2, forest__min_samples_split=10, forest__n_estimators=200, pca=passthrough; accuracy: (test=0.662) roc_auc: (test=0.724) total time=   5.6s\n",
      "[CV 4/5] END forest__max_features=log2, forest__min_samples_split=10, forest__n_estimators=200, pca=passthrough; accuracy: (test=0.659) roc_auc: (test=0.718) total time=   5.5s\n",
      "[CV 5/5] END forest__max_features=log2, forest__min_samples_split=10, forest__n_estimators=200, pca=passthrough; accuracy: (test=0.664) roc_auc: (test=0.722) total time=   5.8s\n",
      "[CV 1/5] END forest__max_features=log2, forest__min_samples_split=10, forest__n_estimators=500, pca=passthrough; accuracy: (test=0.659) roc_auc: (test=0.721) total time=  13.6s\n",
      "[CV 2/5] END forest__max_features=log2, forest__min_samples_split=10, forest__n_estimators=500, pca=passthrough; accuracy: (test=0.659) roc_auc: (test=0.719) total time=  14.0s\n",
      "[CV 3/5] END forest__max_features=log2, forest__min_samples_split=10, forest__n_estimators=500, pca=passthrough; accuracy: (test=0.665) roc_auc: (test=0.727) total time=  13.9s\n",
      "[CV 4/5] END forest__max_features=log2, forest__min_samples_split=10, forest__n_estimators=500, pca=passthrough; accuracy: (test=0.668) roc_auc: (test=0.724) total time=  13.8s\n",
      "[CV 5/5] END forest__max_features=log2, forest__min_samples_split=10, forest__n_estimators=500, pca=passthrough; accuracy: (test=0.665) roc_auc: (test=0.726) total time=  13.9s\n",
      "[CV 1/5] END forest__max_features=log2, forest__min_samples_split=10, forest__n_estimators=1000, pca=passthrough; accuracy: (test=0.662) roc_auc: (test=0.722) total time=  27.7s\n",
      "[CV 2/5] END forest__max_features=log2, forest__min_samples_split=10, forest__n_estimators=1000, pca=passthrough; accuracy: (test=0.662) roc_auc: (test=0.721) total time=  27.6s\n",
      "[CV 3/5] END forest__max_features=log2, forest__min_samples_split=10, forest__n_estimators=1000, pca=passthrough; accuracy: (test=0.665) roc_auc: (test=0.729) total time=  27.8s\n",
      "[CV 4/5] END forest__max_features=log2, forest__min_samples_split=10, forest__n_estimators=1000, pca=passthrough; accuracy: (test=0.667) roc_auc: (test=0.726) total time=  27.7s\n",
      "[CV 5/5] END forest__max_features=log2, forest__min_samples_split=10, forest__n_estimators=1000, pca=passthrough; accuracy: (test=0.667) roc_auc: (test=0.727) total time=  27.6s\n",
      "[CV 1/5] END forest__max_features=log2, forest__min_samples_split=10, forest__n_estimators=1500, pca=passthrough; accuracy: (test=0.665) roc_auc: (test=0.723) total time=  41.4s\n",
      "[CV 2/5] END forest__max_features=log2, forest__min_samples_split=10, forest__n_estimators=1500, pca=passthrough; accuracy: (test=0.662) roc_auc: (test=0.721) total time=  40.5s\n",
      "[CV 3/5] END forest__max_features=log2, forest__min_samples_split=10, forest__n_estimators=1500, pca=passthrough; accuracy: (test=0.666) roc_auc: (test=0.729) total time=  39.9s\n",
      "[CV 4/5] END forest__max_features=log2, forest__min_samples_split=10, forest__n_estimators=1500, pca=passthrough; accuracy: (test=0.668) roc_auc: (test=0.727) total time=  39.9s\n",
      "[CV 5/5] END forest__max_features=log2, forest__min_samples_split=10, forest__n_estimators=1500, pca=passthrough; accuracy: (test=0.669) roc_auc: (test=0.728) total time=  40.2s\n",
      "[CV 1/5] END forest__max_features=log2, forest__min_samples_split=100, forest__n_estimators=200, pca=passthrough; accuracy: (test=0.642) roc_auc: (test=0.698) total time=   3.9s\n",
      "[CV 2/5] END forest__max_features=log2, forest__min_samples_split=100, forest__n_estimators=200, pca=passthrough; accuracy: (test=0.641) roc_auc: (test=0.695) total time=   4.0s\n",
      "[CV 3/5] END forest__max_features=log2, forest__min_samples_split=100, forest__n_estimators=200, pca=passthrough; accuracy: (test=0.643) roc_auc: (test=0.702) total time=   3.9s\n",
      "[CV 4/5] END forest__max_features=log2, forest__min_samples_split=100, forest__n_estimators=200, pca=passthrough; accuracy: (test=0.644) roc_auc: (test=0.697) total time=   3.9s\n",
      "[CV 5/5] END forest__max_features=log2, forest__min_samples_split=100, forest__n_estimators=200, pca=passthrough; accuracy: (test=0.646) roc_auc: (test=0.700) total time=   4.0s\n",
      "[CV 1/5] END forest__max_features=log2, forest__min_samples_split=100, forest__n_estimators=500, pca=passthrough; accuracy: (test=0.642) roc_auc: (test=0.700) total time=   9.6s\n",
      "[CV 2/5] END forest__max_features=log2, forest__min_samples_split=100, forest__n_estimators=500, pca=passthrough; accuracy: (test=0.641) roc_auc: (test=0.695) total time=   9.7s\n",
      "[CV 3/5] END forest__max_features=log2, forest__min_samples_split=100, forest__n_estimators=500, pca=passthrough; accuracy: (test=0.642) roc_auc: (test=0.703) total time=   9.7s\n",
      "[CV 4/5] END forest__max_features=log2, forest__min_samples_split=100, forest__n_estimators=500, pca=passthrough; accuracy: (test=0.644) roc_auc: (test=0.698) total time=   9.6s\n",
      "[CV 5/5] END forest__max_features=log2, forest__min_samples_split=100, forest__n_estimators=500, pca=passthrough; accuracy: (test=0.647) roc_auc: (test=0.701) total time=   9.7s\n",
      "[CV 1/5] END forest__max_features=log2, forest__min_samples_split=100, forest__n_estimators=1000, pca=passthrough; accuracy: (test=0.643) roc_auc: (test=0.699) total time=  19.3s\n",
      "[CV 2/5] END forest__max_features=log2, forest__min_samples_split=100, forest__n_estimators=1000, pca=passthrough; accuracy: (test=0.640) roc_auc: (test=0.695) total time=  19.6s\n",
      "[CV 3/5] END forest__max_features=log2, forest__min_samples_split=100, forest__n_estimators=1000, pca=passthrough; accuracy: (test=0.642) roc_auc: (test=0.703) total time=  19.3s\n",
      "[CV 4/5] END forest__max_features=log2, forest__min_samples_split=100, forest__n_estimators=1000, pca=passthrough; accuracy: (test=0.642) roc_auc: (test=0.698) total time=  19.0s\n",
      "[CV 5/5] END forest__max_features=log2, forest__min_samples_split=100, forest__n_estimators=1000, pca=passthrough; accuracy: (test=0.644) roc_auc: (test=0.701) total time=  19.2s\n",
      "[CV 1/5] END forest__max_features=log2, forest__min_samples_split=100, forest__n_estimators=1500, pca=passthrough; accuracy: (test=0.644) roc_auc: (test=0.699) total time=  28.8s\n",
      "[CV 2/5] END forest__max_features=log2, forest__min_samples_split=100, forest__n_estimators=1500, pca=passthrough; accuracy: (test=0.639) roc_auc: (test=0.695) total time=  28.8s\n",
      "[CV 3/5] END forest__max_features=log2, forest__min_samples_split=100, forest__n_estimators=1500, pca=passthrough; accuracy: (test=0.643) roc_auc: (test=0.703) total time=  28.9s\n",
      "[CV 4/5] END forest__max_features=log2, forest__min_samples_split=100, forest__n_estimators=1500, pca=passthrough; accuracy: (test=0.641) roc_auc: (test=0.698) total time=  28.7s\n",
      "[CV 5/5] END forest__max_features=log2, forest__min_samples_split=100, forest__n_estimators=1500, pca=passthrough; accuracy: (test=0.644) roc_auc: (test=0.702) total time=  28.9s\n",
      "[CV 1/5] END forest__max_features=sqrt, forest__min_samples_split=2, forest__n_estimators=200, pca=PCA(random_state=1729), pca__n_components=10; accuracy: (test=0.589) roc_auc: (test=0.626) total time=  17.0s\n",
      "[CV 2/5] END forest__max_features=sqrt, forest__min_samples_split=2, forest__n_estimators=200, pca=PCA(random_state=1729), pca__n_components=10; accuracy: (test=0.595) roc_auc: (test=0.632) total time=  17.1s\n",
      "[CV 3/5] END forest__max_features=sqrt, forest__min_samples_split=2, forest__n_estimators=200, pca=PCA(random_state=1729), pca__n_components=10; accuracy: (test=0.594) roc_auc: (test=0.630) total time=  16.7s\n",
      "[CV 4/5] END forest__max_features=sqrt, forest__min_samples_split=2, forest__n_estimators=200, pca=PCA(random_state=1729), pca__n_components=10; accuracy: (test=0.592) roc_auc: (test=0.633) total time=  17.2s\n",
      "[CV 5/5] END forest__max_features=sqrt, forest__min_samples_split=2, forest__n_estimators=200, pca=PCA(random_state=1729), pca__n_components=10; accuracy: (test=0.593) roc_auc: (test=0.631) total time=  17.2s\n",
      "[CV 1/5] END forest__max_features=sqrt, forest__min_samples_split=2, forest__n_estimators=200, pca=PCA(random_state=1729), pca__n_components=15; accuracy: (test=0.593) roc_auc: (test=0.632) total time=  17.6s\n",
      "[CV 2/5] END forest__max_features=sqrt, forest__min_samples_split=2, forest__n_estimators=200, pca=PCA(random_state=1729), pca__n_components=15; accuracy: (test=0.600) roc_auc: (test=0.645) total time=  17.6s\n",
      "[CV 3/5] END forest__max_features=sqrt, forest__min_samples_split=2, forest__n_estimators=200, pca=PCA(random_state=1729), pca__n_components=15; accuracy: (test=0.594) roc_auc: (test=0.633) total time=  17.3s\n",
      "[CV 4/5] END forest__max_features=sqrt, forest__min_samples_split=2, forest__n_estimators=200, pca=PCA(random_state=1729), pca__n_components=15; accuracy: (test=0.596) roc_auc: (test=0.637) total time=  17.6s\n",
      "[CV 5/5] END forest__max_features=sqrt, forest__min_samples_split=2, forest__n_estimators=200, pca=PCA(random_state=1729), pca__n_components=15; accuracy: (test=0.603) roc_auc: (test=0.641) total time=  17.5s\n",
      "[CV 1/5] END forest__max_features=sqrt, forest__min_samples_split=2, forest__n_estimators=200, pca=PCA(random_state=1729), pca__n_components=30; accuracy: (test=0.605) roc_auc: (test=0.649) total time=  25.9s\n",
      "[CV 2/5] END forest__max_features=sqrt, forest__min_samples_split=2, forest__n_estimators=200, pca=PCA(random_state=1729), pca__n_components=30; accuracy: (test=0.614) roc_auc: (test=0.657) total time=  25.7s\n",
      "[CV 3/5] END forest__max_features=sqrt, forest__min_samples_split=2, forest__n_estimators=200, pca=PCA(random_state=1729), pca__n_components=30; accuracy: (test=0.602) roc_auc: (test=0.650) total time=  25.2s\n",
      "[CV 4/5] END forest__max_features=sqrt, forest__min_samples_split=2, forest__n_estimators=200, pca=PCA(random_state=1729), pca__n_components=30; accuracy: (test=0.606) roc_auc: (test=0.655) total time=  25.7s\n",
      "[CV 5/5] END forest__max_features=sqrt, forest__min_samples_split=2, forest__n_estimators=200, pca=PCA(random_state=1729), pca__n_components=30; accuracy: (test=0.620) roc_auc: (test=0.667) total time=  25.9s\n",
      "[CV 1/5] END forest__max_features=sqrt, forest__min_samples_split=2, forest__n_estimators=1000, pca=PCA(random_state=1729), pca__n_components=10; accuracy: (test=0.593) roc_auc: (test=0.631) total time= 1.4min\n",
      "[CV 2/5] END forest__max_features=sqrt, forest__min_samples_split=2, forest__n_estimators=1000, pca=PCA(random_state=1729), pca__n_components=10; accuracy: (test=0.597) roc_auc: (test=0.637) total time= 1.4min\n",
      "[CV 3/5] END forest__max_features=sqrt, forest__min_samples_split=2, forest__n_estimators=1000, pca=PCA(random_state=1729), pca__n_components=10; accuracy: (test=0.594) roc_auc: (test=0.633) total time= 1.4min\n",
      "[CV 4/5] END forest__max_features=sqrt, forest__min_samples_split=2, forest__n_estimators=1000, pca=PCA(random_state=1729), pca__n_components=10; accuracy: (test=0.594) roc_auc: (test=0.637) total time= 1.4min\n",
      "[CV 5/5] END forest__max_features=sqrt, forest__min_samples_split=2, forest__n_estimators=1000, pca=PCA(random_state=1729), pca__n_components=10; accuracy: (test=0.596) roc_auc: (test=0.636) total time= 1.4min\n",
      "[CV 1/5] END forest__max_features=sqrt, forest__min_samples_split=2, forest__n_estimators=1000, pca=PCA(random_state=1729), pca__n_components=15; accuracy: (test=0.603) roc_auc: (test=0.642) total time= 1.4min\n",
      "[CV 2/5] END forest__max_features=sqrt, forest__min_samples_split=2, forest__n_estimators=1000, pca=PCA(random_state=1729), pca__n_components=15; accuracy: (test=0.602) roc_auc: (test=0.649) total time= 1.4min\n",
      "[CV 3/5] END forest__max_features=sqrt, forest__min_samples_split=2, forest__n_estimators=1000, pca=PCA(random_state=1729), pca__n_components=15; accuracy: (test=0.594) roc_auc: (test=0.635) total time= 1.4min\n",
      "[CV 4/5] END forest__max_features=sqrt, forest__min_samples_split=2, forest__n_estimators=1000, pca=PCA(random_state=1729), pca__n_components=15; accuracy: (test=0.601) roc_auc: (test=0.643) total time= 1.4min\n",
      "[CV 5/5] END forest__max_features=sqrt, forest__min_samples_split=2, forest__n_estimators=1000, pca=PCA(random_state=1729), pca__n_components=15; accuracy: (test=0.607) roc_auc: (test=0.647) total time= 1.4min\n",
      "[CV 1/5] END forest__max_features=sqrt, forest__min_samples_split=2, forest__n_estimators=1000, pca=PCA(random_state=1729), pca__n_components=30; accuracy: (test=0.612) roc_auc: (test=0.659) total time= 2.1min\n",
      "[CV 2/5] END forest__max_features=sqrt, forest__min_samples_split=2, forest__n_estimators=1000, pca=PCA(random_state=1729), pca__n_components=30; accuracy: (test=0.617) roc_auc: (test=0.662) total time= 2.1min\n",
      "[CV 3/5] END forest__max_features=sqrt, forest__min_samples_split=2, forest__n_estimators=1000, pca=PCA(random_state=1729), pca__n_components=30; accuracy: (test=0.611) roc_auc: (test=0.657) total time= 2.0min\n",
      "[CV 4/5] END forest__max_features=sqrt, forest__min_samples_split=2, forest__n_estimators=1000, pca=PCA(random_state=1729), pca__n_components=30; accuracy: (test=0.616) roc_auc: (test=0.664) total time= 2.1min\n",
      "[CV 5/5] END forest__max_features=sqrt, forest__min_samples_split=2, forest__n_estimators=1000, pca=PCA(random_state=1729), pca__n_components=30; accuracy: (test=0.624) roc_auc: (test=0.672) total time= 2.1min\n",
      "[CV 1/5] END forest__max_features=sqrt, forest__min_samples_split=2, forest__n_estimators=1500, pca=PCA(random_state=1729), pca__n_components=10; accuracy: (test=0.594) roc_auc: (test=0.631) total time= 2.1min\n",
      "[CV 2/5] END forest__max_features=sqrt, forest__min_samples_split=2, forest__n_estimators=1500, pca=PCA(random_state=1729), pca__n_components=10; accuracy: (test=0.596) roc_auc: (test=0.637) total time= 2.1min\n",
      "[CV 3/5] END forest__max_features=sqrt, forest__min_samples_split=2, forest__n_estimators=1500, pca=PCA(random_state=1729), pca__n_components=10; accuracy: (test=0.596) roc_auc: (test=0.634) total time= 2.1min\n",
      "[CV 4/5] END forest__max_features=sqrt, forest__min_samples_split=2, forest__n_estimators=1500, pca=PCA(random_state=1729), pca__n_components=10; accuracy: (test=0.596) roc_auc: (test=0.637) total time= 2.2min\n",
      "[CV 5/5] END forest__max_features=sqrt, forest__min_samples_split=2, forest__n_estimators=1500, pca=PCA(random_state=1729), pca__n_components=10; accuracy: (test=0.596) roc_auc: (test=0.638) total time= 2.1min\n",
      "[CV 1/5] END forest__max_features=sqrt, forest__min_samples_split=2, forest__n_estimators=1500, pca=PCA(random_state=1729), pca__n_components=15; accuracy: (test=0.603) roc_auc: (test=0.642) total time= 2.2min\n",
      "[CV 2/5] END forest__max_features=sqrt, forest__min_samples_split=2, forest__n_estimators=1500, pca=PCA(random_state=1729), pca__n_components=15; accuracy: (test=0.603) roc_auc: (test=0.650) total time= 2.2min\n",
      "[CV 3/5] END forest__max_features=sqrt, forest__min_samples_split=2, forest__n_estimators=1500, pca=PCA(random_state=1729), pca__n_components=15; accuracy: (test=0.594) roc_auc: (test=0.635) total time= 2.2min\n",
      "[CV 4/5] END forest__max_features=sqrt, forest__min_samples_split=2, forest__n_estimators=1500, pca=PCA(random_state=1729), pca__n_components=15; accuracy: (test=0.603) roc_auc: (test=0.644) total time= 2.3min\n",
      "[CV 5/5] END forest__max_features=sqrt, forest__min_samples_split=2, forest__n_estimators=1500, pca=PCA(random_state=1729), pca__n_components=15; accuracy: (test=0.607) roc_auc: (test=0.648) total time= 2.2min\n",
      "[CV 1/5] END forest__max_features=sqrt, forest__min_samples_split=2, forest__n_estimators=1500, pca=PCA(random_state=1729), pca__n_components=30; accuracy: (test=0.615) roc_auc: (test=0.659) total time= 3.2min\n",
      "[CV 2/5] END forest__max_features=sqrt, forest__min_samples_split=2, forest__n_estimators=1500, pca=PCA(random_state=1729), pca__n_components=30; accuracy: (test=0.617) roc_auc: (test=0.663) total time= 3.2min\n",
      "[CV 3/5] END forest__max_features=sqrt, forest__min_samples_split=2, forest__n_estimators=1500, pca=PCA(random_state=1729), pca__n_components=30; accuracy: (test=0.613) roc_auc: (test=0.658) total time= 3.1min\n",
      "[CV 4/5] END forest__max_features=sqrt, forest__min_samples_split=2, forest__n_estimators=1500, pca=PCA(random_state=1729), pca__n_components=30; accuracy: (test=0.619) roc_auc: (test=0.666) total time= 3.2min\n",
      "[CV 5/5] END forest__max_features=sqrt, forest__min_samples_split=2, forest__n_estimators=1500, pca=PCA(random_state=1729), pca__n_components=30; accuracy: (test=0.625) roc_auc: (test=0.672) total time= 3.1min\n",
      "[CV 1/5] END forest__max_features=sqrt, forest__min_samples_split=10, forest__n_estimators=200, pca=PCA(random_state=1729), pca__n_components=10; accuracy: (test=0.589) roc_auc: (test=0.627) total time=  16.7s\n",
      "[CV 2/5] END forest__max_features=sqrt, forest__min_samples_split=10, forest__n_estimators=200, pca=PCA(random_state=1729), pca__n_components=10; accuracy: (test=0.596) roc_auc: (test=0.636) total time=  16.9s\n",
      "[CV 3/5] END forest__max_features=sqrt, forest__min_samples_split=10, forest__n_estimators=200, pca=PCA(random_state=1729), pca__n_components=10; accuracy: (test=0.594) roc_auc: (test=0.632) total time=  16.3s\n",
      "[CV 4/5] END forest__max_features=sqrt, forest__min_samples_split=10, forest__n_estimators=200, pca=PCA(random_state=1729), pca__n_components=10; accuracy: (test=0.593) roc_auc: (test=0.633) total time=  16.7s\n",
      "[CV 5/5] END forest__max_features=sqrt, forest__min_samples_split=10, forest__n_estimators=200, pca=PCA(random_state=1729), pca__n_components=10; accuracy: (test=0.600) roc_auc: (test=0.637) total time=  17.0s\n",
      "[CV 1/5] END forest__max_features=sqrt, forest__min_samples_split=10, forest__n_estimators=200, pca=PCA(random_state=1729), pca__n_components=15; accuracy: (test=0.601) roc_auc: (test=0.638) total time=  17.2s\n",
      "[CV 2/5] END forest__max_features=sqrt, forest__min_samples_split=10, forest__n_estimators=200, pca=PCA(random_state=1729), pca__n_components=15; accuracy: (test=0.603) roc_auc: (test=0.646) total time=  17.2s\n",
      "[CV 3/5] END forest__max_features=sqrt, forest__min_samples_split=10, forest__n_estimators=200, pca=PCA(random_state=1729), pca__n_components=15; accuracy: (test=0.595) roc_auc: (test=0.635) total time=  17.2s\n",
      "[CV 4/5] END forest__max_features=sqrt, forest__min_samples_split=10, forest__n_estimators=200, pca=PCA(random_state=1729), pca__n_components=15; accuracy: (test=0.597) roc_auc: (test=0.639) total time=  17.2s\n",
      "[CV 5/5] END forest__max_features=sqrt, forest__min_samples_split=10, forest__n_estimators=200, pca=PCA(random_state=1729), pca__n_components=15; accuracy: (test=0.601) roc_auc: (test=0.639) total time=  17.3s\n",
      "[CV 1/5] END forest__max_features=sqrt, forest__min_samples_split=10, forest__n_estimators=200, pca=PCA(random_state=1729), pca__n_components=30; accuracy: (test=0.609) roc_auc: (test=0.655) total time=  25.2s\n",
      "[CV 2/5] END forest__max_features=sqrt, forest__min_samples_split=10, forest__n_estimators=200, pca=PCA(random_state=1729), pca__n_components=30; accuracy: (test=0.614) roc_auc: (test=0.658) total time=  25.3s\n",
      "[CV 3/5] END forest__max_features=sqrt, forest__min_samples_split=10, forest__n_estimators=200, pca=PCA(random_state=1729), pca__n_components=30; accuracy: (test=0.607) roc_auc: (test=0.651) total time=  25.0s\n",
      "[CV 4/5] END forest__max_features=sqrt, forest__min_samples_split=10, forest__n_estimators=200, pca=PCA(random_state=1729), pca__n_components=30; accuracy: (test=0.612) roc_auc: (test=0.658) total time=  25.2s\n",
      "[CV 5/5] END forest__max_features=sqrt, forest__min_samples_split=10, forest__n_estimators=200, pca=PCA(random_state=1729), pca__n_components=30; accuracy: (test=0.614) roc_auc: (test=0.662) total time=  25.6s\n",
      "[CV 1/5] END forest__max_features=sqrt, forest__min_samples_split=10, forest__n_estimators=1000, pca=PCA(random_state=1729), pca__n_components=10; accuracy: (test=0.594) roc_auc: (test=0.630) total time= 1.3min\n",
      "[CV 2/5] END forest__max_features=sqrt, forest__min_samples_split=10, forest__n_estimators=1000, pca=PCA(random_state=1729), pca__n_components=10; accuracy: (test=0.598) roc_auc: (test=0.637) total time= 1.3min\n",
      "[CV 3/5] END forest__max_features=sqrt, forest__min_samples_split=10, forest__n_estimators=1000, pca=PCA(random_state=1729), pca__n_components=10; accuracy: (test=0.596) roc_auc: (test=0.634) total time= 1.3min\n",
      "[CV 4/5] END forest__max_features=sqrt, forest__min_samples_split=10, forest__n_estimators=1000, pca=PCA(random_state=1729), pca__n_components=10; accuracy: (test=0.594) roc_auc: (test=0.637) total time= 1.4min\n",
      "[CV 5/5] END forest__max_features=sqrt, forest__min_samples_split=10, forest__n_estimators=1000, pca=PCA(random_state=1729), pca__n_components=10; accuracy: (test=0.595) roc_auc: (test=0.638) total time= 1.3min\n",
      "[CV 1/5] END forest__max_features=sqrt, forest__min_samples_split=10, forest__n_estimators=1000, pca=PCA(random_state=1729), pca__n_components=15; accuracy: (test=0.603) roc_auc: (test=0.640) total time= 1.4min\n",
      "[CV 2/5] END forest__max_features=sqrt, forest__min_samples_split=10, forest__n_estimators=1000, pca=PCA(random_state=1729), pca__n_components=15; accuracy: (test=0.603) roc_auc: (test=0.648) total time= 1.4min\n",
      "[CV 3/5] END forest__max_features=sqrt, forest__min_samples_split=10, forest__n_estimators=1000, pca=PCA(random_state=1729), pca__n_components=15; accuracy: (test=0.593) roc_auc: (test=0.635) total time= 1.4min\n",
      "[CV 4/5] END forest__max_features=sqrt, forest__min_samples_split=10, forest__n_estimators=1000, pca=PCA(random_state=1729), pca__n_components=15; accuracy: (test=0.602) roc_auc: (test=0.643) total time= 1.4min\n",
      "[CV 5/5] END forest__max_features=sqrt, forest__min_samples_split=10, forest__n_estimators=1000, pca=PCA(random_state=1729), pca__n_components=15; accuracy: (test=0.602) roc_auc: (test=0.643) total time= 1.4min\n",
      "[CV 1/5] END forest__max_features=sqrt, forest__min_samples_split=10, forest__n_estimators=1000, pca=PCA(random_state=1729), pca__n_components=30; accuracy: (test=0.611) roc_auc: (test=0.658) total time= 2.0min\n",
      "[CV 2/5] END forest__max_features=sqrt, forest__min_samples_split=10, forest__n_estimators=1000, pca=PCA(random_state=1729), pca__n_components=30; accuracy: (test=0.617) roc_auc: (test=0.661) total time= 2.0min\n",
      "[CV 3/5] END forest__max_features=sqrt, forest__min_samples_split=10, forest__n_estimators=1000, pca=PCA(random_state=1729), pca__n_components=30; accuracy: (test=0.609) roc_auc: (test=0.656) total time= 2.0min\n",
      "[CV 4/5] END forest__max_features=sqrt, forest__min_samples_split=10, forest__n_estimators=1000, pca=PCA(random_state=1729), pca__n_components=30; accuracy: (test=0.615) roc_auc: (test=0.665) total time= 2.0min\n",
      "[CV 5/5] END forest__max_features=sqrt, forest__min_samples_split=10, forest__n_estimators=1000, pca=PCA(random_state=1729), pca__n_components=30; accuracy: (test=0.621) roc_auc: (test=0.668) total time= 2.0min\n",
      "[CV 1/5] END forest__max_features=sqrt, forest__min_samples_split=10, forest__n_estimators=1500, pca=PCA(random_state=1729), pca__n_components=10; accuracy: (test=0.595) roc_auc: (test=0.630) total time= 2.0min\n",
      "[CV 2/5] END forest__max_features=sqrt, forest__min_samples_split=10, forest__n_estimators=1500, pca=PCA(random_state=1729), pca__n_components=10; accuracy: (test=0.598) roc_auc: (test=0.637) total time= 2.0min\n",
      "[CV 3/5] END forest__max_features=sqrt, forest__min_samples_split=10, forest__n_estimators=1500, pca=PCA(random_state=1729), pca__n_components=10; accuracy: (test=0.592) roc_auc: (test=0.634) total time= 2.0min\n",
      "[CV 4/5] END forest__max_features=sqrt, forest__min_samples_split=10, forest__n_estimators=1500, pca=PCA(random_state=1729), pca__n_components=10; accuracy: (test=0.593) roc_auc: (test=0.638) total time= 2.0min\n",
      "[CV 5/5] END forest__max_features=sqrt, forest__min_samples_split=10, forest__n_estimators=1500, pca=PCA(random_state=1729), pca__n_components=10; accuracy: (test=0.594) roc_auc: (test=0.637) total time= 2.0min\n",
      "[CV 1/5] END forest__max_features=sqrt, forest__min_samples_split=10, forest__n_estimators=1500, pca=PCA(random_state=1729), pca__n_components=15; accuracy: (test=0.604) roc_auc: (test=0.641) total time= 2.1min\n",
      "[CV 2/5] END forest__max_features=sqrt, forest__min_samples_split=10, forest__n_estimators=1500, pca=PCA(random_state=1729), pca__n_components=15; accuracy: (test=0.605) roc_auc: (test=0.649) total time= 2.1min\n",
      "[CV 3/5] END forest__max_features=sqrt, forest__min_samples_split=10, forest__n_estimators=1500, pca=PCA(random_state=1729), pca__n_components=15; accuracy: (test=0.592) roc_auc: (test=0.635) total time= 2.0min\n",
      "[CV 4/5] END forest__max_features=sqrt, forest__min_samples_split=10, forest__n_estimators=1500, pca=PCA(random_state=1729), pca__n_components=15; accuracy: (test=0.602) roc_auc: (test=0.643) total time= 2.1min\n",
      "[CV 5/5] END forest__max_features=sqrt, forest__min_samples_split=10, forest__n_estimators=1500, pca=PCA(random_state=1729), pca__n_components=15; accuracy: (test=0.601) roc_auc: (test=0.643) total time= 2.1min\n",
      "[CV 1/5] END forest__max_features=sqrt, forest__min_samples_split=10, forest__n_estimators=1500, pca=PCA(random_state=1729), pca__n_components=30; accuracy: (test=0.613) roc_auc: (test=0.659) total time= 3.1min\n",
      "[CV 2/5] END forest__max_features=sqrt, forest__min_samples_split=10, forest__n_estimators=1500, pca=PCA(random_state=1729), pca__n_components=30; accuracy: (test=0.617) roc_auc: (test=0.662) total time= 3.1min\n",
      "[CV 3/5] END forest__max_features=sqrt, forest__min_samples_split=10, forest__n_estimators=1500, pca=PCA(random_state=1729), pca__n_components=30; accuracy: (test=0.610) roc_auc: (test=0.658) total time= 3.0min\n",
      "[CV 4/5] END forest__max_features=sqrt, forest__min_samples_split=10, forest__n_estimators=1500, pca=PCA(random_state=1729), pca__n_components=30; accuracy: (test=0.614) roc_auc: (test=0.666) total time= 3.1min\n",
      "[CV 5/5] END forest__max_features=sqrt, forest__min_samples_split=10, forest__n_estimators=1500, pca=PCA(random_state=1729), pca__n_components=30; accuracy: (test=0.621) roc_auc: (test=0.669) total time= 3.1min\n",
      "[CV 1/5] END forest__max_features=log2, forest__min_samples_split=2, forest__n_estimators=200, pca=PCA(random_state=1729), pca__n_components=10; accuracy: (test=0.589) roc_auc: (test=0.626) total time=  17.2s\n",
      "[CV 2/5] END forest__max_features=log2, forest__min_samples_split=2, forest__n_estimators=200, pca=PCA(random_state=1729), pca__n_components=10; accuracy: (test=0.595) roc_auc: (test=0.632) total time=  17.7s\n",
      "[CV 3/5] END forest__max_features=log2, forest__min_samples_split=2, forest__n_estimators=200, pca=PCA(random_state=1729), pca__n_components=10; accuracy: (test=0.594) roc_auc: (test=0.630) total time=  17.0s\n",
      "[CV 4/5] END forest__max_features=log2, forest__min_samples_split=2, forest__n_estimators=200, pca=PCA(random_state=1729), pca__n_components=10; accuracy: (test=0.592) roc_auc: (test=0.633) total time=  17.5s\n",
      "[CV 5/5] END forest__max_features=log2, forest__min_samples_split=2, forest__n_estimators=200, pca=PCA(random_state=1729), pca__n_components=10; accuracy: (test=0.593) roc_auc: (test=0.631) total time=  17.7s\n",
      "[CV 1/5] END forest__max_features=log2, forest__min_samples_split=2, forest__n_estimators=200, pca=PCA(random_state=1729), pca__n_components=15; accuracy: (test=0.593) roc_auc: (test=0.632) total time=  17.7s\n",
      "[CV 2/5] END forest__max_features=log2, forest__min_samples_split=2, forest__n_estimators=200, pca=PCA(random_state=1729), pca__n_components=15; accuracy: (test=0.600) roc_auc: (test=0.645) total time=  17.8s\n",
      "[CV 3/5] END forest__max_features=log2, forest__min_samples_split=2, forest__n_estimators=200, pca=PCA(random_state=1729), pca__n_components=15; accuracy: (test=0.594) roc_auc: (test=0.633) total time=  17.7s\n",
      "[CV 4/5] END forest__max_features=log2, forest__min_samples_split=2, forest__n_estimators=200, pca=PCA(random_state=1729), pca__n_components=15; accuracy: (test=0.596) roc_auc: (test=0.637) total time=  17.8s\n",
      "[CV 5/5] END forest__max_features=log2, forest__min_samples_split=2, forest__n_estimators=200, pca=PCA(random_state=1729), pca__n_components=15; accuracy: (test=0.603) roc_auc: (test=0.641) total time=  18.1s\n",
      "[CV 1/5] END forest__max_features=log2, forest__min_samples_split=2, forest__n_estimators=200, pca=PCA(random_state=1729), pca__n_components=30; accuracy: (test=0.610) roc_auc: (test=0.655) total time=  21.5s\n",
      "[CV 2/5] END forest__max_features=log2, forest__min_samples_split=2, forest__n_estimators=200, pca=PCA(random_state=1729), pca__n_components=30; accuracy: (test=0.609) roc_auc: (test=0.651) total time=  21.7s\n",
      "[CV 3/5] END forest__max_features=log2, forest__min_samples_split=2, forest__n_estimators=200, pca=PCA(random_state=1729), pca__n_components=30; accuracy: (test=0.606) roc_auc: (test=0.651) total time=  21.2s\n",
      "[CV 4/5] END forest__max_features=log2, forest__min_samples_split=2, forest__n_estimators=200, pca=PCA(random_state=1729), pca__n_components=30; accuracy: (test=0.613) roc_auc: (test=0.657) total time=  21.6s\n",
      "[CV 5/5] END forest__max_features=log2, forest__min_samples_split=2, forest__n_estimators=200, pca=PCA(random_state=1729), pca__n_components=30; accuracy: (test=0.617) roc_auc: (test=0.664) total time=  21.7s\n",
      "[CV 1/5] END forest__max_features=log2, forest__min_samples_split=2, forest__n_estimators=1000, pca=PCA(random_state=1729), pca__n_components=10; accuracy: (test=0.593) roc_auc: (test=0.631) total time= 1.4min\n",
      "[CV 2/5] END forest__max_features=log2, forest__min_samples_split=2, forest__n_estimators=1000, pca=PCA(random_state=1729), pca__n_components=10; accuracy: (test=0.597) roc_auc: (test=0.637) total time= 1.4min\n",
      "[CV 3/5] END forest__max_features=log2, forest__min_samples_split=2, forest__n_estimators=1000, pca=PCA(random_state=1729), pca__n_components=10; accuracy: (test=0.594) roc_auc: (test=0.633) total time= 1.4min\n",
      "[CV 4/5] END forest__max_features=log2, forest__min_samples_split=2, forest__n_estimators=1000, pca=PCA(random_state=1729), pca__n_components=10; accuracy: (test=0.594) roc_auc: (test=0.637) total time= 1.4min\n",
      "[CV 5/5] END forest__max_features=log2, forest__min_samples_split=2, forest__n_estimators=1000, pca=PCA(random_state=1729), pca__n_components=10; accuracy: (test=0.596) roc_auc: (test=0.636) total time= 1.4min\n",
      "[CV 1/5] END forest__max_features=log2, forest__min_samples_split=2, forest__n_estimators=1000, pca=PCA(random_state=1729), pca__n_components=15; accuracy: (test=0.603) roc_auc: (test=0.642) total time= 1.4min\n",
      "[CV 2/5] END forest__max_features=log2, forest__min_samples_split=2, forest__n_estimators=1000, pca=PCA(random_state=1729), pca__n_components=15; accuracy: (test=0.602) roc_auc: (test=0.649) total time= 1.4min\n",
      "[CV 3/5] END forest__max_features=log2, forest__min_samples_split=2, forest__n_estimators=1000, pca=PCA(random_state=1729), pca__n_components=15; accuracy: (test=0.594) roc_auc: (test=0.635) total time= 1.4min\n",
      "[CV 4/5] END forest__max_features=log2, forest__min_samples_split=2, forest__n_estimators=1000, pca=PCA(random_state=1729), pca__n_components=15; accuracy: (test=0.601) roc_auc: (test=0.643) total time= 1.4min\n",
      "[CV 5/5] END forest__max_features=log2, forest__min_samples_split=2, forest__n_estimators=1000, pca=PCA(random_state=1729), pca__n_components=15; accuracy: (test=0.607) roc_auc: (test=0.647) total time= 1.4min\n",
      "[CV 1/5] END forest__max_features=log2, forest__min_samples_split=2, forest__n_estimators=1000, pca=PCA(random_state=1729), pca__n_components=30; accuracy: (test=0.615) roc_auc: (test=0.660) total time= 1.7min\n",
      "[CV 2/5] END forest__max_features=log2, forest__min_samples_split=2, forest__n_estimators=1000, pca=PCA(random_state=1729), pca__n_components=30; accuracy: (test=0.616) roc_auc: (test=0.661) total time= 1.7min\n",
      "[CV 3/5] END forest__max_features=log2, forest__min_samples_split=2, forest__n_estimators=1000, pca=PCA(random_state=1729), pca__n_components=30; accuracy: (test=0.611) roc_auc: (test=0.657) total time= 1.7min\n",
      "[CV 4/5] END forest__max_features=log2, forest__min_samples_split=2, forest__n_estimators=1000, pca=PCA(random_state=1729), pca__n_components=30; accuracy: (test=0.616) roc_auc: (test=0.666) total time= 1.7min\n",
      "[CV 5/5] END forest__max_features=log2, forest__min_samples_split=2, forest__n_estimators=1000, pca=PCA(random_state=1729), pca__n_components=30; accuracy: (test=0.624) roc_auc: (test=0.670) total time= 1.7min\n",
      "[CV 1/5] END forest__max_features=log2, forest__min_samples_split=2, forest__n_estimators=1500, pca=PCA(random_state=1729), pca__n_components=10; accuracy: (test=0.594) roc_auc: (test=0.631) total time= 2.1min\n",
      "[CV 2/5] END forest__max_features=log2, forest__min_samples_split=2, forest__n_estimators=1500, pca=PCA(random_state=1729), pca__n_components=10; accuracy: (test=0.596) roc_auc: (test=0.637) total time= 2.1min\n",
      "[CV 3/5] END forest__max_features=log2, forest__min_samples_split=2, forest__n_estimators=1500, pca=PCA(random_state=1729), pca__n_components=10; accuracy: (test=0.596) roc_auc: (test=0.634) total time= 2.1min\n",
      "[CV 4/5] END forest__max_features=log2, forest__min_samples_split=2, forest__n_estimators=1500, pca=PCA(random_state=1729), pca__n_components=10; accuracy: (test=0.596) roc_auc: (test=0.637) total time= 2.1min\n",
      "[CV 5/5] END forest__max_features=log2, forest__min_samples_split=2, forest__n_estimators=1500, pca=PCA(random_state=1729), pca__n_components=10; accuracy: (test=0.596) roc_auc: (test=0.638) total time= 2.1min\n",
      "[CV 1/5] END forest__max_features=log2, forest__min_samples_split=2, forest__n_estimators=1500, pca=PCA(random_state=1729), pca__n_components=15; accuracy: (test=0.603) roc_auc: (test=0.642) total time= 2.2min\n",
      "[CV 2/5] END forest__max_features=log2, forest__min_samples_split=2, forest__n_estimators=1500, pca=PCA(random_state=1729), pca__n_components=15; accuracy: (test=0.603) roc_auc: (test=0.650) total time= 2.2min\n",
      "[CV 3/5] END forest__max_features=log2, forest__min_samples_split=2, forest__n_estimators=1500, pca=PCA(random_state=1729), pca__n_components=15; accuracy: (test=0.594) roc_auc: (test=0.635) total time= 2.1min\n",
      "[CV 4/5] END forest__max_features=log2, forest__min_samples_split=2, forest__n_estimators=1500, pca=PCA(random_state=1729), pca__n_components=15; accuracy: (test=0.603) roc_auc: (test=0.644) total time= 2.2min\n",
      "[CV 5/5] END forest__max_features=log2, forest__min_samples_split=2, forest__n_estimators=1500, pca=PCA(random_state=1729), pca__n_components=15; accuracy: (test=0.607) roc_auc: (test=0.648) total time= 2.2min\n",
      "[CV 1/5] END forest__max_features=log2, forest__min_samples_split=2, forest__n_estimators=1500, pca=PCA(random_state=1729), pca__n_components=30; accuracy: (test=0.612) roc_auc: (test=0.660) total time= 2.6min\n",
      "[CV 2/5] END forest__max_features=log2, forest__min_samples_split=2, forest__n_estimators=1500, pca=PCA(random_state=1729), pca__n_components=30; accuracy: (test=0.616) roc_auc: (test=0.662) total time= 2.6min\n",
      "[CV 3/5] END forest__max_features=log2, forest__min_samples_split=2, forest__n_estimators=1500, pca=PCA(random_state=1729), pca__n_components=30; accuracy: (test=0.613) roc_auc: (test=0.658) total time= 2.5min\n",
      "[CV 4/5] END forest__max_features=log2, forest__min_samples_split=2, forest__n_estimators=1500, pca=PCA(random_state=1729), pca__n_components=30; accuracy: (test=0.618) roc_auc: (test=0.667) total time= 2.6min\n",
      "[CV 5/5] END forest__max_features=log2, forest__min_samples_split=2, forest__n_estimators=1500, pca=PCA(random_state=1729), pca__n_components=30; accuracy: (test=0.627) roc_auc: (test=0.672) total time= 2.6min\n",
      "[CV 1/5] END forest__max_features=log2, forest__min_samples_split=10, forest__n_estimators=200, pca=PCA(random_state=1729), pca__n_components=10; accuracy: (test=0.589) roc_auc: (test=0.627) total time=  16.8s\n",
      "[CV 2/5] END forest__max_features=log2, forest__min_samples_split=10, forest__n_estimators=200, pca=PCA(random_state=1729), pca__n_components=10; accuracy: (test=0.596) roc_auc: (test=0.636) total time=  16.8s\n",
      "[CV 3/5] END forest__max_features=log2, forest__min_samples_split=10, forest__n_estimators=200, pca=PCA(random_state=1729), pca__n_components=10; accuracy: (test=0.594) roc_auc: (test=0.632) total time=  16.6s\n",
      "[CV 4/5] END forest__max_features=log2, forest__min_samples_split=10, forest__n_estimators=200, pca=PCA(random_state=1729), pca__n_components=10; accuracy: (test=0.593) roc_auc: (test=0.633) total time=  17.1s\n",
      "[CV 5/5] END forest__max_features=log2, forest__min_samples_split=10, forest__n_estimators=200, pca=PCA(random_state=1729), pca__n_components=10; accuracy: (test=0.600) roc_auc: (test=0.637) total time=  16.9s\n",
      "[CV 1/5] END forest__max_features=log2, forest__min_samples_split=10, forest__n_estimators=200, pca=PCA(random_state=1729), pca__n_components=15; accuracy: (test=0.601) roc_auc: (test=0.638) total time=  17.3s\n",
      "[CV 2/5] END forest__max_features=log2, forest__min_samples_split=10, forest__n_estimators=200, pca=PCA(random_state=1729), pca__n_components=15; accuracy: (test=0.603) roc_auc: (test=0.646) total time=  17.5s\n",
      "[CV 3/5] END forest__max_features=log2, forest__min_samples_split=10, forest__n_estimators=200, pca=PCA(random_state=1729), pca__n_components=15; accuracy: (test=0.595) roc_auc: (test=0.635) total time=  17.3s\n",
      "[CV 4/5] END forest__max_features=log2, forest__min_samples_split=10, forest__n_estimators=200, pca=PCA(random_state=1729), pca__n_components=15; accuracy: (test=0.597) roc_auc: (test=0.639) total time=  17.3s\n",
      "[CV 5/5] END forest__max_features=log2, forest__min_samples_split=10, forest__n_estimators=200, pca=PCA(random_state=1729), pca__n_components=15; accuracy: (test=0.601) roc_auc: (test=0.639) total time=  17.6s\n",
      "[CV 1/5] END forest__max_features=log2, forest__min_samples_split=10, forest__n_estimators=200, pca=PCA(random_state=1729), pca__n_components=30; accuracy: (test=0.610) roc_auc: (test=0.656) total time=  21.1s\n",
      "[CV 2/5] END forest__max_features=log2, forest__min_samples_split=10, forest__n_estimators=200, pca=PCA(random_state=1729), pca__n_components=30; accuracy: (test=0.611) roc_auc: (test=0.654) total time=  21.2s\n",
      "[CV 3/5] END forest__max_features=log2, forest__min_samples_split=10, forest__n_estimators=200, pca=PCA(random_state=1729), pca__n_components=30; accuracy: (test=0.606) roc_auc: (test=0.651) total time=  21.1s\n",
      "[CV 4/5] END forest__max_features=log2, forest__min_samples_split=10, forest__n_estimators=200, pca=PCA(random_state=1729), pca__n_components=30; accuracy: (test=0.614) roc_auc: (test=0.662) total time=  21.4s\n",
      "[CV 5/5] END forest__max_features=log2, forest__min_samples_split=10, forest__n_estimators=200, pca=PCA(random_state=1729), pca__n_components=30; accuracy: (test=0.617) roc_auc: (test=0.664) total time=  21.2s\n",
      "[CV 1/5] END forest__max_features=log2, forest__min_samples_split=10, forest__n_estimators=1000, pca=PCA(random_state=1729), pca__n_components=10; accuracy: (test=0.594) roc_auc: (test=0.630) total time= 1.3min\n",
      "[CV 2/5] END forest__max_features=log2, forest__min_samples_split=10, forest__n_estimators=1000, pca=PCA(random_state=1729), pca__n_components=10; accuracy: (test=0.598) roc_auc: (test=0.637) total time= 1.4min\n",
      "[CV 3/5] END forest__max_features=log2, forest__min_samples_split=10, forest__n_estimators=1000, pca=PCA(random_state=1729), pca__n_components=10; accuracy: (test=0.596) roc_auc: (test=0.634) total time= 1.3min\n",
      "[CV 4/5] END forest__max_features=log2, forest__min_samples_split=10, forest__n_estimators=1000, pca=PCA(random_state=1729), pca__n_components=10; accuracy: (test=0.594) roc_auc: (test=0.637) total time= 1.4min\n",
      "[CV 5/5] END forest__max_features=log2, forest__min_samples_split=10, forest__n_estimators=1000, pca=PCA(random_state=1729), pca__n_components=10; accuracy: (test=0.595) roc_auc: (test=0.638) total time= 1.4min\n",
      "[CV 1/5] END forest__max_features=log2, forest__min_samples_split=10, forest__n_estimators=1000, pca=PCA(random_state=1729), pca__n_components=15; accuracy: (test=0.603) roc_auc: (test=0.640) total time= 1.4min\n",
      "[CV 2/5] END forest__max_features=log2, forest__min_samples_split=10, forest__n_estimators=1000, pca=PCA(random_state=1729), pca__n_components=15; accuracy: (test=0.603) roc_auc: (test=0.648) total time= 1.4min\n",
      "[CV 3/5] END forest__max_features=log2, forest__min_samples_split=10, forest__n_estimators=1000, pca=PCA(random_state=1729), pca__n_components=15; accuracy: (test=0.593) roc_auc: (test=0.635) total time= 1.4min\n",
      "[CV 4/5] END forest__max_features=log2, forest__min_samples_split=10, forest__n_estimators=1000, pca=PCA(random_state=1729), pca__n_components=15; accuracy: (test=0.602) roc_auc: (test=0.643) total time= 1.4min\n",
      "[CV 5/5] END forest__max_features=log2, forest__min_samples_split=10, forest__n_estimators=1000, pca=PCA(random_state=1729), pca__n_components=15; accuracy: (test=0.602) roc_auc: (test=0.643) total time= 1.4min\n",
      "[CV 1/5] END forest__max_features=log2, forest__min_samples_split=10, forest__n_estimators=1000, pca=PCA(random_state=1729), pca__n_components=30; accuracy: (test=0.612) roc_auc: (test=0.659) total time= 1.7min\n",
      "[CV 2/5] END forest__max_features=log2, forest__min_samples_split=10, forest__n_estimators=1000, pca=PCA(random_state=1729), pca__n_components=30; accuracy: (test=0.613) roc_auc: (test=0.659) total time= 1.7min\n",
      "[CV 3/5] END forest__max_features=log2, forest__min_samples_split=10, forest__n_estimators=1000, pca=PCA(random_state=1729), pca__n_components=30; accuracy: (test=0.613) roc_auc: (test=0.657) total time= 1.7min\n",
      "[CV 4/5] END forest__max_features=log2, forest__min_samples_split=10, forest__n_estimators=1000, pca=PCA(random_state=1729), pca__n_components=30; accuracy: (test=0.618) roc_auc: (test=0.665) total time= 1.7min\n",
      "[CV 5/5] END forest__max_features=log2, forest__min_samples_split=10, forest__n_estimators=1000, pca=PCA(random_state=1729), pca__n_components=30; accuracy: (test=0.621) roc_auc: (test=0.670) total time= 1.7min\n",
      "[CV 1/5] END forest__max_features=log2, forest__min_samples_split=10, forest__n_estimators=1500, pca=PCA(random_state=1729), pca__n_components=10; accuracy: (test=0.595) roc_auc: (test=0.630) total time= 2.0min\n",
      "[CV 2/5] END forest__max_features=log2, forest__min_samples_split=10, forest__n_estimators=1500, pca=PCA(random_state=1729), pca__n_components=10; accuracy: (test=0.598) roc_auc: (test=0.637) total time= 2.0min\n",
      "[CV 3/5] END forest__max_features=log2, forest__min_samples_split=10, forest__n_estimators=1500, pca=PCA(random_state=1729), pca__n_components=10; accuracy: (test=0.592) roc_auc: (test=0.634) total time= 2.0min\n",
      "[CV 4/5] END forest__max_features=log2, forest__min_samples_split=10, forest__n_estimators=1500, pca=PCA(random_state=1729), pca__n_components=10; accuracy: (test=0.593) roc_auc: (test=0.638) total time= 2.0min\n",
      "[CV 5/5] END forest__max_features=log2, forest__min_samples_split=10, forest__n_estimators=1500, pca=PCA(random_state=1729), pca__n_components=10; accuracy: (test=0.594) roc_auc: (test=0.637) total time= 2.0min\n",
      "[CV 1/5] END forest__max_features=log2, forest__min_samples_split=10, forest__n_estimators=1500, pca=PCA(random_state=1729), pca__n_components=15; accuracy: (test=0.604) roc_auc: (test=0.641) total time= 2.1min\n",
      "[CV 2/5] END forest__max_features=log2, forest__min_samples_split=10, forest__n_estimators=1500, pca=PCA(random_state=1729), pca__n_components=15; accuracy: (test=0.605) roc_auc: (test=0.649) total time= 2.1min\n",
      "[CV 3/5] END forest__max_features=log2, forest__min_samples_split=10, forest__n_estimators=1500, pca=PCA(random_state=1729), pca__n_components=15; accuracy: (test=0.592) roc_auc: (test=0.635) total time= 2.0min\n",
      "[CV 4/5] END forest__max_features=log2, forest__min_samples_split=10, forest__n_estimators=1500, pca=PCA(random_state=1729), pca__n_components=15; accuracy: (test=0.602) roc_auc: (test=0.643) total time= 2.1min\n",
      "[CV 5/5] END forest__max_features=log2, forest__min_samples_split=10, forest__n_estimators=1500, pca=PCA(random_state=1729), pca__n_components=15; accuracy: (test=0.601) roc_auc: (test=0.643) total time= 2.1min\n",
      "[CV 1/5] END forest__max_features=log2, forest__min_samples_split=10, forest__n_estimators=1500, pca=PCA(random_state=1729), pca__n_components=30; accuracy: (test=0.613) roc_auc: (test=0.659) total time= 2.5min\n",
      "[CV 2/5] END forest__max_features=log2, forest__min_samples_split=10, forest__n_estimators=1500, pca=PCA(random_state=1729), pca__n_components=30; accuracy: (test=0.615) roc_auc: (test=0.660) total time= 2.5min\n",
      "[CV 3/5] END forest__max_features=log2, forest__min_samples_split=10, forest__n_estimators=1500, pca=PCA(random_state=1729), pca__n_components=30; accuracy: (test=0.614) roc_auc: (test=0.658) total time= 2.5min\n",
      "[CV 4/5] END forest__max_features=log2, forest__min_samples_split=10, forest__n_estimators=1500, pca=PCA(random_state=1729), pca__n_components=30; accuracy: (test=0.617) roc_auc: (test=0.665) total time= 2.5min\n",
      "[CV 5/5] END forest__max_features=log2, forest__min_samples_split=10, forest__n_estimators=1500, pca=PCA(random_state=1729), pca__n_components=30; accuracy: (test=0.622) roc_auc: (test=0.670) total time= 2.5min\n"
     ]
    },
    {
     "data": {
      "text/html": [
       "<style>#sk-container-id-1 {color: black;}#sk-container-id-1 pre{padding: 0;}#sk-container-id-1 div.sk-toggleable {background-color: white;}#sk-container-id-1 label.sk-toggleable__label {cursor: pointer;display: block;width: 100%;margin-bottom: 0;padding: 0.3em;box-sizing: border-box;text-align: center;}#sk-container-id-1 label.sk-toggleable__label-arrow:before {content: \"▸\";float: left;margin-right: 0.25em;color: #696969;}#sk-container-id-1 label.sk-toggleable__label-arrow:hover:before {color: black;}#sk-container-id-1 div.sk-estimator:hover label.sk-toggleable__label-arrow:before {color: black;}#sk-container-id-1 div.sk-toggleable__content {max-height: 0;max-width: 0;overflow: hidden;text-align: left;background-color: #f0f8ff;}#sk-container-id-1 div.sk-toggleable__content pre {margin: 0.2em;color: black;border-radius: 0.25em;background-color: #f0f8ff;}#sk-container-id-1 input.sk-toggleable__control:checked~div.sk-toggleable__content {max-height: 200px;max-width: 100%;overflow: auto;}#sk-container-id-1 input.sk-toggleable__control:checked~label.sk-toggleable__label-arrow:before {content: \"▾\";}#sk-container-id-1 div.sk-estimator input.sk-toggleable__control:checked~label.sk-toggleable__label {background-color: #d4ebff;}#sk-container-id-1 div.sk-label input.sk-toggleable__control:checked~label.sk-toggleable__label {background-color: #d4ebff;}#sk-container-id-1 input.sk-hidden--visually {border: 0;clip: rect(1px 1px 1px 1px);clip: rect(1px, 1px, 1px, 1px);height: 1px;margin: -1px;overflow: hidden;padding: 0;position: absolute;width: 1px;}#sk-container-id-1 div.sk-estimator {font-family: monospace;background-color: #f0f8ff;border: 1px dotted black;border-radius: 0.25em;box-sizing: border-box;margin-bottom: 0.5em;}#sk-container-id-1 div.sk-estimator:hover {background-color: #d4ebff;}#sk-container-id-1 div.sk-parallel-item::after {content: \"\";width: 100%;border-bottom: 1px solid gray;flex-grow: 1;}#sk-container-id-1 div.sk-label:hover label.sk-toggleable__label {background-color: #d4ebff;}#sk-container-id-1 div.sk-serial::before {content: \"\";position: absolute;border-left: 1px solid gray;box-sizing: border-box;top: 0;bottom: 0;left: 50%;z-index: 0;}#sk-container-id-1 div.sk-serial {display: flex;flex-direction: column;align-items: center;background-color: white;padding-right: 0.2em;padding-left: 0.2em;position: relative;}#sk-container-id-1 div.sk-item {position: relative;z-index: 1;}#sk-container-id-1 div.sk-parallel {display: flex;align-items: stretch;justify-content: center;background-color: white;position: relative;}#sk-container-id-1 div.sk-item::before, #sk-container-id-1 div.sk-parallel-item::before {content: \"\";position: absolute;border-left: 1px solid gray;box-sizing: border-box;top: 0;bottom: 0;left: 50%;z-index: -1;}#sk-container-id-1 div.sk-parallel-item {display: flex;flex-direction: column;z-index: 1;position: relative;background-color: white;}#sk-container-id-1 div.sk-parallel-item:first-child::after {align-self: flex-end;width: 50%;}#sk-container-id-1 div.sk-parallel-item:last-child::after {align-self: flex-start;width: 50%;}#sk-container-id-1 div.sk-parallel-item:only-child::after {width: 0;}#sk-container-id-1 div.sk-dashed-wrapped {border: 1px dashed gray;margin: 0 0.4em 0.5em 0.4em;box-sizing: border-box;padding-bottom: 0.4em;background-color: white;}#sk-container-id-1 div.sk-label label {font-family: monospace;font-weight: bold;display: inline-block;line-height: 1.2em;}#sk-container-id-1 div.sk-label-container {text-align: center;}#sk-container-id-1 div.sk-container {/* jupyter's `normalize.less` sets `[hidden] { display: none; }` but bootstrap.min.css set `[hidden] { display: none !important; }` so we also need the `!important` here to be able to override the default hidden behavior on the sphinx rendered scikit-learn.org. See: https://github.com/scikit-learn/scikit-learn/issues/21755 */display: inline-block !important;position: relative;}#sk-container-id-1 div.sk-text-repr-fallback {display: none;}</style><div id=\"sk-container-id-1\" class=\"sk-top-container\"><div class=\"sk-text-repr-fallback\"><pre>GridSearchCV(estimator=Pipeline(steps=[(&#x27;pca&#x27;, PCA(random_state=1729)),\n",
       "                                       (&#x27;forest&#x27;,\n",
       "                                        RandomForestClassifier(n_jobs=3,\n",
       "                                                               random_state=1729))]),\n",
       "             param_grid=[{&#x27;forest__max_features&#x27;: [&#x27;sqrt&#x27;, &#x27;log2&#x27;],\n",
       "                          &#x27;forest__min_samples_split&#x27;: [2, 10, 100],\n",
       "                          &#x27;forest__n_estimators&#x27;: [200, 500, 1000, 1500],\n",
       "                          &#x27;pca&#x27;: [&#x27;passthrough&#x27;]},\n",
       "                         {&#x27;forest__max_features&#x27;: [&#x27;sqrt&#x27;, &#x27;log2&#x27;],\n",
       "                          &#x27;forest__min_samples_split&#x27;: [2, 10],\n",
       "                          &#x27;forest__n_estimators&#x27;: [200, 1000, 1500],\n",
       "                          &#x27;pca&#x27;: [PCA(random_state=1729)],\n",
       "                          &#x27;pca__n_components&#x27;: [10, 15, 30]}],\n",
       "             refit=&#x27;roc_auc&#x27;, scoring=(&#x27;roc_auc&#x27;, &#x27;accuracy&#x27;), verbose=4)</pre><b>In a Jupyter environment, please rerun this cell to show the HTML representation or trust the notebook. <br />On GitHub, the HTML representation is unable to render, please try loading this page with nbviewer.org.</b></div><div class=\"sk-container\" hidden><div class=\"sk-item sk-dashed-wrapped\"><div class=\"sk-label-container\"><div class=\"sk-label sk-toggleable\"><input class=\"sk-toggleable__control sk-hidden--visually\" id=\"sk-estimator-id-1\" type=\"checkbox\" ><label for=\"sk-estimator-id-1\" class=\"sk-toggleable__label sk-toggleable__label-arrow\">GridSearchCV</label><div class=\"sk-toggleable__content\"><pre>GridSearchCV(estimator=Pipeline(steps=[(&#x27;pca&#x27;, PCA(random_state=1729)),\n",
       "                                       (&#x27;forest&#x27;,\n",
       "                                        RandomForestClassifier(n_jobs=3,\n",
       "                                                               random_state=1729))]),\n",
       "             param_grid=[{&#x27;forest__max_features&#x27;: [&#x27;sqrt&#x27;, &#x27;log2&#x27;],\n",
       "                          &#x27;forest__min_samples_split&#x27;: [2, 10, 100],\n",
       "                          &#x27;forest__n_estimators&#x27;: [200, 500, 1000, 1500],\n",
       "                          &#x27;pca&#x27;: [&#x27;passthrough&#x27;]},\n",
       "                         {&#x27;forest__max_features&#x27;: [&#x27;sqrt&#x27;, &#x27;log2&#x27;],\n",
       "                          &#x27;forest__min_samples_split&#x27;: [2, 10],\n",
       "                          &#x27;forest__n_estimators&#x27;: [200, 1000, 1500],\n",
       "                          &#x27;pca&#x27;: [PCA(random_state=1729)],\n",
       "                          &#x27;pca__n_components&#x27;: [10, 15, 30]}],\n",
       "             refit=&#x27;roc_auc&#x27;, scoring=(&#x27;roc_auc&#x27;, &#x27;accuracy&#x27;), verbose=4)</pre></div></div></div><div class=\"sk-parallel\"><div class=\"sk-parallel-item\"><div class=\"sk-item\"><div class=\"sk-label-container\"><div class=\"sk-label sk-toggleable\"><input class=\"sk-toggleable__control sk-hidden--visually\" id=\"sk-estimator-id-2\" type=\"checkbox\" ><label for=\"sk-estimator-id-2\" class=\"sk-toggleable__label sk-toggleable__label-arrow\">estimator: Pipeline</label><div class=\"sk-toggleable__content\"><pre>Pipeline(steps=[(&#x27;pca&#x27;, PCA(random_state=1729)),\n",
       "                (&#x27;forest&#x27;,\n",
       "                 RandomForestClassifier(n_jobs=3, random_state=1729))])</pre></div></div></div><div class=\"sk-serial\"><div class=\"sk-item\"><div class=\"sk-serial\"><div class=\"sk-item\"><div class=\"sk-estimator sk-toggleable\"><input class=\"sk-toggleable__control sk-hidden--visually\" id=\"sk-estimator-id-3\" type=\"checkbox\" ><label for=\"sk-estimator-id-3\" class=\"sk-toggleable__label sk-toggleable__label-arrow\">PCA</label><div class=\"sk-toggleable__content\"><pre>PCA(random_state=1729)</pre></div></div></div><div class=\"sk-item\"><div class=\"sk-estimator sk-toggleable\"><input class=\"sk-toggleable__control sk-hidden--visually\" id=\"sk-estimator-id-4\" type=\"checkbox\" ><label for=\"sk-estimator-id-4\" class=\"sk-toggleable__label sk-toggleable__label-arrow\">RandomForestClassifier</label><div class=\"sk-toggleable__content\"><pre>RandomForestClassifier(n_jobs=3, random_state=1729)</pre></div></div></div></div></div></div></div></div></div></div></div></div>"
      ],
      "text/plain": [
       "GridSearchCV(estimator=Pipeline(steps=[('pca', PCA(random_state=1729)),\n",
       "                                       ('forest',\n",
       "                                        RandomForestClassifier(n_jobs=3,\n",
       "                                                               random_state=1729))]),\n",
       "             param_grid=[{'forest__max_features': ['sqrt', 'log2'],\n",
       "                          'forest__min_samples_split': [2, 10, 100],\n",
       "                          'forest__n_estimators': [200, 500, 1000, 1500],\n",
       "                          'pca': ['passthrough']},\n",
       "                         {'forest__max_features': ['sqrt', 'log2'],\n",
       "                          'forest__min_samples_split': [2, 10],\n",
       "                          'forest__n_estimators': [200, 1000, 1500],\n",
       "                          'pca': [PCA(random_state=1729)],\n",
       "                          'pca__n_components': [10, 15, 30]}],\n",
       "             refit='roc_auc', scoring=('roc_auc', 'accuracy'), verbose=4)"
      ]
     },
     "execution_count": 26,
     "metadata": {},
     "output_type": "execute_result"
    }
   ],
   "source": [
    "from sklearn.decomposition import PCA\n",
    "from sklearn.ensemble import RandomForestClassifier\n",
    "\n",
    "forest_params = [\n",
    "    {\n",
    "        'pca': ['passthrough'],\n",
    "        'forest__n_estimators': [200, 500, 1000, 1500],\n",
    "        'forest__min_samples_split': [2, 10, 100],\n",
    "        'forest__max_features': ['sqrt', 'log2'],\n",
    "    },\n",
    "    {\n",
    "        'pca': [PCA(random_state=1729)],\n",
    "        'pca__n_components': [10, 15, 30],\n",
    "        'forest__n_estimators': [200,1000,1500],\n",
    "        'forest__min_samples_split': [2, 10],\n",
    "        'forest__max_features': ['sqrt', 'log2'],\n",
    "    },\n",
    "]\n",
    "\n",
    "\n",
    "forest_grid = GridSearchCV(\n",
    "    Pipeline(steps=[('pca', PCA(random_state=1729)), ('forest', RandomForestClassifier(random_state=1729, n_jobs=3))]),\n",
    "    forest_params,\n",
    "    verbose=4,\n",
    "    scoring=('roc_auc', 'accuracy'),\n",
    "    refit='roc_auc')\n",
    "forest_grid.fit(X_train, y_train)"
   ]
  },
  {
   "cell_type": "code",
   "execution_count": 27,
   "metadata": {},
   "outputs": [
    {
     "data": {
      "text/html": [
       "<div>\n",
       "<style scoped>\n",
       "    .dataframe tbody tr th:only-of-type {\n",
       "        vertical-align: middle;\n",
       "    }\n",
       "\n",
       "    .dataframe tbody tr th {\n",
       "        vertical-align: top;\n",
       "    }\n",
       "\n",
       "    .dataframe thead th {\n",
       "        text-align: right;\n",
       "    }\n",
       "</style>\n",
       "<table border=\"1\" class=\"dataframe\">\n",
       "  <thead>\n",
       "    <tr style=\"text-align: right;\">\n",
       "      <th></th>\n",
       "      <th>mean_fit_time</th>\n",
       "      <th>mean_score_time</th>\n",
       "      <th>param_pca__n_components</th>\n",
       "      <th>param_forest__n_estimators</th>\n",
       "      <th>param_forest__min_samples_split</th>\n",
       "      <th>param_forest__max_features</th>\n",
       "      <th>mean_test_roc_auc</th>\n",
       "      <th>std_test_roc_auc</th>\n",
       "      <th>mean_test_accuracy</th>\n",
       "      <th>std_test_accuracy</th>\n",
       "    </tr>\n",
       "  </thead>\n",
       "  <tbody>\n",
       "    <tr>\n",
       "      <th>15</th>\n",
       "      <td>43.242103</td>\n",
       "      <td>4.087921</td>\n",
       "      <td>NaN</td>\n",
       "      <td>1500</td>\n",
       "      <td>2</td>\n",
       "      <td>log2</td>\n",
       "      <td>0.734109</td>\n",
       "      <td>0.002701</td>\n",
       "      <td>0.672592</td>\n",
       "      <td>0.003104</td>\n",
       "    </tr>\n",
       "    <tr>\n",
       "      <th>14</th>\n",
       "      <td>28.916470</td>\n",
       "      <td>2.781423</td>\n",
       "      <td>NaN</td>\n",
       "      <td>1000</td>\n",
       "      <td>2</td>\n",
       "      <td>log2</td>\n",
       "      <td>0.733073</td>\n",
       "      <td>0.002785</td>\n",
       "      <td>0.671898</td>\n",
       "      <td>0.003171</td>\n",
       "    </tr>\n",
       "    <tr>\n",
       "      <th>3</th>\n",
       "      <td>54.804015</td>\n",
       "      <td>3.924678</td>\n",
       "      <td>NaN</td>\n",
       "      <td>1500</td>\n",
       "      <td>2</td>\n",
       "      <td>sqrt</td>\n",
       "      <td>0.732177</td>\n",
       "      <td>0.002972</td>\n",
       "      <td>0.670469</td>\n",
       "      <td>0.003892</td>\n",
       "    </tr>\n",
       "    <tr>\n",
       "      <th>2</th>\n",
       "      <td>37.349008</td>\n",
       "      <td>2.797749</td>\n",
       "      <td>NaN</td>\n",
       "      <td>1000</td>\n",
       "      <td>2</td>\n",
       "      <td>sqrt</td>\n",
       "      <td>0.731247</td>\n",
       "      <td>0.003342</td>\n",
       "      <td>0.670367</td>\n",
       "      <td>0.004628</td>\n",
       "    </tr>\n",
       "    <tr>\n",
       "      <th>13</th>\n",
       "      <td>14.625713</td>\n",
       "      <td>1.424303</td>\n",
       "      <td>NaN</td>\n",
       "      <td>500</td>\n",
       "      <td>2</td>\n",
       "      <td>log2</td>\n",
       "      <td>0.730815</td>\n",
       "      <td>0.002677</td>\n",
       "      <td>0.669837</td>\n",
       "      <td>0.002766</td>\n",
       "    </tr>\n",
       "    <tr>\n",
       "      <th>1</th>\n",
       "      <td>18.820443</td>\n",
       "      <td>1.415039</td>\n",
       "      <td>NaN</td>\n",
       "      <td>500</td>\n",
       "      <td>2</td>\n",
       "      <td>sqrt</td>\n",
       "      <td>0.729547</td>\n",
       "      <td>0.003222</td>\n",
       "      <td>0.669857</td>\n",
       "      <td>0.004091</td>\n",
       "    </tr>\n",
       "    <tr>\n",
       "      <th>19</th>\n",
       "      <td>37.125933</td>\n",
       "      <td>3.252944</td>\n",
       "      <td>NaN</td>\n",
       "      <td>1500</td>\n",
       "      <td>10</td>\n",
       "      <td>log2</td>\n",
       "      <td>0.725402</td>\n",
       "      <td>0.003011</td>\n",
       "      <td>0.665837</td>\n",
       "      <td>0.002376</td>\n",
       "    </tr>\n",
       "    <tr>\n",
       "      <th>12</th>\n",
       "      <td>5.823532</td>\n",
       "      <td>0.580543</td>\n",
       "      <td>NaN</td>\n",
       "      <td>200</td>\n",
       "      <td>2</td>\n",
       "      <td>log2</td>\n",
       "      <td>0.725161</td>\n",
       "      <td>0.003324</td>\n",
       "      <td>0.665367</td>\n",
       "      <td>0.003367</td>\n",
       "    </tr>\n",
       "    <tr>\n",
       "      <th>18</th>\n",
       "      <td>25.426437</td>\n",
       "      <td>2.234737</td>\n",
       "      <td>NaN</td>\n",
       "      <td>1000</td>\n",
       "      <td>10</td>\n",
       "      <td>log2</td>\n",
       "      <td>0.724984</td>\n",
       "      <td>0.002953</td>\n",
       "      <td>0.664490</td>\n",
       "      <td>0.002457</td>\n",
       "    </tr>\n",
       "    <tr>\n",
       "      <th>7</th>\n",
       "      <td>53.361826</td>\n",
       "      <td>3.740806</td>\n",
       "      <td>NaN</td>\n",
       "      <td>1500</td>\n",
       "      <td>10</td>\n",
       "      <td>sqrt</td>\n",
       "      <td>0.724258</td>\n",
       "      <td>0.002988</td>\n",
       "      <td>0.664020</td>\n",
       "      <td>0.002331</td>\n",
       "    </tr>\n",
       "    <tr>\n",
       "      <th>0</th>\n",
       "      <td>7.842097</td>\n",
       "      <td>0.604182</td>\n",
       "      <td>NaN</td>\n",
       "      <td>200</td>\n",
       "      <td>2</td>\n",
       "      <td>sqrt</td>\n",
       "      <td>0.724138</td>\n",
       "      <td>0.003376</td>\n",
       "      <td>0.664796</td>\n",
       "      <td>0.003244</td>\n",
       "    </tr>\n",
       "    <tr>\n",
       "      <th>6</th>\n",
       "      <td>34.529907</td>\n",
       "      <td>2.316763</td>\n",
       "      <td>NaN</td>\n",
       "      <td>1000</td>\n",
       "      <td>10</td>\n",
       "      <td>sqrt</td>\n",
       "      <td>0.723791</td>\n",
       "      <td>0.002991</td>\n",
       "      <td>0.664469</td>\n",
       "      <td>0.002826</td>\n",
       "    </tr>\n",
       "    <tr>\n",
       "      <th>17</th>\n",
       "      <td>12.708724</td>\n",
       "      <td>1.136062</td>\n",
       "      <td>NaN</td>\n",
       "      <td>500</td>\n",
       "      <td>10</td>\n",
       "      <td>log2</td>\n",
       "      <td>0.723357</td>\n",
       "      <td>0.002964</td>\n",
       "      <td>0.663224</td>\n",
       "      <td>0.003475</td>\n",
       "    </tr>\n",
       "    <tr>\n",
       "      <th>5</th>\n",
       "      <td>16.718618</td>\n",
       "      <td>1.173343</td>\n",
       "      <td>NaN</td>\n",
       "      <td>500</td>\n",
       "      <td>10</td>\n",
       "      <td>sqrt</td>\n",
       "      <td>0.722618</td>\n",
       "      <td>0.002581</td>\n",
       "      <td>0.662898</td>\n",
       "      <td>0.002293</td>\n",
       "    </tr>\n",
       "    <tr>\n",
       "      <th>16</th>\n",
       "      <td>5.131354</td>\n",
       "      <td>0.478261</td>\n",
       "      <td>NaN</td>\n",
       "      <td>200</td>\n",
       "      <td>10</td>\n",
       "      <td>log2</td>\n",
       "      <td>0.719507</td>\n",
       "      <td>0.002653</td>\n",
       "      <td>0.660408</td>\n",
       "      <td>0.002433</td>\n",
       "    </tr>\n",
       "    <tr>\n",
       "      <th>4</th>\n",
       "      <td>7.322340</td>\n",
       "      <td>0.543789</td>\n",
       "      <td>NaN</td>\n",
       "      <td>200</td>\n",
       "      <td>10</td>\n",
       "      <td>sqrt</td>\n",
       "      <td>0.719453</td>\n",
       "      <td>0.002406</td>\n",
       "      <td>0.660980</td>\n",
       "      <td>0.002814</td>\n",
       "    </tr>\n",
       "    <tr>\n",
       "      <th>23</th>\n",
       "      <td>26.672671</td>\n",
       "      <td>2.133009</td>\n",
       "      <td>NaN</td>\n",
       "      <td>1500</td>\n",
       "      <td>100</td>\n",
       "      <td>log2</td>\n",
       "      <td>0.699484</td>\n",
       "      <td>0.002764</td>\n",
       "      <td>0.642224</td>\n",
       "      <td>0.001999</td>\n",
       "    </tr>\n",
       "    <tr>\n",
       "      <th>22</th>\n",
       "      <td>17.824408</td>\n",
       "      <td>1.446753</td>\n",
       "      <td>NaN</td>\n",
       "      <td>1000</td>\n",
       "      <td>100</td>\n",
       "      <td>log2</td>\n",
       "      <td>0.699419</td>\n",
       "      <td>0.002650</td>\n",
       "      <td>0.642367</td>\n",
       "      <td>0.001407</td>\n",
       "    </tr>\n",
       "    <tr>\n",
       "      <th>21</th>\n",
       "      <td>8.929427</td>\n",
       "      <td>0.738805</td>\n",
       "      <td>NaN</td>\n",
       "      <td>500</td>\n",
       "      <td>100</td>\n",
       "      <td>log2</td>\n",
       "      <td>0.699364</td>\n",
       "      <td>0.002520</td>\n",
       "      <td>0.643143</td>\n",
       "      <td>0.002057</td>\n",
       "    </tr>\n",
       "    <tr>\n",
       "      <th>20</th>\n",
       "      <td>3.591425</td>\n",
       "      <td>0.335765</td>\n",
       "      <td>NaN</td>\n",
       "      <td>200</td>\n",
       "      <td>100</td>\n",
       "      <td>log2</td>\n",
       "      <td>0.698330</td>\n",
       "      <td>0.002445</td>\n",
       "      <td>0.643224</td>\n",
       "      <td>0.001614</td>\n",
       "    </tr>\n",
       "    <tr>\n",
       "      <th>11</th>\n",
       "      <td>35.009435</td>\n",
       "      <td>2.144786</td>\n",
       "      <td>NaN</td>\n",
       "      <td>1500</td>\n",
       "      <td>100</td>\n",
       "      <td>sqrt</td>\n",
       "      <td>0.698122</td>\n",
       "      <td>0.002813</td>\n",
       "      <td>0.641347</td>\n",
       "      <td>0.002815</td>\n",
       "    </tr>\n",
       "    <tr>\n",
       "      <th>10</th>\n",
       "      <td>24.889056</td>\n",
       "      <td>1.513739</td>\n",
       "      <td>NaN</td>\n",
       "      <td>1000</td>\n",
       "      <td>100</td>\n",
       "      <td>sqrt</td>\n",
       "      <td>0.698031</td>\n",
       "      <td>0.002730</td>\n",
       "      <td>0.640918</td>\n",
       "      <td>0.003014</td>\n",
       "    </tr>\n",
       "    <tr>\n",
       "      <th>9</th>\n",
       "      <td>14.059387</td>\n",
       "      <td>0.865696</td>\n",
       "      <td>NaN</td>\n",
       "      <td>500</td>\n",
       "      <td>100</td>\n",
       "      <td>sqrt</td>\n",
       "      <td>0.697848</td>\n",
       "      <td>0.002550</td>\n",
       "      <td>0.640694</td>\n",
       "      <td>0.002747</td>\n",
       "    </tr>\n",
       "    <tr>\n",
       "      <th>8</th>\n",
       "      <td>6.385422</td>\n",
       "      <td>0.411495</td>\n",
       "      <td>NaN</td>\n",
       "      <td>200</td>\n",
       "      <td>100</td>\n",
       "      <td>sqrt</td>\n",
       "      <td>0.697215</td>\n",
       "      <td>0.002662</td>\n",
       "      <td>0.640531</td>\n",
       "      <td>0.003571</td>\n",
       "    </tr>\n",
       "    <tr>\n",
       "      <th>50</th>\n",
       "      <td>151.843460</td>\n",
       "      <td>3.140844</td>\n",
       "      <td>30</td>\n",
       "      <td>1500</td>\n",
       "      <td>2</td>\n",
       "      <td>log2</td>\n",
       "      <td>0.663991</td>\n",
       "      <td>0.004783</td>\n",
       "      <td>0.616837</td>\n",
       "      <td>0.005351</td>\n",
       "    </tr>\n",
       "    <tr>\n",
       "      <th>32</th>\n",
       "      <td>185.983359</td>\n",
       "      <td>3.107629</td>\n",
       "      <td>30</td>\n",
       "      <td>1500</td>\n",
       "      <td>2</td>\n",
       "      <td>sqrt</td>\n",
       "      <td>0.663542</td>\n",
       "      <td>0.005223</td>\n",
       "      <td>0.617918</td>\n",
       "      <td>0.004061</td>\n",
       "    </tr>\n",
       "    <tr>\n",
       "      <th>29</th>\n",
       "      <td>122.554033</td>\n",
       "      <td>2.126945</td>\n",
       "      <td>30</td>\n",
       "      <td>1000</td>\n",
       "      <td>2</td>\n",
       "      <td>sqrt</td>\n",
       "      <td>0.662801</td>\n",
       "      <td>0.005261</td>\n",
       "      <td>0.616184</td>\n",
       "      <td>0.004533</td>\n",
       "    </tr>\n",
       "    <tr>\n",
       "      <th>47</th>\n",
       "      <td>101.112537</td>\n",
       "      <td>2.146335</td>\n",
       "      <td>30</td>\n",
       "      <td>1000</td>\n",
       "      <td>2</td>\n",
       "      <td>log2</td>\n",
       "      <td>0.662773</td>\n",
       "      <td>0.004682</td>\n",
       "      <td>0.616347</td>\n",
       "      <td>0.004405</td>\n",
       "    </tr>\n",
       "    <tr>\n",
       "      <th>41</th>\n",
       "      <td>181.295848</td>\n",
       "      <td>2.825666</td>\n",
       "      <td>30</td>\n",
       "      <td>1500</td>\n",
       "      <td>10</td>\n",
       "      <td>sqrt</td>\n",
       "      <td>0.662600</td>\n",
       "      <td>0.004357</td>\n",
       "      <td>0.614918</td>\n",
       "      <td>0.003595</td>\n",
       "    </tr>\n",
       "    <tr>\n",
       "      <th>59</th>\n",
       "      <td>148.173535</td>\n",
       "      <td>2.810181</td>\n",
       "      <td>30</td>\n",
       "      <td>1500</td>\n",
       "      <td>10</td>\n",
       "      <td>log2</td>\n",
       "      <td>0.662526</td>\n",
       "      <td>0.004465</td>\n",
       "      <td>0.615898</td>\n",
       "      <td>0.003069</td>\n",
       "    </tr>\n",
       "    <tr>\n",
       "      <th>56</th>\n",
       "      <td>99.000386</td>\n",
       "      <td>1.905298</td>\n",
       "      <td>30</td>\n",
       "      <td>1000</td>\n",
       "      <td>10</td>\n",
       "      <td>log2</td>\n",
       "      <td>0.662136</td>\n",
       "      <td>0.004677</td>\n",
       "      <td>0.615429</td>\n",
       "      <td>0.003657</td>\n",
       "    </tr>\n",
       "    <tr>\n",
       "      <th>38</th>\n",
       "      <td>119.649427</td>\n",
       "      <td>1.902252</td>\n",
       "      <td>30</td>\n",
       "      <td>1000</td>\n",
       "      <td>10</td>\n",
       "      <td>sqrt</td>\n",
       "      <td>0.661761</td>\n",
       "      <td>0.004386</td>\n",
       "      <td>0.614367</td>\n",
       "      <td>0.004147</td>\n",
       "    </tr>\n",
       "    <tr>\n",
       "      <th>53</th>\n",
       "      <td>20.652183</td>\n",
       "      <td>0.538747</td>\n",
       "      <td>30</td>\n",
       "      <td>200</td>\n",
       "      <td>10</td>\n",
       "      <td>log2</td>\n",
       "      <td>0.657278</td>\n",
       "      <td>0.004863</td>\n",
       "      <td>0.611531</td>\n",
       "      <td>0.004016</td>\n",
       "    </tr>\n",
       "    <tr>\n",
       "      <th>35</th>\n",
       "      <td>24.763934</td>\n",
       "      <td>0.514651</td>\n",
       "      <td>30</td>\n",
       "      <td>200</td>\n",
       "      <td>10</td>\n",
       "      <td>sqrt</td>\n",
       "      <td>0.656931</td>\n",
       "      <td>0.003847</td>\n",
       "      <td>0.611388</td>\n",
       "      <td>0.002935</td>\n",
       "    </tr>\n",
       "    <tr>\n",
       "      <th>26</th>\n",
       "      <td>25.132648</td>\n",
       "      <td>0.565161</td>\n",
       "      <td>30</td>\n",
       "      <td>200</td>\n",
       "      <td>2</td>\n",
       "      <td>sqrt</td>\n",
       "      <td>0.655773</td>\n",
       "      <td>0.006264</td>\n",
       "      <td>0.609469</td>\n",
       "      <td>0.006699</td>\n",
       "    </tr>\n",
       "    <tr>\n",
       "      <th>44</th>\n",
       "      <td>20.941262</td>\n",
       "      <td>0.598078</td>\n",
       "      <td>30</td>\n",
       "      <td>200</td>\n",
       "      <td>2</td>\n",
       "      <td>log2</td>\n",
       "      <td>0.655526</td>\n",
       "      <td>0.005058</td>\n",
       "      <td>0.610959</td>\n",
       "      <td>0.003647</td>\n",
       "    </tr>\n",
       "    <tr>\n",
       "      <th>31</th>\n",
       "      <td>128.386083</td>\n",
       "      <td>3.337208</td>\n",
       "      <td>15</td>\n",
       "      <td>1500</td>\n",
       "      <td>2</td>\n",
       "      <td>sqrt</td>\n",
       "      <td>0.643762</td>\n",
       "      <td>0.005001</td>\n",
       "      <td>0.602082</td>\n",
       "      <td>0.004541</td>\n",
       "    </tr>\n",
       "    <tr>\n",
       "      <th>49</th>\n",
       "      <td>126.446706</td>\n",
       "      <td>3.248876</td>\n",
       "      <td>15</td>\n",
       "      <td>1500</td>\n",
       "      <td>2</td>\n",
       "      <td>log2</td>\n",
       "      <td>0.643762</td>\n",
       "      <td>0.005001</td>\n",
       "      <td>0.602082</td>\n",
       "      <td>0.004541</td>\n",
       "    </tr>\n",
       "    <tr>\n",
       "      <th>28</th>\n",
       "      <td>82.935981</td>\n",
       "      <td>2.192423</td>\n",
       "      <td>15</td>\n",
       "      <td>1000</td>\n",
       "      <td>2</td>\n",
       "      <td>sqrt</td>\n",
       "      <td>0.643033</td>\n",
       "      <td>0.004833</td>\n",
       "      <td>0.601265</td>\n",
       "      <td>0.004182</td>\n",
       "    </tr>\n",
       "    <tr>\n",
       "      <th>46</th>\n",
       "      <td>84.190585</td>\n",
       "      <td>2.240275</td>\n",
       "      <td>15</td>\n",
       "      <td>1000</td>\n",
       "      <td>2</td>\n",
       "      <td>log2</td>\n",
       "      <td>0.643033</td>\n",
       "      <td>0.004833</td>\n",
       "      <td>0.601265</td>\n",
       "      <td>0.004182</td>\n",
       "    </tr>\n",
       "    <tr>\n",
       "      <th>40</th>\n",
       "      <td>121.181364</td>\n",
       "      <td>2.810330</td>\n",
       "      <td>15</td>\n",
       "      <td>1500</td>\n",
       "      <td>10</td>\n",
       "      <td>sqrt</td>\n",
       "      <td>0.642213</td>\n",
       "      <td>0.004294</td>\n",
       "      <td>0.600735</td>\n",
       "      <td>0.004674</td>\n",
       "    </tr>\n",
       "    <tr>\n",
       "      <th>58</th>\n",
       "      <td>121.781956</td>\n",
       "      <td>2.801634</td>\n",
       "      <td>15</td>\n",
       "      <td>1500</td>\n",
       "      <td>10</td>\n",
       "      <td>log2</td>\n",
       "      <td>0.642213</td>\n",
       "      <td>0.004294</td>\n",
       "      <td>0.600735</td>\n",
       "      <td>0.004674</td>\n",
       "    </tr>\n",
       "    <tr>\n",
       "      <th>37</th>\n",
       "      <td>80.915827</td>\n",
       "      <td>1.916399</td>\n",
       "      <td>15</td>\n",
       "      <td>1000</td>\n",
       "      <td>10</td>\n",
       "      <td>sqrt</td>\n",
       "      <td>0.641699</td>\n",
       "      <td>0.004367</td>\n",
       "      <td>0.600612</td>\n",
       "      <td>0.003656</td>\n",
       "    </tr>\n",
       "    <tr>\n",
       "      <th>55</th>\n",
       "      <td>81.955799</td>\n",
       "      <td>1.945374</td>\n",
       "      <td>15</td>\n",
       "      <td>1000</td>\n",
       "      <td>10</td>\n",
       "      <td>log2</td>\n",
       "      <td>0.641699</td>\n",
       "      <td>0.004367</td>\n",
       "      <td>0.600612</td>\n",
       "      <td>0.003656</td>\n",
       "    </tr>\n",
       "    <tr>\n",
       "      <th>34</th>\n",
       "      <td>16.683951</td>\n",
       "      <td>0.519633</td>\n",
       "      <td>15</td>\n",
       "      <td>200</td>\n",
       "      <td>10</td>\n",
       "      <td>sqrt</td>\n",
       "      <td>0.639347</td>\n",
       "      <td>0.003688</td>\n",
       "      <td>0.599306</td>\n",
       "      <td>0.002956</td>\n",
       "    </tr>\n",
       "    <tr>\n",
       "      <th>52</th>\n",
       "      <td>16.875058</td>\n",
       "      <td>0.531965</td>\n",
       "      <td>15</td>\n",
       "      <td>200</td>\n",
       "      <td>10</td>\n",
       "      <td>log2</td>\n",
       "      <td>0.639347</td>\n",
       "      <td>0.003688</td>\n",
       "      <td>0.599306</td>\n",
       "      <td>0.002956</td>\n",
       "    </tr>\n",
       "    <tr>\n",
       "      <th>25</th>\n",
       "      <td>16.980797</td>\n",
       "      <td>0.560489</td>\n",
       "      <td>15</td>\n",
       "      <td>200</td>\n",
       "      <td>2</td>\n",
       "      <td>sqrt</td>\n",
       "      <td>0.637639</td>\n",
       "      <td>0.005008</td>\n",
       "      <td>0.597020</td>\n",
       "      <td>0.003641</td>\n",
       "    </tr>\n",
       "    <tr>\n",
       "      <th>43</th>\n",
       "      <td>17.207800</td>\n",
       "      <td>0.598823</td>\n",
       "      <td>15</td>\n",
       "      <td>200</td>\n",
       "      <td>2</td>\n",
       "      <td>log2</td>\n",
       "      <td>0.637639</td>\n",
       "      <td>0.005008</td>\n",
       "      <td>0.597020</td>\n",
       "      <td>0.003641</td>\n",
       "    </tr>\n",
       "    <tr>\n",
       "      <th>30</th>\n",
       "      <td>124.152301</td>\n",
       "      <td>3.286621</td>\n",
       "      <td>10</td>\n",
       "      <td>1500</td>\n",
       "      <td>2</td>\n",
       "      <td>sqrt</td>\n",
       "      <td>0.635298</td>\n",
       "      <td>0.002629</td>\n",
       "      <td>0.595449</td>\n",
       "      <td>0.000848</td>\n",
       "    </tr>\n",
       "    <tr>\n",
       "      <th>48</th>\n",
       "      <td>122.199150</td>\n",
       "      <td>3.195286</td>\n",
       "      <td>10</td>\n",
       "      <td>1500</td>\n",
       "      <td>2</td>\n",
       "      <td>log2</td>\n",
       "      <td>0.635298</td>\n",
       "      <td>0.002629</td>\n",
       "      <td>0.595449</td>\n",
       "      <td>0.000848</td>\n",
       "    </tr>\n",
       "    <tr>\n",
       "      <th>39</th>\n",
       "      <td>117.340978</td>\n",
       "      <td>2.760789</td>\n",
       "      <td>10</td>\n",
       "      <td>1500</td>\n",
       "      <td>10</td>\n",
       "      <td>sqrt</td>\n",
       "      <td>0.635230</td>\n",
       "      <td>0.003026</td>\n",
       "      <td>0.594469</td>\n",
       "      <td>0.002078</td>\n",
       "    </tr>\n",
       "    <tr>\n",
       "      <th>57</th>\n",
       "      <td>118.370421</td>\n",
       "      <td>2.801249</td>\n",
       "      <td>10</td>\n",
       "      <td>1500</td>\n",
       "      <td>10</td>\n",
       "      <td>log2</td>\n",
       "      <td>0.635230</td>\n",
       "      <td>0.003026</td>\n",
       "      <td>0.594469</td>\n",
       "      <td>0.002078</td>\n",
       "    </tr>\n",
       "    <tr>\n",
       "      <th>36</th>\n",
       "      <td>78.487261</td>\n",
       "      <td>1.909208</td>\n",
       "      <td>10</td>\n",
       "      <td>1000</td>\n",
       "      <td>10</td>\n",
       "      <td>sqrt</td>\n",
       "      <td>0.635162</td>\n",
       "      <td>0.002864</td>\n",
       "      <td>0.595204</td>\n",
       "      <td>0.001493</td>\n",
       "    </tr>\n",
       "    <tr>\n",
       "      <th>54</th>\n",
       "      <td>80.120204</td>\n",
       "      <td>1.925448</td>\n",
       "      <td>10</td>\n",
       "      <td>1000</td>\n",
       "      <td>10</td>\n",
       "      <td>log2</td>\n",
       "      <td>0.635162</td>\n",
       "      <td>0.002864</td>\n",
       "      <td>0.595204</td>\n",
       "      <td>0.001493</td>\n",
       "    </tr>\n",
       "    <tr>\n",
       "      <th>27</th>\n",
       "      <td>80.642038</td>\n",
       "      <td>2.138889</td>\n",
       "      <td>10</td>\n",
       "      <td>1000</td>\n",
       "      <td>2</td>\n",
       "      <td>sqrt</td>\n",
       "      <td>0.634979</td>\n",
       "      <td>0.002643</td>\n",
       "      <td>0.594898</td>\n",
       "      <td>0.001490</td>\n",
       "    </tr>\n",
       "    <tr>\n",
       "      <th>45</th>\n",
       "      <td>81.417286</td>\n",
       "      <td>2.231250</td>\n",
       "      <td>10</td>\n",
       "      <td>1000</td>\n",
       "      <td>2</td>\n",
       "      <td>log2</td>\n",
       "      <td>0.634979</td>\n",
       "      <td>0.002643</td>\n",
       "      <td>0.594898</td>\n",
       "      <td>0.001490</td>\n",
       "    </tr>\n",
       "    <tr>\n",
       "      <th>33</th>\n",
       "      <td>16.186544</td>\n",
       "      <td>0.514228</td>\n",
       "      <td>10</td>\n",
       "      <td>200</td>\n",
       "      <td>10</td>\n",
       "      <td>sqrt</td>\n",
       "      <td>0.632802</td>\n",
       "      <td>0.003343</td>\n",
       "      <td>0.594306</td>\n",
       "      <td>0.003353</td>\n",
       "    </tr>\n",
       "    <tr>\n",
       "      <th>51</th>\n",
       "      <td>16.296654</td>\n",
       "      <td>0.556676</td>\n",
       "      <td>10</td>\n",
       "      <td>200</td>\n",
       "      <td>10</td>\n",
       "      <td>log2</td>\n",
       "      <td>0.632802</td>\n",
       "      <td>0.003343</td>\n",
       "      <td>0.594306</td>\n",
       "      <td>0.003353</td>\n",
       "    </tr>\n",
       "    <tr>\n",
       "      <th>24</th>\n",
       "      <td>16.492032</td>\n",
       "      <td>0.562545</td>\n",
       "      <td>10</td>\n",
       "      <td>200</td>\n",
       "      <td>2</td>\n",
       "      <td>sqrt</td>\n",
       "      <td>0.630585</td>\n",
       "      <td>0.002339</td>\n",
       "      <td>0.592653</td>\n",
       "      <td>0.002275</td>\n",
       "    </tr>\n",
       "    <tr>\n",
       "      <th>42</th>\n",
       "      <td>16.803356</td>\n",
       "      <td>0.615438</td>\n",
       "      <td>10</td>\n",
       "      <td>200</td>\n",
       "      <td>2</td>\n",
       "      <td>log2</td>\n",
       "      <td>0.630585</td>\n",
       "      <td>0.002339</td>\n",
       "      <td>0.592653</td>\n",
       "      <td>0.002275</td>\n",
       "    </tr>\n",
       "  </tbody>\n",
       "</table>\n",
       "</div>"
      ],
      "text/plain": [
       "    mean_fit_time  mean_score_time param_pca__n_components  \\\n",
       "15      43.242103         4.087921                     NaN   \n",
       "14      28.916470         2.781423                     NaN   \n",
       "3       54.804015         3.924678                     NaN   \n",
       "2       37.349008         2.797749                     NaN   \n",
       "13      14.625713         1.424303                     NaN   \n",
       "1       18.820443         1.415039                     NaN   \n",
       "19      37.125933         3.252944                     NaN   \n",
       "12       5.823532         0.580543                     NaN   \n",
       "18      25.426437         2.234737                     NaN   \n",
       "7       53.361826         3.740806                     NaN   \n",
       "0        7.842097         0.604182                     NaN   \n",
       "6       34.529907         2.316763                     NaN   \n",
       "17      12.708724         1.136062                     NaN   \n",
       "5       16.718618         1.173343                     NaN   \n",
       "16       5.131354         0.478261                     NaN   \n",
       "4        7.322340         0.543789                     NaN   \n",
       "23      26.672671         2.133009                     NaN   \n",
       "22      17.824408         1.446753                     NaN   \n",
       "21       8.929427         0.738805                     NaN   \n",
       "20       3.591425         0.335765                     NaN   \n",
       "11      35.009435         2.144786                     NaN   \n",
       "10      24.889056         1.513739                     NaN   \n",
       "9       14.059387         0.865696                     NaN   \n",
       "8        6.385422         0.411495                     NaN   \n",
       "50     151.843460         3.140844                      30   \n",
       "32     185.983359         3.107629                      30   \n",
       "29     122.554033         2.126945                      30   \n",
       "47     101.112537         2.146335                      30   \n",
       "41     181.295848         2.825666                      30   \n",
       "59     148.173535         2.810181                      30   \n",
       "56      99.000386         1.905298                      30   \n",
       "38     119.649427         1.902252                      30   \n",
       "53      20.652183         0.538747                      30   \n",
       "35      24.763934         0.514651                      30   \n",
       "26      25.132648         0.565161                      30   \n",
       "44      20.941262         0.598078                      30   \n",
       "31     128.386083         3.337208                      15   \n",
       "49     126.446706         3.248876                      15   \n",
       "28      82.935981         2.192423                      15   \n",
       "46      84.190585         2.240275                      15   \n",
       "40     121.181364         2.810330                      15   \n",
       "58     121.781956         2.801634                      15   \n",
       "37      80.915827         1.916399                      15   \n",
       "55      81.955799         1.945374                      15   \n",
       "34      16.683951         0.519633                      15   \n",
       "52      16.875058         0.531965                      15   \n",
       "25      16.980797         0.560489                      15   \n",
       "43      17.207800         0.598823                      15   \n",
       "30     124.152301         3.286621                      10   \n",
       "48     122.199150         3.195286                      10   \n",
       "39     117.340978         2.760789                      10   \n",
       "57     118.370421         2.801249                      10   \n",
       "36      78.487261         1.909208                      10   \n",
       "54      80.120204         1.925448                      10   \n",
       "27      80.642038         2.138889                      10   \n",
       "45      81.417286         2.231250                      10   \n",
       "33      16.186544         0.514228                      10   \n",
       "51      16.296654         0.556676                      10   \n",
       "24      16.492032         0.562545                      10   \n",
       "42      16.803356         0.615438                      10   \n",
       "\n",
       "   param_forest__n_estimators param_forest__min_samples_split  \\\n",
       "15                       1500                               2   \n",
       "14                       1000                               2   \n",
       "3                        1500                               2   \n",
       "2                        1000                               2   \n",
       "13                        500                               2   \n",
       "1                         500                               2   \n",
       "19                       1500                              10   \n",
       "12                        200                               2   \n",
       "18                       1000                              10   \n",
       "7                        1500                              10   \n",
       "0                         200                               2   \n",
       "6                        1000                              10   \n",
       "17                        500                              10   \n",
       "5                         500                              10   \n",
       "16                        200                              10   \n",
       "4                         200                              10   \n",
       "23                       1500                             100   \n",
       "22                       1000                             100   \n",
       "21                        500                             100   \n",
       "20                        200                             100   \n",
       "11                       1500                             100   \n",
       "10                       1000                             100   \n",
       "9                         500                             100   \n",
       "8                         200                             100   \n",
       "50                       1500                               2   \n",
       "32                       1500                               2   \n",
       "29                       1000                               2   \n",
       "47                       1000                               2   \n",
       "41                       1500                              10   \n",
       "59                       1500                              10   \n",
       "56                       1000                              10   \n",
       "38                       1000                              10   \n",
       "53                        200                              10   \n",
       "35                        200                              10   \n",
       "26                        200                               2   \n",
       "44                        200                               2   \n",
       "31                       1500                               2   \n",
       "49                       1500                               2   \n",
       "28                       1000                               2   \n",
       "46                       1000                               2   \n",
       "40                       1500                              10   \n",
       "58                       1500                              10   \n",
       "37                       1000                              10   \n",
       "55                       1000                              10   \n",
       "34                        200                              10   \n",
       "52                        200                              10   \n",
       "25                        200                               2   \n",
       "43                        200                               2   \n",
       "30                       1500                               2   \n",
       "48                       1500                               2   \n",
       "39                       1500                              10   \n",
       "57                       1500                              10   \n",
       "36                       1000                              10   \n",
       "54                       1000                              10   \n",
       "27                       1000                               2   \n",
       "45                       1000                               2   \n",
       "33                        200                              10   \n",
       "51                        200                              10   \n",
       "24                        200                               2   \n",
       "42                        200                               2   \n",
       "\n",
       "   param_forest__max_features  mean_test_roc_auc  std_test_roc_auc  \\\n",
       "15                       log2           0.734109          0.002701   \n",
       "14                       log2           0.733073          0.002785   \n",
       "3                        sqrt           0.732177          0.002972   \n",
       "2                        sqrt           0.731247          0.003342   \n",
       "13                       log2           0.730815          0.002677   \n",
       "1                        sqrt           0.729547          0.003222   \n",
       "19                       log2           0.725402          0.003011   \n",
       "12                       log2           0.725161          0.003324   \n",
       "18                       log2           0.724984          0.002953   \n",
       "7                        sqrt           0.724258          0.002988   \n",
       "0                        sqrt           0.724138          0.003376   \n",
       "6                        sqrt           0.723791          0.002991   \n",
       "17                       log2           0.723357          0.002964   \n",
       "5                        sqrt           0.722618          0.002581   \n",
       "16                       log2           0.719507          0.002653   \n",
       "4                        sqrt           0.719453          0.002406   \n",
       "23                       log2           0.699484          0.002764   \n",
       "22                       log2           0.699419          0.002650   \n",
       "21                       log2           0.699364          0.002520   \n",
       "20                       log2           0.698330          0.002445   \n",
       "11                       sqrt           0.698122          0.002813   \n",
       "10                       sqrt           0.698031          0.002730   \n",
       "9                        sqrt           0.697848          0.002550   \n",
       "8                        sqrt           0.697215          0.002662   \n",
       "50                       log2           0.663991          0.004783   \n",
       "32                       sqrt           0.663542          0.005223   \n",
       "29                       sqrt           0.662801          0.005261   \n",
       "47                       log2           0.662773          0.004682   \n",
       "41                       sqrt           0.662600          0.004357   \n",
       "59                       log2           0.662526          0.004465   \n",
       "56                       log2           0.662136          0.004677   \n",
       "38                       sqrt           0.661761          0.004386   \n",
       "53                       log2           0.657278          0.004863   \n",
       "35                       sqrt           0.656931          0.003847   \n",
       "26                       sqrt           0.655773          0.006264   \n",
       "44                       log2           0.655526          0.005058   \n",
       "31                       sqrt           0.643762          0.005001   \n",
       "49                       log2           0.643762          0.005001   \n",
       "28                       sqrt           0.643033          0.004833   \n",
       "46                       log2           0.643033          0.004833   \n",
       "40                       sqrt           0.642213          0.004294   \n",
       "58                       log2           0.642213          0.004294   \n",
       "37                       sqrt           0.641699          0.004367   \n",
       "55                       log2           0.641699          0.004367   \n",
       "34                       sqrt           0.639347          0.003688   \n",
       "52                       log2           0.639347          0.003688   \n",
       "25                       sqrt           0.637639          0.005008   \n",
       "43                       log2           0.637639          0.005008   \n",
       "30                       sqrt           0.635298          0.002629   \n",
       "48                       log2           0.635298          0.002629   \n",
       "39                       sqrt           0.635230          0.003026   \n",
       "57                       log2           0.635230          0.003026   \n",
       "36                       sqrt           0.635162          0.002864   \n",
       "54                       log2           0.635162          0.002864   \n",
       "27                       sqrt           0.634979          0.002643   \n",
       "45                       log2           0.634979          0.002643   \n",
       "33                       sqrt           0.632802          0.003343   \n",
       "51                       log2           0.632802          0.003343   \n",
       "24                       sqrt           0.630585          0.002339   \n",
       "42                       log2           0.630585          0.002339   \n",
       "\n",
       "    mean_test_accuracy  std_test_accuracy  \n",
       "15            0.672592           0.003104  \n",
       "14            0.671898           0.003171  \n",
       "3             0.670469           0.003892  \n",
       "2             0.670367           0.004628  \n",
       "13            0.669837           0.002766  \n",
       "1             0.669857           0.004091  \n",
       "19            0.665837           0.002376  \n",
       "12            0.665367           0.003367  \n",
       "18            0.664490           0.002457  \n",
       "7             0.664020           0.002331  \n",
       "0             0.664796           0.003244  \n",
       "6             0.664469           0.002826  \n",
       "17            0.663224           0.003475  \n",
       "5             0.662898           0.002293  \n",
       "16            0.660408           0.002433  \n",
       "4             0.660980           0.002814  \n",
       "23            0.642224           0.001999  \n",
       "22            0.642367           0.001407  \n",
       "21            0.643143           0.002057  \n",
       "20            0.643224           0.001614  \n",
       "11            0.641347           0.002815  \n",
       "10            0.640918           0.003014  \n",
       "9             0.640694           0.002747  \n",
       "8             0.640531           0.003571  \n",
       "50            0.616837           0.005351  \n",
       "32            0.617918           0.004061  \n",
       "29            0.616184           0.004533  \n",
       "47            0.616347           0.004405  \n",
       "41            0.614918           0.003595  \n",
       "59            0.615898           0.003069  \n",
       "56            0.615429           0.003657  \n",
       "38            0.614367           0.004147  \n",
       "53            0.611531           0.004016  \n",
       "35            0.611388           0.002935  \n",
       "26            0.609469           0.006699  \n",
       "44            0.610959           0.003647  \n",
       "31            0.602082           0.004541  \n",
       "49            0.602082           0.004541  \n",
       "28            0.601265           0.004182  \n",
       "46            0.601265           0.004182  \n",
       "40            0.600735           0.004674  \n",
       "58            0.600735           0.004674  \n",
       "37            0.600612           0.003656  \n",
       "55            0.600612           0.003656  \n",
       "34            0.599306           0.002956  \n",
       "52            0.599306           0.002956  \n",
       "25            0.597020           0.003641  \n",
       "43            0.597020           0.003641  \n",
       "30            0.595449           0.000848  \n",
       "48            0.595449           0.000848  \n",
       "39            0.594469           0.002078  \n",
       "57            0.594469           0.002078  \n",
       "36            0.595204           0.001493  \n",
       "54            0.595204           0.001493  \n",
       "27            0.594898           0.001490  \n",
       "45            0.594898           0.001490  \n",
       "33            0.594306           0.003353  \n",
       "51            0.594306           0.003353  \n",
       "24            0.592653           0.002275  \n",
       "42            0.592653           0.002275  "
      ]
     },
     "execution_count": 27,
     "metadata": {},
     "output_type": "execute_result"
    }
   ],
   "source": [
    "forest_grid_df = pd.DataFrame(forest_grid.cv_results_)\n",
    "forest_grid_df.sort_values(['mean_test_roc_auc', 'mean_test_accuracy'], ascending=False)[['mean_fit_time', 'mean_score_time', 'param_pca__n_components', 'param_forest__n_estimators', 'param_forest__min_samples_split', 'param_forest__max_features', 'mean_test_roc_auc', 'std_test_roc_auc', 'mean_test_accuracy', 'std_test_accuracy']]"
   ]
  },
  {
   "cell_type": "code",
   "execution_count": 42,
   "metadata": {},
   "outputs": [
    {
     "data": {
      "text/plain": [
       "(0.6766058411123146, 0.6766190476190476)"
      ]
     },
     "execution_count": 42,
     "metadata": {},
     "output_type": "execute_result"
    }
   ],
   "source": [
    "y_test_forest = forest_grid.predict_proba(X_test)[:,1]\n",
    "y_test_forest_05 = y_test_forest > 0.5\n",
    "(roc_auc_score(y_test, y_test_forest_05), accuracy_score(y_test, y_test_forest_05))"
   ]
  },
  {
   "cell_type": "markdown",
   "metadata": {},
   "source": [
    "#### Risco bayesiano\n",
    "\n",
    "Cálculo da razão de verossimilhança. Aqui fazemos a mesma assumpção do notebook que $\\mathcal{L}(x|Y=y) = \\hat p (y|x)$"
   ]
  },
  {
   "cell_type": "code",
   "execution_count": 72,
   "metadata": {},
   "outputs": [],
   "source": [
    "L_y_test_forest = y_test_forest / (1 - y_test_forest)\n",
    "L_y_test_forest_1 = (L_y_test_forest > 1)"
   ]
  },
  {
   "cell_type": "code",
   "execution_count": 73,
   "metadata": {},
   "outputs": [
    {
     "data": {
      "text/plain": [
       "(0.6766058411123146, 0.6766190476190476)"
      ]
     },
     "execution_count": 73,
     "metadata": {},
     "output_type": "execute_result"
    }
   ],
   "source": [
    "(roc_auc_score(y_test, L_y_test_forest_1), accuracy_score(y_test, L_y_test_forest_1))"
   ]
  },
  {
   "cell_type": "markdown",
   "metadata": {},
   "source": [
    "Disitribuição das classes no dado original:"
   ]
  },
  {
   "cell_type": "code",
   "execution_count": 81,
   "metadata": {},
   "outputs": [
    {
     "data": {
      "text/plain": [
       "0.49742857142857144"
      ]
     },
     "execution_count": 81,
     "metadata": {},
     "output_type": "execute_result"
    }
   ],
   "source": [
    "y_test.mean()"
   ]
  },
  {
   "cell_type": "markdown",
   "metadata": {},
   "source": [
    "Risco padrão: $\\eta = 1$\n",
    "\n",
    "No nosso caso, o problema é inerentemente simétrico. Como existem poucos pacientes transplantados no mesmo dia, podemos desconsiderá-los. Então, dados dois pacientes quaisquer $p$ e $q$, existe uma ordem absoluta entre $p$ e $q$ e a chance de aleatoriamente escolher $(p, q)$ é a mesma de escolher $(q, p)$. Logo, o problema é balanceado.\n",
    "\n",
    "Também podemos observar que um falso positivo para $(p, q)$ é equivalente a um falso negativo para $(q, p)$. Logo, os custos para falsos negativos e positivos devem serem os mesmos e, portanto, o limite bayesiano é igual ao risco padrão."
   ]
  },
  {
   "cell_type": "code",
   "execution_count": 74,
   "metadata": {},
   "outputs": [
    {
     "data": {
      "text/plain": [
       "0.49652380952380953"
      ]
     },
     "execution_count": 74,
     "metadata": {},
     "output_type": "execute_result"
    }
   ],
   "source": [
    "(L_y_test_forest > 1).mean()"
   ]
  },
  {
   "cell_type": "markdown",
   "metadata": {},
   "source": [
    "Abaixo, tentamos encontrar o limite que aproxima a distribuição de classes entre o dado original e o dado previsto"
   ]
  },
  {
   "cell_type": "code",
   "execution_count": 80,
   "metadata": {},
   "outputs": [
    {
     "data": {
      "text/plain": [
       "0.4989523809523809"
      ]
     },
     "execution_count": 80,
     "metadata": {},
     "output_type": "execute_result"
    }
   ],
   "source": [
    "(L_y_test_forest > 0.999).mean()"
   ]
  },
  {
   "cell_type": "code",
   "execution_count": 82,
   "metadata": {},
   "outputs": [
    {
     "data": {
      "text/plain": [
       "0.4989523809523809"
      ]
     },
     "execution_count": 82,
     "metadata": {},
     "output_type": "execute_result"
    }
   ],
   "source": [
    "(L_y_test_forest > 0.9999).mean()"
   ]
  },
  {
   "cell_type": "markdown",
   "metadata": {},
   "source": [
    "Como não existe alteração entre limite 0.999 e 0.9999 e com limite 1 obtemos uma distribuição menor que no dado original e limite 0.999 obtemos uma distribuição maior, estas são as melhores aproximações possíveis para a distibuição original."
   ]
  },
  {
   "cell_type": "markdown",
   "metadata": {},
   "source": [
    "### Calibração"
   ]
  },
  {
   "cell_type": "code",
   "execution_count": 39,
   "metadata": {},
   "outputs": [],
   "source": [
    "from sklearn.ensemble import RandomForestClassifier\n",
    "forest = RandomForestClassifier(n_estimators=200, max_features='log2')\n",
    "forest.fit(X_train, y_train)\n",
    "y_test_forest_2 = forest.predict_proba(X_test)[:,1]"
   ]
  },
  {
   "cell_type": "code",
   "execution_count": 30,
   "metadata": {},
   "outputs": [],
   "source": [
    "import matplotlib.pyplot as plt"
   ]
  },
  {
   "cell_type": "code",
   "execution_count": 40,
   "metadata": {},
   "outputs": [
    {
     "data": {
      "text/html": [
       "<style>#sk-container-id-3 {color: black;}#sk-container-id-3 pre{padding: 0;}#sk-container-id-3 div.sk-toggleable {background-color: white;}#sk-container-id-3 label.sk-toggleable__label {cursor: pointer;display: block;width: 100%;margin-bottom: 0;padding: 0.3em;box-sizing: border-box;text-align: center;}#sk-container-id-3 label.sk-toggleable__label-arrow:before {content: \"▸\";float: left;margin-right: 0.25em;color: #696969;}#sk-container-id-3 label.sk-toggleable__label-arrow:hover:before {color: black;}#sk-container-id-3 div.sk-estimator:hover label.sk-toggleable__label-arrow:before {color: black;}#sk-container-id-3 div.sk-toggleable__content {max-height: 0;max-width: 0;overflow: hidden;text-align: left;background-color: #f0f8ff;}#sk-container-id-3 div.sk-toggleable__content pre {margin: 0.2em;color: black;border-radius: 0.25em;background-color: #f0f8ff;}#sk-container-id-3 input.sk-toggleable__control:checked~div.sk-toggleable__content {max-height: 200px;max-width: 100%;overflow: auto;}#sk-container-id-3 input.sk-toggleable__control:checked~label.sk-toggleable__label-arrow:before {content: \"▾\";}#sk-container-id-3 div.sk-estimator input.sk-toggleable__control:checked~label.sk-toggleable__label {background-color: #d4ebff;}#sk-container-id-3 div.sk-label input.sk-toggleable__control:checked~label.sk-toggleable__label {background-color: #d4ebff;}#sk-container-id-3 input.sk-hidden--visually {border: 0;clip: rect(1px 1px 1px 1px);clip: rect(1px, 1px, 1px, 1px);height: 1px;margin: -1px;overflow: hidden;padding: 0;position: absolute;width: 1px;}#sk-container-id-3 div.sk-estimator {font-family: monospace;background-color: #f0f8ff;border: 1px dotted black;border-radius: 0.25em;box-sizing: border-box;margin-bottom: 0.5em;}#sk-container-id-3 div.sk-estimator:hover {background-color: #d4ebff;}#sk-container-id-3 div.sk-parallel-item::after {content: \"\";width: 100%;border-bottom: 1px solid gray;flex-grow: 1;}#sk-container-id-3 div.sk-label:hover label.sk-toggleable__label {background-color: #d4ebff;}#sk-container-id-3 div.sk-serial::before {content: \"\";position: absolute;border-left: 1px solid gray;box-sizing: border-box;top: 0;bottom: 0;left: 50%;z-index: 0;}#sk-container-id-3 div.sk-serial {display: flex;flex-direction: column;align-items: center;background-color: white;padding-right: 0.2em;padding-left: 0.2em;position: relative;}#sk-container-id-3 div.sk-item {position: relative;z-index: 1;}#sk-container-id-3 div.sk-parallel {display: flex;align-items: stretch;justify-content: center;background-color: white;position: relative;}#sk-container-id-3 div.sk-item::before, #sk-container-id-3 div.sk-parallel-item::before {content: \"\";position: absolute;border-left: 1px solid gray;box-sizing: border-box;top: 0;bottom: 0;left: 50%;z-index: -1;}#sk-container-id-3 div.sk-parallel-item {display: flex;flex-direction: column;z-index: 1;position: relative;background-color: white;}#sk-container-id-3 div.sk-parallel-item:first-child::after {align-self: flex-end;width: 50%;}#sk-container-id-3 div.sk-parallel-item:last-child::after {align-self: flex-start;width: 50%;}#sk-container-id-3 div.sk-parallel-item:only-child::after {width: 0;}#sk-container-id-3 div.sk-dashed-wrapped {border: 1px dashed gray;margin: 0 0.4em 0.5em 0.4em;box-sizing: border-box;padding-bottom: 0.4em;background-color: white;}#sk-container-id-3 div.sk-label label {font-family: monospace;font-weight: bold;display: inline-block;line-height: 1.2em;}#sk-container-id-3 div.sk-label-container {text-align: center;}#sk-container-id-3 div.sk-container {/* jupyter's `normalize.less` sets `[hidden] { display: none; }` but bootstrap.min.css set `[hidden] { display: none !important; }` so we also need the `!important` here to be able to override the default hidden behavior on the sphinx rendered scikit-learn.org. See: https://github.com/scikit-learn/scikit-learn/issues/21755 */display: inline-block !important;position: relative;}#sk-container-id-3 div.sk-text-repr-fallback {display: none;}</style><div id=\"sk-container-id-3\" class=\"sk-top-container\"><div class=\"sk-text-repr-fallback\"><pre>LogisticRegression()</pre><b>In a Jupyter environment, please rerun this cell to show the HTML representation or trust the notebook. <br />On GitHub, the HTML representation is unable to render, please try loading this page with nbviewer.org.</b></div><div class=\"sk-container\" hidden><div class=\"sk-item\"><div class=\"sk-estimator sk-toggleable\"><input class=\"sk-toggleable__control sk-hidden--visually\" id=\"sk-estimator-id-3\" type=\"checkbox\" checked><label for=\"sk-estimator-id-3\" class=\"sk-toggleable__label sk-toggleable__label-arrow\">LogisticRegression</label><div class=\"sk-toggleable__content\"><pre>LogisticRegression()</pre></div></div></div></div></div>"
      ],
      "text/plain": [
       "LogisticRegression()"
      ]
     },
     "execution_count": 40,
     "metadata": {},
     "output_type": "execute_result"
    }
   ],
   "source": [
    "from sklearn.linear_model import LogisticRegression\n",
    "lr = LogisticRegression()\n",
    "lr.fit(y_test_forest_2.reshape(-1,1), y_test)"
   ]
  },
  {
   "cell_type": "code",
   "execution_count": 42,
   "metadata": {},
   "outputs": [
    {
     "name": "stdout",
     "output_type": "stream",
     "text": [
      "Brier score original 0.2155463261904762\n",
      "Brier score pós-calibração 0.2094233056585323\n"
     ]
    },
    {
     "data": {
      "image/png": "[encoded data removed]",
      "text/plain": [
       "<Figure size 1000x400 with 1 Axes>"
      ]
     },
     "metadata": {},
     "output_type": "display_data"
    }
   ],
   "source": [
    "from sklearn.metrics import brier_score_loss\n",
    "pred_probs_space = np.linspace(y_test_forest_2.min(), y_test_forest_2.max(), 20)\n",
    "\n",
    "empirical_probs = []\n",
    "pred_probs_midpoints = []\n",
    "\n",
    "for i in range(len(pred_probs_space)-1):\n",
    "    empirical_probs.append(np.mean(y_test[(y_test_forest_2 > pred_probs_space[i]) & (y_test_forest_2 < pred_probs_space[i+1])]))\n",
    "    pred_probs_midpoints.append((pred_probs_space[i] + pred_probs_space[i+1])/2)\n",
    "\n",
    "\n",
    "calibrated_probs = lr.predict_proba(np.array([0.0]+pred_probs_midpoints+[1.0]).reshape(-1,1))[:,1]\n",
    "print('Brier score original', brier_score_loss(y_test, y_test_forest_2.reshape(-1,1)))\n",
    "print('Brier score pós-calibração', brier_score_loss(y_test, lr.predict_proba(y_test_forest_2.reshape(-1,1))[:,1]))\n",
    "\n",
    "plt.figure(figsize=(10,4))\n",
    "plt.scatter(pred_probs_midpoints, empirical_probs, marker='o')\n",
    "# plt.title(f\"{model_str}\", fontsize=20)\n",
    "plt.xlabel('predicted prob', fontsize=14)\n",
    "plt.ylabel('empirical prob', fontsize=14)\n",
    "\n",
    "plt.plot([0,1],[0,1],linestyle='--',color='gray')\n",
    "plt.scatter([0.0]+pred_probs_midpoints+[1.0], calibrated_probs, linewidth=2, marker='x')\n",
    "\n",
    "plt.legend(['original', 'ideal', 'calibrado'], fontsize=20)\n",
    "plt.show()"
   ]
  },
  {
   "cell_type": "code",
   "execution_count": null,
   "metadata": {},
   "outputs": [],
   "source": []
  }
 ],
 "metadata": {
  "kernelspec": {
   "display_name": "Python 3",
   "language": "python",
   "name": "python3"
  },
  "language_info": {
   "codemirror_mode": {
    "name": "ipython",
    "version": 3
   },
   "file_extension": ".py",
   "mimetype": "text/x-python",
   "name": "python",
   "nbconvert_exporter": "python",
   "pygments_lexer": "ipython3",
   "version": "3.11.5"
  }
 },
 "nbformat": 4,
 "nbformat_minor": 2
}
